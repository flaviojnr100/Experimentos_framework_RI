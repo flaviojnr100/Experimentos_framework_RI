{
 "cells": [
  {
   "cell_type": "code",
   "execution_count": 1,
   "id": "7f97e041",
   "metadata": {},
   "outputs": [
    {
     "name": "stderr",
     "output_type": "stream",
     "text": [
      "[nltk_data] Downloading package stopwords to\n",
      "[nltk_data]     C:\\Users\\Flavio\\AppData\\Roaming\\nltk_data...\n",
      "[nltk_data]   Package stopwords is already up-to-date!\n",
      "[nltk_data] Downloading package punkt to\n",
      "[nltk_data]     C:\\Users\\Flavio\\AppData\\Roaming\\nltk_data...\n",
      "[nltk_data]   Package punkt is already up-to-date!\n",
      "[nltk_data] Downloading package rslp to\n",
      "[nltk_data]     C:\\Users\\Flavio\\AppData\\Roaming\\nltk_data...\n",
      "[nltk_data]   Package rslp is already up-to-date!\n"
     ]
    }
   ],
   "source": [
    "from sentence_transformers import SentenceTransformer, util\n",
    "from transformers import BertTokenizer\n",
    "import pandas as pd\n",
    "import numpy as np\n",
    "import nltk\n",
    "import math\n",
    "from joblib import Parallel, delayed\n",
    "\n",
    "nltk.download('stopwords')\n",
    "nltk.download('punkt')\n",
    "nltk.download('rslp')\n",
    "\n",
    "from nltk.tokenize import word_tokenize\n",
    "from string import punctuation\n",
    "import nltk\n",
    "from unicodedata import normalize\n",
    "from nltk.stem import RSLPStemmer\n",
    "from nltk.util import ngrams\n",
    "from nltk.tokenize import RegexpTokenizer\n",
    "\n",
    "import torch\n",
    "import time\n"
   ]
  },
  {
   "cell_type": "code",
   "execution_count": 2,
   "id": "c5e0d706",
   "metadata": {},
   "outputs": [],
   "source": [
    "df_assunto= pd.read_table(\"dados-conle-anonimizado-assunto-notnull - dados-conle-anonimizado-assunto-notnull.tsv\",sep=\";\")"
   ]
  },
  {
   "cell_type": "code",
   "execution_count": 3,
   "id": "e63cfc77",
   "metadata": {},
   "outputs": [],
   "source": [
    "base = pd.read_csv(\"base_20230428_douglas.csv\", sep=',')"
   ]
  },
  {
   "cell_type": "code",
   "execution_count": 48,
   "id": "96fc892c",
   "metadata": {},
   "outputs": [],
   "source": [
    "model = SentenceTransformer('sentence-transformers/all-mpnet-base-v2')"
   ]
  },
  {
   "cell_type": "code",
   "execution_count": 49,
   "id": "5e567837",
   "metadata": {},
   "outputs": [],
   "source": [
    "arr_assunto = df_assunto.to_numpy()\n",
    "y,X = arr_assunto[:,0],arr_assunto[:,1]\n",
    "y = [i.strip() for i in y]"
   ]
  },
  {
   "cell_type": "code",
   "execution_count": 50,
   "id": "f9912055",
   "metadata": {},
   "outputs": [],
   "source": [
    "device_gpu = torch.device(\"cuda\")"
   ]
  },
  {
   "cell_type": "markdown",
   "id": "e1bfefdc",
   "metadata": {},
   "source": [
    "## Search"
   ]
  },
  {
   "cell_type": "code",
   "execution_count": 51,
   "id": "5742acfd",
   "metadata": {},
   "outputs": [],
   "source": [
    "def search(query, data_emb,base,top_k=20):\n",
    "    #hits = util.semantic_search(query_emb,data,top_k=k)\n",
    "    query_emb = model.encode(query,convert_to_tensor=True,device=device_gpu)\n",
    "    hits = util.cos_sim(query_emb,data_emb)[0]\n",
    "    rank = torch.topk(hits, k=top_k)\n",
    "    \n",
    "    \n",
    "    top_n = list()\n",
    "    for i in range(top_k):\n",
    "        dado = dict()\n",
    "        dado['txtNome'] = base.iloc[rank.indices[i].item(),4]\n",
    "        dado['score'] = rank.values[i].item()\n",
    "        top_n.append(dado)\n",
    "    return top_n\n",
    "    "
   ]
  },
  {
   "cell_type": "markdown",
   "id": "afde7a79",
   "metadata": {},
   "source": [
    "## Recall"
   ]
  },
  {
   "cell_type": "code",
   "execution_count": 52,
   "id": "31624c0a",
   "metadata": {},
   "outputs": [],
   "source": [
    "def verificar(y,top_n):\n",
    "    for d in top_n:\n",
    "        if y == d[\"txtNome\"]:\n",
    "            return 1\n",
    "    return 0"
   ]
  },
  {
   "cell_type": "code",
   "execution_count": 53,
   "id": "a1f4ee94",
   "metadata": {},
   "outputs": [],
   "source": [
    "def avaliacaoRecall(isPre,top_k=20):\n",
    "\n",
    "    quant_encontrado=0\n",
    "    quant_relevante =0\n",
    "    a = time.time()\n",
    "    for l,x in zip(y,X):\n",
    "    \n",
    "        query_tokenized = x\n",
    "        if isPre:\n",
    "            query_tokenized = preprocess(x)\n",
    "            \n",
    "        top_n = search(query_tokenized,data_emb,base,top_k)\n",
    "                \n",
    "        quant_relevante+=1\n",
    "        quant_encontrado+=verificar(l,top_n)\n",
    "    d = time.time()\n",
    "    print(\"Duração: %f\" %(d-a))\n",
    "    recall = quant_encontrado / quant_relevante\n",
    "    print(\"Recall: \"+str(recall))"
   ]
  },
  {
   "cell_type": "code",
   "execution_count": 54,
   "id": "6b3f5db7",
   "metadata": {},
   "outputs": [],
   "source": [
    "def avaliacaoRR(isPre):\n",
    "\n",
    "    quant_encontrado=0\n",
    "    for l,x in zip(y,X):\n",
    "    \n",
    "        query_tokenized = x\n",
    "        if isPre:\n",
    "            query_tokenized = preprocess(x)\n",
    "            \n",
    "        top_n = search(query_tokenized,data_emb,base)\n",
    "        if top_n[0][\"txtNome\"].strip() == l.strip():\n",
    "            quant_encontrado+=1\n",
    "    rr = quant_encontrado / 295\n",
    "    print(\"RR: %f\" % (rr))"
   ]
  },
  {
   "cell_type": "code",
   "execution_count": 55,
   "id": "3741b110",
   "metadata": {},
   "outputs": [],
   "source": [
    "def avaliacaoPrecision(isPre,top_k=20):\n",
    "\n",
    "    soma=0\n",
    "    for l,x in zip(y,X):\n",
    "    \n",
    "        query_tokenized = x\n",
    "        if isPre:\n",
    "            query_tokenized = preprocess(x)\n",
    "            \n",
    "        top_n = search(query_tokenized,data_emb,base,top_k)\n",
    "        encontrado=verificar(l,top_n)\n",
    "        soma+=(encontrado/top_k)\n",
    "    precision = soma / 295\n",
    "    print(\"Precision: \"+str(precision))"
   ]
  },
  {
   "cell_type": "code",
   "execution_count": 56,
   "id": "29b0b410",
   "metadata": {},
   "outputs": [],
   "source": [
    "def avaliacaoMAP(isPre,top_k=20):\n",
    "    l_v = list()\n",
    "    labels_nsL = list()\n",
    "    \n",
    "    for l,x in zip(y,X):\n",
    "    \n",
    "        query_tokenized = x\n",
    "        if isPre:\n",
    "            query_tokenized = preprocess(x)\n",
    "            \n",
    "        top_n = search(query_tokenized,data_emb,base,top_k)\n",
    "        l_v.append(l)\n",
    "        labels_nsL.append([doc[\"txtNome\"] for doc in top_n])\n",
    "        \n",
    "    denominador = 0\n",
    "    encontrou=False\n",
    "    soma=0\n",
    "    for Y,x in zip(l_v,labels_nsL):\n",
    "        calc = 0\n",
    "        quant=0\n",
    "        for k in x:\n",
    "            if str(k).strip() == Y.strip():\n",
    "                quant=1\n",
    "                encontrou=True\n",
    "            denominador+=1\n",
    "            calc=quant/denominador\n",
    "            if encontrou:\n",
    "                calc = calc * 1\n",
    "            else:\n",
    "                calc = calc * 0\n",
    "            soma+=calc\n",
    "            encontrou = False\n",
    "    MAP = soma /295\n",
    "    print(\"MAP@ %d: %f\" % (top_k,MAP))"
   ]
  },
  {
   "cell_type": "code",
   "execution_count": 8,
   "id": "ec6bc94b",
   "metadata": {},
   "outputs": [],
   "source": [
    "data = base.txtInteiroTeor.fillna(\"Em branco\")        # Trocar com nome da coluna desejada"
   ]
  },
  {
   "cell_type": "markdown",
   "id": "eef7cc0e",
   "metadata": {},
   "source": [
    "## Config 1"
   ]
  },
  {
   "cell_type": "code",
   "execution_count": 206,
   "id": "52505068",
   "metadata": {},
   "outputs": [],
   "source": [
    "a = time.time()"
   ]
  },
  {
   "cell_type": "code",
   "execution_count": 207,
   "id": "a03449ff",
   "metadata": {},
   "outputs": [],
   "source": [
    "data_emb = model.encode(data,convert_to_tensor=True,device=device_gpu)"
   ]
  },
  {
   "cell_type": "code",
   "execution_count": 208,
   "id": "52c9485f",
   "metadata": {},
   "outputs": [],
   "source": [
    "d = time.time()"
   ]
  },
  {
   "cell_type": "code",
   "execution_count": 209,
   "id": "cd413241",
   "metadata": {},
   "outputs": [
    {
     "name": "stdout",
     "output_type": "stream",
     "text": [
      "Duração da indexação: 12465.452593\n"
     ]
    }
   ],
   "source": [
    "print(\"Duração da indexação: %f\" % (d-a))"
   ]
  },
  {
   "cell_type": "markdown",
   "id": "4eb40e59",
   "metadata": {},
   "source": [
    "## Avaliação"
   ]
  },
  {
   "cell_type": "markdown",
   "id": "be026553",
   "metadata": {},
   "source": [
    "### Recall"
   ]
  },
  {
   "cell_type": "code",
   "execution_count": 210,
   "id": "c9f02aeb",
   "metadata": {},
   "outputs": [
    {
     "name": "stdout",
     "output_type": "stream",
     "text": [
      "Duração: 56.103000\n",
      "Recall: 0.1694915254237288\n"
     ]
    }
   ],
   "source": [
    "avaliacaoRecall(False,top_k=5)"
   ]
  },
  {
   "cell_type": "code",
   "execution_count": 211,
   "id": "0d0eda4b",
   "metadata": {},
   "outputs": [
    {
     "name": "stdout",
     "output_type": "stream",
     "text": [
      "Duração: 76.820997\n",
      "Recall: 0.18305084745762712\n"
     ]
    }
   ],
   "source": [
    "avaliacaoRecall(False,top_k=10)"
   ]
  },
  {
   "cell_type": "code",
   "execution_count": 212,
   "id": "20fea0ca",
   "metadata": {},
   "outputs": [
    {
     "name": "stdout",
     "output_type": "stream",
     "text": [
      "Duração: 116.990002\n",
      "Recall: 0.23728813559322035\n"
     ]
    }
   ],
   "source": [
    "avaliacaoRecall(False,top_k=20)"
   ]
  },
  {
   "cell_type": "markdown",
   "id": "662f28cb",
   "metadata": {},
   "source": [
    "### MAP"
   ]
  },
  {
   "cell_type": "code",
   "execution_count": 213,
   "id": "f9c9743a",
   "metadata": {},
   "outputs": [
    {
     "name": "stdout",
     "output_type": "stream",
     "text": [
      "MAP@ 5: 0.000664\n"
     ]
    }
   ],
   "source": [
    "avaliacaoMAP(False,top_k=5)"
   ]
  },
  {
   "cell_type": "code",
   "execution_count": 214,
   "id": "3a167ea2",
   "metadata": {},
   "outputs": [
    {
     "name": "stdout",
     "output_type": "stream",
     "text": [
      "MAP@ 10: 0.000367\n"
     ]
    }
   ],
   "source": [
    "avaliacaoMAP(False,top_k=10)"
   ]
  },
  {
   "cell_type": "code",
   "execution_count": 215,
   "id": "f71bfa18",
   "metadata": {},
   "outputs": [
    {
     "name": "stdout",
     "output_type": "stream",
     "text": [
      "MAP@ 20: 0.000259\n"
     ]
    }
   ],
   "source": [
    "avaliacaoMAP(False,top_k=20)"
   ]
  },
  {
   "cell_type": "markdown",
   "id": "2ed26cf7",
   "metadata": {},
   "source": [
    "### Precision"
   ]
  },
  {
   "cell_type": "code",
   "execution_count": 216,
   "id": "661a852c",
   "metadata": {},
   "outputs": [
    {
     "name": "stdout",
     "output_type": "stream",
     "text": [
      "Precision: 0.03389830508474575\n"
     ]
    }
   ],
   "source": [
    "avaliacaoPrecision(False,top_k=5)"
   ]
  },
  {
   "cell_type": "code",
   "execution_count": 217,
   "id": "dd3725fe",
   "metadata": {},
   "outputs": [
    {
     "name": "stdout",
     "output_type": "stream",
     "text": [
      "Precision: 0.0183050847457627\n"
     ]
    }
   ],
   "source": [
    "avaliacaoPrecision(False,top_k=10)"
   ]
  },
  {
   "cell_type": "code",
   "execution_count": 218,
   "id": "0ffd0d77",
   "metadata": {},
   "outputs": [
    {
     "name": "stdout",
     "output_type": "stream",
     "text": [
      "Precision: 0.011864406779661002\n"
     ]
    }
   ],
   "source": [
    "avaliacaoPrecision(False,top_k=20)"
   ]
  },
  {
   "cell_type": "markdown",
   "id": "549af05f",
   "metadata": {},
   "source": [
    "### RR"
   ]
  },
  {
   "cell_type": "code",
   "execution_count": 219,
   "id": "13363d47",
   "metadata": {},
   "outputs": [
    {
     "name": "stdout",
     "output_type": "stream",
     "text": [
      "RR: 0.098305\n"
     ]
    }
   ],
   "source": [
    "avaliacaoRR(False)"
   ]
  },
  {
   "cell_type": "markdown",
   "id": "6ac5a4d3",
   "metadata": {},
   "source": [
    "## Config 5"
   ]
  },
  {
   "cell_type": "code",
   "execution_count": 220,
   "id": "be19b10b",
   "metadata": {},
   "outputs": [],
   "source": [
    "def _remove_acentos(txt):\n",
    "    return normalize('NFKD', txt).encode('ASCII', 'ignore').decode('ASCII')\n",
    "\n",
    "def preprocess(txt):\n",
    "    txt = str(txt)\n",
    "    txt = _remove_acentos(txt)\n",
    "    stopwords = nltk.corpus.stopwords.words(\"portuguese\")\n",
    "    stopwords.extend(list(punctuation))\n",
    "    tokenizer = RegexpTokenizer('\\w+')\n",
    "    terms = tokenizer.tokenize(txt.lower())\n",
    "    terms = [word for word in terms if word not in stopwords]\n",
    "\n",
    "    return \" \".join(terms)"
   ]
  },
  {
   "cell_type": "code",
   "execution_count": 221,
   "id": "aca05c42",
   "metadata": {},
   "outputs": [],
   "source": [
    "data_preprocess = Parallel(n_jobs=4)(delayed(preprocess)(doc) for doc in data)"
   ]
  },
  {
   "cell_type": "code",
   "execution_count": 222,
   "id": "889735f9",
   "metadata": {},
   "outputs": [],
   "source": [
    "a = time.time()"
   ]
  },
  {
   "cell_type": "code",
   "execution_count": 223,
   "id": "bbd3a3af",
   "metadata": {},
   "outputs": [],
   "source": [
    "data_emb = model.encode(data,convert_to_tensor=True,device=device_gpu)"
   ]
  },
  {
   "cell_type": "code",
   "execution_count": 224,
   "id": "edecbb0c",
   "metadata": {},
   "outputs": [],
   "source": [
    "d = time.time()"
   ]
  },
  {
   "cell_type": "code",
   "execution_count": 225,
   "id": "d5662e0e",
   "metadata": {},
   "outputs": [
    {
     "name": "stdout",
     "output_type": "stream",
     "text": [
      "Duração da indexação: 10923.973001\n"
     ]
    }
   ],
   "source": [
    "print(\"Duração da indexação: %f\" % (d-a))"
   ]
  },
  {
   "cell_type": "markdown",
   "id": "5808dbe8",
   "metadata": {},
   "source": [
    "## Avaliação"
   ]
  },
  {
   "cell_type": "markdown",
   "id": "719ac98f",
   "metadata": {},
   "source": [
    "### Recall"
   ]
  },
  {
   "cell_type": "code",
   "execution_count": 226,
   "id": "b7267b6a",
   "metadata": {},
   "outputs": [
    {
     "name": "stdout",
     "output_type": "stream",
     "text": [
      "Duração: 32.697996\n",
      "Recall: 0.1288135593220339\n"
     ]
    }
   ],
   "source": [
    "avaliacaoRecall(True,top_k=5)"
   ]
  },
  {
   "cell_type": "code",
   "execution_count": 227,
   "id": "bd186bdc",
   "metadata": {},
   "outputs": [
    {
     "name": "stdout",
     "output_type": "stream",
     "text": [
      "Duração: 31.463001\n",
      "Recall: 0.15932203389830507\n"
     ]
    }
   ],
   "source": [
    "avaliacaoRecall(True,top_k=10)"
   ]
  },
  {
   "cell_type": "code",
   "execution_count": 228,
   "id": "02170f60",
   "metadata": {},
   "outputs": [
    {
     "name": "stdout",
     "output_type": "stream",
     "text": [
      "Duração: 33.885997\n",
      "Recall: 0.2033898305084746\n"
     ]
    }
   ],
   "source": [
    "avaliacaoRecall(True,top_k=20)"
   ]
  },
  {
   "cell_type": "markdown",
   "id": "bbad95f2",
   "metadata": {},
   "source": [
    "### MAP"
   ]
  },
  {
   "cell_type": "code",
   "execution_count": 229,
   "id": "b9d39c43",
   "metadata": {},
   "outputs": [
    {
     "name": "stdout",
     "output_type": "stream",
     "text": [
      "MAP@ 5: 0.000349\n"
     ]
    }
   ],
   "source": [
    "avaliacaoMAP(True,top_k=5)"
   ]
  },
  {
   "cell_type": "code",
   "execution_count": 230,
   "id": "066d80b3",
   "metadata": {},
   "outputs": [
    {
     "name": "stdout",
     "output_type": "stream",
     "text": [
      "MAP@ 10: 0.000207\n"
     ]
    }
   ],
   "source": [
    "avaliacaoMAP(True,top_k=10)"
   ]
  },
  {
   "cell_type": "code",
   "execution_count": 231,
   "id": "3ee07804",
   "metadata": {},
   "outputs": [
    {
     "name": "stdout",
     "output_type": "stream",
     "text": [
      "MAP@ 20: 0.000206\n"
     ]
    }
   ],
   "source": [
    "avaliacaoMAP(True,top_k=20)"
   ]
  },
  {
   "cell_type": "markdown",
   "id": "9974b790",
   "metadata": {},
   "source": [
    "### Precision"
   ]
  },
  {
   "cell_type": "code",
   "execution_count": 232,
   "id": "ad8b8947",
   "metadata": {},
   "outputs": [
    {
     "name": "stdout",
     "output_type": "stream",
     "text": [
      "Precision: 0.025762711864406793\n"
     ]
    }
   ],
   "source": [
    "avaliacaoPrecision(True,top_k=5)"
   ]
  },
  {
   "cell_type": "code",
   "execution_count": 233,
   "id": "9e05856d",
   "metadata": {},
   "outputs": [
    {
     "name": "stdout",
     "output_type": "stream",
     "text": [
      "Precision: 0.015932203389830507\n"
     ]
    }
   ],
   "source": [
    "avaliacaoPrecision(True,top_k=10)"
   ]
  },
  {
   "cell_type": "code",
   "execution_count": 234,
   "id": "8da3212d",
   "metadata": {},
   "outputs": [
    {
     "name": "stdout",
     "output_type": "stream",
     "text": [
      "Precision: 0.01016949152542372\n"
     ]
    }
   ],
   "source": [
    "avaliacaoPrecision(True,top_k=20)"
   ]
  },
  {
   "cell_type": "markdown",
   "id": "f2e22a90",
   "metadata": {},
   "source": [
    "### RR"
   ]
  },
  {
   "cell_type": "code",
   "execution_count": 235,
   "id": "a144dd2d",
   "metadata": {},
   "outputs": [
    {
     "name": "stdout",
     "output_type": "stream",
     "text": [
      "RR: 0.071186\n"
     ]
    }
   ],
   "source": [
    "avaliacaoRR(True)"
   ]
  },
  {
   "cell_type": "markdown",
   "id": "57912237",
   "metadata": {},
   "source": [
    "## Config 0"
   ]
  },
  {
   "cell_type": "code",
   "execution_count": 9,
   "id": "bb3b955d",
   "metadata": {},
   "outputs": [],
   "source": [
    "def preprocess(txt):\n",
    "    txt = str(txt)\n",
    "    \n",
    "    stopwords = nltk.corpus.stopwords.words(\"portuguese\")\n",
    "   \n",
    "    terms = word_tokenize(txt)\n",
    "    terms = [word for word in terms if word not in stopwords]\n",
    "        \n",
    "    return \" \".join(terms)"
   ]
  },
  {
   "cell_type": "code",
   "execution_count": 10,
   "id": "a0dcb7f3",
   "metadata": {},
   "outputs": [],
   "source": [
    "a = time.time()"
   ]
  },
  {
   "cell_type": "code",
   "execution_count": 11,
   "id": "acda46ee",
   "metadata": {},
   "outputs": [],
   "source": [
    "data_preprocess = [preprocess(doc) for doc in data]"
   ]
  },
  {
   "cell_type": "code",
   "execution_count": 12,
   "id": "4d71d15b",
   "metadata": {},
   "outputs": [],
   "source": [
    "d = time.time()"
   ]
  },
  {
   "cell_type": "code",
   "execution_count": 13,
   "id": "342560ae",
   "metadata": {},
   "outputs": [
    {
     "name": "stdout",
     "output_type": "stream",
     "text": [
      "Duração: 456.541593\n"
     ]
    }
   ],
   "source": [
    "print(\"Duração: %f\" %(d-a))"
   ]
  },
  {
   "cell_type": "code",
   "execution_count": 238,
   "id": "ab064f1e",
   "metadata": {},
   "outputs": [],
   "source": [
    "a = time.time()"
   ]
  },
  {
   "cell_type": "code",
   "execution_count": 239,
   "id": "e387a878",
   "metadata": {},
   "outputs": [],
   "source": [
    "data_emb = model.encode(data,convert_to_tensor=True,device=device_gpu)"
   ]
  },
  {
   "cell_type": "code",
   "execution_count": 240,
   "id": "a4343c36",
   "metadata": {},
   "outputs": [],
   "source": [
    "d = time.time()"
   ]
  },
  {
   "cell_type": "code",
   "execution_count": 241,
   "id": "29f406f4",
   "metadata": {},
   "outputs": [
    {
     "name": "stdout",
     "output_type": "stream",
     "text": [
      "Duração da indexação: 5184.954164\n"
     ]
    }
   ],
   "source": [
    "print(\"Duração da indexação: %f\" % (d-a))"
   ]
  },
  {
   "cell_type": "markdown",
   "id": "5e4ce02b",
   "metadata": {},
   "source": [
    "## Avaliação"
   ]
  },
  {
   "cell_type": "markdown",
   "id": "afb77082",
   "metadata": {},
   "source": [
    "### Recall"
   ]
  },
  {
   "cell_type": "code",
   "execution_count": 242,
   "id": "7b0cc79e",
   "metadata": {},
   "outputs": [
    {
     "name": "stdout",
     "output_type": "stream",
     "text": [
      "Duração: 12.970999\n",
      "Recall: 0.16271186440677965\n"
     ]
    }
   ],
   "source": [
    "avaliacaoRecall(True,top_k=5)"
   ]
  },
  {
   "cell_type": "code",
   "execution_count": 243,
   "id": "50ca3b4d",
   "metadata": {},
   "outputs": [
    {
     "name": "stdout",
     "output_type": "stream",
     "text": [
      "Duração: 13.103000\n",
      "Recall: 0.18983050847457628\n"
     ]
    }
   ],
   "source": [
    "avaliacaoRecall(True,top_k=10)"
   ]
  },
  {
   "cell_type": "code",
   "execution_count": 244,
   "id": "45e94daf",
   "metadata": {},
   "outputs": [
    {
     "name": "stdout",
     "output_type": "stream",
     "text": [
      "Duração: 13.480998\n",
      "Recall: 0.22372881355932203\n"
     ]
    }
   ],
   "source": [
    "avaliacaoRecall(True,top_k=20)"
   ]
  },
  {
   "cell_type": "markdown",
   "id": "3a854098",
   "metadata": {},
   "source": [
    "### MAP"
   ]
  },
  {
   "cell_type": "code",
   "execution_count": 245,
   "id": "6d0f06e7",
   "metadata": {},
   "outputs": [
    {
     "name": "stdout",
     "output_type": "stream",
     "text": [
      "MAP@ 5: 0.000432\n"
     ]
    }
   ],
   "source": [
    "avaliacaoMAP(True,top_k=5)"
   ]
  },
  {
   "cell_type": "code",
   "execution_count": 246,
   "id": "4af134c5",
   "metadata": {},
   "outputs": [
    {
     "name": "stdout",
     "output_type": "stream",
     "text": [
      "MAP@ 10: 0.000264\n"
     ]
    }
   ],
   "source": [
    "avaliacaoMAP(True,top_k=10)"
   ]
  },
  {
   "cell_type": "code",
   "execution_count": 247,
   "id": "0020fc25",
   "metadata": {},
   "outputs": [
    {
     "name": "stdout",
     "output_type": "stream",
     "text": [
      "MAP@ 20: 0.000230\n"
     ]
    }
   ],
   "source": [
    "avaliacaoMAP(True,top_k=20)"
   ]
  },
  {
   "cell_type": "markdown",
   "id": "288c616d",
   "metadata": {},
   "source": [
    "### Precision"
   ]
  },
  {
   "cell_type": "code",
   "execution_count": 248,
   "id": "997153ea",
   "metadata": {},
   "outputs": [
    {
     "name": "stdout",
     "output_type": "stream",
     "text": [
      "Precision: 0.032542372881355926\n"
     ]
    }
   ],
   "source": [
    "avaliacaoPrecision(True,top_k=5)"
   ]
  },
  {
   "cell_type": "code",
   "execution_count": 249,
   "id": "028a1fe9",
   "metadata": {},
   "outputs": [
    {
     "name": "stdout",
     "output_type": "stream",
     "text": [
      "Precision: 0.018983050847457612\n"
     ]
    }
   ],
   "source": [
    "avaliacaoPrecision(True,top_k=10)"
   ]
  },
  {
   "cell_type": "code",
   "execution_count": 250,
   "id": "6cdedf98",
   "metadata": {},
   "outputs": [
    {
     "name": "stdout",
     "output_type": "stream",
     "text": [
      "Precision: 0.011186440677966088\n"
     ]
    }
   ],
   "source": [
    "avaliacaoPrecision(True,top_k=20)"
   ]
  },
  {
   "cell_type": "markdown",
   "id": "cb8cee36",
   "metadata": {},
   "source": [
    "### RR"
   ]
  },
  {
   "cell_type": "code",
   "execution_count": 251,
   "id": "2155e75d",
   "metadata": {},
   "outputs": [
    {
     "name": "stdout",
     "output_type": "stream",
     "text": [
      "RR: 0.101695\n"
     ]
    }
   ],
   "source": [
    "avaliacaoRR(True)"
   ]
  },
  {
   "cell_type": "markdown",
   "id": "55cd71bb",
   "metadata": {},
   "source": [
    "# TxtEmenta"
   ]
  },
  {
   "cell_type": "code",
   "execution_count": 58,
   "id": "363269ea",
   "metadata": {},
   "outputs": [],
   "source": [
    "data = base.txtEmenta.fillna(\"Em branco\")"
   ]
  },
  {
   "cell_type": "markdown",
   "id": "0e348662",
   "metadata": {},
   "source": [
    "## Config 1"
   ]
  },
  {
   "cell_type": "code",
   "execution_count": 59,
   "id": "db28c0cb",
   "metadata": {},
   "outputs": [],
   "source": [
    "a = time.time()"
   ]
  },
  {
   "cell_type": "code",
   "execution_count": 60,
   "id": "5afb6ae7",
   "metadata": {},
   "outputs": [],
   "source": [
    "data_emb = model.encode(data,convert_to_tensor=True,device=device_gpu)"
   ]
  },
  {
   "cell_type": "code",
   "execution_count": 61,
   "id": "97501ed4",
   "metadata": {},
   "outputs": [],
   "source": [
    "d = time.time()"
   ]
  },
  {
   "cell_type": "code",
   "execution_count": 62,
   "id": "980bc41f",
   "metadata": {},
   "outputs": [
    {
     "name": "stdout",
     "output_type": "stream",
     "text": [
      "Duração da indexação: 616.850995\n"
     ]
    }
   ],
   "source": [
    "print(\"Duração da indexação: %f\" % (d-a))"
   ]
  },
  {
   "cell_type": "markdown",
   "id": "9ba72702",
   "metadata": {},
   "source": [
    "## Avaliação"
   ]
  },
  {
   "cell_type": "markdown",
   "id": "d07196fd",
   "metadata": {},
   "source": [
    "### Recall"
   ]
  },
  {
   "cell_type": "code",
   "execution_count": 63,
   "id": "ae0951e0",
   "metadata": {},
   "outputs": [
    {
     "name": "stdout",
     "output_type": "stream",
     "text": [
      "Duração: 17.036998\n",
      "Recall: 0.2135593220338983\n"
     ]
    }
   ],
   "source": [
    "avaliacaoRecall(False,top_k=5)"
   ]
  },
  {
   "cell_type": "code",
   "execution_count": 64,
   "id": "0cbfe34a",
   "metadata": {},
   "outputs": [
    {
     "name": "stdout",
     "output_type": "stream",
     "text": [
      "Duração: 16.621999\n",
      "Recall: 0.24745762711864408\n"
     ]
    }
   ],
   "source": [
    "avaliacaoRecall(False,top_k=10)"
   ]
  },
  {
   "cell_type": "code",
   "execution_count": 65,
   "id": "f0a50ab2",
   "metadata": {},
   "outputs": [
    {
     "name": "stdout",
     "output_type": "stream",
     "text": [
      "Duração: 17.825998\n",
      "Recall: 0.3050847457627119\n"
     ]
    }
   ],
   "source": [
    "avaliacaoRecall(False,top_k=20)"
   ]
  },
  {
   "cell_type": "markdown",
   "id": "285e5dd3",
   "metadata": {},
   "source": [
    "### MAP"
   ]
  },
  {
   "cell_type": "code",
   "execution_count": 66,
   "id": "55b2c7ac",
   "metadata": {},
   "outputs": [
    {
     "name": "stdout",
     "output_type": "stream",
     "text": [
      "MAP@ 5: 0.000931\n"
     ]
    }
   ],
   "source": [
    "avaliacaoMAP(False,top_k=5)"
   ]
  },
  {
   "cell_type": "code",
   "execution_count": 67,
   "id": "f8b21b78",
   "metadata": {},
   "outputs": [
    {
     "name": "stdout",
     "output_type": "stream",
     "text": [
      "MAP@ 10: 0.000557\n"
     ]
    }
   ],
   "source": [
    "avaliacaoMAP(False,top_k=10)"
   ]
  },
  {
   "cell_type": "code",
   "execution_count": 68,
   "id": "7d2e320e",
   "metadata": {},
   "outputs": [
    {
     "name": "stdout",
     "output_type": "stream",
     "text": [
      "MAP@ 20: 0.000341\n"
     ]
    }
   ],
   "source": [
    "avaliacaoMAP(False,top_k=20)"
   ]
  },
  {
   "cell_type": "markdown",
   "id": "f12118e7",
   "metadata": {},
   "source": [
    "### Precision"
   ]
  },
  {
   "cell_type": "code",
   "execution_count": 69,
   "id": "fe111a85",
   "metadata": {},
   "outputs": [
    {
     "name": "stdout",
     "output_type": "stream",
     "text": [
      "Precision: 0.04271186440677962\n"
     ]
    }
   ],
   "source": [
    "avaliacaoPrecision(False,top_k=5)"
   ]
  },
  {
   "cell_type": "code",
   "execution_count": 70,
   "id": "a9afc040",
   "metadata": {},
   "outputs": [
    {
     "name": "stdout",
     "output_type": "stream",
     "text": [
      "Precision: 0.024745762711864374\n"
     ]
    }
   ],
   "source": [
    "avaliacaoPrecision(False,top_k=10)"
   ]
  },
  {
   "cell_type": "code",
   "execution_count": 71,
   "id": "2b2b628e",
   "metadata": {},
   "outputs": [
    {
     "name": "stdout",
     "output_type": "stream",
     "text": [
      "Precision: 0.015254237288135566\n"
     ]
    }
   ],
   "source": [
    "avaliacaoPrecision(False,top_k=20)"
   ]
  },
  {
   "cell_type": "markdown",
   "id": "5cde0ac0",
   "metadata": {},
   "source": [
    "### RR"
   ]
  },
  {
   "cell_type": "code",
   "execution_count": 72,
   "id": "d64ffd53",
   "metadata": {},
   "outputs": [
    {
     "name": "stdout",
     "output_type": "stream",
     "text": [
      "RR: 0.125424\n"
     ]
    }
   ],
   "source": [
    "avaliacaoRR(False)"
   ]
  },
  {
   "cell_type": "code",
   "execution_count": 73,
   "id": "599cc6c9",
   "metadata": {},
   "outputs": [
    {
     "name": "stdout",
     "output_type": "stream",
     "text": [
      "RR: 0.125424\n"
     ]
    }
   ],
   "source": [
    "avaliacaoRR(False)"
   ]
  },
  {
   "cell_type": "markdown",
   "id": "d73d7c1e",
   "metadata": {},
   "source": [
    "## Config 5"
   ]
  },
  {
   "cell_type": "code",
   "execution_count": 74,
   "id": "20109e20",
   "metadata": {},
   "outputs": [],
   "source": [
    "data = base.txtEmenta.fillna(\"Em branco\")"
   ]
  },
  {
   "cell_type": "code",
   "execution_count": 75,
   "id": "d95c7317",
   "metadata": {},
   "outputs": [],
   "source": [
    "def _remove_acentos(txt):\n",
    "    return normalize('NFKD', txt).encode('ASCII', 'ignore').decode('ASCII')\n",
    "\n",
    "def preprocess(txt):\n",
    "    txt = str(txt)\n",
    "    txt = _remove_acentos(txt)\n",
    "    stopwords = nltk.corpus.stopwords.words(\"portuguese\")\n",
    "    stopwords.extend(list(punctuation))\n",
    "    tokenizer = RegexpTokenizer('\\w+')\n",
    "    terms = tokenizer.tokenize(txt.lower())\n",
    "    terms = [word for word in terms if word not in stopwords]\n",
    "\n",
    "    return \" \".join(terms)"
   ]
  },
  {
   "cell_type": "code",
   "execution_count": 76,
   "id": "fb88f75e",
   "metadata": {},
   "outputs": [],
   "source": [
    "data_preprocess = Parallel(n_jobs=4)(delayed(preprocess)(doc) for doc in data)"
   ]
  },
  {
   "cell_type": "code",
   "execution_count": 77,
   "id": "24afdec7",
   "metadata": {},
   "outputs": [],
   "source": [
    "a = time.time()"
   ]
  },
  {
   "cell_type": "code",
   "execution_count": 78,
   "id": "b20afaa2",
   "metadata": {},
   "outputs": [],
   "source": [
    "data_emb = model.encode(data,convert_to_tensor=True,device=device_gpu)"
   ]
  },
  {
   "cell_type": "code",
   "execution_count": 79,
   "id": "5b0b0c1d",
   "metadata": {},
   "outputs": [],
   "source": [
    "d = time.time()"
   ]
  },
  {
   "cell_type": "code",
   "execution_count": 80,
   "id": "23b53677",
   "metadata": {},
   "outputs": [
    {
     "name": "stdout",
     "output_type": "stream",
     "text": [
      "Duração da indexação: 566.173002\n"
     ]
    }
   ],
   "source": [
    "print(\"Duração da indexação: %f\" % (d-a))"
   ]
  },
  {
   "cell_type": "markdown",
   "id": "74b86f5b",
   "metadata": {},
   "source": [
    "## Avaliação"
   ]
  },
  {
   "cell_type": "markdown",
   "id": "a3ca1125",
   "metadata": {},
   "source": [
    "### Recall"
   ]
  },
  {
   "cell_type": "code",
   "execution_count": 81,
   "id": "96e1e88a",
   "metadata": {},
   "outputs": [
    {
     "name": "stdout",
     "output_type": "stream",
     "text": [
      "Duração: 16.002998\n",
      "Recall: 0.1864406779661017\n"
     ]
    }
   ],
   "source": [
    "avaliacaoRecall(True,top_k=5)"
   ]
  },
  {
   "cell_type": "code",
   "execution_count": 82,
   "id": "bbc15e6a",
   "metadata": {},
   "outputs": [
    {
     "name": "stdout",
     "output_type": "stream",
     "text": [
      "Duração: 52.400999\n",
      "Recall: 0.2305084745762712\n"
     ]
    }
   ],
   "source": [
    "avaliacaoRecall(True,top_k=10)"
   ]
  },
  {
   "cell_type": "code",
   "execution_count": 83,
   "id": "ce107083",
   "metadata": {},
   "outputs": [
    {
     "name": "stdout",
     "output_type": "stream",
     "text": [
      "Duração: 67.759999\n",
      "Recall: 0.2745762711864407\n"
     ]
    }
   ],
   "source": [
    "avaliacaoRecall(True,top_k=20)"
   ]
  },
  {
   "cell_type": "markdown",
   "id": "ac838f54",
   "metadata": {},
   "source": [
    "### MAP"
   ]
  },
  {
   "cell_type": "code",
   "execution_count": 84,
   "id": "1a0393ba",
   "metadata": {},
   "outputs": [
    {
     "name": "stdout",
     "output_type": "stream",
     "text": [
      "MAP@ 5: 0.000928\n"
     ]
    }
   ],
   "source": [
    "avaliacaoMAP(True,top_k=5)"
   ]
  },
  {
   "cell_type": "code",
   "execution_count": 85,
   "id": "2249a813",
   "metadata": {},
   "outputs": [
    {
     "name": "stdout",
     "output_type": "stream",
     "text": [
      "MAP@ 10: 0.000577\n"
     ]
    }
   ],
   "source": [
    "avaliacaoMAP(True,top_k=10)"
   ]
  },
  {
   "cell_type": "code",
   "execution_count": 86,
   "id": "044cc187",
   "metadata": {},
   "outputs": [
    {
     "name": "stdout",
     "output_type": "stream",
     "text": [
      "MAP@ 20: 0.000398\n"
     ]
    }
   ],
   "source": [
    "avaliacaoMAP(True,top_k=20)"
   ]
  },
  {
   "cell_type": "markdown",
   "id": "10606094",
   "metadata": {},
   "source": [
    "### Precision"
   ]
  },
  {
   "cell_type": "code",
   "execution_count": 87,
   "id": "fd3668dc",
   "metadata": {},
   "outputs": [
    {
     "name": "stdout",
     "output_type": "stream",
     "text": [
      "Precision: 0.03728813559322031\n"
     ]
    }
   ],
   "source": [
    "avaliacaoPrecision(True,top_k=5)"
   ]
  },
  {
   "cell_type": "code",
   "execution_count": 88,
   "id": "ca814b2a",
   "metadata": {},
   "outputs": [
    {
     "name": "stdout",
     "output_type": "stream",
     "text": [
      "Precision: 0.023050847457627092\n"
     ]
    }
   ],
   "source": [
    "avaliacaoPrecision(True,top_k=10)"
   ]
  },
  {
   "cell_type": "code",
   "execution_count": 89,
   "id": "80ef49cc",
   "metadata": {},
   "outputs": [
    {
     "name": "stdout",
     "output_type": "stream",
     "text": [
      "Precision: 0.013728813559322012\n"
     ]
    }
   ],
   "source": [
    "avaliacaoPrecision(True,top_k=20)"
   ]
  },
  {
   "cell_type": "markdown",
   "id": "3bc34941",
   "metadata": {},
   "source": [
    "### RR"
   ]
  },
  {
   "cell_type": "code",
   "execution_count": 90,
   "id": "0ef5bd72",
   "metadata": {},
   "outputs": [
    {
     "name": "stdout",
     "output_type": "stream",
     "text": [
      "RR: 0.098305\n"
     ]
    }
   ],
   "source": [
    "avaliacaoRR(True)"
   ]
  },
  {
   "cell_type": "markdown",
   "id": "e6ff547a",
   "metadata": {},
   "source": [
    "## Config 0"
   ]
  },
  {
   "cell_type": "code",
   "execution_count": 14,
   "id": "72467749",
   "metadata": {},
   "outputs": [],
   "source": [
    "data = base.txtEmenta.fillna(\"Em branco\")"
   ]
  },
  {
   "cell_type": "code",
   "execution_count": 15,
   "id": "ff9c614e",
   "metadata": {},
   "outputs": [],
   "source": [
    "def preprocess(txt):\n",
    "    txt = str(txt)\n",
    "    \n",
    "    stopwords = nltk.corpus.stopwords.words(\"portuguese\")\n",
    "   \n",
    "    terms = word_tokenize(txt)\n",
    "    terms = [word for word in terms if word not in stopwords]\n",
    "        \n",
    "    return \" \".join(terms)"
   ]
  },
  {
   "cell_type": "code",
   "execution_count": 16,
   "id": "4d9f9090",
   "metadata": {},
   "outputs": [],
   "source": [
    "a = time.time()"
   ]
  },
  {
   "cell_type": "code",
   "execution_count": 17,
   "id": "21520e7d",
   "metadata": {},
   "outputs": [],
   "source": [
    "data_preprocess = [preprocess(doc) for doc in data]"
   ]
  },
  {
   "cell_type": "code",
   "execution_count": 18,
   "id": "18b131d1",
   "metadata": {},
   "outputs": [],
   "source": [
    "d = time.time()"
   ]
  },
  {
   "cell_type": "code",
   "execution_count": 19,
   "id": "cb75b530",
   "metadata": {},
   "outputs": [
    {
     "name": "stdout",
     "output_type": "stream",
     "text": [
      "Duração: 28.056733\n"
     ]
    }
   ],
   "source": [
    "print(\"Duração: %f\" %(d-a))"
   ]
  },
  {
   "cell_type": "code",
   "execution_count": 94,
   "id": "056f6e32",
   "metadata": {},
   "outputs": [],
   "source": [
    "a = time.time()"
   ]
  },
  {
   "cell_type": "code",
   "execution_count": 95,
   "id": "0c6c4e8d",
   "metadata": {},
   "outputs": [],
   "source": [
    "data_emb = model.encode(data,convert_to_tensor=True,device=device_gpu)"
   ]
  },
  {
   "cell_type": "code",
   "execution_count": 96,
   "id": "757abdfc",
   "metadata": {},
   "outputs": [],
   "source": [
    "d = time.time()"
   ]
  },
  {
   "cell_type": "code",
   "execution_count": 97,
   "id": "d921825d",
   "metadata": {},
   "outputs": [
    {
     "name": "stdout",
     "output_type": "stream",
     "text": [
      "Duração da indexação: 705.991000\n"
     ]
    }
   ],
   "source": [
    "print(\"Duração da indexação: %f\" % (d-a))"
   ]
  },
  {
   "cell_type": "markdown",
   "id": "2e93e51e",
   "metadata": {},
   "source": [
    "## Avaliação"
   ]
  },
  {
   "cell_type": "markdown",
   "id": "8bf44b96",
   "metadata": {},
   "source": [
    "### Recall"
   ]
  },
  {
   "cell_type": "code",
   "execution_count": 98,
   "id": "f295c9b8",
   "metadata": {},
   "outputs": [
    {
     "name": "stdout",
     "output_type": "stream",
     "text": [
      "Duração: 16.143000\n",
      "Recall: 0.2135593220338983\n"
     ]
    }
   ],
   "source": [
    "avaliacaoRecall(True,top_k=5)"
   ]
  },
  {
   "cell_type": "code",
   "execution_count": 99,
   "id": "d095bd8b",
   "metadata": {},
   "outputs": [
    {
     "name": "stdout",
     "output_type": "stream",
     "text": [
      "Duração: 16.273996\n",
      "Recall: 0.26440677966101694\n"
     ]
    }
   ],
   "source": [
    "avaliacaoRecall(True,top_k=10)"
   ]
  },
  {
   "cell_type": "code",
   "execution_count": 100,
   "id": "08514c06",
   "metadata": {},
   "outputs": [
    {
     "name": "stdout",
     "output_type": "stream",
     "text": [
      "Duração: 17.266997\n",
      "Recall: 0.288135593220339\n"
     ]
    }
   ],
   "source": [
    "avaliacaoRecall(True,top_k=20)"
   ]
  },
  {
   "cell_type": "markdown",
   "id": "378ca3b8",
   "metadata": {},
   "source": [
    "### MAP"
   ]
  },
  {
   "cell_type": "code",
   "execution_count": 101,
   "id": "a828cbb1",
   "metadata": {},
   "outputs": [
    {
     "name": "stdout",
     "output_type": "stream",
     "text": [
      "MAP@ 5: 0.001047\n"
     ]
    }
   ],
   "source": [
    "avaliacaoMAP(True,top_k=5)"
   ]
  },
  {
   "cell_type": "code",
   "execution_count": 102,
   "id": "893f8893",
   "metadata": {},
   "outputs": [
    {
     "name": "stdout",
     "output_type": "stream",
     "text": [
      "MAP@ 10: 0.000655\n"
     ]
    }
   ],
   "source": [
    "avaliacaoMAP(True,top_k=10)"
   ]
  },
  {
   "cell_type": "code",
   "execution_count": 103,
   "id": "ff043bbf",
   "metadata": {},
   "outputs": [
    {
     "name": "stdout",
     "output_type": "stream",
     "text": [
      "MAP@ 20: 0.000351\n"
     ]
    }
   ],
   "source": [
    "avaliacaoMAP(True,top_k=20)"
   ]
  },
  {
   "cell_type": "markdown",
   "id": "0f82169e",
   "metadata": {},
   "source": [
    "### Precision"
   ]
  },
  {
   "cell_type": "code",
   "execution_count": 104,
   "id": "edbbfb27",
   "metadata": {},
   "outputs": [
    {
     "name": "stdout",
     "output_type": "stream",
     "text": [
      "Precision: 0.04271186440677962\n"
     ]
    }
   ],
   "source": [
    "avaliacaoPrecision(True,top_k=5)"
   ]
  },
  {
   "cell_type": "code",
   "execution_count": 105,
   "id": "cb4a21f3",
   "metadata": {},
   "outputs": [
    {
     "name": "stdout",
     "output_type": "stream",
     "text": [
      "Precision: 0.026440677966101656\n"
     ]
    }
   ],
   "source": [
    "avaliacaoPrecision(True,top_k=10)"
   ]
  },
  {
   "cell_type": "code",
   "execution_count": 106,
   "id": "4bb01cc1",
   "metadata": {},
   "outputs": [
    {
     "name": "stdout",
     "output_type": "stream",
     "text": [
      "Precision: 0.014406779661016925\n"
     ]
    }
   ],
   "source": [
    "avaliacaoPrecision(True,top_k=20)"
   ]
  },
  {
   "cell_type": "markdown",
   "id": "ddec0681",
   "metadata": {},
   "source": [
    "### RR"
   ]
  },
  {
   "cell_type": "code",
   "execution_count": 107,
   "id": "520934c4",
   "metadata": {},
   "outputs": [
    {
     "name": "stdout",
     "output_type": "stream",
     "text": [
      "RR: 0.122034\n"
     ]
    }
   ],
   "source": [
    "avaliacaoRR(True)"
   ]
  },
  {
   "cell_type": "markdown",
   "id": "a43bfd6d",
   "metadata": {},
   "source": [
    "# TxtIndexacao"
   ]
  },
  {
   "cell_type": "code",
   "execution_count": 108,
   "id": "58c8851b",
   "metadata": {},
   "outputs": [],
   "source": [
    "data = base.txtIndexacao.fillna(\"Em branco\")"
   ]
  },
  {
   "cell_type": "markdown",
   "id": "c90ab646",
   "metadata": {},
   "source": [
    "## Config 1"
   ]
  },
  {
   "cell_type": "code",
   "execution_count": 109,
   "id": "b346b18f",
   "metadata": {},
   "outputs": [],
   "source": [
    "a = time.time()"
   ]
  },
  {
   "cell_type": "code",
   "execution_count": 110,
   "id": "6e5234a6",
   "metadata": {},
   "outputs": [],
   "source": [
    "data_emb = model.encode(data,convert_to_tensor=True,device=device_gpu)"
   ]
  },
  {
   "cell_type": "code",
   "execution_count": 111,
   "id": "85e816ab",
   "metadata": {},
   "outputs": [],
   "source": [
    "d = time.time()"
   ]
  },
  {
   "cell_type": "code",
   "execution_count": 112,
   "id": "32d2044c",
   "metadata": {},
   "outputs": [
    {
     "name": "stdout",
     "output_type": "stream",
     "text": [
      "Duração da indexação: 818.888000\n"
     ]
    }
   ],
   "source": [
    "print(\"Duração da indexação: %f\" % (d-a))"
   ]
  },
  {
   "cell_type": "markdown",
   "id": "9feb4ada",
   "metadata": {},
   "source": [
    "## Avaliação"
   ]
  },
  {
   "cell_type": "markdown",
   "id": "8ab5b3bf",
   "metadata": {},
   "source": [
    "### Recall"
   ]
  },
  {
   "cell_type": "code",
   "execution_count": 113,
   "id": "fee7f9a5",
   "metadata": {},
   "outputs": [
    {
     "name": "stdout",
     "output_type": "stream",
     "text": [
      "Duração: 17.217999\n",
      "Recall: 0.09491525423728814\n"
     ]
    }
   ],
   "source": [
    "avaliacaoRecall(False,top_k=5)"
   ]
  },
  {
   "cell_type": "code",
   "execution_count": 114,
   "id": "7935b454",
   "metadata": {},
   "outputs": [
    {
     "name": "stdout",
     "output_type": "stream",
     "text": [
      "Duração: 17.403997\n",
      "Recall: 0.1152542372881356\n"
     ]
    }
   ],
   "source": [
    "avaliacaoRecall(False,top_k=10)"
   ]
  },
  {
   "cell_type": "code",
   "execution_count": 115,
   "id": "2750a3f7",
   "metadata": {},
   "outputs": [
    {
     "name": "stdout",
     "output_type": "stream",
     "text": [
      "Duração: 17.692210\n",
      "Recall: 0.15593220338983052\n"
     ]
    }
   ],
   "source": [
    "avaliacaoRecall(False,top_k=20)"
   ]
  },
  {
   "cell_type": "markdown",
   "id": "f4a4f9a1",
   "metadata": {},
   "source": [
    "### MAP"
   ]
  },
  {
   "cell_type": "code",
   "execution_count": 116,
   "id": "dd116850",
   "metadata": {},
   "outputs": [
    {
     "name": "stdout",
     "output_type": "stream",
     "text": [
      "MAP@ 5: 0.000404\n"
     ]
    }
   ],
   "source": [
    "avaliacaoMAP(False,top_k=5)"
   ]
  },
  {
   "cell_type": "code",
   "execution_count": 117,
   "id": "b5d184e9",
   "metadata": {},
   "outputs": [
    {
     "name": "stdout",
     "output_type": "stream",
     "text": [
      "MAP@ 10: 0.000235\n"
     ]
    }
   ],
   "source": [
    "avaliacaoMAP(False,top_k=10)"
   ]
  },
  {
   "cell_type": "code",
   "execution_count": 118,
   "id": "7bc0b08d",
   "metadata": {},
   "outputs": [
    {
     "name": "stdout",
     "output_type": "stream",
     "text": [
      "MAP@ 20: 0.000165\n"
     ]
    }
   ],
   "source": [
    "avaliacaoMAP(False,top_k=20)"
   ]
  },
  {
   "cell_type": "markdown",
   "id": "3f8bdb06",
   "metadata": {},
   "source": [
    "### Precision"
   ]
  },
  {
   "cell_type": "code",
   "execution_count": 119,
   "id": "95021e62",
   "metadata": {},
   "outputs": [
    {
     "name": "stdout",
     "output_type": "stream",
     "text": [
      "Precision: 0.018983050847457637\n"
     ]
    }
   ],
   "source": [
    "avaliacaoPrecision(False,top_k=5)"
   ]
  },
  {
   "cell_type": "code",
   "execution_count": 120,
   "id": "72bb148d",
   "metadata": {},
   "outputs": [
    {
     "name": "stdout",
     "output_type": "stream",
     "text": [
      "Precision: 0.011525423728813565\n"
     ]
    }
   ],
   "source": [
    "avaliacaoPrecision(False,top_k=10)"
   ]
  },
  {
   "cell_type": "code",
   "execution_count": 121,
   "id": "862e1d0a",
   "metadata": {},
   "outputs": [
    {
     "name": "stdout",
     "output_type": "stream",
     "text": [
      "Precision: 0.007796610169491525\n"
     ]
    }
   ],
   "source": [
    "avaliacaoPrecision(False,top_k=20)"
   ]
  },
  {
   "cell_type": "markdown",
   "id": "72a8abb1",
   "metadata": {},
   "source": [
    "### RR"
   ]
  },
  {
   "cell_type": "code",
   "execution_count": 122,
   "id": "ef09983d",
   "metadata": {},
   "outputs": [
    {
     "name": "stdout",
     "output_type": "stream",
     "text": [
      "RR: 0.040678\n"
     ]
    }
   ],
   "source": [
    "avaliacaoRR(False)"
   ]
  },
  {
   "cell_type": "markdown",
   "id": "2431fc34",
   "metadata": {},
   "source": [
    "## Config 5"
   ]
  },
  {
   "cell_type": "code",
   "execution_count": 123,
   "id": "ad4cb00e",
   "metadata": {},
   "outputs": [],
   "source": [
    "data = base.txtIndexacao.fillna(\"Em branco\")"
   ]
  },
  {
   "cell_type": "code",
   "execution_count": 124,
   "id": "6e1a7682",
   "metadata": {},
   "outputs": [],
   "source": [
    "def _remove_acentos(txt):\n",
    "    return normalize('NFKD', txt).encode('ASCII', 'ignore').decode('ASCII')\n",
    "\n",
    "def preprocess(txt):\n",
    "    txt = str(txt)\n",
    "    txt = _remove_acentos(txt)\n",
    "    stopwords = nltk.corpus.stopwords.words(\"portuguese\")\n",
    "    stopwords.extend(list(punctuation))\n",
    "    tokenizer = RegexpTokenizer('\\w+')\n",
    "    terms = tokenizer.tokenize(txt.lower())\n",
    "    terms = [word for word in terms if word not in stopwords]\n",
    "\n",
    "    return \" \".join(terms)"
   ]
  },
  {
   "cell_type": "code",
   "execution_count": 125,
   "id": "2096631d",
   "metadata": {},
   "outputs": [],
   "source": [
    "data_preprocess = Parallel(n_jobs=4)(delayed(preprocess)(doc) for doc in data)"
   ]
  },
  {
   "cell_type": "code",
   "execution_count": 126,
   "id": "c175ffd2",
   "metadata": {},
   "outputs": [],
   "source": [
    "a = time.time()"
   ]
  },
  {
   "cell_type": "code",
   "execution_count": 127,
   "id": "9038bfe3",
   "metadata": {},
   "outputs": [],
   "source": [
    "data_emb = model.encode(data,convert_to_tensor=True,device=device_gpu)"
   ]
  },
  {
   "cell_type": "code",
   "execution_count": 128,
   "id": "432d2063",
   "metadata": {},
   "outputs": [],
   "source": [
    "d = time.time()"
   ]
  },
  {
   "cell_type": "code",
   "execution_count": 129,
   "id": "3d57d637",
   "metadata": {},
   "outputs": [
    {
     "name": "stdout",
     "output_type": "stream",
     "text": [
      "Duração da indexação: 713.059003\n"
     ]
    }
   ],
   "source": [
    "print(\"Duração da indexação: %f\" % (d-a))"
   ]
  },
  {
   "cell_type": "markdown",
   "id": "b30539ed",
   "metadata": {},
   "source": [
    "## Avaliação"
   ]
  },
  {
   "cell_type": "markdown",
   "id": "34c65182",
   "metadata": {},
   "source": [
    "### Recall"
   ]
  },
  {
   "cell_type": "code",
   "execution_count": 130,
   "id": "9533398e",
   "metadata": {},
   "outputs": [
    {
     "name": "stdout",
     "output_type": "stream",
     "text": [
      "Duração: 71.983996\n",
      "Recall: 0.06779661016949153\n"
     ]
    }
   ],
   "source": [
    "avaliacaoRecall(True,top_k=5)"
   ]
  },
  {
   "cell_type": "code",
   "execution_count": 131,
   "id": "a7132d33",
   "metadata": {},
   "outputs": [
    {
     "name": "stdout",
     "output_type": "stream",
     "text": [
      "Duração: 77.323999\n",
      "Recall: 0.11186440677966102\n"
     ]
    }
   ],
   "source": [
    "avaliacaoRecall(True,top_k=10)"
   ]
  },
  {
   "cell_type": "code",
   "execution_count": 132,
   "id": "b2d01d70",
   "metadata": {},
   "outputs": [
    {
     "name": "stdout",
     "output_type": "stream",
     "text": [
      "Duração: 110.952998\n",
      "Recall: 0.1288135593220339\n"
     ]
    }
   ],
   "source": [
    "avaliacaoRecall(True,top_k=20)"
   ]
  },
  {
   "cell_type": "markdown",
   "id": "5286cc0d",
   "metadata": {},
   "source": [
    "### MAP"
   ]
  },
  {
   "cell_type": "code",
   "execution_count": 133,
   "id": "5e1b3916",
   "metadata": {},
   "outputs": [
    {
     "name": "stdout",
     "output_type": "stream",
     "text": [
      "MAP@ 5: 0.000077\n"
     ]
    }
   ],
   "source": [
    "avaliacaoMAP(True,top_k=5)"
   ]
  },
  {
   "cell_type": "code",
   "execution_count": 134,
   "id": "5fc56162",
   "metadata": {},
   "outputs": [
    {
     "name": "stdout",
     "output_type": "stream",
     "text": [
      "MAP@ 10: 0.000204\n"
     ]
    }
   ],
   "source": [
    "avaliacaoMAP(True,top_k=10)"
   ]
  },
  {
   "cell_type": "code",
   "execution_count": 135,
   "id": "9dc669c0",
   "metadata": {},
   "outputs": [
    {
     "name": "stdout",
     "output_type": "stream",
     "text": [
      "MAP@ 20: 0.000121\n"
     ]
    }
   ],
   "source": [
    "avaliacaoMAP(True,top_k=20)"
   ]
  },
  {
   "cell_type": "markdown",
   "id": "e10186bc",
   "metadata": {},
   "source": [
    "### Precision"
   ]
  },
  {
   "cell_type": "code",
   "execution_count": 136,
   "id": "44d7d359",
   "metadata": {},
   "outputs": [
    {
     "name": "stdout",
     "output_type": "stream",
     "text": [
      "Precision: 0.013559322033898308\n"
     ]
    }
   ],
   "source": [
    "avaliacaoPrecision(True,top_k=5)"
   ]
  },
  {
   "cell_type": "code",
   "execution_count": 137,
   "id": "2d2c3be2",
   "metadata": {},
   "outputs": [
    {
     "name": "stdout",
     "output_type": "stream",
     "text": [
      "Precision: 0.011186440677966107\n"
     ]
    }
   ],
   "source": [
    "avaliacaoPrecision(True,top_k=10)"
   ]
  },
  {
   "cell_type": "code",
   "execution_count": 138,
   "id": "da1b897d",
   "metadata": {},
   "outputs": [
    {
     "name": "stdout",
     "output_type": "stream",
     "text": [
      "Precision: 0.006440677966101698\n"
     ]
    }
   ],
   "source": [
    "avaliacaoPrecision(True,top_k=20)"
   ]
  },
  {
   "cell_type": "markdown",
   "id": "a297f8bc",
   "metadata": {},
   "source": [
    "### RR"
   ]
  },
  {
   "cell_type": "code",
   "execution_count": 139,
   "id": "f491f304",
   "metadata": {},
   "outputs": [
    {
     "name": "stdout",
     "output_type": "stream",
     "text": [
      "RR: 0.033898\n"
     ]
    }
   ],
   "source": [
    "avaliacaoRR(True)"
   ]
  },
  {
   "cell_type": "markdown",
   "id": "fa4cfe78",
   "metadata": {},
   "source": [
    "## Config 0"
   ]
  },
  {
   "cell_type": "code",
   "execution_count": 20,
   "id": "c257188a",
   "metadata": {},
   "outputs": [],
   "source": [
    "data = base.txtIndexacao.fillna(\"Em branco\")"
   ]
  },
  {
   "cell_type": "code",
   "execution_count": 21,
   "id": "78b930fc",
   "metadata": {},
   "outputs": [],
   "source": [
    "def preprocess(txt):\n",
    "    txt = str(txt)\n",
    "    \n",
    "    stopwords = nltk.corpus.stopwords.words(\"portuguese\")\n",
    "   \n",
    "    terms = word_tokenize(txt)\n",
    "    terms = [word for word in terms if word not in stopwords]\n",
    "        \n",
    "    return \" \".join(terms)"
   ]
  },
  {
   "cell_type": "code",
   "execution_count": 22,
   "id": "2c6cfd46",
   "metadata": {},
   "outputs": [],
   "source": [
    "a = time.time()"
   ]
  },
  {
   "cell_type": "code",
   "execution_count": 23,
   "id": "3f9867c0",
   "metadata": {},
   "outputs": [],
   "source": [
    "data_preprocess = [preprocess(doc) for doc in data]"
   ]
  },
  {
   "cell_type": "code",
   "execution_count": 24,
   "id": "3d2c1d32",
   "metadata": {},
   "outputs": [],
   "source": [
    "d = time.time()"
   ]
  },
  {
   "cell_type": "code",
   "execution_count": 25,
   "id": "7473e0b8",
   "metadata": {},
   "outputs": [
    {
     "name": "stdout",
     "output_type": "stream",
     "text": [
      "Duração: 30.958052\n"
     ]
    }
   ],
   "source": [
    "print(\"Duração: %f\" %(d-a))"
   ]
  },
  {
   "cell_type": "code",
   "execution_count": 143,
   "id": "0ec5db81",
   "metadata": {},
   "outputs": [],
   "source": [
    "a = time.time()"
   ]
  },
  {
   "cell_type": "code",
   "execution_count": 144,
   "id": "2bab4a06",
   "metadata": {},
   "outputs": [],
   "source": [
    "data_emb = model.encode(data,convert_to_tensor=True,device=device_gpu)"
   ]
  },
  {
   "cell_type": "code",
   "execution_count": 145,
   "id": "97419b87",
   "metadata": {},
   "outputs": [],
   "source": [
    "d = time.time()"
   ]
  },
  {
   "cell_type": "code",
   "execution_count": 146,
   "id": "dc47b1bf",
   "metadata": {},
   "outputs": [
    {
     "name": "stdout",
     "output_type": "stream",
     "text": [
      "Duração da indexação: 2308.483999\n"
     ]
    }
   ],
   "source": [
    "print(\"Duração da indexação: %f\" % (d-a))"
   ]
  },
  {
   "cell_type": "markdown",
   "id": "dc17d244",
   "metadata": {},
   "source": [
    "## Avaliação"
   ]
  },
  {
   "cell_type": "markdown",
   "id": "ea17bdbf",
   "metadata": {},
   "source": [
    "### Recall"
   ]
  },
  {
   "cell_type": "code",
   "execution_count": 147,
   "id": "f0b4d6fe",
   "metadata": {},
   "outputs": [
    {
     "name": "stdout",
     "output_type": "stream",
     "text": [
      "Duração: 48.482000\n",
      "Recall: 0.09152542372881356\n"
     ]
    }
   ],
   "source": [
    "avaliacaoRecall(True,top_k=5)"
   ]
  },
  {
   "cell_type": "code",
   "execution_count": 148,
   "id": "f714b66d",
   "metadata": {},
   "outputs": [
    {
     "name": "stdout",
     "output_type": "stream",
     "text": [
      "Duração: 51.397998\n",
      "Recall: 0.12542372881355932\n"
     ]
    }
   ],
   "source": [
    "avaliacaoRecall(True,top_k=10)"
   ]
  },
  {
   "cell_type": "code",
   "execution_count": 149,
   "id": "c050f5fc",
   "metadata": {},
   "outputs": [
    {
     "name": "stdout",
     "output_type": "stream",
     "text": [
      "Duração: 51.476998\n",
      "Recall: 0.17627118644067796\n"
     ]
    }
   ],
   "source": [
    "avaliacaoRecall(True,top_k=20)"
   ]
  },
  {
   "cell_type": "markdown",
   "id": "315aedea",
   "metadata": {},
   "source": [
    "### MAP"
   ]
  },
  {
   "cell_type": "code",
   "execution_count": 150,
   "id": "ad70396a",
   "metadata": {},
   "outputs": [
    {
     "name": "stdout",
     "output_type": "stream",
     "text": [
      "MAP@ 5: 0.000332\n"
     ]
    }
   ],
   "source": [
    "avaliacaoMAP(True,top_k=5)"
   ]
  },
  {
   "cell_type": "code",
   "execution_count": 151,
   "id": "ad56976b",
   "metadata": {},
   "outputs": [
    {
     "name": "stdout",
     "output_type": "stream",
     "text": [
      "MAP@ 10: 0.000220\n"
     ]
    }
   ],
   "source": [
    "avaliacaoMAP(True,top_k=10)"
   ]
  },
  {
   "cell_type": "code",
   "execution_count": 152,
   "id": "136e20b7",
   "metadata": {},
   "outputs": [
    {
     "name": "stdout",
     "output_type": "stream",
     "text": [
      "MAP@ 20: 0.000168\n"
     ]
    }
   ],
   "source": [
    "avaliacaoMAP(True,top_k=20)"
   ]
  },
  {
   "cell_type": "markdown",
   "id": "58860a2a",
   "metadata": {},
   "source": [
    "### Precision"
   ]
  },
  {
   "cell_type": "code",
   "execution_count": 153,
   "id": "58789055",
   "metadata": {},
   "outputs": [
    {
     "name": "stdout",
     "output_type": "stream",
     "text": [
      "Precision: 0.018305084745762718\n"
     ]
    }
   ],
   "source": [
    "avaliacaoPrecision(True,top_k=5)"
   ]
  },
  {
   "cell_type": "code",
   "execution_count": 154,
   "id": "6d7acf8b",
   "metadata": {},
   "outputs": [
    {
     "name": "stdout",
     "output_type": "stream",
     "text": [
      "Precision: 0.01254237288135594\n"
     ]
    }
   ],
   "source": [
    "avaliacaoPrecision(True,top_k=10)"
   ]
  },
  {
   "cell_type": "code",
   "execution_count": 155,
   "id": "5888c31d",
   "metadata": {},
   "outputs": [
    {
     "name": "stdout",
     "output_type": "stream",
     "text": [
      "Precision: 0.008813559322033895\n"
     ]
    }
   ],
   "source": [
    "avaliacaoPrecision(True,top_k=20)"
   ]
  },
  {
   "cell_type": "markdown",
   "id": "108522b3",
   "metadata": {},
   "source": [
    "### RR"
   ]
  },
  {
   "cell_type": "code",
   "execution_count": 156,
   "id": "cc360baf",
   "metadata": {},
   "outputs": [
    {
     "name": "stdout",
     "output_type": "stream",
     "text": [
      "RR: 0.040678\n"
     ]
    }
   ],
   "source": [
    "avaliacaoRR(True)"
   ]
  },
  {
   "cell_type": "markdown",
   "id": "bbcd642d",
   "metadata": {},
   "source": [
    "# Emenda + Indexacao"
   ]
  },
  {
   "cell_type": "code",
   "execution_count": 26,
   "id": "f0d35ea0",
   "metadata": {},
   "outputs": [],
   "source": [
    "base['txtIndexacao'] = base['txtEmenta'] + base['txtIndexacao']"
   ]
  },
  {
   "cell_type": "code",
   "execution_count": 27,
   "id": "61242d22",
   "metadata": {},
   "outputs": [],
   "source": [
    "data = base.txtIndexacao.fillna(\"Em branco\")"
   ]
  },
  {
   "cell_type": "markdown",
   "id": "eacc977c",
   "metadata": {},
   "source": [
    "## Config 1"
   ]
  },
  {
   "cell_type": "code",
   "execution_count": 159,
   "id": "3cd8b9a7",
   "metadata": {},
   "outputs": [],
   "source": [
    "a = time.time()"
   ]
  },
  {
   "cell_type": "code",
   "execution_count": 160,
   "id": "fe0d7341",
   "metadata": {},
   "outputs": [],
   "source": [
    "data_emb = model.encode(data,convert_to_tensor=True,device=device_gpu)"
   ]
  },
  {
   "cell_type": "code",
   "execution_count": 161,
   "id": "90aea00e",
   "metadata": {},
   "outputs": [],
   "source": [
    "d = time.time()"
   ]
  },
  {
   "cell_type": "code",
   "execution_count": 162,
   "id": "aa1b3040",
   "metadata": {},
   "outputs": [
    {
     "name": "stdout",
     "output_type": "stream",
     "text": [
      "Duração da indexação: 3818.934484\n"
     ]
    }
   ],
   "source": [
    "print(\"Duração da indexação: %f\" % (d-a))"
   ]
  },
  {
   "cell_type": "markdown",
   "id": "365a72b9",
   "metadata": {},
   "source": [
    "## Avaliação"
   ]
  },
  {
   "cell_type": "markdown",
   "id": "740267aa",
   "metadata": {},
   "source": [
    "### Recall"
   ]
  },
  {
   "cell_type": "code",
   "execution_count": 163,
   "id": "17632d2d",
   "metadata": {},
   "outputs": [
    {
     "name": "stdout",
     "output_type": "stream",
     "text": [
      "Duração: 32.087967\n",
      "Recall: 0.2135593220338983\n"
     ]
    }
   ],
   "source": [
    "avaliacaoRecall(False,top_k=5)"
   ]
  },
  {
   "cell_type": "code",
   "execution_count": 164,
   "id": "1b1e2513",
   "metadata": {},
   "outputs": [
    {
     "name": "stdout",
     "output_type": "stream",
     "text": [
      "Duração: 30.084998\n",
      "Recall: 0.25084745762711863\n"
     ]
    }
   ],
   "source": [
    "avaliacaoRecall(False,top_k=10)"
   ]
  },
  {
   "cell_type": "code",
   "execution_count": 165,
   "id": "c6bde079",
   "metadata": {},
   "outputs": [
    {
     "name": "stdout",
     "output_type": "stream",
     "text": [
      "Duração: 31.984995\n",
      "Recall: 0.2983050847457627\n"
     ]
    }
   ],
   "source": [
    "avaliacaoRecall(False,top_k=20)"
   ]
  },
  {
   "cell_type": "markdown",
   "id": "cc2142c3",
   "metadata": {},
   "source": [
    "### MAP"
   ]
  },
  {
   "cell_type": "code",
   "execution_count": 166,
   "id": "0cf19904",
   "metadata": {},
   "outputs": [
    {
     "name": "stdout",
     "output_type": "stream",
     "text": [
      "MAP@ 5: 0.000436\n"
     ]
    }
   ],
   "source": [
    "avaliacaoMAP(False,top_k=5)"
   ]
  },
  {
   "cell_type": "code",
   "execution_count": 167,
   "id": "ff4d4d0d",
   "metadata": {},
   "outputs": [
    {
     "name": "stdout",
     "output_type": "stream",
     "text": [
      "MAP@ 10: 0.000420\n"
     ]
    }
   ],
   "source": [
    "avaliacaoMAP(False,top_k=10)"
   ]
  },
  {
   "cell_type": "code",
   "execution_count": 168,
   "id": "f4413c0c",
   "metadata": {},
   "outputs": [
    {
     "name": "stdout",
     "output_type": "stream",
     "text": [
      "MAP@ 20: 0.000269\n"
     ]
    }
   ],
   "source": [
    "avaliacaoMAP(False,top_k=20)"
   ]
  },
  {
   "cell_type": "markdown",
   "id": "fbbc0eb2",
   "metadata": {},
   "source": [
    "### Precision"
   ]
  },
  {
   "cell_type": "code",
   "execution_count": 169,
   "id": "1dddf7bf",
   "metadata": {},
   "outputs": [
    {
     "name": "stdout",
     "output_type": "stream",
     "text": [
      "Precision: 0.04271186440677962\n"
     ]
    }
   ],
   "source": [
    "avaliacaoPrecision(False,top_k=5)"
   ]
  },
  {
   "cell_type": "code",
   "execution_count": 170,
   "id": "70a6c17d",
   "metadata": {},
   "outputs": [
    {
     "name": "stdout",
     "output_type": "stream",
     "text": [
      "Precision: 0.02508474576271183\n"
     ]
    }
   ],
   "source": [
    "avaliacaoPrecision(False,top_k=10)"
   ]
  },
  {
   "cell_type": "code",
   "execution_count": 171,
   "id": "08d28865",
   "metadata": {},
   "outputs": [
    {
     "name": "stdout",
     "output_type": "stream",
     "text": [
      "Precision: 0.01491525423728811\n"
     ]
    }
   ],
   "source": [
    "avaliacaoPrecision(False,top_k=20)"
   ]
  },
  {
   "cell_type": "markdown",
   "id": "a10dac20",
   "metadata": {},
   "source": [
    "### RR"
   ]
  },
  {
   "cell_type": "code",
   "execution_count": 172,
   "id": "e2e47e2d",
   "metadata": {},
   "outputs": [
    {
     "name": "stdout",
     "output_type": "stream",
     "text": [
      "RR: 0.098305\n"
     ]
    }
   ],
   "source": [
    "avaliacaoRR(False)"
   ]
  },
  {
   "cell_type": "markdown",
   "id": "be3a1d23",
   "metadata": {},
   "source": [
    "## Config 5"
   ]
  },
  {
   "cell_type": "code",
   "execution_count": 173,
   "id": "9c23c55c",
   "metadata": {},
   "outputs": [],
   "source": [
    "def _remove_acentos(txt):\n",
    "    return normalize('NFKD', txt).encode('ASCII', 'ignore').decode('ASCII')\n",
    "\n",
    "def preprocess(txt):\n",
    "    txt = str(txt)\n",
    "    txt = _remove_acentos(txt)\n",
    "    stopwords = nltk.corpus.stopwords.words(\"portuguese\")\n",
    "    stopwords.extend(list(punctuation))\n",
    "    tokenizer = RegexpTokenizer('\\w+')\n",
    "    terms = tokenizer.tokenize(txt.lower())\n",
    "    terms = [word for word in terms if word not in stopwords]\n",
    "\n",
    "    return \" \".join(terms)"
   ]
  },
  {
   "cell_type": "code",
   "execution_count": 174,
   "id": "d43b9408",
   "metadata": {},
   "outputs": [],
   "source": [
    "data_preprocess = Parallel(n_jobs=4)(delayed(preprocess)(doc) for doc in data)"
   ]
  },
  {
   "cell_type": "code",
   "execution_count": 175,
   "id": "69395878",
   "metadata": {},
   "outputs": [],
   "source": [
    "a = time.time()"
   ]
  },
  {
   "cell_type": "code",
   "execution_count": 176,
   "id": "a9160763",
   "metadata": {},
   "outputs": [],
   "source": [
    "data_emb = model.encode(data,convert_to_tensor=True,device=device_gpu)"
   ]
  },
  {
   "cell_type": "code",
   "execution_count": 177,
   "id": "3c1de0a4",
   "metadata": {},
   "outputs": [],
   "source": [
    "d = time.time()"
   ]
  },
  {
   "cell_type": "code",
   "execution_count": 178,
   "id": "2740df71",
   "metadata": {},
   "outputs": [
    {
     "name": "stdout",
     "output_type": "stream",
     "text": [
      "Duração da indexação: 1268.206304\n"
     ]
    }
   ],
   "source": [
    "print(\"Duração da indexação: %f\" % (d-a))"
   ]
  },
  {
   "cell_type": "markdown",
   "id": "0e20d374",
   "metadata": {},
   "source": [
    "## Avaliação"
   ]
  },
  {
   "cell_type": "markdown",
   "id": "f143b5b7",
   "metadata": {},
   "source": [
    "### Recall"
   ]
  },
  {
   "cell_type": "code",
   "execution_count": 179,
   "id": "297e8b57",
   "metadata": {},
   "outputs": [
    {
     "name": "stdout",
     "output_type": "stream",
     "text": [
      "Duração: 12.325997\n",
      "Recall: 0.1864406779661017\n"
     ]
    }
   ],
   "source": [
    "avaliacaoRecall(True,top_k=5)"
   ]
  },
  {
   "cell_type": "code",
   "execution_count": 180,
   "id": "1cc2e2d4",
   "metadata": {},
   "outputs": [
    {
     "name": "stdout",
     "output_type": "stream",
     "text": [
      "Duração: 12.456998\n",
      "Recall: 0.22033898305084745\n"
     ]
    }
   ],
   "source": [
    "avaliacaoRecall(True,top_k=10)"
   ]
  },
  {
   "cell_type": "code",
   "execution_count": 181,
   "id": "78c7bede",
   "metadata": {},
   "outputs": [
    {
     "name": "stdout",
     "output_type": "stream",
     "text": [
      "Duração: 12.931997\n",
      "Recall: 0.2440677966101695\n"
     ]
    }
   ],
   "source": [
    "avaliacaoRecall(True,top_k=20)"
   ]
  },
  {
   "cell_type": "markdown",
   "id": "3c80a973",
   "metadata": {},
   "source": [
    "### MAP"
   ]
  },
  {
   "cell_type": "code",
   "execution_count": 182,
   "id": "ca987c0f",
   "metadata": {},
   "outputs": [
    {
     "name": "stdout",
     "output_type": "stream",
     "text": [
      "MAP@ 5: 0.000688\n"
     ]
    }
   ],
   "source": [
    "avaliacaoMAP(True,top_k=5)"
   ]
  },
  {
   "cell_type": "code",
   "execution_count": 183,
   "id": "74853cb2",
   "metadata": {},
   "outputs": [
    {
     "name": "stdout",
     "output_type": "stream",
     "text": [
      "MAP@ 10: 0.000418\n"
     ]
    }
   ],
   "source": [
    "avaliacaoMAP(True,top_k=10)"
   ]
  },
  {
   "cell_type": "code",
   "execution_count": 184,
   "id": "81dd81d6",
   "metadata": {},
   "outputs": [
    {
     "name": "stdout",
     "output_type": "stream",
     "text": [
      "MAP@ 20: 0.000223\n"
     ]
    }
   ],
   "source": [
    "avaliacaoMAP(True,top_k=20)"
   ]
  },
  {
   "cell_type": "markdown",
   "id": "c71eb13c",
   "metadata": {},
   "source": [
    "### Precision"
   ]
  },
  {
   "cell_type": "code",
   "execution_count": 185,
   "id": "aa8a810c",
   "metadata": {},
   "outputs": [
    {
     "name": "stdout",
     "output_type": "stream",
     "text": [
      "Precision: 0.03728813559322031\n"
     ]
    }
   ],
   "source": [
    "avaliacaoPrecision(True,top_k=5)"
   ]
  },
  {
   "cell_type": "code",
   "execution_count": 186,
   "id": "4872bf71",
   "metadata": {},
   "outputs": [
    {
     "name": "stdout",
     "output_type": "stream",
     "text": [
      "Precision: 0.02203389830508472\n"
     ]
    }
   ],
   "source": [
    "avaliacaoPrecision(True,top_k=10)"
   ]
  },
  {
   "cell_type": "code",
   "execution_count": 187,
   "id": "96b6a0fd",
   "metadata": {},
   "outputs": [
    {
     "name": "stdout",
     "output_type": "stream",
     "text": [
      "Precision: 0.012203389830508459\n"
     ]
    }
   ],
   "source": [
    "avaliacaoPrecision(True,top_k=20)"
   ]
  },
  {
   "cell_type": "markdown",
   "id": "4023d58e",
   "metadata": {},
   "source": [
    "### RR"
   ]
  },
  {
   "cell_type": "code",
   "execution_count": 188,
   "id": "64a19bb2",
   "metadata": {},
   "outputs": [
    {
     "name": "stdout",
     "output_type": "stream",
     "text": [
      "RR: 0.088136\n"
     ]
    }
   ],
   "source": [
    "avaliacaoRR(True)"
   ]
  },
  {
   "cell_type": "markdown",
   "id": "b10bd869",
   "metadata": {},
   "source": [
    "## Config 0"
   ]
  },
  {
   "cell_type": "code",
   "execution_count": 28,
   "id": "e1e0f322",
   "metadata": {},
   "outputs": [],
   "source": [
    "def preprocess(txt):\n",
    "    txt = str(txt)\n",
    "    \n",
    "    stopwords = nltk.corpus.stopwords.words(\"portuguese\")\n",
    "   \n",
    "    terms = word_tokenize(txt)\n",
    "    terms = [word for word in terms if word not in stopwords]\n",
    "        \n",
    "    return \" \".join(terms)"
   ]
  },
  {
   "cell_type": "code",
   "execution_count": 29,
   "id": "6142de06",
   "metadata": {},
   "outputs": [],
   "source": [
    "a = time.time()"
   ]
  },
  {
   "cell_type": "code",
   "execution_count": 30,
   "id": "6879abd2",
   "metadata": {},
   "outputs": [],
   "source": [
    "data_preprocess = [preprocess(doc) for doc in data]"
   ]
  },
  {
   "cell_type": "code",
   "execution_count": 31,
   "id": "00e91c79",
   "metadata": {},
   "outputs": [],
   "source": [
    "d = time.time()"
   ]
  },
  {
   "cell_type": "code",
   "execution_count": 32,
   "id": "6b94d0f8",
   "metadata": {},
   "outputs": [
    {
     "name": "stdout",
     "output_type": "stream",
     "text": [
      "Duração: 40.154079\n"
     ]
    }
   ],
   "source": [
    "print(\"Duração: %f\" %(d-a))"
   ]
  },
  {
   "cell_type": "code",
   "execution_count": 191,
   "id": "624c8ead",
   "metadata": {},
   "outputs": [],
   "source": [
    "a = time.time()"
   ]
  },
  {
   "cell_type": "code",
   "execution_count": 192,
   "id": "f831bbca",
   "metadata": {},
   "outputs": [],
   "source": [
    "data_emb = model.encode(data,convert_to_tensor=True,device=device_gpu)"
   ]
  },
  {
   "cell_type": "code",
   "execution_count": 193,
   "id": "326c4c3c",
   "metadata": {},
   "outputs": [],
   "source": [
    "d = time.time()"
   ]
  },
  {
   "cell_type": "code",
   "execution_count": 194,
   "id": "f18172a5",
   "metadata": {},
   "outputs": [
    {
     "name": "stdout",
     "output_type": "stream",
     "text": [
      "Duração da indexação: 2258.592653\n"
     ]
    }
   ],
   "source": [
    "print(\"Duração da indexação: %f\" % (d-a))"
   ]
  },
  {
   "cell_type": "markdown",
   "id": "948052ec",
   "metadata": {},
   "source": [
    "## Avaliação"
   ]
  },
  {
   "cell_type": "markdown",
   "id": "3c1ac6a2",
   "metadata": {},
   "source": [
    "### Recall"
   ]
  },
  {
   "cell_type": "code",
   "execution_count": 195,
   "id": "2ce282a3",
   "metadata": {},
   "outputs": [
    {
     "name": "stdout",
     "output_type": "stream",
     "text": [
      "Duração: 49.585999\n",
      "Recall: 0.21016949152542372\n"
     ]
    }
   ],
   "source": [
    "avaliacaoRecall(True,top_k=5)"
   ]
  },
  {
   "cell_type": "code",
   "execution_count": 196,
   "id": "96270c6a",
   "metadata": {},
   "outputs": [
    {
     "name": "stdout",
     "output_type": "stream",
     "text": [
      "Duração: 52.283999\n",
      "Recall: 0.2305084745762712\n"
     ]
    }
   ],
   "source": [
    "avaliacaoRecall(True,top_k=10)"
   ]
  },
  {
   "cell_type": "code",
   "execution_count": 197,
   "id": "59fa020f",
   "metadata": {},
   "outputs": [
    {
     "name": "stdout",
     "output_type": "stream",
     "text": [
      "Duração: 54.203007\n",
      "Recall: 0.2745762711864407\n"
     ]
    }
   ],
   "source": [
    "avaliacaoRecall(True,top_k=20)"
   ]
  },
  {
   "cell_type": "markdown",
   "id": "cadf6eb4",
   "metadata": {},
   "source": [
    "### MAP"
   ]
  },
  {
   "cell_type": "code",
   "execution_count": 198,
   "id": "2135868d",
   "metadata": {},
   "outputs": [
    {
     "name": "stdout",
     "output_type": "stream",
     "text": [
      "MAP@ 5: 0.000720\n"
     ]
    }
   ],
   "source": [
    "avaliacaoMAP(True,top_k=5)"
   ]
  },
  {
   "cell_type": "code",
   "execution_count": 199,
   "id": "8468b902",
   "metadata": {},
   "outputs": [
    {
     "name": "stdout",
     "output_type": "stream",
     "text": [
      "MAP@ 10: 0.000398\n"
     ]
    }
   ],
   "source": [
    "avaliacaoMAP(True,top_k=10)"
   ]
  },
  {
   "cell_type": "code",
   "execution_count": 200,
   "id": "0631ce9e",
   "metadata": {},
   "outputs": [
    {
     "name": "stdout",
     "output_type": "stream",
     "text": [
      "MAP@ 20: 0.000258\n"
     ]
    }
   ],
   "source": [
    "avaliacaoMAP(True,top_k=20)"
   ]
  },
  {
   "cell_type": "markdown",
   "id": "d5e4b630",
   "metadata": {},
   "source": [
    "### Precision"
   ]
  },
  {
   "cell_type": "code",
   "execution_count": 201,
   "id": "594704e9",
   "metadata": {},
   "outputs": [
    {
     "name": "stdout",
     "output_type": "stream",
     "text": [
      "Precision: 0.04203389830508471\n"
     ]
    }
   ],
   "source": [
    "avaliacaoPrecision(True,top_k=5)"
   ]
  },
  {
   "cell_type": "code",
   "execution_count": 202,
   "id": "19e38a95",
   "metadata": {},
   "outputs": [
    {
     "name": "stdout",
     "output_type": "stream",
     "text": [
      "Precision: 0.023050847457627092\n"
     ]
    }
   ],
   "source": [
    "avaliacaoPrecision(True,top_k=10)"
   ]
  },
  {
   "cell_type": "code",
   "execution_count": 203,
   "id": "20718cd9",
   "metadata": {},
   "outputs": [
    {
     "name": "stdout",
     "output_type": "stream",
     "text": [
      "Precision: 0.013728813559322012\n"
     ]
    }
   ],
   "source": [
    "avaliacaoPrecision(True,top_k=20)"
   ]
  },
  {
   "cell_type": "markdown",
   "id": "6b0c6978",
   "metadata": {},
   "source": [
    "### RR"
   ]
  },
  {
   "cell_type": "code",
   "execution_count": 204,
   "id": "02cd0ae0",
   "metadata": {},
   "outputs": [
    {
     "name": "stdout",
     "output_type": "stream",
     "text": [
      "RR: 0.111864\n"
     ]
    }
   ],
   "source": [
    "avaliacaoRR(True)"
   ]
  }
 ],
 "metadata": {
  "kernelspec": {
   "display_name": "Python 3 (ipykernel)",
   "language": "python",
   "name": "python3"
  },
  "language_info": {
   "codemirror_mode": {
    "name": "ipython",
    "version": 3
   },
   "file_extension": ".py",
   "mimetype": "text/x-python",
   "name": "python",
   "nbconvert_exporter": "python",
   "pygments_lexer": "ipython3",
   "version": "3.8.7"
  }
 },
 "nbformat": 4,
 "nbformat_minor": 5
}
