{
 "cells": [
  {
   "cell_type": "code",
   "execution_count": 1,
   "id": "b70c18fa",
   "metadata": {
    "scrolled": false
   },
   "outputs": [
    {
     "name": "stderr",
     "output_type": "stream",
     "text": [
      "[nltk_data] Downloading package stopwords to\n",
      "[nltk_data]     C:\\Users\\Flavio\\AppData\\Roaming\\nltk_data...\n",
      "[nltk_data]   Package stopwords is already up-to-date!\n",
      "[nltk_data] Downloading package punkt to\n",
      "[nltk_data]     C:\\Users\\Flavio\\AppData\\Roaming\\nltk_data...\n",
      "[nltk_data]   Package punkt is already up-to-date!\n",
      "[nltk_data] Downloading package rslp to\n",
      "[nltk_data]     C:\\Users\\Flavio\\AppData\\Roaming\\nltk_data...\n",
      "[nltk_data]   Package rslp is already up-to-date!\n"
     ]
    },
    {
     "data": {
      "text/plain": [
       "True"
      ]
     },
     "execution_count": 1,
     "metadata": {},
     "output_type": "execute_result"
    }
   ],
   "source": [
    "import nltk\n",
    "from string import punctuation\n",
    "from nltk.tokenize import RegexpTokenizer,word_tokenize\n",
    "from unicodedata import normalize\n",
    "from nltk.stem import RSLPStemmer\n",
    "from nltk.util import ngrams\n",
    "import pandas as pd\n",
    "import time\n",
    "nltk.download('stopwords')\n",
    "nltk.download('punkt')\n",
    "nltk.download('rslp')"
   ]
  },
  {
   "cell_type": "code",
   "execution_count": 2,
   "id": "9c43ec3b",
   "metadata": {},
   "outputs": [],
   "source": [
    "df_assunto= pd.read_table(\"dados-conle-anonimizado-assunto-notnull - dados-conle-anonimizado-assunto-notnull.tsv\",sep=\";\")"
   ]
  },
  {
   "cell_type": "code",
   "execution_count": 3,
   "id": "d4ef5bdd",
   "metadata": {},
   "outputs": [],
   "source": [
    "arr_assunto = df_assunto.to_numpy()\n",
    "y,X = arr_assunto[:,0],arr_assunto[:,1]\n",
    "y = [i.strip() for i in y]"
   ]
  },
  {
   "cell_type": "code",
   "execution_count": 4,
   "id": "a421bdab",
   "metadata": {},
   "outputs": [],
   "source": [
    "base = pd.read_csv(\"base_20230428_douglas.csv\", delimiter=',', encoding=\"utf-8\")"
   ]
  },
  {
   "cell_type": "code",
   "execution_count": 5,
   "id": "55552e04",
   "metadata": {},
   "outputs": [],
   "source": [
    "from pyserini.search import SimpleSearcher"
   ]
  },
  {
   "cell_type": "code",
   "execution_count": 6,
   "id": "01d3602c",
   "metadata": {},
   "outputs": [],
   "source": [
    "def verificar(y,top_n,top_k=20):\n",
    "    for i,n in enumerate(top_n):\n",
    "        id = n.docid\n",
    "        \n",
    "        name = base.loc[int(id),\"txtNome\"]\n",
    "        if str(name).strip()==str(y).strip():\n",
    "            return 1\n",
    "        if i==(top_k-1):\n",
    "            break\n",
    "    return 0\n",
    "        "
   ]
  },
  {
   "cell_type": "code",
   "execution_count": 7,
   "id": "6e417702",
   "metadata": {},
   "outputs": [],
   "source": [
    "def avaliacaoRecall(isPreprocess,top_k=20):\n",
    "    quant_encontrado = 0\n",
    "    quant_relevante =0\n",
    "    antes = time.time()\n",
    "    for l,x in zip(y,X):\n",
    "\n",
    "        tokenized_query3 = x\n",
    "        if isPreprocess:\n",
    "            tokenized_query3 = preprocess(x)\n",
    "    \n",
    "\n",
    "        top_n = searcher.search(tokenized_query3)\n",
    "    \n",
    "        quant_relevante+=1\n",
    "        quant_encontrado+=verificar(l,top_n,top_k)\n",
    "    \n",
    "    recall = quant_encontrado / quant_relevante\n",
    "    depois = time.time()\n",
    "    print(\"R@20: \"+str(recall))\n",
    "    print(\"Duração: %f\" %(depois - antes))"
   ]
  },
  {
   "cell_type": "code",
   "execution_count": 8,
   "id": "99b6b0b0",
   "metadata": {},
   "outputs": [],
   "source": [
    "def avaliacaoRR(isPreprocess,top_k=20):\n",
    "    quant=0\n",
    "    for l,x in zip(y,X):\n",
    "\n",
    "        tokenized_query3 = x\n",
    "        if isPreprocess:\n",
    "            tokenized_query3 = preprocess(x)\n",
    "    \n",
    "        top_n = searcher.search(tokenized_query3)\n",
    "        if len(top_n)>0:\n",
    "            name = base.loc[int(top_n[0].docid),\"txtNome\"]\n",
    "            if str(name).strip()==str(l).strip():\n",
    "                quant+=1\n",
    "        else:\n",
    "            quant+=0\n",
    "    rr = quant/295\n",
    "    print(\"RR: %f\" %(rr))"
   ]
  },
  {
   "cell_type": "code",
   "execution_count": 9,
   "id": "d7fc52d9",
   "metadata": {},
   "outputs": [],
   "source": [
    "def avaliacaoPrecision(isPreprocess,top_k=20):\n",
    "    soma=0\n",
    "    for l,x in zip(y,X):\n",
    "\n",
    "        tokenized_query3 = x\n",
    "        if isPreprocess:\n",
    "            tokenized_query3 = preprocess(x)\n",
    "    \n",
    "        top_n = searcher.search(tokenized_query3)\n",
    "    \n",
    "        encontrado=verificar(l,top_n,top_k)\n",
    "        soma+= (encontrado / top_k)\n",
    "    precision = soma / 295\n",
    "    print(\"P@ %d: %f \" % (top_k,precision))"
   ]
  },
  {
   "cell_type": "code",
   "execution_count": 10,
   "id": "cbe78bb9",
   "metadata": {},
   "outputs": [],
   "source": [
    "def avaliacaoMAP(isPreprocess,top_k=20):\n",
    "    l_v = list()\n",
    "    labels_nsL = list()\n",
    "    for l,x in zip(y,X):\n",
    "\n",
    "        tokenized_query3 = x\n",
    "        if isPreprocess:\n",
    "            tokenized_query3 = preprocess(x)\n",
    "    \n",
    "        top_n = searcher.search(tokenized_query3)\n",
    "        l_v.append(l)\n",
    "        temp = list()\n",
    "        for i,n in enumerate(top_n):\n",
    "            id = n.docid\n",
    "            name = base.loc[int(id),\"txtNome\"]\n",
    "            temp.append(name)\n",
    "            if i==(top_k-1):\n",
    "                break\n",
    "            \n",
    "        \n",
    "        labels_nsL.append(temp)\n",
    "        \n",
    "    denominador = 0\n",
    "    encontrou=False\n",
    "    soma=0\n",
    "    for Y,x in zip(l_v,labels_nsL):\n",
    "        calc = 0\n",
    "        quant=0\n",
    "        for k in x:\n",
    "            if str(k).strip() == Y.strip():\n",
    "                quant=1\n",
    "                encontrou=True\n",
    "            denominador+=1\n",
    "            calc=quant/denominador\n",
    "            if encontrou:\n",
    "                calc = calc * 1\n",
    "            else:\n",
    "                calc = calc * 0\n",
    "            soma+=calc\n",
    "            encontrou = False\n",
    "    MAP = soma /295\n",
    "    print(\"MAP: %f\" % (MAP))"
   ]
  },
  {
   "cell_type": "code",
   "execution_count": 8,
   "id": "c80d3145",
   "metadata": {},
   "outputs": [],
   "source": [
    "class Savoy:\n",
    "\n",
    "    def __removeAllPTAccent(self, old_word):\n",
    "        word = list(old_word)\n",
    "        len_word = len(word)-1\n",
    "        for i in range(len_word, -1, -1):\n",
    "            if word[i] == 'ä':\n",
    "                word[i] = 'a'\n",
    "            if word[i] == 'â':\n",
    "                word[i] = 'a'\n",
    "            if word[i] == 'à':\n",
    "                word[i] = 'a'\n",
    "            if word[i] == 'á':\n",
    "                word[i] = 'a'\n",
    "            if word[i] == 'ã':\n",
    "                word[i] = 'a'\n",
    "            if word[i] == 'ê':\n",
    "                word[i] = 'e'\n",
    "            if word[i] == 'é':\n",
    "                word[i] = 'e'\n",
    "            if word[i] == 'è':\n",
    "                word[i] = 'e'\n",
    "            if word[i] == 'ë':\n",
    "                word[i] = 'e'\n",
    "            if word[i] == 'ï':\n",
    "                word[i] = 'i'\n",
    "            if word[i] == 'î':\n",
    "                word[i] = 'i'\n",
    "            if word[i] == 'ì':\n",
    "                word[i] = 'i'\n",
    "            if word[i] == 'í':\n",
    "                word[i] = 'i'\n",
    "            if word[i] == 'ü':\n",
    "                word[i] = 'u'\n",
    "            if word[i] == 'ú':\n",
    "                word[i] = 'u'\n",
    "            if word[i] == 'ù':\n",
    "                word[i] = 'u'\n",
    "            if word[i] == 'û':\n",
    "                word[i] = 'u'\n",
    "            if word[i] == 'ô':\n",
    "                word[i] = 'o'\n",
    "            if word[i] == 'ö':\n",
    "                word[i] = 'o'\n",
    "            if word[i] == 'ó':\n",
    "                word[i] = 'o'\n",
    "            if word[i] == 'ò':\n",
    "                word[i] = 'o'\n",
    "            if word[i] == 'õ':\n",
    "                word[i] = 'o'\n",
    "            if word[i] == 'ç':\n",
    "                word[i] = 'c'\n",
    "\n",
    "        new_word = \"\".join(word)\n",
    "        return new_word\n",
    "\n",
    "    def __finalVowelPortuguese(self, word):\n",
    "        len_word = len(word)\n",
    "        if len_word > 3:\n",
    "            if word[-1] == 'e' or word[-1] == 'a' or word[-1] == 'o':\n",
    "                word = word[:-1]\n",
    "\n",
    "        return word\n",
    "\n",
    "    def __remove_PTsuffix(self, word):\n",
    "        len_word = len(word)\n",
    "\n",
    "        if len_word > 3:\n",
    "            if word[-1] == 's' and word[-2] == 'e' and (word[-3] == 'r' or word[-3] == 's' or word[-3] == 'z' or word[-3] == 'l'):\n",
    "                word = word[:-2]\n",
    "                return word\n",
    "        if len_word > 2:\n",
    "            if word[-1] == 's' and word[-2] == 'n':\n",
    "                new_word = list(word)\n",
    "                new_word[-2] = 'm'\n",
    "                sing = \"\".join(new_word)\n",
    "                sing = sing[:-1]\n",
    "                return sing\n",
    "\n",
    "        if len_word > 3:\n",
    "            if (word[-1] == 's' and word[-2] == 'i') and (word[-3] == 'e' or word[-3] == 'é'):\n",
    "                new_word = list(word)\n",
    "                new_word[-3] = 'e'\n",
    "                new_word[-2] = 'l'\n",
    "                sing = \"\".join(new_word)\n",
    "                sing = sing[:-1]\n",
    "                return sing\n",
    "\n",
    "        if len_word > 3:\n",
    "            if word[-1] == 's' and word[-2] == 'i' and word[-3] == 'a':\n",
    "                new_word = list(word)\n",
    "                new_word[-2] = 'l'\n",
    "                sing = \"\".join(new_word)\n",
    "                sing = sing[:-1]\n",
    "                return sing\n",
    "\n",
    "        if len_word > 3:\n",
    "            if word[-1] == 's' and word[-2] == 'i' and word[-3] == 'ó':\n",
    "                new_word = list(word)\n",
    "                new_word[-3] = 'o'\n",
    "                new_word[-2] = 'l'\n",
    "                sing = \"\".join(new_word)\n",
    "                sing = sing[:-1]\n",
    "                return sing\n",
    "\n",
    "        if len_word > 3:\n",
    "            if word[-1] == 's' and word[-2] == 'i':\n",
    "                new_word = list(word)\n",
    "                new_word[-1] = 'l'\n",
    "                sing = \"\".join(new_word)\n",
    "                return sing\n",
    "\n",
    "        if len_word > 2:\n",
    "            if word[-1] == 's' and word[-2] == 'e' and word[-3] == 'õ':\n",
    "                new_word = list(word)\n",
    "                new_word[-3] = 'ã'\n",
    "                new_word[-2] = 'o'\n",
    "                sing = \"\".join(new_word)\n",
    "                sing = sing[:-1]\n",
    "                return sing\n",
    "            if word[-1] == 's' and word[-2] == 'e' and word[-3] == 'ã':\n",
    "                new_word = list(word)\n",
    "                new_word[-2] = 'o'\n",
    "                sing = \"\".join(new_word)\n",
    "                sing = sing[:-1]\n",
    "                return sing\n",
    "\n",
    "        if len_word > 5:\n",
    "            if word[-1] == 'e' and word[-2] == 't' and word[-3] == 'n' and word[-4] == 'e' and word[-5] == 'm':\n",
    "                word = word[:-5]\n",
    "                return word\n",
    "\n",
    "        if len_word > 2:\n",
    "            if word[-1] == 's':\n",
    "                word = word[:-1]\n",
    "\n",
    "        return word\n",
    "\n",
    "    def __normFemininPortuguese(self, word):\n",
    "\n",
    "        len_word = len(word)\n",
    "\n",
    "        if len_word < 3 or word[-1] != 'a':\n",
    "            return word\n",
    "\n",
    "        if len_word > 6:\n",
    "\n",
    "            if word[-2] == 'h' and word[-3] == 'n' and word[-4] == 'i':\n",
    "                new_word = list(word)\n",
    "                new_word[-1] = 'o'\n",
    "                masc = \"\".join(new_word)\n",
    "                return masc\n",
    "\n",
    "            if word[-2] == 'c' and word[-3] == 'a' and word[-4] == 'i':\n",
    "                new_word = list(word)\n",
    "                new_word[-1] = 'o'\n",
    "                masc = \"\".join(new_word)\n",
    "                return masc\n",
    "\n",
    "            if word[-2] == 'r' and word[-3] == 'i' and word[-4] == 'e':\n",
    "                new_word = list(word)\n",
    "                new_word[-1] = 'o'\n",
    "                masc = \"\".join(new_word)\n",
    "                return masc\n",
    "\n",
    "        if len_word > 5:\n",
    "            if word[-2] == 'n' and word[-3] == 'o':\n",
    "                new_word = list(word)\n",
    "                new_word[-3] = 'ã'\n",
    "                new_word[-2] = 'o'\n",
    "                masc = \"\".join(new_word)\n",
    "                masc = masc[:-1]\n",
    "                return masc\n",
    "\n",
    "            if word[-2] == 'r' and word[-3] == 'o':\n",
    "                word = word[:-1]\n",
    "                return word\n",
    "\n",
    "            if word[-2] == 's' and word[-3] == 'o':\n",
    "                new_word = list(word)\n",
    "                new_word[-1] = 'o'\n",
    "                masc = \"\".join(new_word)\n",
    "                return masc\n",
    "\n",
    "            if word[-2] == 's' and word[-3] == 'e':\n",
    "                new_word = list(word)\n",
    "                new_word[-3] = 'ê'\n",
    "                masc = \"\".join(new_word)\n",
    "                masc = masc[:-1]\n",
    "                return masc\n",
    "\n",
    "            if word[-2] == 'c' and word[-3] == 'i':\n",
    "                new_word = list(word)\n",
    "                new_word[-1] = 'o'\n",
    "                masc = \"\".join(new_word)\n",
    "                return masc\n",
    "\n",
    "            if word[-2] == 'd' and word[-3] == 'i':\n",
    "                new_word = list(word)\n",
    "                new_word[-1] = 'o'\n",
    "                masc = \"\".join(new_word)\n",
    "                return masc\n",
    "\n",
    "            if word[-2] == 'd' and word[-3] == 'a':\n",
    "                new_word = list(word)\n",
    "                new_word[-1] = 'o'\n",
    "                masc = \"\".join(new_word)\n",
    "                return masc\n",
    "\n",
    "            if word[-2] == 'v' and word[-3] == 'i':\n",
    "                new_word = list(word)\n",
    "                new_word[-1] = 'o'\n",
    "                masc = \"\".join(new_word)\n",
    "                return masc\n",
    "\n",
    "            if word[-2] == 'm' and word[-3] == 'a':\n",
    "                new_word = list(word)\n",
    "                new_word[-1] = 'o'\n",
    "                masc = \"\".join(new_word)\n",
    "                return masc\n",
    "\n",
    "            if word[-2] == 'n':\n",
    "                new_word = list(word)\n",
    "                new_word[-1] = 'o'\n",
    "                masc = \"\".join(new_word)\n",
    "                return masc\n",
    "\n",
    "        return word\n",
    "\n",
    "    def stem(self, word):\n",
    "        len_word = len(word)\n",
    "        if len_word > 2:\n",
    "            word = self.__remove_PTsuffix(word)\n",
    "            word = self.__normFemininPortuguese(word)\n",
    "            word = self.__finalVowelPortuguese(word)\n",
    "            word = self.__removeAllPTAccent(word)\n",
    "\n",
    "        return word"
   ]
  },
  {
   "cell_type": "code",
   "execution_count": 9,
   "id": "d45bd74d",
   "metadata": {},
   "outputs": [],
   "source": [
    "class RSLP_S:\n",
    "    def __plural_reduction(self, word):\n",
    "        excep = [\"lápis\",\"cais\",\"mais\",\"crúcis\",\"biquínis\",\"pois\",\"depois\",\"dois\",\"leis\" ]\n",
    "        excep_s = [\"aliás\",\"pires\",\"lápis\",\"cais\",\"mais\",\"mas\",\"menos\", \"férias\",\"fezes\",\"pêsames\",\"crúcis\",\"gás\", \"atrás\",\"moisés\",\"através\",\"convés\",\"ês\", \"país\",\"após\",\"ambas\",\"ambos\",\"messias\"]\n",
    "\n",
    "        len_word = len(word)\n",
    "        new_word = list(word)\n",
    "\n",
    "        if len_word >= 3:\n",
    "            if new_word[-1] == 's' and new_word[-2] == 'n':\n",
    "                new_word[-2] = 'm'\n",
    "                sing = \"\".join(new_word)\n",
    "                sing = sing[:-1]\n",
    "                return sing\n",
    "\n",
    "            if new_word[-1] == 's' and new_word[-2] == 'e' and new_word[-3] == 'õ':\n",
    "                new_word[-3] = 'ã'\n",
    "                new_word[-2] = 'o'\n",
    "                sing = \"\".join(new_word)\n",
    "                sing = sing[:-1]\n",
    "                return  sing\n",
    "\n",
    "            if new_word[-1] == 's' and new_word[-2] == 'e' and new_word[-3] == 'ã':\n",
    "                if word == 'mães':\n",
    "                    word = word[:-1]\n",
    "                    return word\n",
    "                else:\n",
    "                    new_word[-2] = 'o'\n",
    "                    sing = \"\".join(new_word)\n",
    "                    sing = sing[:-1]\n",
    "                    return sing\n",
    "\n",
    "            if new_word[-1] == 's' and new_word[-2] == 'i' and new_word[-3] == 'a':\n",
    "                if word != 'cais' and word != 'mais':\n",
    "                    new_word[-2] = 'l'\n",
    "                    sing = \"\".join(new_word)\n",
    "                    sing = sing[:-1]\n",
    "                    return sing\n",
    "\n",
    "            if new_word[-1] == 's' and new_word[-2] == 'i' and new_word[-3] == 'é':\n",
    "                new_word[-3] = 'e'\n",
    "                new_word[-2] = 'l'\n",
    "                sing = \"\".join(new_word)\n",
    "                sing = sing[:-1]\n",
    "                return sing\n",
    "\n",
    "            if new_word[-1] == 's' and new_word[-2] == 'i' and new_word[-3] == 'e':\n",
    "                new_word[-3] = 'e'\n",
    "                new_word[-2] = 'l'\n",
    "                sing = \"\".join(new_word)\n",
    "                sing = sing[:-1]\n",
    "                return sing\n",
    "\n",
    "            if new_word[-1] == 's' and new_word[-2] == 'i' and new_word[-3] == 'ó':\n",
    "                new_word[-3] = 'o'\n",
    "                new_word[-2] = 'l'\n",
    "                sing = \"\".join(new_word)\n",
    "                sing = sing[:-1]\n",
    "                return sing\n",
    "\n",
    "            if new_word[-1] == 's' and new_word[-2] == 'i':\n",
    "                if word not in excep:\n",
    "                    new_word[-1] = 'l'\n",
    "                    sing = \"\".join(new_word)\n",
    "                    return sing\n",
    "\n",
    "            if new_word[-1] == 's' and new_word[-2] == 'e' and new_word[-3] == 'l':\n",
    "                word = word[:-2]\n",
    "                return word\n",
    "\n",
    "            if new_word[-1] == 's' and new_word[-2] == 'e' and new_word[-3] == 'r':\n",
    "                word = word[:-2]\n",
    "                return word\n",
    "\n",
    "            if new_word[-1] == 's':\n",
    "                if word not in excep_s:\n",
    "                    word = word[:-1]\n",
    "\n",
    "        return word\n",
    "\n",
    "    def stem(self, word):\n",
    "        word = self.__plural_reduction(word)\n",
    "\n",
    "        return word"
   ]
  },
  {
   "cell_type": "markdown",
   "id": "61dab6bd",
   "metadata": {},
   "source": [
    "## Config 1"
   ]
  },
  {
   "cell_type": "code",
   "execution_count": 10,
   "id": "2f481347",
   "metadata": {},
   "outputs": [],
   "source": [
    "index_path = 'indexI/sem_pre_processamento'"
   ]
  },
  {
   "cell_type": "code",
   "execution_count": 11,
   "id": "95eeed8e",
   "metadata": {},
   "outputs": [
    {
     "name": "stdout",
     "output_type": "stream",
     "text": [
      "SimpleSearcher class has been deprecated, please use LuceneSearcher from pyserini.search.lucene instead\n"
     ]
    }
   ],
   "source": [
    "searcher = SimpleSearcher(index_path)\n",
    "searcher.set_bm25(k1=1.5,b=0.75)"
   ]
  },
  {
   "cell_type": "code",
   "execution_count": 12,
   "id": "08f377b9",
   "metadata": {},
   "outputs": [],
   "source": [
    "def preprocess(txt):\n",
    "    txt = str(txt)\n",
    "    terms = word_tokenize(txt)\n",
    "    terms = \" \".join(terms)\n",
    "    return terms"
   ]
  },
  {
   "cell_type": "markdown",
   "id": "d1a0baab",
   "metadata": {},
   "source": [
    "### Avaliação"
   ]
  },
  {
   "cell_type": "markdown",
   "id": "dd5efdb8",
   "metadata": {},
   "source": [
    "#### Recall"
   ]
  },
  {
   "cell_type": "code",
   "execution_count": 16,
   "id": "0a34b5bc",
   "metadata": {},
   "outputs": [
    {
     "name": "stdout",
     "output_type": "stream",
     "text": [
      "R@20: 0.0711864406779661\n",
      "Duração: 1.681999\n"
     ]
    }
   ],
   "source": [
    "avaliacaoRecall(True,5)"
   ]
  },
  {
   "cell_type": "code",
   "execution_count": 17,
   "id": "39df4ad9",
   "metadata": {},
   "outputs": [
    {
     "name": "stdout",
     "output_type": "stream",
     "text": [
      "R@20: 0.09152542372881356\n",
      "Duração: 0.764999\n"
     ]
    }
   ],
   "source": [
    "avaliacaoRecall(True,10)"
   ]
  },
  {
   "cell_type": "code",
   "execution_count": 13,
   "id": "311be709",
   "metadata": {},
   "outputs": [
    {
     "name": "stdout",
     "output_type": "stream",
     "text": [
      "R@20: 0.3050847457627119\n",
      "Duração: 2.476504\n"
     ]
    }
   ],
   "source": [
    "avaliacaoRecall(True,20)"
   ]
  },
  {
   "cell_type": "markdown",
   "id": "ac6b623d",
   "metadata": {},
   "source": [
    "#### RR"
   ]
  },
  {
   "cell_type": "code",
   "execution_count": 19,
   "id": "28a2dd77",
   "metadata": {},
   "outputs": [
    {
     "name": "stdout",
     "output_type": "stream",
     "text": [
      "RR: 0.040678\n"
     ]
    }
   ],
   "source": [
    "avaliacaoRR(True,5)"
   ]
  },
  {
   "cell_type": "markdown",
   "id": "3d304e54",
   "metadata": {},
   "source": [
    "### Precision"
   ]
  },
  {
   "cell_type": "code",
   "execution_count": 20,
   "id": "456814a7",
   "metadata": {},
   "outputs": [
    {
     "name": "stdout",
     "output_type": "stream",
     "text": [
      "P@ 5: 0.014237 \n"
     ]
    }
   ],
   "source": [
    "avaliacaoPrecision(True,5)"
   ]
  },
  {
   "cell_type": "code",
   "execution_count": 21,
   "id": "467ac865",
   "metadata": {},
   "outputs": [
    {
     "name": "stdout",
     "output_type": "stream",
     "text": [
      "P@ 10: 0.009153 \n"
     ]
    }
   ],
   "source": [
    "avaliacaoPrecision(True,10)"
   ]
  },
  {
   "cell_type": "code",
   "execution_count": 22,
   "id": "66364443",
   "metadata": {},
   "outputs": [
    {
     "name": "stdout",
     "output_type": "stream",
     "text": [
      "P@ 20: 0.004576 \n"
     ]
    }
   ],
   "source": [
    "avaliacaoPrecision(True,20)"
   ]
  },
  {
   "cell_type": "markdown",
   "id": "2b0de479",
   "metadata": {},
   "source": [
    "### MAP"
   ]
  },
  {
   "cell_type": "code",
   "execution_count": 23,
   "id": "23c0f7ca",
   "metadata": {},
   "outputs": [
    {
     "name": "stdout",
     "output_type": "stream",
     "text": [
      "MAP: 0.000153\n"
     ]
    }
   ],
   "source": [
    "avaliacaoMAP(True,5)"
   ]
  },
  {
   "cell_type": "code",
   "execution_count": 24,
   "id": "5f07527c",
   "metadata": {},
   "outputs": [
    {
     "name": "stdout",
     "output_type": "stream",
     "text": [
      "MAP: 0.000233\n"
     ]
    }
   ],
   "source": [
    "avaliacaoMAP(True,10)"
   ]
  },
  {
   "cell_type": "code",
   "execution_count": 25,
   "id": "ce89c5f8",
   "metadata": {},
   "outputs": [
    {
     "name": "stdout",
     "output_type": "stream",
     "text": [
      "MAP: 0.000233\n"
     ]
    }
   ],
   "source": [
    "avaliacaoMAP(True,20)"
   ]
  },
  {
   "cell_type": "markdown",
   "id": "395c6c45",
   "metadata": {},
   "source": [
    "## Config 5"
   ]
  },
  {
   "cell_type": "code",
   "execution_count": 14,
   "id": "6604cbe3",
   "metadata": {},
   "outputs": [],
   "source": [
    "index_path = 'indexI/pre_processamento_lower_remocao_punctuation_acentuacao_stopwords'"
   ]
  },
  {
   "cell_type": "code",
   "execution_count": 15,
   "id": "39066769",
   "metadata": {},
   "outputs": [
    {
     "name": "stdout",
     "output_type": "stream",
     "text": [
      "SimpleSearcher class has been deprecated, please use LuceneSearcher from pyserini.search.lucene instead\n"
     ]
    }
   ],
   "source": [
    "searcher = SimpleSearcher(index_path)\n",
    "searcher.set_bm25(k1=1.5,b=0.75)"
   ]
  },
  {
   "cell_type": "code",
   "execution_count": 16,
   "id": "3f8950a0",
   "metadata": {},
   "outputs": [],
   "source": [
    "def _remove_acentos(txt):\n",
    "    return normalize('NFKD', txt).encode('ASCII', 'ignore').decode('ASCII')\n",
    "\n",
    "def preprocess(txt):\n",
    "    txt = str(txt)\n",
    "    txt = _remove_acentos(txt)\n",
    "    stopwords = nltk.corpus.stopwords.words(\"portuguese\")\n",
    "    stopwords.extend(list(punctuation))\n",
    "    tokenizer = RegexpTokenizer('\\w+')\n",
    "    terms = tokenizer.tokenize(txt.lower())\n",
    "    terms = [word for word in terms if word not in stopwords]\n",
    "    terms = \" \".join(terms)\n",
    "    return terms"
   ]
  },
  {
   "cell_type": "markdown",
   "id": "7ceb4bce",
   "metadata": {},
   "source": [
    "### Avaliação"
   ]
  },
  {
   "cell_type": "markdown",
   "id": "c8d1b0b0",
   "metadata": {},
   "source": [
    "#### Recall"
   ]
  },
  {
   "cell_type": "code",
   "execution_count": 29,
   "id": "efc01690",
   "metadata": {},
   "outputs": [
    {
     "name": "stdout",
     "output_type": "stream",
     "text": [
      "R@20: 0.09491525423728814\n",
      "Duração: 0.561033\n"
     ]
    }
   ],
   "source": [
    "avaliacaoRecall(True,5)"
   ]
  },
  {
   "cell_type": "code",
   "execution_count": 30,
   "id": "444edc64",
   "metadata": {},
   "outputs": [
    {
     "name": "stdout",
     "output_type": "stream",
     "text": [
      "R@20: 0.12542372881355932\n",
      "Duração: 0.546994\n"
     ]
    }
   ],
   "source": [
    "avaliacaoRecall(True,10)"
   ]
  },
  {
   "cell_type": "code",
   "execution_count": 17,
   "id": "0180b41b",
   "metadata": {},
   "outputs": [
    {
     "name": "stdout",
     "output_type": "stream",
     "text": [
      "R@20: 0.4033898305084746\n",
      "Duração: 0.794719\n"
     ]
    }
   ],
   "source": [
    "avaliacaoRecall(True,20)"
   ]
  },
  {
   "cell_type": "markdown",
   "id": "9c650256",
   "metadata": {},
   "source": [
    "#### RR"
   ]
  },
  {
   "cell_type": "code",
   "execution_count": 32,
   "id": "dca0dc2f",
   "metadata": {},
   "outputs": [
    {
     "name": "stdout",
     "output_type": "stream",
     "text": [
      "RR: 0.050847\n"
     ]
    }
   ],
   "source": [
    "avaliacaoRR(True,5)"
   ]
  },
  {
   "cell_type": "markdown",
   "id": "d28522e8",
   "metadata": {},
   "source": [
    "### Precision"
   ]
  },
  {
   "cell_type": "code",
   "execution_count": 33,
   "id": "78dd6932",
   "metadata": {},
   "outputs": [
    {
     "name": "stdout",
     "output_type": "stream",
     "text": [
      "P@ 5: 0.018983 \n"
     ]
    }
   ],
   "source": [
    "avaliacaoPrecision(True,5)"
   ]
  },
  {
   "cell_type": "code",
   "execution_count": 34,
   "id": "7ac8972b",
   "metadata": {},
   "outputs": [
    {
     "name": "stdout",
     "output_type": "stream",
     "text": [
      "P@ 10: 0.012542 \n"
     ]
    }
   ],
   "source": [
    "avaliacaoPrecision(True,10)"
   ]
  },
  {
   "cell_type": "code",
   "execution_count": 35,
   "id": "068701ed",
   "metadata": {},
   "outputs": [
    {
     "name": "stdout",
     "output_type": "stream",
     "text": [
      "P@ 20: 0.006271 \n"
     ]
    }
   ],
   "source": [
    "avaliacaoPrecision(True,20)"
   ]
  },
  {
   "cell_type": "markdown",
   "id": "99431156",
   "metadata": {},
   "source": [
    "### MAP"
   ]
  },
  {
   "cell_type": "code",
   "execution_count": 36,
   "id": "ea02e2c6",
   "metadata": {},
   "outputs": [
    {
     "name": "stdout",
     "output_type": "stream",
     "text": [
      "MAP: 0.000181\n"
     ]
    }
   ],
   "source": [
    "avaliacaoMAP(True,5)"
   ]
  },
  {
   "cell_type": "code",
   "execution_count": 37,
   "id": "08d6401e",
   "metadata": {},
   "outputs": [
    {
     "name": "stdout",
     "output_type": "stream",
     "text": [
      "MAP: 0.000253\n"
     ]
    }
   ],
   "source": [
    "avaliacaoMAP(True,10)"
   ]
  },
  {
   "cell_type": "code",
   "execution_count": 38,
   "id": "b9fba383",
   "metadata": {},
   "outputs": [
    {
     "name": "stdout",
     "output_type": "stream",
     "text": [
      "MAP: 0.000253\n"
     ]
    }
   ],
   "source": [
    "avaliacaoMAP(True,20)"
   ]
  },
  {
   "cell_type": "markdown",
   "id": "4e302b67",
   "metadata": {},
   "source": [
    "## Config 8"
   ]
  },
  {
   "cell_type": "code",
   "execution_count": 18,
   "id": "47a69ab2",
   "metadata": {},
   "outputs": [],
   "source": [
    "index_path = 'indexI/pre_processamento_rslp_full'"
   ]
  },
  {
   "cell_type": "code",
   "execution_count": 19,
   "id": "7f59c608",
   "metadata": {},
   "outputs": [
    {
     "name": "stdout",
     "output_type": "stream",
     "text": [
      "SimpleSearcher class has been deprecated, please use LuceneSearcher from pyserini.search.lucene instead\n"
     ]
    }
   ],
   "source": [
    "searcher = SimpleSearcher(index_path)\n",
    "searcher.set_bm25(k1=1.5,b=0.75)"
   ]
  },
  {
   "cell_type": "code",
   "execution_count": 20,
   "id": "35c469dc",
   "metadata": {},
   "outputs": [],
   "source": [
    "def _remove_acentos(txt):\n",
    "    return normalize('NFKD', txt).encode('ASCII', 'ignore').decode('ASCII')\n",
    "\n",
    "def preprocess(txt):\n",
    "    txt = str(txt)\n",
    "    txt = _remove_acentos(txt)\n",
    "    stopwords = nltk.corpus.stopwords.words(\"portuguese\")\n",
    "    stopwords.extend(list(punctuation))\n",
    "\n",
    "    stemmer = RSLPStemmer()\n",
    "    tokenizer = RegexpTokenizer('\\w+')\n",
    "    terms = tokenizer.tokenize(txt.lower())\n",
    "    terms = [stemmer.stem(word) for word in terms if word not in stopwords]\n",
    "        \n",
    "    return \" \".join(terms)"
   ]
  },
  {
   "cell_type": "markdown",
   "id": "983cfe4b",
   "metadata": {},
   "source": [
    "### Avaliação"
   ]
  },
  {
   "cell_type": "markdown",
   "id": "aa3e723d",
   "metadata": {},
   "source": [
    "#### Recall"
   ]
  },
  {
   "cell_type": "code",
   "execution_count": 42,
   "id": "f149da9e",
   "metadata": {},
   "outputs": [
    {
     "name": "stdout",
     "output_type": "stream",
     "text": [
      "R@20: 0.3423728813559322\n",
      "Duração: 3.219035\n"
     ]
    }
   ],
   "source": [
    "avaliacaoRecall(True,5)"
   ]
  },
  {
   "cell_type": "code",
   "execution_count": 43,
   "id": "63b1d2e7",
   "metadata": {},
   "outputs": [
    {
     "name": "stdout",
     "output_type": "stream",
     "text": [
      "R@20: 0.39322033898305087\n",
      "Duração: 1.598032\n"
     ]
    }
   ],
   "source": [
    "avaliacaoRecall(True,10)"
   ]
  },
  {
   "cell_type": "code",
   "execution_count": 21,
   "id": "d8a023e5",
   "metadata": {},
   "outputs": [
    {
     "name": "stdout",
     "output_type": "stream",
     "text": [
      "R@20: 0.43389830508474575\n",
      "Duração: 1.556276\n"
     ]
    }
   ],
   "source": [
    "avaliacaoRecall(True,20)"
   ]
  },
  {
   "cell_type": "markdown",
   "id": "f3d7d7f7",
   "metadata": {},
   "source": [
    "#### RR"
   ]
  },
  {
   "cell_type": "code",
   "execution_count": 45,
   "id": "42a960e5",
   "metadata": {},
   "outputs": [
    {
     "name": "stdout",
     "output_type": "stream",
     "text": [
      "RR: 0.186441\n"
     ]
    }
   ],
   "source": [
    "avaliacaoRR(True,5)"
   ]
  },
  {
   "cell_type": "markdown",
   "id": "51624516",
   "metadata": {},
   "source": [
    "### Precision"
   ]
  },
  {
   "cell_type": "code",
   "execution_count": 46,
   "id": "169b96e6",
   "metadata": {},
   "outputs": [
    {
     "name": "stdout",
     "output_type": "stream",
     "text": [
      "P@ 5: 0.068475 \n"
     ]
    }
   ],
   "source": [
    "avaliacaoPrecision(True,5)"
   ]
  },
  {
   "cell_type": "code",
   "execution_count": 47,
   "id": "2d0fb40c",
   "metadata": {},
   "outputs": [
    {
     "name": "stdout",
     "output_type": "stream",
     "text": [
      "P@ 10: 0.039322 \n"
     ]
    }
   ],
   "source": [
    "avaliacaoPrecision(True,10)"
   ]
  },
  {
   "cell_type": "code",
   "execution_count": 48,
   "id": "964cee5c",
   "metadata": {},
   "outputs": [
    {
     "name": "stdout",
     "output_type": "stream",
     "text": [
      "P@ 20: 0.019661 \n"
     ]
    }
   ],
   "source": [
    "avaliacaoPrecision(True,20)"
   ]
  },
  {
   "cell_type": "markdown",
   "id": "6b84fa91",
   "metadata": {},
   "source": [
    "### MAP"
   ]
  },
  {
   "cell_type": "code",
   "execution_count": 49,
   "id": "34537afd",
   "metadata": {},
   "outputs": [
    {
     "name": "stdout",
     "output_type": "stream",
     "text": [
      "MAP: 0.001368\n"
     ]
    }
   ],
   "source": [
    "avaliacaoMAP(True,5)"
   ]
  },
  {
   "cell_type": "code",
   "execution_count": 50,
   "id": "ea580a2b",
   "metadata": {},
   "outputs": [
    {
     "name": "stdout",
     "output_type": "stream",
     "text": [
      "MAP: 0.000807\n"
     ]
    }
   ],
   "source": [
    "avaliacaoMAP(True,10)"
   ]
  },
  {
   "cell_type": "code",
   "execution_count": 51,
   "id": "216fcced",
   "metadata": {},
   "outputs": [
    {
     "name": "stdout",
     "output_type": "stream",
     "text": [
      "MAP: 0.000807\n"
     ]
    }
   ],
   "source": [
    "avaliacaoMAP(True,20)"
   ]
  },
  {
   "cell_type": "markdown",
   "id": "b793ad01",
   "metadata": {},
   "source": [
    "## Config 9"
   ]
  },
  {
   "cell_type": "code",
   "execution_count": 22,
   "id": "b95b9198",
   "metadata": {},
   "outputs": [],
   "source": [
    "index_path = 'indexI/pre_processamento_savoy_full'"
   ]
  },
  {
   "cell_type": "code",
   "execution_count": 23,
   "id": "d4e16f06",
   "metadata": {},
   "outputs": [
    {
     "name": "stdout",
     "output_type": "stream",
     "text": [
      "SimpleSearcher class has been deprecated, please use LuceneSearcher from pyserini.search.lucene instead\n"
     ]
    }
   ],
   "source": [
    "searcher = SimpleSearcher(index_path)\n",
    "searcher.set_bm25(k1=1.5,b=0.75)"
   ]
  },
  {
   "cell_type": "code",
   "execution_count": 24,
   "id": "1ae28261",
   "metadata": {},
   "outputs": [],
   "source": [
    "def _remove_acentos(txt):\n",
    "    return normalize('NFKD', txt).encode('ASCII', 'ignore').decode('ASCII')\n",
    "\n",
    "def preprocess(txt):\n",
    "    txt = str(txt)\n",
    "    txt = _remove_acentos(txt)\n",
    "    stopwords = nltk.corpus.stopwords.words(\"portuguese\")\n",
    "    stopwords.extend(list(punctuation))\n",
    "\n",
    "    stemmer = Savoy()\n",
    "    tokenizer = RegexpTokenizer('\\w+')\n",
    "    terms = tokenizer.tokenize(txt.lower())\n",
    "    terms = [stemmer.stem(word) for word in terms if word not in stopwords]\n",
    "        \n",
    "    return \" \".join(terms)"
   ]
  },
  {
   "cell_type": "markdown",
   "id": "163a3e40",
   "metadata": {},
   "source": [
    "### Avaliação"
   ]
  },
  {
   "cell_type": "markdown",
   "id": "6b61910d",
   "metadata": {},
   "source": [
    "#### Recall"
   ]
  },
  {
   "cell_type": "code",
   "execution_count": 55,
   "id": "590bd777",
   "metadata": {},
   "outputs": [
    {
     "name": "stdout",
     "output_type": "stream",
     "text": [
      "R@20: 0.30847457627118646\n",
      "Duração: 1.267999\n"
     ]
    }
   ],
   "source": [
    "avaliacaoRecall(True,5)"
   ]
  },
  {
   "cell_type": "code",
   "execution_count": 56,
   "id": "64cffd74",
   "metadata": {},
   "outputs": [
    {
     "name": "stdout",
     "output_type": "stream",
     "text": [
      "R@20: 0.34915254237288135\n",
      "Duração: 0.974002\n"
     ]
    }
   ],
   "source": [
    "avaliacaoRecall(True,10)"
   ]
  },
  {
   "cell_type": "code",
   "execution_count": 25,
   "id": "8022f050",
   "metadata": {},
   "outputs": [
    {
     "name": "stdout",
     "output_type": "stream",
     "text": [
      "R@20: 0.39661016949152544\n",
      "Duração: 0.878034\n"
     ]
    }
   ],
   "source": [
    "avaliacaoRecall(True,20)"
   ]
  },
  {
   "cell_type": "markdown",
   "id": "6f6e4b9b",
   "metadata": {},
   "source": [
    "#### RR"
   ]
  },
  {
   "cell_type": "code",
   "execution_count": 58,
   "id": "cbf52019",
   "metadata": {},
   "outputs": [
    {
     "name": "stdout",
     "output_type": "stream",
     "text": [
      "RR: 0.176271\n"
     ]
    }
   ],
   "source": [
    "avaliacaoRR(True,5)"
   ]
  },
  {
   "cell_type": "markdown",
   "id": "4441ceca",
   "metadata": {},
   "source": [
    "### Precision"
   ]
  },
  {
   "cell_type": "code",
   "execution_count": 59,
   "id": "7e110122",
   "metadata": {},
   "outputs": [
    {
     "name": "stdout",
     "output_type": "stream",
     "text": [
      "P@ 5: 0.061695 \n"
     ]
    }
   ],
   "source": [
    "avaliacaoPrecision(True,5)"
   ]
  },
  {
   "cell_type": "code",
   "execution_count": 60,
   "id": "fddeead4",
   "metadata": {},
   "outputs": [
    {
     "name": "stdout",
     "output_type": "stream",
     "text": [
      "P@ 10: 0.034915 \n"
     ]
    }
   ],
   "source": [
    "avaliacaoPrecision(True,10)"
   ]
  },
  {
   "cell_type": "code",
   "execution_count": 61,
   "id": "aa46840b",
   "metadata": {},
   "outputs": [
    {
     "name": "stdout",
     "output_type": "stream",
     "text": [
      "P@ 20: 0.017458 \n"
     ]
    }
   ],
   "source": [
    "avaliacaoPrecision(True,20)"
   ]
  },
  {
   "cell_type": "markdown",
   "id": "2ffae916",
   "metadata": {},
   "source": [
    "### MAP"
   ]
  },
  {
   "cell_type": "code",
   "execution_count": 62,
   "id": "a87e9247",
   "metadata": {},
   "outputs": [
    {
     "name": "stdout",
     "output_type": "stream",
     "text": [
      "MAP: 0.001047\n"
     ]
    }
   ],
   "source": [
    "avaliacaoMAP(True,5)"
   ]
  },
  {
   "cell_type": "code",
   "execution_count": 63,
   "id": "30f277a6",
   "metadata": {},
   "outputs": [
    {
     "name": "stdout",
     "output_type": "stream",
     "text": [
      "MAP: 0.000708\n"
     ]
    }
   ],
   "source": [
    "avaliacaoMAP(True,10)"
   ]
  },
  {
   "cell_type": "code",
   "execution_count": 64,
   "id": "5786e2ff",
   "metadata": {},
   "outputs": [
    {
     "name": "stdout",
     "output_type": "stream",
     "text": [
      "MAP: 0.000708\n"
     ]
    }
   ],
   "source": [
    "avaliacaoMAP(True,20)"
   ]
  },
  {
   "cell_type": "markdown",
   "id": "3183ac18",
   "metadata": {},
   "source": [
    "## Config 18"
   ]
  },
  {
   "cell_type": "code",
   "execution_count": 26,
   "id": "961983aa",
   "metadata": {},
   "outputs": [],
   "source": [
    "index_path = 'indexI/pre_processamento_unigram_bigram_rslp_full'"
   ]
  },
  {
   "cell_type": "code",
   "execution_count": 27,
   "id": "42207994",
   "metadata": {},
   "outputs": [
    {
     "name": "stdout",
     "output_type": "stream",
     "text": [
      "SimpleSearcher class has been deprecated, please use LuceneSearcher from pyserini.search.lucene instead\n"
     ]
    }
   ],
   "source": [
    "searcher = SimpleSearcher(index_path)\n",
    "searcher.set_bm25(k1=1.5,b=0.75)"
   ]
  },
  {
   "cell_type": "code",
   "execution_count": 28,
   "id": "52bdaef8",
   "metadata": {},
   "outputs": [],
   "source": [
    "def _remove_acentos(txt):\n",
    "    return normalize('NFKD', txt).encode('ASCII', 'ignore').decode('ASCII')\n",
    "\n",
    "def preprocess(txt):\n",
    "    txt = str(txt)\n",
    "    txt = _remove_acentos(txt)\n",
    "    stopwords = nltk.corpus.stopwords.words(\"portuguese\")\n",
    "    stopwords.extend(list(punctuation))\n",
    "\n",
    "    stemmer = RSLPStemmer()\n",
    "    tokenizer = RegexpTokenizer('\\w+')\n",
    "    terms = tokenizer.tokenize(txt.lower())\n",
    "    terms = [stemmer.stem(word) for word in terms if word not in stopwords]\n",
    "    \n",
    "    ngram = []\n",
    "    ngram_1 = list(ngrams(terms, 1))\n",
    "    ngram_2 = list(ngrams(terms, 2))\n",
    "    for w in ngram_1:\n",
    "        ngram.append(w[0])\n",
    "        \n",
    "    for w in ngram_2:\n",
    "        string = w[0] + \"_\" + w[1]\n",
    "        ngram.append(string)\n",
    "    \n",
    "    return \" \".join(ngram)"
   ]
  },
  {
   "cell_type": "markdown",
   "id": "43f1203c",
   "metadata": {},
   "source": [
    "### Avaliação"
   ]
  },
  {
   "cell_type": "markdown",
   "id": "97764441",
   "metadata": {},
   "source": [
    "#### Recall"
   ]
  },
  {
   "cell_type": "code",
   "execution_count": 68,
   "id": "c089f181",
   "metadata": {},
   "outputs": [
    {
     "name": "stdout",
     "output_type": "stream",
     "text": [
      "R@20: 0.3288135593220339\n",
      "Duração: 2.150000\n"
     ]
    }
   ],
   "source": [
    "avaliacaoRecall(True,5)"
   ]
  },
  {
   "cell_type": "code",
   "execution_count": 69,
   "id": "27d5110b",
   "metadata": {},
   "outputs": [
    {
     "name": "stdout",
     "output_type": "stream",
     "text": [
      "R@20: 0.3898305084745763\n",
      "Duração: 2.136001\n"
     ]
    }
   ],
   "source": [
    "avaliacaoRecall(True,10)"
   ]
  },
  {
   "cell_type": "code",
   "execution_count": 29,
   "id": "4b006962",
   "metadata": {},
   "outputs": [
    {
     "name": "stdout",
     "output_type": "stream",
     "text": [
      "R@20: 0.4440677966101695\n",
      "Duração: 1.624966\n"
     ]
    }
   ],
   "source": [
    "avaliacaoRecall(True,20)"
   ]
  },
  {
   "cell_type": "markdown",
   "id": "1b9c37e0",
   "metadata": {},
   "source": [
    "#### RR"
   ]
  },
  {
   "cell_type": "code",
   "execution_count": 71,
   "id": "3e77439a",
   "metadata": {},
   "outputs": [
    {
     "name": "stdout",
     "output_type": "stream",
     "text": [
      "RR: 0.200000\n"
     ]
    }
   ],
   "source": [
    "avaliacaoRR(True,5)"
   ]
  },
  {
   "cell_type": "markdown",
   "id": "6c8af5b2",
   "metadata": {},
   "source": [
    "### Precision"
   ]
  },
  {
   "cell_type": "code",
   "execution_count": 72,
   "id": "2ced496c",
   "metadata": {},
   "outputs": [
    {
     "name": "stdout",
     "output_type": "stream",
     "text": [
      "P@ 5: 0.065763 \n"
     ]
    }
   ],
   "source": [
    "avaliacaoPrecision(True,5)"
   ]
  },
  {
   "cell_type": "code",
   "execution_count": 73,
   "id": "10cd2410",
   "metadata": {},
   "outputs": [
    {
     "name": "stdout",
     "output_type": "stream",
     "text": [
      "P@ 10: 0.038983 \n"
     ]
    }
   ],
   "source": [
    "avaliacaoPrecision(True,10)"
   ]
  },
  {
   "cell_type": "code",
   "execution_count": 74,
   "id": "754f7763",
   "metadata": {},
   "outputs": [
    {
     "name": "stdout",
     "output_type": "stream",
     "text": [
      "P@ 20: 0.019492 \n"
     ]
    }
   ],
   "source": [
    "avaliacaoPrecision(True,20)"
   ]
  },
  {
   "cell_type": "markdown",
   "id": "728ea691",
   "metadata": {},
   "source": [
    "### MAP"
   ]
  },
  {
   "cell_type": "code",
   "execution_count": 75,
   "id": "df636fca",
   "metadata": {},
   "outputs": [
    {
     "name": "stdout",
     "output_type": "stream",
     "text": [
      "MAP: 0.001374\n"
     ]
    }
   ],
   "source": [
    "avaliacaoMAP(True,5)"
   ]
  },
  {
   "cell_type": "code",
   "execution_count": 76,
   "id": "af5142f7",
   "metadata": {},
   "outputs": [
    {
     "name": "stdout",
     "output_type": "stream",
     "text": [
      "MAP: 0.000799\n"
     ]
    }
   ],
   "source": [
    "avaliacaoMAP(True,10)"
   ]
  },
  {
   "cell_type": "code",
   "execution_count": 77,
   "id": "6fcc608a",
   "metadata": {},
   "outputs": [
    {
     "name": "stdout",
     "output_type": "stream",
     "text": [
      "MAP: 0.000799\n"
     ]
    }
   ],
   "source": [
    "avaliacaoMAP(True,20)"
   ]
  },
  {
   "cell_type": "markdown",
   "id": "9dbfc2be",
   "metadata": {},
   "source": [
    "## Config 21"
   ]
  },
  {
   "cell_type": "code",
   "execution_count": 30,
   "id": "cb2d7478",
   "metadata": {},
   "outputs": [],
   "source": [
    "index_path = 'indexI/pre_processamento_unigram_bigram_savoy_full'"
   ]
  },
  {
   "cell_type": "code",
   "execution_count": 31,
   "id": "6cae88a7",
   "metadata": {},
   "outputs": [
    {
     "name": "stdout",
     "output_type": "stream",
     "text": [
      "SimpleSearcher class has been deprecated, please use LuceneSearcher from pyserini.search.lucene instead\n"
     ]
    }
   ],
   "source": [
    "searcher = SimpleSearcher(index_path)\n",
    "searcher.set_bm25(k1=1.5,b=0.75)"
   ]
  },
  {
   "cell_type": "code",
   "execution_count": 32,
   "id": "0679a54f",
   "metadata": {},
   "outputs": [],
   "source": [
    "def _remove_acentos(txt):\n",
    "    return normalize('NFKD', txt).encode('ASCII', 'ignore').decode('ASCII')\n",
    "\n",
    "def preprocess(txt):\n",
    "    txt = str(txt)\n",
    "    txt = _remove_acentos(txt)\n",
    "    stopwords = nltk.corpus.stopwords.words(\"portuguese\")\n",
    "    stopwords.extend(list(punctuation))\n",
    "\n",
    "    stemmer = Savoy()\n",
    "    tokenizer = RegexpTokenizer('\\w+')\n",
    "    terms = tokenizer.tokenize(txt.lower())\n",
    "    terms = [stemmer.stem(word) for word in terms if word not in stopwords]\n",
    "    \n",
    "    ngram = []\n",
    "    ngram_1 = list(ngrams(terms, 1))\n",
    "    ngram_2 = list(ngrams(terms, 2))\n",
    "    for w in ngram_1:\n",
    "        ngram.append(w[0])\n",
    "        \n",
    "    for w in ngram_2:\n",
    "        string = w[0] + \"_\" + w[1]\n",
    "        ngram.append(string)\n",
    "    \n",
    "    return \" \".join(ngram)"
   ]
  },
  {
   "cell_type": "markdown",
   "id": "4b9d2f9b",
   "metadata": {},
   "source": [
    "### Avaliação"
   ]
  },
  {
   "cell_type": "markdown",
   "id": "dee5168f",
   "metadata": {},
   "source": [
    "#### Recall"
   ]
  },
  {
   "cell_type": "code",
   "execution_count": 81,
   "id": "9bf2ba2a",
   "metadata": {},
   "outputs": [
    {
     "name": "stdout",
     "output_type": "stream",
     "text": [
      "R@20: 0.2847457627118644\n",
      "Duração: 1.178999\n"
     ]
    }
   ],
   "source": [
    "avaliacaoRecall(True,5)"
   ]
  },
  {
   "cell_type": "code",
   "execution_count": 82,
   "id": "f445fd2f",
   "metadata": {},
   "outputs": [
    {
     "name": "stdout",
     "output_type": "stream",
     "text": [
      "R@20: 0.3525423728813559\n",
      "Duração: 1.121000\n"
     ]
    }
   ],
   "source": [
    "avaliacaoRecall(True,10)"
   ]
  },
  {
   "cell_type": "code",
   "execution_count": 33,
   "id": "a6f59e5b",
   "metadata": {},
   "outputs": [
    {
     "name": "stdout",
     "output_type": "stream",
     "text": [
      "R@20: 0.38305084745762713\n",
      "Duração: 0.973032\n"
     ]
    }
   ],
   "source": [
    "avaliacaoRecall(True,20)"
   ]
  },
  {
   "cell_type": "markdown",
   "id": "efaf0a8e",
   "metadata": {},
   "source": [
    "#### RR"
   ]
  },
  {
   "cell_type": "code",
   "execution_count": 84,
   "id": "6dee72dc",
   "metadata": {},
   "outputs": [
    {
     "name": "stdout",
     "output_type": "stream",
     "text": [
      "RR: 0.166102\n"
     ]
    }
   ],
   "source": [
    "avaliacaoRR(True,5)"
   ]
  },
  {
   "cell_type": "markdown",
   "id": "e442eaa9",
   "metadata": {},
   "source": [
    "### Precision"
   ]
  },
  {
   "cell_type": "code",
   "execution_count": 85,
   "id": "7de65613",
   "metadata": {},
   "outputs": [
    {
     "name": "stdout",
     "output_type": "stream",
     "text": [
      "P@ 5: 0.056949 \n"
     ]
    }
   ],
   "source": [
    "avaliacaoPrecision(True,5)"
   ]
  },
  {
   "cell_type": "code",
   "execution_count": 86,
   "id": "2b154b42",
   "metadata": {},
   "outputs": [
    {
     "name": "stdout",
     "output_type": "stream",
     "text": [
      "P@ 10: 0.035254 \n"
     ]
    }
   ],
   "source": [
    "avaliacaoPrecision(True,10)"
   ]
  },
  {
   "cell_type": "code",
   "execution_count": 87,
   "id": "e217e497",
   "metadata": {},
   "outputs": [
    {
     "name": "stdout",
     "output_type": "stream",
     "text": [
      "P@ 20: 0.017627 \n"
     ]
    }
   ],
   "source": [
    "avaliacaoPrecision(True,20)"
   ]
  },
  {
   "cell_type": "markdown",
   "id": "f9182570",
   "metadata": {},
   "source": [
    "### MAP"
   ]
  },
  {
   "cell_type": "code",
   "execution_count": 88,
   "id": "1bec7d58",
   "metadata": {},
   "outputs": [
    {
     "name": "stdout",
     "output_type": "stream",
     "text": [
      "MAP: 0.000944\n"
     ]
    }
   ],
   "source": [
    "avaliacaoMAP(True,5)"
   ]
  },
  {
   "cell_type": "code",
   "execution_count": 89,
   "id": "9fb955b7",
   "metadata": {},
   "outputs": [
    {
     "name": "stdout",
     "output_type": "stream",
     "text": [
      "MAP: 0.000565\n"
     ]
    }
   ],
   "source": [
    "avaliacaoMAP(True,10)"
   ]
  },
  {
   "cell_type": "code",
   "execution_count": 90,
   "id": "f0ce53d0",
   "metadata": {},
   "outputs": [
    {
     "name": "stdout",
     "output_type": "stream",
     "text": [
      "MAP: 0.000565\n"
     ]
    }
   ],
   "source": [
    "avaliacaoMAP(True,20)"
   ]
  },
  {
   "cell_type": "markdown",
   "id": "3e2e0c92",
   "metadata": {},
   "source": [
    "## Config 21"
   ]
  },
  {
   "cell_type": "code",
   "execution_count": 34,
   "id": "f5d6aa0b",
   "metadata": {},
   "outputs": [],
   "source": [
    "index_path = 'indexI/pre_processamento_rslps_full'"
   ]
  },
  {
   "cell_type": "code",
   "execution_count": 35,
   "id": "6b0f2430",
   "metadata": {},
   "outputs": [
    {
     "name": "stdout",
     "output_type": "stream",
     "text": [
      "SimpleSearcher class has been deprecated, please use LuceneSearcher from pyserini.search.lucene instead\n"
     ]
    }
   ],
   "source": [
    "searcher = SimpleSearcher(index_path)\n",
    "searcher.set_bm25(k1=1.5,b=0.75)"
   ]
  },
  {
   "cell_type": "code",
   "execution_count": 36,
   "id": "75126b51",
   "metadata": {},
   "outputs": [],
   "source": [
    "def _remove_acentos(txt):\n",
    "    return normalize('NFKD', txt).encode('ASCII', 'ignore').decode('ASCII')\n",
    "\n",
    "def preprocess(txt):\n",
    "    txt = str(txt)\n",
    "    txt = _remove_acentos(txt)\n",
    "    stopwords = nltk.corpus.stopwords.words(\"portuguese\")\n",
    "    stopwords.extend(list(punctuation))\n",
    "\n",
    "    stemmer = RSLP_S()\n",
    "    tokenizer = RegexpTokenizer('\\w+')\n",
    "    terms = tokenizer.tokenize(txt.lower())\n",
    "    terms = [stemmer.stem(word) for word in terms if word not in stopwords]\n",
    "    \n",
    "    return \" \".join(terms)"
   ]
  },
  {
   "cell_type": "markdown",
   "id": "241b8d05",
   "metadata": {},
   "source": [
    "### Avaliação"
   ]
  },
  {
   "cell_type": "markdown",
   "id": "9da785fc",
   "metadata": {},
   "source": [
    "#### Recall"
   ]
  },
  {
   "cell_type": "code",
   "execution_count": 94,
   "id": "87480c17",
   "metadata": {},
   "outputs": [
    {
     "name": "stdout",
     "output_type": "stream",
     "text": [
      "R@20: 0.10508474576271186\n",
      "Duração: 0.512997\n"
     ]
    }
   ],
   "source": [
    "avaliacaoRecall(True,5)"
   ]
  },
  {
   "cell_type": "code",
   "execution_count": 95,
   "id": "c9c70397",
   "metadata": {},
   "outputs": [
    {
     "name": "stdout",
     "output_type": "stream",
     "text": [
      "R@20: 0.13220338983050847\n",
      "Duração: 0.563000\n"
     ]
    }
   ],
   "source": [
    "avaliacaoRecall(True,10)"
   ]
  },
  {
   "cell_type": "code",
   "execution_count": 37,
   "id": "efdc1e20",
   "metadata": {},
   "outputs": [
    {
     "name": "stdout",
     "output_type": "stream",
     "text": [
      "R@20: 0.4067796610169492\n",
      "Duração: 0.778002\n"
     ]
    }
   ],
   "source": [
    "avaliacaoRecall(True,20)"
   ]
  },
  {
   "cell_type": "markdown",
   "id": "d9af64a5",
   "metadata": {},
   "source": [
    "#### RR"
   ]
  },
  {
   "cell_type": "code",
   "execution_count": 97,
   "id": "27956f8e",
   "metadata": {},
   "outputs": [
    {
     "name": "stdout",
     "output_type": "stream",
     "text": [
      "RR: 0.061017\n"
     ]
    }
   ],
   "source": [
    "avaliacaoRR(True,5)"
   ]
  },
  {
   "cell_type": "markdown",
   "id": "3c57b9d3",
   "metadata": {},
   "source": [
    "### Precision"
   ]
  },
  {
   "cell_type": "code",
   "execution_count": 98,
   "id": "49bc5fdf",
   "metadata": {},
   "outputs": [
    {
     "name": "stdout",
     "output_type": "stream",
     "text": [
      "P@ 5: 0.021017 \n"
     ]
    }
   ],
   "source": [
    "avaliacaoPrecision(True,5)"
   ]
  },
  {
   "cell_type": "code",
   "execution_count": 99,
   "id": "4e322ea3",
   "metadata": {},
   "outputs": [
    {
     "name": "stdout",
     "output_type": "stream",
     "text": [
      "P@ 10: 0.013220 \n"
     ]
    }
   ],
   "source": [
    "avaliacaoPrecision(True,10)"
   ]
  },
  {
   "cell_type": "code",
   "execution_count": 100,
   "id": "46ec5e1e",
   "metadata": {},
   "outputs": [
    {
     "name": "stdout",
     "output_type": "stream",
     "text": [
      "P@ 20: 0.006610 \n"
     ]
    }
   ],
   "source": [
    "avaliacaoPrecision(True,20)"
   ]
  },
  {
   "cell_type": "markdown",
   "id": "ebd0ffc0",
   "metadata": {},
   "source": [
    "### MAP"
   ]
  },
  {
   "cell_type": "code",
   "execution_count": 101,
   "id": "1127284c",
   "metadata": {},
   "outputs": [
    {
     "name": "stdout",
     "output_type": "stream",
     "text": [
      "MAP: 0.000194\n"
     ]
    }
   ],
   "source": [
    "avaliacaoMAP(True,5)"
   ]
  },
  {
   "cell_type": "code",
   "execution_count": 102,
   "id": "dc7f44bc",
   "metadata": {},
   "outputs": [
    {
     "name": "stdout",
     "output_type": "stream",
     "text": [
      "MAP: 0.000254\n"
     ]
    }
   ],
   "source": [
    "avaliacaoMAP(True,10)"
   ]
  },
  {
   "cell_type": "code",
   "execution_count": 103,
   "id": "44f72ee9",
   "metadata": {},
   "outputs": [
    {
     "name": "stdout",
     "output_type": "stream",
     "text": [
      "MAP: 0.000254\n"
     ]
    }
   ],
   "source": [
    "avaliacaoMAP(True,20)"
   ]
  },
  {
   "cell_type": "markdown",
   "id": "76af655c",
   "metadata": {},
   "source": [
    "## Config 23"
   ]
  },
  {
   "cell_type": "code",
   "execution_count": 38,
   "id": "386f08de",
   "metadata": {},
   "outputs": [],
   "source": [
    "index_path = 'indexI/pre_processamento_unigram_bigram_rslps_full'"
   ]
  },
  {
   "cell_type": "code",
   "execution_count": 39,
   "id": "afa7bad1",
   "metadata": {},
   "outputs": [
    {
     "name": "stdout",
     "output_type": "stream",
     "text": [
      "SimpleSearcher class has been deprecated, please use LuceneSearcher from pyserini.search.lucene instead\n"
     ]
    }
   ],
   "source": [
    "searcher = SimpleSearcher(index_path)\n",
    "searcher.set_bm25(k1=1.5,b=0.75)"
   ]
  },
  {
   "cell_type": "code",
   "execution_count": 40,
   "id": "29509168",
   "metadata": {},
   "outputs": [],
   "source": [
    "def _remove_acentos(txt):\n",
    "    return normalize('NFKD', txt).encode('ASCII', 'ignore').decode('ASCII')\n",
    "\n",
    "def preprocess(txt):\n",
    "    txt = str(txt)\n",
    "    txt = _remove_acentos(txt)\n",
    "    stopwords = nltk.corpus.stopwords.words(\"portuguese\")\n",
    "    stopwords.extend(list(punctuation))\n",
    "\n",
    "    stemmer = RSLP_S()\n",
    "    tokenizer = RegexpTokenizer('\\w+')\n",
    "    terms = tokenizer.tokenize(txt.lower())\n",
    "    terms = [stemmer.stem(word) for word in terms if word not in stopwords]\n",
    "    \n",
    "    ngram = []\n",
    "    ngram_1 = list(ngrams(terms, 1))\n",
    "    ngram_2 = list(ngrams(terms, 2))\n",
    "    for w in ngram_1:\n",
    "        ngram.append(w[0])\n",
    "        \n",
    "    for w in ngram_2:\n",
    "        string = w[0] + \"_\" + w[1]\n",
    "        ngram.append(string)\n",
    "    \n",
    "    return \" \".join(ngram)"
   ]
  },
  {
   "cell_type": "markdown",
   "id": "750af69e",
   "metadata": {},
   "source": [
    "### Avaliação"
   ]
  },
  {
   "cell_type": "markdown",
   "id": "ff274887",
   "metadata": {},
   "source": [
    "#### Recall"
   ]
  },
  {
   "cell_type": "code",
   "execution_count": 107,
   "id": "21ec88b8",
   "metadata": {},
   "outputs": [
    {
     "name": "stdout",
     "output_type": "stream",
     "text": [
      "R@20: 0.13559322033898305\n",
      "Duração: 0.635031\n"
     ]
    }
   ],
   "source": [
    "avaliacaoRecall(True,5)"
   ]
  },
  {
   "cell_type": "code",
   "execution_count": 108,
   "id": "b56dc44a",
   "metadata": {},
   "outputs": [
    {
     "name": "stdout",
     "output_type": "stream",
     "text": [
      "R@20: 0.1694915254237288\n",
      "Duração: 0.652997\n"
     ]
    }
   ],
   "source": [
    "avaliacaoRecall(True,10)"
   ]
  },
  {
   "cell_type": "code",
   "execution_count": 41,
   "id": "ec4446ca",
   "metadata": {},
   "outputs": [
    {
     "name": "stdout",
     "output_type": "stream",
     "text": [
      "R@20: 0.41694915254237286\n",
      "Duração: 0.864593\n"
     ]
    }
   ],
   "source": [
    "avaliacaoRecall(True,20)"
   ]
  },
  {
   "cell_type": "markdown",
   "id": "477261f1",
   "metadata": {},
   "source": [
    "#### RR"
   ]
  },
  {
   "cell_type": "code",
   "execution_count": 110,
   "id": "1f024d18",
   "metadata": {},
   "outputs": [
    {
     "name": "stdout",
     "output_type": "stream",
     "text": [
      "RR: 0.074576\n"
     ]
    }
   ],
   "source": [
    "avaliacaoRR(True,5)"
   ]
  },
  {
   "cell_type": "markdown",
   "id": "00cda4ad",
   "metadata": {},
   "source": [
    "### Precision"
   ]
  },
  {
   "cell_type": "code",
   "execution_count": 111,
   "id": "8feec52d",
   "metadata": {},
   "outputs": [
    {
     "name": "stdout",
     "output_type": "stream",
     "text": [
      "P@ 5: 0.027119 \n"
     ]
    }
   ],
   "source": [
    "avaliacaoPrecision(True,5)"
   ]
  },
  {
   "cell_type": "code",
   "execution_count": 112,
   "id": "caa0bb22",
   "metadata": {},
   "outputs": [
    {
     "name": "stdout",
     "output_type": "stream",
     "text": [
      "P@ 10: 0.016949 \n"
     ]
    }
   ],
   "source": [
    "avaliacaoPrecision(True,10)"
   ]
  },
  {
   "cell_type": "code",
   "execution_count": 113,
   "id": "603b00ee",
   "metadata": {},
   "outputs": [
    {
     "name": "stdout",
     "output_type": "stream",
     "text": [
      "P@ 20: 0.008475 \n"
     ]
    }
   ],
   "source": [
    "avaliacaoPrecision(True,20)"
   ]
  },
  {
   "cell_type": "markdown",
   "id": "0c66d235",
   "metadata": {},
   "source": [
    "### MAP"
   ]
  },
  {
   "cell_type": "code",
   "execution_count": 114,
   "id": "a0f68c22",
   "metadata": {},
   "outputs": [
    {
     "name": "stdout",
     "output_type": "stream",
     "text": [
      "MAP: 0.000450\n"
     ]
    }
   ],
   "source": [
    "avaliacaoMAP(True,5)"
   ]
  },
  {
   "cell_type": "code",
   "execution_count": 115,
   "id": "73dc95c3",
   "metadata": {},
   "outputs": [
    {
     "name": "stdout",
     "output_type": "stream",
     "text": [
      "MAP: 0.000302\n"
     ]
    }
   ],
   "source": [
    "avaliacaoMAP(True,10)"
   ]
  },
  {
   "cell_type": "code",
   "execution_count": 116,
   "id": "ec58abc2",
   "metadata": {},
   "outputs": [
    {
     "name": "stdout",
     "output_type": "stream",
     "text": [
      "MAP: 0.000302\n"
     ]
    }
   ],
   "source": [
    "avaliacaoMAP(True,20)"
   ]
  },
  {
   "cell_type": "code",
   "execution_count": null,
   "id": "29a7674d",
   "metadata": {},
   "outputs": [],
   "source": []
  },
  {
   "cell_type": "code",
   "execution_count": null,
   "id": "07e9f2bc",
   "metadata": {},
   "outputs": [],
   "source": []
  }
 ],
 "metadata": {
  "kernelspec": {
   "display_name": "Python 3 (ipykernel)",
   "language": "python",
   "name": "python3"
  },
  "language_info": {
   "codemirror_mode": {
    "name": "ipython",
    "version": 3
   },
   "file_extension": ".py",
   "mimetype": "text/x-python",
   "name": "python",
   "nbconvert_exporter": "python",
   "pygments_lexer": "ipython3",
   "version": "3.8.7"
  }
 },
 "nbformat": 4,
 "nbformat_minor": 5
}
