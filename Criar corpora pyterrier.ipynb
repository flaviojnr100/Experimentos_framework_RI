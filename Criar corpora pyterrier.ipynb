{
 "cells": [
  {
   "cell_type": "code",
   "execution_count": 1,
   "id": "b9d1a645",
   "metadata": {
    "scrolled": true
   },
   "outputs": [
    {
     "name": "stderr",
     "output_type": "stream",
     "text": [
      "PyTerrier 0.9.2 has loaded Terrier 5.7 (built by craigm on 2022-11-10 18:30) and terrier-helper 0.0.7\n",
      "\n"
     ]
    }
   ],
   "source": [
    "import pandas as pd\n",
    "import pyterrier as pt\n",
    "import time\n",
    "pt.init()\n"
   ]
  },
  {
   "cell_type": "markdown",
   "id": "873727c3",
   "metadata": {},
   "source": [
    "## Config-1"
   ]
  },
  {
   "cell_type": "code",
   "execution_count": 3,
   "id": "e6330cfd",
   "metadata": {},
   "outputs": [],
   "source": [
    "base = pd.read_csv(\"base_20230428_douglas.csv\", delimiter=',', encoding=\"utf-8\")"
   ]
  },
  {
   "cell_type": "code",
   "execution_count": 4,
   "id": "5acc4ed1",
   "metadata": {},
   "outputs": [],
   "source": [
    "base = base.assign(docno=range(len(base)))"
   ]
  },
  {
   "cell_type": "code",
   "execution_count": 6,
   "id": "93fb3d02",
   "metadata": {},
   "outputs": [
    {
     "data": {
      "text/html": [
       "<div>\n",
       "<style scoped>\n",
       "    .dataframe tbody tr th:only-of-type {\n",
       "        vertical-align: middle;\n",
       "    }\n",
       "\n",
       "    .dataframe tbody tr th {\n",
       "        vertical-align: top;\n",
       "    }\n",
       "\n",
       "    .dataframe thead th {\n",
       "        text-align: right;\n",
       "    }\n",
       "</style>\n",
       "<table border=\"1\" class=\"dataframe\">\n",
       "  <thead>\n",
       "    <tr style=\"text-align: right;\">\n",
       "      <th></th>\n",
       "      <th>codProposicao</th>\n",
       "      <th>txtSiglaTipo</th>\n",
       "      <th>numAno</th>\n",
       "      <th>numNumero</th>\n",
       "      <th>txtNome</th>\n",
       "      <th>txtEmenta</th>\n",
       "      <th>txtExplicacaoEmenta</th>\n",
       "      <th>txtIndexacao</th>\n",
       "      <th>txtInteiroTeor</th>\n",
       "      <th>docno</th>\n",
       "    </tr>\n",
       "  </thead>\n",
       "  <tbody>\n",
       "    <tr>\n",
       "      <th>0</th>\n",
       "      <td>16357</td>\n",
       "      <td>PL</td>\n",
       "      <td>1999</td>\n",
       "      <td>1165</td>\n",
       "      <td>PL 1165/1999</td>\n",
       "      <td>Altera dispositivo da Lei nº 8.987, de 13 de f...</td>\n",
       "      <td>Estabelece que as concessionárias disponibiliz...</td>\n",
       "      <td>Alteração, Lei das Concessões de Serviços Públ...</td>\n",
       "      <td>Ofício nº 1416  (SF)                          ...</td>\n",
       "      <td>0</td>\n",
       "    </tr>\n",
       "    <tr>\n",
       "      <th>1</th>\n",
       "      <td>19098</td>\n",
       "      <td>PL</td>\n",
       "      <td>1992</td>\n",
       "      <td>3097</td>\n",
       "      <td>PL 3097/1992</td>\n",
       "      <td>Dispõe sobre a eleição de diretores de fundos ...</td>\n",
       "      <td>NaN</td>\n",
       "      <td>NORMAS, ELEIÇÃO DIRETA, EMPREGADO, APOSENTADO,...</td>\n",
       "      <td>COMISSÃO DE CONSTITUIÇÃO E JUSTIÇA E DE REDAÇÃ...</td>\n",
       "      <td>1</td>\n",
       "    </tr>\n",
       "    <tr>\n",
       "      <th>2</th>\n",
       "      <td>20464</td>\n",
       "      <td>PL</td>\n",
       "      <td>2000</td>\n",
       "      <td>3927</td>\n",
       "      <td>PL 3927/2000</td>\n",
       "      <td>Altera a composição dos Tribunais Regionais do...</td>\n",
       "      <td>Altera a composição do TRT da 5ª região, 6ª re...</td>\n",
       "      <td>Alteração, Lei Federal, composição, Tribunal R...</td>\n",
       "      <td>COMISSÃO DE TRABALHO, DE ADMINISTRAÇÃO E SERVI...</td>\n",
       "      <td>2</td>\n",
       "    </tr>\n",
       "    <tr>\n",
       "      <th>3</th>\n",
       "      <td>20683</td>\n",
       "      <td>PL</td>\n",
       "      <td>1998</td>\n",
       "      <td>4117</td>\n",
       "      <td>PL 4117/1998</td>\n",
       "      <td>Dispõe sobre o acesso a ambientes de uso colet...</td>\n",
       "      <td>NaN</td>\n",
       "      <td>Autorização, pessoa portadora de deficiência, ...</td>\n",
       "      <td>Câmara dos Deputados\\n           Departamento ...</td>\n",
       "      <td>3</td>\n",
       "    </tr>\n",
       "    <tr>\n",
       "      <th>4</th>\n",
       "      <td>20857</td>\n",
       "      <td>PL</td>\n",
       "      <td>1998</td>\n",
       "      <td>4395</td>\n",
       "      <td>PL 4395/1998</td>\n",
       "      <td>Estabelece as Diretrizes Nacionais de Defesa C...</td>\n",
       "      <td>NaN</td>\n",
       "      <td>Fixação, diretrizes, defesa civil, (Sindec), d...</td>\n",
       "      <td>- 1 - \\nCOMISSÃO DE CONSTITUIÇÃO E JUSTIÇA E D...</td>\n",
       "      <td>4</td>\n",
       "    </tr>\n",
       "    <tr>\n",
       "      <th>...</th>\n",
       "      <td>...</td>\n",
       "      <td>...</td>\n",
       "      <td>...</td>\n",
       "      <td>...</td>\n",
       "      <td>...</td>\n",
       "      <td>...</td>\n",
       "      <td>...</td>\n",
       "      <td>...</td>\n",
       "      <td>...</td>\n",
       "      <td>...</td>\n",
       "    </tr>\n",
       "    <tr>\n",
       "      <th>57104</th>\n",
       "      <td>2358873</td>\n",
       "      <td>PL</td>\n",
       "      <td>2023</td>\n",
       "      <td>2233</td>\n",
       "      <td>PL 2233/2023</td>\n",
       "      <td>Altera o parágrafo único do art. 71 do Código ...</td>\n",
       "      <td>NaN</td>\n",
       "      <td>NaN</td>\n",
       "      <td>1 \\n  \\n \\n \\n \\nCÂMARA DOS DEPUTADOS \\nPROJET...</td>\n",
       "      <td>57104</td>\n",
       "    </tr>\n",
       "    <tr>\n",
       "      <th>57105</th>\n",
       "      <td>2358874</td>\n",
       "      <td>PL</td>\n",
       "      <td>2019</td>\n",
       "      <td>3616</td>\n",
       "      <td>PL 3616/2019</td>\n",
       "      <td>Altera a Lei nº 9.503, de 23 de setembro de 19...</td>\n",
       "      <td>NaN</td>\n",
       "      <td>NaN</td>\n",
       "      <td>Altera a Lei nº 9.503, de 23 de setembro\\nde 1...</td>\n",
       "      <td>57105</td>\n",
       "    </tr>\n",
       "    <tr>\n",
       "      <th>57106</th>\n",
       "      <td>2358875</td>\n",
       "      <td>PL</td>\n",
       "      <td>2019</td>\n",
       "      <td>1822</td>\n",
       "      <td>PL 1822/2019</td>\n",
       "      <td>Altera a Lei nº 11.340, de 7 de agosto de 2006...</td>\n",
       "      <td>NaN</td>\n",
       "      <td>NaN</td>\n",
       "      <td>Altera a Lei nº 11.340, de 7 de agosto de\\n200...</td>\n",
       "      <td>57106</td>\n",
       "    </tr>\n",
       "    <tr>\n",
       "      <th>57107</th>\n",
       "      <td>2358877</td>\n",
       "      <td>PL</td>\n",
       "      <td>2019</td>\n",
       "      <td>3815</td>\n",
       "      <td>PL 3815/2019</td>\n",
       "      <td>Altera a Lei nº 7.565, de 19 de dezembro de 19...</td>\n",
       "      <td>NaN</td>\n",
       "      <td>NaN</td>\n",
       "      <td>Altera a Lei nº 7.565, de 19 de dezembro\\nde  ...</td>\n",
       "      <td>57107</td>\n",
       "    </tr>\n",
       "    <tr>\n",
       "      <th>57108</th>\n",
       "      <td>2358878</td>\n",
       "      <td>PL</td>\n",
       "      <td>2019</td>\n",
       "      <td>3130</td>\n",
       "      <td>PL 3130/2019</td>\n",
       "      <td>Altera a Lei nº 13.675, de 11 de junho de 2018...</td>\n",
       "      <td>NaN</td>\n",
       "      <td>NaN</td>\n",
       "      <td>Altera a Lei nº 13.675, de 11 de junho de\\n201...</td>\n",
       "      <td>57108</td>\n",
       "    </tr>\n",
       "  </tbody>\n",
       "</table>\n",
       "<p>57109 rows × 10 columns</p>\n",
       "</div>"
      ],
      "text/plain": [
       "       codProposicao txtSiglaTipo  numAno  numNumero       txtNome  \\\n",
       "0              16357   PL            1999       1165  PL 1165/1999   \n",
       "1              19098   PL            1992       3097  PL 3097/1992   \n",
       "2              20464   PL            2000       3927  PL 3927/2000   \n",
       "3              20683   PL            1998       4117  PL 4117/1998   \n",
       "4              20857   PL            1998       4395  PL 4395/1998   \n",
       "...              ...          ...     ...        ...           ...   \n",
       "57104        2358873   PL            2023       2233  PL 2233/2023   \n",
       "57105        2358874   PL            2019       3616  PL 3616/2019   \n",
       "57106        2358875   PL            2019       1822  PL 1822/2019   \n",
       "57107        2358877   PL            2019       3815  PL 3815/2019   \n",
       "57108        2358878   PL            2019       3130  PL 3130/2019   \n",
       "\n",
       "                                               txtEmenta  \\\n",
       "0      Altera dispositivo da Lei nº 8.987, de 13 de f...   \n",
       "1      Dispõe sobre a eleição de diretores de fundos ...   \n",
       "2      Altera a composição dos Tribunais Regionais do...   \n",
       "3      Dispõe sobre o acesso a ambientes de uso colet...   \n",
       "4      Estabelece as Diretrizes Nacionais de Defesa C...   \n",
       "...                                                  ...   \n",
       "57104  Altera o parágrafo único do art. 71 do Código ...   \n",
       "57105  Altera a Lei nº 9.503, de 23 de setembro de 19...   \n",
       "57106  Altera a Lei nº 11.340, de 7 de agosto de 2006...   \n",
       "57107  Altera a Lei nº 7.565, de 19 de dezembro de 19...   \n",
       "57108  Altera a Lei nº 13.675, de 11 de junho de 2018...   \n",
       "\n",
       "                                     txtExplicacaoEmenta  \\\n",
       "0      Estabelece que as concessionárias disponibiliz...   \n",
       "1                                                    NaN   \n",
       "2      Altera a composição do TRT da 5ª região, 6ª re...   \n",
       "3                                                    NaN   \n",
       "4                                                    NaN   \n",
       "...                                                  ...   \n",
       "57104                                                NaN   \n",
       "57105                                                NaN   \n",
       "57106                                                NaN   \n",
       "57107                                                NaN   \n",
       "57108                                                NaN   \n",
       "\n",
       "                                            txtIndexacao  \\\n",
       "0      Alteração, Lei das Concessões de Serviços Públ...   \n",
       "1      NORMAS, ELEIÇÃO DIRETA, EMPREGADO, APOSENTADO,...   \n",
       "2      Alteração, Lei Federal, composição, Tribunal R...   \n",
       "3      Autorização, pessoa portadora de deficiência, ...   \n",
       "4      Fixação, diretrizes, defesa civil, (Sindec), d...   \n",
       "...                                                  ...   \n",
       "57104                                                NaN   \n",
       "57105                                                NaN   \n",
       "57106                                                NaN   \n",
       "57107                                                NaN   \n",
       "57108                                                NaN   \n",
       "\n",
       "                                          txtInteiroTeor  docno  \n",
       "0      Ofício nº 1416  (SF)                          ...      0  \n",
       "1      COMISSÃO DE CONSTITUIÇÃO E JUSTIÇA E DE REDAÇÃ...      1  \n",
       "2      COMISSÃO DE TRABALHO, DE ADMINISTRAÇÃO E SERVI...      2  \n",
       "3      Câmara dos Deputados\\n           Departamento ...      3  \n",
       "4      - 1 - \\nCOMISSÃO DE CONSTITUIÇÃO E JUSTIÇA E D...      4  \n",
       "...                                                  ...    ...  \n",
       "57104  1 \\n  \\n \\n \\n \\nCÂMARA DOS DEPUTADOS \\nPROJET...  57104  \n",
       "57105  Altera a Lei nº 9.503, de 23 de setembro\\nde 1...  57105  \n",
       "57106  Altera a Lei nº 11.340, de 7 de agosto de\\n200...  57106  \n",
       "57107  Altera a Lei nº 7.565, de 19 de dezembro\\nde  ...  57107  \n",
       "57108  Altera a Lei nº 13.675, de 11 de junho de\\n201...  57108  \n",
       "\n",
       "[57109 rows x 10 columns]"
      ]
     },
     "execution_count": 6,
     "metadata": {},
     "output_type": "execute_result"
    }
   ],
   "source": [
    "base"
   ]
  },
  {
   "cell_type": "code",
   "execution_count": 8,
   "id": "e00068e4",
   "metadata": {},
   "outputs": [],
   "source": [
    "base = base[['docno','txtNome','txtInteiroTeor']]"
   ]
  },
  {
   "cell_type": "code",
   "execution_count": 9,
   "id": "ec98c9b7",
   "metadata": {},
   "outputs": [],
   "source": [
    "base = base.rename(columns={'txtInteiroTeor': 'text'})"
   ]
  },
  {
   "cell_type": "code",
   "execution_count": 10,
   "id": "807f853e",
   "metadata": {},
   "outputs": [],
   "source": [
    "base = base.fillna(\"em branco\")"
   ]
  },
  {
   "cell_type": "code",
   "execution_count": 7,
   "id": "ea576ccf",
   "metadata": {},
   "outputs": [
    {
     "name": "stdout",
     "output_type": "stream",
     "text": [
      "Help on function index in module pyterrier.index:\n",
      "\n",
      "index(self, text, *args, **kwargs)\n",
      "    Index the specified\n",
      "    \n",
      "    Args:\n",
      "        text(pd.Series): A pandas.Series(a column) where each row is the body of text for each document\n",
      "        *args: Either a pandas.Dataframe or pandas.Series.\n",
      "            If a Dataframe: All columns(including text) will be passed as metadata\n",
      "            If a Series: The Series name will be the name of the metadata field and the body will be the metadata content\n",
      "        **kwargs: Either a list, a tuple or a pandas.Series\n",
      "            The name of the keyword argument will be the name of the metadata field and the keyword argument contents will be the metadata content\n",
      "\n"
     ]
    }
   ],
   "source": [
    "help(pt.DFIndexer.index)"
   ]
  },
  {
   "cell_type": "code",
   "execution_count": 9,
   "id": "43d01e14",
   "metadata": {},
   "outputs": [],
   "source": [
    "base = pd.read_json(\"E:\\Corpora_em_json\\sem_pre_processamento\\sem_pre_processamento.json\")"
   ]
  },
  {
   "cell_type": "code",
   "execution_count": 10,
   "id": "835c9be1",
   "metadata": {},
   "outputs": [],
   "source": [
    "base = base.rename(columns={'contents': 'text','id':'docno'})"
   ]
  },
  {
   "cell_type": "code",
   "execution_count": 11,
   "id": "242e1599",
   "metadata": {},
   "outputs": [
    {
     "data": {
      "text/html": [
       "<div>\n",
       "<style scoped>\n",
       "    .dataframe tbody tr th:only-of-type {\n",
       "        vertical-align: middle;\n",
       "    }\n",
       "\n",
       "    .dataframe tbody tr th {\n",
       "        vertical-align: top;\n",
       "    }\n",
       "\n",
       "    .dataframe thead th {\n",
       "        text-align: right;\n",
       "    }\n",
       "</style>\n",
       "<table border=\"1\" class=\"dataframe\">\n",
       "  <thead>\n",
       "    <tr style=\"text-align: right;\">\n",
       "      <th></th>\n",
       "      <th>txtNome</th>\n",
       "      <th>text</th>\n",
       "      <th>docno</th>\n",
       "    </tr>\n",
       "  </thead>\n",
       "  <tbody>\n",
       "    <tr>\n",
       "      <th>0</th>\n",
       "      <td>PL 1165/1999</td>\n",
       "      <td>Ofício nº 1416  (SF)                          ...</td>\n",
       "      <td>0</td>\n",
       "    </tr>\n",
       "    <tr>\n",
       "      <th>1</th>\n",
       "      <td>PL 3097/1992</td>\n",
       "      <td>COMISSÃO DE CONSTITUIÇÃO E JUSTIÇA E DE REDAÇÃ...</td>\n",
       "      <td>1</td>\n",
       "    </tr>\n",
       "    <tr>\n",
       "      <th>2</th>\n",
       "      <td>PL 3927/2000</td>\n",
       "      <td>COMISSÃO DE TRABALHO, DE ADMINISTRAÇÃO E SERVI...</td>\n",
       "      <td>2</td>\n",
       "    </tr>\n",
       "    <tr>\n",
       "      <th>3</th>\n",
       "      <td>PL 4117/1998</td>\n",
       "      <td>Câmara dos Deputados\\n           Departamento ...</td>\n",
       "      <td>3</td>\n",
       "    </tr>\n",
       "    <tr>\n",
       "      <th>4</th>\n",
       "      <td>PL 4395/1998</td>\n",
       "      <td>- 1 - \\nCOMISSÃO DE CONSTITUIÇÃO E JUSTIÇA E D...</td>\n",
       "      <td>4</td>\n",
       "    </tr>\n",
       "    <tr>\n",
       "      <th>...</th>\n",
       "      <td>...</td>\n",
       "      <td>...</td>\n",
       "      <td>...</td>\n",
       "    </tr>\n",
       "    <tr>\n",
       "      <th>57104</th>\n",
       "      <td>PL 2233/2023</td>\n",
       "      <td>1 \\n  \\n \\n \\n \\nCÂMARA DOS DEPUTADOS \\nPROJET...</td>\n",
       "      <td>57104</td>\n",
       "    </tr>\n",
       "    <tr>\n",
       "      <th>57105</th>\n",
       "      <td>PL 3616/2019</td>\n",
       "      <td>Altera a Lei nº 9.503, de 23 de setembro\\nde 1...</td>\n",
       "      <td>57105</td>\n",
       "    </tr>\n",
       "    <tr>\n",
       "      <th>57106</th>\n",
       "      <td>PL 1822/2019</td>\n",
       "      <td>Altera a Lei nº 11.340, de 7 de agosto de\\n200...</td>\n",
       "      <td>57106</td>\n",
       "    </tr>\n",
       "    <tr>\n",
       "      <th>57107</th>\n",
       "      <td>PL 3815/2019</td>\n",
       "      <td>Altera a Lei nº 7.565, de 19 de dezembro\\nde  ...</td>\n",
       "      <td>57107</td>\n",
       "    </tr>\n",
       "    <tr>\n",
       "      <th>57108</th>\n",
       "      <td>PL 3130/2019</td>\n",
       "      <td>Altera a Lei nº 13.675, de 11 de junho de\\n201...</td>\n",
       "      <td>57108</td>\n",
       "    </tr>\n",
       "  </tbody>\n",
       "</table>\n",
       "<p>57109 rows × 3 columns</p>\n",
       "</div>"
      ],
      "text/plain": [
       "            txtNome                                               text  docno\n",
       "0      PL 1165/1999  Ofício nº 1416  (SF)                          ...      0\n",
       "1      PL 3097/1992  COMISSÃO DE CONSTITUIÇÃO E JUSTIÇA E DE REDAÇÃ...      1\n",
       "2      PL 3927/2000  COMISSÃO DE TRABALHO, DE ADMINISTRAÇÃO E SERVI...      2\n",
       "3      PL 4117/1998  Câmara dos Deputados\\n           Departamento ...      3\n",
       "4      PL 4395/1998  - 1 - \\nCOMISSÃO DE CONSTITUIÇÃO E JUSTIÇA E D...      4\n",
       "...             ...                                                ...    ...\n",
       "57104  PL 2233/2023  1 \\n  \\n \\n \\n \\nCÂMARA DOS DEPUTADOS \\nPROJET...  57104\n",
       "57105  PL 3616/2019  Altera a Lei nº 9.503, de 23 de setembro\\nde 1...  57105\n",
       "57106  PL 1822/2019  Altera a Lei nº 11.340, de 7 de agosto de\\n200...  57106\n",
       "57107  PL 3815/2019  Altera a Lei nº 7.565, de 19 de dezembro\\nde  ...  57107\n",
       "57108  PL 3130/2019  Altera a Lei nº 13.675, de 11 de junho de\\n201...  57108\n",
       "\n",
       "[57109 rows x 3 columns]"
      ]
     },
     "execution_count": 11,
     "metadata": {},
     "output_type": "execute_result"
    }
   ],
   "source": [
    "base"
   ]
  },
  {
   "cell_type": "code",
   "execution_count": 12,
   "id": "71b5f4f0",
   "metadata": {},
   "outputs": [],
   "source": [
    "a = time.time()"
   ]
  },
  {
   "cell_type": "code",
   "execution_count": 13,
   "id": "b8d12ab0",
   "metadata": {
    "scrolled": true
   },
   "outputs": [],
   "source": [
    "iter_indexer = pt.IterDictIndexer(\"E:\\Corpora_em_json\\pyterrier\\sem_pre_processamento\",stemmer=None,stopwords=None,tokeniser=\"UTFTokeniser\")\n",
    "indexref2 = iter_indexer.index(base.to_dict(orient=\"records\"))"
   ]
  },
  {
   "cell_type": "code",
   "execution_count": 14,
   "id": "bbc856f7",
   "metadata": {},
   "outputs": [],
   "source": [
    "d = time.time()"
   ]
  },
  {
   "cell_type": "code",
   "execution_count": 15,
   "id": "261d2211",
   "metadata": {},
   "outputs": [
    {
     "name": "stdout",
     "output_type": "stream",
     "text": [
      "Duração indexação: 67.623035\n"
     ]
    }
   ],
   "source": [
    "print(\"Duração indexação: %f\" %(d-a))"
   ]
  },
  {
   "cell_type": "markdown",
   "id": "2eb09f81",
   "metadata": {},
   "source": [
    "## Config-2"
   ]
  },
  {
   "cell_type": "code",
   "execution_count": 9,
   "id": "4398403b",
   "metadata": {},
   "outputs": [],
   "source": [
    "base = pd.read_json(\"E:\\Corpora_em_json\\lower\\pre_processamento_lower.json\")"
   ]
  },
  {
   "cell_type": "code",
   "execution_count": 10,
   "id": "c21ebe19",
   "metadata": {},
   "outputs": [],
   "source": [
    "base = base.rename(columns={'contents': 'text','id':'docno'})"
   ]
  },
  {
   "cell_type": "code",
   "execution_count": 11,
   "id": "e976cdd6",
   "metadata": {},
   "outputs": [
    {
     "data": {
      "text/html": [
       "<div>\n",
       "<style scoped>\n",
       "    .dataframe tbody tr th:only-of-type {\n",
       "        vertical-align: middle;\n",
       "    }\n",
       "\n",
       "    .dataframe tbody tr th {\n",
       "        vertical-align: top;\n",
       "    }\n",
       "\n",
       "    .dataframe thead th {\n",
       "        text-align: right;\n",
       "    }\n",
       "</style>\n",
       "<table border=\"1\" class=\"dataframe\">\n",
       "  <thead>\n",
       "    <tr style=\"text-align: right;\">\n",
       "      <th></th>\n",
       "      <th>txtNome</th>\n",
       "      <th>text</th>\n",
       "      <th>docno</th>\n",
       "    </tr>\n",
       "  </thead>\n",
       "  <tbody>\n",
       "    <tr>\n",
       "      <th>0</th>\n",
       "      <td>PRC 130/1997</td>\n",
       "      <td>câmara dos deputados departamento de comissões...</td>\n",
       "      <td>0</td>\n",
       "    </tr>\n",
       "    <tr>\n",
       "      <th>1</th>\n",
       "      <td>PL 4117/1998</td>\n",
       "      <td>câmara dos deputados departamento de comissões...</td>\n",
       "      <td>1</td>\n",
       "    </tr>\n",
       "    <tr>\n",
       "      <th>2</th>\n",
       "      <td>PL 4395/1998</td>\n",
       "      <td>- 1 - comissão de constituição e justiça e de ...</td>\n",
       "      <td>2</td>\n",
       "    </tr>\n",
       "    <tr>\n",
       "      <th>3</th>\n",
       "      <td>PL 4395/1998</td>\n",
       "      <td>- 1 - comissão de constituição e justiça e de ...</td>\n",
       "      <td>3</td>\n",
       "    </tr>\n",
       "    <tr>\n",
       "      <th>4</th>\n",
       "      <td>PL 1165/1999</td>\n",
       "      <td>ofício nº 1416 ( sf ) brasília , em 17 de julh...</td>\n",
       "      <td>4</td>\n",
       "    </tr>\n",
       "    <tr>\n",
       "      <th>...</th>\n",
       "      <td>...</td>\n",
       "      <td>...</td>\n",
       "      <td>...</td>\n",
       "    </tr>\n",
       "    <tr>\n",
       "      <th>147003</th>\n",
       "      <td>INC 1122/2020</td>\n",
       "      <td>câmara dos deputados tel . ( 61 ) 3215-5941 e ...</td>\n",
       "      <td>147003</td>\n",
       "    </tr>\n",
       "    <tr>\n",
       "      <th>147004</th>\n",
       "      <td>INC 1123/2020</td>\n",
       "      <td>câmara dos deputados tel . ( 61 ) 3215-5941 e ...</td>\n",
       "      <td>147004</td>\n",
       "    </tr>\n",
       "    <tr>\n",
       "      <th>147005</th>\n",
       "      <td>INC 1123/2020</td>\n",
       "      <td>câmara dos deputados tel . ( 61 ) 3215-5941 e ...</td>\n",
       "      <td>147005</td>\n",
       "    </tr>\n",
       "    <tr>\n",
       "      <th>147006</th>\n",
       "      <td>RIC 1460/2020</td>\n",
       "      <td>câmara dos deputados gabinete do deputado capi...</td>\n",
       "      <td>147006</td>\n",
       "    </tr>\n",
       "    <tr>\n",
       "      <th>147007</th>\n",
       "      <td>RIC 1460/2020</td>\n",
       "      <td>câmara dos deputados gabinete do deputado capi...</td>\n",
       "      <td>147007</td>\n",
       "    </tr>\n",
       "  </tbody>\n",
       "</table>\n",
       "<p>147008 rows × 3 columns</p>\n",
       "</div>"
      ],
      "text/plain": [
       "              txtNome                                               text   \n",
       "0        PRC 130/1997  câmara dos deputados departamento de comissões...  \\\n",
       "1        PL 4117/1998  câmara dos deputados departamento de comissões...   \n",
       "2        PL 4395/1998  - 1 - comissão de constituição e justiça e de ...   \n",
       "3        PL 4395/1998  - 1 - comissão de constituição e justiça e de ...   \n",
       "4        PL 1165/1999  ofício nº 1416 ( sf ) brasília , em 17 de julh...   \n",
       "...               ...                                                ...   \n",
       "147003  INC 1122/2020  câmara dos deputados tel . ( 61 ) 3215-5941 e ...   \n",
       "147004  INC 1123/2020  câmara dos deputados tel . ( 61 ) 3215-5941 e ...   \n",
       "147005  INC 1123/2020  câmara dos deputados tel . ( 61 ) 3215-5941 e ...   \n",
       "147006  RIC 1460/2020  câmara dos deputados gabinete do deputado capi...   \n",
       "147007  RIC 1460/2020  câmara dos deputados gabinete do deputado capi...   \n",
       "\n",
       "         docno  \n",
       "0            0  \n",
       "1            1  \n",
       "2            2  \n",
       "3            3  \n",
       "4            4  \n",
       "...        ...  \n",
       "147003  147003  \n",
       "147004  147004  \n",
       "147005  147005  \n",
       "147006  147006  \n",
       "147007  147007  \n",
       "\n",
       "[147008 rows x 3 columns]"
      ]
     },
     "execution_count": 11,
     "metadata": {},
     "output_type": "execute_result"
    }
   ],
   "source": [
    "base"
   ]
  },
  {
   "cell_type": "code",
   "execution_count": 12,
   "id": "e33ef1cf",
   "metadata": {},
   "outputs": [
    {
     "name": "stdout",
     "output_type": "stream",
     "text": [
      "08:44:27.862 [main] WARN org.terrier.structures.indexing.Indexer - Adding an empty document to the index (1164) - further warnings are suppressed\n",
      "08:46:53.100 [main] WARN org.terrier.structures.indexing.Indexer - Indexed 68 empty documents\n"
     ]
    }
   ],
   "source": [
    "iter_indexer = pt.IterDictIndexer(\"E:\\Corpora_em_json\\pyterrier\\pre_processamento_lower\")\n",
    "indexref2 = iter_indexer.index(base.to_dict(orient=\"records\"))"
   ]
  },
  {
   "cell_type": "markdown",
   "id": "3c2a1624",
   "metadata": {},
   "source": [
    "## Config-3"
   ]
  },
  {
   "cell_type": "code",
   "execution_count": 17,
   "id": "fa334a3e",
   "metadata": {},
   "outputs": [],
   "source": [
    "base = pd.read_json(\"E:\\Corpora_em_json\\lower_remocao_punctuation\\pre_processamento_lower_remocao_punctuation.json\")"
   ]
  },
  {
   "cell_type": "code",
   "execution_count": 18,
   "id": "489f5296",
   "metadata": {},
   "outputs": [
    {
     "data": {
      "text/html": [
       "<div>\n",
       "<style scoped>\n",
       "    .dataframe tbody tr th:only-of-type {\n",
       "        vertical-align: middle;\n",
       "    }\n",
       "\n",
       "    .dataframe tbody tr th {\n",
       "        vertical-align: top;\n",
       "    }\n",
       "\n",
       "    .dataframe thead th {\n",
       "        text-align: right;\n",
       "    }\n",
       "</style>\n",
       "<table border=\"1\" class=\"dataframe\">\n",
       "  <thead>\n",
       "    <tr style=\"text-align: right;\">\n",
       "      <th></th>\n",
       "      <th>txtNome</th>\n",
       "      <th>imgArquivoTeorPDF</th>\n",
       "      <th>id</th>\n",
       "    </tr>\n",
       "  </thead>\n",
       "  <tbody>\n",
       "    <tr>\n",
       "      <th>0</th>\n",
       "      <td>PRC 130/1997</td>\n",
       "      <td>câmara dos deputados departamento de comissões...</td>\n",
       "      <td>0</td>\n",
       "    </tr>\n",
       "    <tr>\n",
       "      <th>1</th>\n",
       "      <td>PL 4117/1998</td>\n",
       "      <td>câmara dos deputados departamento de comissões...</td>\n",
       "      <td>1</td>\n",
       "    </tr>\n",
       "    <tr>\n",
       "      <th>2</th>\n",
       "      <td>PL 4395/1998</td>\n",
       "      <td>1 comissão de constituição e justiça e de reda...</td>\n",
       "      <td>2</td>\n",
       "    </tr>\n",
       "    <tr>\n",
       "      <th>3</th>\n",
       "      <td>PL 4395/1998</td>\n",
       "      <td>1 comissão de constituição e justiça e de reda...</td>\n",
       "      <td>3</td>\n",
       "    </tr>\n",
       "    <tr>\n",
       "      <th>4</th>\n",
       "      <td>PL 1165/1999</td>\n",
       "      <td>ofício nº 1416 sf brasília em 17 de julho de 2...</td>\n",
       "      <td>4</td>\n",
       "    </tr>\n",
       "    <tr>\n",
       "      <th>...</th>\n",
       "      <td>...</td>\n",
       "      <td>...</td>\n",
       "      <td>...</td>\n",
       "    </tr>\n",
       "    <tr>\n",
       "      <th>147003</th>\n",
       "      <td>INC 1122/2020</td>\n",
       "      <td>câmara dos deputados tel 61 3215 5941 e 3215 3...</td>\n",
       "      <td>147003</td>\n",
       "    </tr>\n",
       "    <tr>\n",
       "      <th>147004</th>\n",
       "      <td>INC 1123/2020</td>\n",
       "      <td>câmara dos deputados tel 61 3215 5941 e 3215 3...</td>\n",
       "      <td>147004</td>\n",
       "    </tr>\n",
       "    <tr>\n",
       "      <th>147005</th>\n",
       "      <td>INC 1123/2020</td>\n",
       "      <td>câmara dos deputados tel 61 3215 5941 e 3215 3...</td>\n",
       "      <td>147005</td>\n",
       "    </tr>\n",
       "    <tr>\n",
       "      <th>147006</th>\n",
       "      <td>RIC 1460/2020</td>\n",
       "      <td>câmara dos deputados gabinete do deputado capi...</td>\n",
       "      <td>147006</td>\n",
       "    </tr>\n",
       "    <tr>\n",
       "      <th>147007</th>\n",
       "      <td>RIC 1460/2020</td>\n",
       "      <td>câmara dos deputados gabinete do deputado capi...</td>\n",
       "      <td>147007</td>\n",
       "    </tr>\n",
       "  </tbody>\n",
       "</table>\n",
       "<p>147008 rows × 3 columns</p>\n",
       "</div>"
      ],
      "text/plain": [
       "              txtNome                                  imgArquivoTeorPDF   \n",
       "0        PRC 130/1997  câmara dos deputados departamento de comissões...  \\\n",
       "1        PL 4117/1998  câmara dos deputados departamento de comissões...   \n",
       "2        PL 4395/1998  1 comissão de constituição e justiça e de reda...   \n",
       "3        PL 4395/1998  1 comissão de constituição e justiça e de reda...   \n",
       "4        PL 1165/1999  ofício nº 1416 sf brasília em 17 de julho de 2...   \n",
       "...               ...                                                ...   \n",
       "147003  INC 1122/2020  câmara dos deputados tel 61 3215 5941 e 3215 3...   \n",
       "147004  INC 1123/2020  câmara dos deputados tel 61 3215 5941 e 3215 3...   \n",
       "147005  INC 1123/2020  câmara dos deputados tel 61 3215 5941 e 3215 3...   \n",
       "147006  RIC 1460/2020  câmara dos deputados gabinete do deputado capi...   \n",
       "147007  RIC 1460/2020  câmara dos deputados gabinete do deputado capi...   \n",
       "\n",
       "            id  \n",
       "0            0  \n",
       "1            1  \n",
       "2            2  \n",
       "3            3  \n",
       "4            4  \n",
       "...        ...  \n",
       "147003  147003  \n",
       "147004  147004  \n",
       "147005  147005  \n",
       "147006  147006  \n",
       "147007  147007  \n",
       "\n",
       "[147008 rows x 3 columns]"
      ]
     },
     "execution_count": 18,
     "metadata": {},
     "output_type": "execute_result"
    }
   ],
   "source": [
    "base"
   ]
  },
  {
   "cell_type": "code",
   "execution_count": 19,
   "id": "e88e760e",
   "metadata": {},
   "outputs": [],
   "source": [
    "base = base.rename(columns={'txtInteiroTeor': 'text','id':'docno'})"
   ]
  },
  {
   "cell_type": "code",
   "execution_count": 20,
   "id": "98d5120a",
   "metadata": {},
   "outputs": [
    {
     "data": {
      "text/html": [
       "<div>\n",
       "<style scoped>\n",
       "    .dataframe tbody tr th:only-of-type {\n",
       "        vertical-align: middle;\n",
       "    }\n",
       "\n",
       "    .dataframe tbody tr th {\n",
       "        vertical-align: top;\n",
       "    }\n",
       "\n",
       "    .dataframe thead th {\n",
       "        text-align: right;\n",
       "    }\n",
       "</style>\n",
       "<table border=\"1\" class=\"dataframe\">\n",
       "  <thead>\n",
       "    <tr style=\"text-align: right;\">\n",
       "      <th></th>\n",
       "      <th>txtNome</th>\n",
       "      <th>text</th>\n",
       "      <th>docno</th>\n",
       "    </tr>\n",
       "  </thead>\n",
       "  <tbody>\n",
       "    <tr>\n",
       "      <th>0</th>\n",
       "      <td>PRC 130/1997</td>\n",
       "      <td>câmara dos deputados departamento de comissões...</td>\n",
       "      <td>0</td>\n",
       "    </tr>\n",
       "    <tr>\n",
       "      <th>1</th>\n",
       "      <td>PL 4117/1998</td>\n",
       "      <td>câmara dos deputados departamento de comissões...</td>\n",
       "      <td>1</td>\n",
       "    </tr>\n",
       "    <tr>\n",
       "      <th>2</th>\n",
       "      <td>PL 4395/1998</td>\n",
       "      <td>1 comissão de constituição e justiça e de reda...</td>\n",
       "      <td>2</td>\n",
       "    </tr>\n",
       "    <tr>\n",
       "      <th>3</th>\n",
       "      <td>PL 4395/1998</td>\n",
       "      <td>1 comissão de constituição e justiça e de reda...</td>\n",
       "      <td>3</td>\n",
       "    </tr>\n",
       "    <tr>\n",
       "      <th>4</th>\n",
       "      <td>PL 1165/1999</td>\n",
       "      <td>ofício nº 1416 sf brasília em 17 de julho de 2...</td>\n",
       "      <td>4</td>\n",
       "    </tr>\n",
       "    <tr>\n",
       "      <th>...</th>\n",
       "      <td>...</td>\n",
       "      <td>...</td>\n",
       "      <td>...</td>\n",
       "    </tr>\n",
       "    <tr>\n",
       "      <th>147003</th>\n",
       "      <td>INC 1122/2020</td>\n",
       "      <td>câmara dos deputados tel 61 3215 5941 e 3215 3...</td>\n",
       "      <td>147003</td>\n",
       "    </tr>\n",
       "    <tr>\n",
       "      <th>147004</th>\n",
       "      <td>INC 1123/2020</td>\n",
       "      <td>câmara dos deputados tel 61 3215 5941 e 3215 3...</td>\n",
       "      <td>147004</td>\n",
       "    </tr>\n",
       "    <tr>\n",
       "      <th>147005</th>\n",
       "      <td>INC 1123/2020</td>\n",
       "      <td>câmara dos deputados tel 61 3215 5941 e 3215 3...</td>\n",
       "      <td>147005</td>\n",
       "    </tr>\n",
       "    <tr>\n",
       "      <th>147006</th>\n",
       "      <td>RIC 1460/2020</td>\n",
       "      <td>câmara dos deputados gabinete do deputado capi...</td>\n",
       "      <td>147006</td>\n",
       "    </tr>\n",
       "    <tr>\n",
       "      <th>147007</th>\n",
       "      <td>RIC 1460/2020</td>\n",
       "      <td>câmara dos deputados gabinete do deputado capi...</td>\n",
       "      <td>147007</td>\n",
       "    </tr>\n",
       "  </tbody>\n",
       "</table>\n",
       "<p>147008 rows × 3 columns</p>\n",
       "</div>"
      ],
      "text/plain": [
       "              txtNome                                               text   \n",
       "0        PRC 130/1997  câmara dos deputados departamento de comissões...  \\\n",
       "1        PL 4117/1998  câmara dos deputados departamento de comissões...   \n",
       "2        PL 4395/1998  1 comissão de constituição e justiça e de reda...   \n",
       "3        PL 4395/1998  1 comissão de constituição e justiça e de reda...   \n",
       "4        PL 1165/1999  ofício nº 1416 sf brasília em 17 de julho de 2...   \n",
       "...               ...                                                ...   \n",
       "147003  INC 1122/2020  câmara dos deputados tel 61 3215 5941 e 3215 3...   \n",
       "147004  INC 1123/2020  câmara dos deputados tel 61 3215 5941 e 3215 3...   \n",
       "147005  INC 1123/2020  câmara dos deputados tel 61 3215 5941 e 3215 3...   \n",
       "147006  RIC 1460/2020  câmara dos deputados gabinete do deputado capi...   \n",
       "147007  RIC 1460/2020  câmara dos deputados gabinete do deputado capi...   \n",
       "\n",
       "         docno  \n",
       "0            0  \n",
       "1            1  \n",
       "2            2  \n",
       "3            3  \n",
       "4            4  \n",
       "...        ...  \n",
       "147003  147003  \n",
       "147004  147004  \n",
       "147005  147005  \n",
       "147006  147006  \n",
       "147007  147007  \n",
       "\n",
       "[147008 rows x 3 columns]"
      ]
     },
     "execution_count": 20,
     "metadata": {},
     "output_type": "execute_result"
    }
   ],
   "source": [
    "base"
   ]
  },
  {
   "cell_type": "code",
   "execution_count": 21,
   "id": "6e2d1bdb",
   "metadata": {},
   "outputs": [
    {
     "name": "stdout",
     "output_type": "stream",
     "text": [
      "09:01:41.894 [main] WARN org.terrier.structures.indexing.Indexer - Adding an empty document to the index (1164) - further warnings are suppressed\n",
      "09:04:05.267 [main] WARN org.terrier.structures.indexing.Indexer - Indexed 68 empty documents\n"
     ]
    }
   ],
   "source": [
    "iter_indexer = pt.IterDictIndexer(\"E:\\Corpora_em_json\\pyterrier\\pre_processamento_lower_remocao_punctuation\")\n",
    "indexref2 = iter_indexer.index(base.to_dict(orient=\"records\"))"
   ]
  },
  {
   "cell_type": "markdown",
   "id": "262a0781",
   "metadata": {},
   "source": [
    "## Config-4"
   ]
  },
  {
   "cell_type": "code",
   "execution_count": 23,
   "id": "0222fc12",
   "metadata": {},
   "outputs": [],
   "source": [
    "base = pd.read_json(\"E:\\Corpora_em_json\\lower_remocao_punctuation_acentuacao\\pre_processamento_lower_remocao_punctuation_acentuacao.json\")"
   ]
  },
  {
   "cell_type": "code",
   "execution_count": 26,
   "id": "dcd0ae0d",
   "metadata": {},
   "outputs": [],
   "source": [
    "base = base.rename(columns={'txtInteiroTeor': 'text','id':'docno'})"
   ]
  },
  {
   "cell_type": "code",
   "execution_count": 27,
   "id": "59c3f211",
   "metadata": {},
   "outputs": [
    {
     "name": "stdout",
     "output_type": "stream",
     "text": [
      "09:05:35.076 [main] WARN org.terrier.structures.indexing.Indexer - Adding an empty document to the index (1164) - further warnings are suppressed\n",
      "09:07:56.730 [main] WARN org.terrier.structures.indexing.Indexer - Indexed 68 empty documents\n"
     ]
    }
   ],
   "source": [
    "iter_indexer = pt.IterDictIndexer(\"E:\\Corpora_em_json\\pyterrier\\pre_processamento_lower_remocao_punctuation_acentuacao\")\n",
    "indexref2 = iter_indexer.index(base.to_dict(orient=\"records\"))"
   ]
  },
  {
   "cell_type": "markdown",
   "id": "2131f16d",
   "metadata": {},
   "source": [
    "## Config-5"
   ]
  },
  {
   "cell_type": "code",
   "execution_count": 22,
   "id": "845e2c47",
   "metadata": {},
   "outputs": [],
   "source": [
    "base = pd.read_json(\"E:\\Corpora_em_json\\lower_remocao_punctuation_acentuacao_stopwords\\pre_processamento_lower_remocao_punctuation_acentuacao_stopwords.json\")"
   ]
  },
  {
   "cell_type": "code",
   "execution_count": 25,
   "id": "fd358503",
   "metadata": {},
   "outputs": [],
   "source": [
    "base = base.rename(columns={'contents': 'text','id':'docno'})"
   ]
  },
  {
   "cell_type": "code",
   "execution_count": 24,
   "id": "255eeb67",
   "metadata": {},
   "outputs": [
    {
     "data": {
      "text/html": [
       "<div>\n",
       "<style scoped>\n",
       "    .dataframe tbody tr th:only-of-type {\n",
       "        vertical-align: middle;\n",
       "    }\n",
       "\n",
       "    .dataframe tbody tr th {\n",
       "        vertical-align: top;\n",
       "    }\n",
       "\n",
       "    .dataframe thead th {\n",
       "        text-align: right;\n",
       "    }\n",
       "</style>\n",
       "<table border=\"1\" class=\"dataframe\">\n",
       "  <thead>\n",
       "    <tr style=\"text-align: right;\">\n",
       "      <th></th>\n",
       "      <th>txtNome</th>\n",
       "      <th>contents</th>\n",
       "      <th>docno</th>\n",
       "    </tr>\n",
       "  </thead>\n",
       "  <tbody>\n",
       "    <tr>\n",
       "      <th>0</th>\n",
       "      <td>PL 1165/1999</td>\n",
       "      <td>oficio 1416 sf brasilia 17 julho 2009 excelenc...</td>\n",
       "      <td>0</td>\n",
       "    </tr>\n",
       "    <tr>\n",
       "      <th>1</th>\n",
       "      <td>PL 3097/1992</td>\n",
       "      <td>comissao constituicao justica redacao projeto ...</td>\n",
       "      <td>1</td>\n",
       "    </tr>\n",
       "    <tr>\n",
       "      <th>2</th>\n",
       "      <td>PL 3927/2000</td>\n",
       "      <td>comissao trabalho administracao servico public...</td>\n",
       "      <td>2</td>\n",
       "    </tr>\n",
       "    <tr>\n",
       "      <th>3</th>\n",
       "      <td>PL 4117/1998</td>\n",
       "      <td>camara deputados departamento comissoes coorde...</td>\n",
       "      <td>3</td>\n",
       "    </tr>\n",
       "    <tr>\n",
       "      <th>4</th>\n",
       "      <td>PL 4395/1998</td>\n",
       "      <td>1 comissao constituicao justica redacao projet...</td>\n",
       "      <td>4</td>\n",
       "    </tr>\n",
       "    <tr>\n",
       "      <th>...</th>\n",
       "      <td>...</td>\n",
       "      <td>...</td>\n",
       "      <td>...</td>\n",
       "    </tr>\n",
       "    <tr>\n",
       "      <th>57104</th>\n",
       "      <td>PL 2233/2023</td>\n",
       "      <td>1 camara deputados projeto lei 2023 sr alfredo...</td>\n",
       "      <td>57104</td>\n",
       "    </tr>\n",
       "    <tr>\n",
       "      <th>57105</th>\n",
       "      <td>PL 3616/2019</td>\n",
       "      <td>altera lei 9 503 23 setembro 1997 codigo trans...</td>\n",
       "      <td>57105</td>\n",
       "    </tr>\n",
       "    <tr>\n",
       "      <th>57106</th>\n",
       "      <td>PL 1822/2019</td>\n",
       "      <td>altera lei 11 340 7 agosto 2006 lei maria penh...</td>\n",
       "      <td>57106</td>\n",
       "    </tr>\n",
       "    <tr>\n",
       "      <th>57107</th>\n",
       "      <td>PL 3815/2019</td>\n",
       "      <td>altera lei 7 565 19 dezembro 1986 codigo brasi...</td>\n",
       "      <td>57107</td>\n",
       "    </tr>\n",
       "    <tr>\n",
       "      <th>57108</th>\n",
       "      <td>PL 3130/2019</td>\n",
       "      <td>altera lei 13 675 11 junho 2018 prever objetiv...</td>\n",
       "      <td>57108</td>\n",
       "    </tr>\n",
       "  </tbody>\n",
       "</table>\n",
       "<p>57109 rows × 3 columns</p>\n",
       "</div>"
      ],
      "text/plain": [
       "            txtNome                                           contents  docno\n",
       "0      PL 1165/1999  oficio 1416 sf brasilia 17 julho 2009 excelenc...      0\n",
       "1      PL 3097/1992  comissao constituicao justica redacao projeto ...      1\n",
       "2      PL 3927/2000  comissao trabalho administracao servico public...      2\n",
       "3      PL 4117/1998  camara deputados departamento comissoes coorde...      3\n",
       "4      PL 4395/1998  1 comissao constituicao justica redacao projet...      4\n",
       "...             ...                                                ...    ...\n",
       "57104  PL 2233/2023  1 camara deputados projeto lei 2023 sr alfredo...  57104\n",
       "57105  PL 3616/2019  altera lei 9 503 23 setembro 1997 codigo trans...  57105\n",
       "57106  PL 1822/2019  altera lei 11 340 7 agosto 2006 lei maria penh...  57106\n",
       "57107  PL 3815/2019  altera lei 7 565 19 dezembro 1986 codigo brasi...  57107\n",
       "57108  PL 3130/2019  altera lei 13 675 11 junho 2018 prever objetiv...  57108\n",
       "\n",
       "[57109 rows x 3 columns]"
      ]
     },
     "execution_count": 24,
     "metadata": {},
     "output_type": "execute_result"
    }
   ],
   "source": [
    "base"
   ]
  },
  {
   "cell_type": "code",
   "execution_count": 26,
   "id": "4a91077b",
   "metadata": {},
   "outputs": [],
   "source": [
    "a = time.time()"
   ]
  },
  {
   "cell_type": "code",
   "execution_count": 27,
   "id": "cd818b7d",
   "metadata": {},
   "outputs": [],
   "source": [
    "iter_indexer = pt.IterDictIndexer(\"E:\\Corpora_em_json\\pyterrier\\pre_processamento_lower_remocao_punctuation_acentuacao_stopwords\",stemmer=None,stopwords=None,tokeniser=\"UTFTokeniser\")\n",
    "indexref2 = iter_indexer.index(base.to_dict(orient=\"records\"))"
   ]
  },
  {
   "cell_type": "code",
   "execution_count": 28,
   "id": "c6d61783",
   "metadata": {},
   "outputs": [],
   "source": [
    "d = time.time()"
   ]
  },
  {
   "cell_type": "code",
   "execution_count": 29,
   "id": "571a6967",
   "metadata": {},
   "outputs": [
    {
     "name": "stdout",
     "output_type": "stream",
     "text": [
      "Duração indexação: 73.967994\n"
     ]
    }
   ],
   "source": [
    "print(\"Duração indexação: %f\" %(d-a))"
   ]
  },
  {
   "cell_type": "markdown",
   "id": "1decb253",
   "metadata": {},
   "source": [
    "## Config-6"
   ]
  },
  {
   "cell_type": "code",
   "execution_count": 31,
   "id": "935553de",
   "metadata": {},
   "outputs": [],
   "source": [
    "base = pd.read_json(\"rslp/pre_processamento_rslp.json\")"
   ]
  },
  {
   "cell_type": "code",
   "execution_count": 32,
   "id": "cb348467",
   "metadata": {},
   "outputs": [],
   "source": [
    "base = base.rename(columns={'txtInteiroTeor': 'text','id':'docno'})"
   ]
  },
  {
   "cell_type": "code",
   "execution_count": 33,
   "id": "97f51f05",
   "metadata": {},
   "outputs": [
    {
     "name": "stdout",
     "output_type": "stream",
     "text": [
      "09:10:21.693 [main] WARN org.terrier.structures.indexing.Indexer - Adding an empty document to the index (1164) - further warnings are suppressed\n",
      "09:12:27.010 [main] WARN org.terrier.structures.indexing.Indexer - Indexed 68 empty documents\n"
     ]
    }
   ],
   "source": [
    "iter_indexer = pt.IterDictIndexer(\"E:\\Corpora_em_json\\pyterrier\\pre_processamento_rslp\")\n",
    "indexref2 = iter_indexer.index(base.to_dict(orient=\"records\"))"
   ]
  },
  {
   "cell_type": "markdown",
   "id": "cfdc2824",
   "metadata": {},
   "source": [
    "## Config-7"
   ]
  },
  {
   "cell_type": "code",
   "execution_count": 34,
   "id": "fab34d13",
   "metadata": {},
   "outputs": [],
   "source": [
    "base = pd.read_json(\"E:\\Corpora_em_json\\savoy\\pre_processamento_savoy.json\")"
   ]
  },
  {
   "cell_type": "code",
   "execution_count": 35,
   "id": "5aa0ad9a",
   "metadata": {},
   "outputs": [],
   "source": [
    "base = base.rename(columns={'txtInteiroTeor': 'text','id':'docno'})"
   ]
  },
  {
   "cell_type": "code",
   "execution_count": 36,
   "id": "1547e193",
   "metadata": {},
   "outputs": [
    {
     "name": "stdout",
     "output_type": "stream",
     "text": [
      "09:12:37.658 [main] WARN org.terrier.structures.indexing.Indexer - Adding an empty document to the index (1164) - further warnings are suppressed\n",
      "09:14:53.885 [main] WARN org.terrier.structures.indexing.Indexer - Indexed 68 empty documents\n"
     ]
    }
   ],
   "source": [
    "iter_indexer = pt.IterDictIndexer(\"E:\\Corpora_em_json\\pyterrier\\pre_processamento_savoy\")\n",
    "indexref2 = iter_indexer.index(base.to_dict(orient=\"records\"))"
   ]
  },
  {
   "cell_type": "markdown",
   "id": "f8963a91",
   "metadata": {},
   "source": [
    "## Config-8"
   ]
  },
  {
   "cell_type": "code",
   "execution_count": 2,
   "id": "4f20aa50",
   "metadata": {},
   "outputs": [],
   "source": [
    "base = pd.read_json(\"rslp_full/pre_processamento_rslp_full.json\")"
   ]
  },
  {
   "cell_type": "code",
   "execution_count": 3,
   "id": "7ef62224",
   "metadata": {},
   "outputs": [],
   "source": [
    "base = base.rename(columns={'contents': 'text','id':'docno'})"
   ]
  },
  {
   "cell_type": "code",
   "execution_count": 4,
   "id": "8ae333a3",
   "metadata": {},
   "outputs": [
    {
     "data": {
      "text/html": [
       "<div>\n",
       "<style scoped>\n",
       "    .dataframe tbody tr th:only-of-type {\n",
       "        vertical-align: middle;\n",
       "    }\n",
       "\n",
       "    .dataframe tbody tr th {\n",
       "        vertical-align: top;\n",
       "    }\n",
       "\n",
       "    .dataframe thead th {\n",
       "        text-align: right;\n",
       "    }\n",
       "</style>\n",
       "<table border=\"1\" class=\"dataframe\">\n",
       "  <thead>\n",
       "    <tr style=\"text-align: right;\">\n",
       "      <th></th>\n",
       "      <th>txtNome</th>\n",
       "      <th>text</th>\n",
       "      <th>docno</th>\n",
       "    </tr>\n",
       "  </thead>\n",
       "  <tbody>\n",
       "    <tr>\n",
       "      <th>0</th>\n",
       "      <td>PL 1165/1999</td>\n",
       "      <td>ofici 1416 sf brasil 17 julh 2009 excelenc sen...</td>\n",
       "      <td>0</td>\n",
       "    </tr>\n",
       "    <tr>\n",
       "      <th>1</th>\n",
       "      <td>PL 3097/1992</td>\n",
       "      <td>comissa constituica jus redaca projet lei 3 09...</td>\n",
       "      <td>1</td>\n",
       "    </tr>\n",
       "    <tr>\n",
       "      <th>2</th>\n",
       "      <td>PL 3927/2000</td>\n",
       "      <td>comissa trabalh administraca serv publ projet ...</td>\n",
       "      <td>2</td>\n",
       "    </tr>\n",
       "    <tr>\n",
       "      <th>3</th>\n",
       "      <td>PL 4117/1998</td>\n",
       "      <td>cam deput departament comisso coordenaca comis...</td>\n",
       "      <td>3</td>\n",
       "    </tr>\n",
       "    <tr>\n",
       "      <th>4</th>\n",
       "      <td>PL 4395/1998</td>\n",
       "      <td>1 comissa constituica jus redaca projet lei 4 ...</td>\n",
       "      <td>4</td>\n",
       "    </tr>\n",
       "    <tr>\n",
       "      <th>...</th>\n",
       "      <td>...</td>\n",
       "      <td>...</td>\n",
       "      <td>...</td>\n",
       "    </tr>\n",
       "    <tr>\n",
       "      <th>57104</th>\n",
       "      <td>PL 2233/2023</td>\n",
       "      <td>1 cam deput projet lei 2023 sr alfred gasp alt...</td>\n",
       "      <td>57104</td>\n",
       "    </tr>\n",
       "    <tr>\n",
       "      <th>57105</th>\n",
       "      <td>PL 3616/2019</td>\n",
       "      <td>alt lei 9 503 23 setembr 1997 codig transit br...</td>\n",
       "      <td>57105</td>\n",
       "    </tr>\n",
       "    <tr>\n",
       "      <th>57106</th>\n",
       "      <td>PL 1822/2019</td>\n",
       "      <td>alt lei 11 340 7 agost 2006 lei mar penh deter...</td>\n",
       "      <td>57106</td>\n",
       "    </tr>\n",
       "    <tr>\n",
       "      <th>57107</th>\n",
       "      <td>PL 3815/2019</td>\n",
       "      <td>alt lei 7 565 19 dezembr 1986 codig brasil aer...</td>\n",
       "      <td>57107</td>\n",
       "    </tr>\n",
       "    <tr>\n",
       "      <th>57108</th>\n",
       "      <td>PL 3130/2019</td>\n",
       "      <td>alt lei 13 675 11 junh 2018 prev obje red naci...</td>\n",
       "      <td>57108</td>\n",
       "    </tr>\n",
       "  </tbody>\n",
       "</table>\n",
       "<p>57109 rows × 3 columns</p>\n",
       "</div>"
      ],
      "text/plain": [
       "            txtNome                                               text  docno\n",
       "0      PL 1165/1999  ofici 1416 sf brasil 17 julh 2009 excelenc sen...      0\n",
       "1      PL 3097/1992  comissa constituica jus redaca projet lei 3 09...      1\n",
       "2      PL 3927/2000  comissa trabalh administraca serv publ projet ...      2\n",
       "3      PL 4117/1998  cam deput departament comisso coordenaca comis...      3\n",
       "4      PL 4395/1998  1 comissa constituica jus redaca projet lei 4 ...      4\n",
       "...             ...                                                ...    ...\n",
       "57104  PL 2233/2023  1 cam deput projet lei 2023 sr alfred gasp alt...  57104\n",
       "57105  PL 3616/2019  alt lei 9 503 23 setembr 1997 codig transit br...  57105\n",
       "57106  PL 1822/2019  alt lei 11 340 7 agost 2006 lei mar penh deter...  57106\n",
       "57107  PL 3815/2019  alt lei 7 565 19 dezembr 1986 codig brasil aer...  57107\n",
       "57108  PL 3130/2019  alt lei 13 675 11 junh 2018 prev obje red naci...  57108\n",
       "\n",
       "[57109 rows x 3 columns]"
      ]
     },
     "execution_count": 4,
     "metadata": {},
     "output_type": "execute_result"
    }
   ],
   "source": [
    "base"
   ]
  },
  {
   "cell_type": "code",
   "execution_count": 5,
   "id": "f4008dee",
   "metadata": {},
   "outputs": [],
   "source": [
    "a = time.time()"
   ]
  },
  {
   "cell_type": "code",
   "execution_count": 6,
   "id": "c5645e6a",
   "metadata": {},
   "outputs": [],
   "source": [
    "iter_indexer = pt.IterDictIndexer(\"E:\\Corpora_em_json\\pyterrier\\pre_processamento_rslp_full\",stemmer=None,stopwords=None,tokeniser=\"UTFTokeniser\")\n",
    "indexref2 = iter_indexer.index(base.to_dict(orient=\"records\"))"
   ]
  },
  {
   "cell_type": "code",
   "execution_count": 7,
   "id": "19f4d205",
   "metadata": {},
   "outputs": [],
   "source": [
    "d = time.time()"
   ]
  },
  {
   "cell_type": "code",
   "execution_count": 8,
   "id": "6e270a18",
   "metadata": {},
   "outputs": [
    {
     "name": "stdout",
     "output_type": "stream",
     "text": [
      "Duração indexação: 48.240969\n"
     ]
    }
   ],
   "source": [
    "print(\"Duração indexação: %f\" %(d-a))"
   ]
  },
  {
   "cell_type": "markdown",
   "id": "49080b3c",
   "metadata": {},
   "source": [
    "## Config-9"
   ]
  },
  {
   "cell_type": "code",
   "execution_count": 43,
   "id": "1be2ced8",
   "metadata": {},
   "outputs": [],
   "source": [
    "base = pd.read_json(\"E:\\Corpora_em_json\\savoy_full\\pre_processamento_savoy_full.json\")"
   ]
  },
  {
   "cell_type": "code",
   "execution_count": 44,
   "id": "3f4d585c",
   "metadata": {},
   "outputs": [],
   "source": [
    "base = base.rename(columns={'contents': 'text','id':'docno'})"
   ]
  },
  {
   "cell_type": "code",
   "execution_count": 45,
   "id": "79eda910",
   "metadata": {},
   "outputs": [],
   "source": [
    "a = time.time()"
   ]
  },
  {
   "cell_type": "code",
   "execution_count": 46,
   "id": "01ef235d",
   "metadata": {},
   "outputs": [],
   "source": [
    "iter_indexer = pt.IterDictIndexer(\"E:\\Corpora_em_json\\pyterrier\\pre_processamento_savoy_full\",stemmer=None,stopwords=None,tokeniser=\"UTFTokeniser\")\n",
    "indexref2 = iter_indexer.index(base.to_dict(orient=\"records\"))"
   ]
  },
  {
   "cell_type": "code",
   "execution_count": 47,
   "id": "c495eb2f",
   "metadata": {},
   "outputs": [],
   "source": [
    "d = time.time()"
   ]
  },
  {
   "cell_type": "code",
   "execution_count": 48,
   "id": "dd6fee65",
   "metadata": {},
   "outputs": [
    {
     "name": "stdout",
     "output_type": "stream",
     "text": [
      "Duração indexação: 53.168695\n"
     ]
    }
   ],
   "source": [
    "print(\"Duração indexação: %f\" %(d-a))"
   ]
  },
  {
   "cell_type": "markdown",
   "id": "a11ed376",
   "metadata": {},
   "source": [
    "## Config-10"
   ]
  },
  {
   "cell_type": "code",
   "execution_count": 2,
   "id": "de28fe97",
   "metadata": {},
   "outputs": [],
   "source": [
    "base = pd.read_json(\"bigram/pre_processamento_bigram.json\")"
   ]
  },
  {
   "cell_type": "code",
   "execution_count": 3,
   "id": "ab725b62",
   "metadata": {},
   "outputs": [],
   "source": [
    "base = base.rename(columns={'contents': 'text','id':'docno'})"
   ]
  },
  {
   "cell_type": "code",
   "execution_count": 4,
   "id": "90791156",
   "metadata": {},
   "outputs": [
    {
     "data": {
      "text/html": [
       "<div>\n",
       "<style scoped>\n",
       "    .dataframe tbody tr th:only-of-type {\n",
       "        vertical-align: middle;\n",
       "    }\n",
       "\n",
       "    .dataframe tbody tr th {\n",
       "        vertical-align: top;\n",
       "    }\n",
       "\n",
       "    .dataframe thead th {\n",
       "        text-align: right;\n",
       "    }\n",
       "</style>\n",
       "<table border=\"1\" class=\"dataframe\">\n",
       "  <thead>\n",
       "    <tr style=\"text-align: right;\">\n",
       "      <th></th>\n",
       "      <th>txtNome</th>\n",
       "      <th>text</th>\n",
       "      <th>docno</th>\n",
       "    </tr>\n",
       "  </thead>\n",
       "  <tbody>\n",
       "    <tr>\n",
       "      <th>0</th>\n",
       "      <td>PRC 130/1997</td>\n",
       "      <td>Câmara#dos dos#Deputados Deputados#Departament...</td>\n",
       "      <td>0</td>\n",
       "    </tr>\n",
       "    <tr>\n",
       "      <th>1</th>\n",
       "      <td>PL 4117/1998</td>\n",
       "      <td>Câmara#dos dos#Deputados Deputados#Departament...</td>\n",
       "      <td>1</td>\n",
       "    </tr>\n",
       "    <tr>\n",
       "      <th>2</th>\n",
       "      <td>PL 4395/1998</td>\n",
       "      <td>-#1 1#- -#COMISSÃO COMISSÃO#DE DE#CONSTITUIÇÃO...</td>\n",
       "      <td>2</td>\n",
       "    </tr>\n",
       "    <tr>\n",
       "      <th>3</th>\n",
       "      <td>PL 4395/1998</td>\n",
       "      <td>-#1 1#- -#COMISSÃO COMISSÃO#DE DE#CONSTITUIÇÃO...</td>\n",
       "      <td>3</td>\n",
       "    </tr>\n",
       "    <tr>\n",
       "      <th>4</th>\n",
       "      <td>PL 1165/1999</td>\n",
       "      <td>Ofício#nº nº#1416 1416#( (#SF SF#) )#Brasília ...</td>\n",
       "      <td>4</td>\n",
       "    </tr>\n",
       "    <tr>\n",
       "      <th>...</th>\n",
       "      <td>...</td>\n",
       "      <td>...</td>\n",
       "      <td>...</td>\n",
       "    </tr>\n",
       "    <tr>\n",
       "      <th>147003</th>\n",
       "      <td>INC 1122/2020</td>\n",
       "      <td>CÂMARA#DOS DOS#DEPUTADOS DEPUTADOS#Tel Tel#. ....</td>\n",
       "      <td>147003</td>\n",
       "    </tr>\n",
       "    <tr>\n",
       "      <th>147004</th>\n",
       "      <td>INC 1123/2020</td>\n",
       "      <td>CÂMARA#DOS DOS#DEPUTADOS DEPUTADOS#Tel Tel#. ....</td>\n",
       "      <td>147004</td>\n",
       "    </tr>\n",
       "    <tr>\n",
       "      <th>147005</th>\n",
       "      <td>INC 1123/2020</td>\n",
       "      <td>CÂMARA#DOS DOS#DEPUTADOS DEPUTADOS#Tel Tel#. ....</td>\n",
       "      <td>147005</td>\n",
       "    </tr>\n",
       "    <tr>\n",
       "      <th>147006</th>\n",
       "      <td>RIC 1460/2020</td>\n",
       "      <td>Câmara#dos dos#Deputados Deputados#Gabinete Ga...</td>\n",
       "      <td>147006</td>\n",
       "    </tr>\n",
       "    <tr>\n",
       "      <th>147007</th>\n",
       "      <td>RIC 1460/2020</td>\n",
       "      <td>Câmara#dos dos#Deputados Deputados#Gabinete Ga...</td>\n",
       "      <td>147007</td>\n",
       "    </tr>\n",
       "  </tbody>\n",
       "</table>\n",
       "<p>147008 rows × 3 columns</p>\n",
       "</div>"
      ],
      "text/plain": [
       "              txtNome                                               text   \n",
       "0        PRC 130/1997  Câmara#dos dos#Deputados Deputados#Departament...  \\\n",
       "1        PL 4117/1998  Câmara#dos dos#Deputados Deputados#Departament...   \n",
       "2        PL 4395/1998  -#1 1#- -#COMISSÃO COMISSÃO#DE DE#CONSTITUIÇÃO...   \n",
       "3        PL 4395/1998  -#1 1#- -#COMISSÃO COMISSÃO#DE DE#CONSTITUIÇÃO...   \n",
       "4        PL 1165/1999  Ofício#nº nº#1416 1416#( (#SF SF#) )#Brasília ...   \n",
       "...               ...                                                ...   \n",
       "147003  INC 1122/2020  CÂMARA#DOS DOS#DEPUTADOS DEPUTADOS#Tel Tel#. ....   \n",
       "147004  INC 1123/2020  CÂMARA#DOS DOS#DEPUTADOS DEPUTADOS#Tel Tel#. ....   \n",
       "147005  INC 1123/2020  CÂMARA#DOS DOS#DEPUTADOS DEPUTADOS#Tel Tel#. ....   \n",
       "147006  RIC 1460/2020  Câmara#dos dos#Deputados Deputados#Gabinete Ga...   \n",
       "147007  RIC 1460/2020  Câmara#dos dos#Deputados Deputados#Gabinete Ga...   \n",
       "\n",
       "         docno  \n",
       "0            0  \n",
       "1            1  \n",
       "2            2  \n",
       "3            3  \n",
       "4            4  \n",
       "...        ...  \n",
       "147003  147003  \n",
       "147004  147004  \n",
       "147005  147005  \n",
       "147006  147006  \n",
       "147007  147007  \n",
       "\n",
       "[147008 rows x 3 columns]"
      ]
     },
     "execution_count": 4,
     "metadata": {},
     "output_type": "execute_result"
    }
   ],
   "source": [
    "base"
   ]
  },
  {
   "cell_type": "code",
   "execution_count": 5,
   "id": "5509b038",
   "metadata": {},
   "outputs": [],
   "source": [
    "base['text'] = base['text'].map(lambda t:t.replace(\"#\",\" \"))"
   ]
  },
  {
   "cell_type": "code",
   "execution_count": 6,
   "id": "51c63cbb",
   "metadata": {},
   "outputs": [
    {
     "data": {
      "text/html": [
       "<div>\n",
       "<style scoped>\n",
       "    .dataframe tbody tr th:only-of-type {\n",
       "        vertical-align: middle;\n",
       "    }\n",
       "\n",
       "    .dataframe tbody tr th {\n",
       "        vertical-align: top;\n",
       "    }\n",
       "\n",
       "    .dataframe thead th {\n",
       "        text-align: right;\n",
       "    }\n",
       "</style>\n",
       "<table border=\"1\" class=\"dataframe\">\n",
       "  <thead>\n",
       "    <tr style=\"text-align: right;\">\n",
       "      <th></th>\n",
       "      <th>txtNome</th>\n",
       "      <th>text</th>\n",
       "      <th>docno</th>\n",
       "    </tr>\n",
       "  </thead>\n",
       "  <tbody>\n",
       "    <tr>\n",
       "      <th>0</th>\n",
       "      <td>PRC 130/1997</td>\n",
       "      <td>Câmara dos dos Deputados Deputados Departament...</td>\n",
       "      <td>0</td>\n",
       "    </tr>\n",
       "    <tr>\n",
       "      <th>1</th>\n",
       "      <td>PL 4117/1998</td>\n",
       "      <td>Câmara dos dos Deputados Deputados Departament...</td>\n",
       "      <td>1</td>\n",
       "    </tr>\n",
       "    <tr>\n",
       "      <th>2</th>\n",
       "      <td>PL 4395/1998</td>\n",
       "      <td>- 1 1 - - COMISSÃO COMISSÃO DE DE CONSTITUIÇÃO...</td>\n",
       "      <td>2</td>\n",
       "    </tr>\n",
       "    <tr>\n",
       "      <th>3</th>\n",
       "      <td>PL 4395/1998</td>\n",
       "      <td>- 1 1 - - COMISSÃO COMISSÃO DE DE CONSTITUIÇÃO...</td>\n",
       "      <td>3</td>\n",
       "    </tr>\n",
       "    <tr>\n",
       "      <th>4</th>\n",
       "      <td>PL 1165/1999</td>\n",
       "      <td>Ofício nº nº 1416 1416 ( ( SF SF ) ) Brasília ...</td>\n",
       "      <td>4</td>\n",
       "    </tr>\n",
       "    <tr>\n",
       "      <th>...</th>\n",
       "      <td>...</td>\n",
       "      <td>...</td>\n",
       "      <td>...</td>\n",
       "    </tr>\n",
       "    <tr>\n",
       "      <th>147003</th>\n",
       "      <td>INC 1122/2020</td>\n",
       "      <td>CÂMARA DOS DOS DEPUTADOS DEPUTADOS Tel Tel . ....</td>\n",
       "      <td>147003</td>\n",
       "    </tr>\n",
       "    <tr>\n",
       "      <th>147004</th>\n",
       "      <td>INC 1123/2020</td>\n",
       "      <td>CÂMARA DOS DOS DEPUTADOS DEPUTADOS Tel Tel . ....</td>\n",
       "      <td>147004</td>\n",
       "    </tr>\n",
       "    <tr>\n",
       "      <th>147005</th>\n",
       "      <td>INC 1123/2020</td>\n",
       "      <td>CÂMARA DOS DOS DEPUTADOS DEPUTADOS Tel Tel . ....</td>\n",
       "      <td>147005</td>\n",
       "    </tr>\n",
       "    <tr>\n",
       "      <th>147006</th>\n",
       "      <td>RIC 1460/2020</td>\n",
       "      <td>Câmara dos dos Deputados Deputados Gabinete Ga...</td>\n",
       "      <td>147006</td>\n",
       "    </tr>\n",
       "    <tr>\n",
       "      <th>147007</th>\n",
       "      <td>RIC 1460/2020</td>\n",
       "      <td>Câmara dos dos Deputados Deputados Gabinete Ga...</td>\n",
       "      <td>147007</td>\n",
       "    </tr>\n",
       "  </tbody>\n",
       "</table>\n",
       "<p>147008 rows × 3 columns</p>\n",
       "</div>"
      ],
      "text/plain": [
       "              txtNome                                               text   \n",
       "0        PRC 130/1997  Câmara dos dos Deputados Deputados Departament...  \\\n",
       "1        PL 4117/1998  Câmara dos dos Deputados Deputados Departament...   \n",
       "2        PL 4395/1998  - 1 1 - - COMISSÃO COMISSÃO DE DE CONSTITUIÇÃO...   \n",
       "3        PL 4395/1998  - 1 1 - - COMISSÃO COMISSÃO DE DE CONSTITUIÇÃO...   \n",
       "4        PL 1165/1999  Ofício nº nº 1416 1416 ( ( SF SF ) ) Brasília ...   \n",
       "...               ...                                                ...   \n",
       "147003  INC 1122/2020  CÂMARA DOS DOS DEPUTADOS DEPUTADOS Tel Tel . ....   \n",
       "147004  INC 1123/2020  CÂMARA DOS DOS DEPUTADOS DEPUTADOS Tel Tel . ....   \n",
       "147005  INC 1123/2020  CÂMARA DOS DOS DEPUTADOS DEPUTADOS Tel Tel . ....   \n",
       "147006  RIC 1460/2020  Câmara dos dos Deputados Deputados Gabinete Ga...   \n",
       "147007  RIC 1460/2020  Câmara dos dos Deputados Deputados Gabinete Ga...   \n",
       "\n",
       "         docno  \n",
       "0            0  \n",
       "1            1  \n",
       "2            2  \n",
       "3            3  \n",
       "4            4  \n",
       "...        ...  \n",
       "147003  147003  \n",
       "147004  147004  \n",
       "147005  147005  \n",
       "147006  147006  \n",
       "147007  147007  \n",
       "\n",
       "[147008 rows x 3 columns]"
      ]
     },
     "execution_count": 6,
     "metadata": {},
     "output_type": "execute_result"
    }
   ],
   "source": [
    "base"
   ]
  },
  {
   "cell_type": "code",
   "execution_count": 7,
   "id": "eb041a6a",
   "metadata": {},
   "outputs": [
    {
     "name": "stdout",
     "output_type": "stream",
     "text": [
      "14:20:40.965 [main] WARN org.terrier.structures.indexing.Indexer - Adding an empty document to the index (1164) - further warnings are suppressed\n",
      "14:23:56.496 [main] WARN org.terrier.structures.indexing.Indexer - Indexed 82 empty documents\n"
     ]
    }
   ],
   "source": [
    "iter_indexer = pt.IterDictIndexer(\"E:\\Corpora_em_json\\pyterrier\\pre_processamento_bigram\",stemmer=None,stopwords=None,tokeniser=\"UTFTokeniser\")\n",
    "indexref2 = iter_indexer.index(base.to_dict(orient=\"records\"))"
   ]
  },
  {
   "cell_type": "markdown",
   "id": "93a522dd",
   "metadata": {},
   "source": [
    "## Config-11"
   ]
  },
  {
   "cell_type": "code",
   "execution_count": 8,
   "id": "69a750af",
   "metadata": {},
   "outputs": [],
   "source": [
    "base = pd.read_json(\"trigram/pre_processamento_trigram.json\")"
   ]
  },
  {
   "cell_type": "code",
   "execution_count": 9,
   "id": "4bc104b5",
   "metadata": {},
   "outputs": [],
   "source": [
    "base = base.rename(columns={'contents': 'text','id':'docno'})"
   ]
  },
  {
   "cell_type": "code",
   "execution_count": 10,
   "id": "a45bb673",
   "metadata": {},
   "outputs": [],
   "source": [
    "base['text'] = base['text'].map(lambda t:t.replace(\"#\",\" \"))"
   ]
  },
  {
   "cell_type": "code",
   "execution_count": 11,
   "id": "02e98df5",
   "metadata": {},
   "outputs": [
    {
     "name": "stdout",
     "output_type": "stream",
     "text": [
      "14:24:58.159 [main] WARN org.terrier.structures.indexing.Indexer - Adding an empty document to the index (1164) - further warnings are suppressed\n",
      "14:29:08.665 [main] WARN org.terrier.structures.indexing.Indexer - Indexed 82 empty documents\n"
     ]
    }
   ],
   "source": [
    "iter_indexer = pt.IterDictIndexer(\"E:\\Corpora_em_json\\pyterrier\\pre_processamento_trigram\",stemmer=None,stopwords=None,tokeniser=\"UTFTokeniser\")\n",
    "indexref2 = iter_indexer.index(base.to_dict(orient=\"records\"))"
   ]
  },
  {
   "cell_type": "markdown",
   "id": "6c92a812",
   "metadata": {},
   "source": [
    "## Config-12"
   ]
  },
  {
   "cell_type": "code",
   "execution_count": 2,
   "id": "b41126f7",
   "metadata": {},
   "outputs": [],
   "source": [
    "base = pd.read_json(\"unigram_bigram/pre_processamento_unigram_bigram.json\")"
   ]
  },
  {
   "cell_type": "code",
   "execution_count": 3,
   "id": "3b1fc4d5",
   "metadata": {},
   "outputs": [],
   "source": [
    "base = base.rename(columns={'contents': 'text','id':'docno'})"
   ]
  },
  {
   "cell_type": "code",
   "execution_count": 4,
   "id": "9f686881",
   "metadata": {},
   "outputs": [],
   "source": [
    "base['text'] = base['text'].map(lambda t:t.replace(\"#\",\" \"))"
   ]
  },
  {
   "cell_type": "code",
   "execution_count": 5,
   "id": "0f288430",
   "metadata": {},
   "outputs": [
    {
     "name": "stdout",
     "output_type": "stream",
     "text": [
      "14:53:13.808 [main] WARN org.terrier.structures.indexing.Indexer - Adding an empty document to the index (1164) - further warnings are suppressed\n",
      "14:57:05.551 [main] WARN org.terrier.structures.indexing.Indexer - Indexed 68 empty documents\n"
     ]
    }
   ],
   "source": [
    "iter_indexer = pt.IterDictIndexer(\"E:\\Corpora_em_json\\pyterrier\\pre_processamento_unigram_bigram\",stemmer=None,stopwords=None,tokeniser=\"UTFTokeniser\")\n",
    "indexref2 = iter_indexer.index(base.to_dict(orient=\"records\"))"
   ]
  },
  {
   "cell_type": "markdown",
   "id": "3ac60b94",
   "metadata": {},
   "source": [
    "## Config-13"
   ]
  },
  {
   "cell_type": "code",
   "execution_count": 6,
   "id": "cbfdb0cc",
   "metadata": {},
   "outputs": [],
   "source": [
    "base = pd.read_json(\"bigram_full/pre_processamento_bigram_full.json\")"
   ]
  },
  {
   "cell_type": "code",
   "execution_count": 7,
   "id": "9449a5fa",
   "metadata": {},
   "outputs": [],
   "source": [
    "base = base.rename(columns={'contents': 'text','id':'docno'})"
   ]
  },
  {
   "cell_type": "code",
   "execution_count": 8,
   "id": "f8f44521",
   "metadata": {},
   "outputs": [],
   "source": [
    "base['text'] = base['text'].map(lambda t:t.replace(\"#\",\" \"))"
   ]
  },
  {
   "cell_type": "code",
   "execution_count": 9,
   "id": "e5756f7b",
   "metadata": {},
   "outputs": [
    {
     "name": "stdout",
     "output_type": "stream",
     "text": [
      "14:57:25.601 [main] WARN org.terrier.structures.indexing.Indexer - Adding an empty document to the index (1164) - further warnings are suppressed\n",
      "15:00:52.231 [main] WARN org.terrier.structures.indexing.Indexer - Indexed 82 empty documents\n"
     ]
    }
   ],
   "source": [
    "iter_indexer = pt.IterDictIndexer(\"E:\\Corpora_em_json\\pyterrier\\pre_processamento_bigram_full\",stemmer=None,stopwords=None,tokeniser=\"UTFTokeniser\")\n",
    "indexref2 = iter_indexer.index(base.to_dict(orient=\"records\"))"
   ]
  },
  {
   "cell_type": "markdown",
   "id": "8f13544d",
   "metadata": {},
   "source": [
    "## Config-14"
   ]
  },
  {
   "cell_type": "code",
   "execution_count": 10,
   "id": "8adb60e1",
   "metadata": {},
   "outputs": [],
   "source": [
    "base = pd.read_json(\"trigram_full/pre_processamento_trigram_full.json\")"
   ]
  },
  {
   "cell_type": "code",
   "execution_count": 11,
   "id": "740eb191",
   "metadata": {},
   "outputs": [],
   "source": [
    "base = base.rename(columns={'contents': 'text','id':'docno'})"
   ]
  },
  {
   "cell_type": "code",
   "execution_count": 12,
   "id": "f7159976",
   "metadata": {},
   "outputs": [],
   "source": [
    "base['text'] = base['text'].map(lambda t:t.replace(\"#\",\" \"))"
   ]
  },
  {
   "cell_type": "code",
   "execution_count": 13,
   "id": "6a483acc",
   "metadata": {},
   "outputs": [
    {
     "name": "stdout",
     "output_type": "stream",
     "text": [
      "15:01:22.217 [main] WARN org.terrier.structures.indexing.Indexer - Adding an empty document to the index (1164) - further warnings are suppressed\n",
      "15:04:19.875 [main] WARN org.terrier.structures.indexing.Indexer - Indexed 82 empty documents\n"
     ]
    }
   ],
   "source": [
    "iter_indexer = pt.IterDictIndexer(\"E:\\Corpora_em_json\\pyterrier\\pre_processamento_trigram_full\",stemmer=None,stopwords=None,tokeniser=\"UTFTokeniser\")\n",
    "indexref2 = iter_indexer.index(base.to_dict(orient=\"records\"))"
   ]
  },
  {
   "cell_type": "markdown",
   "id": "ca7a2bec",
   "metadata": {},
   "source": [
    "## Config-15"
   ]
  },
  {
   "cell_type": "code",
   "execution_count": 14,
   "id": "5618a9e0",
   "metadata": {},
   "outputs": [],
   "source": [
    "base = pd.read_json(\"unigram_bigram_full/pre_processamento_unigram_bigram_full.json\")"
   ]
  },
  {
   "cell_type": "code",
   "execution_count": 15,
   "id": "96208f6a",
   "metadata": {},
   "outputs": [],
   "source": [
    "base = base.rename(columns={'contents': 'text','id':'docno'})"
   ]
  },
  {
   "cell_type": "code",
   "execution_count": 16,
   "id": "10fcd616",
   "metadata": {},
   "outputs": [],
   "source": [
    "base['text'] = base['text'].map(lambda t:t.replace(\"#\",\" \"))"
   ]
  },
  {
   "cell_type": "code",
   "execution_count": 17,
   "id": "c0643622",
   "metadata": {},
   "outputs": [
    {
     "name": "stdout",
     "output_type": "stream",
     "text": [
      "15:04:49.704 [main] WARN org.terrier.structures.indexing.Indexer - Adding an empty document to the index (1164) - further warnings are suppressed\n",
      "15:07:49.774 [main] WARN org.terrier.structures.indexing.Indexer - Indexed 68 empty documents\n"
     ]
    }
   ],
   "source": [
    "iter_indexer = pt.IterDictIndexer(\"E:\\Corpora_em_json\\pyterrier\\pre_processamento_unigram_bigram_full\",stemmer=None,stopwords=None,tokeniser=\"UTFTokeniser\")\n",
    "indexref2 = iter_indexer.index(base.to_dict(orient=\"records\"))"
   ]
  },
  {
   "cell_type": "markdown",
   "id": "aa4e1c6a",
   "metadata": {},
   "source": [
    "## Config-16"
   ]
  },
  {
   "cell_type": "code",
   "execution_count": 18,
   "id": "d7be0099",
   "metadata": {},
   "outputs": [],
   "source": [
    "base = pd.read_json(\"bigram_rslp_full/pre_processamento_bigram__rslp_full.json\")"
   ]
  },
  {
   "cell_type": "code",
   "execution_count": 19,
   "id": "38101c93",
   "metadata": {},
   "outputs": [],
   "source": [
    "base = base.rename(columns={'contents': 'text','id':'docno'})"
   ]
  },
  {
   "cell_type": "code",
   "execution_count": 20,
   "id": "5f9453e6",
   "metadata": {},
   "outputs": [],
   "source": [
    "base['text'] = base['text'].map(lambda t:t.replace(\"#\",\" \"))"
   ]
  },
  {
   "cell_type": "code",
   "execution_count": 21,
   "id": "11e8b648",
   "metadata": {},
   "outputs": [
    {
     "name": "stdout",
     "output_type": "stream",
     "text": [
      "15:08:05.061 [main] WARN org.terrier.structures.indexing.Indexer - Adding an empty document to the index (1164) - further warnings are suppressed\n",
      "15:10:14.346 [main] WARN org.terrier.structures.indexing.Indexer - Indexed 82 empty documents\n"
     ]
    }
   ],
   "source": [
    "iter_indexer = pt.IterDictIndexer(\"E:\\Corpora_em_json\\pyterrier\\pre_processamento_bigram_rslp_full\",stemmer=None,stopwords=None,tokeniser=\"UTFTokeniser\")\n",
    "indexref2 = iter_indexer.index(base.to_dict(orient=\"records\"))"
   ]
  },
  {
   "cell_type": "markdown",
   "id": "057c91d1",
   "metadata": {},
   "source": [
    "## Config-17"
   ]
  },
  {
   "cell_type": "code",
   "execution_count": 22,
   "id": "b81521d7",
   "metadata": {},
   "outputs": [],
   "source": [
    "base = pd.read_json(\"trigram_rslp_full/pre_processamento_trigram_rslp_full.json\")"
   ]
  },
  {
   "cell_type": "code",
   "execution_count": 23,
   "id": "7a2bb8e1",
   "metadata": {},
   "outputs": [],
   "source": [
    "base = base.rename(columns={'contents': 'text','id':'docno'})"
   ]
  },
  {
   "cell_type": "code",
   "execution_count": 24,
   "id": "d72ec60d",
   "metadata": {},
   "outputs": [],
   "source": [
    "base['text'] = base['text'].map(lambda t:t.replace(\"#\",\" \"))"
   ]
  },
  {
   "cell_type": "code",
   "execution_count": 25,
   "id": "73298b29",
   "metadata": {},
   "outputs": [
    {
     "name": "stdout",
     "output_type": "stream",
     "text": [
      "15:10:33.302 [main] WARN org.terrier.structures.indexing.Indexer - Adding an empty document to the index (1164) - further warnings are suppressed\n",
      "15:13:08.626 [main] WARN org.terrier.structures.indexing.Indexer - Indexed 82 empty documents\n"
     ]
    }
   ],
   "source": [
    "iter_indexer = pt.IterDictIndexer(\"E:\\Corpora_em_json\\pyterrier\\pre_processamento_trigram_rslp_full\",stemmer=None,stopwords=None,tokeniser=\"UTFTokeniser\")\n",
    "indexref2 = iter_indexer.index(base.to_dict(orient=\"records\"))"
   ]
  },
  {
   "cell_type": "markdown",
   "id": "8d90cf86",
   "metadata": {},
   "source": [
    "## Config-18"
   ]
  },
  {
   "cell_type": "code",
   "execution_count": 50,
   "id": "858c5e23",
   "metadata": {},
   "outputs": [],
   "source": [
    "base = pd.read_json(\"unigram_bigram_rslp_full/pre_processamento_unigram_bigram_rslp_full1.json\")"
   ]
  },
  {
   "cell_type": "code",
   "execution_count": 51,
   "id": "465511ce",
   "metadata": {},
   "outputs": [],
   "source": [
    "base = base.rename(columns={'contents': 'text','id':'docno'})"
   ]
  },
  {
   "cell_type": "code",
   "execution_count": null,
   "id": "96f42029",
   "metadata": {},
   "outputs": [],
   "source": [
    "#base['text'] = base['text'].map(lambda t:t.replace(\"#\",\" \"))"
   ]
  },
  {
   "cell_type": "code",
   "execution_count": 54,
   "id": "764afa4e",
   "metadata": {},
   "outputs": [],
   "source": [
    "a = time.time()"
   ]
  },
  {
   "cell_type": "code",
   "execution_count": 55,
   "id": "79ed4d60",
   "metadata": {},
   "outputs": [],
   "source": [
    "iter_indexer = pt.IterDictIndexer(\"E:\\Corpora_em_json\\pyterrier\\pre_processamento_unigram_bigram_rslp_full\",stemmer=None,stopwords=None,tokeniser=\"UTFTokeniser\")\n",
    "indexref2 = iter_indexer.index(base.to_dict(orient=\"records\"))"
   ]
  },
  {
   "cell_type": "code",
   "execution_count": 56,
   "id": "1ff57f2a",
   "metadata": {},
   "outputs": [],
   "source": [
    "d = time.time()"
   ]
  },
  {
   "cell_type": "code",
   "execution_count": 57,
   "id": "3a8d9738",
   "metadata": {},
   "outputs": [
    {
     "name": "stdout",
     "output_type": "stream",
     "text": [
      "Duração indexação: 81.174018\n"
     ]
    }
   ],
   "source": [
    "print(\"Duração indexação: %f\" %(d-a))"
   ]
  },
  {
   "cell_type": "markdown",
   "id": "29b25cda",
   "metadata": {},
   "source": [
    "## Config-19"
   ]
  },
  {
   "cell_type": "code",
   "execution_count": 30,
   "id": "d0e8ccd6",
   "metadata": {},
   "outputs": [],
   "source": [
    "base = pd.read_json(\"bigram_savoy_full/pre_processamento_bigram__savoy_full.json\")"
   ]
  },
  {
   "cell_type": "code",
   "execution_count": 31,
   "id": "6147a34b",
   "metadata": {},
   "outputs": [],
   "source": [
    "base = base.rename(columns={'contents': 'text','id':'docno'})"
   ]
  },
  {
   "cell_type": "code",
   "execution_count": 32,
   "id": "667a2197",
   "metadata": {},
   "outputs": [],
   "source": [
    "base['text'] = base['text'].map(lambda t:t.replace(\"#\",\" \"))"
   ]
  },
  {
   "cell_type": "code",
   "execution_count": 33,
   "id": "50dfd2cb",
   "metadata": {},
   "outputs": [
    {
     "name": "stdout",
     "output_type": "stream",
     "text": [
      "15:16:26.863 [main] WARN org.terrier.structures.indexing.Indexer - Adding an empty document to the index (1164) - further warnings are suppressed\n",
      "15:18:41.715 [main] WARN org.terrier.structures.indexing.Indexer - Indexed 82 empty documents\n"
     ]
    }
   ],
   "source": [
    "iter_indexer = pt.IterDictIndexer(\"E:\\Corpora_em_json\\pyterrier\\pre_processamento_bigram_savoy_full\",stemmer=None,stopwords=None,tokeniser=\"UTFTokeniser\")\n",
    "indexref2 = iter_indexer.index(base.to_dict(orient=\"records\"))"
   ]
  },
  {
   "cell_type": "markdown",
   "id": "83e49c97",
   "metadata": {},
   "source": [
    "## Config-20"
   ]
  },
  {
   "cell_type": "code",
   "execution_count": 34,
   "id": "2cfd0fb3",
   "metadata": {},
   "outputs": [],
   "source": [
    "base = pd.read_json(\"trigram_savoy_full/pre_processamento_trigram_savoy_full.json\")"
   ]
  },
  {
   "cell_type": "code",
   "execution_count": 35,
   "id": "af6c0cb1",
   "metadata": {},
   "outputs": [],
   "source": [
    "base = base.rename(columns={'contents': 'text','id':'docno'})"
   ]
  },
  {
   "cell_type": "code",
   "execution_count": 36,
   "id": "48ebef1c",
   "metadata": {},
   "outputs": [],
   "source": [
    "base['text'] = base['text'].map(lambda t:t.replace(\"#\",\" \"))"
   ]
  },
  {
   "cell_type": "code",
   "execution_count": 37,
   "id": "c95f7eb8",
   "metadata": {},
   "outputs": [
    {
     "name": "stdout",
     "output_type": "stream",
     "text": [
      "15:19:08.898 [main] WARN org.terrier.structures.indexing.Indexer - Adding an empty document to the index (1164) - further warnings are suppressed\n",
      "15:21:52.583 [main] WARN org.terrier.structures.indexing.Indexer - Indexed 82 empty documents\n"
     ]
    }
   ],
   "source": [
    "iter_indexer = pt.IterDictIndexer(\"E:\\Corpora_em_json\\pyterrier\\pre_processamento_trigram_savoy_full\",stemmer=None,stopwords=None,tokeniser=\"UTFTokeniser\")\n",
    "indexref2 = iter_indexer.index(base.to_dict(orient=\"records\"))"
   ]
  },
  {
   "cell_type": "markdown",
   "id": "4683f323",
   "metadata": {},
   "source": [
    "## Config-21"
   ]
  },
  {
   "cell_type": "code",
   "execution_count": 59,
   "id": "f90ab734",
   "metadata": {},
   "outputs": [],
   "source": [
    "base = pd.read_json(\"unigram_bigram_savoy_full/pre_processamento_unigram_bigram_savoy_full.json\")"
   ]
  },
  {
   "cell_type": "code",
   "execution_count": 60,
   "id": "9aef5836",
   "metadata": {},
   "outputs": [],
   "source": [
    "base = base.rename(columns={'contents': 'text','id':'docno'})"
   ]
  },
  {
   "cell_type": "code",
   "execution_count": null,
   "id": "acdfd308",
   "metadata": {},
   "outputs": [],
   "source": [
    "#base['text'] = base['text'].map(lambda t:t.replace(\"#\",\" \"))"
   ]
  },
  {
   "cell_type": "code",
   "execution_count": 61,
   "id": "cac32401",
   "metadata": {},
   "outputs": [],
   "source": [
    "a = time.time()"
   ]
  },
  {
   "cell_type": "code",
   "execution_count": 62,
   "id": "fe1cdafe",
   "metadata": {},
   "outputs": [],
   "source": [
    "iter_indexer = pt.IterDictIndexer(\"E:\\Corpora_em_json\\pyterrier\\pre_processamento_unigram_bigram_savoy_full\",stemmer=None,stopwords=None,tokeniser=\"UTFTokeniser\")\n",
    "indexref2 = iter_indexer.index(base.to_dict(orient=\"records\"))"
   ]
  },
  {
   "cell_type": "code",
   "execution_count": 63,
   "id": "cab8d85b",
   "metadata": {},
   "outputs": [],
   "source": [
    "d = time.time()"
   ]
  },
  {
   "cell_type": "code",
   "execution_count": 64,
   "id": "b9f63360",
   "metadata": {},
   "outputs": [
    {
     "name": "stdout",
     "output_type": "stream",
     "text": [
      "Duração indexação: 87.241234\n"
     ]
    }
   ],
   "source": [
    "print(\"Duração indexação: %f\" %(d-a))"
   ]
  },
  {
   "cell_type": "markdown",
   "id": "952e80fc",
   "metadata": {},
   "source": [
    "## Config-22"
   ]
  },
  {
   "cell_type": "code",
   "execution_count": 65,
   "id": "fe6cf754",
   "metadata": {},
   "outputs": [],
   "source": [
    "base = pd.read_json(\"rslps_full/pre_processamento_rslps_full.json\")"
   ]
  },
  {
   "cell_type": "code",
   "execution_count": 66,
   "id": "966feada",
   "metadata": {},
   "outputs": [],
   "source": [
    "base = base.rename(columns={'txtInteiroTeor': 'text','id':'docno'})"
   ]
  },
  {
   "cell_type": "code",
   "execution_count": 67,
   "id": "c3f9d096",
   "metadata": {},
   "outputs": [
    {
     "data": {
      "text/html": [
       "<div>\n",
       "<style scoped>\n",
       "    .dataframe tbody tr th:only-of-type {\n",
       "        vertical-align: middle;\n",
       "    }\n",
       "\n",
       "    .dataframe tbody tr th {\n",
       "        vertical-align: top;\n",
       "    }\n",
       "\n",
       "    .dataframe thead th {\n",
       "        text-align: right;\n",
       "    }\n",
       "</style>\n",
       "<table border=\"1\" class=\"dataframe\">\n",
       "  <thead>\n",
       "    <tr style=\"text-align: right;\">\n",
       "      <th></th>\n",
       "      <th>txtNome</th>\n",
       "      <th>text</th>\n",
       "      <th>docno</th>\n",
       "    </tr>\n",
       "  </thead>\n",
       "  <tbody>\n",
       "    <tr>\n",
       "      <th>0</th>\n",
       "      <td>PL 1165/1999</td>\n",
       "      <td>oficio 1416 sf brasilia 17 julho 2009 excelenc...</td>\n",
       "      <td>0</td>\n",
       "    </tr>\n",
       "    <tr>\n",
       "      <th>1</th>\n",
       "      <td>PL 3097/1992</td>\n",
       "      <td>comissao constituicao justica redacao projeto ...</td>\n",
       "      <td>1</td>\n",
       "    </tr>\n",
       "    <tr>\n",
       "      <th>2</th>\n",
       "      <td>PL 3927/2000</td>\n",
       "      <td>comissao trabalho administracao servico public...</td>\n",
       "      <td>2</td>\n",
       "    </tr>\n",
       "    <tr>\n",
       "      <th>3</th>\n",
       "      <td>PL 4117/1998</td>\n",
       "      <td>camara deputado departamento comissoe coordena...</td>\n",
       "      <td>3</td>\n",
       "    </tr>\n",
       "    <tr>\n",
       "      <th>4</th>\n",
       "      <td>PL 4395/1998</td>\n",
       "      <td>1 comissao constituicao justica redacao projet...</td>\n",
       "      <td>4</td>\n",
       "    </tr>\n",
       "    <tr>\n",
       "      <th>...</th>\n",
       "      <td>...</td>\n",
       "      <td>...</td>\n",
       "      <td>...</td>\n",
       "    </tr>\n",
       "    <tr>\n",
       "      <th>57104</th>\n",
       "      <td>PL 2233/2023</td>\n",
       "      <td>1 camara deputado projeto lei 2023 sr alfredo ...</td>\n",
       "      <td>57104</td>\n",
       "    </tr>\n",
       "    <tr>\n",
       "      <th>57105</th>\n",
       "      <td>PL 3616/2019</td>\n",
       "      <td>altera lei 9 503 23 setembro 1997 codigo trans...</td>\n",
       "      <td>57105</td>\n",
       "    </tr>\n",
       "    <tr>\n",
       "      <th>57106</th>\n",
       "      <td>PL 1822/2019</td>\n",
       "      <td>altera lei 11 340 7 agosto 2006 lei maria penh...</td>\n",
       "      <td>57106</td>\n",
       "    </tr>\n",
       "    <tr>\n",
       "      <th>57107</th>\n",
       "      <td>PL 3815/2019</td>\n",
       "      <td>altera lei 7 565 19 dezembro 1986 codigo brasi...</td>\n",
       "      <td>57107</td>\n",
       "    </tr>\n",
       "    <tr>\n",
       "      <th>57108</th>\n",
       "      <td>PL 3130/2019</td>\n",
       "      <td>altera lei 13 675 11 junho 2018 prever objetiv...</td>\n",
       "      <td>57108</td>\n",
       "    </tr>\n",
       "  </tbody>\n",
       "</table>\n",
       "<p>57109 rows × 3 columns</p>\n",
       "</div>"
      ],
      "text/plain": [
       "            txtNome                                               text  docno\n",
       "0      PL 1165/1999  oficio 1416 sf brasilia 17 julho 2009 excelenc...      0\n",
       "1      PL 3097/1992  comissao constituicao justica redacao projeto ...      1\n",
       "2      PL 3927/2000  comissao trabalho administracao servico public...      2\n",
       "3      PL 4117/1998  camara deputado departamento comissoe coordena...      3\n",
       "4      PL 4395/1998  1 comissao constituicao justica redacao projet...      4\n",
       "...             ...                                                ...    ...\n",
       "57104  PL 2233/2023  1 camara deputado projeto lei 2023 sr alfredo ...  57104\n",
       "57105  PL 3616/2019  altera lei 9 503 23 setembro 1997 codigo trans...  57105\n",
       "57106  PL 1822/2019  altera lei 11 340 7 agosto 2006 lei maria penh...  57106\n",
       "57107  PL 3815/2019  altera lei 7 565 19 dezembro 1986 codigo brasi...  57107\n",
       "57108  PL 3130/2019  altera lei 13 675 11 junho 2018 prever objetiv...  57108\n",
       "\n",
       "[57109 rows x 3 columns]"
      ]
     },
     "execution_count": 67,
     "metadata": {},
     "output_type": "execute_result"
    }
   ],
   "source": [
    "base"
   ]
  },
  {
   "cell_type": "code",
   "execution_count": 10,
   "id": "8f98f496",
   "metadata": {},
   "outputs": [],
   "source": [
    "#base['text'] = base['text'].map(lambda t:t.replace(\"#\",\" \"))"
   ]
  },
  {
   "cell_type": "code",
   "execution_count": 68,
   "id": "4876bc44",
   "metadata": {},
   "outputs": [],
   "source": [
    "a = time.time()"
   ]
  },
  {
   "cell_type": "code",
   "execution_count": 69,
   "id": "ae60e86d",
   "metadata": {},
   "outputs": [],
   "source": [
    "iter_indexer = pt.IterDictIndexer(\"E:\\Corpora_em_json\\pyterrier\\pre_processamento_rslps_full\",stemmer=None,stopwords=None,tokeniser=\"UTFTokeniser\")\n",
    "indexref2 = iter_indexer.index(base.to_dict(orient=\"records\"))"
   ]
  },
  {
   "cell_type": "code",
   "execution_count": 70,
   "id": "92ac79eb",
   "metadata": {},
   "outputs": [],
   "source": [
    "d = time.time()"
   ]
  },
  {
   "cell_type": "code",
   "execution_count": 71,
   "id": "1324cdd8",
   "metadata": {},
   "outputs": [
    {
     "name": "stdout",
     "output_type": "stream",
     "text": [
      "Duração indexação: 54.656154\n"
     ]
    }
   ],
   "source": [
    "print(\"Duração indexação: %f\" %(d-a))"
   ]
  },
  {
   "cell_type": "markdown",
   "id": "b61ccd14",
   "metadata": {},
   "source": [
    "## Config-23"
   ]
  },
  {
   "cell_type": "code",
   "execution_count": 72,
   "id": "d636f137",
   "metadata": {},
   "outputs": [],
   "source": [
    "base = pd.read_json(\"unigram_bigram_rslps_full/pre_processamento_unigram_bigram_rslps_full.json\")"
   ]
  },
  {
   "cell_type": "code",
   "execution_count": 73,
   "id": "5eafa70a",
   "metadata": {},
   "outputs": [],
   "source": [
    "base = base.rename(columns={'contents': 'text','id':'docno'})"
   ]
  },
  {
   "cell_type": "code",
   "execution_count": 74,
   "id": "da8a0ce2",
   "metadata": {},
   "outputs": [
    {
     "data": {
      "text/html": [
       "<div>\n",
       "<style scoped>\n",
       "    .dataframe tbody tr th:only-of-type {\n",
       "        vertical-align: middle;\n",
       "    }\n",
       "\n",
       "    .dataframe tbody tr th {\n",
       "        vertical-align: top;\n",
       "    }\n",
       "\n",
       "    .dataframe thead th {\n",
       "        text-align: right;\n",
       "    }\n",
       "</style>\n",
       "<table border=\"1\" class=\"dataframe\">\n",
       "  <thead>\n",
       "    <tr style=\"text-align: right;\">\n",
       "      <th></th>\n",
       "      <th>txtNome</th>\n",
       "      <th>text</th>\n",
       "      <th>docno</th>\n",
       "    </tr>\n",
       "  </thead>\n",
       "  <tbody>\n",
       "    <tr>\n",
       "      <th>0</th>\n",
       "      <td>PL 1165/1999</td>\n",
       "      <td>oficio 1416 sf brasilia 17 julho 2009 excelenc...</td>\n",
       "      <td>0</td>\n",
       "    </tr>\n",
       "    <tr>\n",
       "      <th>1</th>\n",
       "      <td>PL 3097/1992</td>\n",
       "      <td>comissao constituicao justica redacao projeto ...</td>\n",
       "      <td>1</td>\n",
       "    </tr>\n",
       "    <tr>\n",
       "      <th>2</th>\n",
       "      <td>PL 3927/2000</td>\n",
       "      <td>comissao trabalho administracao servico public...</td>\n",
       "      <td>2</td>\n",
       "    </tr>\n",
       "    <tr>\n",
       "      <th>3</th>\n",
       "      <td>PL 4117/1998</td>\n",
       "      <td>camara deputado departamento comissoe coordena...</td>\n",
       "      <td>3</td>\n",
       "    </tr>\n",
       "    <tr>\n",
       "      <th>4</th>\n",
       "      <td>PL 4395/1998</td>\n",
       "      <td>1 comissao constituicao justica redacao projet...</td>\n",
       "      <td>4</td>\n",
       "    </tr>\n",
       "    <tr>\n",
       "      <th>...</th>\n",
       "      <td>...</td>\n",
       "      <td>...</td>\n",
       "      <td>...</td>\n",
       "    </tr>\n",
       "    <tr>\n",
       "      <th>57104</th>\n",
       "      <td>PL 2233/2023</td>\n",
       "      <td>1 camara deputado projeto lei 2023 sr alfredo ...</td>\n",
       "      <td>57104</td>\n",
       "    </tr>\n",
       "    <tr>\n",
       "      <th>57105</th>\n",
       "      <td>PL 3616/2019</td>\n",
       "      <td>altera lei 9 503 23 setembro 1997 codigo trans...</td>\n",
       "      <td>57105</td>\n",
       "    </tr>\n",
       "    <tr>\n",
       "      <th>57106</th>\n",
       "      <td>PL 1822/2019</td>\n",
       "      <td>altera lei 11 340 7 agosto 2006 lei maria penh...</td>\n",
       "      <td>57106</td>\n",
       "    </tr>\n",
       "    <tr>\n",
       "      <th>57107</th>\n",
       "      <td>PL 3815/2019</td>\n",
       "      <td>altera lei 7 565 19 dezembro 1986 codigo brasi...</td>\n",
       "      <td>57107</td>\n",
       "    </tr>\n",
       "    <tr>\n",
       "      <th>57108</th>\n",
       "      <td>PL 3130/2019</td>\n",
       "      <td>altera lei 13 675 11 junho 2018 prever objetiv...</td>\n",
       "      <td>57108</td>\n",
       "    </tr>\n",
       "  </tbody>\n",
       "</table>\n",
       "<p>57109 rows × 3 columns</p>\n",
       "</div>"
      ],
      "text/plain": [
       "            txtNome                                               text  docno\n",
       "0      PL 1165/1999  oficio 1416 sf brasilia 17 julho 2009 excelenc...      0\n",
       "1      PL 3097/1992  comissao constituicao justica redacao projeto ...      1\n",
       "2      PL 3927/2000  comissao trabalho administracao servico public...      2\n",
       "3      PL 4117/1998  camara deputado departamento comissoe coordena...      3\n",
       "4      PL 4395/1998  1 comissao constituicao justica redacao projet...      4\n",
       "...             ...                                                ...    ...\n",
       "57104  PL 2233/2023  1 camara deputado projeto lei 2023 sr alfredo ...  57104\n",
       "57105  PL 3616/2019  altera lei 9 503 23 setembro 1997 codigo trans...  57105\n",
       "57106  PL 1822/2019  altera lei 11 340 7 agosto 2006 lei maria penh...  57106\n",
       "57107  PL 3815/2019  altera lei 7 565 19 dezembro 1986 codigo brasi...  57107\n",
       "57108  PL 3130/2019  altera lei 13 675 11 junho 2018 prever objetiv...  57108\n",
       "\n",
       "[57109 rows x 3 columns]"
      ]
     },
     "execution_count": 74,
     "metadata": {},
     "output_type": "execute_result"
    }
   ],
   "source": [
    "base"
   ]
  },
  {
   "cell_type": "code",
   "execution_count": 75,
   "id": "db34d413",
   "metadata": {},
   "outputs": [],
   "source": [
    "#base['text'] = base['text'].map(lambda t:t.replace(\"#\",\" \"))"
   ]
  },
  {
   "cell_type": "code",
   "execution_count": 80,
   "id": "ce4f2031",
   "metadata": {},
   "outputs": [],
   "source": [
    "a = time.time()"
   ]
  },
  {
   "cell_type": "code",
   "execution_count": 81,
   "id": "d234b4d5",
   "metadata": {},
   "outputs": [],
   "source": [
    "iter_indexer = pt.IterDictIndexer(\"E:\\Corpora_em_json\\pyterrier\\pre_processamento_unigram_bigram_rslps_full\",stemmer=None,stopwords=None,tokeniser=\"UTFTokeniser\")\n",
    "indexref2 = iter_indexer.index(base.to_dict(orient=\"records\"))"
   ]
  },
  {
   "cell_type": "code",
   "execution_count": 82,
   "id": "c5e12fe0",
   "metadata": {},
   "outputs": [],
   "source": [
    "d = time.time()"
   ]
  },
  {
   "cell_type": "code",
   "execution_count": 83,
   "id": "28d40dbf",
   "metadata": {},
   "outputs": [
    {
     "name": "stdout",
     "output_type": "stream",
     "text": [
      "Duração indexação: 84.337524\n"
     ]
    }
   ],
   "source": [
    "print(\"Duração indexação: %f\" %(d-a))"
   ]
  },
  {
   "cell_type": "code",
   "execution_count": null,
   "id": "c677b09b",
   "metadata": {},
   "outputs": [],
   "source": []
  }
 ],
 "metadata": {
  "kernelspec": {
   "display_name": "Python 3 (ipykernel)",
   "language": "python",
   "name": "python3"
  },
  "language_info": {
   "codemirror_mode": {
    "name": "ipython",
    "version": 3
   },
   "file_extension": ".py",
   "mimetype": "text/x-python",
   "name": "python",
   "nbconvert_exporter": "python",
   "pygments_lexer": "ipython3",
   "version": "3.8.7"
  }
 },
 "nbformat": 4,
 "nbformat_minor": 5
}
