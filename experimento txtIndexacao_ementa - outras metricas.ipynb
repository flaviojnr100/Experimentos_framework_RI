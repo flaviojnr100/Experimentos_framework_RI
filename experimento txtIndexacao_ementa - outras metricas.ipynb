{
 "cells": [
  {
   "cell_type": "code",
   "execution_count": 1,
   "id": "f5d28d41",
   "metadata": {},
   "outputs": [
    {
     "name": "stderr",
     "output_type": "stream",
     "text": [
      "[nltk_data] Downloading package stopwords to\n",
      "[nltk_data]     C:\\Users\\Flavio\\AppData\\Roaming\\nltk_data...\n",
      "[nltk_data]   Package stopwords is already up-to-date!\n",
      "[nltk_data] Downloading package punkt to\n",
      "[nltk_data]     C:\\Users\\Flavio\\AppData\\Roaming\\nltk_data...\n",
      "[nltk_data]   Package punkt is already up-to-date!\n",
      "[nltk_data] Downloading package rslp to\n",
      "[nltk_data]     C:\\Users\\Flavio\\AppData\\Roaming\\nltk_data...\n",
      "[nltk_data]   Package rslp is already up-to-date!\n",
      "PyTerrier 0.9.2 has loaded Terrier 5.7 (built by craigm on 2022-11-10 18:30) and terrier-helper 0.0.7\n",
      "\n"
     ]
    }
   ],
   "source": [
    "import nltk\n",
    "from string import punctuation\n",
    "from nltk.tokenize import RegexpTokenizer, word_tokenize\n",
    "\n",
    "from unicodedata import normalize\n",
    "from nltk.stem import RSLPStemmer\n",
    "from nltk.util import ngrams\n",
    "import pandas as pd\n",
    "\n",
    "nltk.download('stopwords')\n",
    "nltk.download('punkt')\n",
    "nltk.download('rslp')\n",
    "\n",
    "import time\n",
    "import pyterrier as pt\n",
    "pt.init()"
   ]
  },
  {
   "cell_type": "code",
   "execution_count": 2,
   "id": "e1449570",
   "metadata": {},
   "outputs": [],
   "source": [
    "df_assunto= pd.read_table(\"../dados-conle-anonimizado-assunto-notnull - dados-conle-anonimizado-assunto-notnull.tsv\",sep=\";\")"
   ]
  },
  {
   "cell_type": "code",
   "execution_count": 3,
   "id": "9470d84d",
   "metadata": {},
   "outputs": [],
   "source": [
    "arr_assunto = df_assunto.to_numpy()\n",
    "y,X = arr_assunto[:,0],arr_assunto[:,1]\n",
    "y = [i.strip() for i in y]"
   ]
  },
  {
   "cell_type": "code",
   "execution_count": 4,
   "id": "1773aae2",
   "metadata": {},
   "outputs": [],
   "source": [
    "base = pd.read_csv(\"../base_20230428_douglas.csv\", delimiter=',', encoding=\"utf-8\")"
   ]
  },
  {
   "cell_type": "code",
   "execution_count": 5,
   "id": "fa0569dc",
   "metadata": {},
   "outputs": [],
   "source": [
    "def verificar(y,top_n,top_k):\n",
    "    for i in range(top_k):\n",
    "        if len(top_n)>0:\n",
    "            index = int(top_n.iloc[i,2])\n",
    "            nome = base.iloc[index,4]\n",
    "            if y in nome:\n",
    "                return 1\n",
    "        else:\n",
    "            return 0\n",
    "    return 0"
   ]
  },
  {
   "cell_type": "code",
   "execution_count": 6,
   "id": "a3712356",
   "metadata": {},
   "outputs": [],
   "source": [
    "def avaliacaoRecall(isPreprocess,top_k=20):\n",
    "    \n",
    "    quant_encontrado = 0\n",
    "    quant_relevante =0\n",
    "    antes = time.time()\n",
    "    for l,x in zip(y,X):\n",
    "\n",
    "        tokenized_query3 = x\n",
    "        if isPreprocess:\n",
    "            tokenized_query3 = preprocess(x)\n",
    "        \n",
    "        top_n = retriever.search(tokenized_query3)\n",
    "    \n",
    "        quant_relevante+=1\n",
    "        quant_encontrado+=verificar(l,top_n,top_k)\n",
    "    \n",
    "    recall = quant_encontrado / quant_relevante\n",
    "    depois = time.time()\n",
    "    print(\"Recall: \"+str(recall))\n",
    "    print(\"Duração: %f\" %(depois - antes))"
   ]
  },
  {
   "cell_type": "code",
   "execution_count": 7,
   "id": "7a610eb7",
   "metadata": {},
   "outputs": [],
   "source": [
    "def avaliacaoRR(isPreprocess):\n",
    "    quant_relevante =0\n",
    "    for l,x in zip(y,X):\n",
    "\n",
    "        tokenized_query3 = x\n",
    "        if isPreprocess:\n",
    "            tokenized_query3 = preprocess(x)\n",
    "        \n",
    "        top_n = retriever.search(tokenized_query3)\n",
    "        if len(top_n)>0:\n",
    "            index = int(top_n.iloc[0,2])\n",
    "            nome = base.iloc[index,4]\n",
    "            if l.strip() in nome.strip():\n",
    "                quant_relevante+=1\n",
    "    rr = quant_relevante/295\n",
    "    print(\"RR: %f\" %(rr))"
   ]
  },
  {
   "cell_type": "code",
   "execution_count": 8,
   "id": "cd586993",
   "metadata": {},
   "outputs": [],
   "source": [
    "def avaliacaoPrecision(isPreprocess,top_k=20):\n",
    "    \n",
    "    quant_encontrado = 0\n",
    "    soma =0\n",
    "    for l,x in zip(y,X):\n",
    "\n",
    "        tokenized_query3 = x\n",
    "        if isPreprocess:\n",
    "            tokenized_query3 = preprocess(x)\n",
    "        \n",
    "        top_n = retriever.search(tokenized_query3)\n",
    "    \n",
    "        \n",
    "        quant_encontrado=verificar(l,top_n,top_k)\n",
    "        soma+= (quant_encontrado / top_k)\n",
    "    \n",
    "    precision = soma / 295\n",
    "    \n",
    "    print(\"Precision: \"+str(precision))"
   ]
  },
  {
   "cell_type": "code",
   "execution_count": 9,
   "id": "21d561ec",
   "metadata": {},
   "outputs": [],
   "source": [
    "def avaliacaoMAP(isPreprocess,top_k=20):\n",
    "    \n",
    "    l_v = list()\n",
    "    labels_nsL = list()\n",
    "    for l,x in zip(y,X):\n",
    "\n",
    "        tokenized_query3 = x\n",
    "        if isPreprocess:\n",
    "            tokenized_query3 = preprocess(x)\n",
    "        \n",
    "        top_n = retriever.search(tokenized_query3)\n",
    "    \n",
    "        l_v.append(l)\n",
    "        \n",
    "        if len(top_n)>0:\n",
    "            labels_nsL.append([base.iloc[int(top_n.iloc[i,4]),1] for i in range(top_k)])\n",
    "        else:\n",
    "            labels_nsL.append(list())\n",
    "            \n",
    "    denominador = 0\n",
    "    encontrou=False\n",
    "    soma=0\n",
    "    for Y,x in zip(l_v,labels_nsL):\n",
    "        calc = 0\n",
    "        quant=0\n",
    "        if len(x)>0:\n",
    "            for k in x:\n",
    "                if str(k).strip() == Y.strip():\n",
    "                    quant=1\n",
    "                    encontrou=True\n",
    "                denominador+=1\n",
    "                calc=quant/denominador\n",
    "                if encontrou:\n",
    "                    calc = calc * 1\n",
    "                else:\n",
    "                    calc = calc * 0\n",
    "                soma+=calc\n",
    "                encontrou = False\n",
    "    MAP = soma /295\n",
    "    print(\"MAP@ %d: %f\" % (top_k,MAP))\n",
    "            "
   ]
  },
  {
   "cell_type": "code",
   "execution_count": 10,
   "id": "3ae3445e",
   "metadata": {},
   "outputs": [],
   "source": [
    "class Savoy:\n",
    "\n",
    "    def __removeAllPTAccent(self, old_word):\n",
    "        word = list(old_word)\n",
    "        len_word = len(word)-1\n",
    "        for i in range(len_word, -1, -1):\n",
    "            if word[i] == 'ä':\n",
    "                word[i] = 'a'\n",
    "            if word[i] == 'â':\n",
    "                word[i] = 'a'\n",
    "            if word[i] == 'à':\n",
    "                word[i] = 'a'\n",
    "            if word[i] == 'á':\n",
    "                word[i] = 'a'\n",
    "            if word[i] == 'ã':\n",
    "                word[i] = 'a'\n",
    "            if word[i] == 'ê':\n",
    "                word[i] = 'e'\n",
    "            if word[i] == 'é':\n",
    "                word[i] = 'e'\n",
    "            if word[i] == 'è':\n",
    "                word[i] = 'e'\n",
    "            if word[i] == 'ë':\n",
    "                word[i] = 'e'\n",
    "            if word[i] == 'ï':\n",
    "                word[i] = 'i'\n",
    "            if word[i] == 'î':\n",
    "                word[i] = 'i'\n",
    "            if word[i] == 'ì':\n",
    "                word[i] = 'i'\n",
    "            if word[i] == 'í':\n",
    "                word[i] = 'i'\n",
    "            if word[i] == 'ü':\n",
    "                word[i] = 'u'\n",
    "            if word[i] == 'ú':\n",
    "                word[i] = 'u'\n",
    "            if word[i] == 'ù':\n",
    "                word[i] = 'u'\n",
    "            if word[i] == 'û':\n",
    "                word[i] = 'u'\n",
    "            if word[i] == 'ô':\n",
    "                word[i] = 'o'\n",
    "            if word[i] == 'ö':\n",
    "                word[i] = 'o'\n",
    "            if word[i] == 'ó':\n",
    "                word[i] = 'o'\n",
    "            if word[i] == 'ò':\n",
    "                word[i] = 'o'\n",
    "            if word[i] == 'õ':\n",
    "                word[i] = 'o'\n",
    "            if word[i] == 'ç':\n",
    "                word[i] = 'c'\n",
    "\n",
    "        new_word = \"\".join(word)\n",
    "        return new_word\n",
    "\n",
    "    def __finalVowelPortuguese(self, word):\n",
    "        len_word = len(word)\n",
    "        if len_word > 3:\n",
    "            if word[-1] == 'e' or word[-1] == 'a' or word[-1] == 'o':\n",
    "                word = word[:-1]\n",
    "\n",
    "        return word\n",
    "\n",
    "    def __remove_PTsuffix(self, word):\n",
    "        len_word = len(word)\n",
    "\n",
    "        if len_word > 3:\n",
    "            if word[-1] == 's' and word[-2] == 'e' and (word[-3] == 'r' or word[-3] == 's' or word[-3] == 'z' or word[-3] == 'l'):\n",
    "                word = word[:-2]\n",
    "                return word\n",
    "        if len_word > 2:\n",
    "            if word[-1] == 's' and word[-2] == 'n':\n",
    "                new_word = list(word)\n",
    "                new_word[-2] = 'm'\n",
    "                sing = \"\".join(new_word)\n",
    "                sing = sing[:-1]\n",
    "                return sing\n",
    "\n",
    "        if len_word > 3:\n",
    "            if (word[-1] == 's' and word[-2] == 'i') and (word[-3] == 'e' or word[-3] == 'é'):\n",
    "                new_word = list(word)\n",
    "                new_word[-3] = 'e'\n",
    "                new_word[-2] = 'l'\n",
    "                sing = \"\".join(new_word)\n",
    "                sing = sing[:-1]\n",
    "                return sing\n",
    "\n",
    "        if len_word > 3:\n",
    "            if word[-1] == 's' and word[-2] == 'i' and word[-3] == 'a':\n",
    "                new_word = list(word)\n",
    "                new_word[-2] = 'l'\n",
    "                sing = \"\".join(new_word)\n",
    "                sing = sing[:-1]\n",
    "                return sing\n",
    "\n",
    "        if len_word > 3:\n",
    "            if word[-1] == 's' and word[-2] == 'i' and word[-3] == 'ó':\n",
    "                new_word = list(word)\n",
    "                new_word[-3] = 'o'\n",
    "                new_word[-2] = 'l'\n",
    "                sing = \"\".join(new_word)\n",
    "                sing = sing[:-1]\n",
    "                return sing\n",
    "\n",
    "        if len_word > 3:\n",
    "            if word[-1] == 's' and word[-2] == 'i':\n",
    "                new_word = list(word)\n",
    "                new_word[-1] = 'l'\n",
    "                sing = \"\".join(new_word)\n",
    "                return sing\n",
    "\n",
    "        if len_word > 2:\n",
    "            if word[-1] == 's' and word[-2] == 'e' and word[-3] == 'õ':\n",
    "                new_word = list(word)\n",
    "                new_word[-3] = 'ã'\n",
    "                new_word[-2] = 'o'\n",
    "                sing = \"\".join(new_word)\n",
    "                sing = sing[:-1]\n",
    "                return sing\n",
    "            if word[-1] == 's' and word[-2] == 'e' and word[-3] == 'ã':\n",
    "                new_word = list(word)\n",
    "                new_word[-2] = 'o'\n",
    "                sing = \"\".join(new_word)\n",
    "                sing = sing[:-1]\n",
    "                return sing\n",
    "\n",
    "        if len_word > 5:\n",
    "            if word[-1] == 'e' and word[-2] == 't' and word[-3] == 'n' and word[-4] == 'e' and word[-5] == 'm':\n",
    "                word = word[:-5]\n",
    "                return word\n",
    "\n",
    "        if len_word > 2:\n",
    "            if word[-1] == 's':\n",
    "                word = word[:-1]\n",
    "\n",
    "        return word\n",
    "\n",
    "    def __normFemininPortuguese(self, word):\n",
    "\n",
    "        len_word = len(word)\n",
    "\n",
    "        if len_word < 3 or word[-1] != 'a':\n",
    "            return word\n",
    "\n",
    "        if len_word > 6:\n",
    "\n",
    "            if word[-2] == 'h' and word[-3] == 'n' and word[-4] == 'i':\n",
    "                new_word = list(word)\n",
    "                new_word[-1] = 'o'\n",
    "                masc = \"\".join(new_word)\n",
    "                return masc\n",
    "\n",
    "            if word[-2] == 'c' and word[-3] == 'a' and word[-4] == 'i':\n",
    "                new_word = list(word)\n",
    "                new_word[-1] = 'o'\n",
    "                masc = \"\".join(new_word)\n",
    "                return masc\n",
    "\n",
    "            if word[-2] == 'r' and word[-3] == 'i' and word[-4] == 'e':\n",
    "                new_word = list(word)\n",
    "                new_word[-1] = 'o'\n",
    "                masc = \"\".join(new_word)\n",
    "                return masc\n",
    "\n",
    "        if len_word > 5:\n",
    "            if word[-2] == 'n' and word[-3] == 'o':\n",
    "                new_word = list(word)\n",
    "                new_word[-3] = 'ã'\n",
    "                new_word[-2] = 'o'\n",
    "                masc = \"\".join(new_word)\n",
    "                masc = masc[:-1]\n",
    "                return masc\n",
    "\n",
    "            if word[-2] == 'r' and word[-3] == 'o':\n",
    "                word = word[:-1]\n",
    "                return word\n",
    "\n",
    "            if word[-2] == 's' and word[-3] == 'o':\n",
    "                new_word = list(word)\n",
    "                new_word[-1] = 'o'\n",
    "                masc = \"\".join(new_word)\n",
    "                return masc\n",
    "\n",
    "            if word[-2] == 's' and word[-3] == 'e':\n",
    "                new_word = list(word)\n",
    "                new_word[-3] = 'ê'\n",
    "                masc = \"\".join(new_word)\n",
    "                masc = masc[:-1]\n",
    "                return masc\n",
    "\n",
    "            if word[-2] == 'c' and word[-3] == 'i':\n",
    "                new_word = list(word)\n",
    "                new_word[-1] = 'o'\n",
    "                masc = \"\".join(new_word)\n",
    "                return masc\n",
    "\n",
    "            if word[-2] == 'd' and word[-3] == 'i':\n",
    "                new_word = list(word)\n",
    "                new_word[-1] = 'o'\n",
    "                masc = \"\".join(new_word)\n",
    "                return masc\n",
    "\n",
    "            if word[-2] == 'd' and word[-3] == 'a':\n",
    "                new_word = list(word)\n",
    "                new_word[-1] = 'o'\n",
    "                masc = \"\".join(new_word)\n",
    "                return masc\n",
    "\n",
    "            if word[-2] == 'v' and word[-3] == 'i':\n",
    "                new_word = list(word)\n",
    "                new_word[-1] = 'o'\n",
    "                masc = \"\".join(new_word)\n",
    "                return masc\n",
    "\n",
    "            if word[-2] == 'm' and word[-3] == 'a':\n",
    "                new_word = list(word)\n",
    "                new_word[-1] = 'o'\n",
    "                masc = \"\".join(new_word)\n",
    "                return masc\n",
    "\n",
    "            if word[-2] == 'n':\n",
    "                new_word = list(word)\n",
    "                new_word[-1] = 'o'\n",
    "                masc = \"\".join(new_word)\n",
    "                return masc\n",
    "\n",
    "        return word\n",
    "\n",
    "    def stem(self, word):\n",
    "        len_word = len(word)\n",
    "        if len_word > 2:\n",
    "            word = self.__remove_PTsuffix(word)\n",
    "            word = self.__normFemininPortuguese(word)\n",
    "            word = self.__finalVowelPortuguese(word)\n",
    "            word = self.__removeAllPTAccent(word)\n",
    "\n",
    "        return word"
   ]
  },
  {
   "cell_type": "code",
   "execution_count": 11,
   "id": "3bdc16cd",
   "metadata": {},
   "outputs": [],
   "source": [
    "class RSLP_S:\n",
    "    def __plural_reduction(self, word):\n",
    "        excep = [\"lápis\",\"cais\",\"mais\",\"crúcis\",\"biquínis\",\"pois\",\"depois\",\"dois\",\"leis\" ]\n",
    "        excep_s = [\"aliás\",\"pires\",\"lápis\",\"cais\",\"mais\",\"mas\",\"menos\", \"férias\",\"fezes\",\"pêsames\",\"crúcis\",\"gás\", \"atrás\",\"moisés\",\"através\",\"convés\",\"ês\", \"país\",\"após\",\"ambas\",\"ambos\",\"messias\"]\n",
    "\n",
    "        len_word = len(word)\n",
    "        new_word = list(word)\n",
    "\n",
    "        if len_word >= 3:\n",
    "            if new_word[-1] == 's' and new_word[-2] == 'n':\n",
    "                new_word[-2] = 'm'\n",
    "                sing = \"\".join(new_word)\n",
    "                sing = sing[:-1]\n",
    "                return sing\n",
    "\n",
    "            if new_word[-1] == 's' and new_word[-2] == 'e' and new_word[-3] == 'õ':\n",
    "                new_word[-3] = 'ã'\n",
    "                new_word[-2] = 'o'\n",
    "                sing = \"\".join(new_word)\n",
    "                sing = sing[:-1]\n",
    "                return  sing\n",
    "\n",
    "            if new_word[-1] == 's' and new_word[-2] == 'e' and new_word[-3] == 'ã':\n",
    "                if word == 'mães':\n",
    "                    word = word[:-1]\n",
    "                    return word\n",
    "                else:\n",
    "                    new_word[-2] = 'o'\n",
    "                    sing = \"\".join(new_word)\n",
    "                    sing = sing[:-1]\n",
    "                    return sing\n",
    "\n",
    "            if new_word[-1] == 's' and new_word[-2] == 'i' and new_word[-3] == 'a':\n",
    "                if word != 'cais' and word != 'mais':\n",
    "                    new_word[-2] = 'l'\n",
    "                    sing = \"\".join(new_word)\n",
    "                    sing = sing[:-1]\n",
    "                    return sing\n",
    "\n",
    "            if new_word[-1] == 's' and new_word[-2] == 'i' and new_word[-3] == 'é':\n",
    "                new_word[-3] = 'e'\n",
    "                new_word[-2] = 'l'\n",
    "                sing = \"\".join(new_word)\n",
    "                sing = sing[:-1]\n",
    "                return sing\n",
    "\n",
    "            if new_word[-1] == 's' and new_word[-2] == 'i' and new_word[-3] == 'e':\n",
    "                new_word[-3] = 'e'\n",
    "                new_word[-2] = 'l'\n",
    "                sing = \"\".join(new_word)\n",
    "                sing = sing[:-1]\n",
    "                return sing\n",
    "\n",
    "            if new_word[-1] == 's' and new_word[-2] == 'i' and new_word[-3] == 'ó':\n",
    "                new_word[-3] = 'o'\n",
    "                new_word[-2] = 'l'\n",
    "                sing = \"\".join(new_word)\n",
    "                sing = sing[:-1]\n",
    "                return sing\n",
    "\n",
    "            if new_word[-1] == 's' and new_word[-2] == 'i':\n",
    "                if word not in excep:\n",
    "                    new_word[-1] = 'l'\n",
    "                    sing = \"\".join(new_word)\n",
    "                    return sing\n",
    "\n",
    "            if new_word[-1] == 's' and new_word[-2] == 'e' and new_word[-3] == 'l':\n",
    "                word = word[:-2]\n",
    "                return word\n",
    "\n",
    "            if new_word[-1] == 's' and new_word[-2] == 'e' and new_word[-3] == 'r':\n",
    "                word = word[:-2]\n",
    "                return word\n",
    "\n",
    "            if new_word[-1] == 's':\n",
    "                if word not in excep_s:\n",
    "                    word = word[:-1]\n",
    "\n",
    "        return word\n",
    "\n",
    "    def stem(self, word):\n",
    "        word = self.__plural_reduction(word)\n",
    "\n",
    "        return word"
   ]
  },
  {
   "cell_type": "markdown",
   "id": "782edce9",
   "metadata": {},
   "source": [
    "# Config 1"
   ]
  },
  {
   "cell_type": "code",
   "execution_count": 12,
   "id": "8641fe0a",
   "metadata": {},
   "outputs": [],
   "source": [
    "index_path = 'E:\\Corpora_em_json\\experimentos_pyterrier\\config1tf'"
   ]
  },
  {
   "cell_type": "code",
   "execution_count": 13,
   "id": "737459b1",
   "metadata": {},
   "outputs": [],
   "source": [
    "retriever = pt.BatchRetrieve(index_path,{\"vmodel\":\"BM25\",\"k1\":1.5,\"b\":0.75})"
   ]
  },
  {
   "cell_type": "code",
   "execution_count": 14,
   "id": "4c91cbe8",
   "metadata": {},
   "outputs": [],
   "source": [
    "def preprocess(txt):\n",
    "    txt = str(txt)\n",
    "    tokenizer = pt.autoclass(\"org.terrier.indexing.tokenisation.Tokeniser\").getTokeniser()\n",
    "    terms = tokenizer.getTokens(txt)\n",
    "    terms = \" \".join(terms)\n",
    "    return terms"
   ]
  },
  {
   "cell_type": "markdown",
   "id": "8fc79176",
   "metadata": {},
   "source": [
    "## Avaliação"
   ]
  },
  {
   "cell_type": "markdown",
   "id": "921ded60",
   "metadata": {},
   "source": [
    "### Recall"
   ]
  },
  {
   "cell_type": "code",
   "execution_count": 15,
   "id": "70e2be6f",
   "metadata": {},
   "outputs": [
    {
     "name": "stdout",
     "output_type": "stream",
     "text": [
      "Recall: 0.2745762711864407\n",
      "Duração: 21.896996\n"
     ]
    }
   ],
   "source": [
    "avaliacaoRecall(True,5)"
   ]
  },
  {
   "cell_type": "code",
   "execution_count": 17,
   "id": "b6d001f3",
   "metadata": {},
   "outputs": [
    {
     "name": "stdout",
     "output_type": "stream",
     "text": [
      "Recall: 0.31864406779661014\n",
      "Duração: 17.716002\n"
     ]
    }
   ],
   "source": [
    "avaliacaoRecall(True,10)"
   ]
  },
  {
   "cell_type": "code",
   "execution_count": 18,
   "id": "8aa3f885",
   "metadata": {},
   "outputs": [
    {
     "name": "stdout",
     "output_type": "stream",
     "text": [
      "Recall: 0.34915254237288135\n",
      "Duração: 17.916999\n"
     ]
    }
   ],
   "source": [
    "avaliacaoRecall(True,20)"
   ]
  },
  {
   "cell_type": "markdown",
   "id": "f67ca08c",
   "metadata": {},
   "source": [
    "### Precision"
   ]
  },
  {
   "cell_type": "code",
   "execution_count": 19,
   "id": "31b43266",
   "metadata": {},
   "outputs": [
    {
     "name": "stdout",
     "output_type": "stream",
     "text": [
      "Precision: 0.05491525423728805\n"
     ]
    }
   ],
   "source": [
    "avaliacaoPrecision(True,5)"
   ]
  },
  {
   "cell_type": "code",
   "execution_count": null,
   "id": "562029e6",
   "metadata": {},
   "outputs": [],
   "source": [
    "avaliacaoPrecision(True,10)"
   ]
  },
  {
   "cell_type": "code",
   "execution_count": null,
   "id": "7cf702b5",
   "metadata": {},
   "outputs": [],
   "source": [
    "avaliacaoPrecision(True,20)"
   ]
  },
  {
   "cell_type": "markdown",
   "id": "6cfd5112",
   "metadata": {},
   "source": [
    "### MAP"
   ]
  },
  {
   "cell_type": "code",
   "execution_count": null,
   "id": "2afcbb5f",
   "metadata": {},
   "outputs": [],
   "source": [
    "avaliacaoMAP(True,5)"
   ]
  },
  {
   "cell_type": "code",
   "execution_count": null,
   "id": "fb4e50ba",
   "metadata": {},
   "outputs": [],
   "source": [
    "avaliacaoMAP(True,10)"
   ]
  },
  {
   "cell_type": "code",
   "execution_count": null,
   "id": "adea3647",
   "metadata": {},
   "outputs": [],
   "source": [
    "avaliacaoMAP(True,20)"
   ]
  },
  {
   "cell_type": "markdown",
   "id": "43abc14b",
   "metadata": {},
   "source": [
    "### RR"
   ]
  },
  {
   "cell_type": "code",
   "execution_count": null,
   "id": "2e2fc781",
   "metadata": {},
   "outputs": [],
   "source": [
    "avaliacaoRR(True)"
   ]
  },
  {
   "cell_type": "markdown",
   "id": "bb90e5c4",
   "metadata": {},
   "source": [
    "# Config 5"
   ]
  },
  {
   "cell_type": "code",
   "execution_count": 12,
   "id": "ee1565cf",
   "metadata": {},
   "outputs": [],
   "source": [
    "index_path = 'E:\\Corpora_em_json\\experimentos_pyterrier\\config5tf'"
   ]
  },
  {
   "cell_type": "code",
   "execution_count": 13,
   "id": "59244c38",
   "metadata": {},
   "outputs": [],
   "source": [
    "retriever = pt.BatchRetrieve(index_path,{\"vmodel\":\"BM25\",\"k1\":1.5,\"b\":0.75})"
   ]
  },
  {
   "cell_type": "code",
   "execution_count": 14,
   "id": "874d57f7",
   "metadata": {},
   "outputs": [],
   "source": [
    "def _remove_acentos(txt):\n",
    "    return normalize('NFKD', txt).encode('ASCII', 'ignore').decode('ASCII')\n",
    "\n",
    "def preprocess(txt):\n",
    "    txt = str(txt)\n",
    "    txt = _remove_acentos(txt)\n",
    "    stopwords = nltk.corpus.stopwords.words(\"portuguese\")\n",
    "    stopwords.extend(list(punctuation))\n",
    "    tokenizer = RegexpTokenizer('\\w+')\n",
    "    terms = tokenizer.tokenize(txt.lower())\n",
    "    terms = [word for word in terms if word not in stopwords]\n",
    "    terms = \" \".join(terms)\n",
    "    return terms"
   ]
  },
  {
   "cell_type": "markdown",
   "id": "3d6138ca",
   "metadata": {},
   "source": [
    "## Avaliação"
   ]
  },
  {
   "cell_type": "markdown",
   "id": "c2dc91ec",
   "metadata": {},
   "source": [
    "### Recall"
   ]
  },
  {
   "cell_type": "code",
   "execution_count": 15,
   "id": "d7982104",
   "metadata": {},
   "outputs": [
    {
     "name": "stdout",
     "output_type": "stream",
     "text": [
      "Recall: 0.42033898305084744\n",
      "Duração: 11.111109\n"
     ]
    }
   ],
   "source": [
    "avaliacaoRecall(True,5)"
   ]
  },
  {
   "cell_type": "code",
   "execution_count": 16,
   "id": "4a3777c9",
   "metadata": {},
   "outputs": [
    {
     "name": "stdout",
     "output_type": "stream",
     "text": [
      "Recall: 0.4711864406779661\n",
      "Duração: 9.301639\n"
     ]
    }
   ],
   "source": [
    "avaliacaoRecall(True,10)"
   ]
  },
  {
   "cell_type": "code",
   "execution_count": 17,
   "id": "d618cbbb",
   "metadata": {},
   "outputs": [
    {
     "name": "stdout",
     "output_type": "stream",
     "text": [
      "Recall: 0.5525423728813559\n",
      "Duração: 9.494054\n"
     ]
    }
   ],
   "source": [
    "avaliacaoRecall(True,20)"
   ]
  },
  {
   "cell_type": "markdown",
   "id": "9b7e9b2f",
   "metadata": {},
   "source": [
    "### Precision"
   ]
  },
  {
   "cell_type": "code",
   "execution_count": null,
   "id": "58b56cf0",
   "metadata": {},
   "outputs": [],
   "source": [
    "avaliacaoPrecision(True,5)"
   ]
  },
  {
   "cell_type": "code",
   "execution_count": null,
   "id": "b34e8d12",
   "metadata": {},
   "outputs": [],
   "source": [
    "avaliacaoPrecision(True,10)"
   ]
  },
  {
   "cell_type": "code",
   "execution_count": null,
   "id": "ebdaba97",
   "metadata": {},
   "outputs": [],
   "source": [
    "avaliacaoPrecision(True,20)"
   ]
  },
  {
   "cell_type": "markdown",
   "id": "a99559fa",
   "metadata": {},
   "source": [
    "### MAP"
   ]
  },
  {
   "cell_type": "code",
   "execution_count": null,
   "id": "bda38007",
   "metadata": {},
   "outputs": [],
   "source": [
    "avaliacaoMAP(True,5)"
   ]
  },
  {
   "cell_type": "code",
   "execution_count": null,
   "id": "b222fbc2",
   "metadata": {},
   "outputs": [],
   "source": [
    "avaliacaoMAP(True,10)"
   ]
  },
  {
   "cell_type": "code",
   "execution_count": null,
   "id": "0ff073ea",
   "metadata": {},
   "outputs": [],
   "source": [
    "avaliacaoMAP(True,20)"
   ]
  },
  {
   "cell_type": "markdown",
   "id": "e54507d1",
   "metadata": {},
   "source": [
    "### RR"
   ]
  },
  {
   "cell_type": "code",
   "execution_count": null,
   "id": "e398a0e8",
   "metadata": {},
   "outputs": [],
   "source": [
    "avaliacaoRR(True)"
   ]
  },
  {
   "cell_type": "markdown",
   "id": "898e96d8",
   "metadata": {},
   "source": [
    "# Config 8"
   ]
  },
  {
   "cell_type": "code",
   "execution_count": 18,
   "id": "ebf0b756",
   "metadata": {},
   "outputs": [],
   "source": [
    "index_path = 'E:\\Corpora_em_json\\experimentos_pyterrier\\config8tf'"
   ]
  },
  {
   "cell_type": "code",
   "execution_count": 19,
   "id": "bf6a0576",
   "metadata": {},
   "outputs": [],
   "source": [
    "retriever = pt.BatchRetrieve(index_path,{\"vmodel\":\"BM25\",\"k1\":1.5,\"b\":0.75})"
   ]
  },
  {
   "cell_type": "code",
   "execution_count": 20,
   "id": "50d0f2bc",
   "metadata": {},
   "outputs": [],
   "source": [
    "def _remove_acentos(txt):\n",
    "    return normalize('NFKD', txt).encode('ASCII', 'ignore').decode('ASCII')\n",
    "\n",
    "def preprocess(txt):\n",
    "    txt = str(txt)\n",
    "    txt = _remove_acentos(txt)\n",
    "    stopwords = nltk.corpus.stopwords.words(\"portuguese\")\n",
    "    stopwords.extend(list(punctuation))\n",
    "\n",
    "    stemmer = RSLPStemmer()\n",
    "    tokenizer = RegexpTokenizer('\\w+')\n",
    "    terms = tokenizer.tokenize(txt.lower())\n",
    "    terms = [stemmer.stem(word) for word in terms if word not in stopwords]\n",
    "        \n",
    "    return \" \".join(terms)"
   ]
  },
  {
   "cell_type": "markdown",
   "id": "abb8857a",
   "metadata": {},
   "source": [
    "## Avaliação"
   ]
  },
  {
   "cell_type": "markdown",
   "id": "ff0b088f",
   "metadata": {},
   "source": [
    "### Recall"
   ]
  },
  {
   "cell_type": "code",
   "execution_count": 21,
   "id": "3bd997e1",
   "metadata": {},
   "outputs": [
    {
     "name": "stdout",
     "output_type": "stream",
     "text": [
      "Recall: 0.423728813559322\n",
      "Duração: 11.083789\n"
     ]
    }
   ],
   "source": [
    "avaliacaoRecall(True,5)"
   ]
  },
  {
   "cell_type": "code",
   "execution_count": 22,
   "id": "ef0f0d76",
   "metadata": {},
   "outputs": [
    {
     "name": "stdout",
     "output_type": "stream",
     "text": [
      "Recall: 0.5016949152542373\n",
      "Duração: 10.253793\n"
     ]
    }
   ],
   "source": [
    "avaliacaoRecall(True,10)"
   ]
  },
  {
   "cell_type": "code",
   "execution_count": 23,
   "id": "28f93ad5",
   "metadata": {},
   "outputs": [
    {
     "name": "stdout",
     "output_type": "stream",
     "text": [
      "Recall: 0.559322033898305\n",
      "Duração: 10.309007\n"
     ]
    }
   ],
   "source": [
    "avaliacaoRecall(True,20)"
   ]
  },
  {
   "cell_type": "markdown",
   "id": "f1dccf29",
   "metadata": {},
   "source": [
    "### Precision"
   ]
  },
  {
   "cell_type": "code",
   "execution_count": null,
   "id": "5b698019",
   "metadata": {},
   "outputs": [],
   "source": [
    "avaliacaoPrecision(True,5)"
   ]
  },
  {
   "cell_type": "code",
   "execution_count": null,
   "id": "b3857306",
   "metadata": {},
   "outputs": [],
   "source": [
    "avaliacaoPrecision(True,10)"
   ]
  },
  {
   "cell_type": "code",
   "execution_count": null,
   "id": "e64737ae",
   "metadata": {},
   "outputs": [],
   "source": [
    "avaliacaoPrecision(True,20)"
   ]
  },
  {
   "cell_type": "markdown",
   "id": "fa49d842",
   "metadata": {},
   "source": [
    "### MAP"
   ]
  },
  {
   "cell_type": "code",
   "execution_count": null,
   "id": "22fb071d",
   "metadata": {},
   "outputs": [],
   "source": [
    "avaliacaoMAP(True,5)"
   ]
  },
  {
   "cell_type": "code",
   "execution_count": null,
   "id": "4a75d70e",
   "metadata": {},
   "outputs": [],
   "source": [
    "avaliacaoMAP(True,10)"
   ]
  },
  {
   "cell_type": "code",
   "execution_count": null,
   "id": "91542125",
   "metadata": {},
   "outputs": [],
   "source": [
    "avaliacaoMAP(True,20)"
   ]
  },
  {
   "cell_type": "markdown",
   "id": "e67348f5",
   "metadata": {},
   "source": [
    "### RR"
   ]
  },
  {
   "cell_type": "code",
   "execution_count": null,
   "id": "4c16b12b",
   "metadata": {},
   "outputs": [],
   "source": [
    "avaliacaoRR(True)"
   ]
  },
  {
   "cell_type": "markdown",
   "id": "d56e11ca",
   "metadata": {},
   "source": [
    "# Config 9"
   ]
  },
  {
   "cell_type": "code",
   "execution_count": 24,
   "id": "a7b9acd2",
   "metadata": {},
   "outputs": [],
   "source": [
    "index_path = 'E:\\Corpora_em_json\\experimentos_pyterrier\\config9tf'"
   ]
  },
  {
   "cell_type": "code",
   "execution_count": 25,
   "id": "d6bcc1f6",
   "metadata": {},
   "outputs": [],
   "source": [
    "retriever = pt.BatchRetrieve(index_path,{\"vmodel\":\"BM25\",\"k1\":1.5,\"b\":0.75})"
   ]
  },
  {
   "cell_type": "code",
   "execution_count": 26,
   "id": "00362846",
   "metadata": {},
   "outputs": [],
   "source": [
    "def _remove_acentos(txt):\n",
    "    return normalize('NFKD', txt).encode('ASCII', 'ignore').decode('ASCII')\n",
    "\n",
    "def preprocess(txt):\n",
    "    txt = str(txt)\n",
    "    txt = _remove_acentos(txt)\n",
    "    stopwords = nltk.corpus.stopwords.words(\"portuguese\")\n",
    "    stopwords.extend(list(punctuation))\n",
    "\n",
    "    stemmer = Savoy()\n",
    "    tokenizer = RegexpTokenizer('\\w+')\n",
    "    terms = tokenizer.tokenize(txt.lower())\n",
    "    terms = [stemmer.stem(word) for word in terms if word not in stopwords]\n",
    "        \n",
    "    return \" \".join(terms)"
   ]
  },
  {
   "cell_type": "markdown",
   "id": "93384b56",
   "metadata": {},
   "source": [
    "## Avaliação"
   ]
  },
  {
   "cell_type": "markdown",
   "id": "cbb0606d",
   "metadata": {},
   "source": [
    "### Recall"
   ]
  },
  {
   "cell_type": "code",
   "execution_count": 27,
   "id": "8227f459",
   "metadata": {},
   "outputs": [
    {
     "name": "stdout",
     "output_type": "stream",
     "text": [
      "Recall: 0.41694915254237286\n",
      "Duração: 10.332131\n"
     ]
    }
   ],
   "source": [
    "avaliacaoRecall(True,5)"
   ]
  },
  {
   "cell_type": "code",
   "execution_count": 28,
   "id": "0048e674",
   "metadata": {},
   "outputs": [
    {
     "name": "stdout",
     "output_type": "stream",
     "text": [
      "Recall: 0.49491525423728816\n",
      "Duração: 9.385032\n"
     ]
    }
   ],
   "source": [
    "avaliacaoRecall(True,10)"
   ]
  },
  {
   "cell_type": "code",
   "execution_count": 29,
   "id": "1e076a49",
   "metadata": {},
   "outputs": [
    {
     "name": "stdout",
     "output_type": "stream",
     "text": [
      "Recall: 0.5728813559322034\n",
      "Duração: 9.422035\n"
     ]
    }
   ],
   "source": [
    "avaliacaoRecall(True,20)"
   ]
  },
  {
   "cell_type": "markdown",
   "id": "48dd93d7",
   "metadata": {},
   "source": [
    "### Precision"
   ]
  },
  {
   "cell_type": "code",
   "execution_count": null,
   "id": "4c0e09a7",
   "metadata": {},
   "outputs": [],
   "source": [
    "avaliacaoPrecision(True,5)"
   ]
  },
  {
   "cell_type": "code",
   "execution_count": null,
   "id": "fb76bb57",
   "metadata": {},
   "outputs": [],
   "source": [
    "avaliacaoPrecision(True,10)"
   ]
  },
  {
   "cell_type": "code",
   "execution_count": null,
   "id": "01cd4d91",
   "metadata": {},
   "outputs": [],
   "source": [
    "avaliacaoPrecision(True,20)"
   ]
  },
  {
   "cell_type": "markdown",
   "id": "2abfdf5e",
   "metadata": {},
   "source": [
    "### MAP"
   ]
  },
  {
   "cell_type": "code",
   "execution_count": null,
   "id": "36382e3f",
   "metadata": {},
   "outputs": [],
   "source": [
    "avaliacaoMAP(True,5)"
   ]
  },
  {
   "cell_type": "code",
   "execution_count": null,
   "id": "f0adae69",
   "metadata": {},
   "outputs": [],
   "source": [
    "avaliacaoMAP(True,10)"
   ]
  },
  {
   "cell_type": "code",
   "execution_count": null,
   "id": "d646c9de",
   "metadata": {},
   "outputs": [],
   "source": [
    "avaliacaoMAP(True,20)"
   ]
  },
  {
   "cell_type": "markdown",
   "id": "3c170763",
   "metadata": {},
   "source": [
    "### RR"
   ]
  },
  {
   "cell_type": "code",
   "execution_count": null,
   "id": "f75d9792",
   "metadata": {},
   "outputs": [],
   "source": [
    "avaliacaoRR(True)"
   ]
  },
  {
   "cell_type": "markdown",
   "id": "497b4270",
   "metadata": {},
   "source": [
    "# Config 18"
   ]
  },
  {
   "cell_type": "code",
   "execution_count": 30,
   "id": "8ed92c4e",
   "metadata": {},
   "outputs": [],
   "source": [
    "index_path = 'E:\\Corpora_em_json\\experimentos_pyterrier\\config18tf'"
   ]
  },
  {
   "cell_type": "code",
   "execution_count": 31,
   "id": "7228c662",
   "metadata": {},
   "outputs": [],
   "source": [
    "retriever = pt.BatchRetrieve(index_path,{\"vmodel\":\"BM25\",\"k1\":1.5,\"b\":0.75})"
   ]
  },
  {
   "cell_type": "code",
   "execution_count": 32,
   "id": "3715ba1f",
   "metadata": {},
   "outputs": [],
   "source": [
    "def _remove_acentos(txt):\n",
    "    return normalize('NFKD', txt).encode('ASCII', 'ignore').decode('ASCII')\n",
    "\n",
    "def preprocess(txt):\n",
    "    txt = str(txt)\n",
    "    txt = _remove_acentos(txt)\n",
    "    stopwords = nltk.corpus.stopwords.words(\"portuguese\")\n",
    "    stopwords.extend(list(punctuation))\n",
    "\n",
    "    stemmer = RSLPStemmer()\n",
    "    tokenizer = RegexpTokenizer('\\w+')\n",
    "    terms = tokenizer.tokenize(txt.lower())\n",
    "    terms = [stemmer.stem(word) for word in terms if word not in stopwords]\n",
    "    \n",
    "    ngram = []\n",
    "    ngram_1 = list(ngrams(terms, 1))\n",
    "    ngram_2 = list(ngrams(terms, 2))\n",
    "    for w in ngram_1:\n",
    "        ngram.append(w[0])\n",
    "        \n",
    "    for w in ngram_2:\n",
    "        string = w[0] + \"_\" + w[1]\n",
    "        ngram.append(string)\n",
    "    \n",
    "    return \" \".join(ngram)"
   ]
  },
  {
   "cell_type": "markdown",
   "id": "8500d08a",
   "metadata": {},
   "source": [
    "## Avaliação"
   ]
  },
  {
   "cell_type": "markdown",
   "id": "dd87ff37",
   "metadata": {},
   "source": [
    "### Recall"
   ]
  },
  {
   "cell_type": "code",
   "execution_count": 33,
   "id": "8d58e897",
   "metadata": {},
   "outputs": [
    {
     "name": "stdout",
     "output_type": "stream",
     "text": [
      "Recall: 0.43050847457627117\n",
      "Duração: 11.617296\n"
     ]
    }
   ],
   "source": [
    "avaliacaoRecall(True,5)"
   ]
  },
  {
   "cell_type": "code",
   "execution_count": 34,
   "id": "20f55211",
   "metadata": {},
   "outputs": [
    {
     "name": "stdout",
     "output_type": "stream",
     "text": [
      "Recall: 0.4915254237288136\n",
      "Duração: 10.988003\n"
     ]
    }
   ],
   "source": [
    "avaliacaoRecall(True,10)"
   ]
  },
  {
   "cell_type": "code",
   "execution_count": 35,
   "id": "435cb0ff",
   "metadata": {},
   "outputs": [
    {
     "name": "stdout",
     "output_type": "stream",
     "text": [
      "Recall: 0.5525423728813559\n",
      "Duração: 10.773032\n"
     ]
    }
   ],
   "source": [
    "avaliacaoRecall(True,20)"
   ]
  },
  {
   "cell_type": "markdown",
   "id": "db74dc09",
   "metadata": {},
   "source": [
    "### Precision"
   ]
  },
  {
   "cell_type": "code",
   "execution_count": null,
   "id": "6d3bd1a7",
   "metadata": {},
   "outputs": [],
   "source": [
    "avaliacaoPrecision(True,5)"
   ]
  },
  {
   "cell_type": "code",
   "execution_count": null,
   "id": "573435fe",
   "metadata": {},
   "outputs": [],
   "source": [
    "avaliacaoPrecision(True,10)"
   ]
  },
  {
   "cell_type": "code",
   "execution_count": null,
   "id": "0bfd48cb",
   "metadata": {},
   "outputs": [],
   "source": [
    "avaliacaoPrecision(True,20)"
   ]
  },
  {
   "cell_type": "markdown",
   "id": "c712cd1b",
   "metadata": {},
   "source": [
    "### MAP"
   ]
  },
  {
   "cell_type": "code",
   "execution_count": null,
   "id": "c54b5799",
   "metadata": {},
   "outputs": [],
   "source": [
    "avaliacaoMAP(True,5)"
   ]
  },
  {
   "cell_type": "code",
   "execution_count": null,
   "id": "d94f9565",
   "metadata": {},
   "outputs": [],
   "source": [
    "avaliacaoMAP(True,10)"
   ]
  },
  {
   "cell_type": "code",
   "execution_count": null,
   "id": "d3df28c9",
   "metadata": {},
   "outputs": [],
   "source": [
    "avaliacaoMAP(True,20)"
   ]
  },
  {
   "cell_type": "markdown",
   "id": "9ceb2171",
   "metadata": {},
   "source": [
    "### RR"
   ]
  },
  {
   "cell_type": "code",
   "execution_count": null,
   "id": "0a0048f5",
   "metadata": {},
   "outputs": [],
   "source": [
    "avaliacaoRR(True)"
   ]
  },
  {
   "cell_type": "markdown",
   "id": "ee1d0806",
   "metadata": {},
   "source": [
    "# Config 21"
   ]
  },
  {
   "cell_type": "code",
   "execution_count": 36,
   "id": "a25de301",
   "metadata": {},
   "outputs": [],
   "source": [
    "index_path = 'E:\\Corpora_em_json\\experimentos_pyterrier\\config21tf'"
   ]
  },
  {
   "cell_type": "code",
   "execution_count": 37,
   "id": "72f02f9f",
   "metadata": {},
   "outputs": [],
   "source": [
    "retriever = pt.BatchRetrieve(index_path,{\"vmodel\":\"BM25\",\"k1\":1.5,\"b\":0.75})"
   ]
  },
  {
   "cell_type": "code",
   "execution_count": 38,
   "id": "f2cdb275",
   "metadata": {},
   "outputs": [],
   "source": [
    "def _remove_acentos(txt):\n",
    "    return normalize('NFKD', txt).encode('ASCII', 'ignore').decode('ASCII')\n",
    "\n",
    "def preprocess(txt):\n",
    "    txt = str(txt)\n",
    "    txt = _remove_acentos(txt)\n",
    "    stopwords = nltk.corpus.stopwords.words(\"portuguese\")\n",
    "    stopwords.extend(list(punctuation))\n",
    "\n",
    "    stemmer = Savoy()\n",
    "    tokenizer = RegexpTokenizer('\\w+')\n",
    "    terms = tokenizer.tokenize(txt.lower())\n",
    "    terms = [stemmer.stem(word) for word in terms if word not in stopwords]\n",
    "    \n",
    "    ngram = []\n",
    "    ngram_1 = list(ngrams(terms, 1))\n",
    "    ngram_2 = list(ngrams(terms, 2))\n",
    "    for w in ngram_1:\n",
    "        ngram.append(w[0])\n",
    "        \n",
    "    for w in ngram_2:\n",
    "        string = w[0] + \"_\" + w[1]\n",
    "        ngram.append(string)\n",
    "    \n",
    "    return \" \".join(ngram)"
   ]
  },
  {
   "cell_type": "markdown",
   "id": "ea817aaf",
   "metadata": {},
   "source": [
    "## Avaliação"
   ]
  },
  {
   "cell_type": "markdown",
   "id": "39c91072",
   "metadata": {},
   "source": [
    "### Recall"
   ]
  },
  {
   "cell_type": "code",
   "execution_count": 39,
   "id": "c3afaaf7",
   "metadata": {},
   "outputs": [
    {
     "name": "stdout",
     "output_type": "stream",
     "text": [
      "Recall: 0.41694915254237286\n",
      "Duração: 11.157163\n"
     ]
    }
   ],
   "source": [
    "avaliacaoRecall(True,5)"
   ]
  },
  {
   "cell_type": "code",
   "execution_count": 40,
   "id": "6a7faf31",
   "metadata": {},
   "outputs": [
    {
     "name": "stdout",
     "output_type": "stream",
     "text": [
      "Recall: 0.4915254237288136\n",
      "Duração: 10.088034\n"
     ]
    }
   ],
   "source": [
    "avaliacaoRecall(True,10)"
   ]
  },
  {
   "cell_type": "code",
   "execution_count": 41,
   "id": "8f339252",
   "metadata": {},
   "outputs": [
    {
     "name": "stdout",
     "output_type": "stream",
     "text": [
      "Recall: 0.5423728813559322\n",
      "Duração: 10.385035\n"
     ]
    }
   ],
   "source": [
    "avaliacaoRecall(True,20)"
   ]
  },
  {
   "cell_type": "markdown",
   "id": "b2e336ff",
   "metadata": {},
   "source": [
    "### Precision"
   ]
  },
  {
   "cell_type": "code",
   "execution_count": null,
   "id": "f8ed0ef6",
   "metadata": {},
   "outputs": [],
   "source": [
    "avaliacaoPrecision(True,5)"
   ]
  },
  {
   "cell_type": "code",
   "execution_count": null,
   "id": "5eb2f5a3",
   "metadata": {},
   "outputs": [],
   "source": [
    "avaliacaoPrecision(True,10)"
   ]
  },
  {
   "cell_type": "code",
   "execution_count": null,
   "id": "165e0de9",
   "metadata": {},
   "outputs": [],
   "source": [
    "avaliacaoPrecision(True,20)"
   ]
  },
  {
   "cell_type": "markdown",
   "id": "12f3ae8c",
   "metadata": {},
   "source": [
    "### MAP"
   ]
  },
  {
   "cell_type": "code",
   "execution_count": null,
   "id": "4995fb07",
   "metadata": {},
   "outputs": [],
   "source": [
    "avaliacaoMAP(True,5)"
   ]
  },
  {
   "cell_type": "code",
   "execution_count": null,
   "id": "9f9efeec",
   "metadata": {},
   "outputs": [],
   "source": [
    "avaliacaoMAP(True,10)"
   ]
  },
  {
   "cell_type": "code",
   "execution_count": null,
   "id": "3a237861",
   "metadata": {},
   "outputs": [],
   "source": [
    "avaliacaoMAP(True,20)"
   ]
  },
  {
   "cell_type": "markdown",
   "id": "6e874606",
   "metadata": {},
   "source": [
    "### RR"
   ]
  },
  {
   "cell_type": "code",
   "execution_count": null,
   "id": "6c9c3327",
   "metadata": {},
   "outputs": [],
   "source": [
    "avaliacaoRR(True)"
   ]
  },
  {
   "cell_type": "markdown",
   "id": "731a7570",
   "metadata": {},
   "source": [
    "# Config 22"
   ]
  },
  {
   "cell_type": "code",
   "execution_count": 42,
   "id": "0b0dbeb1",
   "metadata": {},
   "outputs": [],
   "source": [
    "index_path = 'E:\\Corpora_em_json\\experimentos_pyterrier\\config22tf'"
   ]
  },
  {
   "cell_type": "code",
   "execution_count": 43,
   "id": "1bd2d036",
   "metadata": {},
   "outputs": [],
   "source": [
    "retriever = pt.BatchRetrieve(index_path,{\"vmodel\":\"BM25\",\"k1\":1.5,\"b\":0.75})"
   ]
  },
  {
   "cell_type": "code",
   "execution_count": 44,
   "id": "d1f2fcd7",
   "metadata": {},
   "outputs": [],
   "source": [
    "def _remove_acentos(txt):\n",
    "    return normalize('NFKD', txt).encode('ASCII', 'ignore').decode('ASCII')\n",
    "\n",
    "def preprocess(txt):\n",
    "    txt = str(txt)\n",
    "    txt = _remove_acentos(txt)\n",
    "    stopwords = nltk.corpus.stopwords.words(\"portuguese\")\n",
    "    stopwords.extend(list(punctuation))\n",
    "\n",
    "    stemmer = RSLP_S()\n",
    "    tokenizer = RegexpTokenizer('\\w+')\n",
    "    terms = tokenizer.tokenize(txt.lower())\n",
    "    terms = [stemmer.stem(word) for word in terms if word not in stopwords]\n",
    "    \n",
    "    return \" \".join(terms)"
   ]
  },
  {
   "cell_type": "markdown",
   "id": "914fcc6a",
   "metadata": {},
   "source": [
    "## Avaliação"
   ]
  },
  {
   "cell_type": "markdown",
   "id": "c0bd7b50",
   "metadata": {},
   "source": [
    "### Recall"
   ]
  },
  {
   "cell_type": "code",
   "execution_count": 45,
   "id": "04b7dec5",
   "metadata": {},
   "outputs": [
    {
     "name": "stdout",
     "output_type": "stream",
     "text": [
      "Recall: 0.4135593220338983\n",
      "Duração: 10.487815\n"
     ]
    }
   ],
   "source": [
    "avaliacaoRecall(True,5)"
   ]
  },
  {
   "cell_type": "code",
   "execution_count": 46,
   "id": "633d6f7f",
   "metadata": {},
   "outputs": [
    {
     "name": "stdout",
     "output_type": "stream",
     "text": [
      "Recall: 0.488135593220339\n",
      "Duração: 10.053003\n"
     ]
    }
   ],
   "source": [
    "avaliacaoRecall(True,10)"
   ]
  },
  {
   "cell_type": "code",
   "execution_count": 47,
   "id": "bb623e24",
   "metadata": {},
   "outputs": [
    {
     "name": "stdout",
     "output_type": "stream",
     "text": [
      "Recall: 0.5559322033898305\n",
      "Duração: 9.935018\n"
     ]
    }
   ],
   "source": [
    "avaliacaoRecall(True,20)"
   ]
  },
  {
   "cell_type": "markdown",
   "id": "e4c57ad8",
   "metadata": {},
   "source": [
    "### Precision"
   ]
  },
  {
   "cell_type": "code",
   "execution_count": null,
   "id": "d7ea5fc2",
   "metadata": {},
   "outputs": [],
   "source": [
    "avaliacaoPrecision(True,5)"
   ]
  },
  {
   "cell_type": "code",
   "execution_count": null,
   "id": "3a877eb5",
   "metadata": {},
   "outputs": [],
   "source": [
    "avaliacaoPrecision(True,10)"
   ]
  },
  {
   "cell_type": "code",
   "execution_count": null,
   "id": "a49fa15a",
   "metadata": {},
   "outputs": [],
   "source": [
    "avaliacaoPrecision(True,20)"
   ]
  },
  {
   "cell_type": "markdown",
   "id": "5238493b",
   "metadata": {},
   "source": [
    "### MAP"
   ]
  },
  {
   "cell_type": "code",
   "execution_count": null,
   "id": "ea7d4c43",
   "metadata": {},
   "outputs": [],
   "source": [
    "avaliacaoMAP(True,5)"
   ]
  },
  {
   "cell_type": "code",
   "execution_count": null,
   "id": "a2da6f25",
   "metadata": {},
   "outputs": [],
   "source": [
    "avaliacaoMAP(True,10)"
   ]
  },
  {
   "cell_type": "code",
   "execution_count": null,
   "id": "0984c0be",
   "metadata": {},
   "outputs": [],
   "source": [
    "avaliacaoMAP(True,20)"
   ]
  },
  {
   "cell_type": "markdown",
   "id": "626b117c",
   "metadata": {},
   "source": [
    "### RR"
   ]
  },
  {
   "cell_type": "code",
   "execution_count": null,
   "id": "5f5f86a9",
   "metadata": {},
   "outputs": [],
   "source": [
    "avaliacaoRR(True)"
   ]
  },
  {
   "cell_type": "markdown",
   "id": "35ec41ce",
   "metadata": {},
   "source": [
    "# Config 23"
   ]
  },
  {
   "cell_type": "code",
   "execution_count": 48,
   "id": "b874bfb9",
   "metadata": {},
   "outputs": [],
   "source": [
    "index_path = 'E:\\Corpora_em_json\\experimentos_pyterrier\\config23tf'"
   ]
  },
  {
   "cell_type": "code",
   "execution_count": 49,
   "id": "ef21d44e",
   "metadata": {},
   "outputs": [],
   "source": [
    "retriever = pt.BatchRetrieve(index_path,{\"vmodel\":\"BM25\",\"k1\":1.5,\"b\":0.75})"
   ]
  },
  {
   "cell_type": "code",
   "execution_count": 50,
   "id": "7fb7ee40",
   "metadata": {},
   "outputs": [],
   "source": [
    "def _remove_acentos(txt):\n",
    "    return normalize('NFKD', txt).encode('ASCII', 'ignore').decode('ASCII')\n",
    "\n",
    "def preprocess(txt):\n",
    "    txt = str(txt)\n",
    "    txt = _remove_acentos(txt)\n",
    "    stopwords = nltk.corpus.stopwords.words(\"portuguese\")\n",
    "    stopwords.extend(list(punctuation))\n",
    "\n",
    "    stemmer = RSLP_S()\n",
    "    tokenizer = RegexpTokenizer('\\w+')\n",
    "    terms = tokenizer.tokenize(txt.lower())\n",
    "    terms = [stemmer.stem(word) for word in terms if word not in stopwords]\n",
    "    \n",
    "    ngram = []\n",
    "    ngram_1 = list(ngrams(terms, 1))\n",
    "    ngram_2 = list(ngrams(terms, 2))\n",
    "    for w in ngram_1:\n",
    "        ngram.append(w[0])\n",
    "        \n",
    "    for w in ngram_2:\n",
    "        string = w[0] + \"_\" + w[1]\n",
    "        ngram.append(string)\n",
    "    \n",
    "    return \" \".join(ngram)"
   ]
  },
  {
   "cell_type": "markdown",
   "id": "d0e026ac",
   "metadata": {},
   "source": [
    "## Avaliação"
   ]
  },
  {
   "cell_type": "markdown",
   "id": "f3a46aa1",
   "metadata": {},
   "source": [
    "### Recall"
   ]
  },
  {
   "cell_type": "code",
   "execution_count": 51,
   "id": "6c2ecaa9",
   "metadata": {},
   "outputs": [
    {
     "name": "stdout",
     "output_type": "stream",
     "text": [
      "Recall: 0.4135593220338983\n",
      "Duração: 10.852097\n"
     ]
    }
   ],
   "source": [
    "avaliacaoRecall(True,5)"
   ]
  },
  {
   "cell_type": "code",
   "execution_count": 52,
   "id": "5c5b28a6",
   "metadata": {},
   "outputs": [
    {
     "name": "stdout",
     "output_type": "stream",
     "text": [
      "Recall: 0.488135593220339\n",
      "Duração: 9.945692\n"
     ]
    }
   ],
   "source": [
    "avaliacaoRecall(True,10)"
   ]
  },
  {
   "cell_type": "code",
   "execution_count": 53,
   "id": "7a4f19a8",
   "metadata": {},
   "outputs": [
    {
     "name": "stdout",
     "output_type": "stream",
     "text": [
      "Recall: 0.5559322033898305\n",
      "Duração: 10.470030\n"
     ]
    }
   ],
   "source": [
    "avaliacaoRecall(True,20)"
   ]
  },
  {
   "cell_type": "markdown",
   "id": "33a09f95",
   "metadata": {},
   "source": [
    "### Precision"
   ]
  },
  {
   "cell_type": "code",
   "execution_count": null,
   "id": "6e54efce",
   "metadata": {},
   "outputs": [],
   "source": [
    "avaliacaoPrecision(True,5)"
   ]
  },
  {
   "cell_type": "code",
   "execution_count": null,
   "id": "d6d3f270",
   "metadata": {},
   "outputs": [],
   "source": [
    "avaliacaoPrecision(True,10)"
   ]
  },
  {
   "cell_type": "code",
   "execution_count": null,
   "id": "1c15e12f",
   "metadata": {},
   "outputs": [],
   "source": [
    "avaliacaoPrecision(True,20)"
   ]
  },
  {
   "cell_type": "markdown",
   "id": "f18868ef",
   "metadata": {},
   "source": [
    "### MAP"
   ]
  },
  {
   "cell_type": "code",
   "execution_count": null,
   "id": "3ee19f24",
   "metadata": {},
   "outputs": [],
   "source": [
    "avaliacaoMAP(True,5)"
   ]
  },
  {
   "cell_type": "code",
   "execution_count": null,
   "id": "f1fd172a",
   "metadata": {},
   "outputs": [],
   "source": [
    "avaliacaoMAP(True,10)"
   ]
  },
  {
   "cell_type": "code",
   "execution_count": null,
   "id": "2f293836",
   "metadata": {},
   "outputs": [],
   "source": [
    "avaliacaoMAP(True,20)"
   ]
  },
  {
   "cell_type": "markdown",
   "id": "eda243f6",
   "metadata": {},
   "source": [
    "### RR"
   ]
  },
  {
   "cell_type": "code",
   "execution_count": null,
   "id": "357cd4c7",
   "metadata": {},
   "outputs": [],
   "source": [
    "avaliacaoRR(True)"
   ]
  }
 ],
 "metadata": {
  "kernelspec": {
   "display_name": "Python 3 (ipykernel)",
   "language": "python",
   "name": "python3"
  },
  "language_info": {
   "codemirror_mode": {
    "name": "ipython",
    "version": 3
   },
   "file_extension": ".py",
   "mimetype": "text/x-python",
   "name": "python",
   "nbconvert_exporter": "python",
   "pygments_lexer": "ipython3",
   "version": "3.8.7"
  }
 },
 "nbformat": 4,
 "nbformat_minor": 5
}
