{
 "cells": [
  {
   "cell_type": "code",
   "execution_count": 1,
   "id": "2db56fcf",
   "metadata": {},
   "outputs": [
    {
     "name": "stderr",
     "output_type": "stream",
     "text": [
      "[nltk_data] Downloading package stopwords to\n",
      "[nltk_data]     C:\\Users\\Flavio\\AppData\\Roaming\\nltk_data...\n",
      "[nltk_data]   Package stopwords is already up-to-date!\n",
      "[nltk_data] Downloading package punkt to\n",
      "[nltk_data]     C:\\Users\\Flavio\\AppData\\Roaming\\nltk_data...\n",
      "[nltk_data]   Package punkt is already up-to-date!\n",
      "[nltk_data] Downloading package rslp to\n",
      "[nltk_data]     C:\\Users\\Flavio\\AppData\\Roaming\\nltk_data...\n",
      "[nltk_data]   Package rslp is already up-to-date!\n"
     ]
    }
   ],
   "source": [
    "import pandas as pd\n",
    "import numpy as np\n",
    "import nltk\n",
    "import math\n",
    "from joblib import Parallel, delayed\n",
    "\n",
    "nltk.download('stopwords')\n",
    "nltk.download('punkt')\n",
    "nltk.download('rslp')\n",
    "\n",
    "from nltk.tokenize import word_tokenize\n",
    "from string import punctuation\n",
    "import nltk\n",
    "from unicodedata import normalize\n",
    "from nltk.stem import RSLPStemmer\n",
    "from nltk.util import ngrams\n",
    "from nltk.tokenize import RegexpTokenizer\n",
    "from sklearn.model_selection import train_test_split\n",
    "\n",
    "from joblib import Parallel, delayed\n",
    "import time\n"
   ]
  },
  {
   "cell_type": "code",
   "execution_count": 2,
   "id": "86a35a17",
   "metadata": {},
   "outputs": [],
   "source": [
    "# df_assunto= pd.read_csv(\"data/dados-conle-anonimizado-assunto-notnull.csv\", encoding='utf-8')\n",
    "df_assunto= pd.read_table(\"dados-conle-anonimizado-assunto-notnull - dados-conle-anonimizado-assunto-notnull.tsv\",sep=\";\")\n"
   ]
  },
  {
   "cell_type": "code",
   "execution_count": 3,
   "id": "464ba37b",
   "metadata": {},
   "outputs": [
    {
     "data": {
      "text/plain": [
       "Index(['NÚMERO-PROPOSIÇÃOSILEG', 'TxtAssunto\\t\\t\\t\\t\\t\\t\\t\\t\\t\\t\\t\\t\\t\\t\\t\\t\\t\\t\\t\\t\\t\\t\\t\\t\\t\\t\\t\\t\\t\\t\\t\\t\\t\\t\\t\\t\\t\\t\\t\\t\\t\\t\\t\\t\\t\\t'], dtype='object')"
      ]
     },
     "execution_count": 3,
     "metadata": {},
     "output_type": "execute_result"
    }
   ],
   "source": [
    "df_assunto.columns"
   ]
  },
  {
   "cell_type": "code",
   "execution_count": 4,
   "id": "8edc0d3d",
   "metadata": {},
   "outputs": [],
   "source": [
    "base = pd.read_csv(\"base_20230428_douglas.csv\", sep=',')\n",
    "# base = pd.read_csv(\"data/proposicao-tema-completo-sem-duplicado-2019-all-fields.csv\", sep=\",\")"
   ]
  },
  {
   "cell_type": "code",
   "execution_count": 5,
   "id": "afd56972",
   "metadata": {},
   "outputs": [
    {
     "data": {
      "text/html": [
       "<div>\n",
       "<style scoped>\n",
       "    .dataframe tbody tr th:only-of-type {\n",
       "        vertical-align: middle;\n",
       "    }\n",
       "\n",
       "    .dataframe tbody tr th {\n",
       "        vertical-align: top;\n",
       "    }\n",
       "\n",
       "    .dataframe thead th {\n",
       "        text-align: right;\n",
       "    }\n",
       "</style>\n",
       "<table border=\"1\" class=\"dataframe\">\n",
       "  <thead>\n",
       "    <tr style=\"text-align: right;\">\n",
       "      <th></th>\n",
       "      <th>codProposicao</th>\n",
       "      <th>txtSiglaTipo</th>\n",
       "      <th>numAno</th>\n",
       "      <th>numNumero</th>\n",
       "      <th>txtNome</th>\n",
       "      <th>txtEmenta</th>\n",
       "      <th>txtExplicacaoEmenta</th>\n",
       "      <th>txtIndexacao</th>\n",
       "      <th>txtInteiroTeor</th>\n",
       "    </tr>\n",
       "  </thead>\n",
       "  <tbody>\n",
       "    <tr>\n",
       "      <th>0</th>\n",
       "      <td>16357</td>\n",
       "      <td>PL</td>\n",
       "      <td>1999</td>\n",
       "      <td>1165</td>\n",
       "      <td>PL 1165/1999</td>\n",
       "      <td>Altera dispositivo da Lei nº 8.987, de 13 de f...</td>\n",
       "      <td>Estabelece que as concessionárias disponibiliz...</td>\n",
       "      <td>Alteração, Lei das Concessões de Serviços Públ...</td>\n",
       "      <td>Ofício nº 1416  (SF)                          ...</td>\n",
       "    </tr>\n",
       "    <tr>\n",
       "      <th>1</th>\n",
       "      <td>19098</td>\n",
       "      <td>PL</td>\n",
       "      <td>1992</td>\n",
       "      <td>3097</td>\n",
       "      <td>PL 3097/1992</td>\n",
       "      <td>Dispõe sobre a eleição de diretores de fundos ...</td>\n",
       "      <td>NaN</td>\n",
       "      <td>NORMAS, ELEIÇÃO DIRETA, EMPREGADO, APOSENTADO,...</td>\n",
       "      <td>COMISSÃO DE CONSTITUIÇÃO E JUSTIÇA E DE REDAÇÃ...</td>\n",
       "    </tr>\n",
       "    <tr>\n",
       "      <th>2</th>\n",
       "      <td>20464</td>\n",
       "      <td>PL</td>\n",
       "      <td>2000</td>\n",
       "      <td>3927</td>\n",
       "      <td>PL 3927/2000</td>\n",
       "      <td>Altera a composição dos Tribunais Regionais do...</td>\n",
       "      <td>Altera a composição do TRT da 5ª região, 6ª re...</td>\n",
       "      <td>Alteração, Lei Federal, composição, Tribunal R...</td>\n",
       "      <td>COMISSÃO DE TRABALHO, DE ADMINISTRAÇÃO E SERVI...</td>\n",
       "    </tr>\n",
       "    <tr>\n",
       "      <th>3</th>\n",
       "      <td>20683</td>\n",
       "      <td>PL</td>\n",
       "      <td>1998</td>\n",
       "      <td>4117</td>\n",
       "      <td>PL 4117/1998</td>\n",
       "      <td>Dispõe sobre o acesso a ambientes de uso colet...</td>\n",
       "      <td>NaN</td>\n",
       "      <td>Autorização, pessoa portadora de deficiência, ...</td>\n",
       "      <td>Câmara dos Deputados\\n           Departamento ...</td>\n",
       "    </tr>\n",
       "    <tr>\n",
       "      <th>4</th>\n",
       "      <td>20857</td>\n",
       "      <td>PL</td>\n",
       "      <td>1998</td>\n",
       "      <td>4395</td>\n",
       "      <td>PL 4395/1998</td>\n",
       "      <td>Estabelece as Diretrizes Nacionais de Defesa C...</td>\n",
       "      <td>NaN</td>\n",
       "      <td>Fixação, diretrizes, defesa civil, (Sindec), d...</td>\n",
       "      <td>- 1 - \\nCOMISSÃO DE CONSTITUIÇÃO E JUSTIÇA E D...</td>\n",
       "    </tr>\n",
       "    <tr>\n",
       "      <th>...</th>\n",
       "      <td>...</td>\n",
       "      <td>...</td>\n",
       "      <td>...</td>\n",
       "      <td>...</td>\n",
       "      <td>...</td>\n",
       "      <td>...</td>\n",
       "      <td>...</td>\n",
       "      <td>...</td>\n",
       "      <td>...</td>\n",
       "    </tr>\n",
       "    <tr>\n",
       "      <th>57104</th>\n",
       "      <td>2358873</td>\n",
       "      <td>PL</td>\n",
       "      <td>2023</td>\n",
       "      <td>2233</td>\n",
       "      <td>PL 2233/2023</td>\n",
       "      <td>Altera o parágrafo único do art. 71 do Código ...</td>\n",
       "      <td>NaN</td>\n",
       "      <td>NaN</td>\n",
       "      <td>1 \\n  \\n \\n \\n \\nCÂMARA DOS DEPUTADOS \\nPROJET...</td>\n",
       "    </tr>\n",
       "    <tr>\n",
       "      <th>57105</th>\n",
       "      <td>2358874</td>\n",
       "      <td>PL</td>\n",
       "      <td>2019</td>\n",
       "      <td>3616</td>\n",
       "      <td>PL 3616/2019</td>\n",
       "      <td>Altera a Lei nº 9.503, de 23 de setembro de 19...</td>\n",
       "      <td>NaN</td>\n",
       "      <td>NaN</td>\n",
       "      <td>Altera a Lei nº 9.503, de 23 de setembro\\nde 1...</td>\n",
       "    </tr>\n",
       "    <tr>\n",
       "      <th>57106</th>\n",
       "      <td>2358875</td>\n",
       "      <td>PL</td>\n",
       "      <td>2019</td>\n",
       "      <td>1822</td>\n",
       "      <td>PL 1822/2019</td>\n",
       "      <td>Altera a Lei nº 11.340, de 7 de agosto de 2006...</td>\n",
       "      <td>NaN</td>\n",
       "      <td>NaN</td>\n",
       "      <td>Altera a Lei nº 11.340, de 7 de agosto de\\n200...</td>\n",
       "    </tr>\n",
       "    <tr>\n",
       "      <th>57107</th>\n",
       "      <td>2358877</td>\n",
       "      <td>PL</td>\n",
       "      <td>2019</td>\n",
       "      <td>3815</td>\n",
       "      <td>PL 3815/2019</td>\n",
       "      <td>Altera a Lei nº 7.565, de 19 de dezembro de 19...</td>\n",
       "      <td>NaN</td>\n",
       "      <td>NaN</td>\n",
       "      <td>Altera a Lei nº 7.565, de 19 de dezembro\\nde  ...</td>\n",
       "    </tr>\n",
       "    <tr>\n",
       "      <th>57108</th>\n",
       "      <td>2358878</td>\n",
       "      <td>PL</td>\n",
       "      <td>2019</td>\n",
       "      <td>3130</td>\n",
       "      <td>PL 3130/2019</td>\n",
       "      <td>Altera a Lei nº 13.675, de 11 de junho de 2018...</td>\n",
       "      <td>NaN</td>\n",
       "      <td>NaN</td>\n",
       "      <td>Altera a Lei nº 13.675, de 11 de junho de\\n201...</td>\n",
       "    </tr>\n",
       "  </tbody>\n",
       "</table>\n",
       "<p>57109 rows × 9 columns</p>\n",
       "</div>"
      ],
      "text/plain": [
       "       codProposicao txtSiglaTipo  numAno  numNumero       txtNome  \\\n",
       "0              16357   PL            1999       1165  PL 1165/1999   \n",
       "1              19098   PL            1992       3097  PL 3097/1992   \n",
       "2              20464   PL            2000       3927  PL 3927/2000   \n",
       "3              20683   PL            1998       4117  PL 4117/1998   \n",
       "4              20857   PL            1998       4395  PL 4395/1998   \n",
       "...              ...          ...     ...        ...           ...   \n",
       "57104        2358873   PL            2023       2233  PL 2233/2023   \n",
       "57105        2358874   PL            2019       3616  PL 3616/2019   \n",
       "57106        2358875   PL            2019       1822  PL 1822/2019   \n",
       "57107        2358877   PL            2019       3815  PL 3815/2019   \n",
       "57108        2358878   PL            2019       3130  PL 3130/2019   \n",
       "\n",
       "                                               txtEmenta  \\\n",
       "0      Altera dispositivo da Lei nº 8.987, de 13 de f...   \n",
       "1      Dispõe sobre a eleição de diretores de fundos ...   \n",
       "2      Altera a composição dos Tribunais Regionais do...   \n",
       "3      Dispõe sobre o acesso a ambientes de uso colet...   \n",
       "4      Estabelece as Diretrizes Nacionais de Defesa C...   \n",
       "...                                                  ...   \n",
       "57104  Altera o parágrafo único do art. 71 do Código ...   \n",
       "57105  Altera a Lei nº 9.503, de 23 de setembro de 19...   \n",
       "57106  Altera a Lei nº 11.340, de 7 de agosto de 2006...   \n",
       "57107  Altera a Lei nº 7.565, de 19 de dezembro de 19...   \n",
       "57108  Altera a Lei nº 13.675, de 11 de junho de 2018...   \n",
       "\n",
       "                                     txtExplicacaoEmenta  \\\n",
       "0      Estabelece que as concessionárias disponibiliz...   \n",
       "1                                                    NaN   \n",
       "2      Altera a composição do TRT da 5ª região, 6ª re...   \n",
       "3                                                    NaN   \n",
       "4                                                    NaN   \n",
       "...                                                  ...   \n",
       "57104                                                NaN   \n",
       "57105                                                NaN   \n",
       "57106                                                NaN   \n",
       "57107                                                NaN   \n",
       "57108                                                NaN   \n",
       "\n",
       "                                            txtIndexacao  \\\n",
       "0      Alteração, Lei das Concessões de Serviços Públ...   \n",
       "1      NORMAS, ELEIÇÃO DIRETA, EMPREGADO, APOSENTADO,...   \n",
       "2      Alteração, Lei Federal, composição, Tribunal R...   \n",
       "3      Autorização, pessoa portadora de deficiência, ...   \n",
       "4      Fixação, diretrizes, defesa civil, (Sindec), d...   \n",
       "...                                                  ...   \n",
       "57104                                                NaN   \n",
       "57105                                                NaN   \n",
       "57106                                                NaN   \n",
       "57107                                                NaN   \n",
       "57108                                                NaN   \n",
       "\n",
       "                                          txtInteiroTeor  \n",
       "0      Ofício nº 1416  (SF)                          ...  \n",
       "1      COMISSÃO DE CONSTITUIÇÃO E JUSTIÇA E DE REDAÇÃ...  \n",
       "2      COMISSÃO DE TRABALHO, DE ADMINISTRAÇÃO E SERVI...  \n",
       "3      Câmara dos Deputados\\n           Departamento ...  \n",
       "4      - 1 - \\nCOMISSÃO DE CONSTITUIÇÃO E JUSTIÇA E D...  \n",
       "...                                                  ...  \n",
       "57104  1 \\n  \\n \\n \\n \\nCÂMARA DOS DEPUTADOS \\nPROJET...  \n",
       "57105  Altera a Lei nº 9.503, de 23 de setembro\\nde 1...  \n",
       "57106  Altera a Lei nº 11.340, de 7 de agosto de\\n200...  \n",
       "57107  Altera a Lei nº 7.565, de 19 de dezembro\\nde  ...  \n",
       "57108  Altera a Lei nº 13.675, de 11 de junho de\\n201...  \n",
       "\n",
       "[57109 rows x 9 columns]"
      ]
     },
     "execution_count": 5,
     "metadata": {},
     "output_type": "execute_result"
    }
   ],
   "source": [
    "base"
   ]
  },
  {
   "cell_type": "code",
   "execution_count": 6,
   "id": "18e3ecf6",
   "metadata": {},
   "outputs": [
    {
     "data": {
      "text/plain": [
       "'Solicito a consultoria elaboração de Projeto de lei para garantir a estabilidade da mulher gravida quando esteja em cargo publico comissionado.   Como não é possível impedir a exoneração que já preveja uma indenização no valor da media salarial do ultimo ano durante o período em que está gravida e período da licença maternidade.'"
      ]
     },
     "execution_count": 6,
     "metadata": {},
     "output_type": "execute_result"
    }
   ],
   "source": [
    "df_assunto.iloc[0,1].strip()"
   ]
  },
  {
   "cell_type": "code",
   "execution_count": 7,
   "id": "dfd6fe2e",
   "metadata": {},
   "outputs": [
    {
     "data": {
      "text/plain": [
       "Index(['codProposicao', 'txtSiglaTipo', 'numAno', 'numNumero', 'txtNome',\n",
       "       'txtEmenta', 'txtExplicacaoEmenta', 'txtIndexacao', 'txtInteiroTeor'],\n",
       "      dtype='object')"
      ]
     },
     "execution_count": 7,
     "metadata": {},
     "output_type": "execute_result"
    }
   ],
   "source": [
    "base.columns"
   ]
  },
  {
   "cell_type": "code",
   "execution_count": 8,
   "id": "ca9816b3",
   "metadata": {},
   "outputs": [],
   "source": [
    "data = base.txtInteiroTeor.dropna()        # Trocar com nome da coluna desejada\n",
    "data = data.to_numpy()"
   ]
  },
  {
   "cell_type": "code",
   "execution_count": 9,
   "id": "8c6f19b9",
   "metadata": {},
   "outputs": [],
   "source": [
    "arr_assunto = df_assunto.to_numpy()\n",
    "y,X = arr_assunto[:,0],arr_assunto[:,1]\n",
    "y = [i.strip() for i in y]"
   ]
  },
  {
   "cell_type": "markdown",
   "id": "a308b808",
   "metadata": {},
   "source": [
    "### BM25"
   ]
  },
  {
   "cell_type": "code",
   "execution_count": 10,
   "id": "60118507",
   "metadata": {},
   "outputs": [],
   "source": [
    "import math\n",
    "import numpy as np\n",
    "import sys\n",
    "from multiprocessing import Pool, cpu_count\n",
    "from sklearn.feature_extraction.text import TfidfVectorizer\n",
    "from sklearn.metrics.pairwise import cosine_similarity\n",
    "\n",
    "DEFAULT_CUT = 0.4\n",
    "DEFAULT_DELTA = 0.1\n",
    "\n",
    "class BM25:\n",
    "    def __init__(self, corpus, tokenizer=None):\n",
    "        self.corpus_size = len(corpus)\n",
    "        self.avgdl = 0\n",
    "        self.idf = {}\n",
    "        self.doc_len = []\n",
    "        self.tokenizer = tokenizer\n",
    "        self.term_freqs = {} # dicionário para guardar os \"term frequencies\" (TF), da forma {'termo': [lista de frequências onde freq > 0], ...}\n",
    "        self.term_docs = {} # dicionário para guardar os documentos onde ocorre cada termo {'termo': [lista de docs onde ocorre 'termo'], ...}\n",
    "\n",
    "        if tokenizer:\n",
    "            corpus = self._tokenize_corpus(corpus)\n",
    "\n",
    "        nd = self._initialize(corpus)\n",
    "        self._calc_idf(nd)\n",
    "\n",
    "    def _initialize(self, corpus):\n",
    "        num_doc = 0\n",
    "        doc_n = 0  # nº do documento\n",
    "        for document in corpus:\n",
    "            self.doc_len.append(len(document))\n",
    "            num_doc += len(document)\n",
    "\n",
    "            # dicionário para controlar quebra de documento para cada n-grama\n",
    "            doc_changed = {}\n",
    "            for word in document:\n",
    "                doc_changed[sys.intern(word)] = True # significa que mudou o documento; indica para todas as palavras do documento\n",
    "\n",
    "            for word in document:\n",
    "                # Incrementa o dicionário de TF\n",
    "                if word not in self.term_freqs:\n",
    "                    self.term_freqs[sys.intern(word)] = [1]\n",
    "                    self.term_docs[sys.intern(word)] = [doc_n]\n",
    "                    doc_changed[sys.intern(word)] = False\n",
    "                else:\n",
    "                    if not doc_changed[sys.intern(word)]:\n",
    "                        self.term_freqs[sys.intern(word)][-1] += 1  # incrementa frequência do termo no documento = TF(t, d)\n",
    "                    else:\n",
    "                        self.term_freqs[sys.intern(word)].append(1)\n",
    "                        self.term_docs[sys.intern(word)].append(doc_n)\n",
    "                        doc_changed[sys.intern(word)] = False\n",
    "            doc_n += 1\n",
    "\n",
    "        # monta o dicionário DF (Document Frequency)\n",
    "        df = {}\n",
    "        for term_freq, lst_freqs in zip(self.term_freqs.keys(), self.term_freqs.values()):\n",
    "            df[sys.intern(term_freq)] = len(lst_freqs)\n",
    "\n",
    "        self.avgdl = num_doc / self.corpus_size\n",
    "        return df\n",
    "\n",
    "    def _tokenize_corpus(self, corpus):\n",
    "        pool = Pool(cpu_count())\n",
    "        tokenized_corpus = pool.map(self.tokenizer, corpus)\n",
    "        return tokenized_corpus\n",
    "\n",
    "    def _calc_idf(self, nd):\n",
    "        raise NotImplementedError()\n",
    "\n",
    "    def get_scores(self, query):\n",
    "        raise NotImplementedError()\n",
    "\n",
    "    def get_batch_scores(self, query, doc_ids):\n",
    "        raise NotImplementedError()\n",
    "\n",
    "    def get_top_n(self, query, documents, n=5, \n",
    "                    improve_similarity=False, raw_query=None, past_queries=[], \n",
    "                    retrieved_docs=[], names=[], cut=DEFAULT_CUT, delta=DEFAULT_DELTA):\n",
    "\n",
    "        assert self.corpus_size == len(documents), \"The documents given don't match the index corpus\"\n",
    "\n",
    "        scores = self.get_scores(query)\n",
    "        try:\n",
    "            scores_normalized = (scores - np.min(scores)) / (np.max(scores) - np.min(scores))\n",
    "        except:\n",
    "            scores_normalized = [0 for i in range(scores)]\n",
    "\n",
    "        scores_final = None\n",
    "        if (improve_similarity):\n",
    "            try:\n",
    "                lambdas = self._lambda_calc(all_queries=past_queries, retrieved_docs=retrieved_docs,\n",
    "                                            query=raw_query, cut=cut, delta=delta)\n",
    "                scores_final = self._lambda_update(scores=scores_normalized, lambdas=lambdas, names=names)\n",
    "            except:\n",
    "                print(\"Error calculating lambdas. If there are no past feedbacks yet ignore this message.\", flush=True)\n",
    "                scores_final = scores\n",
    "\n",
    "        top_n = np.argsort(scores_final)[::-1][:n]\n",
    "        return [documents[i] for i in top_n], np.sort(scores)[::-1][:n], np.sort(scores_normalized)[::-1][:n], np.sort(\n",
    "            scores_final)[::-1][:n]"
   ]
  },
  {
   "cell_type": "markdown",
   "id": "ee407434",
   "metadata": {},
   "source": [
    "### BM25L"
   ]
  },
  {
   "cell_type": "code",
   "execution_count": 11,
   "id": "ad03914a",
   "metadata": {},
   "outputs": [],
   "source": [
    "class BM25L(BM25):\n",
    "    def __init__(self, corpus, tokenizer=None, k1=1.5, b=0.75, epsilon=0.25):\n",
    "        self.k1 = k1\n",
    "        self.b = b\n",
    "        self.epsilon = epsilon\n",
    "        super().__init__(corpus, tokenizer)\n",
    "\n",
    "    # Calculo do IDF (Inverse Document Frequency)\n",
    "    def _calc_idf(self, nd):\n",
    "        # collect idf sum to calculate an average idf for epsilon value\n",
    "        idf_sum = 0\n",
    "        # collect words with negative idf to set them a special epsilon value.\n",
    "        # idf can be negative if word is contained in more than half of documents\n",
    "        negative_idfs = []\n",
    "        for word, freq in nd.items():\n",
    "            idf = math.log(self.corpus_size + 1) - math.log(freq + 0.5)\n",
    "            self.idf[sys.intern(word)] = idf\n",
    "            idf_sum += idf\n",
    "            if idf < 0:\n",
    "                negative_idfs.append(word)\n",
    "        self.average_idf = idf_sum / len(self.idf)\n",
    "\n",
    "        eps = self.epsilon * self.average_idf\n",
    "        for word in negative_idfs:\n",
    "            self.idf[sys.intern(word)] = eps\n",
    "\n",
    "    # Calculo do ctd\n",
    "    def get_ctd(self, q_freq, b, doc_len, avg_len):\n",
    "        ctd = q_freq/(1 - b + b*(doc_len)/(avg_len))\n",
    "        return ctd\n",
    "\n",
    "    # Avaliar a pontuacao de todos os documentos na base\n",
    "    def get_scores(self, query):\n",
    "        score = np.zeros(self.corpus_size)\n",
    "        doc_len = np.array(self.doc_len)\n",
    "\n",
    "        # Funcionamento de term_freqs e term_docs\n",
    "        # Ex: term_freqs['termo'] = [10, 5, 4, 15] => frequências do termo (TF > 0)\n",
    "        #     term_docs['termo'] = [5, 20, 40, 55] => termo ocorre nos docs 5, 20, 40, 55 \n",
    "        for q in query:\n",
    "            if q not in self.term_freqs:\n",
    "                continue\n",
    "            q_tf = [0]*self.corpus_size \n",
    "            for docn, tf in zip(self.term_docs[q], self.term_freqs[q]):\n",
    "                q_tf[docn] = tf\n",
    "            ctd = q_tf / (1 - self.b + self.b * (doc_len) / (self.avgdl))\n",
    "            score += (self.idf.get(q, 0)) * ((ctd + 0.5) * (self.k1 + 1) / ((ctd + 0.5) + self.k1))\n",
    "\n",
    "        return score\n",
    "\n",
    "\n",
    "    def _lambda_update(self, scores, lambdas, names):\n",
    "        \"\"\"\n",
    "        Updates bm25 scores using the lambdas values\n",
    "        \"\"\"\n",
    "        result = np.copy(scores)\n",
    "        for i, name in enumerate(names):\n",
    "            name = name.strip()\n",
    "            if (name in lambdas.keys()):\n",
    "                result[i] += lambdas[name]\n",
    "        return result\n",
    "\n",
    "    def _lambda_calc(self, all_queries, retrieved_docs, query, cut, delta):\n",
    "        \"\"\"\n",
    "        Searches for similar queries; returns dictionary\n",
    "        \"\"\"\n",
    "        vectorizer = TfidfVectorizer()\n",
    "        vectorizer.fit(all_queries+[query])\n",
    "        vsm_2 = vectorizer.transform(all_queries)\n",
    "        vsm_1 = vectorizer.transform([query])\n",
    "        similarities = cosine_similarity(vsm_1, vsm_2).tolist()[0]\n",
    "\n",
    "        doc_sim = [(retrieved_docs[j], similarities[j]) for j in range(len(similarities)) if similarities[j] > cut]\n",
    "\n",
    "        dic = {}\n",
    "        for tuple in doc_sim:\n",
    "            sim = tuple[1]\n",
    "            for doc in tuple[0]:\n",
    "                (name, score, score_norm, relevance) = doc\n",
    "                rel = 1\n",
    "                if (relevance == 'i'):\n",
    "                    rel = -1\n",
    "\n",
    "                if (name in dic):\n",
    "                    dic[name] += score_norm * sim * rel\n",
    "                else:\n",
    "                    dic[name] = score_norm * sim * rel # calculando a soma do produto sim*score*rel\n",
    "\n",
    "        for key in dic:\n",
    "            dic[key] = np.log(dic[key] + 1) * delta\n",
    "        return dic\n",
    "\n",
    "    def get_top_n(self, query, documents, n=5,\n",
    "                  improve_similarity=False, raw_query=None, past_queries=[],\n",
    "                  retrieved_docs=[], names=[], cut=0.6, delta=0.7):\n",
    "\n",
    "        assert self.corpus_size == len(documents), \"The documents given don't match the index corpus\"\n",
    "\n",
    "        scores = self.get_scores(query)\n",
    "\n",
    "        if np.isclose(np.max(scores), np.min(scores), atol=1e-5):\n",
    "            score_ref = 1.0 if np.max(scores) > 1e-6 else 0.0\n",
    "            scores_normalized = np.array([score_ref for i in range(len(scores))])\n",
    "        else:\n",
    "            scores_normalized = (scores - np.min(scores)) / (np.max(scores) - np.min(scores))\n",
    "\n",
    "        scores_final = np.copy(scores_normalized)\n",
    "        if (improve_similarity and len(past_queries) > 0):\n",
    "            lambdas = self._lambda_calc(all_queries=past_queries, retrieved_docs=retrieved_docs,\n",
    "                                        query=raw_query, cut=cut, delta=delta)\n",
    "            scores_final = self._lambda_update(scores=scores_normalized, lambdas=lambdas, names=names)\n",
    "\n",
    "        top_n = np.argpartition(scores_final, -n)[::-1][:n]\n",
    "        top_n = top_n[np.argsort(scores_final[top_n])[::-1]]\n",
    "\n",
    "        return [documents[i] for i in top_n]\n",
    "\n"
   ]
  },
  {
   "cell_type": "markdown",
   "id": "61c90ada",
   "metadata": {},
   "source": [
    "### Savoy"
   ]
  },
  {
   "cell_type": "code",
   "execution_count": 12,
   "id": "363aa3d8",
   "metadata": {},
   "outputs": [],
   "source": [
    "class Savoy:\n",
    "\n",
    "    def __removeAllPTAccent(self, old_word):\n",
    "        word = list(old_word)\n",
    "        len_word = len(word)-1\n",
    "        for i in range(len_word, -1, -1):\n",
    "            if word[i] == 'ä':\n",
    "                word[i] = 'a'\n",
    "            if word[i] == 'â':\n",
    "                word[i] = 'a'\n",
    "            if word[i] == 'à':\n",
    "                word[i] = 'a'\n",
    "            if word[i] == 'á':\n",
    "                word[i] = 'a'\n",
    "            if word[i] == 'ã':\n",
    "                word[i] = 'a'\n",
    "            if word[i] == 'ê':\n",
    "                word[i] = 'e'\n",
    "            if word[i] == 'é':\n",
    "                word[i] = 'e'\n",
    "            if word[i] == 'è':\n",
    "                word[i] = 'e'\n",
    "            if word[i] == 'ë':\n",
    "                word[i] = 'e'\n",
    "            if word[i] == 'ï':\n",
    "                word[i] = 'i'\n",
    "            if word[i] == 'î':\n",
    "                word[i] = 'i'\n",
    "            if word[i] == 'ì':\n",
    "                word[i] = 'i'\n",
    "            if word[i] == 'í':\n",
    "                word[i] = 'i'\n",
    "            if word[i] == 'ü':\n",
    "                word[i] = 'u'\n",
    "            if word[i] == 'ú':\n",
    "                word[i] = 'u'\n",
    "            if word[i] == 'ù':\n",
    "                word[i] = 'u'\n",
    "            if word[i] == 'û':\n",
    "                word[i] = 'u'\n",
    "            if word[i] == 'ô':\n",
    "                word[i] = 'o'\n",
    "            if word[i] == 'ö':\n",
    "                word[i] = 'o'\n",
    "            if word[i] == 'ó':\n",
    "                word[i] = 'o'\n",
    "            if word[i] == 'ò':\n",
    "                word[i] = 'o'\n",
    "            if word[i] == 'õ':\n",
    "                word[i] = 'o'\n",
    "            if word[i] == 'ç':\n",
    "                word[i] = 'c'\n",
    "\n",
    "        new_word = \"\".join(word)\n",
    "        return new_word\n",
    "\n",
    "    def __finalVowelPortuguese(self, word):\n",
    "        len_word = len(word)\n",
    "        if len_word > 3:\n",
    "            if word[-1] == 'e' or word[-1] == 'a' or word[-1] == 'o':\n",
    "                word = word[:-1]\n",
    "\n",
    "        return word\n",
    "\n",
    "    def __remove_PTsuffix(self, word):\n",
    "        len_word = len(word)\n",
    "\n",
    "        if len_word > 3:\n",
    "            if word[-1] == 's' and word[-2] == 'e' and (word[-3] == 'r' or word[-3] == 's' or word[-3] == 'z' or word[-3] == 'l'):\n",
    "                word = word[:-2]\n",
    "                return word\n",
    "        if len_word > 2:\n",
    "            if word[-1] == 's' and word[-2] == 'n':\n",
    "                new_word = list(word)\n",
    "                new_word[-2] = 'm'\n",
    "                sing = \"\".join(new_word)\n",
    "                sing = sing[:-1]\n",
    "                return sing\n",
    "\n",
    "        if len_word > 3:\n",
    "            if (word[-1] == 's' and word[-2] == 'i') and (word[-3] == 'e' or word[-3] == 'é'):\n",
    "                new_word = list(word)\n",
    "                new_word[-3] = 'e'\n",
    "                new_word[-2] = 'l'\n",
    "                sing = \"\".join(new_word)\n",
    "                sing = sing[:-1]\n",
    "                return sing\n",
    "\n",
    "        if len_word > 3:\n",
    "            if word[-1] == 's' and word[-2] == 'i' and word[-3] == 'a':\n",
    "                new_word = list(word)\n",
    "                new_word[-2] = 'l'\n",
    "                sing = \"\".join(new_word)\n",
    "                sing = sing[:-1]\n",
    "                return sing\n",
    "\n",
    "        if len_word > 3:\n",
    "            if word[-1] == 's' and word[-2] == 'i' and word[-3] == 'ó':\n",
    "                new_word = list(word)\n",
    "                new_word[-3] = 'o'\n",
    "                new_word[-2] = 'l'\n",
    "                sing = \"\".join(new_word)\n",
    "                sing = sing[:-1]\n",
    "                return sing\n",
    "\n",
    "        if len_word > 3:\n",
    "            if word[-1] == 's' and word[-2] == 'i':\n",
    "                new_word = list(word)\n",
    "                new_word[-1] = 'l'\n",
    "                sing = \"\".join(new_word)\n",
    "                return sing\n",
    "\n",
    "        if len_word > 2:\n",
    "            if word[-1] == 's' and word[-2] == 'e' and word[-3] == 'õ':\n",
    "                new_word = list(word)\n",
    "                new_word[-3] = 'ã'\n",
    "                new_word[-2] = 'o'\n",
    "                sing = \"\".join(new_word)\n",
    "                sing = sing[:-1]\n",
    "                return sing\n",
    "            if word[-1] == 's' and word[-2] == 'e' and word[-3] == 'ã':\n",
    "                new_word = list(word)\n",
    "                new_word[-2] = 'o'\n",
    "                sing = \"\".join(new_word)\n",
    "                sing = sing[:-1]\n",
    "                return sing\n",
    "\n",
    "        if len_word > 5:\n",
    "            if word[-1] == 'e' and word[-2] == 't' and word[-3] == 'n' and word[-4] == 'e' and word[-5] == 'm':\n",
    "                word = word[:-5]\n",
    "                return word\n",
    "\n",
    "        if len_word > 2:\n",
    "            if word[-1] == 's':\n",
    "                word = word[:-1]\n",
    "\n",
    "        return word\n",
    "\n",
    "    def __normFemininPortuguese(self, word):\n",
    "\n",
    "        len_word = len(word)\n",
    "\n",
    "        if len_word < 3 or word[-1] != 'a':\n",
    "            return word\n",
    "\n",
    "        if len_word > 6:\n",
    "\n",
    "            if word[-2] == 'h' and word[-3] == 'n' and word[-4] == 'i':\n",
    "                new_word = list(word)\n",
    "                new_word[-1] = 'o'\n",
    "                masc = \"\".join(new_word)\n",
    "                return masc\n",
    "\n",
    "            if word[-2] == 'c' and word[-3] == 'a' and word[-4] == 'i':\n",
    "                new_word = list(word)\n",
    "                new_word[-1] = 'o'\n",
    "                masc = \"\".join(new_word)\n",
    "                return masc\n",
    "\n",
    "            if word[-2] == 'r' and word[-3] == 'i' and word[-4] == 'e':\n",
    "                new_word = list(word)\n",
    "                new_word[-1] = 'o'\n",
    "                masc = \"\".join(new_word)\n",
    "                return masc\n",
    "\n",
    "        if len_word > 5:\n",
    "            if word[-2] == 'n' and word[-3] == 'o':\n",
    "                new_word = list(word)\n",
    "                new_word[-3] = 'ã'\n",
    "                new_word[-2] = 'o'\n",
    "                masc = \"\".join(new_word)\n",
    "                masc = masc[:-1]\n",
    "                return masc\n",
    "\n",
    "            if word[-2] == 'r' and word[-3] == 'o':\n",
    "                word = word[:-1]\n",
    "                return word\n",
    "\n",
    "            if word[-2] == 's' and word[-3] == 'o':\n",
    "                new_word = list(word)\n",
    "                new_word[-1] = 'o'\n",
    "                masc = \"\".join(new_word)\n",
    "                return masc\n",
    "\n",
    "            if word[-2] == 's' and word[-3] == 'e':\n",
    "                new_word = list(word)\n",
    "                new_word[-3] = 'ê'\n",
    "                masc = \"\".join(new_word)\n",
    "                masc = masc[:-1]\n",
    "                return masc\n",
    "\n",
    "            if word[-2] == 'c' and word[-3] == 'i':\n",
    "                new_word = list(word)\n",
    "                new_word[-1] = 'o'\n",
    "                masc = \"\".join(new_word)\n",
    "                return masc\n",
    "\n",
    "            if word[-2] == 'd' and word[-3] == 'i':\n",
    "                new_word = list(word)\n",
    "                new_word[-1] = 'o'\n",
    "                masc = \"\".join(new_word)\n",
    "                return masc\n",
    "\n",
    "            if word[-2] == 'd' and word[-3] == 'a':\n",
    "                new_word = list(word)\n",
    "                new_word[-1] = 'o'\n",
    "                masc = \"\".join(new_word)\n",
    "                return masc\n",
    "\n",
    "            if word[-2] == 'v' and word[-3] == 'i':\n",
    "                new_word = list(word)\n",
    "                new_word[-1] = 'o'\n",
    "                masc = \"\".join(new_word)\n",
    "                return masc\n",
    "\n",
    "            if word[-2] == 'm' and word[-3] == 'a':\n",
    "                new_word = list(word)\n",
    "                new_word[-1] = 'o'\n",
    "                masc = \"\".join(new_word)\n",
    "                return masc\n",
    "\n",
    "            if word[-2] == 'n':\n",
    "                new_word = list(word)\n",
    "                new_word[-1] = 'o'\n",
    "                masc = \"\".join(new_word)\n",
    "                return masc\n",
    "\n",
    "        return word\n",
    "\n",
    "    def stem(self, word):\n",
    "        len_word = len(word)\n",
    "        if len_word > 2:\n",
    "            word = self.__remove_PTsuffix(word)\n",
    "            word = self.__normFemininPortuguese(word)\n",
    "            word = self.__finalVowelPortuguese(word)\n",
    "            word = self.__removeAllPTAccent(word)\n",
    "\n",
    "        return word\n"
   ]
  },
  {
   "cell_type": "code",
   "execution_count": 13,
   "id": "e7b82d0c",
   "metadata": {},
   "outputs": [],
   "source": [
    "class RSLP_S:\n",
    "    def __plural_reduction(self, word):\n",
    "        excep = [\"lápis\",\"cais\",\"mais\",\"crúcis\",\"biquínis\",\"pois\",\"depois\",\"dois\",\"leis\" ]\n",
    "        excep_s = [\"aliás\",\"pires\",\"lápis\",\"cais\",\"mais\",\"mas\",\"menos\", \"férias\",\"fezes\",\"pêsames\",\"crúcis\",\"gás\", \"atrás\",\"moisés\",\"através\",\"convés\",\"ês\", \"país\",\"após\",\"ambas\",\"ambos\",\"messias\"]\n",
    "\n",
    "        len_word = len(word)\n",
    "        new_word = list(word)\n",
    "\n",
    "        if len_word >= 3:\n",
    "            if new_word[-1] == 's' and new_word[-2] == 'n':\n",
    "                new_word[-2] = 'm'\n",
    "                sing = \"\".join(new_word)\n",
    "                sing = sing[:-1]\n",
    "                return sing\n",
    "\n",
    "            if new_word[-1] == 's' and new_word[-2] == 'e' and new_word[-3] == 'õ':\n",
    "                new_word[-3] = 'ã'\n",
    "                new_word[-2] = 'o'\n",
    "                sing = \"\".join(new_word)\n",
    "                sing = sing[:-1]\n",
    "                return  sing\n",
    "\n",
    "            if new_word[-1] == 's' and new_word[-2] == 'e' and new_word[-3] == 'ã':\n",
    "                if word == 'mães':\n",
    "                    word = word[:-1]\n",
    "                    return word\n",
    "                else:\n",
    "                    new_word[-2] = 'o'\n",
    "                    sing = \"\".join(new_word)\n",
    "                    sing = sing[:-1]\n",
    "                    return sing\n",
    "\n",
    "            if new_word[-1] == 's' and new_word[-2] == 'i' and new_word[-3] == 'a':\n",
    "                if word != 'cais' and word != 'mais':\n",
    "                    new_word[-2] = 'l'\n",
    "                    sing = \"\".join(new_word)\n",
    "                    sing = sing[:-1]\n",
    "                    return sing\n",
    "\n",
    "            if new_word[-1] == 's' and new_word[-2] == 'i' and new_word[-3] == 'é':\n",
    "                new_word[-3] = 'e'\n",
    "                new_word[-2] = 'l'\n",
    "                sing = \"\".join(new_word)\n",
    "                sing = sing[:-1]\n",
    "                return sing\n",
    "\n",
    "            if new_word[-1] == 's' and new_word[-2] == 'i' and new_word[-3] == 'e':\n",
    "                new_word[-3] = 'e'\n",
    "                new_word[-2] = 'l'\n",
    "                sing = \"\".join(new_word)\n",
    "                sing = sing[:-1]\n",
    "                return sing\n",
    "\n",
    "            if new_word[-1] == 's' and new_word[-2] == 'i' and new_word[-3] == 'ó':\n",
    "                new_word[-3] = 'o'\n",
    "                new_word[-2] = 'l'\n",
    "                sing = \"\".join(new_word)\n",
    "                sing = sing[:-1]\n",
    "                return sing\n",
    "\n",
    "            if new_word[-1] == 's' and new_word[-2] == 'i':\n",
    "                if word not in excep:\n",
    "                    new_word[-1] = 'l'\n",
    "                    sing = \"\".join(new_word)\n",
    "                    return sing\n",
    "\n",
    "            if new_word[-1] == 's' and new_word[-2] == 'e' and new_word[-3] == 'l':\n",
    "                word = word[:-2]\n",
    "                return word\n",
    "\n",
    "            if new_word[-1] == 's' and new_word[-2] == 'e' and new_word[-3] == 'r':\n",
    "                word = word[:-2]\n",
    "                return word\n",
    "\n",
    "            if new_word[-1] == 's':\n",
    "                if word not in excep_s:\n",
    "                    word = word[:-1]\n",
    "\n",
    "        return word\n",
    "\n",
    "    def stem(self, word):\n",
    "        word = self.__plural_reduction(word)\n",
    "\n",
    "        return word"
   ]
  },
  {
   "cell_type": "markdown",
   "id": "d88c85ef",
   "metadata": {},
   "source": [
    "### Avaliação"
   ]
  },
  {
   "cell_type": "code",
   "execution_count": 14,
   "id": "d4943433",
   "metadata": {},
   "outputs": [],
   "source": [
    "def get_name(base, doc):\n",
    "    return str(base[base.txtInteiroTeor==doc].txtNome.to_numpy()[0]).strip()"
   ]
  },
  {
   "cell_type": "code",
   "execution_count": 12,
   "id": "0f2047f2",
   "metadata": {},
   "outputs": [],
   "source": [
    "def avaliacaoRR(top_k=20):\n",
    "    primeira_posicao=0\n",
    "    \n",
    "    for l,x in zip(y,X):\n",
    "        tokenized_query3 = preprocess(x)                   \n",
    "     \n",
    "        top_n_stem_l = bm25.get_top_n(tokenized_query3,data, n=top_k)\n",
    "        labelsnsL = [get_name(base,d) for d in top_n_stem_l]\n",
    "        if str(labelsnsL[0]).strip() == l.strip():\n",
    "            primeira_posicao+=1\n",
    "    rr = primeira_posicao / 295\n",
    "    print(\"RR: %f\" % (rr))"
   ]
  },
  {
   "cell_type": "code",
   "execution_count": 13,
   "id": "2f7c8b7e",
   "metadata": {},
   "outputs": [],
   "source": [
    "def avaliacaoMAP(top_k=20):\n",
    "    \n",
    "    l_v = list()\n",
    "    labels_nsL = list()\n",
    "    for l,x in zip(y,X):\n",
    "        tokenized_query3 = preprocess(x)                   \n",
    "        top_n_stem_l = bm25.get_top_n(tokenized_query3,data, n=top_k)\n",
    "        labelsnsL = [get_name(base,d) for d in top_n_stem_l] \n",
    "        \n",
    "        l_v.append(l)\n",
    "        labels_nsL.append(labelsnsL)\n",
    "    \n",
    "    denominador = 0\n",
    "    \n",
    "    encontrou=False\n",
    "    soma=0\n",
    "    for Y,x in zip(l_v,labels_nsL):\n",
    "        calc = 0\n",
    "        quant=0\n",
    "        for k in x:\n",
    "            if str(k).strip() == Y.strip():\n",
    "                quant=1\n",
    "                encontrou=True\n",
    "            denominador+=1\n",
    "            calc=quant/denominador\n",
    "            if encontrou:\n",
    "                calc = calc * 1\n",
    "            else:\n",
    "                calc = calc * 0\n",
    "            soma+=calc\n",
    "            encontrou = False\n",
    "    MAP = soma /295\n",
    "    print(\"MAP: %f\" % (MAP))            "
   ]
  },
  {
   "cell_type": "code",
   "execution_count": 14,
   "id": "7b73f3b8",
   "metadata": {},
   "outputs": [],
   "source": [
    "def avaliacaoPrecision(top_k=20):\n",
    "    l_v = list()\n",
    "    labels_nsL = list()\n",
    "    for l,x in zip(y,X):\n",
    "        tokenized_query3 = preprocess(x)                   \n",
    "        top_n_stem_l = bm25.get_top_n(tokenized_query3,data, n=top_k)\n",
    "        labelsnsL = [get_name(base,d) for d in top_n_stem_l] \n",
    "        \n",
    "        l_v.append(l)\n",
    "        labels_nsL.append(labelsnsL)\n",
    "    \n",
    "    soma=0\n",
    "    for Y,x in zip(l_v,labels_nsL):\n",
    "        calc = 0\n",
    "        for k in x:\n",
    "            if str(k).strip() == Y.strip():\n",
    "                calc=1\n",
    "                break\n",
    "        calc=calc/top_k\n",
    "        soma+=calc\n",
    "    precision = soma /295\n",
    "    print(\"Precision: %f\" % (precision))"
   ]
  },
  {
   "cell_type": "code",
   "execution_count": 15,
   "id": "7c1b4261",
   "metadata": {},
   "outputs": [],
   "source": [
    "def avaliacaoRecall(top_k=20):\n",
    "\n",
    "    labels_nsL = list()\n",
    "\n",
    "\n",
    "    l_v = list()\n",
    "    antes = time.time()\n",
    "    for l,x in zip(y,X):\n",
    "\n",
    "        tokenized_query3 = preprocess(x)                   \n",
    "     \n",
    "        top_n_stem_l = bm25.get_top_n(tokenized_query3,data, n=top_k)\n",
    "        \n",
    "   \n",
    "        labelsnsL = [get_name(base,d) for d in top_n_stem_l]              #L\n",
    " \n",
    "        labels_nsL.append(labelsnsL)    #L\n",
    "        \n",
    "    \n",
    "        l_v.append(l)\n",
    "        \n",
    "    \n",
    "    res_nsL = list()                #Stopwords + Acentuação + Stemming + Unigram + Bigram (L)\n",
    "    depois = time.time()\n",
    "    print(\"Duração: %f\" %(depois - antes))\n",
    "\n",
    "    for k in range(1, top_k+1):\n",
    "\n",
    "\n",
    "        resultsnsL = list()         #Stopwords + Acentuação + Stemming + Unigram + Bigram (L)\n",
    "\n",
    "\n",
    "        for i in range(len(l_v)):\n",
    "\n",
    "\n",
    "            if (l_v[i] in labels_nsL[i][:k]):\n",
    "                resultsnsL.append(1)\n",
    "            else:\n",
    "                resultsnsL.append(0)\n",
    "\n",
    "       \n",
    "        res_nsL.append(sum(resultsnsL)/len(resultsnsL))\n",
    "    print(f\"Encontrados: {sum(resultsnsL)}\")\n",
    "    print(f\"Total: {len(arr_assunto)}\")\n",
    "#     print(f\"Acurácia 10 docs: {res_nsL[9]}\")\n",
    "    print(f\"Acurácia 20 docs: {res_nsL[-1]}\\n\\n\")"
   ]
  },
  {
   "cell_type": "markdown",
   "id": "6c4ccb37",
   "metadata": {},
   "source": [
    "# ImgTeorPDF"
   ]
  },
  {
   "cell_type": "markdown",
   "id": "003982e9",
   "metadata": {},
   "source": [
    "# basic preprocessing"
   ]
  },
  {
   "cell_type": "markdown",
   "id": "244e2b5b",
   "metadata": {},
   "source": [
    "### 1 no preprocessing"
   ]
  },
  {
   "cell_type": "code",
   "execution_count": 16,
   "id": "7b038483",
   "metadata": {},
   "outputs": [],
   "source": [
    "def preprocess(txt):\n",
    "    txt =  str(txt)\n",
    "    terms = word_tokenize(txt)\n",
    "    \n",
    "    return terms"
   ]
  },
  {
   "cell_type": "code",
   "execution_count": 17,
   "id": "5d65af4d",
   "metadata": {},
   "outputs": [],
   "source": [
    "data_preprocess = [preprocess(doc) for doc in data]"
   ]
  },
  {
   "cell_type": "code",
   "execution_count": 18,
   "id": "f16bf6a2",
   "metadata": {},
   "outputs": [],
   "source": [
    "a = time.time()"
   ]
  },
  {
   "cell_type": "code",
   "execution_count": 19,
   "id": "e7904811",
   "metadata": {},
   "outputs": [],
   "source": [
    "bm25 = BM25L(data_preprocess)"
   ]
  },
  {
   "cell_type": "code",
   "execution_count": 20,
   "id": "64d1d3fb",
   "metadata": {},
   "outputs": [],
   "source": [
    "d = time.time()"
   ]
  },
  {
   "cell_type": "code",
   "execution_count": 21,
   "id": "a095e99b",
   "metadata": {},
   "outputs": [
    {
     "name": "stdout",
     "output_type": "stream",
     "text": [
      "Duração indexação: 50.077694\n"
     ]
    }
   ],
   "source": [
    "print(\"Duração indexação: %f\" % (d-a))"
   ]
  },
  {
   "cell_type": "markdown",
   "id": "b2c79adb",
   "metadata": {},
   "source": [
    "### Recall"
   ]
  },
  {
   "cell_type": "code",
   "execution_count": 22,
   "id": "400c2f77",
   "metadata": {},
   "outputs": [
    {
     "ename": "KeyboardInterrupt",
     "evalue": "",
     "output_type": "error",
     "traceback": [
      "\u001b[1;31m---------------------------------------------------------------------------\u001b[0m",
      "\u001b[1;31mKeyboardInterrupt\u001b[0m                         Traceback (most recent call last)",
      "Cell \u001b[1;32mIn[22], line 1\u001b[0m\n\u001b[1;32m----> 1\u001b[0m \u001b[43mavaliacaoRecall\u001b[49m\u001b[43m(\u001b[49m\u001b[38;5;241;43m5\u001b[39;49m\u001b[43m)\u001b[49m\n",
      "Cell \u001b[1;32mIn[15], line 12\u001b[0m, in \u001b[0;36mavaliacaoRecall\u001b[1;34m(top_k)\u001b[0m\n\u001b[0;32m      8\u001b[0m \u001b[38;5;28;01mfor\u001b[39;00m l,x \u001b[38;5;129;01min\u001b[39;00m \u001b[38;5;28mzip\u001b[39m(y,X):\n\u001b[0;32m     10\u001b[0m     tokenized_query3 \u001b[38;5;241m=\u001b[39m preprocess(x)                   \n\u001b[1;32m---> 12\u001b[0m     top_n_stem_l \u001b[38;5;241m=\u001b[39m \u001b[43mbm25\u001b[49m\u001b[38;5;241;43m.\u001b[39;49m\u001b[43mget_top_n\u001b[49m\u001b[43m(\u001b[49m\u001b[43mtokenized_query3\u001b[49m\u001b[43m,\u001b[49m\u001b[43mdata\u001b[49m\u001b[43m,\u001b[49m\u001b[43m \u001b[49m\u001b[43mn\u001b[49m\u001b[38;5;241;43m=\u001b[39;49m\u001b[43mtop_k\u001b[49m\u001b[43m)\u001b[49m\n\u001b[0;32m     15\u001b[0m     labelsnsL \u001b[38;5;241m=\u001b[39m [get_name(base,d) \u001b[38;5;28;01mfor\u001b[39;00m d \u001b[38;5;129;01min\u001b[39;00m top_n_stem_l]              \u001b[38;5;66;03m#L\u001b[39;00m\n\u001b[0;32m     17\u001b[0m     labels_nsL\u001b[38;5;241m.\u001b[39mappend(labelsnsL)    \u001b[38;5;66;03m#L\u001b[39;00m\n",
      "Cell \u001b[1;32mIn[8], line 99\u001b[0m, in \u001b[0;36mBM25L.get_top_n\u001b[1;34m(self, query, documents, n, improve_similarity, raw_query, past_queries, retrieved_docs, names, cut, delta)\u001b[0m\n\u001b[0;32m     93\u001b[0m \u001b[38;5;28;01mdef\u001b[39;00m \u001b[38;5;21mget_top_n\u001b[39m(\u001b[38;5;28mself\u001b[39m, query, documents, n\u001b[38;5;241m=\u001b[39m\u001b[38;5;241m5\u001b[39m,\n\u001b[0;32m     94\u001b[0m               improve_similarity\u001b[38;5;241m=\u001b[39m\u001b[38;5;28;01mFalse\u001b[39;00m, raw_query\u001b[38;5;241m=\u001b[39m\u001b[38;5;28;01mNone\u001b[39;00m, past_queries\u001b[38;5;241m=\u001b[39m[],\n\u001b[0;32m     95\u001b[0m               retrieved_docs\u001b[38;5;241m=\u001b[39m[], names\u001b[38;5;241m=\u001b[39m[], cut\u001b[38;5;241m=\u001b[39m\u001b[38;5;241m0.6\u001b[39m, delta\u001b[38;5;241m=\u001b[39m\u001b[38;5;241m0.7\u001b[39m):\n\u001b[0;32m     97\u001b[0m     \u001b[38;5;28;01massert\u001b[39;00m \u001b[38;5;28mself\u001b[39m\u001b[38;5;241m.\u001b[39mcorpus_size \u001b[38;5;241m==\u001b[39m \u001b[38;5;28mlen\u001b[39m(documents), \u001b[38;5;124m\"\u001b[39m\u001b[38;5;124mThe documents given don\u001b[39m\u001b[38;5;124m'\u001b[39m\u001b[38;5;124mt match the index corpus\u001b[39m\u001b[38;5;124m\"\u001b[39m\n\u001b[1;32m---> 99\u001b[0m     scores \u001b[38;5;241m=\u001b[39m \u001b[38;5;28;43mself\u001b[39;49m\u001b[38;5;241;43m.\u001b[39;49m\u001b[43mget_scores\u001b[49m\u001b[43m(\u001b[49m\u001b[43mquery\u001b[49m\u001b[43m)\u001b[49m\n\u001b[0;32m    101\u001b[0m     \u001b[38;5;28;01mif\u001b[39;00m np\u001b[38;5;241m.\u001b[39misclose(np\u001b[38;5;241m.\u001b[39mmax(scores), np\u001b[38;5;241m.\u001b[39mmin(scores), atol\u001b[38;5;241m=\u001b[39m\u001b[38;5;241m1e-5\u001b[39m):\n\u001b[0;32m    102\u001b[0m         score_ref \u001b[38;5;241m=\u001b[39m \u001b[38;5;241m1.0\u001b[39m \u001b[38;5;28;01mif\u001b[39;00m np\u001b[38;5;241m.\u001b[39mmax(scores) \u001b[38;5;241m>\u001b[39m \u001b[38;5;241m1e-6\u001b[39m \u001b[38;5;28;01melse\u001b[39;00m \u001b[38;5;241m0.0\u001b[39m\n",
      "Cell \u001b[1;32mIn[8], line 46\u001b[0m, in \u001b[0;36mBM25L.get_scores\u001b[1;34m(self, query)\u001b[0m\n\u001b[0;32m     44\u001b[0m     \u001b[38;5;28;01mfor\u001b[39;00m docn, tf \u001b[38;5;129;01min\u001b[39;00m \u001b[38;5;28mzip\u001b[39m(\u001b[38;5;28mself\u001b[39m\u001b[38;5;241m.\u001b[39mterm_docs[q], \u001b[38;5;28mself\u001b[39m\u001b[38;5;241m.\u001b[39mterm_freqs[q]):\n\u001b[0;32m     45\u001b[0m         q_tf[docn] \u001b[38;5;241m=\u001b[39m tf\n\u001b[1;32m---> 46\u001b[0m     ctd \u001b[38;5;241m=\u001b[39m \u001b[43mq_tf\u001b[49m\u001b[43m \u001b[49m\u001b[38;5;241;43m/\u001b[39;49m\u001b[43m \u001b[49m\u001b[43m(\u001b[49m\u001b[38;5;241;43m1\u001b[39;49m\u001b[43m \u001b[49m\u001b[38;5;241;43m-\u001b[39;49m\u001b[43m \u001b[49m\u001b[38;5;28;43mself\u001b[39;49m\u001b[38;5;241;43m.\u001b[39;49m\u001b[43mb\u001b[49m\u001b[43m \u001b[49m\u001b[38;5;241;43m+\u001b[39;49m\u001b[43m \u001b[49m\u001b[38;5;28;43mself\u001b[39;49m\u001b[38;5;241;43m.\u001b[39;49m\u001b[43mb\u001b[49m\u001b[43m \u001b[49m\u001b[38;5;241;43m*\u001b[39;49m\u001b[43m \u001b[49m\u001b[43m(\u001b[49m\u001b[43mdoc_len\u001b[49m\u001b[43m)\u001b[49m\u001b[43m \u001b[49m\u001b[38;5;241;43m/\u001b[39;49m\u001b[43m \u001b[49m\u001b[43m(\u001b[49m\u001b[38;5;28;43mself\u001b[39;49m\u001b[38;5;241;43m.\u001b[39;49m\u001b[43mavgdl\u001b[49m\u001b[43m)\u001b[49m\u001b[43m)\u001b[49m\n\u001b[0;32m     47\u001b[0m     score \u001b[38;5;241m+\u001b[39m\u001b[38;5;241m=\u001b[39m (\u001b[38;5;28mself\u001b[39m\u001b[38;5;241m.\u001b[39midf\u001b[38;5;241m.\u001b[39mget(q, \u001b[38;5;241m0\u001b[39m)) \u001b[38;5;241m*\u001b[39m ((ctd \u001b[38;5;241m+\u001b[39m \u001b[38;5;241m0.5\u001b[39m) \u001b[38;5;241m*\u001b[39m (\u001b[38;5;28mself\u001b[39m\u001b[38;5;241m.\u001b[39mk1 \u001b[38;5;241m+\u001b[39m \u001b[38;5;241m1\u001b[39m) \u001b[38;5;241m/\u001b[39m ((ctd \u001b[38;5;241m+\u001b[39m \u001b[38;5;241m0.5\u001b[39m) \u001b[38;5;241m+\u001b[39m \u001b[38;5;28mself\u001b[39m\u001b[38;5;241m.\u001b[39mk1))\n\u001b[0;32m     49\u001b[0m \u001b[38;5;28;01mreturn\u001b[39;00m score\n",
      "\u001b[1;31mKeyboardInterrupt\u001b[0m: "
     ]
    }
   ],
   "source": [
    "avaliacaoRecall(5)"
   ]
  },
  {
   "cell_type": "code",
   "execution_count": null,
   "id": "bb246b56",
   "metadata": {},
   "outputs": [],
   "source": [
    "avaliacaoRecall(10)"
   ]
  },
  {
   "cell_type": "code",
   "execution_count": 23,
   "id": "a9ee4d09",
   "metadata": {},
   "outputs": [
    {
     "name": "stdout",
     "output_type": "stream",
     "text": [
      "Duração: 139.748135\n",
      "Encontrados: 194\n",
      "Total: 295\n",
      "Acurácia 20 docs: 0.6576271186440678\n",
      "\n",
      "\n"
     ]
    }
   ],
   "source": [
    "avaliacaoRecall(20)"
   ]
  },
  {
   "cell_type": "markdown",
   "id": "ab132c1b",
   "metadata": {},
   "source": [
    "### Precision"
   ]
  },
  {
   "cell_type": "code",
   "execution_count": 93,
   "id": "cc3a259c",
   "metadata": {},
   "outputs": [
    {
     "name": "stdout",
     "output_type": "stream",
     "text": [
      "Precision: 0.105763\n"
     ]
    }
   ],
   "source": [
    "avaliacaoPrecision(5)"
   ]
  },
  {
   "cell_type": "code",
   "execution_count": 94,
   "id": "c3e15c98",
   "metadata": {},
   "outputs": [
    {
     "name": "stdout",
     "output_type": "stream",
     "text": [
      "Precision: 0.057288\n"
     ]
    }
   ],
   "source": [
    "avaliacaoPrecision(10)"
   ]
  },
  {
   "cell_type": "code",
   "execution_count": 95,
   "id": "9af09680",
   "metadata": {},
   "outputs": [
    {
     "name": "stdout",
     "output_type": "stream",
     "text": [
      "Precision: 0.031525\n"
     ]
    }
   ],
   "source": [
    "avaliacaoPrecision(20)"
   ]
  },
  {
   "cell_type": "markdown",
   "id": "fd34efa8",
   "metadata": {},
   "source": [
    "### MAP"
   ]
  },
  {
   "cell_type": "code",
   "execution_count": 96,
   "id": "c3441b82",
   "metadata": {},
   "outputs": [
    {
     "name": "stdout",
     "output_type": "stream",
     "text": [
      "MAP: 0.003404\n"
     ]
    }
   ],
   "source": [
    "avaliacaoMAP(5)"
   ]
  },
  {
   "cell_type": "code",
   "execution_count": 97,
   "id": "4a15deeb",
   "metadata": {},
   "outputs": [
    {
     "name": "stdout",
     "output_type": "stream",
     "text": [
      "MAP: 0.001890\n"
     ]
    }
   ],
   "source": [
    "avaliacaoMAP(10)"
   ]
  },
  {
   "cell_type": "code",
   "execution_count": 98,
   "id": "4963f19e",
   "metadata": {},
   "outputs": [
    {
     "name": "stdout",
     "output_type": "stream",
     "text": [
      "MAP: 0.001037\n"
     ]
    }
   ],
   "source": [
    "avaliacaoMAP(20)"
   ]
  },
  {
   "cell_type": "markdown",
   "id": "31bad6d9",
   "metadata": {},
   "source": [
    "### RR"
   ]
  },
  {
   "cell_type": "code",
   "execution_count": 99,
   "id": "a2b1d87e",
   "metadata": {},
   "outputs": [
    {
     "name": "stdout",
     "output_type": "stream",
     "text": [
      "RR: 0.352542\n"
     ]
    }
   ],
   "source": [
    "avaliacaoRR(5)"
   ]
  },
  {
   "cell_type": "code",
   "execution_count": 25,
   "id": "b0e1ec9b",
   "metadata": {},
   "outputs": [],
   "source": [
    "data_preprocess = None"
   ]
  },
  {
   "cell_type": "markdown",
   "id": "05442187",
   "metadata": {},
   "source": [
    "### 5 lowercase + punctuation, acetuation, and stopword removal"
   ]
  },
  {
   "cell_type": "code",
   "execution_count": 24,
   "id": "2af25e37",
   "metadata": {},
   "outputs": [],
   "source": [
    "def _remove_acentos(txt):\n",
    "    return normalize('NFKD', txt).encode('ASCII', 'ignore').decode('ASCII')\n",
    "\n",
    "def preprocess(txt):\n",
    "    txt = str(txt)\n",
    "    txt = _remove_acentos(txt)\n",
    "    stopwords = nltk.corpus.stopwords.words(\"portuguese\")\n",
    "    stopwords.extend(list(punctuation))\n",
    "    tokenizer = RegexpTokenizer('\\w+')\n",
    "    terms = tokenizer.tokenize(txt.lower())\n",
    "    terms = [word for word in terms if word not in stopwords]\n",
    "\n",
    "    return terms"
   ]
  },
  {
   "cell_type": "code",
   "execution_count": 25,
   "id": "5f60837e",
   "metadata": {},
   "outputs": [],
   "source": [
    "data_preprocess = Parallel(n_jobs=4)(delayed(preprocess)(doc) for doc in data)"
   ]
  },
  {
   "cell_type": "code",
   "execution_count": 26,
   "id": "ed038e31",
   "metadata": {},
   "outputs": [],
   "source": [
    "a = time.time()"
   ]
  },
  {
   "cell_type": "code",
   "execution_count": 27,
   "id": "224bce9c",
   "metadata": {},
   "outputs": [],
   "source": [
    "bm25 = BM25L(data_preprocess)"
   ]
  },
  {
   "cell_type": "code",
   "execution_count": 28,
   "id": "8615defc",
   "metadata": {},
   "outputs": [],
   "source": [
    "d = time.time()"
   ]
  },
  {
   "cell_type": "code",
   "execution_count": 29,
   "id": "f01920ab",
   "metadata": {},
   "outputs": [
    {
     "name": "stdout",
     "output_type": "stream",
     "text": [
      "Duração indexação: 32.583014\n"
     ]
    }
   ],
   "source": [
    "print(\"Duração indexação: %f\" % (d-a))"
   ]
  },
  {
   "cell_type": "markdown",
   "id": "8412ea3e",
   "metadata": {},
   "source": [
    "### Recall"
   ]
  },
  {
   "cell_type": "code",
   "execution_count": 76,
   "id": "637a76b3",
   "metadata": {},
   "outputs": [
    {
     "name": "stdout",
     "output_type": "stream",
     "text": [
      "Encontrados: 165\n",
      "Total: 295\n",
      "Acurácia 20 docs: 0.559322033898305\n",
      "\n",
      "\n"
     ]
    }
   ],
   "source": [
    "avaliacaoRecall(5)"
   ]
  },
  {
   "cell_type": "code",
   "execution_count": 77,
   "id": "03a6ab4f",
   "metadata": {},
   "outputs": [
    {
     "name": "stdout",
     "output_type": "stream",
     "text": [
      "Encontrados: 183\n",
      "Total: 295\n",
      "Acurácia 20 docs: 0.6203389830508474\n",
      "\n",
      "\n"
     ]
    }
   ],
   "source": [
    "avaliacaoRecall(10)"
   ]
  },
  {
   "cell_type": "code",
   "execution_count": 30,
   "id": "d2b25b17",
   "metadata": {},
   "outputs": [
    {
     "name": "stdout",
     "output_type": "stream",
     "text": [
      "Duração: 100.352020\n",
      "Encontrados: 211\n",
      "Total: 295\n",
      "Acurácia 20 docs: 0.7152542372881356\n",
      "\n",
      "\n"
     ]
    }
   ],
   "source": [
    "avaliacaoRecall(20)"
   ]
  },
  {
   "cell_type": "markdown",
   "id": "ee976059",
   "metadata": {},
   "source": [
    "### Precision"
   ]
  },
  {
   "cell_type": "code",
   "execution_count": 79,
   "id": "f9cf4420",
   "metadata": {},
   "outputs": [
    {
     "name": "stdout",
     "output_type": "stream",
     "text": [
      "Precision: 0.111864\n"
     ]
    }
   ],
   "source": [
    "avaliacaoPrecision(5)"
   ]
  },
  {
   "cell_type": "code",
   "execution_count": 80,
   "id": "566d6e6f",
   "metadata": {},
   "outputs": [
    {
     "name": "stdout",
     "output_type": "stream",
     "text": [
      "Precision: 0.062034\n"
     ]
    }
   ],
   "source": [
    "avaliacaoPrecision(10)"
   ]
  },
  {
   "cell_type": "code",
   "execution_count": 81,
   "id": "9362ed88",
   "metadata": {},
   "outputs": [
    {
     "name": "stdout",
     "output_type": "stream",
     "text": [
      "Precision: 0.033220\n"
     ]
    }
   ],
   "source": [
    "avaliacaoPrecision(20)"
   ]
  },
  {
   "cell_type": "markdown",
   "id": "ab6b7656",
   "metadata": {},
   "source": [
    "### MAP"
   ]
  },
  {
   "cell_type": "code",
   "execution_count": 82,
   "id": "493659d3",
   "metadata": {},
   "outputs": [
    {
     "name": "stdout",
     "output_type": "stream",
     "text": [
      "MAP: 0.004413\n"
     ]
    }
   ],
   "source": [
    "avaliacaoMAP(5)"
   ]
  },
  {
   "cell_type": "code",
   "execution_count": 83,
   "id": "9fcd827d",
   "metadata": {},
   "outputs": [
    {
     "name": "stdout",
     "output_type": "stream",
     "text": [
      "MAP: 0.002800\n"
     ]
    }
   ],
   "source": [
    "avaliacaoMAP(10)"
   ]
  },
  {
   "cell_type": "code",
   "execution_count": 84,
   "id": "e16b916a",
   "metadata": {},
   "outputs": [
    {
     "name": "stdout",
     "output_type": "stream",
     "text": [
      "MAP: 0.001726\n"
     ]
    }
   ],
   "source": [
    "avaliacaoMAP(20)"
   ]
  },
  {
   "cell_type": "markdown",
   "id": "3e8021a6",
   "metadata": {},
   "source": [
    "### RR"
   ]
  },
  {
   "cell_type": "code",
   "execution_count": 85,
   "id": "2d55f454",
   "metadata": {},
   "outputs": [
    {
     "name": "stdout",
     "output_type": "stream",
     "text": [
      "RR: 0.376271\n"
     ]
    }
   ],
   "source": [
    "avaliacaoRR(5)"
   ]
  },
  {
   "cell_type": "code",
   "execution_count": 86,
   "id": "cd15209f",
   "metadata": {},
   "outputs": [],
   "source": [
    "data_preprocess = None"
   ]
  },
  {
   "cell_type": "markdown",
   "id": "4e5a8ae4",
   "metadata": {},
   "source": [
    "### 8 lowercase + punctuation, acetuation, and stopword removal + stemming (RSLP)"
   ]
  },
  {
   "cell_type": "code",
   "execution_count": 31,
   "id": "690407ec",
   "metadata": {},
   "outputs": [],
   "source": [
    "def _remove_acentos(txt):\n",
    "    return normalize('NFKD', txt).encode('ASCII', 'ignore').decode('ASCII')\n",
    "\n",
    "def preprocess(txt):\n",
    "    txt = str(txt)\n",
    "    txt = _remove_acentos(txt)\n",
    "    stopwords = nltk.corpus.stopwords.words(\"portuguese\")\n",
    "    stopwords.extend(list(punctuation))\n",
    "\n",
    "    stemmer = RSLPStemmer()\n",
    "    tokenizer = RegexpTokenizer('\\w+')\n",
    "    terms = tokenizer.tokenize(txt.lower())\n",
    "    terms = [stemmer.stem(word) for word in terms if word not in stopwords]\n",
    "        \n",
    "    return terms"
   ]
  },
  {
   "cell_type": "code",
   "execution_count": 32,
   "id": "d6ced4cc",
   "metadata": {},
   "outputs": [],
   "source": [
    "data_preprocess = Parallel(n_jobs=4)(delayed(preprocess)(doc) for doc in data)"
   ]
  },
  {
   "cell_type": "code",
   "execution_count": 33,
   "id": "b8cb54c0",
   "metadata": {},
   "outputs": [],
   "source": [
    "a = time.time()"
   ]
  },
  {
   "cell_type": "code",
   "execution_count": 34,
   "id": "aee67eda",
   "metadata": {},
   "outputs": [],
   "source": [
    "bm25 = BM25L(data_preprocess)"
   ]
  },
  {
   "cell_type": "code",
   "execution_count": 35,
   "id": "ad158da0",
   "metadata": {},
   "outputs": [],
   "source": [
    "d = time.time()"
   ]
  },
  {
   "cell_type": "code",
   "execution_count": 36,
   "id": "f7736d71",
   "metadata": {},
   "outputs": [
    {
     "name": "stdout",
     "output_type": "stream",
     "text": [
      "Duração indexação: 30.989005\n"
     ]
    }
   ],
   "source": [
    "print(\"Duração indexação: %f\" % (d-a))"
   ]
  },
  {
   "cell_type": "markdown",
   "id": "a15532a2",
   "metadata": {},
   "source": [
    "### Recall"
   ]
  },
  {
   "cell_type": "code",
   "execution_count": 62,
   "id": "5348019c",
   "metadata": {},
   "outputs": [
    {
     "name": "stdout",
     "output_type": "stream",
     "text": [
      "Encontrados: 164\n",
      "Total: 295\n",
      "Acurácia 20 docs: 0.5559322033898305\n",
      "\n",
      "\n"
     ]
    }
   ],
   "source": [
    "avaliacaoRecall(5)"
   ]
  },
  {
   "cell_type": "code",
   "execution_count": 63,
   "id": "e632d281",
   "metadata": {},
   "outputs": [
    {
     "name": "stdout",
     "output_type": "stream",
     "text": [
      "Encontrados: 184\n",
      "Total: 295\n",
      "Acurácia 20 docs: 0.6237288135593221\n",
      "\n",
      "\n"
     ]
    }
   ],
   "source": [
    "avaliacaoRecall(10)"
   ]
  },
  {
   "cell_type": "code",
   "execution_count": 37,
   "id": "5bbb36db",
   "metadata": {},
   "outputs": [
    {
     "name": "stdout",
     "output_type": "stream",
     "text": [
      "Duração: 112.342522\n",
      "Encontrados: 213\n",
      "Total: 295\n",
      "Acurácia 20 docs: 0.7220338983050848\n",
      "\n",
      "\n"
     ]
    }
   ],
   "source": [
    "avaliacaoRecall(20)"
   ]
  },
  {
   "cell_type": "markdown",
   "id": "04b9c924",
   "metadata": {},
   "source": [
    "### Precision"
   ]
  },
  {
   "cell_type": "code",
   "execution_count": 65,
   "id": "1b076515",
   "metadata": {},
   "outputs": [
    {
     "name": "stdout",
     "output_type": "stream",
     "text": [
      "Precision: 0.111186\n"
     ]
    }
   ],
   "source": [
    "avaliacaoPrecision(5)"
   ]
  },
  {
   "cell_type": "code",
   "execution_count": 66,
   "id": "dc4183d7",
   "metadata": {},
   "outputs": [
    {
     "name": "stdout",
     "output_type": "stream",
     "text": [
      "Precision: 0.062373\n"
     ]
    }
   ],
   "source": [
    "avaliacaoPrecision(10)"
   ]
  },
  {
   "cell_type": "code",
   "execution_count": 67,
   "id": "25e9cc8a",
   "metadata": {},
   "outputs": [
    {
     "name": "stdout",
     "output_type": "stream",
     "text": [
      "Precision: 0.034068\n"
     ]
    }
   ],
   "source": [
    "avaliacaoPrecision(20)"
   ]
  },
  {
   "cell_type": "markdown",
   "id": "c7b8bd5d",
   "metadata": {},
   "source": [
    "### MAP"
   ]
  },
  {
   "cell_type": "code",
   "execution_count": 68,
   "id": "87625ae2",
   "metadata": {},
   "outputs": [
    {
     "name": "stdout",
     "output_type": "stream",
     "text": [
      "MAP: 0.002945\n"
     ]
    }
   ],
   "source": [
    "avaliacaoMAP(5)"
   ]
  },
  {
   "cell_type": "code",
   "execution_count": 69,
   "id": "13e492dd",
   "metadata": {},
   "outputs": [
    {
     "name": "stdout",
     "output_type": "stream",
     "text": [
      "MAP: 0.002539\n"
     ]
    }
   ],
   "source": [
    "avaliacaoMAP(10)"
   ]
  },
  {
   "cell_type": "code",
   "execution_count": 70,
   "id": "00ef899a",
   "metadata": {},
   "outputs": [
    {
     "name": "stdout",
     "output_type": "stream",
     "text": [
      "MAP: 0.001766\n"
     ]
    }
   ],
   "source": [
    "avaliacaoMAP(20)"
   ]
  },
  {
   "cell_type": "markdown",
   "id": "cd589082",
   "metadata": {},
   "source": [
    "### RR"
   ]
  },
  {
   "cell_type": "code",
   "execution_count": 71,
   "id": "0ba1bad5",
   "metadata": {},
   "outputs": [
    {
     "name": "stdout",
     "output_type": "stream",
     "text": [
      "RR: 0.376271\n"
     ]
    }
   ],
   "source": [
    "avaliacaoRR(5)"
   ]
  },
  {
   "cell_type": "code",
   "execution_count": 72,
   "id": "68179d46",
   "metadata": {},
   "outputs": [],
   "source": [
    "data_preprocess = None"
   ]
  },
  {
   "cell_type": "markdown",
   "id": "4d8d140a",
   "metadata": {},
   "source": [
    "### 9 lowercase + punctuation, acetuation, and stopword removal + stemming (Savoy)"
   ]
  },
  {
   "cell_type": "code",
   "execution_count": 38,
   "id": "e14f769e",
   "metadata": {},
   "outputs": [],
   "source": [
    "def _remove_acentos(txt):\n",
    "    return normalize('NFKD', txt).encode('ASCII', 'ignore').decode('ASCII')\n",
    "\n",
    "def preprocess(txt):\n",
    "    txt = str(txt)\n",
    "    txt = _remove_acentos(txt)\n",
    "    stopwords = nltk.corpus.stopwords.words(\"portuguese\")\n",
    "    stopwords.extend(list(punctuation))\n",
    "\n",
    "    stemmer = Savoy()\n",
    "    tokenizer = RegexpTokenizer('\\w+')\n",
    "    terms = tokenizer.tokenize(txt.lower())\n",
    "    terms = [stemmer.stem(word) for word in terms if word not in stopwords]\n",
    "        \n",
    "    return terms"
   ]
  },
  {
   "cell_type": "code",
   "execution_count": 39,
   "id": "b4d8c9ad",
   "metadata": {},
   "outputs": [],
   "source": [
    "data_preprocess = Parallel(n_jobs=8)(delayed(preprocess)(doc) for doc in data)"
   ]
  },
  {
   "cell_type": "code",
   "execution_count": 40,
   "id": "daaa62b7",
   "metadata": {},
   "outputs": [],
   "source": [
    "a = time.time()"
   ]
  },
  {
   "cell_type": "code",
   "execution_count": 41,
   "id": "67c7bdd7",
   "metadata": {},
   "outputs": [],
   "source": [
    "bm25 = BM25L(data_preprocess)"
   ]
  },
  {
   "cell_type": "code",
   "execution_count": 42,
   "id": "7481eb7c",
   "metadata": {},
   "outputs": [],
   "source": [
    "d = time.time()"
   ]
  },
  {
   "cell_type": "code",
   "execution_count": 43,
   "id": "2cdf985a",
   "metadata": {},
   "outputs": [
    {
     "name": "stdout",
     "output_type": "stream",
     "text": [
      "Duração indexação: 38.028011\n"
     ]
    }
   ],
   "source": [
    "print(\"Duração indexação: %f\" % (d-a))"
   ]
  },
  {
   "cell_type": "markdown",
   "id": "c274dc21",
   "metadata": {},
   "source": [
    "### Recall"
   ]
  },
  {
   "cell_type": "code",
   "execution_count": 48,
   "id": "f4c7be8c",
   "metadata": {},
   "outputs": [
    {
     "name": "stdout",
     "output_type": "stream",
     "text": [
      "Encontrados: 169\n",
      "Total: 295\n",
      "Acurácia 20 docs: 0.5728813559322034\n",
      "\n",
      "\n"
     ]
    }
   ],
   "source": [
    "avaliacaoRecall(5)"
   ]
  },
  {
   "cell_type": "code",
   "execution_count": 49,
   "id": "f4b7f68a",
   "metadata": {},
   "outputs": [
    {
     "name": "stdout",
     "output_type": "stream",
     "text": [
      "Encontrados: 180\n",
      "Total: 295\n",
      "Acurácia 20 docs: 0.6101694915254238\n",
      "\n",
      "\n"
     ]
    }
   ],
   "source": [
    "avaliacaoRecall(10)"
   ]
  },
  {
   "cell_type": "code",
   "execution_count": 44,
   "id": "cc1cd751",
   "metadata": {},
   "outputs": [
    {
     "name": "stdout",
     "output_type": "stream",
     "text": [
      "Duração: 111.536998\n",
      "Encontrados: 213\n",
      "Total: 295\n",
      "Acurácia 20 docs: 0.7220338983050848\n",
      "\n",
      "\n"
     ]
    }
   ],
   "source": [
    "avaliacaoRecall(20)"
   ]
  },
  {
   "cell_type": "markdown",
   "id": "5f0de8b8",
   "metadata": {},
   "source": [
    "### Precision"
   ]
  },
  {
   "cell_type": "code",
   "execution_count": 51,
   "id": "a5121bcc",
   "metadata": {},
   "outputs": [
    {
     "name": "stdout",
     "output_type": "stream",
     "text": [
      "Precision: 0.114576\n"
     ]
    }
   ],
   "source": [
    "avaliacaoPrecision(5)"
   ]
  },
  {
   "cell_type": "code",
   "execution_count": 52,
   "id": "6e87441f",
   "metadata": {},
   "outputs": [
    {
     "name": "stdout",
     "output_type": "stream",
     "text": [
      "Precision: 0.061017\n"
     ]
    }
   ],
   "source": [
    "avaliacaoPrecision(10)"
   ]
  },
  {
   "cell_type": "code",
   "execution_count": 53,
   "id": "f69ca099",
   "metadata": {},
   "outputs": [
    {
     "name": "stdout",
     "output_type": "stream",
     "text": [
      "Precision: 0.033390\n"
     ]
    }
   ],
   "source": [
    "avaliacaoPrecision(20)"
   ]
  },
  {
   "cell_type": "markdown",
   "id": "13209c8f",
   "metadata": {},
   "source": [
    "### MAP"
   ]
  },
  {
   "cell_type": "code",
   "execution_count": 54,
   "id": "ed38c039",
   "metadata": {},
   "outputs": [
    {
     "name": "stdout",
     "output_type": "stream",
     "text": [
      "MAP: 0.003035\n"
     ]
    }
   ],
   "source": [
    "avaliacaoMAP(5)"
   ]
  },
  {
   "cell_type": "code",
   "execution_count": 55,
   "id": "a5dc029b",
   "metadata": {},
   "outputs": [
    {
     "name": "stdout",
     "output_type": "stream",
     "text": [
      "MAP: 0.001963\n"
     ]
    }
   ],
   "source": [
    "avaliacaoMAP(10)"
   ]
  },
  {
   "cell_type": "code",
   "execution_count": 56,
   "id": "8b8ab077",
   "metadata": {},
   "outputs": [
    {
     "name": "stdout",
     "output_type": "stream",
     "text": [
      "MAP: 0.001294\n"
     ]
    }
   ],
   "source": [
    "avaliacaoMAP(20)"
   ]
  },
  {
   "cell_type": "markdown",
   "id": "4934f7a6",
   "metadata": {},
   "source": [
    "### RR"
   ]
  },
  {
   "cell_type": "code",
   "execution_count": 57,
   "id": "9f9559b9",
   "metadata": {},
   "outputs": [
    {
     "name": "stdout",
     "output_type": "stream",
     "text": [
      "RR: 0.376271\n"
     ]
    }
   ],
   "source": [
    "avaliacaoRR(5)"
   ]
  },
  {
   "cell_type": "code",
   "execution_count": 58,
   "id": "15c481e3",
   "metadata": {},
   "outputs": [],
   "source": [
    "data_preprocess = None"
   ]
  },
  {
   "cell_type": "markdown",
   "id": "c0a23da9",
   "metadata": {},
   "source": [
    "### 18 lowercase + punctuation, acetuation, and stopword removal + stemming (RSLP) + unigram and bigram "
   ]
  },
  {
   "cell_type": "code",
   "execution_count": 45,
   "id": "b3231844",
   "metadata": {},
   "outputs": [],
   "source": [
    "def _remove_acentos(txt):\n",
    "    return normalize('NFKD', txt).encode('ASCII', 'ignore').decode('ASCII')\n",
    "\n",
    "def preprocess(txt):\n",
    "    txt = str(txt)\n",
    "    txt = _remove_acentos(txt)\n",
    "    stopwords = nltk.corpus.stopwords.words(\"portuguese\")\n",
    "    stopwords.extend(list(punctuation))\n",
    "\n",
    "    stemmer = RSLPStemmer()\n",
    "    tokenizer = RegexpTokenizer('\\w+')\n",
    "    terms = tokenizer.tokenize(txt.lower())\n",
    "    terms = [stemmer.stem(word) for word in terms if word not in stopwords]\n",
    "    \n",
    "    ngram = []\n",
    "    ngram_1 = list(ngrams(terms, 1))\n",
    "    ngram_2 = list(ngrams(terms, 2))\n",
    "    for w in ngram_1:\n",
    "        ngram.append(w[0])\n",
    "        \n",
    "    for w in ngram_2:\n",
    "        string = w[0] + \" \" + w[1]\n",
    "        ngram.append(string)\n",
    "    \n",
    "    return ngram\n"
   ]
  },
  {
   "cell_type": "code",
   "execution_count": 46,
   "id": "44acdcd6",
   "metadata": {},
   "outputs": [],
   "source": [
    "data_preprocess = Parallel(n_jobs=8)(delayed(preprocess)(doc) for doc in data)"
   ]
  },
  {
   "cell_type": "code",
   "execution_count": 47,
   "id": "c1b25439",
   "metadata": {},
   "outputs": [],
   "source": [
    "a = time.time()"
   ]
  },
  {
   "cell_type": "code",
   "execution_count": 48,
   "id": "5aa65b58",
   "metadata": {},
   "outputs": [],
   "source": [
    "bm25 = BM25L(data_preprocess)"
   ]
  },
  {
   "cell_type": "code",
   "execution_count": 49,
   "id": "a43c2c72",
   "metadata": {},
   "outputs": [],
   "source": [
    "d = time.time()"
   ]
  },
  {
   "cell_type": "code",
   "execution_count": 50,
   "id": "301c42a7",
   "metadata": {},
   "outputs": [
    {
     "name": "stdout",
     "output_type": "stream",
     "text": [
      "Duração indexação: 96.374999\n"
     ]
    }
   ],
   "source": [
    "print(\"Duração indexação: %f\" % (d-a))"
   ]
  },
  {
   "cell_type": "markdown",
   "id": "20dd5b1a",
   "metadata": {},
   "source": [
    "### Recall"
   ]
  },
  {
   "cell_type": "code",
   "execution_count": 34,
   "id": "af261f50",
   "metadata": {},
   "outputs": [
    {
     "name": "stdout",
     "output_type": "stream",
     "text": [
      "Encontrados: 168\n",
      "Total: 295\n",
      "Acurácia 20 docs: 0.5694915254237288\n",
      "\n",
      "\n"
     ]
    }
   ],
   "source": [
    "avaliacaoRecall(5)"
   ]
  },
  {
   "cell_type": "code",
   "execution_count": 35,
   "id": "a6435f78",
   "metadata": {},
   "outputs": [
    {
     "name": "stdout",
     "output_type": "stream",
     "text": [
      "Encontrados: 180\n",
      "Total: 295\n",
      "Acurácia 20 docs: 0.6101694915254238\n",
      "\n",
      "\n"
     ]
    }
   ],
   "source": [
    "avaliacaoRecall(10)"
   ]
  },
  {
   "cell_type": "code",
   "execution_count": 51,
   "id": "237595c9",
   "metadata": {},
   "outputs": [
    {
     "name": "stdout",
     "output_type": "stream",
     "text": [
      "Duração: 132.835017\n",
      "Encontrados: 217\n",
      "Total: 295\n",
      "Acurácia 20 docs: 0.735593220338983\n",
      "\n",
      "\n"
     ]
    }
   ],
   "source": [
    "avaliacaoRecall(20)"
   ]
  },
  {
   "cell_type": "markdown",
   "id": "fdc8b666",
   "metadata": {},
   "source": [
    "### Precision"
   ]
  },
  {
   "cell_type": "code",
   "execution_count": 37,
   "id": "e36cc3f3",
   "metadata": {},
   "outputs": [
    {
     "name": "stdout",
     "output_type": "stream",
     "text": [
      "Precision: 0.113898\n"
     ]
    }
   ],
   "source": [
    "avaliacaoPrecision(5)"
   ]
  },
  {
   "cell_type": "code",
   "execution_count": 38,
   "id": "88c1c276",
   "metadata": {},
   "outputs": [
    {
     "name": "stdout",
     "output_type": "stream",
     "text": [
      "Precision: 0.061017\n"
     ]
    }
   ],
   "source": [
    "avaliacaoPrecision(10)"
   ]
  },
  {
   "cell_type": "code",
   "execution_count": 39,
   "id": "fa54715b",
   "metadata": {},
   "outputs": [
    {
     "name": "stdout",
     "output_type": "stream",
     "text": [
      "Precision: 0.033559\n"
     ]
    }
   ],
   "source": [
    "avaliacaoPrecision(20)"
   ]
  },
  {
   "cell_type": "markdown",
   "id": "fda80426",
   "metadata": {},
   "source": [
    "### MAP"
   ]
  },
  {
   "cell_type": "code",
   "execution_count": 40,
   "id": "d71e971f",
   "metadata": {},
   "outputs": [
    {
     "name": "stdout",
     "output_type": "stream",
     "text": [
      "MAP: 0.003007\n"
     ]
    }
   ],
   "source": [
    "avaliacaoMAP(5)"
   ]
  },
  {
   "cell_type": "code",
   "execution_count": 41,
   "id": "9618a321",
   "metadata": {},
   "outputs": [
    {
     "name": "stdout",
     "output_type": "stream",
     "text": [
      "MAP: 0.001748\n"
     ]
    }
   ],
   "source": [
    "avaliacaoMAP(10)"
   ]
  },
  {
   "cell_type": "code",
   "execution_count": 42,
   "id": "6f076d1b",
   "metadata": {},
   "outputs": [
    {
     "name": "stdout",
     "output_type": "stream",
     "text": [
      "MAP: 0.001063\n"
     ]
    }
   ],
   "source": [
    "avaliacaoMAP(20)"
   ]
  },
  {
   "cell_type": "markdown",
   "id": "f448eac2",
   "metadata": {},
   "source": [
    "### RR"
   ]
  },
  {
   "cell_type": "code",
   "execution_count": 43,
   "id": "7a44bd10",
   "metadata": {},
   "outputs": [
    {
     "name": "stdout",
     "output_type": "stream",
     "text": [
      "RR: 0.393220\n"
     ]
    }
   ],
   "source": [
    "avaliacaoRR(5)"
   ]
  },
  {
   "cell_type": "code",
   "execution_count": 44,
   "id": "67c48dc2",
   "metadata": {},
   "outputs": [],
   "source": [
    "data_preprocess = None"
   ]
  },
  {
   "cell_type": "markdown",
   "id": "c7ab750b",
   "metadata": {},
   "source": [
    "### 21 lowercase + punctuation, acetuation, and stopword removal + stemming (Savoy) + unigram and bigram"
   ]
  },
  {
   "cell_type": "code",
   "execution_count": 16,
   "id": "b6235962",
   "metadata": {},
   "outputs": [],
   "source": [
    "def _remove_acentos(txt):\n",
    "    return normalize('NFKD', txt).encode('ASCII', 'ignore').decode('ASCII')\n",
    "\n",
    "def preprocess(txt):\n",
    "    txt = str(txt)\n",
    "    txt = _remove_acentos(txt)\n",
    "    stopwords = nltk.corpus.stopwords.words(\"portuguese\")\n",
    "    stopwords.extend(list(punctuation))\n",
    "    stemmer = Savoy()\n",
    "    tokenizer = RegexpTokenizer('\\w+')\n",
    "    terms = tokenizer.tokenize(txt.lower())\n",
    "    terms = [stemmer.stem(word) for word in terms if word not in stopwords]\n",
    "    \n",
    "    ngram = []\n",
    "    ngram_1 = list(ngrams(terms, 1))\n",
    "    ngram_2 = list(ngrams(terms, 2))\n",
    "    for w in ngram_1:\n",
    "        ngram.append(w[0])\n",
    "        \n",
    "    for w in ngram_2:\n",
    "        string = w[0] + \" \" + w[1]\n",
    "        ngram.append(string)\n",
    "    \n",
    "    return ngram"
   ]
  },
  {
   "cell_type": "code",
   "execution_count": 17,
   "id": "64ec12e3",
   "metadata": {},
   "outputs": [],
   "source": [
    "data_preprocess = Parallel(n_jobs=8)(delayed(preprocess)(doc) for doc in data)"
   ]
  },
  {
   "cell_type": "code",
   "execution_count": 18,
   "id": "458da6af",
   "metadata": {},
   "outputs": [],
   "source": [
    "a = time.time()"
   ]
  },
  {
   "cell_type": "code",
   "execution_count": 19,
   "id": "e4952c3f",
   "metadata": {},
   "outputs": [],
   "source": [
    "bm25 = BM25L(data_preprocess)"
   ]
  },
  {
   "cell_type": "code",
   "execution_count": 20,
   "id": "f80f57e8",
   "metadata": {},
   "outputs": [],
   "source": [
    "d = time.time()"
   ]
  },
  {
   "cell_type": "code",
   "execution_count": 21,
   "id": "c52359ee",
   "metadata": {},
   "outputs": [
    {
     "name": "stdout",
     "output_type": "stream",
     "text": [
      "Duração indexação: 116.526019\n"
     ]
    }
   ],
   "source": [
    "print(\"Duração indexação: %f\" % (d-a))"
   ]
  },
  {
   "cell_type": "markdown",
   "id": "1e87f135",
   "metadata": {},
   "source": [
    "### Recall"
   ]
  },
  {
   "cell_type": "code",
   "execution_count": 21,
   "id": "c43e48c1",
   "metadata": {},
   "outputs": [
    {
     "name": "stdout",
     "output_type": "stream",
     "text": [
      "Encontrados: 169\n",
      "Total: 295\n",
      "Acurácia 20 docs: 0.5728813559322034\n",
      "\n",
      "\n"
     ]
    }
   ],
   "source": [
    "avaliacaoRecall(5)"
   ]
  },
  {
   "cell_type": "code",
   "execution_count": 22,
   "id": "d7a0cb55",
   "metadata": {},
   "outputs": [
    {
     "name": "stdout",
     "output_type": "stream",
     "text": [
      "Encontrados: 184\n",
      "Total: 295\n",
      "Acurácia 20 docs: 0.6237288135593221\n",
      "\n",
      "\n"
     ]
    }
   ],
   "source": [
    "avaliacaoRecall(10)"
   ]
  },
  {
   "cell_type": "code",
   "execution_count": 22,
   "id": "e3309999",
   "metadata": {},
   "outputs": [
    {
     "name": "stdout",
     "output_type": "stream",
     "text": [
      "Duração: 133.527922\n",
      "Encontrados: 211\n",
      "Total: 295\n",
      "Acurácia 20 docs: 0.7152542372881356\n",
      "\n",
      "\n"
     ]
    }
   ],
   "source": [
    "avaliacaoRecall(20)"
   ]
  },
  {
   "cell_type": "markdown",
   "id": "28ed7a25",
   "metadata": {},
   "source": [
    "### Precision"
   ]
  },
  {
   "cell_type": "code",
   "execution_count": 24,
   "id": "72f43153",
   "metadata": {},
   "outputs": [
    {
     "name": "stdout",
     "output_type": "stream",
     "text": [
      "Precision: 0.114576\n"
     ]
    }
   ],
   "source": [
    "avaliacaoPrecision(5)"
   ]
  },
  {
   "cell_type": "code",
   "execution_count": 25,
   "id": "a74f219b",
   "metadata": {},
   "outputs": [
    {
     "name": "stdout",
     "output_type": "stream",
     "text": [
      "Precision: 0.062373\n"
     ]
    }
   ],
   "source": [
    "avaliacaoPrecision(10)"
   ]
  },
  {
   "cell_type": "code",
   "execution_count": 26,
   "id": "53362328",
   "metadata": {},
   "outputs": [
    {
     "name": "stdout",
     "output_type": "stream",
     "text": [
      "Precision: 0.033559\n"
     ]
    }
   ],
   "source": [
    "avaliacaoPrecision(20)"
   ]
  },
  {
   "cell_type": "markdown",
   "id": "b8a41aeb",
   "metadata": {},
   "source": [
    "### MAP"
   ]
  },
  {
   "cell_type": "code",
   "execution_count": 27,
   "id": "b8af6cc7",
   "metadata": {},
   "outputs": [
    {
     "name": "stdout",
     "output_type": "stream",
     "text": [
      "MAP: 0.002960\n"
     ]
    }
   ],
   "source": [
    "avaliacaoMAP(5)"
   ]
  },
  {
   "cell_type": "code",
   "execution_count": 28,
   "id": "6bf80aa2",
   "metadata": {},
   "outputs": [
    {
     "name": "stdout",
     "output_type": "stream",
     "text": [
      "MAP: 0.002001\n"
     ]
    }
   ],
   "source": [
    "avaliacaoMAP(10)"
   ]
  },
  {
   "cell_type": "code",
   "execution_count": 29,
   "id": "7776b0bd",
   "metadata": {},
   "outputs": [
    {
     "name": "stdout",
     "output_type": "stream",
     "text": [
      "MAP: 0.001084\n"
     ]
    }
   ],
   "source": [
    "avaliacaoMAP(20)"
   ]
  },
  {
   "cell_type": "markdown",
   "id": "7a63178d",
   "metadata": {},
   "source": [
    "### RR"
   ]
  },
  {
   "cell_type": "code",
   "execution_count": 30,
   "id": "8b5fe79f",
   "metadata": {},
   "outputs": [
    {
     "name": "stdout",
     "output_type": "stream",
     "text": [
      "RR: 0.389831\n"
     ]
    }
   ],
   "source": [
    "avaliacaoRR(5)"
   ]
  },
  {
   "cell_type": "markdown",
   "id": "9b5727d6",
   "metadata": {},
   "source": [
    "### 22 lowercase + punctuation, acetuation, and stopword removal + stemming (RSLP_S)"
   ]
  },
  {
   "cell_type": "code",
   "execution_count": 59,
   "id": "0015347b",
   "metadata": {},
   "outputs": [],
   "source": [
    "def _remove_acentos(txt):\n",
    "    return normalize('NFKD', txt).encode('ASCII', 'ignore').decode('ASCII')\n",
    "\n",
    "def preprocess(txt):\n",
    "    txt = str(txt)\n",
    "    txt = _remove_acentos(txt)\n",
    "    stopwords = nltk.corpus.stopwords.words(\"portuguese\")\n",
    "    stopwords.extend(list(punctuation))\n",
    "\n",
    "    stemmer = RSLP_S()\n",
    "    tokenizer = RegexpTokenizer('\\w+')\n",
    "    terms = tokenizer.tokenize(txt.lower())\n",
    "    terms = [stemmer.stem(word) for word in terms if word not in stopwords]\n",
    "        \n",
    "    return terms"
   ]
  },
  {
   "cell_type": "code",
   "execution_count": 60,
   "id": "e385dbae",
   "metadata": {},
   "outputs": [],
   "source": [
    "data_preprocess = [preprocess(doc) for doc in data]"
   ]
  },
  {
   "cell_type": "code",
   "execution_count": 61,
   "id": "5e98c028",
   "metadata": {},
   "outputs": [],
   "source": [
    "a = time.time()"
   ]
  },
  {
   "cell_type": "code",
   "execution_count": 62,
   "id": "a7297cf4",
   "metadata": {},
   "outputs": [],
   "source": [
    "bm25 = BM25L(data_preprocess)"
   ]
  },
  {
   "cell_type": "code",
   "execution_count": 63,
   "id": "28acd48b",
   "metadata": {},
   "outputs": [],
   "source": [
    "d = time.time()"
   ]
  },
  {
   "cell_type": "code",
   "execution_count": 64,
   "id": "ba110c0b",
   "metadata": {},
   "outputs": [
    {
     "name": "stdout",
     "output_type": "stream",
     "text": [
      "Duração indexação: 34.496997\n"
     ]
    }
   ],
   "source": [
    "print(\"Duração indexação: %f\" % (d-a))"
   ]
  },
  {
   "cell_type": "markdown",
   "id": "23dcf1ec",
   "metadata": {},
   "source": [
    "### Recall"
   ]
  },
  {
   "cell_type": "code",
   "execution_count": 132,
   "id": "be216581",
   "metadata": {},
   "outputs": [
    {
     "name": "stdout",
     "output_type": "stream",
     "text": [
      "Encontrados: 164\n",
      "Total: 295\n",
      "Acurácia 20 docs: 0.5559322033898305\n",
      "\n",
      "\n"
     ]
    }
   ],
   "source": [
    "avaliacaoRecall(5)"
   ]
  },
  {
   "cell_type": "code",
   "execution_count": 133,
   "id": "f0bf429e",
   "metadata": {},
   "outputs": [
    {
     "name": "stdout",
     "output_type": "stream",
     "text": [
      "Encontrados: 178\n",
      "Total: 295\n",
      "Acurácia 20 docs: 0.6033898305084746\n",
      "\n",
      "\n"
     ]
    }
   ],
   "source": [
    "avaliacaoRecall(10)"
   ]
  },
  {
   "cell_type": "code",
   "execution_count": 65,
   "id": "7d6949fe",
   "metadata": {},
   "outputs": [
    {
     "name": "stdout",
     "output_type": "stream",
     "text": [
      "Duração: 108.213991\n",
      "Encontrados: 208\n",
      "Total: 295\n",
      "Acurácia 20 docs: 0.7050847457627119\n",
      "\n",
      "\n"
     ]
    }
   ],
   "source": [
    "avaliacaoRecall(20)"
   ]
  },
  {
   "cell_type": "markdown",
   "id": "9790bd0a",
   "metadata": {},
   "source": [
    "### Precision"
   ]
  },
  {
   "cell_type": "code",
   "execution_count": 135,
   "id": "3c1b4bd3",
   "metadata": {},
   "outputs": [
    {
     "name": "stdout",
     "output_type": "stream",
     "text": [
      "Precision: 0.111186\n"
     ]
    }
   ],
   "source": [
    "avaliacaoPrecision(5)"
   ]
  },
  {
   "cell_type": "code",
   "execution_count": 136,
   "id": "a0e6e395",
   "metadata": {},
   "outputs": [
    {
     "name": "stdout",
     "output_type": "stream",
     "text": [
      "Precision: 0.060339\n"
     ]
    }
   ],
   "source": [
    "avaliacaoPrecision(10)"
   ]
  },
  {
   "cell_type": "code",
   "execution_count": 137,
   "id": "b4911e6c",
   "metadata": {},
   "outputs": [
    {
     "name": "stdout",
     "output_type": "stream",
     "text": [
      "Precision: 0.032712\n"
     ]
    }
   ],
   "source": [
    "avaliacaoPrecision(20)"
   ]
  },
  {
   "cell_type": "markdown",
   "id": "ef980aac",
   "metadata": {},
   "source": [
    "### MAP"
   ]
  },
  {
   "cell_type": "code",
   "execution_count": 138,
   "id": "9c352449",
   "metadata": {},
   "outputs": [
    {
     "name": "stdout",
     "output_type": "stream",
     "text": [
      "MAP: 0.002970\n"
     ]
    }
   ],
   "source": [
    "avaliacaoMAP(5)"
   ]
  },
  {
   "cell_type": "code",
   "execution_count": 139,
   "id": "b59b32a7",
   "metadata": {},
   "outputs": [
    {
     "name": "stdout",
     "output_type": "stream",
     "text": [
      "MAP: 0.001884\n"
     ]
    }
   ],
   "source": [
    "avaliacaoMAP(10)"
   ]
  },
  {
   "cell_type": "code",
   "execution_count": 140,
   "id": "53dbffad",
   "metadata": {},
   "outputs": [
    {
     "name": "stdout",
     "output_type": "stream",
     "text": [
      "MAP: 0.001251\n"
     ]
    }
   ],
   "source": [
    "avaliacaoMAP(20)"
   ]
  },
  {
   "cell_type": "markdown",
   "id": "cc110c6a",
   "metadata": {},
   "source": [
    "### RR"
   ]
  },
  {
   "cell_type": "code",
   "execution_count": 141,
   "id": "79a1b167",
   "metadata": {},
   "outputs": [
    {
     "name": "stdout",
     "output_type": "stream",
     "text": [
      "RR: 0.372881\n"
     ]
    }
   ],
   "source": [
    "avaliacaoRR(5)"
   ]
  },
  {
   "cell_type": "code",
   "execution_count": 62,
   "id": "af288953",
   "metadata": {},
   "outputs": [],
   "source": [
    "data_preprocess = None"
   ]
  },
  {
   "cell_type": "markdown",
   "id": "6892757d",
   "metadata": {},
   "source": [
    "### 23 lowercase + punctuation, acetuation, and stopword removal + stemming (RSLP) + unigram and bigram "
   ]
  },
  {
   "cell_type": "code",
   "execution_count": 66,
   "id": "7e0e716a",
   "metadata": {},
   "outputs": [],
   "source": [
    "def _remove_acentos(txt):\n",
    "    return normalize('NFKD', txt).encode('ASCII', 'ignore').decode('ASCII')\n",
    "\n",
    "def preprocess(txt):\n",
    "    txt = str(txt)\n",
    "    txt = _remove_acentos(txt)\n",
    "    stopwords = nltk.corpus.stopwords.words(\"portuguese\")\n",
    "    stopwords.extend(list(punctuation))\n",
    "\n",
    "    stemmer = RSLP_S()\n",
    "    tokenizer = RegexpTokenizer('\\w+')\n",
    "    terms = tokenizer.tokenize(txt.lower())\n",
    "    terms = [stemmer.stem(word) for word in terms if word not in stopwords]\n",
    "    \n",
    "    ngram = []\n",
    "    ngram_1 = list(ngrams(terms, 1))\n",
    "    ngram_2 = list(ngrams(terms, 2))\n",
    "    for w in ngram_1:\n",
    "        ngram.append(w[0])\n",
    "        \n",
    "    for w in ngram_2:\n",
    "        string = w[0] + \" \" + w[1]\n",
    "        ngram.append(string)\n",
    "    \n",
    "    return ngram\n"
   ]
  },
  {
   "cell_type": "code",
   "execution_count": 67,
   "id": "ce7069a4",
   "metadata": {},
   "outputs": [],
   "source": [
    "data_preprocess = [preprocess(doc) for doc in data]"
   ]
  },
  {
   "cell_type": "code",
   "execution_count": 68,
   "id": "d8205fb6",
   "metadata": {},
   "outputs": [],
   "source": [
    "a = time.time()"
   ]
  },
  {
   "cell_type": "code",
   "execution_count": 69,
   "id": "d2ddcb29",
   "metadata": {},
   "outputs": [],
   "source": [
    "bm25 = BM25L(data_preprocess)"
   ]
  },
  {
   "cell_type": "code",
   "execution_count": 70,
   "id": "300e830b",
   "metadata": {},
   "outputs": [],
   "source": [
    "d = time.time()"
   ]
  },
  {
   "cell_type": "code",
   "execution_count": 71,
   "id": "af859be6",
   "metadata": {},
   "outputs": [
    {
     "name": "stdout",
     "output_type": "stream",
     "text": [
      "Duração indexação: 106.779001\n"
     ]
    }
   ],
   "source": [
    "print(\"Duração indexação: %f\" % (d-a))"
   ]
  },
  {
   "cell_type": "markdown",
   "id": "39cb69d9",
   "metadata": {},
   "source": [
    "### Recall"
   ]
  },
  {
   "cell_type": "code",
   "execution_count": 146,
   "id": "850c6d5c",
   "metadata": {},
   "outputs": [
    {
     "name": "stdout",
     "output_type": "stream",
     "text": [
      "Encontrados: 164\n",
      "Total: 295\n",
      "Acurácia 20 docs: 0.5559322033898305\n",
      "\n",
      "\n"
     ]
    }
   ],
   "source": [
    "avaliacaoRecall(5)"
   ]
  },
  {
   "cell_type": "code",
   "execution_count": 147,
   "id": "3c814cc5",
   "metadata": {},
   "outputs": [
    {
     "name": "stdout",
     "output_type": "stream",
     "text": [
      "Encontrados: 180\n",
      "Total: 295\n",
      "Acurácia 20 docs: 0.6101694915254238\n",
      "\n",
      "\n"
     ]
    }
   ],
   "source": [
    "avaliacaoRecall(10)"
   ]
  },
  {
   "cell_type": "code",
   "execution_count": 72,
   "id": "320e3e3c",
   "metadata": {},
   "outputs": [
    {
     "name": "stdout",
     "output_type": "stream",
     "text": [
      "Duração: 139.398033\n",
      "Encontrados: 207\n",
      "Total: 295\n",
      "Acurácia 20 docs: 0.7016949152542373\n",
      "\n",
      "\n"
     ]
    }
   ],
   "source": [
    "avaliacaoRecall(20)"
   ]
  },
  {
   "cell_type": "markdown",
   "id": "46d2d97d",
   "metadata": {},
   "source": [
    "### Precision"
   ]
  },
  {
   "cell_type": "code",
   "execution_count": 149,
   "id": "3336e6e6",
   "metadata": {},
   "outputs": [
    {
     "name": "stdout",
     "output_type": "stream",
     "text": [
      "Precision: 0.111186\n"
     ]
    }
   ],
   "source": [
    "avaliacaoPrecision(5)"
   ]
  },
  {
   "cell_type": "code",
   "execution_count": 150,
   "id": "47779c51",
   "metadata": {},
   "outputs": [
    {
     "name": "stdout",
     "output_type": "stream",
     "text": [
      "Precision: 0.061017\n"
     ]
    }
   ],
   "source": [
    "avaliacaoPrecision(10)"
   ]
  },
  {
   "cell_type": "code",
   "execution_count": 151,
   "id": "7f0d6feb",
   "metadata": {},
   "outputs": [
    {
     "name": "stdout",
     "output_type": "stream",
     "text": [
      "Precision: 0.032881\n"
     ]
    }
   ],
   "source": [
    "avaliacaoPrecision(20)"
   ]
  },
  {
   "cell_type": "markdown",
   "id": "40bd5e60",
   "metadata": {},
   "source": [
    "### MAP"
   ]
  },
  {
   "cell_type": "code",
   "execution_count": 152,
   "id": "20b69906",
   "metadata": {},
   "outputs": [
    {
     "name": "stdout",
     "output_type": "stream",
     "text": [
      "MAP: 0.002778\n"
     ]
    }
   ],
   "source": [
    "avaliacaoMAP(5)"
   ]
  },
  {
   "cell_type": "code",
   "execution_count": 153,
   "id": "5acffabc",
   "metadata": {},
   "outputs": [
    {
     "name": "stdout",
     "output_type": "stream",
     "text": [
      "MAP: 0.001897\n"
     ]
    }
   ],
   "source": [
    "avaliacaoMAP(10)"
   ]
  },
  {
   "cell_type": "code",
   "execution_count": 154,
   "id": "0ee2fc33",
   "metadata": {},
   "outputs": [
    {
     "name": "stdout",
     "output_type": "stream",
     "text": [
      "MAP: 0.001022\n"
     ]
    }
   ],
   "source": [
    "avaliacaoMAP(20)"
   ]
  },
  {
   "cell_type": "markdown",
   "id": "034c3fac",
   "metadata": {},
   "source": [
    "### RR"
   ]
  },
  {
   "cell_type": "code",
   "execution_count": 155,
   "id": "d13b3927",
   "metadata": {},
   "outputs": [
    {
     "name": "stdout",
     "output_type": "stream",
     "text": [
      "RR: 0.389831\n"
     ]
    }
   ],
   "source": [
    "avaliacaoRR(5)"
   ]
  },
  {
   "cell_type": "code",
   "execution_count": 73,
   "id": "749f9e65",
   "metadata": {},
   "outputs": [],
   "source": [
    "data_preprocess = None"
   ]
  },
  {
   "cell_type": "markdown",
   "id": "e86ae554",
   "metadata": {},
   "source": [
    "# Emenda"
   ]
  },
  {
   "cell_type": "code",
   "execution_count": 74,
   "id": "79c94ff5",
   "metadata": {},
   "outputs": [],
   "source": [
    "data = base.txtEmenta.dropna()        # Trocar com nome da coluna desejada\n",
    "data = data.to_numpy()"
   ]
  },
  {
   "cell_type": "code",
   "execution_count": 75,
   "id": "da48cd22",
   "metadata": {},
   "outputs": [],
   "source": [
    "def get_name(base, doc):\n",
    "    return str(base[base.txtEmenta==doc].txtNome.to_numpy()[0]).strip()"
   ]
  },
  {
   "cell_type": "code",
   "execution_count": 72,
   "id": "45a1fb41",
   "metadata": {},
   "outputs": [],
   "source": [
    "def avaliacaoRR(top_k=20):\n",
    "    primeira_posicao=0\n",
    "    \n",
    "    for l,x in zip(y,X):\n",
    "        tokenized_query3 = preprocess(x)                   \n",
    "     \n",
    "        top_n_stem_l = bm25.get_top_n(tokenized_query3,data, n=top_k)\n",
    "        labelsnsL = [get_name(base,d) for d in top_n_stem_l]\n",
    "        if str(labelsnsL[0]).strip() == l.strip():\n",
    "            primeira_posicao+=1\n",
    "    rr = primeira_posicao / 295\n",
    "    print(\"RR: %f\" % (rr))"
   ]
  },
  {
   "cell_type": "code",
   "execution_count": 22,
   "id": "66ee8f1c",
   "metadata": {},
   "outputs": [],
   "source": [
    "def avaliacaoMAP(top_k=20):\n",
    "    \n",
    "    l_v = list()\n",
    "    labels_nsL = list()\n",
    "    for l,x in zip(y,X):\n",
    "        tokenized_query3 = preprocess(x)                   \n",
    "        top_n_stem_l = bm25.get_top_n(tokenized_query3,data, n=top_k)\n",
    "        labelsnsL = [get_name(base,d) for d in top_n_stem_l] \n",
    "        \n",
    "        l_v.append(l)\n",
    "        labels_nsL.append(labelsnsL)\n",
    "    \n",
    "    denominador = 0\n",
    "    \n",
    "    encontrou=False\n",
    "    soma=0\n",
    "    for Y,x in zip(l_v,labels_nsL):\n",
    "        calc = 0\n",
    "        quant=0\n",
    "        for k in x:\n",
    "            if str(k).strip() == Y.strip():\n",
    "                quant=1\n",
    "                encontrou=True\n",
    "            denominador+=1\n",
    "            calc=quant/denominador\n",
    "            if encontrou:\n",
    "                calc = calc * 1\n",
    "            else:\n",
    "                calc = calc * 0\n",
    "            soma+=calc\n",
    "            encontrou = False\n",
    "    MAP = soma /295\n",
    "    print(\"MAP: %f\" % (MAP))            "
   ]
  },
  {
   "cell_type": "code",
   "execution_count": 23,
   "id": "342e7efa",
   "metadata": {},
   "outputs": [],
   "source": [
    "def avaliacaoPrecision(top_k=20):\n",
    "    l_v = list()\n",
    "    labels_nsL = list()\n",
    "    for l,x in zip(y,X):\n",
    "        tokenized_query3 = preprocess(x)                   \n",
    "        top_n_stem_l = bm25.get_top_n(tokenized_query3,data, n=top_k)\n",
    "        labelsnsL = [get_name(base,d) for d in top_n_stem_l] \n",
    "        \n",
    "        l_v.append(l)\n",
    "        labels_nsL.append(labelsnsL)\n",
    "    \n",
    "    soma=0\n",
    "    for Y,x in zip(l_v,labels_nsL):\n",
    "        calc = 0\n",
    "        for k in x:\n",
    "            if str(k).strip() == Y.strip():\n",
    "                calc=1\n",
    "                break\n",
    "        calc=calc/top_k\n",
    "        soma+=calc\n",
    "    precision = soma /295\n",
    "    print(\"Precision: %f\" % (precision))"
   ]
  },
  {
   "cell_type": "code",
   "execution_count": 24,
   "id": "5a848886",
   "metadata": {},
   "outputs": [],
   "source": [
    "def avaliacaoRecall(top_k=20):\n",
    "\n",
    "    labels_nsL = list()\n",
    "\n",
    "\n",
    "    l_v = list()\n",
    "    for l,x in zip(y,X):\n",
    "\n",
    "        tokenized_query3 = preprocess(x)                   \n",
    "     \n",
    "        top_n_stem_l = bm25.get_top_n(tokenized_query3,data, n=top_k)\n",
    "        \n",
    "   \n",
    "        labelsnsL = [get_name(base,d) for d in top_n_stem_l]              #L\n",
    " \n",
    "        labels_nsL.append(labelsnsL)    #L\n",
    "        \n",
    "    \n",
    "        l_v.append(l)\n",
    "        \n",
    "    \n",
    "    res_nsL = list()                #Stopwords + Acentuação + Stemming + Unigram + Bigram (L)\n",
    "\n",
    "\n",
    "    for k in range(1, top_k+1):\n",
    "\n",
    "\n",
    "        resultsnsL = list()         #Stopwords + Acentuação + Stemming + Unigram + Bigram (L)\n",
    "\n",
    "\n",
    "        for i in range(len(l_v)):\n",
    "\n",
    "\n",
    "            if (l_v[i] in labels_nsL[i][:k]):\n",
    "                resultsnsL.append(1)\n",
    "            else:\n",
    "                resultsnsL.append(0)\n",
    "\n",
    "       \n",
    "        res_nsL.append(sum(resultsnsL)/len(resultsnsL))\n",
    "    print(f\"Encontrados: {sum(resultsnsL)}\")\n",
    "    print(f\"Total: {len(arr_assunto)}\")\n",
    "#     print(f\"Acurácia 10 docs: {res_nsL[9]}\")\n",
    "    print(f\"Acurácia 20 docs: {res_nsL[-1]}\\n\\n\")"
   ]
  },
  {
   "cell_type": "markdown",
   "id": "d39e864b",
   "metadata": {},
   "source": [
    "# basic preprocessing"
   ]
  },
  {
   "cell_type": "markdown",
   "id": "3c816533",
   "metadata": {},
   "source": [
    "### 1 no preprocessing"
   ]
  },
  {
   "cell_type": "code",
   "execution_count": 76,
   "id": "d622ac0a",
   "metadata": {},
   "outputs": [],
   "source": [
    "def preprocess(txt):\n",
    "    txt =  str(txt)\n",
    "    terms = word_tokenize(txt)\n",
    "    \n",
    "    return terms"
   ]
  },
  {
   "cell_type": "code",
   "execution_count": 77,
   "id": "34cdfd2b",
   "metadata": {},
   "outputs": [],
   "source": [
    "data_preprocess = [preprocess(doc) for doc in data]"
   ]
  },
  {
   "cell_type": "code",
   "execution_count": 78,
   "id": "ac9c5809",
   "metadata": {},
   "outputs": [],
   "source": [
    "a = time.time()"
   ]
  },
  {
   "cell_type": "code",
   "execution_count": 79,
   "id": "9fafcbdd",
   "metadata": {},
   "outputs": [],
   "source": [
    "bm25 = BM25L(data_preprocess)"
   ]
  },
  {
   "cell_type": "code",
   "execution_count": 80,
   "id": "b7355575",
   "metadata": {},
   "outputs": [],
   "source": [
    "d = time.time()"
   ]
  },
  {
   "cell_type": "code",
   "execution_count": 81,
   "id": "2c87ca2f",
   "metadata": {},
   "outputs": [
    {
     "name": "stdout",
     "output_type": "stream",
     "text": [
      "Duração indexação: 5.655980\n"
     ]
    }
   ],
   "source": [
    "print(\"Duração indexação: %f\" % (d-a))"
   ]
  },
  {
   "cell_type": "markdown",
   "id": "45c0ad8d",
   "metadata": {},
   "source": [
    "### Recall"
   ]
  },
  {
   "cell_type": "code",
   "execution_count": 30,
   "id": "a68ca0f9",
   "metadata": {},
   "outputs": [
    {
     "name": "stdout",
     "output_type": "stream",
     "text": [
      "Encontrados: 86\n",
      "Total: 295\n",
      "Acurácia 20 docs: 0.29152542372881357\n",
      "\n",
      "\n"
     ]
    }
   ],
   "source": [
    "avaliacaoRecall(5)"
   ]
  },
  {
   "cell_type": "code",
   "execution_count": 31,
   "id": "b685e14a",
   "metadata": {},
   "outputs": [
    {
     "name": "stdout",
     "output_type": "stream",
     "text": [
      "Encontrados: 95\n",
      "Total: 295\n",
      "Acurácia 20 docs: 0.3220338983050847\n",
      "\n",
      "\n"
     ]
    }
   ],
   "source": [
    "avaliacaoRecall(10)"
   ]
  },
  {
   "cell_type": "code",
   "execution_count": 82,
   "id": "8ef28971",
   "metadata": {},
   "outputs": [
    {
     "name": "stdout",
     "output_type": "stream",
     "text": [
      "Duração: 130.274996\n",
      "Encontrados: 116\n",
      "Total: 295\n",
      "Acurácia 20 docs: 0.39322033898305087\n",
      "\n",
      "\n"
     ]
    }
   ],
   "source": [
    "avaliacaoRecall(20)"
   ]
  },
  {
   "cell_type": "markdown",
   "id": "5c9029f9",
   "metadata": {},
   "source": [
    "### Precision"
   ]
  },
  {
   "cell_type": "code",
   "execution_count": 33,
   "id": "4248e0e9",
   "metadata": {},
   "outputs": [
    {
     "name": "stdout",
     "output_type": "stream",
     "text": [
      "Precision: 0.058305\n"
     ]
    }
   ],
   "source": [
    "avaliacaoPrecision(5)"
   ]
  },
  {
   "cell_type": "code",
   "execution_count": 34,
   "id": "50e27bf3",
   "metadata": {},
   "outputs": [
    {
     "name": "stdout",
     "output_type": "stream",
     "text": [
      "Precision: 0.032203\n"
     ]
    }
   ],
   "source": [
    "avaliacaoPrecision(10)"
   ]
  },
  {
   "cell_type": "code",
   "execution_count": 35,
   "id": "bee9f300",
   "metadata": {},
   "outputs": [
    {
     "name": "stdout",
     "output_type": "stream",
     "text": [
      "Precision: 0.017966\n"
     ]
    }
   ],
   "source": [
    "avaliacaoPrecision(20)"
   ]
  },
  {
   "cell_type": "markdown",
   "id": "a2c04def",
   "metadata": {},
   "source": [
    "### MAP"
   ]
  },
  {
   "cell_type": "code",
   "execution_count": 36,
   "id": "022e9232",
   "metadata": {},
   "outputs": [
    {
     "name": "stdout",
     "output_type": "stream",
     "text": [
      "MAP: 0.001960\n"
     ]
    }
   ],
   "source": [
    "avaliacaoMAP(5)"
   ]
  },
  {
   "cell_type": "code",
   "execution_count": 37,
   "id": "86b1d213",
   "metadata": {},
   "outputs": [
    {
     "name": "stdout",
     "output_type": "stream",
     "text": [
      "MAP: 0.001133\n"
     ]
    }
   ],
   "source": [
    "avaliacaoMAP(10)"
   ]
  },
  {
   "cell_type": "code",
   "execution_count": 38,
   "id": "10c423e9",
   "metadata": {},
   "outputs": [
    {
     "name": "stdout",
     "output_type": "stream",
     "text": [
      "MAP: 0.000614\n"
     ]
    }
   ],
   "source": [
    "avaliacaoMAP(20)"
   ]
  },
  {
   "cell_type": "markdown",
   "id": "db6e0c16",
   "metadata": {},
   "source": [
    "### RR"
   ]
  },
  {
   "cell_type": "code",
   "execution_count": 40,
   "id": "93c6d6da",
   "metadata": {},
   "outputs": [
    {
     "name": "stdout",
     "output_type": "stream",
     "text": [
      "RR: 0.200000\n"
     ]
    }
   ],
   "source": [
    "avaliacaoRR(5)"
   ]
  },
  {
   "cell_type": "code",
   "execution_count": 83,
   "id": "0cd18462",
   "metadata": {},
   "outputs": [],
   "source": [
    "data_preprocess = None"
   ]
  },
  {
   "cell_type": "markdown",
   "id": "30b0dc45",
   "metadata": {},
   "source": [
    "### 5 lowercase + punctuation, acetuation, and stopword removal"
   ]
  },
  {
   "cell_type": "code",
   "execution_count": 84,
   "id": "02482f0a",
   "metadata": {},
   "outputs": [],
   "source": [
    "def _remove_acentos(txt):\n",
    "    return normalize('NFKD', txt).encode('ASCII', 'ignore').decode('ASCII')\n",
    "\n",
    "def preprocess(txt):\n",
    "    txt = str(txt)\n",
    "    txt = _remove_acentos(txt)\n",
    "    stopwords = nltk.corpus.stopwords.words(\"portuguese\")\n",
    "    stopwords.extend(list(punctuation))\n",
    "    tokenizer = RegexpTokenizer('\\w+')\n",
    "    terms = tokenizer.tokenize(txt.lower())\n",
    "    terms = [word for word in terms if word not in stopwords]\n",
    "\n",
    "    return terms"
   ]
  },
  {
   "cell_type": "code",
   "execution_count": 85,
   "id": "e9617ba2",
   "metadata": {},
   "outputs": [],
   "source": [
    "data_preprocess = [preprocess(doc) for doc in data]"
   ]
  },
  {
   "cell_type": "code",
   "execution_count": 86,
   "id": "928d536a",
   "metadata": {},
   "outputs": [],
   "source": [
    "a = time.time()"
   ]
  },
  {
   "cell_type": "code",
   "execution_count": 87,
   "id": "76780ee2",
   "metadata": {},
   "outputs": [],
   "source": [
    "bm25 = BM25L(data_preprocess)"
   ]
  },
  {
   "cell_type": "code",
   "execution_count": 88,
   "id": "7c01ecd5",
   "metadata": {},
   "outputs": [],
   "source": [
    "d = time.time()"
   ]
  },
  {
   "cell_type": "code",
   "execution_count": 89,
   "id": "2853f19d",
   "metadata": {},
   "outputs": [
    {
     "name": "stdout",
     "output_type": "stream",
     "text": [
      "Duração indexação: 1.163001\n"
     ]
    }
   ],
   "source": [
    "print(\"Duração indexação: %f\" % (d-a))"
   ]
  },
  {
   "cell_type": "markdown",
   "id": "1aadf202",
   "metadata": {},
   "source": [
    "### Recall"
   ]
  },
  {
   "cell_type": "code",
   "execution_count": 46,
   "id": "54ff2270",
   "metadata": {},
   "outputs": [
    {
     "name": "stdout",
     "output_type": "stream",
     "text": [
      "Encontrados: 110\n",
      "Total: 295\n",
      "Acurácia 20 docs: 0.3728813559322034\n",
      "\n",
      "\n"
     ]
    }
   ],
   "source": [
    "avaliacaoRecall(5)"
   ]
  },
  {
   "cell_type": "code",
   "execution_count": 47,
   "id": "4aac9485",
   "metadata": {},
   "outputs": [
    {
     "name": "stdout",
     "output_type": "stream",
     "text": [
      "Encontrados: 122\n",
      "Total: 295\n",
      "Acurácia 20 docs: 0.4135593220338983\n",
      "\n",
      "\n"
     ]
    }
   ],
   "source": [
    "avaliacaoRecall(10)"
   ]
  },
  {
   "cell_type": "code",
   "execution_count": 90,
   "id": "e5edbd80",
   "metadata": {},
   "outputs": [
    {
     "name": "stdout",
     "output_type": "stream",
     "text": [
      "Duração: 80.026951\n",
      "Encontrados: 139\n",
      "Total: 295\n",
      "Acurácia 20 docs: 0.4711864406779661\n",
      "\n",
      "\n"
     ]
    }
   ],
   "source": [
    "avaliacaoRecall(20)"
   ]
  },
  {
   "cell_type": "markdown",
   "id": "ae509aff",
   "metadata": {},
   "source": [
    "### Precision"
   ]
  },
  {
   "cell_type": "code",
   "execution_count": 49,
   "id": "a4c13f8a",
   "metadata": {},
   "outputs": [
    {
     "name": "stdout",
     "output_type": "stream",
     "text": [
      "Precision: 0.074576\n"
     ]
    }
   ],
   "source": [
    "avaliacaoPrecision(5)"
   ]
  },
  {
   "cell_type": "code",
   "execution_count": 50,
   "id": "a46d548e",
   "metadata": {},
   "outputs": [
    {
     "name": "stdout",
     "output_type": "stream",
     "text": [
      "Precision: 0.041356\n"
     ]
    }
   ],
   "source": [
    "avaliacaoPrecision(10)"
   ]
  },
  {
   "cell_type": "code",
   "execution_count": 51,
   "id": "dc055fed",
   "metadata": {},
   "outputs": [
    {
     "name": "stdout",
     "output_type": "stream",
     "text": [
      "Precision: 0.022373\n"
     ]
    }
   ],
   "source": [
    "avaliacaoPrecision(20)"
   ]
  },
  {
   "cell_type": "markdown",
   "id": "494ecd15",
   "metadata": {},
   "source": [
    "### MAP"
   ]
  },
  {
   "cell_type": "code",
   "execution_count": 52,
   "id": "2c1ace17",
   "metadata": {},
   "outputs": [
    {
     "name": "stdout",
     "output_type": "stream",
     "text": [
      "MAP: 0.002433\n"
     ]
    }
   ],
   "source": [
    "avaliacaoMAP(5)"
   ]
  },
  {
   "cell_type": "code",
   "execution_count": 53,
   "id": "3148a9f4",
   "metadata": {},
   "outputs": [
    {
     "name": "stdout",
     "output_type": "stream",
     "text": [
      "MAP: 0.001301\n"
     ]
    }
   ],
   "source": [
    "avaliacaoMAP(10)"
   ]
  },
  {
   "cell_type": "code",
   "execution_count": 54,
   "id": "08b63384",
   "metadata": {},
   "outputs": [
    {
     "name": "stdout",
     "output_type": "stream",
     "text": [
      "MAP: 0.000704\n"
     ]
    }
   ],
   "source": [
    "avaliacaoMAP(20)"
   ]
  },
  {
   "cell_type": "markdown",
   "id": "5a9985c3",
   "metadata": {},
   "source": [
    "### RR"
   ]
  },
  {
   "cell_type": "code",
   "execution_count": 55,
   "id": "53be648e",
   "metadata": {},
   "outputs": [
    {
     "name": "stdout",
     "output_type": "stream",
     "text": [
      "RR: 0.237288\n"
     ]
    }
   ],
   "source": [
    "avaliacaoRR(5)"
   ]
  },
  {
   "cell_type": "code",
   "execution_count": 85,
   "id": "d75567d8",
   "metadata": {},
   "outputs": [],
   "source": [
    "data_preprocess = None"
   ]
  },
  {
   "cell_type": "markdown",
   "id": "77f19d42",
   "metadata": {},
   "source": [
    "### 8 lowercase + punctuation, acetuation, and stopword removal + stemming (RSLP)"
   ]
  },
  {
   "cell_type": "code",
   "execution_count": 91,
   "id": "2f1b1a62",
   "metadata": {},
   "outputs": [],
   "source": [
    "def _remove_acentos(txt):\n",
    "    return normalize('NFKD', txt).encode('ASCII', 'ignore').decode('ASCII')\n",
    "\n",
    "def preprocess(txt):\n",
    "    txt = str(txt)\n",
    "    txt = _remove_acentos(txt)\n",
    "    stopwords = nltk.corpus.stopwords.words(\"portuguese\")\n",
    "    stopwords.extend(list(punctuation))\n",
    "\n",
    "    stemmer = RSLPStemmer()\n",
    "    tokenizer = RegexpTokenizer('\\w+')\n",
    "    terms = tokenizer.tokenize(txt.lower())\n",
    "    terms = [stemmer.stem(word) for word in terms if word not in stopwords]\n",
    "        \n",
    "    return terms"
   ]
  },
  {
   "cell_type": "code",
   "execution_count": 92,
   "id": "f0831fce",
   "metadata": {},
   "outputs": [],
   "source": [
    "data_preprocess = [preprocess(doc) for doc in data]"
   ]
  },
  {
   "cell_type": "code",
   "execution_count": 93,
   "id": "240fe3d0",
   "metadata": {},
   "outputs": [],
   "source": [
    "a = time.time()"
   ]
  },
  {
   "cell_type": "code",
   "execution_count": 94,
   "id": "5115662a",
   "metadata": {},
   "outputs": [],
   "source": [
    "bm25 = BM25L(data_preprocess)"
   ]
  },
  {
   "cell_type": "code",
   "execution_count": 95,
   "id": "e02e2bd0",
   "metadata": {},
   "outputs": [],
   "source": [
    "d = time.time()"
   ]
  },
  {
   "cell_type": "code",
   "execution_count": 96,
   "id": "29020d1f",
   "metadata": {},
   "outputs": [
    {
     "name": "stdout",
     "output_type": "stream",
     "text": [
      "Duração indexação: 1.079230\n"
     ]
    }
   ],
   "source": [
    "print(\"Duração indexação: %f\" % (d-a))"
   ]
  },
  {
   "cell_type": "markdown",
   "id": "3f01b5f5",
   "metadata": {},
   "source": [
    "### Recall"
   ]
  },
  {
   "cell_type": "code",
   "execution_count": 62,
   "id": "5bf2c5b8",
   "metadata": {},
   "outputs": [
    {
     "name": "stdout",
     "output_type": "stream",
     "text": [
      "Encontrados: 120\n",
      "Total: 295\n",
      "Acurácia 20 docs: 0.4067796610169492\n",
      "\n",
      "\n"
     ]
    }
   ],
   "source": [
    "avaliacaoRecall(5)"
   ]
  },
  {
   "cell_type": "code",
   "execution_count": 63,
   "id": "c385743d",
   "metadata": {},
   "outputs": [
    {
     "name": "stdout",
     "output_type": "stream",
     "text": [
      "Encontrados: 134\n",
      "Total: 295\n",
      "Acurácia 20 docs: 0.4542372881355932\n",
      "\n",
      "\n"
     ]
    }
   ],
   "source": [
    "avaliacaoRecall(10)"
   ]
  },
  {
   "cell_type": "code",
   "execution_count": 97,
   "id": "f0e19b79",
   "metadata": {},
   "outputs": [
    {
     "name": "stdout",
     "output_type": "stream",
     "text": [
      "Duração: 81.812033\n",
      "Encontrados: 151\n",
      "Total: 295\n",
      "Acurácia 20 docs: 0.511864406779661\n",
      "\n",
      "\n"
     ]
    }
   ],
   "source": [
    "avaliacaoRecall(20)"
   ]
  },
  {
   "cell_type": "markdown",
   "id": "292b0d31",
   "metadata": {},
   "source": [
    "### Precision"
   ]
  },
  {
   "cell_type": "code",
   "execution_count": 65,
   "id": "0b3b60b9",
   "metadata": {},
   "outputs": [
    {
     "name": "stdout",
     "output_type": "stream",
     "text": [
      "Precision: 0.081356\n"
     ]
    }
   ],
   "source": [
    "avaliacaoPrecision(5)"
   ]
  },
  {
   "cell_type": "code",
   "execution_count": 66,
   "id": "863cf5a0",
   "metadata": {},
   "outputs": [
    {
     "name": "stdout",
     "output_type": "stream",
     "text": [
      "Precision: 0.045424\n"
     ]
    }
   ],
   "source": [
    "avaliacaoPrecision(10)"
   ]
  },
  {
   "cell_type": "code",
   "execution_count": 67,
   "id": "73647b6f",
   "metadata": {},
   "outputs": [
    {
     "name": "stdout",
     "output_type": "stream",
     "text": [
      "Precision: 0.024746\n"
     ]
    }
   ],
   "source": [
    "avaliacaoPrecision(20)"
   ]
  },
  {
   "cell_type": "markdown",
   "id": "6958d48c",
   "metadata": {},
   "source": [
    "### MAP"
   ]
  },
  {
   "cell_type": "code",
   "execution_count": 68,
   "id": "448e584f",
   "metadata": {},
   "outputs": [
    {
     "name": "stdout",
     "output_type": "stream",
     "text": [
      "MAP: 0.002689\n"
     ]
    }
   ],
   "source": [
    "avaliacaoMAP(5)"
   ]
  },
  {
   "cell_type": "code",
   "execution_count": 69,
   "id": "f7e2bee3",
   "metadata": {},
   "outputs": [
    {
     "name": "stdout",
     "output_type": "stream",
     "text": [
      "MAP: 0.001449\n"
     ]
    }
   ],
   "source": [
    "avaliacaoMAP(10)"
   ]
  },
  {
   "cell_type": "code",
   "execution_count": 70,
   "id": "e6a3f006",
   "metadata": {},
   "outputs": [
    {
     "name": "stdout",
     "output_type": "stream",
     "text": [
      "MAP: 0.000786\n"
     ]
    }
   ],
   "source": [
    "avaliacaoMAP(20)"
   ]
  },
  {
   "cell_type": "markdown",
   "id": "def1f5d1",
   "metadata": {},
   "source": [
    "### RR"
   ]
  },
  {
   "cell_type": "code",
   "execution_count": 71,
   "id": "dae82e76",
   "metadata": {},
   "outputs": [
    {
     "name": "stdout",
     "output_type": "stream",
     "text": [
      "RR: 0.244068\n"
     ]
    }
   ],
   "source": [
    "avaliacaoRR(5)"
   ]
  },
  {
   "cell_type": "code",
   "execution_count": 98,
   "id": "48a95e41",
   "metadata": {},
   "outputs": [],
   "source": [
    "data_preprocess = None"
   ]
  },
  {
   "cell_type": "markdown",
   "id": "f449ff78",
   "metadata": {},
   "source": [
    "### 9 lowercase + punctuation, acetuation, and stopword removal + stemming (Savoy)"
   ]
  },
  {
   "cell_type": "code",
   "execution_count": 99,
   "id": "ee6b6614",
   "metadata": {},
   "outputs": [],
   "source": [
    "def _remove_acentos(txt):\n",
    "    return normalize('NFKD', txt).encode('ASCII', 'ignore').decode('ASCII')\n",
    "\n",
    "def preprocess(txt):\n",
    "    txt = str(txt)\n",
    "    txt = _remove_acentos(txt)\n",
    "    stopwords = nltk.corpus.stopwords.words(\"portuguese\")\n",
    "    stopwords.extend(list(punctuation))\n",
    "\n",
    "    stemmer = Savoy()\n",
    "    tokenizer = RegexpTokenizer('\\w+')\n",
    "    terms = tokenizer.tokenize(txt.lower())\n",
    "    terms = [stemmer.stem(word) for word in terms if word not in stopwords]\n",
    "        \n",
    "    return terms"
   ]
  },
  {
   "cell_type": "code",
   "execution_count": 100,
   "id": "407ac85a",
   "metadata": {},
   "outputs": [],
   "source": [
    "data_preprocess = [preprocess(doc) for doc in data]"
   ]
  },
  {
   "cell_type": "code",
   "execution_count": 101,
   "id": "da26557a",
   "metadata": {},
   "outputs": [],
   "source": [
    "a = time.time()"
   ]
  },
  {
   "cell_type": "code",
   "execution_count": 102,
   "id": "bb5eb4db",
   "metadata": {},
   "outputs": [],
   "source": [
    "bm25 = BM25L(data_preprocess)"
   ]
  },
  {
   "cell_type": "code",
   "execution_count": 103,
   "id": "d8e4afad",
   "metadata": {},
   "outputs": [],
   "source": [
    "d = time.time()"
   ]
  },
  {
   "cell_type": "code",
   "execution_count": 104,
   "id": "964834dd",
   "metadata": {},
   "outputs": [
    {
     "name": "stdout",
     "output_type": "stream",
     "text": [
      "Duração indexação: 1.075005\n"
     ]
    }
   ],
   "source": [
    "print(\"Duração indexação: %f\" % (d-a))"
   ]
  },
  {
   "cell_type": "markdown",
   "id": "05495de0",
   "metadata": {},
   "source": [
    "### Recall"
   ]
  },
  {
   "cell_type": "code",
   "execution_count": 78,
   "id": "11b1e1c3",
   "metadata": {},
   "outputs": [
    {
     "name": "stdout",
     "output_type": "stream",
     "text": [
      "Encontrados: 121\n",
      "Total: 295\n",
      "Acurácia 20 docs: 0.4101694915254237\n",
      "\n",
      "\n"
     ]
    }
   ],
   "source": [
    "avaliacaoRecall(5)"
   ]
  },
  {
   "cell_type": "code",
   "execution_count": 79,
   "id": "d88f0269",
   "metadata": {},
   "outputs": [
    {
     "name": "stdout",
     "output_type": "stream",
     "text": [
      "Encontrados: 133\n",
      "Total: 295\n",
      "Acurácia 20 docs: 0.45084745762711864\n",
      "\n",
      "\n"
     ]
    }
   ],
   "source": [
    "avaliacaoRecall(10)"
   ]
  },
  {
   "cell_type": "code",
   "execution_count": 105,
   "id": "02555d4d",
   "metadata": {},
   "outputs": [
    {
     "name": "stdout",
     "output_type": "stream",
     "text": [
      "Duração: 82.225000\n",
      "Encontrados: 151\n",
      "Total: 295\n",
      "Acurácia 20 docs: 0.511864406779661\n",
      "\n",
      "\n"
     ]
    }
   ],
   "source": [
    "avaliacaoRecall(20)"
   ]
  },
  {
   "cell_type": "markdown",
   "id": "a438cf56",
   "metadata": {},
   "source": [
    "### Precision"
   ]
  },
  {
   "cell_type": "code",
   "execution_count": 81,
   "id": "4acd7d25",
   "metadata": {},
   "outputs": [
    {
     "name": "stdout",
     "output_type": "stream",
     "text": [
      "Precision: 0.082034\n"
     ]
    }
   ],
   "source": [
    "avaliacaoPrecision(5)"
   ]
  },
  {
   "cell_type": "code",
   "execution_count": 82,
   "id": "d0e823f5",
   "metadata": {},
   "outputs": [
    {
     "name": "stdout",
     "output_type": "stream",
     "text": [
      "Precision: 0.045085\n"
     ]
    }
   ],
   "source": [
    "avaliacaoPrecision(10)"
   ]
  },
  {
   "cell_type": "code",
   "execution_count": 83,
   "id": "4dc30f82",
   "metadata": {},
   "outputs": [
    {
     "name": "stdout",
     "output_type": "stream",
     "text": [
      "Precision: 0.024576\n"
     ]
    }
   ],
   "source": [
    "avaliacaoPrecision(20)"
   ]
  },
  {
   "cell_type": "markdown",
   "id": "ba616136",
   "metadata": {},
   "source": [
    "### MAP"
   ]
  },
  {
   "cell_type": "code",
   "execution_count": 84,
   "id": "fe493a2a",
   "metadata": {},
   "outputs": [
    {
     "name": "stdout",
     "output_type": "stream",
     "text": [
      "MAP: 0.002659\n"
     ]
    }
   ],
   "source": [
    "avaliacaoMAP(5)"
   ]
  },
  {
   "cell_type": "code",
   "execution_count": 85,
   "id": "5c2db241",
   "metadata": {},
   "outputs": [
    {
     "name": "stdout",
     "output_type": "stream",
     "text": [
      "MAP: 0.001446\n"
     ]
    }
   ],
   "source": [
    "avaliacaoMAP(10)"
   ]
  },
  {
   "cell_type": "code",
   "execution_count": 86,
   "id": "734fb7ab",
   "metadata": {},
   "outputs": [
    {
     "name": "stdout",
     "output_type": "stream",
     "text": [
      "MAP: 0.000772\n"
     ]
    }
   ],
   "source": [
    "avaliacaoMAP(20)"
   ]
  },
  {
   "cell_type": "markdown",
   "id": "22f8a030",
   "metadata": {},
   "source": [
    "### RR"
   ]
  },
  {
   "cell_type": "code",
   "execution_count": 87,
   "id": "2d69b970",
   "metadata": {},
   "outputs": [
    {
     "name": "stdout",
     "output_type": "stream",
     "text": [
      "RR: 0.254237\n"
     ]
    }
   ],
   "source": [
    "avaliacaoRR(5)"
   ]
  },
  {
   "cell_type": "code",
   "execution_count": 98,
   "id": "a4d79eea",
   "metadata": {},
   "outputs": [],
   "source": [
    "data_preprocess = None"
   ]
  },
  {
   "cell_type": "markdown",
   "id": "4e402238",
   "metadata": {},
   "source": [
    "### 18 lowercase + punctuation, acetuation, and stopword removal + stemming (RSLP) + unigram and bigram "
   ]
  },
  {
   "cell_type": "code",
   "execution_count": 106,
   "id": "b5555dbd",
   "metadata": {},
   "outputs": [],
   "source": [
    "def _remove_acentos(txt):\n",
    "    return normalize('NFKD', txt).encode('ASCII', 'ignore').decode('ASCII')\n",
    "\n",
    "def preprocess(txt):\n",
    "    txt = str(txt)\n",
    "    txt = _remove_acentos(txt)\n",
    "    stopwords = nltk.corpus.stopwords.words(\"portuguese\")\n",
    "    stopwords.extend(list(punctuation))\n",
    "\n",
    "    stemmer = RSLPStemmer()\n",
    "    tokenizer = RegexpTokenizer('\\w+')\n",
    "    terms = tokenizer.tokenize(txt.lower())\n",
    "    terms = [stemmer.stem(word) for word in terms if word not in stopwords]\n",
    "    \n",
    "    ngram = []\n",
    "    ngram_1 = list(ngrams(terms, 1))\n",
    "    ngram_2 = list(ngrams(terms, 2))\n",
    "    for w in ngram_1:\n",
    "        ngram.append(w[0])\n",
    "        \n",
    "    for w in ngram_2:\n",
    "        string = w[0] + \" \" + w[1]\n",
    "        ngram.append(string)\n",
    "    \n",
    "    return ngram\n"
   ]
  },
  {
   "cell_type": "code",
   "execution_count": 107,
   "id": "9bfea855",
   "metadata": {},
   "outputs": [],
   "source": [
    "data_preprocess = [preprocess(doc) for doc in data]"
   ]
  },
  {
   "cell_type": "code",
   "execution_count": 108,
   "id": "dec83f98",
   "metadata": {},
   "outputs": [],
   "source": [
    "a = time.time()"
   ]
  },
  {
   "cell_type": "code",
   "execution_count": 109,
   "id": "2c1f7249",
   "metadata": {},
   "outputs": [],
   "source": [
    "bm25 = BM25L(data_preprocess)"
   ]
  },
  {
   "cell_type": "code",
   "execution_count": 110,
   "id": "dbfacea8",
   "metadata": {},
   "outputs": [],
   "source": [
    "d = time.time()"
   ]
  },
  {
   "cell_type": "code",
   "execution_count": 111,
   "id": "0b4fa178",
   "metadata": {},
   "outputs": [
    {
     "name": "stdout",
     "output_type": "stream",
     "text": [
      "Duração indexação: 2.639907\n"
     ]
    }
   ],
   "source": [
    "print(\"Duração indexação: %f\" % (d-a))"
   ]
  },
  {
   "cell_type": "markdown",
   "id": "6dc2130d",
   "metadata": {},
   "source": [
    "### Recall"
   ]
  },
  {
   "cell_type": "code",
   "execution_count": 94,
   "id": "15cefe8a",
   "metadata": {},
   "outputs": [
    {
     "name": "stdout",
     "output_type": "stream",
     "text": [
      "Encontrados: 120\n",
      "Total: 295\n",
      "Acurácia 20 docs: 0.4067796610169492\n",
      "\n",
      "\n"
     ]
    }
   ],
   "source": [
    "avaliacaoRecall(5)"
   ]
  },
  {
   "cell_type": "code",
   "execution_count": 95,
   "id": "a1f81886",
   "metadata": {},
   "outputs": [
    {
     "name": "stdout",
     "output_type": "stream",
     "text": [
      "Encontrados: 135\n",
      "Total: 295\n",
      "Acurácia 20 docs: 0.4576271186440678\n",
      "\n",
      "\n"
     ]
    }
   ],
   "source": [
    "avaliacaoRecall(10)"
   ]
  },
  {
   "cell_type": "code",
   "execution_count": 112,
   "id": "effd8432",
   "metadata": {},
   "outputs": [
    {
     "name": "stdout",
     "output_type": "stream",
     "text": [
      "Duração: 106.037029\n",
      "Encontrados: 150\n",
      "Total: 295\n",
      "Acurácia 20 docs: 0.5084745762711864\n",
      "\n",
      "\n"
     ]
    }
   ],
   "source": [
    "avaliacaoRecall(20)"
   ]
  },
  {
   "cell_type": "markdown",
   "id": "2aeea5f6",
   "metadata": {},
   "source": [
    "### Precision"
   ]
  },
  {
   "cell_type": "code",
   "execution_count": 97,
   "id": "815a2c7d",
   "metadata": {},
   "outputs": [
    {
     "name": "stdout",
     "output_type": "stream",
     "text": [
      "Precision: 0.081356\n"
     ]
    }
   ],
   "source": [
    "avaliacaoPrecision(5)"
   ]
  },
  {
   "cell_type": "code",
   "execution_count": 98,
   "id": "ec1572ed",
   "metadata": {},
   "outputs": [
    {
     "name": "stdout",
     "output_type": "stream",
     "text": [
      "Precision: 0.045763\n"
     ]
    }
   ],
   "source": [
    "avaliacaoPrecision(10)"
   ]
  },
  {
   "cell_type": "code",
   "execution_count": 99,
   "id": "89c7c8a5",
   "metadata": {},
   "outputs": [
    {
     "name": "stdout",
     "output_type": "stream",
     "text": [
      "Precision: 0.025085\n"
     ]
    }
   ],
   "source": [
    "avaliacaoPrecision(20)"
   ]
  },
  {
   "cell_type": "markdown",
   "id": "e83bbbd8",
   "metadata": {},
   "source": [
    "### MAP"
   ]
  },
  {
   "cell_type": "code",
   "execution_count": 100,
   "id": "b0e51989",
   "metadata": {},
   "outputs": [
    {
     "name": "stdout",
     "output_type": "stream",
     "text": [
      "MAP: 0.002609\n"
     ]
    }
   ],
   "source": [
    "avaliacaoMAP(5)"
   ]
  },
  {
   "cell_type": "code",
   "execution_count": 101,
   "id": "dcd5b7f0",
   "metadata": {},
   "outputs": [
    {
     "name": "stdout",
     "output_type": "stream",
     "text": [
      "MAP: 0.001431\n"
     ]
    }
   ],
   "source": [
    "avaliacaoMAP(10)"
   ]
  },
  {
   "cell_type": "code",
   "execution_count": 102,
   "id": "f5fed043",
   "metadata": {},
   "outputs": [
    {
     "name": "stdout",
     "output_type": "stream",
     "text": [
      "MAP: 0.000786\n"
     ]
    }
   ],
   "source": [
    "avaliacaoMAP(20)"
   ]
  },
  {
   "cell_type": "markdown",
   "id": "bde74ffe",
   "metadata": {},
   "source": [
    "### RR"
   ]
  },
  {
   "cell_type": "code",
   "execution_count": 103,
   "id": "ba6bac68",
   "metadata": {},
   "outputs": [
    {
     "name": "stdout",
     "output_type": "stream",
     "text": [
      "RR: 0.257627\n"
     ]
    }
   ],
   "source": [
    "avaliacaoRR(5)"
   ]
  },
  {
   "cell_type": "code",
   "execution_count": 106,
   "id": "0427e8f1",
   "metadata": {},
   "outputs": [],
   "source": [
    "data_preprocess = None"
   ]
  },
  {
   "cell_type": "markdown",
   "id": "c555057e",
   "metadata": {},
   "source": [
    "### 21 lowercase + punctuation, acetuation, and stopword removal + stemming (Savoy) + unigram and bigram"
   ]
  },
  {
   "cell_type": "code",
   "execution_count": 113,
   "id": "ca033334",
   "metadata": {},
   "outputs": [],
   "source": [
    "def _remove_acentos(txt):\n",
    "    return normalize('NFKD', txt).encode('ASCII', 'ignore').decode('ASCII')\n",
    "\n",
    "def preprocess(txt):\n",
    "    txt = str(txt)\n",
    "    txt = _remove_acentos(txt)\n",
    "    stopwords = nltk.corpus.stopwords.words(\"portuguese\")\n",
    "    stopwords.extend(list(punctuation))\n",
    "    stemmer = Savoy()\n",
    "    tokenizer = RegexpTokenizer('\\w+')\n",
    "    terms = tokenizer.tokenize(txt.lower())\n",
    "    terms = [stemmer.stem(word) for word in terms if word not in stopwords]\n",
    "    \n",
    "    ngram = []\n",
    "    ngram_1 = list(ngrams(terms, 1))\n",
    "    ngram_2 = list(ngrams(terms, 2))\n",
    "    for w in ngram_1:\n",
    "        ngram.append(w[0])\n",
    "        \n",
    "    for w in ngram_2:\n",
    "        string = w[0] + \" \" + w[1]\n",
    "        ngram.append(string)\n",
    "    \n",
    "    return ngram"
   ]
  },
  {
   "cell_type": "code",
   "execution_count": 114,
   "id": "1359b52c",
   "metadata": {},
   "outputs": [],
   "source": [
    "data_preprocess = [preprocess(doc) for doc in data]"
   ]
  },
  {
   "cell_type": "code",
   "execution_count": 115,
   "id": "01a21020",
   "metadata": {},
   "outputs": [],
   "source": [
    "a = time.time()"
   ]
  },
  {
   "cell_type": "code",
   "execution_count": 116,
   "id": "e8a21253",
   "metadata": {},
   "outputs": [],
   "source": [
    "bm25 = BM25L(data_preprocess)"
   ]
  },
  {
   "cell_type": "code",
   "execution_count": 117,
   "id": "3719fb2f",
   "metadata": {},
   "outputs": [],
   "source": [
    "d = time.time()"
   ]
  },
  {
   "cell_type": "code",
   "execution_count": 118,
   "id": "e9729d1f",
   "metadata": {},
   "outputs": [
    {
     "name": "stdout",
     "output_type": "stream",
     "text": [
      "Duração indexação: 4.980199\n"
     ]
    }
   ],
   "source": [
    "print(\"Duração indexação: %f\" % (d-a))"
   ]
  },
  {
   "cell_type": "markdown",
   "id": "55899804",
   "metadata": {},
   "source": [
    "### Recall"
   ]
  },
  {
   "cell_type": "code",
   "execution_count": 110,
   "id": "fb8f0de3",
   "metadata": {},
   "outputs": [
    {
     "name": "stdout",
     "output_type": "stream",
     "text": [
      "Encontrados: 119\n",
      "Total: 295\n",
      "Acurácia 20 docs: 0.4033898305084746\n",
      "\n",
      "\n"
     ]
    }
   ],
   "source": [
    "avaliacaoRecall(5)"
   ]
  },
  {
   "cell_type": "code",
   "execution_count": 111,
   "id": "e6ee302b",
   "metadata": {},
   "outputs": [
    {
     "name": "stdout",
     "output_type": "stream",
     "text": [
      "Encontrados: 135\n",
      "Total: 295\n",
      "Acurácia 20 docs: 0.4576271186440678\n",
      "\n",
      "\n"
     ]
    }
   ],
   "source": [
    "avaliacaoRecall(10)"
   ]
  },
  {
   "cell_type": "code",
   "execution_count": 119,
   "id": "a105217f",
   "metadata": {},
   "outputs": [
    {
     "name": "stdout",
     "output_type": "stream",
     "text": [
      "Duração: 103.243001\n",
      "Encontrados: 151\n",
      "Total: 295\n",
      "Acurácia 20 docs: 0.511864406779661\n",
      "\n",
      "\n"
     ]
    }
   ],
   "source": [
    "avaliacaoRecall(20)"
   ]
  },
  {
   "cell_type": "markdown",
   "id": "460e2ac6",
   "metadata": {},
   "source": [
    "### Precision"
   ]
  },
  {
   "cell_type": "code",
   "execution_count": 113,
   "id": "c67df3e8",
   "metadata": {},
   "outputs": [
    {
     "name": "stdout",
     "output_type": "stream",
     "text": [
      "Precision: 0.080678\n"
     ]
    }
   ],
   "source": [
    "avaliacaoPrecision(5)"
   ]
  },
  {
   "cell_type": "code",
   "execution_count": 114,
   "id": "63b8d158",
   "metadata": {},
   "outputs": [
    {
     "name": "stdout",
     "output_type": "stream",
     "text": [
      "Precision: 0.045763\n"
     ]
    }
   ],
   "source": [
    "avaliacaoPrecision(10)"
   ]
  },
  {
   "cell_type": "code",
   "execution_count": 115,
   "id": "ac1f4bb6",
   "metadata": {},
   "outputs": [
    {
     "name": "stdout",
     "output_type": "stream",
     "text": [
      "Precision: 0.024407\n"
     ]
    }
   ],
   "source": [
    "avaliacaoPrecision(20)"
   ]
  },
  {
   "cell_type": "markdown",
   "id": "1e41fb6d",
   "metadata": {},
   "source": [
    "### MAP"
   ]
  },
  {
   "cell_type": "code",
   "execution_count": 22,
   "id": "03f2c0c5",
   "metadata": {},
   "outputs": [
    {
     "name": "stdout",
     "output_type": "stream",
     "text": [
      "MAP: 0.002598\n"
     ]
    }
   ],
   "source": [
    "avaliacaoMAP(5)"
   ]
  },
  {
   "cell_type": "code",
   "execution_count": 23,
   "id": "61427fdc",
   "metadata": {},
   "outputs": [
    {
     "name": "stdout",
     "output_type": "stream",
     "text": [
      "MAP: 0.001439\n"
     ]
    }
   ],
   "source": [
    "avaliacaoMAP(10)"
   ]
  },
  {
   "cell_type": "code",
   "execution_count": 24,
   "id": "4cc41088",
   "metadata": {},
   "outputs": [
    {
     "name": "stdout",
     "output_type": "stream",
     "text": [
      "MAP: 0.000775\n"
     ]
    }
   ],
   "source": [
    "avaliacaoMAP(20)"
   ]
  },
  {
   "cell_type": "markdown",
   "id": "ee2dd5fb",
   "metadata": {},
   "source": [
    "### RR"
   ]
  },
  {
   "cell_type": "code",
   "execution_count": 25,
   "id": "86763dbe",
   "metadata": {},
   "outputs": [
    {
     "name": "stdout",
     "output_type": "stream",
     "text": [
      "RR: 0.254237\n"
     ]
    }
   ],
   "source": [
    "avaliacaoRR(5)"
   ]
  },
  {
   "cell_type": "markdown",
   "id": "e3865d65",
   "metadata": {},
   "source": [
    "### 22 lowercase + punctuation, acetuation, and stopword removal + stemming (RSLP_S)"
   ]
  },
  {
   "cell_type": "code",
   "execution_count": 120,
   "id": "d029fc5a",
   "metadata": {},
   "outputs": [],
   "source": [
    "def _remove_acentos(txt):\n",
    "    return normalize('NFKD', txt).encode('ASCII', 'ignore').decode('ASCII')\n",
    "\n",
    "def preprocess(txt):\n",
    "    txt = str(txt)\n",
    "    txt = _remove_acentos(txt)\n",
    "    stopwords = nltk.corpus.stopwords.words(\"portuguese\")\n",
    "    stopwords.extend(list(punctuation))\n",
    "\n",
    "    stemmer = RSLP_S()\n",
    "    tokenizer = RegexpTokenizer('\\w+')\n",
    "    terms = tokenizer.tokenize(txt.lower())\n",
    "    terms = [stemmer.stem(word) for word in terms if word not in stopwords]\n",
    "        \n",
    "    return terms"
   ]
  },
  {
   "cell_type": "code",
   "execution_count": 121,
   "id": "70fbd84c",
   "metadata": {},
   "outputs": [],
   "source": [
    "data_preprocess = [preprocess(doc) for doc in data]"
   ]
  },
  {
   "cell_type": "code",
   "execution_count": 122,
   "id": "637b3b79",
   "metadata": {},
   "outputs": [],
   "source": [
    "a = time.time()"
   ]
  },
  {
   "cell_type": "code",
   "execution_count": 123,
   "id": "4e8147bd",
   "metadata": {},
   "outputs": [],
   "source": [
    "bm25 = BM25L(data_preprocess)"
   ]
  },
  {
   "cell_type": "code",
   "execution_count": 124,
   "id": "d8f9faea",
   "metadata": {},
   "outputs": [],
   "source": [
    "d = time.time()"
   ]
  },
  {
   "cell_type": "code",
   "execution_count": 125,
   "id": "58991ff0",
   "metadata": {},
   "outputs": [
    {
     "name": "stdout",
     "output_type": "stream",
     "text": [
      "Duração indexação: 1.198999\n"
     ]
    }
   ],
   "source": [
    "print(\"Duração indexação: %f\" % (d-a))"
   ]
  },
  {
   "cell_type": "markdown",
   "id": "5c21a265",
   "metadata": {},
   "source": [
    "### Recall"
   ]
  },
  {
   "cell_type": "code",
   "execution_count": 30,
   "id": "8769c6b5",
   "metadata": {},
   "outputs": [
    {
     "name": "stdout",
     "output_type": "stream",
     "text": [
      "Encontrados: 118\n",
      "Total: 295\n",
      "Acurácia 20 docs: 0.4\n",
      "\n",
      "\n"
     ]
    }
   ],
   "source": [
    "avaliacaoRecall(5)"
   ]
  },
  {
   "cell_type": "code",
   "execution_count": 31,
   "id": "afff43e7",
   "metadata": {},
   "outputs": [
    {
     "name": "stdout",
     "output_type": "stream",
     "text": [
      "Encontrados: 127\n",
      "Total: 295\n",
      "Acurácia 20 docs: 0.43050847457627117\n",
      "\n",
      "\n"
     ]
    }
   ],
   "source": [
    "avaliacaoRecall(10)"
   ]
  },
  {
   "cell_type": "code",
   "execution_count": 126,
   "id": "e88f1c69",
   "metadata": {},
   "outputs": [
    {
     "name": "stdout",
     "output_type": "stream",
     "text": [
      "Duração: 78.250034\n",
      "Encontrados: 148\n",
      "Total: 295\n",
      "Acurácia 20 docs: 0.5016949152542373\n",
      "\n",
      "\n"
     ]
    }
   ],
   "source": [
    "avaliacaoRecall(20)"
   ]
  },
  {
   "cell_type": "markdown",
   "id": "413bde30",
   "metadata": {},
   "source": [
    "### Precision"
   ]
  },
  {
   "cell_type": "code",
   "execution_count": 33,
   "id": "f70f2f6a",
   "metadata": {},
   "outputs": [
    {
     "name": "stdout",
     "output_type": "stream",
     "text": [
      "Precision: 0.080000\n"
     ]
    }
   ],
   "source": [
    "avaliacaoPrecision(5)"
   ]
  },
  {
   "cell_type": "code",
   "execution_count": 34,
   "id": "bc819032",
   "metadata": {},
   "outputs": [
    {
     "name": "stdout",
     "output_type": "stream",
     "text": [
      "Precision: 0.043051\n"
     ]
    }
   ],
   "source": [
    "avaliacaoPrecision(10)"
   ]
  },
  {
   "cell_type": "code",
   "execution_count": 35,
   "id": "35b1f027",
   "metadata": {},
   "outputs": [
    {
     "name": "stdout",
     "output_type": "stream",
     "text": [
      "Precision: 0.023559\n"
     ]
    }
   ],
   "source": [
    "avaliacaoPrecision(20)"
   ]
  },
  {
   "cell_type": "markdown",
   "id": "795c2ad8",
   "metadata": {},
   "source": [
    "### MAP"
   ]
  },
  {
   "cell_type": "code",
   "execution_count": 36,
   "id": "739dd673",
   "metadata": {},
   "outputs": [
    {
     "name": "stdout",
     "output_type": "stream",
     "text": [
      "MAP: 0.002493\n"
     ]
    }
   ],
   "source": [
    "avaliacaoMAP(5)"
   ]
  },
  {
   "cell_type": "code",
   "execution_count": 37,
   "id": "73313b17",
   "metadata": {},
   "outputs": [
    {
     "name": "stdout",
     "output_type": "stream",
     "text": [
      "MAP: 0.001350\n"
     ]
    }
   ],
   "source": [
    "avaliacaoMAP(10)"
   ]
  },
  {
   "cell_type": "code",
   "execution_count": 38,
   "id": "2c82f20e",
   "metadata": {},
   "outputs": [
    {
     "name": "stdout",
     "output_type": "stream",
     "text": [
      "MAP: 0.000755\n"
     ]
    }
   ],
   "source": [
    "avaliacaoMAP(20)"
   ]
  },
  {
   "cell_type": "markdown",
   "id": "712847c0",
   "metadata": {},
   "source": [
    "### RR"
   ]
  },
  {
   "cell_type": "code",
   "execution_count": 39,
   "id": "cd1aed32",
   "metadata": {},
   "outputs": [
    {
     "name": "stdout",
     "output_type": "stream",
     "text": [
      "RR: 0.237288\n"
     ]
    }
   ],
   "source": [
    "avaliacaoRR(5)"
   ]
  },
  {
   "cell_type": "code",
   "execution_count": 127,
   "id": "5b8d0c17",
   "metadata": {},
   "outputs": [],
   "source": [
    "data_preprocess = None"
   ]
  },
  {
   "cell_type": "markdown",
   "id": "84cf4022",
   "metadata": {},
   "source": [
    "### 23 lowercase + punctuation, acetuation, and stopword removal + stemming (RSLP) + unigram and bigram "
   ]
  },
  {
   "cell_type": "code",
   "execution_count": 128,
   "id": "324bb2a1",
   "metadata": {},
   "outputs": [],
   "source": [
    "def _remove_acentos(txt):\n",
    "    return normalize('NFKD', txt).encode('ASCII', 'ignore').decode('ASCII')\n",
    "\n",
    "def preprocess(txt):\n",
    "    txt = str(txt)\n",
    "    txt = _remove_acentos(txt)\n",
    "    stopwords = nltk.corpus.stopwords.words(\"portuguese\")\n",
    "    stopwords.extend(list(punctuation))\n",
    "\n",
    "    stemmer = RSLP_S()\n",
    "    tokenizer = RegexpTokenizer('\\w+')\n",
    "    terms = tokenizer.tokenize(txt.lower())\n",
    "    terms = [stemmer.stem(word) for word in terms if word not in stopwords]\n",
    "    \n",
    "    ngram = []\n",
    "    ngram_1 = list(ngrams(terms, 1))\n",
    "    ngram_2 = list(ngrams(terms, 2))\n",
    "    for w in ngram_1:\n",
    "        ngram.append(w[0])\n",
    "        \n",
    "    for w in ngram_2:\n",
    "        string = w[0] + \" \" + w[1]\n",
    "        ngram.append(string)\n",
    "    \n",
    "    return ngram\n"
   ]
  },
  {
   "cell_type": "code",
   "execution_count": 129,
   "id": "25bfff4f",
   "metadata": {},
   "outputs": [],
   "source": [
    "data_preprocess = [preprocess(doc) for doc in data]"
   ]
  },
  {
   "cell_type": "code",
   "execution_count": 130,
   "id": "d50b31ff",
   "metadata": {},
   "outputs": [],
   "source": [
    "a = time.time()"
   ]
  },
  {
   "cell_type": "code",
   "execution_count": 131,
   "id": "edef9b82",
   "metadata": {},
   "outputs": [],
   "source": [
    "bm25 = BM25L(data_preprocess)"
   ]
  },
  {
   "cell_type": "code",
   "execution_count": 132,
   "id": "b0fea9b2",
   "metadata": {},
   "outputs": [],
   "source": [
    "d = time.time()"
   ]
  },
  {
   "cell_type": "code",
   "execution_count": 133,
   "id": "aed76878",
   "metadata": {},
   "outputs": [
    {
     "name": "stdout",
     "output_type": "stream",
     "text": [
      "Duração indexação: 3.145536\n"
     ]
    }
   ],
   "source": [
    "print(\"Duração indexação: %f\" % (d-a))"
   ]
  },
  {
   "cell_type": "markdown",
   "id": "b37c672f",
   "metadata": {},
   "source": [
    "### Recall"
   ]
  },
  {
   "cell_type": "code",
   "execution_count": 44,
   "id": "f67a2cd1",
   "metadata": {},
   "outputs": [
    {
     "name": "stdout",
     "output_type": "stream",
     "text": [
      "Encontrados: 116\n",
      "Total: 295\n",
      "Acurácia 20 docs: 0.39322033898305087\n",
      "\n",
      "\n"
     ]
    }
   ],
   "source": [
    "avaliacaoRecall(5)"
   ]
  },
  {
   "cell_type": "code",
   "execution_count": 45,
   "id": "aa9c6152",
   "metadata": {},
   "outputs": [
    {
     "name": "stdout",
     "output_type": "stream",
     "text": [
      "Encontrados: 130\n",
      "Total: 295\n",
      "Acurácia 20 docs: 0.4406779661016949\n",
      "\n",
      "\n"
     ]
    }
   ],
   "source": [
    "avaliacaoRecall(10)"
   ]
  },
  {
   "cell_type": "code",
   "execution_count": 134,
   "id": "c8165321",
   "metadata": {},
   "outputs": [
    {
     "name": "stdout",
     "output_type": "stream",
     "text": [
      "Duração: 98.935030\n",
      "Encontrados: 147\n",
      "Total: 295\n",
      "Acurácia 20 docs: 0.49830508474576274\n",
      "\n",
      "\n"
     ]
    }
   ],
   "source": [
    "avaliacaoRecall(20)"
   ]
  },
  {
   "cell_type": "markdown",
   "id": "f49f362a",
   "metadata": {},
   "source": [
    "### Precision"
   ]
  },
  {
   "cell_type": "code",
   "execution_count": 47,
   "id": "6ea9e5da",
   "metadata": {},
   "outputs": [
    {
     "name": "stdout",
     "output_type": "stream",
     "text": [
      "Precision: 0.078644\n"
     ]
    }
   ],
   "source": [
    "avaliacaoPrecision(5)"
   ]
  },
  {
   "cell_type": "code",
   "execution_count": 48,
   "id": "582daaf3",
   "metadata": {},
   "outputs": [
    {
     "name": "stdout",
     "output_type": "stream",
     "text": [
      "Precision: 0.044068\n"
     ]
    }
   ],
   "source": [
    "avaliacaoPrecision(10)"
   ]
  },
  {
   "cell_type": "code",
   "execution_count": 49,
   "id": "db0c7df5",
   "metadata": {},
   "outputs": [
    {
     "name": "stdout",
     "output_type": "stream",
     "text": [
      "Precision: 0.023898\n"
     ]
    }
   ],
   "source": [
    "avaliacaoPrecision(20)"
   ]
  },
  {
   "cell_type": "markdown",
   "id": "119afff1",
   "metadata": {},
   "source": [
    "### MAP"
   ]
  },
  {
   "cell_type": "code",
   "execution_count": 50,
   "id": "80c33efd",
   "metadata": {},
   "outputs": [
    {
     "name": "stdout",
     "output_type": "stream",
     "text": [
      "MAP: 0.002432\n"
     ]
    }
   ],
   "source": [
    "avaliacaoMAP(5)"
   ]
  },
  {
   "cell_type": "code",
   "execution_count": 51,
   "id": "c10e9c29",
   "metadata": {},
   "outputs": [
    {
     "name": "stdout",
     "output_type": "stream",
     "text": [
      "MAP: 0.001368\n"
     ]
    }
   ],
   "source": [
    "avaliacaoMAP(10)"
   ]
  },
  {
   "cell_type": "code",
   "execution_count": 52,
   "id": "fae4129b",
   "metadata": {},
   "outputs": [
    {
     "name": "stdout",
     "output_type": "stream",
     "text": [
      "MAP: 0.000763\n"
     ]
    }
   ],
   "source": [
    "avaliacaoMAP(20)"
   ]
  },
  {
   "cell_type": "markdown",
   "id": "904adf6d",
   "metadata": {},
   "source": [
    "### RR"
   ]
  },
  {
   "cell_type": "code",
   "execution_count": 53,
   "id": "56a71a8f",
   "metadata": {},
   "outputs": [
    {
     "name": "stdout",
     "output_type": "stream",
     "text": [
      "RR: 0.257627\n"
     ]
    }
   ],
   "source": [
    "avaliacaoRR(5)"
   ]
  },
  {
   "cell_type": "code",
   "execution_count": 135,
   "id": "ea3dcf70",
   "metadata": {},
   "outputs": [],
   "source": [
    "data_preprocess = None"
   ]
  },
  {
   "cell_type": "markdown",
   "id": "7cf8c8ba",
   "metadata": {},
   "source": [
    "# Indexacao"
   ]
  },
  {
   "cell_type": "code",
   "execution_count": 136,
   "id": "fc9dcc1a",
   "metadata": {},
   "outputs": [],
   "source": [
    "data = base.txtIndexacao.dropna()        # Trocar com nome da coluna desejada\n",
    "data = data.to_numpy()"
   ]
  },
  {
   "cell_type": "code",
   "execution_count": 137,
   "id": "11d2d004",
   "metadata": {},
   "outputs": [],
   "source": [
    "def get_name(base, doc):\n",
    "    return str(base[base.txtIndexacao==doc].txtNome.to_numpy()[0]).strip()"
   ]
  },
  {
   "cell_type": "code",
   "execution_count": 138,
   "id": "cd717733",
   "metadata": {},
   "outputs": [],
   "source": [
    "def avaliacaoRR(top_k=20):\n",
    "    primeira_posicao=0\n",
    "    \n",
    "    for l,x in zip(y,X):\n",
    "        tokenized_query3 = preprocess(x)                   \n",
    "     \n",
    "        top_n_stem_l = bm25.get_top_n(tokenized_query3,data, n=top_k)\n",
    "        labelsnsL = [get_name(base,d) for d in top_n_stem_l]\n",
    "        if str(labelsnsL[0]).strip() == l.strip():\n",
    "            primeira_posicao+=1\n",
    "    rr = primeira_posicao / 295\n",
    "    print(\"RR: %f\" % (rr))"
   ]
  },
  {
   "cell_type": "code",
   "execution_count": 57,
   "id": "ea4b6179",
   "metadata": {},
   "outputs": [],
   "source": [
    "def avaliacaoMAP(top_k=20):\n",
    "    \n",
    "    l_v = list()\n",
    "    labels_nsL = list()\n",
    "    for l,x in zip(y,X):\n",
    "        tokenized_query3 = preprocess(x)                   \n",
    "        top_n_stem_l = bm25.get_top_n(tokenized_query3,data, n=top_k)\n",
    "        labelsnsL = [get_name(base,d) for d in top_n_stem_l] \n",
    "        \n",
    "        l_v.append(l)\n",
    "        labels_nsL.append(labelsnsL)\n",
    "    \n",
    "    denominador = 0\n",
    "    \n",
    "    encontrou=False\n",
    "    soma=0\n",
    "    for Y,x in zip(l_v,labels_nsL):\n",
    "        calc = 0\n",
    "        quant=0\n",
    "        for k in x:\n",
    "            if str(k).strip() == Y.strip():\n",
    "                quant=1\n",
    "                encontrou=True\n",
    "            denominador+=1\n",
    "            calc=quant/denominador\n",
    "            if encontrou:\n",
    "                calc = calc * 1\n",
    "            else:\n",
    "                calc = calc * 0\n",
    "            soma+=calc\n",
    "            encontrou = False\n",
    "    MAP = soma /295\n",
    "    print(\"MAP: %f\" % (MAP))            "
   ]
  },
  {
   "cell_type": "code",
   "execution_count": 58,
   "id": "7d6a80a4",
   "metadata": {},
   "outputs": [],
   "source": [
    "def avaliacaoPrecision(top_k=20):\n",
    "    l_v = list()\n",
    "    labels_nsL = list()\n",
    "    for l,x in zip(y,X):\n",
    "        tokenized_query3 = preprocess(x)                   \n",
    "        top_n_stem_l = bm25.get_top_n(tokenized_query3,data, n=top_k)\n",
    "        labelsnsL = [get_name(base,d) for d in top_n_stem_l] \n",
    "        \n",
    "        l_v.append(l)\n",
    "        labels_nsL.append(labelsnsL)\n",
    "    \n",
    "    soma=0\n",
    "    for Y,x in zip(l_v,labels_nsL):\n",
    "        calc = 0\n",
    "        for k in x:\n",
    "            if str(k).strip() == Y.strip():\n",
    "                calc=1\n",
    "                break\n",
    "        calc=calc/top_k\n",
    "        soma+=calc\n",
    "    precision = soma /295\n",
    "    print(\"Precision: %f\" % (precision))"
   ]
  },
  {
   "cell_type": "code",
   "execution_count": 59,
   "id": "20edf191",
   "metadata": {},
   "outputs": [],
   "source": [
    "def avaliacaoRecall(top_k=20):\n",
    "\n",
    "    labels_nsL = list()\n",
    "\n",
    "\n",
    "    l_v = list()\n",
    "    for l,x in zip(y,X):\n",
    "\n",
    "        tokenized_query3 = preprocess(x)                   \n",
    "     \n",
    "        top_n_stem_l = bm25.get_top_n(tokenized_query3,data, n=top_k)\n",
    "        \n",
    "   \n",
    "        labelsnsL = [get_name(base,d) for d in top_n_stem_l]              #L\n",
    " \n",
    "        labels_nsL.append(labelsnsL)    #L\n",
    "        \n",
    "    \n",
    "        l_v.append(l)\n",
    "        \n",
    "    \n",
    "    res_nsL = list()                #Stopwords + Acentuação + Stemming + Unigram + Bigram (L)\n",
    "\n",
    "\n",
    "    for k in range(1, top_k+1):\n",
    "\n",
    "\n",
    "        resultsnsL = list()         #Stopwords + Acentuação + Stemming + Unigram + Bigram (L)\n",
    "\n",
    "\n",
    "        for i in range(len(l_v)):\n",
    "\n",
    "\n",
    "            if (l_v[i] in labels_nsL[i][:k]):\n",
    "                resultsnsL.append(1)\n",
    "            else:\n",
    "                resultsnsL.append(0)\n",
    "\n",
    "       \n",
    "        res_nsL.append(sum(resultsnsL)/len(resultsnsL))\n",
    "    print(f\"Encontrados: {sum(resultsnsL)}\")\n",
    "    print(f\"Total: {len(arr_assunto)}\")\n",
    "#     print(f\"Acurácia 10 docs: {res_nsL[9]}\")\n",
    "    print(f\"Acurácia 20 docs: {res_nsL[-1]}\\n\\n\")"
   ]
  },
  {
   "cell_type": "markdown",
   "id": "38a61020",
   "metadata": {},
   "source": [
    "# basic preprocessing"
   ]
  },
  {
   "cell_type": "markdown",
   "id": "79197423",
   "metadata": {},
   "source": [
    "### 1 no preprocessing"
   ]
  },
  {
   "cell_type": "code",
   "execution_count": 139,
   "id": "abefb9f8",
   "metadata": {},
   "outputs": [],
   "source": [
    "def preprocess(txt):\n",
    "    txt =  str(txt)\n",
    "    terms = word_tokenize(txt)\n",
    "    \n",
    "    return terms"
   ]
  },
  {
   "cell_type": "code",
   "execution_count": 140,
   "id": "70c60cbe",
   "metadata": {},
   "outputs": [],
   "source": [
    "data_preprocess = [preprocess(doc) for doc in data]"
   ]
  },
  {
   "cell_type": "code",
   "execution_count": 141,
   "id": "94c1da3d",
   "metadata": {},
   "outputs": [],
   "source": [
    "a = time.time()"
   ]
  },
  {
   "cell_type": "code",
   "execution_count": 142,
   "id": "913d8b1e",
   "metadata": {},
   "outputs": [],
   "source": [
    "bm25 = BM25L(data_preprocess)"
   ]
  },
  {
   "cell_type": "code",
   "execution_count": 143,
   "id": "0d9799f5",
   "metadata": {},
   "outputs": [],
   "source": [
    "d = time.time()"
   ]
  },
  {
   "cell_type": "code",
   "execution_count": 144,
   "id": "9a2719a2",
   "metadata": {},
   "outputs": [
    {
     "name": "stdout",
     "output_type": "stream",
     "text": [
      "Duração indexação: 1.876001\n"
     ]
    }
   ],
   "source": [
    "print(\"Duração indexação: %f\" % (d-a))"
   ]
  },
  {
   "cell_type": "markdown",
   "id": "36a789d4",
   "metadata": {},
   "source": [
    "### Recall"
   ]
  },
  {
   "cell_type": "code",
   "execution_count": 35,
   "id": "c5afa607",
   "metadata": {},
   "outputs": [
    {
     "name": "stdout",
     "output_type": "stream",
     "text": [
      "Encontrados: 39\n",
      "Total: 295\n",
      "Acurácia 20 docs: 0.13220338983050847\n",
      "\n",
      "\n"
     ]
    }
   ],
   "source": [
    "avaliacaoRecall(5)"
   ]
  },
  {
   "cell_type": "code",
   "execution_count": 36,
   "id": "f5a5fba7",
   "metadata": {},
   "outputs": [
    {
     "name": "stdout",
     "output_type": "stream",
     "text": [
      "Encontrados: 45\n",
      "Total: 295\n",
      "Acurácia 20 docs: 0.15254237288135594\n",
      "\n",
      "\n"
     ]
    }
   ],
   "source": [
    "avaliacaoRecall(10)"
   ]
  },
  {
   "cell_type": "code",
   "execution_count": 145,
   "id": "2a7f11ed",
   "metadata": {},
   "outputs": [
    {
     "name": "stdout",
     "output_type": "stream",
     "text": [
      "Duração: 106.977000\n",
      "Encontrados: 69\n",
      "Total: 295\n",
      "Acurácia 20 docs: 0.23389830508474577\n",
      "\n",
      "\n"
     ]
    }
   ],
   "source": [
    "avaliacaoRecall(20)"
   ]
  },
  {
   "cell_type": "markdown",
   "id": "d8ebc010",
   "metadata": {},
   "source": [
    "### Precision"
   ]
  },
  {
   "cell_type": "code",
   "execution_count": 38,
   "id": "171ae412",
   "metadata": {},
   "outputs": [
    {
     "name": "stdout",
     "output_type": "stream",
     "text": [
      "Precision: 0.026441\n"
     ]
    }
   ],
   "source": [
    "avaliacaoPrecision(5)"
   ]
  },
  {
   "cell_type": "code",
   "execution_count": 39,
   "id": "3b2e1199",
   "metadata": {},
   "outputs": [
    {
     "name": "stdout",
     "output_type": "stream",
     "text": [
      "Precision: 0.015254\n"
     ]
    }
   ],
   "source": [
    "avaliacaoPrecision(10)"
   ]
  },
  {
   "cell_type": "code",
   "execution_count": 40,
   "id": "5fe4fc25",
   "metadata": {},
   "outputs": [
    {
     "name": "stdout",
     "output_type": "stream",
     "text": [
      "Precision: 0.009153\n"
     ]
    }
   ],
   "source": [
    "avaliacaoPrecision(20)"
   ]
  },
  {
   "cell_type": "markdown",
   "id": "0253fd75",
   "metadata": {},
   "source": [
    "### MAP"
   ]
  },
  {
   "cell_type": "code",
   "execution_count": 41,
   "id": "bc245b08",
   "metadata": {},
   "outputs": [
    {
     "name": "stdout",
     "output_type": "stream",
     "text": [
      "MAP: 0.000321\n"
     ]
    }
   ],
   "source": [
    "avaliacaoMAP(5)"
   ]
  },
  {
   "cell_type": "code",
   "execution_count": 42,
   "id": "66fe459c",
   "metadata": {},
   "outputs": [
    {
     "name": "stdout",
     "output_type": "stream",
     "text": [
      "MAP: 0.000481\n"
     ]
    }
   ],
   "source": [
    "avaliacaoMAP(10)"
   ]
  },
  {
   "cell_type": "code",
   "execution_count": 43,
   "id": "73d749b2",
   "metadata": {},
   "outputs": [
    {
     "name": "stdout",
     "output_type": "stream",
     "text": [
      "MAP: 0.000293\n"
     ]
    }
   ],
   "source": [
    "avaliacaoMAP(20)"
   ]
  },
  {
   "cell_type": "markdown",
   "id": "b3777f27",
   "metadata": {},
   "source": [
    "### RR"
   ]
  },
  {
   "cell_type": "code",
   "execution_count": 44,
   "id": "0203b7eb",
   "metadata": {},
   "outputs": [
    {
     "name": "stdout",
     "output_type": "stream",
     "text": [
      "RR: 0.064407\n"
     ]
    }
   ],
   "source": [
    "avaliacaoRR(5)"
   ]
  },
  {
   "cell_type": "code",
   "execution_count": 146,
   "id": "20255f3c",
   "metadata": {},
   "outputs": [],
   "source": [
    "data_preprocess = None"
   ]
  },
  {
   "cell_type": "markdown",
   "id": "681d223b",
   "metadata": {},
   "source": [
    "### 5 lowercase + punctuation, acetuation, and stopword removal"
   ]
  },
  {
   "cell_type": "code",
   "execution_count": 147,
   "id": "ada3018d",
   "metadata": {},
   "outputs": [],
   "source": [
    "def _remove_acentos(txt):\n",
    "    return normalize('NFKD', txt).encode('ASCII', 'ignore').decode('ASCII')\n",
    "\n",
    "def preprocess(txt):\n",
    "    txt = str(txt)\n",
    "    txt = _remove_acentos(txt)\n",
    "    stopwords = nltk.corpus.stopwords.words(\"portuguese\")\n",
    "    stopwords.extend(list(punctuation))\n",
    "    tokenizer = RegexpTokenizer('\\w+')\n",
    "    terms = tokenizer.tokenize(txt.lower())\n",
    "    terms = [word for word in terms if word not in stopwords]\n",
    "\n",
    "    return terms"
   ]
  },
  {
   "cell_type": "code",
   "execution_count": 148,
   "id": "d10e714e",
   "metadata": {},
   "outputs": [],
   "source": [
    "data_preprocess = [preprocess(doc) for doc in data]"
   ]
  },
  {
   "cell_type": "code",
   "execution_count": 149,
   "id": "d9ecf3c1",
   "metadata": {},
   "outputs": [],
   "source": [
    "a = time.time()"
   ]
  },
  {
   "cell_type": "code",
   "execution_count": 150,
   "id": "1731afbf",
   "metadata": {},
   "outputs": [],
   "source": [
    "bm25 = BM25L(data_preprocess)"
   ]
  },
  {
   "cell_type": "code",
   "execution_count": 151,
   "id": "abc7ebf4",
   "metadata": {},
   "outputs": [],
   "source": [
    "d = time.time()"
   ]
  },
  {
   "cell_type": "code",
   "execution_count": 152,
   "id": "48cbcb01",
   "metadata": {},
   "outputs": [
    {
     "name": "stdout",
     "output_type": "stream",
     "text": [
      "Duração indexação: 1.199003\n"
     ]
    }
   ],
   "source": [
    "print(\"Duração indexação: %f\" % (d-a))"
   ]
  },
  {
   "cell_type": "markdown",
   "id": "ed223a61",
   "metadata": {},
   "source": [
    "### Recall"
   ]
  },
  {
   "cell_type": "code",
   "execution_count": 49,
   "id": "c7d8b351",
   "metadata": {},
   "outputs": [
    {
     "name": "stdout",
     "output_type": "stream",
     "text": [
      "Encontrados: 90\n",
      "Total: 295\n",
      "Acurácia 20 docs: 0.3050847457627119\n",
      "\n",
      "\n"
     ]
    }
   ],
   "source": [
    "avaliacaoRecall(5)"
   ]
  },
  {
   "cell_type": "code",
   "execution_count": 50,
   "id": "06b6fb5f",
   "metadata": {},
   "outputs": [
    {
     "name": "stdout",
     "output_type": "stream",
     "text": [
      "Encontrados: 102\n",
      "Total: 295\n",
      "Acurácia 20 docs: 0.34576271186440677\n",
      "\n",
      "\n"
     ]
    }
   ],
   "source": [
    "avaliacaoRecall(10)"
   ]
  },
  {
   "cell_type": "code",
   "execution_count": 153,
   "id": "4d759faf",
   "metadata": {},
   "outputs": [
    {
     "name": "stdout",
     "output_type": "stream",
     "text": [
      "Duração: 65.834028\n",
      "Encontrados: 117\n",
      "Total: 295\n",
      "Acurácia 20 docs: 0.39661016949152544\n",
      "\n",
      "\n"
     ]
    }
   ],
   "source": [
    "avaliacaoRecall(20)"
   ]
  },
  {
   "cell_type": "markdown",
   "id": "869d02d0",
   "metadata": {},
   "source": [
    "### Precision"
   ]
  },
  {
   "cell_type": "code",
   "execution_count": 52,
   "id": "2e3686d4",
   "metadata": {},
   "outputs": [
    {
     "name": "stdout",
     "output_type": "stream",
     "text": [
      "Precision: 0.061017\n"
     ]
    }
   ],
   "source": [
    "avaliacaoPrecision(5)"
   ]
  },
  {
   "cell_type": "code",
   "execution_count": 53,
   "id": "e158dff7",
   "metadata": {},
   "outputs": [
    {
     "name": "stdout",
     "output_type": "stream",
     "text": [
      "Precision: 0.034576\n"
     ]
    }
   ],
   "source": [
    "avaliacaoPrecision(10)"
   ]
  },
  {
   "cell_type": "code",
   "execution_count": 54,
   "id": "4a16a740",
   "metadata": {},
   "outputs": [
    {
     "name": "stdout",
     "output_type": "stream",
     "text": [
      "Precision: 0.019492\n"
     ]
    }
   ],
   "source": [
    "avaliacaoPrecision(20)"
   ]
  },
  {
   "cell_type": "markdown",
   "id": "32792df6",
   "metadata": {},
   "source": [
    "### MAP"
   ]
  },
  {
   "cell_type": "code",
   "execution_count": 55,
   "id": "04513920",
   "metadata": {},
   "outputs": [
    {
     "name": "stdout",
     "output_type": "stream",
     "text": [
      "MAP: 0.001418\n"
     ]
    }
   ],
   "source": [
    "avaliacaoMAP(5)"
   ]
  },
  {
   "cell_type": "code",
   "execution_count": 56,
   "id": "66906d9a",
   "metadata": {},
   "outputs": [
    {
     "name": "stdout",
     "output_type": "stream",
     "text": [
      "MAP: 0.000926\n"
     ]
    }
   ],
   "source": [
    "avaliacaoMAP(10)"
   ]
  },
  {
   "cell_type": "code",
   "execution_count": 57,
   "id": "1e50deb0",
   "metadata": {},
   "outputs": [
    {
     "name": "stdout",
     "output_type": "stream",
     "text": [
      "MAP: 0.000533\n"
     ]
    }
   ],
   "source": [
    "avaliacaoMAP(20)"
   ]
  },
  {
   "cell_type": "markdown",
   "id": "91052244",
   "metadata": {},
   "source": [
    "### RR"
   ]
  },
  {
   "cell_type": "code",
   "execution_count": 58,
   "id": "7350c4f1",
   "metadata": {},
   "outputs": [
    {
     "name": "stdout",
     "output_type": "stream",
     "text": [
      "RR: 0.166102\n"
     ]
    }
   ],
   "source": [
    "avaliacaoRR(5)"
   ]
  },
  {
   "cell_type": "code",
   "execution_count": 154,
   "id": "1fbdf04e",
   "metadata": {},
   "outputs": [],
   "source": [
    "data_preprocess = None"
   ]
  },
  {
   "cell_type": "markdown",
   "id": "2d72eef9",
   "metadata": {},
   "source": [
    "### 8 lowercase + punctuation, acetuation, and stopword removal + stemming (RSLP)"
   ]
  },
  {
   "cell_type": "code",
   "execution_count": 155,
   "id": "0dea2397",
   "metadata": {},
   "outputs": [],
   "source": [
    "def _remove_acentos(txt):\n",
    "    return normalize('NFKD', txt).encode('ASCII', 'ignore').decode('ASCII')\n",
    "\n",
    "def preprocess(txt):\n",
    "    txt = str(txt)\n",
    "    txt = _remove_acentos(txt)\n",
    "    stopwords = nltk.corpus.stopwords.words(\"portuguese\")\n",
    "    stopwords.extend(list(punctuation))\n",
    "\n",
    "    stemmer = RSLPStemmer()\n",
    "    tokenizer = RegexpTokenizer('\\w+')\n",
    "    terms = tokenizer.tokenize(txt.lower())\n",
    "    terms = [stemmer.stem(word) for word in terms if word not in stopwords]\n",
    "        \n",
    "    return terms"
   ]
  },
  {
   "cell_type": "code",
   "execution_count": 156,
   "id": "98ce9481",
   "metadata": {},
   "outputs": [],
   "source": [
    "data_preprocess = [preprocess(doc) for doc in data]"
   ]
  },
  {
   "cell_type": "code",
   "execution_count": 157,
   "id": "219091b3",
   "metadata": {},
   "outputs": [],
   "source": [
    "a = time.time()"
   ]
  },
  {
   "cell_type": "code",
   "execution_count": 158,
   "id": "a41f97fa",
   "metadata": {},
   "outputs": [],
   "source": [
    "bm25 = BM25L(data_preprocess)"
   ]
  },
  {
   "cell_type": "code",
   "execution_count": 159,
   "id": "e472152d",
   "metadata": {},
   "outputs": [],
   "source": [
    "d = time.time()"
   ]
  },
  {
   "cell_type": "code",
   "execution_count": 160,
   "id": "06d8f228",
   "metadata": {},
   "outputs": [
    {
     "name": "stdout",
     "output_type": "stream",
     "text": [
      "Duração indexação: 1.167982\n"
     ]
    }
   ],
   "source": [
    "print(\"Duração indexação: %f\" % (d-a))"
   ]
  },
  {
   "cell_type": "markdown",
   "id": "87bf1107",
   "metadata": {},
   "source": [
    "### Recall"
   ]
  },
  {
   "cell_type": "code",
   "execution_count": 63,
   "id": "edc10b81",
   "metadata": {},
   "outputs": [
    {
     "name": "stdout",
     "output_type": "stream",
     "text": [
      "Encontrados: 111\n",
      "Total: 295\n",
      "Acurácia 20 docs: 0.376271186440678\n",
      "\n",
      "\n"
     ]
    }
   ],
   "source": [
    "avaliacaoRecall(5)"
   ]
  },
  {
   "cell_type": "code",
   "execution_count": 64,
   "id": "86fbc344",
   "metadata": {},
   "outputs": [
    {
     "name": "stdout",
     "output_type": "stream",
     "text": [
      "Encontrados: 126\n",
      "Total: 295\n",
      "Acurácia 20 docs: 0.4271186440677966\n",
      "\n",
      "\n"
     ]
    }
   ],
   "source": [
    "avaliacaoRecall(10)"
   ]
  },
  {
   "cell_type": "code",
   "execution_count": 161,
   "id": "a504abf7",
   "metadata": {},
   "outputs": [
    {
     "name": "stdout",
     "output_type": "stream",
     "text": [
      "Duração: 77.003001\n",
      "Encontrados: 148\n",
      "Total: 295\n",
      "Acurácia 20 docs: 0.5016949152542373\n",
      "\n",
      "\n"
     ]
    }
   ],
   "source": [
    "avaliacaoRecall(20)"
   ]
  },
  {
   "cell_type": "markdown",
   "id": "11d1b208",
   "metadata": {},
   "source": [
    "### Precision"
   ]
  },
  {
   "cell_type": "code",
   "execution_count": 66,
   "id": "d263fa60",
   "metadata": {},
   "outputs": [
    {
     "name": "stdout",
     "output_type": "stream",
     "text": [
      "Precision: 0.075254\n"
     ]
    }
   ],
   "source": [
    "avaliacaoPrecision(5)"
   ]
  },
  {
   "cell_type": "code",
   "execution_count": 67,
   "id": "cfef3c74",
   "metadata": {},
   "outputs": [
    {
     "name": "stdout",
     "output_type": "stream",
     "text": [
      "Precision: 0.042712\n"
     ]
    }
   ],
   "source": [
    "avaliacaoPrecision(10)"
   ]
  },
  {
   "cell_type": "code",
   "execution_count": 68,
   "id": "f35dbf11",
   "metadata": {},
   "outputs": [
    {
     "name": "stdout",
     "output_type": "stream",
     "text": [
      "Precision: 0.023898\n"
     ]
    }
   ],
   "source": [
    "avaliacaoPrecision(20)"
   ]
  },
  {
   "cell_type": "markdown",
   "id": "d9d0c107",
   "metadata": {},
   "source": [
    "### MAP"
   ]
  },
  {
   "cell_type": "code",
   "execution_count": 69,
   "id": "3ada17d1",
   "metadata": {},
   "outputs": [
    {
     "name": "stdout",
     "output_type": "stream",
     "text": [
      "MAP: 0.001646\n"
     ]
    }
   ],
   "source": [
    "avaliacaoMAP(5)"
   ]
  },
  {
   "cell_type": "code",
   "execution_count": 70,
   "id": "f87530de",
   "metadata": {},
   "outputs": [
    {
     "name": "stdout",
     "output_type": "stream",
     "text": [
      "MAP: 0.001165\n"
     ]
    }
   ],
   "source": [
    "avaliacaoMAP(10)"
   ]
  },
  {
   "cell_type": "code",
   "execution_count": 71,
   "id": "395e9fbd",
   "metadata": {},
   "outputs": [
    {
     "name": "stdout",
     "output_type": "stream",
     "text": [
      "MAP: 0.000665\n"
     ]
    }
   ],
   "source": [
    "avaliacaoMAP(20)"
   ]
  },
  {
   "cell_type": "markdown",
   "id": "1549ba33",
   "metadata": {},
   "source": [
    "### RR"
   ]
  },
  {
   "cell_type": "code",
   "execution_count": 72,
   "id": "f7edef08",
   "metadata": {},
   "outputs": [
    {
     "name": "stdout",
     "output_type": "stream",
     "text": [
      "RR: 0.240678\n"
     ]
    }
   ],
   "source": [
    "avaliacaoRR(5)"
   ]
  },
  {
   "cell_type": "code",
   "execution_count": 162,
   "id": "f83b532a",
   "metadata": {},
   "outputs": [],
   "source": [
    "data_preprocess = None"
   ]
  },
  {
   "cell_type": "markdown",
   "id": "cf3e547c",
   "metadata": {},
   "source": [
    "### 9 lowercase + punctuation, acetuation, and stopword removal + stemming (Savoy)"
   ]
  },
  {
   "cell_type": "code",
   "execution_count": 163,
   "id": "eb25a87d",
   "metadata": {},
   "outputs": [],
   "source": [
    "def _remove_acentos(txt):\n",
    "    return normalize('NFKD', txt).encode('ASCII', 'ignore').decode('ASCII')\n",
    "\n",
    "def preprocess(txt):\n",
    "    txt = str(txt)\n",
    "    txt = _remove_acentos(txt)\n",
    "    stopwords = nltk.corpus.stopwords.words(\"portuguese\")\n",
    "    stopwords.extend(list(punctuation))\n",
    "\n",
    "    stemmer = Savoy()\n",
    "    tokenizer = RegexpTokenizer('\\w+')\n",
    "    terms = tokenizer.tokenize(txt.lower())\n",
    "    terms = [stemmer.stem(word) for word in terms if word not in stopwords]\n",
    "        \n",
    "    return terms"
   ]
  },
  {
   "cell_type": "code",
   "execution_count": 164,
   "id": "3f8f41fe",
   "metadata": {},
   "outputs": [],
   "source": [
    "data_preprocess = [preprocess(doc) for doc in data]"
   ]
  },
  {
   "cell_type": "code",
   "execution_count": 165,
   "id": "016ce5f4",
   "metadata": {},
   "outputs": [],
   "source": [
    "a = time.time()"
   ]
  },
  {
   "cell_type": "code",
   "execution_count": 166,
   "id": "eb0a5d63",
   "metadata": {},
   "outputs": [],
   "source": [
    "bm25 = BM25L(data_preprocess)"
   ]
  },
  {
   "cell_type": "code",
   "execution_count": 167,
   "id": "42605cc7",
   "metadata": {},
   "outputs": [],
   "source": [
    "d = time.time()"
   ]
  },
  {
   "cell_type": "code",
   "execution_count": 168,
   "id": "3ab81400",
   "metadata": {},
   "outputs": [
    {
     "name": "stdout",
     "output_type": "stream",
     "text": [
      "Duração indexação: 1.714000\n"
     ]
    }
   ],
   "source": [
    "print(\"Duração indexação: %f\" % (d-a))"
   ]
  },
  {
   "cell_type": "markdown",
   "id": "0b2e6afb",
   "metadata": {},
   "source": [
    "### Recall"
   ]
  },
  {
   "cell_type": "code",
   "execution_count": 77,
   "id": "0ffbe0d5",
   "metadata": {},
   "outputs": [
    {
     "name": "stdout",
     "output_type": "stream",
     "text": [
      "Encontrados: 116\n",
      "Total: 295\n",
      "Acurácia 20 docs: 0.39322033898305087\n",
      "\n",
      "\n"
     ]
    }
   ],
   "source": [
    "avaliacaoRecall(5)"
   ]
  },
  {
   "cell_type": "code",
   "execution_count": 78,
   "id": "53cc56b1",
   "metadata": {},
   "outputs": [
    {
     "name": "stdout",
     "output_type": "stream",
     "text": [
      "Encontrados: 129\n",
      "Total: 295\n",
      "Acurácia 20 docs: 0.43728813559322033\n",
      "\n",
      "\n"
     ]
    }
   ],
   "source": [
    "avaliacaoRecall(10)"
   ]
  },
  {
   "cell_type": "code",
   "execution_count": 169,
   "id": "011149cd",
   "metadata": {},
   "outputs": [
    {
     "name": "stdout",
     "output_type": "stream",
     "text": [
      "Duração: 70.536997\n",
      "Encontrados: 149\n",
      "Total: 295\n",
      "Acurácia 20 docs: 0.5050847457627119\n",
      "\n",
      "\n"
     ]
    }
   ],
   "source": [
    "avaliacaoRecall(20)"
   ]
  },
  {
   "cell_type": "markdown",
   "id": "2f61132c",
   "metadata": {},
   "source": [
    "### Precision"
   ]
  },
  {
   "cell_type": "code",
   "execution_count": 80,
   "id": "5ca86350",
   "metadata": {},
   "outputs": [
    {
     "name": "stdout",
     "output_type": "stream",
     "text": [
      "Precision: 0.078644\n"
     ]
    }
   ],
   "source": [
    "avaliacaoPrecision(5)"
   ]
  },
  {
   "cell_type": "code",
   "execution_count": 81,
   "id": "08756217",
   "metadata": {},
   "outputs": [
    {
     "name": "stdout",
     "output_type": "stream",
     "text": [
      "Precision: 0.043729\n"
     ]
    }
   ],
   "source": [
    "avaliacaoPrecision(10)"
   ]
  },
  {
   "cell_type": "code",
   "execution_count": 82,
   "id": "e938d9e6",
   "metadata": {},
   "outputs": [
    {
     "name": "stdout",
     "output_type": "stream",
     "text": [
      "Precision: 0.024237\n"
     ]
    }
   ],
   "source": [
    "avaliacaoPrecision(20)"
   ]
  },
  {
   "cell_type": "markdown",
   "id": "d573d122",
   "metadata": {},
   "source": [
    "### MAP"
   ]
  },
  {
   "cell_type": "code",
   "execution_count": 83,
   "id": "878eb5b1",
   "metadata": {},
   "outputs": [
    {
     "name": "stdout",
     "output_type": "stream",
     "text": [
      "MAP: 0.001542\n"
     ]
    }
   ],
   "source": [
    "avaliacaoMAP(5)"
   ]
  },
  {
   "cell_type": "code",
   "execution_count": 84,
   "id": "8aef0fcd",
   "metadata": {},
   "outputs": [
    {
     "name": "stdout",
     "output_type": "stream",
     "text": [
      "MAP: 0.001150\n"
     ]
    }
   ],
   "source": [
    "avaliacaoMAP(10)"
   ]
  },
  {
   "cell_type": "code",
   "execution_count": 85,
   "id": "d66d2518",
   "metadata": {},
   "outputs": [
    {
     "name": "stdout",
     "output_type": "stream",
     "text": [
      "MAP: 0.000678\n"
     ]
    }
   ],
   "source": [
    "avaliacaoMAP(20)"
   ]
  },
  {
   "cell_type": "markdown",
   "id": "6a4df3f3",
   "metadata": {},
   "source": [
    "### RR"
   ]
  },
  {
   "cell_type": "code",
   "execution_count": 86,
   "id": "334ba8c4",
   "metadata": {},
   "outputs": [
    {
     "name": "stdout",
     "output_type": "stream",
     "text": [
      "RR: 0.240678\n"
     ]
    }
   ],
   "source": [
    "avaliacaoRR(5)"
   ]
  },
  {
   "cell_type": "code",
   "execution_count": 170,
   "id": "767f7489",
   "metadata": {},
   "outputs": [],
   "source": [
    "data_preprocess = None"
   ]
  },
  {
   "cell_type": "markdown",
   "id": "829b651e",
   "metadata": {},
   "source": [
    "### 18 lowercase + punctuation, acetuation, and stopword removal + stemming (RSLP) + unigram and bigram "
   ]
  },
  {
   "cell_type": "code",
   "execution_count": 171,
   "id": "ad78978e",
   "metadata": {},
   "outputs": [],
   "source": [
    "def _remove_acentos(txt):\n",
    "    return normalize('NFKD', txt).encode('ASCII', 'ignore').decode('ASCII')\n",
    "\n",
    "def preprocess(txt):\n",
    "    txt = str(txt)\n",
    "    txt = _remove_acentos(txt)\n",
    "    stopwords = nltk.corpus.stopwords.words(\"portuguese\")\n",
    "    stopwords.extend(list(punctuation))\n",
    "\n",
    "    stemmer = RSLPStemmer()\n",
    "    tokenizer = RegexpTokenizer('\\w+')\n",
    "    terms = tokenizer.tokenize(txt.lower())\n",
    "    terms = [stemmer.stem(word) for word in terms if word not in stopwords]\n",
    "    \n",
    "    ngram = []\n",
    "    ngram_1 = list(ngrams(terms, 1))\n",
    "    ngram_2 = list(ngrams(terms, 2))\n",
    "    for w in ngram_1:\n",
    "        ngram.append(w[0])\n",
    "        \n",
    "    for w in ngram_2:\n",
    "        string = w[0] + \" \" + w[1]\n",
    "        ngram.append(string)\n",
    "    \n",
    "    return ngram\n"
   ]
  },
  {
   "cell_type": "code",
   "execution_count": 172,
   "id": "a054b640",
   "metadata": {},
   "outputs": [],
   "source": [
    "data_preprocess = [preprocess(doc) for doc in data]"
   ]
  },
  {
   "cell_type": "code",
   "execution_count": 173,
   "id": "3732d9b2",
   "metadata": {},
   "outputs": [],
   "source": [
    "a = time.time()"
   ]
  },
  {
   "cell_type": "code",
   "execution_count": 174,
   "id": "e03c3faa",
   "metadata": {},
   "outputs": [],
   "source": [
    "bm25 = BM25L(data_preprocess)"
   ]
  },
  {
   "cell_type": "code",
   "execution_count": 175,
   "id": "0973c73e",
   "metadata": {},
   "outputs": [],
   "source": [
    "d = time.time()"
   ]
  },
  {
   "cell_type": "code",
   "execution_count": 176,
   "id": "8331ab01",
   "metadata": {},
   "outputs": [
    {
     "name": "stdout",
     "output_type": "stream",
     "text": [
      "Duração indexação: 3.505993\n"
     ]
    }
   ],
   "source": [
    "print(\"Duração indexação: %f\" % (d-a))"
   ]
  },
  {
   "cell_type": "markdown",
   "id": "784600a5",
   "metadata": {},
   "source": [
    "### Recall"
   ]
  },
  {
   "cell_type": "code",
   "execution_count": 91,
   "id": "d3d592d9",
   "metadata": {},
   "outputs": [
    {
     "name": "stdout",
     "output_type": "stream",
     "text": [
      "Encontrados: 108\n",
      "Total: 295\n",
      "Acurácia 20 docs: 0.36610169491525424\n",
      "\n",
      "\n"
     ]
    }
   ],
   "source": [
    "avaliacaoRecall(5)"
   ]
  },
  {
   "cell_type": "code",
   "execution_count": 92,
   "id": "1d386777",
   "metadata": {},
   "outputs": [
    {
     "name": "stdout",
     "output_type": "stream",
     "text": [
      "Encontrados: 122\n",
      "Total: 295\n",
      "Acurácia 20 docs: 0.4135593220338983\n",
      "\n",
      "\n"
     ]
    }
   ],
   "source": [
    "avaliacaoRecall(10)"
   ]
  },
  {
   "cell_type": "code",
   "execution_count": 177,
   "id": "50eaff9b",
   "metadata": {},
   "outputs": [
    {
     "name": "stdout",
     "output_type": "stream",
     "text": [
      "Duração: 91.166031\n",
      "Encontrados: 145\n",
      "Total: 295\n",
      "Acurácia 20 docs: 0.4915254237288136\n",
      "\n",
      "\n"
     ]
    }
   ],
   "source": [
    "avaliacaoRecall(20)"
   ]
  },
  {
   "cell_type": "markdown",
   "id": "b89c2374",
   "metadata": {},
   "source": [
    "### Precision"
   ]
  },
  {
   "cell_type": "code",
   "execution_count": 94,
   "id": "0648b712",
   "metadata": {},
   "outputs": [
    {
     "name": "stdout",
     "output_type": "stream",
     "text": [
      "Precision: 0.073220\n"
     ]
    }
   ],
   "source": [
    "avaliacaoPrecision(5)"
   ]
  },
  {
   "cell_type": "code",
   "execution_count": 95,
   "id": "cbc3e1e8",
   "metadata": {},
   "outputs": [
    {
     "name": "stdout",
     "output_type": "stream",
     "text": [
      "Precision: 0.041356\n"
     ]
    }
   ],
   "source": [
    "avaliacaoPrecision(10)"
   ]
  },
  {
   "cell_type": "code",
   "execution_count": 96,
   "id": "b97fc97c",
   "metadata": {},
   "outputs": [
    {
     "name": "stdout",
     "output_type": "stream",
     "text": [
      "Precision: 0.023220\n"
     ]
    }
   ],
   "source": [
    "avaliacaoPrecision(20)"
   ]
  },
  {
   "cell_type": "markdown",
   "id": "46e2f7a2",
   "metadata": {},
   "source": [
    "### MAP"
   ]
  },
  {
   "cell_type": "code",
   "execution_count": 97,
   "id": "753f958b",
   "metadata": {},
   "outputs": [
    {
     "name": "stdout",
     "output_type": "stream",
     "text": [
      "MAP: 0.001479\n"
     ]
    }
   ],
   "source": [
    "avaliacaoMAP(5)"
   ]
  },
  {
   "cell_type": "code",
   "execution_count": 98,
   "id": "8f907bd6",
   "metadata": {},
   "outputs": [
    {
     "name": "stdout",
     "output_type": "stream",
     "text": [
      "MAP: 0.001090\n"
     ]
    }
   ],
   "source": [
    "avaliacaoMAP(10)"
   ]
  },
  {
   "cell_type": "code",
   "execution_count": 99,
   "id": "fe1ce1bf",
   "metadata": {},
   "outputs": [
    {
     "name": "stdout",
     "output_type": "stream",
     "text": [
      "MAP: 0.000641\n"
     ]
    }
   ],
   "source": [
    "avaliacaoMAP(20)"
   ]
  },
  {
   "cell_type": "markdown",
   "id": "c25800ca",
   "metadata": {},
   "source": [
    "### RR"
   ]
  },
  {
   "cell_type": "code",
   "execution_count": 100,
   "id": "306d3eb6",
   "metadata": {},
   "outputs": [
    {
     "name": "stdout",
     "output_type": "stream",
     "text": [
      "RR: 0.237288\n"
     ]
    }
   ],
   "source": [
    "avaliacaoRR(5)"
   ]
  },
  {
   "cell_type": "code",
   "execution_count": 178,
   "id": "16cc0769",
   "metadata": {},
   "outputs": [],
   "source": [
    "data_preprocess = None"
   ]
  },
  {
   "cell_type": "markdown",
   "id": "efd264d3",
   "metadata": {},
   "source": [
    "### 21 lowercase + punctuation, acetuation, and stopword removal + stemming (Savoy) + unigram and bigram"
   ]
  },
  {
   "cell_type": "code",
   "execution_count": 179,
   "id": "aeb99f18",
   "metadata": {},
   "outputs": [],
   "source": [
    "def _remove_acentos(txt):\n",
    "    return normalize('NFKD', txt).encode('ASCII', 'ignore').decode('ASCII')\n",
    "\n",
    "def preprocess(txt):\n",
    "    txt = str(txt)\n",
    "    txt = _remove_acentos(txt)\n",
    "    stopwords = nltk.corpus.stopwords.words(\"portuguese\")\n",
    "    stopwords.extend(list(punctuation))\n",
    "    stemmer = Savoy()\n",
    "    tokenizer = RegexpTokenizer('\\w+')\n",
    "    terms = tokenizer.tokenize(txt.lower())\n",
    "    terms = [stemmer.stem(word) for word in terms if word not in stopwords]\n",
    "    \n",
    "    ngram = []\n",
    "    ngram_1 = list(ngrams(terms, 1))\n",
    "    ngram_2 = list(ngrams(terms, 2))\n",
    "    for w in ngram_1:\n",
    "        ngram.append(w[0])\n",
    "        \n",
    "    for w in ngram_2:\n",
    "        string = w[0] + \" \" + w[1]\n",
    "        ngram.append(string)\n",
    "    \n",
    "    return ngram"
   ]
  },
  {
   "cell_type": "code",
   "execution_count": 180,
   "id": "8b2830a8",
   "metadata": {},
   "outputs": [],
   "source": [
    "data_preprocess = [preprocess(doc) for doc in data]"
   ]
  },
  {
   "cell_type": "code",
   "execution_count": 181,
   "id": "15684709",
   "metadata": {},
   "outputs": [],
   "source": [
    "a = time.time()"
   ]
  },
  {
   "cell_type": "code",
   "execution_count": 182,
   "id": "af986f33",
   "metadata": {},
   "outputs": [],
   "source": [
    "bm25 = BM25L(data_preprocess)"
   ]
  },
  {
   "cell_type": "code",
   "execution_count": 183,
   "id": "b25a5095",
   "metadata": {},
   "outputs": [],
   "source": [
    "d = time.time()"
   ]
  },
  {
   "cell_type": "code",
   "execution_count": 184,
   "id": "be9d67a6",
   "metadata": {},
   "outputs": [
    {
     "name": "stdout",
     "output_type": "stream",
     "text": [
      "Duração indexação: 4.299007\n"
     ]
    }
   ],
   "source": [
    "print(\"Duração indexação: %f\" % (d-a))"
   ]
  },
  {
   "cell_type": "markdown",
   "id": "8d265ac0",
   "metadata": {},
   "source": [
    "### Recall"
   ]
  },
  {
   "cell_type": "code",
   "execution_count": 105,
   "id": "593d6cc9",
   "metadata": {},
   "outputs": [
    {
     "name": "stdout",
     "output_type": "stream",
     "text": [
      "Encontrados: 107\n",
      "Total: 295\n",
      "Acurácia 20 docs: 0.36271186440677966\n",
      "\n",
      "\n"
     ]
    }
   ],
   "source": [
    "avaliacaoRecall(5)"
   ]
  },
  {
   "cell_type": "code",
   "execution_count": 106,
   "id": "4a8c0991",
   "metadata": {},
   "outputs": [
    {
     "name": "stdout",
     "output_type": "stream",
     "text": [
      "Encontrados: 125\n",
      "Total: 295\n",
      "Acurácia 20 docs: 0.423728813559322\n",
      "\n",
      "\n"
     ]
    }
   ],
   "source": [
    "avaliacaoRecall(10)"
   ]
  },
  {
   "cell_type": "code",
   "execution_count": 185,
   "id": "8b0e6eba",
   "metadata": {},
   "outputs": [
    {
     "name": "stdout",
     "output_type": "stream",
     "text": [
      "Duração: 85.290036\n",
      "Encontrados: 147\n",
      "Total: 295\n",
      "Acurácia 20 docs: 0.49830508474576274\n",
      "\n",
      "\n"
     ]
    }
   ],
   "source": [
    "avaliacaoRecall(20)"
   ]
  },
  {
   "cell_type": "markdown",
   "id": "355c7232",
   "metadata": {},
   "source": [
    "### Precision"
   ]
  },
  {
   "cell_type": "code",
   "execution_count": 108,
   "id": "1afed9d1",
   "metadata": {},
   "outputs": [
    {
     "name": "stdout",
     "output_type": "stream",
     "text": [
      "Precision: 0.072542\n"
     ]
    }
   ],
   "source": [
    "avaliacaoPrecision(5)"
   ]
  },
  {
   "cell_type": "code",
   "execution_count": 109,
   "id": "c43a2bc9",
   "metadata": {},
   "outputs": [
    {
     "name": "stdout",
     "output_type": "stream",
     "text": [
      "Precision: 0.042373\n"
     ]
    }
   ],
   "source": [
    "avaliacaoPrecision(10)"
   ]
  },
  {
   "cell_type": "code",
   "execution_count": 110,
   "id": "eae09b59",
   "metadata": {},
   "outputs": [
    {
     "name": "stdout",
     "output_type": "stream",
     "text": [
      "Precision: 0.023729\n"
     ]
    }
   ],
   "source": [
    "avaliacaoPrecision(20)"
   ]
  },
  {
   "cell_type": "markdown",
   "id": "c0ed230a",
   "metadata": {},
   "source": [
    "### MAP"
   ]
  },
  {
   "cell_type": "code",
   "execution_count": 111,
   "id": "f37d454b",
   "metadata": {},
   "outputs": [
    {
     "name": "stdout",
     "output_type": "stream",
     "text": [
      "MAP: 0.001414\n"
     ]
    }
   ],
   "source": [
    "avaliacaoMAP(5)"
   ]
  },
  {
   "cell_type": "code",
   "execution_count": 112,
   "id": "1930c8d9",
   "metadata": {},
   "outputs": [
    {
     "name": "stdout",
     "output_type": "stream",
     "text": [
      "MAP: 0.000953\n"
     ]
    }
   ],
   "source": [
    "avaliacaoMAP(10)"
   ]
  },
  {
   "cell_type": "code",
   "execution_count": 113,
   "id": "6abd70eb",
   "metadata": {},
   "outputs": [
    {
     "name": "stdout",
     "output_type": "stream",
     "text": [
      "MAP: 0.000640\n"
     ]
    }
   ],
   "source": [
    "avaliacaoMAP(20)"
   ]
  },
  {
   "cell_type": "markdown",
   "id": "12fe26e0",
   "metadata": {},
   "source": [
    "### RR"
   ]
  },
  {
   "cell_type": "code",
   "execution_count": 114,
   "id": "00585afb",
   "metadata": {},
   "outputs": [
    {
     "name": "stdout",
     "output_type": "stream",
     "text": [
      "RR: 0.216949\n"
     ]
    }
   ],
   "source": [
    "avaliacaoRR(5)"
   ]
  },
  {
   "cell_type": "markdown",
   "id": "56001117",
   "metadata": {},
   "source": [
    "### 22 lowercase + punctuation, acetuation, and stopword removal + stemming (RSLP_S)"
   ]
  },
  {
   "cell_type": "code",
   "execution_count": 186,
   "id": "db6831bb",
   "metadata": {},
   "outputs": [],
   "source": [
    "def _remove_acentos(txt):\n",
    "    return normalize('NFKD', txt).encode('ASCII', 'ignore').decode('ASCII')\n",
    "\n",
    "def preprocess(txt):\n",
    "    txt = str(txt)\n",
    "    txt = _remove_acentos(txt)\n",
    "    stopwords = nltk.corpus.stopwords.words(\"portuguese\")\n",
    "    stopwords.extend(list(punctuation))\n",
    "\n",
    "    stemmer = RSLP_S()\n",
    "    tokenizer = RegexpTokenizer('\\w+')\n",
    "    terms = tokenizer.tokenize(txt.lower())\n",
    "    terms = [stemmer.stem(word) for word in terms if word not in stopwords]\n",
    "        \n",
    "    return terms"
   ]
  },
  {
   "cell_type": "code",
   "execution_count": 187,
   "id": "a1c7ad72",
   "metadata": {},
   "outputs": [],
   "source": [
    "data_preprocess = [preprocess(doc) for doc in data]"
   ]
  },
  {
   "cell_type": "code",
   "execution_count": 188,
   "id": "b5a84196",
   "metadata": {},
   "outputs": [],
   "source": [
    "a = time.time()"
   ]
  },
  {
   "cell_type": "code",
   "execution_count": 189,
   "id": "2bcb168f",
   "metadata": {},
   "outputs": [],
   "source": [
    "bm25 = BM25L(data_preprocess)"
   ]
  },
  {
   "cell_type": "code",
   "execution_count": 190,
   "id": "1acee3c4",
   "metadata": {},
   "outputs": [],
   "source": [
    "d = time.time()"
   ]
  },
  {
   "cell_type": "code",
   "execution_count": 191,
   "id": "e4562d31",
   "metadata": {},
   "outputs": [
    {
     "name": "stdout",
     "output_type": "stream",
     "text": [
      "Duração indexação: 1.359988\n"
     ]
    }
   ],
   "source": [
    "print(\"Duração indexação: %f\" % (d-a))"
   ]
  },
  {
   "cell_type": "markdown",
   "id": "0ce46e6f",
   "metadata": {},
   "source": [
    "### Recall"
   ]
  },
  {
   "cell_type": "code",
   "execution_count": 63,
   "id": "6f8dedee",
   "metadata": {},
   "outputs": [
    {
     "name": "stdout",
     "output_type": "stream",
     "text": [
      "Encontrados: 113\n",
      "Total: 295\n",
      "Acurácia 20 docs: 0.38305084745762713\n",
      "\n",
      "\n"
     ]
    }
   ],
   "source": [
    "avaliacaoRecall(5)"
   ]
  },
  {
   "cell_type": "code",
   "execution_count": 64,
   "id": "1aa7aa28",
   "metadata": {},
   "outputs": [
    {
     "name": "stdout",
     "output_type": "stream",
     "text": [
      "Encontrados: 125\n",
      "Total: 295\n",
      "Acurácia 20 docs: 0.423728813559322\n",
      "\n",
      "\n"
     ]
    }
   ],
   "source": [
    "avaliacaoRecall(10)"
   ]
  },
  {
   "cell_type": "code",
   "execution_count": 192,
   "id": "06f69e82",
   "metadata": {},
   "outputs": [
    {
     "name": "stdout",
     "output_type": "stream",
     "text": [
      "Duração: 70.707999\n",
      "Encontrados: 148\n",
      "Total: 295\n",
      "Acurácia 20 docs: 0.5016949152542373\n",
      "\n",
      "\n"
     ]
    }
   ],
   "source": [
    "avaliacaoRecall(20)"
   ]
  },
  {
   "cell_type": "markdown",
   "id": "41d77369",
   "metadata": {},
   "source": [
    "### Precision"
   ]
  },
  {
   "cell_type": "code",
   "execution_count": 66,
   "id": "9fc641a0",
   "metadata": {},
   "outputs": [
    {
     "name": "stdout",
     "output_type": "stream",
     "text": [
      "Precision: 0.076610\n"
     ]
    }
   ],
   "source": [
    "avaliacaoPrecision(5)"
   ]
  },
  {
   "cell_type": "code",
   "execution_count": 67,
   "id": "33a0848e",
   "metadata": {},
   "outputs": [
    {
     "name": "stdout",
     "output_type": "stream",
     "text": [
      "Precision: 0.042373\n"
     ]
    }
   ],
   "source": [
    "avaliacaoPrecision(10)"
   ]
  },
  {
   "cell_type": "code",
   "execution_count": 68,
   "id": "e8a8f43d",
   "metadata": {},
   "outputs": [
    {
     "name": "stdout",
     "output_type": "stream",
     "text": [
      "Precision: 0.023729\n"
     ]
    }
   ],
   "source": [
    "avaliacaoPrecision(20)"
   ]
  },
  {
   "cell_type": "markdown",
   "id": "cb971ed5",
   "metadata": {},
   "source": [
    "### MAP"
   ]
  },
  {
   "cell_type": "code",
   "execution_count": 69,
   "id": "64eccc89",
   "metadata": {},
   "outputs": [
    {
     "name": "stdout",
     "output_type": "stream",
     "text": [
      "MAP: 0.001513\n"
     ]
    }
   ],
   "source": [
    "avaliacaoMAP(5)"
   ]
  },
  {
   "cell_type": "code",
   "execution_count": 70,
   "id": "6a4138d3",
   "metadata": {},
   "outputs": [
    {
     "name": "stdout",
     "output_type": "stream",
     "text": [
      "MAP: 0.001092\n"
     ]
    }
   ],
   "source": [
    "avaliacaoMAP(10)"
   ]
  },
  {
   "cell_type": "code",
   "execution_count": 71,
   "id": "6372b37a",
   "metadata": {},
   "outputs": [
    {
     "name": "stdout",
     "output_type": "stream",
     "text": [
      "MAP: 0.000630\n"
     ]
    }
   ],
   "source": [
    "avaliacaoMAP(20)"
   ]
  },
  {
   "cell_type": "markdown",
   "id": "9326d8a7",
   "metadata": {},
   "source": [
    "### RR"
   ]
  },
  {
   "cell_type": "code",
   "execution_count": 72,
   "id": "4ab09247",
   "metadata": {},
   "outputs": [
    {
     "name": "stdout",
     "output_type": "stream",
     "text": [
      "RR: 0.237288\n"
     ]
    }
   ],
   "source": [
    "avaliacaoRR(5)"
   ]
  },
  {
   "cell_type": "code",
   "execution_count": 193,
   "id": "b693716e",
   "metadata": {},
   "outputs": [],
   "source": [
    "data_preprocess = None"
   ]
  },
  {
   "cell_type": "markdown",
   "id": "f286c014",
   "metadata": {},
   "source": [
    "### 23 lowercase + punctuation, acetuation, and stopword removal + stemming (RSLP) + unigram and bigram "
   ]
  },
  {
   "cell_type": "code",
   "execution_count": 194,
   "id": "ec2034fa",
   "metadata": {},
   "outputs": [],
   "source": [
    "def _remove_acentos(txt):\n",
    "    return normalize('NFKD', txt).encode('ASCII', 'ignore').decode('ASCII')\n",
    "\n",
    "def preprocess(txt):\n",
    "    txt = str(txt)\n",
    "    txt = _remove_acentos(txt)\n",
    "    stopwords = nltk.corpus.stopwords.words(\"portuguese\")\n",
    "    stopwords.extend(list(punctuation))\n",
    "\n",
    "    stemmer = RSLP_S()\n",
    "    tokenizer = RegexpTokenizer('\\w+')\n",
    "    terms = tokenizer.tokenize(txt.lower())\n",
    "    terms = [stemmer.stem(word) for word in terms if word not in stopwords]\n",
    "    \n",
    "    ngram = []\n",
    "    ngram_1 = list(ngrams(terms, 1))\n",
    "    ngram_2 = list(ngrams(terms, 2))\n",
    "    for w in ngram_1:\n",
    "        ngram.append(w[0])\n",
    "        \n",
    "    for w in ngram_2:\n",
    "        string = w[0] + \" \" + w[1]\n",
    "        ngram.append(string)\n",
    "    \n",
    "    return ngram\n"
   ]
  },
  {
   "cell_type": "code",
   "execution_count": 195,
   "id": "91827bb6",
   "metadata": {},
   "outputs": [],
   "source": [
    "data_preprocess = [preprocess(doc) for doc in data]"
   ]
  },
  {
   "cell_type": "code",
   "execution_count": 196,
   "id": "bf7300ba",
   "metadata": {},
   "outputs": [],
   "source": [
    "a = time.time()"
   ]
  },
  {
   "cell_type": "code",
   "execution_count": 197,
   "id": "31463fe7",
   "metadata": {},
   "outputs": [],
   "source": [
    "bm25 = BM25L(data_preprocess)"
   ]
  },
  {
   "cell_type": "code",
   "execution_count": 198,
   "id": "f2724a8c",
   "metadata": {},
   "outputs": [],
   "source": [
    "d = time.time()"
   ]
  },
  {
   "cell_type": "code",
   "execution_count": 199,
   "id": "2783924b",
   "metadata": {},
   "outputs": [
    {
     "name": "stdout",
     "output_type": "stream",
     "text": [
      "Duração indexação: 3.636016\n"
     ]
    }
   ],
   "source": [
    "print(\"Duração indexação: %f\" % (d-a))"
   ]
  },
  {
   "cell_type": "markdown",
   "id": "afb7877e",
   "metadata": {},
   "source": [
    "### Recall"
   ]
  },
  {
   "cell_type": "code",
   "execution_count": 77,
   "id": "a3f3f9b9",
   "metadata": {},
   "outputs": [
    {
     "name": "stdout",
     "output_type": "stream",
     "text": [
      "Encontrados: 103\n",
      "Total: 295\n",
      "Acurácia 20 docs: 0.34915254237288135\n",
      "\n",
      "\n"
     ]
    }
   ],
   "source": [
    "avaliacaoRecall(5)"
   ]
  },
  {
   "cell_type": "code",
   "execution_count": 78,
   "id": "43ee0bf9",
   "metadata": {},
   "outputs": [
    {
     "name": "stdout",
     "output_type": "stream",
     "text": [
      "Encontrados: 120\n",
      "Total: 295\n",
      "Acurácia 20 docs: 0.4067796610169492\n",
      "\n",
      "\n"
     ]
    }
   ],
   "source": [
    "avaliacaoRecall(10)"
   ]
  },
  {
   "cell_type": "code",
   "execution_count": 200,
   "id": "fd45c933",
   "metadata": {},
   "outputs": [
    {
     "name": "stdout",
     "output_type": "stream",
     "text": [
      "Duração: 81.711001\n",
      "Encontrados: 142\n",
      "Total: 295\n",
      "Acurácia 20 docs: 0.48135593220338985\n",
      "\n",
      "\n"
     ]
    }
   ],
   "source": [
    "avaliacaoRecall(20)"
   ]
  },
  {
   "cell_type": "markdown",
   "id": "3cf8f299",
   "metadata": {},
   "source": [
    "### Precision"
   ]
  },
  {
   "cell_type": "code",
   "execution_count": 80,
   "id": "89bd05e5",
   "metadata": {},
   "outputs": [
    {
     "name": "stdout",
     "output_type": "stream",
     "text": [
      "Precision: 0.069831\n"
     ]
    }
   ],
   "source": [
    "avaliacaoPrecision(5)"
   ]
  },
  {
   "cell_type": "code",
   "execution_count": 81,
   "id": "59ecbb55",
   "metadata": {},
   "outputs": [
    {
     "name": "stdout",
     "output_type": "stream",
     "text": [
      "Precision: 0.040678\n"
     ]
    }
   ],
   "source": [
    "avaliacaoPrecision(10)"
   ]
  },
  {
   "cell_type": "code",
   "execution_count": 82,
   "id": "611f1b51",
   "metadata": {},
   "outputs": [
    {
     "name": "stdout",
     "output_type": "stream",
     "text": [
      "Precision: 0.023559\n"
     ]
    }
   ],
   "source": [
    "avaliacaoPrecision(20)"
   ]
  },
  {
   "cell_type": "markdown",
   "id": "4f031fc0",
   "metadata": {},
   "source": [
    "### MAP"
   ]
  },
  {
   "cell_type": "code",
   "execution_count": 83,
   "id": "7fabc1a7",
   "metadata": {},
   "outputs": [
    {
     "name": "stdout",
     "output_type": "stream",
     "text": [
      "MAP: 0.001260\n"
     ]
    }
   ],
   "source": [
    "avaliacaoMAP(5)"
   ]
  },
  {
   "cell_type": "code",
   "execution_count": 84,
   "id": "6dfd2f7d",
   "metadata": {},
   "outputs": [
    {
     "name": "stdout",
     "output_type": "stream",
     "text": [
      "MAP: 0.001028\n"
     ]
    }
   ],
   "source": [
    "avaliacaoMAP(10)"
   ]
  },
  {
   "cell_type": "code",
   "execution_count": 85,
   "id": "cabd8c5b",
   "metadata": {},
   "outputs": [
    {
     "name": "stdout",
     "output_type": "stream",
     "text": [
      "MAP: 0.000646\n"
     ]
    }
   ],
   "source": [
    "avaliacaoMAP(20)"
   ]
  },
  {
   "cell_type": "markdown",
   "id": "9f79fadf",
   "metadata": {},
   "source": [
    "### RR"
   ]
  },
  {
   "cell_type": "code",
   "execution_count": 86,
   "id": "c56a4937",
   "metadata": {},
   "outputs": [
    {
     "name": "stdout",
     "output_type": "stream",
     "text": [
      "RR: 0.220339\n"
     ]
    }
   ],
   "source": [
    "avaliacaoRR(5)"
   ]
  },
  {
   "cell_type": "code",
   "execution_count": 201,
   "id": "b5a0d9cf",
   "metadata": {},
   "outputs": [],
   "source": [
    "data_preprocess = None"
   ]
  },
  {
   "cell_type": "markdown",
   "id": "8dec2a0d",
   "metadata": {},
   "source": [
    "# Emenda + Indexacao"
   ]
  },
  {
   "cell_type": "code",
   "execution_count": 202,
   "id": "18dabfe9",
   "metadata": {},
   "outputs": [],
   "source": [
    "def get_name(base, doc):\n",
    "    return str(base[base.txtIndexacao==doc].txtNome.to_numpy()[0]).strip()"
   ]
  },
  {
   "cell_type": "code",
   "execution_count": 203,
   "id": "aede4bd9",
   "metadata": {},
   "outputs": [],
   "source": [
    "base['txtIndexacao'] = base['txtEmenta'] + base['txtIndexacao']"
   ]
  },
  {
   "cell_type": "code",
   "execution_count": 204,
   "id": "b449e839",
   "metadata": {},
   "outputs": [],
   "source": [
    "data = base.txtIndexacao.dropna()        # Trocar com nome da coluna desejada\n",
    "data = data.to_numpy()"
   ]
  },
  {
   "cell_type": "code",
   "execution_count": 91,
   "id": "697a564b",
   "metadata": {},
   "outputs": [],
   "source": [
    "def avaliacaoRR(top_k=20):\n",
    "    primeira_posicao=0\n",
    "    \n",
    "    for l,x in zip(y,X):\n",
    "        tokenized_query3 = preprocess(x)                   \n",
    "     \n",
    "        top_n_stem_l = bm25.get_top_n(tokenized_query3,data, n=top_k)\n",
    "        labelsnsL = [get_name(base,d) for d in top_n_stem_l]\n",
    "        if str(labelsnsL[0]).strip() == l.strip():\n",
    "            primeira_posicao+=1\n",
    "    rr = primeira_posicao / 295\n",
    "    print(\"RR: %f\" % (rr))"
   ]
  },
  {
   "cell_type": "code",
   "execution_count": 92,
   "id": "6a6e79de",
   "metadata": {},
   "outputs": [],
   "source": [
    "def avaliacaoMAP(top_k=20):\n",
    "    \n",
    "    l_v = list()\n",
    "    labels_nsL = list()\n",
    "    for l,x in zip(y,X):\n",
    "        tokenized_query3 = preprocess(x)                   \n",
    "        top_n_stem_l = bm25.get_top_n(tokenized_query3,data, n=top_k)\n",
    "        labelsnsL = [get_name(base,d) for d in top_n_stem_l] \n",
    "        \n",
    "        l_v.append(l)\n",
    "        labels_nsL.append(labelsnsL)\n",
    "    \n",
    "    denominador = 0\n",
    "    \n",
    "    encontrou=False\n",
    "    soma=0\n",
    "    for Y,x in zip(l_v,labels_nsL):\n",
    "        calc = 0\n",
    "        quant=0\n",
    "        for k in x:\n",
    "            if str(k).strip() == Y.strip():\n",
    "                quant=1\n",
    "                encontrou=True\n",
    "            denominador+=1\n",
    "            calc=quant/denominador\n",
    "            if encontrou:\n",
    "                calc = calc * 1\n",
    "            else:\n",
    "                calc = calc * 0\n",
    "            soma+=calc\n",
    "            encontrou = False\n",
    "    MAP = soma /295\n",
    "    print(\"MAP: %f\" % (MAP))            "
   ]
  },
  {
   "cell_type": "code",
   "execution_count": 93,
   "id": "c8061404",
   "metadata": {},
   "outputs": [],
   "source": [
    "def avaliacaoPrecision(top_k=20):\n",
    "    l_v = list()\n",
    "    labels_nsL = list()\n",
    "    for l,x in zip(y,X):\n",
    "        tokenized_query3 = preprocess(x)                   \n",
    "        top_n_stem_l = bm25.get_top_n(tokenized_query3,data, n=top_k)\n",
    "        labelsnsL = [get_name(base,d) for d in top_n_stem_l] \n",
    "        \n",
    "        l_v.append(l)\n",
    "        labels_nsL.append(labelsnsL)\n",
    "    \n",
    "    soma=0\n",
    "    for Y,x in zip(l_v,labels_nsL):\n",
    "        calc = 0\n",
    "        for k in x:\n",
    "            if str(k).strip() == Y.strip():\n",
    "                calc=1\n",
    "                break\n",
    "        calc=calc/top_k\n",
    "        soma+=calc\n",
    "    precision = soma /295\n",
    "    print(\"Precision: %f\" % (precision))"
   ]
  },
  {
   "cell_type": "code",
   "execution_count": 94,
   "id": "4b0934c6",
   "metadata": {},
   "outputs": [],
   "source": [
    "def avaliacaoRecall(top_k=20):\n",
    "\n",
    "    labels_nsL = list()\n",
    "\n",
    "\n",
    "    l_v = list()\n",
    "    for l,x in zip(y,X):\n",
    "\n",
    "        tokenized_query3 = preprocess(x)                   \n",
    "     \n",
    "        top_n_stem_l = bm25.get_top_n(tokenized_query3,data, n=top_k)\n",
    "        \n",
    "   \n",
    "        labelsnsL = [get_name(base,d) for d in top_n_stem_l]              #L\n",
    " \n",
    "        labels_nsL.append(labelsnsL)    #L\n",
    "        \n",
    "    \n",
    "        l_v.append(l)\n",
    "        \n",
    "    \n",
    "    res_nsL = list()                #Stopwords + Acentuação + Stemming + Unigram + Bigram (L)\n",
    "\n",
    "\n",
    "    for k in range(1, top_k+1):\n",
    "\n",
    "\n",
    "        resultsnsL = list()         #Stopwords + Acentuação + Stemming + Unigram + Bigram (L)\n",
    "\n",
    "\n",
    "        for i in range(len(l_v)):\n",
    "\n",
    "\n",
    "            if (l_v[i] in labels_nsL[i][:k]):\n",
    "                resultsnsL.append(1)\n",
    "            else:\n",
    "                resultsnsL.append(0)\n",
    "\n",
    "       \n",
    "        res_nsL.append(sum(resultsnsL)/len(resultsnsL))\n",
    "    print(f\"Encontrados: {sum(resultsnsL)}\")\n",
    "    print(f\"Total: {len(arr_assunto)}\")\n",
    "#     print(f\"Acurácia 10 docs: {res_nsL[9]}\")\n",
    "    print(f\"Acurácia 20 docs: {res_nsL[-1]}\\n\\n\")"
   ]
  },
  {
   "cell_type": "markdown",
   "id": "30698069",
   "metadata": {},
   "source": [
    "# basic preprocessing"
   ]
  },
  {
   "cell_type": "markdown",
   "id": "65608f92",
   "metadata": {},
   "source": [
    "### 1 no preprocessing"
   ]
  },
  {
   "cell_type": "code",
   "execution_count": 205,
   "id": "d28793c3",
   "metadata": {},
   "outputs": [],
   "source": [
    "def preprocess(txt):\n",
    "    txt =  str(txt)\n",
    "    terms = word_tokenize(txt)\n",
    "    \n",
    "    return terms"
   ]
  },
  {
   "cell_type": "code",
   "execution_count": 206,
   "id": "dc65a800",
   "metadata": {},
   "outputs": [],
   "source": [
    "data_preprocess = [preprocess(doc) for doc in data]"
   ]
  },
  {
   "cell_type": "code",
   "execution_count": 207,
   "id": "fd0ff607",
   "metadata": {},
   "outputs": [],
   "source": [
    "a = time.time()"
   ]
  },
  {
   "cell_type": "code",
   "execution_count": 208,
   "id": "cea3d96c",
   "metadata": {},
   "outputs": [],
   "source": [
    "bm25 = BM25L(data_preprocess)"
   ]
  },
  {
   "cell_type": "code",
   "execution_count": 209,
   "id": "7803a859",
   "metadata": {},
   "outputs": [],
   "source": [
    "d = time.time()"
   ]
  },
  {
   "cell_type": "code",
   "execution_count": 210,
   "id": "0ef92822",
   "metadata": {},
   "outputs": [
    {
     "name": "stdout",
     "output_type": "stream",
     "text": [
      "Duração indexação: 3.337997\n"
     ]
    }
   ],
   "source": [
    "print(\"Duração indexação: %f\" % (d-a))"
   ]
  },
  {
   "cell_type": "markdown",
   "id": "100ca4bf",
   "metadata": {},
   "source": [
    "### Recall"
   ]
  },
  {
   "cell_type": "code",
   "execution_count": 125,
   "id": "a7a8d2b1",
   "metadata": {},
   "outputs": [
    {
     "name": "stdout",
     "output_type": "stream",
     "text": [
      "Encontrados: 102\n",
      "Total: 295\n",
      "Acurácia 20 docs: 0.34576271186440677\n",
      "\n",
      "\n"
     ]
    }
   ],
   "source": [
    "avaliacaoRecall(5)"
   ]
  },
  {
   "cell_type": "code",
   "execution_count": 126,
   "id": "613cf54a",
   "metadata": {},
   "outputs": [
    {
     "name": "stdout",
     "output_type": "stream",
     "text": [
      "Encontrados: 116\n",
      "Total: 295\n",
      "Acurácia 20 docs: 0.39322033898305087\n",
      "\n",
      "\n"
     ]
    }
   ],
   "source": [
    "avaliacaoRecall(10)"
   ]
  },
  {
   "cell_type": "code",
   "execution_count": 211,
   "id": "02a3e3bc",
   "metadata": {},
   "outputs": [
    {
     "name": "stdout",
     "output_type": "stream",
     "text": [
      "Duração: 133.149001\n",
      "Encontrados: 136\n",
      "Total: 295\n",
      "Acurácia 20 docs: 0.4610169491525424\n",
      "\n",
      "\n"
     ]
    }
   ],
   "source": [
    "avaliacaoRecall(20)"
   ]
  },
  {
   "cell_type": "markdown",
   "id": "7111fdb9",
   "metadata": {},
   "source": [
    "### Precision"
   ]
  },
  {
   "cell_type": "code",
   "execution_count": 128,
   "id": "6c99b95e",
   "metadata": {},
   "outputs": [
    {
     "name": "stdout",
     "output_type": "stream",
     "text": [
      "Precision: 0.069153\n"
     ]
    }
   ],
   "source": [
    "avaliacaoPrecision(5)"
   ]
  },
  {
   "cell_type": "code",
   "execution_count": 129,
   "id": "467d7d7e",
   "metadata": {},
   "outputs": [
    {
     "name": "stdout",
     "output_type": "stream",
     "text": [
      "Precision: 0.039322\n"
     ]
    }
   ],
   "source": [
    "avaliacaoPrecision(10)"
   ]
  },
  {
   "cell_type": "code",
   "execution_count": 130,
   "id": "0a0d07af",
   "metadata": {},
   "outputs": [
    {
     "name": "stdout",
     "output_type": "stream",
     "text": [
      "Precision: 0.021356\n"
     ]
    }
   ],
   "source": [
    "avaliacaoPrecision(20)"
   ]
  },
  {
   "cell_type": "markdown",
   "id": "b3731ccb",
   "metadata": {},
   "source": [
    "### MAP"
   ]
  },
  {
   "cell_type": "code",
   "execution_count": 131,
   "id": "5a0a141a",
   "metadata": {},
   "outputs": [
    {
     "name": "stdout",
     "output_type": "stream",
     "text": [
      "MAP: 0.002096\n"
     ]
    }
   ],
   "source": [
    "avaliacaoMAP(5)"
   ]
  },
  {
   "cell_type": "code",
   "execution_count": 132,
   "id": "bb8592de",
   "metadata": {},
   "outputs": [
    {
     "name": "stdout",
     "output_type": "stream",
     "text": [
      "MAP: 0.001223\n"
     ]
    }
   ],
   "source": [
    "avaliacaoMAP(10)"
   ]
  },
  {
   "cell_type": "code",
   "execution_count": 133,
   "id": "b270763c",
   "metadata": {},
   "outputs": [
    {
     "name": "stdout",
     "output_type": "stream",
     "text": [
      "MAP: 0.000792\n"
     ]
    }
   ],
   "source": [
    "avaliacaoMAP(20)"
   ]
  },
  {
   "cell_type": "markdown",
   "id": "7b8fd435",
   "metadata": {},
   "source": [
    "### RR"
   ]
  },
  {
   "cell_type": "code",
   "execution_count": 134,
   "id": "2d23121c",
   "metadata": {},
   "outputs": [
    {
     "name": "stdout",
     "output_type": "stream",
     "text": [
      "RR: 0.227119\n"
     ]
    }
   ],
   "source": [
    "avaliacaoRR(5)"
   ]
  },
  {
   "cell_type": "code",
   "execution_count": 212,
   "id": "278f4507",
   "metadata": {},
   "outputs": [],
   "source": [
    "data_preprocess = None"
   ]
  },
  {
   "cell_type": "markdown",
   "id": "6f3d9b19",
   "metadata": {},
   "source": [
    "### 5 lowercase + punctuation, acetuation, and stopword removal"
   ]
  },
  {
   "cell_type": "code",
   "execution_count": 213,
   "id": "74233c8f",
   "metadata": {},
   "outputs": [],
   "source": [
    "def _remove_acentos(txt):\n",
    "    return normalize('NFKD', txt).encode('ASCII', 'ignore').decode('ASCII')\n",
    "\n",
    "def preprocess(txt):\n",
    "    txt = str(txt)\n",
    "    txt = _remove_acentos(txt)\n",
    "    stopwords = nltk.corpus.stopwords.words(\"portuguese\")\n",
    "    stopwords.extend(list(punctuation))\n",
    "    tokenizer = RegexpTokenizer('\\w+')\n",
    "    terms = tokenizer.tokenize(txt.lower())\n",
    "    terms = [word for word in terms if word not in stopwords]\n",
    "\n",
    "    return terms"
   ]
  },
  {
   "cell_type": "code",
   "execution_count": 214,
   "id": "981193c0",
   "metadata": {},
   "outputs": [],
   "source": [
    "data_preprocess = [preprocess(doc) for doc in data]"
   ]
  },
  {
   "cell_type": "code",
   "execution_count": 215,
   "id": "617553ad",
   "metadata": {},
   "outputs": [],
   "source": [
    "a = time.time()"
   ]
  },
  {
   "cell_type": "code",
   "execution_count": 216,
   "id": "5c452691",
   "metadata": {},
   "outputs": [],
   "source": [
    "bm25 = BM25L(data_preprocess)"
   ]
  },
  {
   "cell_type": "code",
   "execution_count": 217,
   "id": "e0f776f1",
   "metadata": {},
   "outputs": [],
   "source": [
    "d = time.time()"
   ]
  },
  {
   "cell_type": "code",
   "execution_count": 218,
   "id": "f94e8cd3",
   "metadata": {},
   "outputs": [
    {
     "name": "stdout",
     "output_type": "stream",
     "text": [
      "Duração indexação: 2.198020\n"
     ]
    }
   ],
   "source": [
    "print(\"Duração indexação: %f\" % (d-a))"
   ]
  },
  {
   "cell_type": "markdown",
   "id": "d38150e1",
   "metadata": {},
   "source": [
    "### Recall"
   ]
  },
  {
   "cell_type": "code",
   "execution_count": 139,
   "id": "62ed4c12",
   "metadata": {},
   "outputs": [
    {
     "name": "stdout",
     "output_type": "stream",
     "text": [
      "Encontrados: 128\n",
      "Total: 295\n",
      "Acurácia 20 docs: 0.43389830508474575\n",
      "\n",
      "\n"
     ]
    }
   ],
   "source": [
    "avaliacaoRecall(5)"
   ]
  },
  {
   "cell_type": "code",
   "execution_count": 140,
   "id": "91ae39f1",
   "metadata": {},
   "outputs": [
    {
     "name": "stdout",
     "output_type": "stream",
     "text": [
      "Encontrados: 142\n",
      "Total: 295\n",
      "Acurácia 20 docs: 0.48135593220338985\n",
      "\n",
      "\n"
     ]
    }
   ],
   "source": [
    "avaliacaoRecall(10)"
   ]
  },
  {
   "cell_type": "code",
   "execution_count": 219,
   "id": "45204ebc",
   "metadata": {},
   "outputs": [
    {
     "name": "stdout",
     "output_type": "stream",
     "text": [
      "Duração: 84.624031\n",
      "Encontrados: 174\n",
      "Total: 295\n",
      "Acurácia 20 docs: 0.5898305084745763\n",
      "\n",
      "\n"
     ]
    }
   ],
   "source": [
    "avaliacaoRecall(20)"
   ]
  },
  {
   "cell_type": "markdown",
   "id": "55ffc458",
   "metadata": {},
   "source": [
    "### Precision"
   ]
  },
  {
   "cell_type": "code",
   "execution_count": 142,
   "id": "6fc05efd",
   "metadata": {},
   "outputs": [
    {
     "name": "stdout",
     "output_type": "stream",
     "text": [
      "Precision: 0.086780\n"
     ]
    }
   ],
   "source": [
    "avaliacaoPrecision(5)"
   ]
  },
  {
   "cell_type": "code",
   "execution_count": 143,
   "id": "cf1b5d1d",
   "metadata": {},
   "outputs": [
    {
     "name": "stdout",
     "output_type": "stream",
     "text": [
      "Precision: 0.048136\n"
     ]
    }
   ],
   "source": [
    "avaliacaoPrecision(10)"
   ]
  },
  {
   "cell_type": "code",
   "execution_count": 144,
   "id": "c9bf1740",
   "metadata": {},
   "outputs": [
    {
     "name": "stdout",
     "output_type": "stream",
     "text": [
      "Precision: 0.027966\n"
     ]
    }
   ],
   "source": [
    "avaliacaoPrecision(20)"
   ]
  },
  {
   "cell_type": "markdown",
   "id": "be3e2229",
   "metadata": {},
   "source": [
    "### MAP"
   ]
  },
  {
   "cell_type": "code",
   "execution_count": 145,
   "id": "40f7a782",
   "metadata": {},
   "outputs": [
    {
     "name": "stdout",
     "output_type": "stream",
     "text": [
      "MAP: 0.002595\n"
     ]
    }
   ],
   "source": [
    "avaliacaoMAP(5)"
   ]
  },
  {
   "cell_type": "code",
   "execution_count": 146,
   "id": "c2c85ebd",
   "metadata": {},
   "outputs": [
    {
     "name": "stdout",
     "output_type": "stream",
     "text": [
      "MAP: 0.001431\n"
     ]
    }
   ],
   "source": [
    "avaliacaoMAP(10)"
   ]
  },
  {
   "cell_type": "code",
   "execution_count": 147,
   "id": "7c6edcd3",
   "metadata": {},
   "outputs": [
    {
     "name": "stdout",
     "output_type": "stream",
     "text": [
      "MAP: 0.000913\n"
     ]
    }
   ],
   "source": [
    "avaliacaoMAP(20)"
   ]
  },
  {
   "cell_type": "markdown",
   "id": "c8752959",
   "metadata": {},
   "source": [
    "### RR"
   ]
  },
  {
   "cell_type": "code",
   "execution_count": 148,
   "id": "8b7d8015",
   "metadata": {},
   "outputs": [
    {
     "name": "stdout",
     "output_type": "stream",
     "text": [
      "RR: 0.274576\n"
     ]
    }
   ],
   "source": [
    "avaliacaoRR(5)"
   ]
  },
  {
   "cell_type": "code",
   "execution_count": 220,
   "id": "fcb47266",
   "metadata": {},
   "outputs": [],
   "source": [
    "data_preprocess = None"
   ]
  },
  {
   "cell_type": "markdown",
   "id": "a04681c3",
   "metadata": {},
   "source": [
    "### 8 lowercase + punctuation, acetuation, and stopword removal + stemming (RSLP)"
   ]
  },
  {
   "cell_type": "code",
   "execution_count": 221,
   "id": "54aa95e8",
   "metadata": {},
   "outputs": [],
   "source": [
    "def _remove_acentos(txt):\n",
    "    return normalize('NFKD', txt).encode('ASCII', 'ignore').decode('ASCII')\n",
    "\n",
    "def preprocess(txt):\n",
    "    txt = str(txt)\n",
    "    txt = _remove_acentos(txt)\n",
    "    stopwords = nltk.corpus.stopwords.words(\"portuguese\")\n",
    "    stopwords.extend(list(punctuation))\n",
    "\n",
    "    stemmer = RSLPStemmer()\n",
    "    tokenizer = RegexpTokenizer('\\w+')\n",
    "    terms = tokenizer.tokenize(txt.lower())\n",
    "    terms = [stemmer.stem(word) for word in terms if word not in stopwords]\n",
    "        \n",
    "    return terms"
   ]
  },
  {
   "cell_type": "code",
   "execution_count": 222,
   "id": "f8e4643b",
   "metadata": {},
   "outputs": [],
   "source": [
    "data_preprocess = [preprocess(doc) for doc in data]"
   ]
  },
  {
   "cell_type": "code",
   "execution_count": 223,
   "id": "c1280d8a",
   "metadata": {},
   "outputs": [],
   "source": [
    "a = time.time()"
   ]
  },
  {
   "cell_type": "code",
   "execution_count": 224,
   "id": "76ed3412",
   "metadata": {},
   "outputs": [],
   "source": [
    "bm25 = BM25L(data_preprocess)"
   ]
  },
  {
   "cell_type": "code",
   "execution_count": 225,
   "id": "dedb4b06",
   "metadata": {},
   "outputs": [],
   "source": [
    "d = time.time()"
   ]
  },
  {
   "cell_type": "code",
   "execution_count": 226,
   "id": "5dfef201",
   "metadata": {},
   "outputs": [
    {
     "name": "stdout",
     "output_type": "stream",
     "text": [
      "Duração indexação: 2.019977\n"
     ]
    }
   ],
   "source": [
    "print(\"Duração indexação: %f\" % (d-a))"
   ]
  },
  {
   "cell_type": "markdown",
   "id": "67ec2f01",
   "metadata": {},
   "source": [
    "### Recall"
   ]
  },
  {
   "cell_type": "code",
   "execution_count": 153,
   "id": "d8a21a16",
   "metadata": {},
   "outputs": [
    {
     "name": "stdout",
     "output_type": "stream",
     "text": [
      "Encontrados: 131\n",
      "Total: 295\n",
      "Acurácia 20 docs: 0.4440677966101695\n",
      "\n",
      "\n"
     ]
    }
   ],
   "source": [
    "avaliacaoRecall(5)"
   ]
  },
  {
   "cell_type": "code",
   "execution_count": 154,
   "id": "710a48f8",
   "metadata": {},
   "outputs": [
    {
     "name": "stdout",
     "output_type": "stream",
     "text": [
      "Encontrados: 152\n",
      "Total: 295\n",
      "Acurácia 20 docs: 0.5152542372881356\n",
      "\n",
      "\n"
     ]
    }
   ],
   "source": [
    "avaliacaoRecall(10)"
   ]
  },
  {
   "cell_type": "code",
   "execution_count": 227,
   "id": "0019939b",
   "metadata": {},
   "outputs": [
    {
     "name": "stdout",
     "output_type": "stream",
     "text": [
      "Duração: 89.905044\n",
      "Encontrados: 177\n",
      "Total: 295\n",
      "Acurácia 20 docs: 0.6\n",
      "\n",
      "\n"
     ]
    }
   ],
   "source": [
    "avaliacaoRecall(20)"
   ]
  },
  {
   "cell_type": "markdown",
   "id": "cd5e6880",
   "metadata": {},
   "source": [
    "### Precision"
   ]
  },
  {
   "cell_type": "code",
   "execution_count": 156,
   "id": "6510fa8c",
   "metadata": {},
   "outputs": [
    {
     "name": "stdout",
     "output_type": "stream",
     "text": [
      "Precision: 0.088814\n"
     ]
    }
   ],
   "source": [
    "avaliacaoPrecision(5)"
   ]
  },
  {
   "cell_type": "code",
   "execution_count": 157,
   "id": "ea2ebf77",
   "metadata": {},
   "outputs": [
    {
     "name": "stdout",
     "output_type": "stream",
     "text": [
      "Precision: 0.051525\n"
     ]
    }
   ],
   "source": [
    "avaliacaoPrecision(10)"
   ]
  },
  {
   "cell_type": "code",
   "execution_count": 158,
   "id": "8ec7e699",
   "metadata": {},
   "outputs": [
    {
     "name": "stdout",
     "output_type": "stream",
     "text": [
      "Precision: 0.029153\n"
     ]
    }
   ],
   "source": [
    "avaliacaoPrecision(20)"
   ]
  },
  {
   "cell_type": "markdown",
   "id": "b37d9aa5",
   "metadata": {},
   "source": [
    "### MAP"
   ]
  },
  {
   "cell_type": "code",
   "execution_count": 159,
   "id": "ad70f5d6",
   "metadata": {},
   "outputs": [
    {
     "name": "stdout",
     "output_type": "stream",
     "text": [
      "MAP: 0.002746\n"
     ]
    }
   ],
   "source": [
    "avaliacaoMAP(5)"
   ]
  },
  {
   "cell_type": "code",
   "execution_count": 160,
   "id": "31aaba99",
   "metadata": {},
   "outputs": [
    {
     "name": "stdout",
     "output_type": "stream",
     "text": [
      "MAP: 0.001597\n"
     ]
    }
   ],
   "source": [
    "avaliacaoMAP(10)"
   ]
  },
  {
   "cell_type": "code",
   "execution_count": 161,
   "id": "1b560387",
   "metadata": {},
   "outputs": [
    {
     "name": "stdout",
     "output_type": "stream",
     "text": [
      "MAP: 0.001008\n"
     ]
    }
   ],
   "source": [
    "avaliacaoMAP(20)"
   ]
  },
  {
   "cell_type": "markdown",
   "id": "b3125ee6",
   "metadata": {},
   "source": [
    "### RR"
   ]
  },
  {
   "cell_type": "code",
   "execution_count": 162,
   "id": "0b02073d",
   "metadata": {},
   "outputs": [
    {
     "name": "stdout",
     "output_type": "stream",
     "text": [
      "RR: 0.318644\n"
     ]
    }
   ],
   "source": [
    "avaliacaoRR(5)"
   ]
  },
  {
   "cell_type": "code",
   "execution_count": 228,
   "id": "cfb6e9e1",
   "metadata": {},
   "outputs": [],
   "source": [
    "data_preprocess = None"
   ]
  },
  {
   "cell_type": "markdown",
   "id": "19fef2b6",
   "metadata": {},
   "source": [
    "### 9 lowercase + punctuation, acetuation, and stopword removal + stemming (Savoy)"
   ]
  },
  {
   "cell_type": "code",
   "execution_count": 229,
   "id": "0d74ff90",
   "metadata": {},
   "outputs": [],
   "source": [
    "def _remove_acentos(txt):\n",
    "    return normalize('NFKD', txt).encode('ASCII', 'ignore').decode('ASCII')\n",
    "\n",
    "def preprocess(txt):\n",
    "    txt = str(txt)\n",
    "    txt = _remove_acentos(txt)\n",
    "    stopwords = nltk.corpus.stopwords.words(\"portuguese\")\n",
    "    stopwords.extend(list(punctuation))\n",
    "\n",
    "    stemmer = Savoy()\n",
    "    tokenizer = RegexpTokenizer('\\w+')\n",
    "    terms = tokenizer.tokenize(txt.lower())\n",
    "    terms = [stemmer.stem(word) for word in terms if word not in stopwords]\n",
    "        \n",
    "    return terms"
   ]
  },
  {
   "cell_type": "code",
   "execution_count": 230,
   "id": "fbefd027",
   "metadata": {},
   "outputs": [],
   "source": [
    "data_preprocess = [preprocess(doc) for doc in data]"
   ]
  },
  {
   "cell_type": "code",
   "execution_count": 231,
   "id": "213ceab8",
   "metadata": {},
   "outputs": [],
   "source": [
    "a = time.time()"
   ]
  },
  {
   "cell_type": "code",
   "execution_count": 232,
   "id": "bc2f57db",
   "metadata": {},
   "outputs": [],
   "source": [
    "bm25 = BM25L(data_preprocess)"
   ]
  },
  {
   "cell_type": "code",
   "execution_count": 233,
   "id": "fe8888bd",
   "metadata": {},
   "outputs": [],
   "source": [
    "d = time.time()"
   ]
  },
  {
   "cell_type": "code",
   "execution_count": 234,
   "id": "fb4fa749",
   "metadata": {},
   "outputs": [
    {
     "name": "stdout",
     "output_type": "stream",
     "text": [
      "Duração indexação: 2.043986\n"
     ]
    }
   ],
   "source": [
    "print(\"Duração indexação: %f\" % (d-a))"
   ]
  },
  {
   "cell_type": "markdown",
   "id": "ab5c8fc7",
   "metadata": {},
   "source": [
    "### Recall"
   ]
  },
  {
   "cell_type": "code",
   "execution_count": 167,
   "id": "4f2d7939",
   "metadata": {},
   "outputs": [
    {
     "name": "stdout",
     "output_type": "stream",
     "text": [
      "Encontrados: 135\n",
      "Total: 295\n",
      "Acurácia 20 docs: 0.4576271186440678\n",
      "\n",
      "\n"
     ]
    }
   ],
   "source": [
    "avaliacaoRecall(5)"
   ]
  },
  {
   "cell_type": "code",
   "execution_count": 168,
   "id": "a7225058",
   "metadata": {},
   "outputs": [
    {
     "name": "stdout",
     "output_type": "stream",
     "text": [
      "Encontrados: 152\n",
      "Total: 295\n",
      "Acurácia 20 docs: 0.5152542372881356\n",
      "\n",
      "\n"
     ]
    }
   ],
   "source": [
    "avaliacaoRecall(10)"
   ]
  },
  {
   "cell_type": "code",
   "execution_count": 235,
   "id": "4a61e0ce",
   "metadata": {},
   "outputs": [
    {
     "name": "stdout",
     "output_type": "stream",
     "text": [
      "Duração: 86.370035\n",
      "Encontrados: 177\n",
      "Total: 295\n",
      "Acurácia 20 docs: 0.6\n",
      "\n",
      "\n"
     ]
    }
   ],
   "source": [
    "avaliacaoRecall(20)"
   ]
  },
  {
   "cell_type": "markdown",
   "id": "d315644a",
   "metadata": {},
   "source": [
    "### Precision"
   ]
  },
  {
   "cell_type": "code",
   "execution_count": 170,
   "id": "6e71c997",
   "metadata": {},
   "outputs": [
    {
     "name": "stdout",
     "output_type": "stream",
     "text": [
      "Precision: 0.091525\n"
     ]
    }
   ],
   "source": [
    "avaliacaoPrecision(5)"
   ]
  },
  {
   "cell_type": "code",
   "execution_count": 171,
   "id": "18129256",
   "metadata": {},
   "outputs": [
    {
     "name": "stdout",
     "output_type": "stream",
     "text": [
      "Precision: 0.051525\n"
     ]
    }
   ],
   "source": [
    "avaliacaoPrecision(10)"
   ]
  },
  {
   "cell_type": "code",
   "execution_count": 172,
   "id": "f85e590f",
   "metadata": {},
   "outputs": [
    {
     "name": "stdout",
     "output_type": "stream",
     "text": [
      "Precision: 0.029661\n"
     ]
    }
   ],
   "source": [
    "avaliacaoPrecision(20)"
   ]
  },
  {
   "cell_type": "markdown",
   "id": "a161ec9a",
   "metadata": {},
   "source": [
    "### MAP"
   ]
  },
  {
   "cell_type": "code",
   "execution_count": 173,
   "id": "5f46badf",
   "metadata": {},
   "outputs": [
    {
     "name": "stdout",
     "output_type": "stream",
     "text": [
      "MAP: 0.002812\n"
     ]
    }
   ],
   "source": [
    "avaliacaoMAP(5)"
   ]
  },
  {
   "cell_type": "code",
   "execution_count": 174,
   "id": "0f1e01d0",
   "metadata": {},
   "outputs": [
    {
     "name": "stdout",
     "output_type": "stream",
     "text": [
      "MAP: 0.001558\n"
     ]
    }
   ],
   "source": [
    "avaliacaoMAP(10)"
   ]
  },
  {
   "cell_type": "code",
   "execution_count": 175,
   "id": "7a4a05fa",
   "metadata": {},
   "outputs": [
    {
     "name": "stdout",
     "output_type": "stream",
     "text": [
      "MAP: 0.000878\n"
     ]
    }
   ],
   "source": [
    "avaliacaoMAP(20)"
   ]
  },
  {
   "cell_type": "markdown",
   "id": "ce784a3c",
   "metadata": {},
   "source": [
    "### RR"
   ]
  },
  {
   "cell_type": "code",
   "execution_count": 176,
   "id": "8d5d3973",
   "metadata": {},
   "outputs": [
    {
     "name": "stdout",
     "output_type": "stream",
     "text": [
      "RR: 0.308475\n"
     ]
    }
   ],
   "source": [
    "avaliacaoRR(5)"
   ]
  },
  {
   "cell_type": "code",
   "execution_count": 236,
   "id": "85ec1d96",
   "metadata": {},
   "outputs": [],
   "source": [
    "data_preprocess = None"
   ]
  },
  {
   "cell_type": "markdown",
   "id": "290244fc",
   "metadata": {},
   "source": [
    "### 18 lowercase + punctuation, acetuation, and stopword removal + stemming (RSLP) + unigram and bigram "
   ]
  },
  {
   "cell_type": "code",
   "execution_count": 237,
   "id": "2e2d4abc",
   "metadata": {},
   "outputs": [],
   "source": [
    "def _remove_acentos(txt):\n",
    "    return normalize('NFKD', txt).encode('ASCII', 'ignore').decode('ASCII')\n",
    "\n",
    "def preprocess(txt):\n",
    "    txt = str(txt)\n",
    "    txt = _remove_acentos(txt)\n",
    "    stopwords = nltk.corpus.stopwords.words(\"portuguese\")\n",
    "    stopwords.extend(list(punctuation))\n",
    "\n",
    "    stemmer = RSLPStemmer()\n",
    "    tokenizer = RegexpTokenizer('\\w+')\n",
    "    terms = tokenizer.tokenize(txt.lower())\n",
    "    terms = [stemmer.stem(word) for word in terms if word not in stopwords]\n",
    "    \n",
    "    ngram = []\n",
    "    ngram_1 = list(ngrams(terms, 1))\n",
    "    ngram_2 = list(ngrams(terms, 2))\n",
    "    for w in ngram_1:\n",
    "        ngram.append(w[0])\n",
    "        \n",
    "    for w in ngram_2:\n",
    "        string = w[0] + \" \" + w[1]\n",
    "        ngram.append(string)\n",
    "    \n",
    "    return ngram\n"
   ]
  },
  {
   "cell_type": "code",
   "execution_count": 238,
   "id": "c9291a17",
   "metadata": {},
   "outputs": [],
   "source": [
    "data_preprocess = [preprocess(doc) for doc in data]"
   ]
  },
  {
   "cell_type": "code",
   "execution_count": 239,
   "id": "2651ad24",
   "metadata": {},
   "outputs": [],
   "source": [
    "a = time.time()"
   ]
  },
  {
   "cell_type": "code",
   "execution_count": 240,
   "id": "62105740",
   "metadata": {},
   "outputs": [],
   "source": [
    "bm25 = BM25L(data_preprocess)"
   ]
  },
  {
   "cell_type": "code",
   "execution_count": 241,
   "id": "41e4d463",
   "metadata": {},
   "outputs": [],
   "source": [
    "d = time.time()"
   ]
  },
  {
   "cell_type": "code",
   "execution_count": 242,
   "id": "b4952f16",
   "metadata": {},
   "outputs": [
    {
     "name": "stdout",
     "output_type": "stream",
     "text": [
      "Duração indexação: 6.444999\n"
     ]
    }
   ],
   "source": [
    "print(\"Duração indexação: %f\" % (d-a))"
   ]
  },
  {
   "cell_type": "markdown",
   "id": "ebb00c8b",
   "metadata": {},
   "source": [
    "### Recall"
   ]
  },
  {
   "cell_type": "code",
   "execution_count": 181,
   "id": "9a87e977",
   "metadata": {},
   "outputs": [
    {
     "name": "stdout",
     "output_type": "stream",
     "text": [
      "Encontrados: 142\n",
      "Total: 295\n",
      "Acurácia 20 docs: 0.48135593220338985\n",
      "\n",
      "\n"
     ]
    }
   ],
   "source": [
    "avaliacaoRecall(5)"
   ]
  },
  {
   "cell_type": "code",
   "execution_count": 182,
   "id": "184a60f0",
   "metadata": {},
   "outputs": [
    {
     "name": "stdout",
     "output_type": "stream",
     "text": [
      "Encontrados: 149\n",
      "Total: 295\n",
      "Acurácia 20 docs: 0.5050847457627119\n",
      "\n",
      "\n"
     ]
    }
   ],
   "source": [
    "avaliacaoRecall(10)"
   ]
  },
  {
   "cell_type": "code",
   "execution_count": 243,
   "id": "23e36fd3",
   "metadata": {},
   "outputs": [
    {
     "name": "stdout",
     "output_type": "stream",
     "text": [
      "Duração: 112.824045\n",
      "Encontrados: 173\n",
      "Total: 295\n",
      "Acurácia 20 docs: 0.5864406779661017\n",
      "\n",
      "\n"
     ]
    }
   ],
   "source": [
    "avaliacaoRecall(20)"
   ]
  },
  {
   "cell_type": "markdown",
   "id": "f00a43dc",
   "metadata": {},
   "source": [
    "### Precision"
   ]
  },
  {
   "cell_type": "code",
   "execution_count": 184,
   "id": "6b408b4f",
   "metadata": {},
   "outputs": [
    {
     "name": "stdout",
     "output_type": "stream",
     "text": [
      "Precision: 0.096271\n"
     ]
    }
   ],
   "source": [
    "avaliacaoPrecision(5)"
   ]
  },
  {
   "cell_type": "code",
   "execution_count": 185,
   "id": "d22cae99",
   "metadata": {},
   "outputs": [
    {
     "name": "stdout",
     "output_type": "stream",
     "text": [
      "Precision: 0.050508\n"
     ]
    }
   ],
   "source": [
    "avaliacaoPrecision(10)"
   ]
  },
  {
   "cell_type": "code",
   "execution_count": 186,
   "id": "a6c1d17c",
   "metadata": {},
   "outputs": [
    {
     "name": "stdout",
     "output_type": "stream",
     "text": [
      "Precision: 0.028983\n"
     ]
    }
   ],
   "source": [
    "avaliacaoPrecision(20)"
   ]
  },
  {
   "cell_type": "markdown",
   "id": "092b6cd0",
   "metadata": {},
   "source": [
    "### MAP"
   ]
  },
  {
   "cell_type": "code",
   "execution_count": 187,
   "id": "ccf325ab",
   "metadata": {},
   "outputs": [
    {
     "name": "stdout",
     "output_type": "stream",
     "text": [
      "MAP: 0.002878\n"
     ]
    }
   ],
   "source": [
    "avaliacaoMAP(5)"
   ]
  },
  {
   "cell_type": "code",
   "execution_count": 188,
   "id": "0fcda7c4",
   "metadata": {},
   "outputs": [
    {
     "name": "stdout",
     "output_type": "stream",
     "text": [
      "MAP: 0.001537\n"
     ]
    }
   ],
   "source": [
    "avaliacaoMAP(10)"
   ]
  },
  {
   "cell_type": "code",
   "execution_count": 189,
   "id": "a1c3b8d1",
   "metadata": {},
   "outputs": [
    {
     "name": "stdout",
     "output_type": "stream",
     "text": [
      "MAP: 0.000932\n"
     ]
    }
   ],
   "source": [
    "avaliacaoMAP(20)"
   ]
  },
  {
   "cell_type": "markdown",
   "id": "c935f64f",
   "metadata": {},
   "source": [
    "### RR"
   ]
  },
  {
   "cell_type": "code",
   "execution_count": 190,
   "id": "975e6ca2",
   "metadata": {},
   "outputs": [
    {
     "name": "stdout",
     "output_type": "stream",
     "text": [
      "RR: 0.325424\n"
     ]
    }
   ],
   "source": [
    "avaliacaoRR(5)"
   ]
  },
  {
   "cell_type": "code",
   "execution_count": 244,
   "id": "25ca97a7",
   "metadata": {},
   "outputs": [],
   "source": [
    "data_preprocess = None"
   ]
  },
  {
   "cell_type": "markdown",
   "id": "b62517aa",
   "metadata": {},
   "source": [
    "### 21 lowercase + punctuation, acetuation, and stopword removal + stemming (Savoy) + unigram and bigram"
   ]
  },
  {
   "cell_type": "code",
   "execution_count": 245,
   "id": "2808b39d",
   "metadata": {},
   "outputs": [],
   "source": [
    "def _remove_acentos(txt):\n",
    "    return normalize('NFKD', txt).encode('ASCII', 'ignore').decode('ASCII')\n",
    "\n",
    "def preprocess(txt):\n",
    "    txt = str(txt)\n",
    "    txt = _remove_acentos(txt)\n",
    "    stopwords = nltk.corpus.stopwords.words(\"portuguese\")\n",
    "    stopwords.extend(list(punctuation))\n",
    "    stemmer = Savoy()\n",
    "    tokenizer = RegexpTokenizer('\\w+')\n",
    "    terms = tokenizer.tokenize(txt.lower())\n",
    "    terms = [stemmer.stem(word) for word in terms if word not in stopwords]\n",
    "    \n",
    "    ngram = []\n",
    "    ngram_1 = list(ngrams(terms, 1))\n",
    "    ngram_2 = list(ngrams(terms, 2))\n",
    "    for w in ngram_1:\n",
    "        ngram.append(w[0])\n",
    "        \n",
    "    for w in ngram_2:\n",
    "        string = w[0] + \" \" + w[1]\n",
    "        ngram.append(string)\n",
    "    \n",
    "    return ngram"
   ]
  },
  {
   "cell_type": "code",
   "execution_count": 246,
   "id": "8db41247",
   "metadata": {},
   "outputs": [],
   "source": [
    "data_preprocess = [preprocess(doc) for doc in data]"
   ]
  },
  {
   "cell_type": "code",
   "execution_count": 247,
   "id": "64b042f5",
   "metadata": {},
   "outputs": [],
   "source": [
    "a = time.time()"
   ]
  },
  {
   "cell_type": "code",
   "execution_count": 248,
   "id": "0fcb9246",
   "metadata": {},
   "outputs": [],
   "source": [
    "bm25 = BM25L(data_preprocess)"
   ]
  },
  {
   "cell_type": "code",
   "execution_count": 249,
   "id": "2350aba7",
   "metadata": {},
   "outputs": [],
   "source": [
    "d = time.time()"
   ]
  },
  {
   "cell_type": "code",
   "execution_count": 250,
   "id": "7f8820c4",
   "metadata": {},
   "outputs": [
    {
     "name": "stdout",
     "output_type": "stream",
     "text": [
      "Duração indexação: 7.199000\n"
     ]
    }
   ],
   "source": [
    "print(\"Duração indexação: %f\" % (d-a))"
   ]
  },
  {
   "cell_type": "markdown",
   "id": "a8b87ac4",
   "metadata": {},
   "source": [
    "### Recall"
   ]
  },
  {
   "cell_type": "code",
   "execution_count": 195,
   "id": "1935d8c4",
   "metadata": {},
   "outputs": [
    {
     "name": "stdout",
     "output_type": "stream",
     "text": [
      "Encontrados: 143\n",
      "Total: 295\n",
      "Acurácia 20 docs: 0.4847457627118644\n",
      "\n",
      "\n"
     ]
    }
   ],
   "source": [
    "avaliacaoRecall(5)"
   ]
  },
  {
   "cell_type": "code",
   "execution_count": 196,
   "id": "9eb23d4d",
   "metadata": {},
   "outputs": [
    {
     "name": "stdout",
     "output_type": "stream",
     "text": [
      "Encontrados: 151\n",
      "Total: 295\n",
      "Acurácia 20 docs: 0.511864406779661\n",
      "\n",
      "\n"
     ]
    }
   ],
   "source": [
    "avaliacaoRecall(10)"
   ]
  },
  {
   "cell_type": "code",
   "execution_count": 251,
   "id": "d1b399a6",
   "metadata": {},
   "outputs": [
    {
     "name": "stdout",
     "output_type": "stream",
     "text": [
      "Duração: 107.046000\n",
      "Encontrados: 174\n",
      "Total: 295\n",
      "Acurácia 20 docs: 0.5898305084745763\n",
      "\n",
      "\n"
     ]
    }
   ],
   "source": [
    "avaliacaoRecall(20)"
   ]
  },
  {
   "cell_type": "markdown",
   "id": "b535a50c",
   "metadata": {},
   "source": [
    "### Precision"
   ]
  },
  {
   "cell_type": "code",
   "execution_count": 198,
   "id": "2ecccecf",
   "metadata": {},
   "outputs": [
    {
     "name": "stdout",
     "output_type": "stream",
     "text": [
      "Precision: 0.096949\n"
     ]
    }
   ],
   "source": [
    "avaliacaoPrecision(5)"
   ]
  },
  {
   "cell_type": "code",
   "execution_count": 199,
   "id": "960fd58a",
   "metadata": {},
   "outputs": [
    {
     "name": "stdout",
     "output_type": "stream",
     "text": [
      "Precision: 0.051186\n"
     ]
    }
   ],
   "source": [
    "avaliacaoPrecision(10)"
   ]
  },
  {
   "cell_type": "code",
   "execution_count": 200,
   "id": "b33503a0",
   "metadata": {},
   "outputs": [
    {
     "name": "stdout",
     "output_type": "stream",
     "text": [
      "Precision: 0.028475\n"
     ]
    }
   ],
   "source": [
    "avaliacaoPrecision(20)"
   ]
  },
  {
   "cell_type": "markdown",
   "id": "9ecdd429",
   "metadata": {},
   "source": [
    "### MAP"
   ]
  },
  {
   "cell_type": "code",
   "execution_count": 201,
   "id": "ed22b661",
   "metadata": {},
   "outputs": [
    {
     "name": "stdout",
     "output_type": "stream",
     "text": [
      "MAP: 0.002900\n"
     ]
    }
   ],
   "source": [
    "avaliacaoMAP(5)"
   ]
  },
  {
   "cell_type": "code",
   "execution_count": 202,
   "id": "169eaa20",
   "metadata": {},
   "outputs": [
    {
     "name": "stdout",
     "output_type": "stream",
     "text": [
      "MAP: 0.001560\n"
     ]
    }
   ],
   "source": [
    "avaliacaoMAP(10)"
   ]
  },
  {
   "cell_type": "code",
   "execution_count": 203,
   "id": "3d4ee409",
   "metadata": {},
   "outputs": [
    {
     "name": "stdout",
     "output_type": "stream",
     "text": [
      "MAP: 0.000851\n"
     ]
    }
   ],
   "source": [
    "avaliacaoMAP(20)"
   ]
  },
  {
   "cell_type": "markdown",
   "id": "2e7a0287",
   "metadata": {},
   "source": [
    "### RR"
   ]
  },
  {
   "cell_type": "code",
   "execution_count": 204,
   "id": "da49e62c",
   "metadata": {},
   "outputs": [
    {
     "name": "stdout",
     "output_type": "stream",
     "text": [
      "RR: 0.318644\n"
     ]
    }
   ],
   "source": [
    "avaliacaoRR(5)"
   ]
  },
  {
   "cell_type": "markdown",
   "id": "3fc6c86f",
   "metadata": {},
   "source": [
    "### 22 lowercase + punctuation, acetuation, and stopword removal + stemming (RSLP_S)"
   ]
  },
  {
   "cell_type": "code",
   "execution_count": 252,
   "id": "37a8bef1",
   "metadata": {},
   "outputs": [],
   "source": [
    "def _remove_acentos(txt):\n",
    "    return normalize('NFKD', txt).encode('ASCII', 'ignore').decode('ASCII')\n",
    "\n",
    "def preprocess(txt):\n",
    "    txt = str(txt)\n",
    "    txt = _remove_acentos(txt)\n",
    "    stopwords = nltk.corpus.stopwords.words(\"portuguese\")\n",
    "    stopwords.extend(list(punctuation))\n",
    "\n",
    "    stemmer = RSLP_S()\n",
    "    tokenizer = RegexpTokenizer('\\w+')\n",
    "    terms = tokenizer.tokenize(txt.lower())\n",
    "    terms = [stemmer.stem(word) for word in terms if word not in stopwords]\n",
    "        \n",
    "    return terms"
   ]
  },
  {
   "cell_type": "code",
   "execution_count": 253,
   "id": "3eea5f01",
   "metadata": {},
   "outputs": [],
   "source": [
    "data_preprocess = [preprocess(doc) for doc in data]"
   ]
  },
  {
   "cell_type": "code",
   "execution_count": 254,
   "id": "e09f3990",
   "metadata": {},
   "outputs": [],
   "source": [
    "a = time.time()"
   ]
  },
  {
   "cell_type": "code",
   "execution_count": 255,
   "id": "d0a5ea84",
   "metadata": {},
   "outputs": [],
   "source": [
    "bm25 = BM25L(data_preprocess)"
   ]
  },
  {
   "cell_type": "code",
   "execution_count": 256,
   "id": "f3334fb9",
   "metadata": {},
   "outputs": [],
   "source": [
    "d = time.time()"
   ]
  },
  {
   "cell_type": "code",
   "execution_count": 257,
   "id": "69e6efc8",
   "metadata": {},
   "outputs": [
    {
     "name": "stdout",
     "output_type": "stream",
     "text": [
      "Duração indexação: 2.309290\n"
     ]
    }
   ],
   "source": [
    "print(\"Duração indexação: %f\" % (d-a))"
   ]
  },
  {
   "cell_type": "markdown",
   "id": "5f797e16",
   "metadata": {},
   "source": [
    "### Recall"
   ]
  },
  {
   "cell_type": "code",
   "execution_count": 98,
   "id": "b05ca235",
   "metadata": {},
   "outputs": [
    {
     "name": "stdout",
     "output_type": "stream",
     "text": [
      "Encontrados: 132\n",
      "Total: 295\n",
      "Acurácia 20 docs: 0.44745762711864406\n",
      "\n",
      "\n"
     ]
    }
   ],
   "source": [
    "avaliacaoRecall(5)"
   ]
  },
  {
   "cell_type": "code",
   "execution_count": 99,
   "id": "2e666b10",
   "metadata": {},
   "outputs": [
    {
     "name": "stdout",
     "output_type": "stream",
     "text": [
      "Encontrados: 154\n",
      "Total: 295\n",
      "Acurácia 20 docs: 0.5220338983050847\n",
      "\n",
      "\n"
     ]
    }
   ],
   "source": [
    "avaliacaoRecall(10)"
   ]
  },
  {
   "cell_type": "code",
   "execution_count": 258,
   "id": "06463407",
   "metadata": {},
   "outputs": [
    {
     "name": "stdout",
     "output_type": "stream",
     "text": [
      "Duração: 88.837002\n",
      "Encontrados: 175\n",
      "Total: 295\n",
      "Acurácia 20 docs: 0.5932203389830508\n",
      "\n",
      "\n"
     ]
    }
   ],
   "source": [
    "avaliacaoRecall(20)"
   ]
  },
  {
   "cell_type": "markdown",
   "id": "54130ad3",
   "metadata": {},
   "source": [
    "### Precision"
   ]
  },
  {
   "cell_type": "code",
   "execution_count": 101,
   "id": "b2e45af1",
   "metadata": {},
   "outputs": [
    {
     "name": "stdout",
     "output_type": "stream",
     "text": [
      "Precision: 0.089492\n"
     ]
    }
   ],
   "source": [
    "avaliacaoPrecision(5)"
   ]
  },
  {
   "cell_type": "code",
   "execution_count": 102,
   "id": "d10b9225",
   "metadata": {},
   "outputs": [
    {
     "name": "stdout",
     "output_type": "stream",
     "text": [
      "Precision: 0.052203\n"
     ]
    }
   ],
   "source": [
    "avaliacaoPrecision(10)"
   ]
  },
  {
   "cell_type": "code",
   "execution_count": 103,
   "id": "59f7b5c3",
   "metadata": {},
   "outputs": [
    {
     "name": "stdout",
     "output_type": "stream",
     "text": [
      "Precision: 0.029322\n"
     ]
    }
   ],
   "source": [
    "avaliacaoPrecision(20)"
   ]
  },
  {
   "cell_type": "markdown",
   "id": "513cc3d3",
   "metadata": {},
   "source": [
    "### MAP"
   ]
  },
  {
   "cell_type": "code",
   "execution_count": 104,
   "id": "ea5e6b74",
   "metadata": {},
   "outputs": [
    {
     "name": "stdout",
     "output_type": "stream",
     "text": [
      "MAP: 0.002670\n"
     ]
    }
   ],
   "source": [
    "avaliacaoMAP(5)"
   ]
  },
  {
   "cell_type": "code",
   "execution_count": 105,
   "id": "6abd28b3",
   "metadata": {},
   "outputs": [
    {
     "name": "stdout",
     "output_type": "stream",
     "text": [
      "MAP: 0.001580\n"
     ]
    }
   ],
   "source": [
    "avaliacaoMAP(10)"
   ]
  },
  {
   "cell_type": "code",
   "execution_count": 106,
   "id": "9d2515b9",
   "metadata": {},
   "outputs": [
    {
     "name": "stdout",
     "output_type": "stream",
     "text": [
      "MAP: 0.000873\n"
     ]
    }
   ],
   "source": [
    "avaliacaoMAP(20)"
   ]
  },
  {
   "cell_type": "markdown",
   "id": "31e812db",
   "metadata": {},
   "source": [
    "### RR"
   ]
  },
  {
   "cell_type": "code",
   "execution_count": 107,
   "id": "939a33d9",
   "metadata": {},
   "outputs": [
    {
     "name": "stdout",
     "output_type": "stream",
     "text": [
      "RR: 0.294915\n"
     ]
    }
   ],
   "source": [
    "avaliacaoRR(5)"
   ]
  },
  {
   "cell_type": "code",
   "execution_count": 259,
   "id": "24212fa9",
   "metadata": {},
   "outputs": [],
   "source": [
    "data_preprocess = None"
   ]
  },
  {
   "cell_type": "markdown",
   "id": "e90c291a",
   "metadata": {},
   "source": [
    "### 23 lowercase + punctuation, acetuation, and stopword removal + stemming (RSLP) + unigram and bigram "
   ]
  },
  {
   "cell_type": "code",
   "execution_count": 260,
   "id": "5b7cf540",
   "metadata": {},
   "outputs": [],
   "source": [
    "def _remove_acentos(txt):\n",
    "    return normalize('NFKD', txt).encode('ASCII', 'ignore').decode('ASCII')\n",
    "\n",
    "def preprocess(txt):\n",
    "    txt = str(txt)\n",
    "    txt = _remove_acentos(txt)\n",
    "    stopwords = nltk.corpus.stopwords.words(\"portuguese\")\n",
    "    stopwords.extend(list(punctuation))\n",
    "\n",
    "    stemmer = RSLP_S()\n",
    "    tokenizer = RegexpTokenizer('\\w+')\n",
    "    terms = tokenizer.tokenize(txt.lower())\n",
    "    terms = [stemmer.stem(word) for word in terms if word not in stopwords]\n",
    "    \n",
    "    ngram = []\n",
    "    ngram_1 = list(ngrams(terms, 1))\n",
    "    ngram_2 = list(ngrams(terms, 2))\n",
    "    for w in ngram_1:\n",
    "        ngram.append(w[0])\n",
    "        \n",
    "    for w in ngram_2:\n",
    "        string = w[0] + \" \" + w[1]\n",
    "        ngram.append(string)\n",
    "    \n",
    "    return ngram\n"
   ]
  },
  {
   "cell_type": "code",
   "execution_count": 261,
   "id": "a3b352b3",
   "metadata": {},
   "outputs": [],
   "source": [
    "data_preprocess = [preprocess(doc) for doc in data]"
   ]
  },
  {
   "cell_type": "code",
   "execution_count": 262,
   "id": "36cee709",
   "metadata": {},
   "outputs": [],
   "source": [
    "a = time.time()"
   ]
  },
  {
   "cell_type": "code",
   "execution_count": 263,
   "id": "c4bbaaa5",
   "metadata": {},
   "outputs": [],
   "source": [
    "bm25 = BM25L(data_preprocess)"
   ]
  },
  {
   "cell_type": "code",
   "execution_count": 264,
   "id": "b2d8b059",
   "metadata": {},
   "outputs": [],
   "source": [
    "d = time.time()"
   ]
  },
  {
   "cell_type": "code",
   "execution_count": 265,
   "id": "5d3d4afd",
   "metadata": {},
   "outputs": [
    {
     "name": "stdout",
     "output_type": "stream",
     "text": [
      "Duração indexação: 6.667005\n"
     ]
    }
   ],
   "source": [
    "print(\"Duração indexação: %f\" % (d-a))"
   ]
  },
  {
   "cell_type": "markdown",
   "id": "142d859b",
   "metadata": {},
   "source": [
    "### Recall"
   ]
  },
  {
   "cell_type": "code",
   "execution_count": 112,
   "id": "49475f2f",
   "metadata": {},
   "outputs": [
    {
     "name": "stdout",
     "output_type": "stream",
     "text": [
      "Encontrados: 137\n",
      "Total: 295\n",
      "Acurácia 20 docs: 0.46440677966101696\n",
      "\n",
      "\n"
     ]
    }
   ],
   "source": [
    "avaliacaoRecall(5)"
   ]
  },
  {
   "cell_type": "code",
   "execution_count": 113,
   "id": "e869a2bf",
   "metadata": {},
   "outputs": [
    {
     "name": "stdout",
     "output_type": "stream",
     "text": [
      "Encontrados: 152\n",
      "Total: 295\n",
      "Acurácia 20 docs: 0.5152542372881356\n",
      "\n",
      "\n"
     ]
    }
   ],
   "source": [
    "avaliacaoRecall(10)"
   ]
  },
  {
   "cell_type": "code",
   "execution_count": 266,
   "id": "2435180e",
   "metadata": {},
   "outputs": [
    {
     "name": "stdout",
     "output_type": "stream",
     "text": [
      "Duração: 109.999998\n",
      "Encontrados: 171\n",
      "Total: 295\n",
      "Acurácia 20 docs: 0.5796610169491525\n",
      "\n",
      "\n"
     ]
    }
   ],
   "source": [
    "avaliacaoRecall(20)"
   ]
  },
  {
   "cell_type": "markdown",
   "id": "8e1885f4",
   "metadata": {},
   "source": [
    "### Precision"
   ]
  },
  {
   "cell_type": "code",
   "execution_count": 115,
   "id": "1ab8cec0",
   "metadata": {},
   "outputs": [
    {
     "name": "stdout",
     "output_type": "stream",
     "text": [
      "Precision: 0.092881\n"
     ]
    }
   ],
   "source": [
    "avaliacaoPrecision(5)"
   ]
  },
  {
   "cell_type": "code",
   "execution_count": 116,
   "id": "41c0f42a",
   "metadata": {},
   "outputs": [
    {
     "name": "stdout",
     "output_type": "stream",
     "text": [
      "Precision: 0.051525\n"
     ]
    }
   ],
   "source": [
    "avaliacaoPrecision(10)"
   ]
  },
  {
   "cell_type": "code",
   "execution_count": 117,
   "id": "85acc1bf",
   "metadata": {},
   "outputs": [
    {
     "name": "stdout",
     "output_type": "stream",
     "text": [
      "Precision: 0.028136\n"
     ]
    }
   ],
   "source": [
    "avaliacaoPrecision(20)"
   ]
  },
  {
   "cell_type": "markdown",
   "id": "de8cf5e4",
   "metadata": {},
   "source": [
    "### MAP"
   ]
  },
  {
   "cell_type": "code",
   "execution_count": 118,
   "id": "269bc865",
   "metadata": {},
   "outputs": [
    {
     "name": "stdout",
     "output_type": "stream",
     "text": [
      "MAP: 0.002743\n"
     ]
    }
   ],
   "source": [
    "avaliacaoMAP(5)"
   ]
  },
  {
   "cell_type": "code",
   "execution_count": 119,
   "id": "fca8154d",
   "metadata": {},
   "outputs": [
    {
     "name": "stdout",
     "output_type": "stream",
     "text": [
      "MAP: 0.001553\n"
     ]
    }
   ],
   "source": [
    "avaliacaoMAP(10)"
   ]
  },
  {
   "cell_type": "code",
   "execution_count": 120,
   "id": "491966f0",
   "metadata": {},
   "outputs": [
    {
     "name": "stdout",
     "output_type": "stream",
     "text": [
      "MAP: 0.000846\n"
     ]
    }
   ],
   "source": [
    "avaliacaoMAP(20)"
   ]
  },
  {
   "cell_type": "markdown",
   "id": "f7eb82f5",
   "metadata": {},
   "source": [
    "### RR"
   ]
  },
  {
   "cell_type": "code",
   "execution_count": 121,
   "id": "7917af04",
   "metadata": {},
   "outputs": [
    {
     "name": "stdout",
     "output_type": "stream",
     "text": [
      "RR: 0.308475\n"
     ]
    }
   ],
   "source": [
    "avaliacaoRR(5)"
   ]
  },
  {
   "cell_type": "code",
   "execution_count": 122,
   "id": "8d7beb4e",
   "metadata": {},
   "outputs": [],
   "source": [
    "data_preprocess = None"
   ]
  },
  {
   "cell_type": "code",
   "execution_count": null,
   "id": "1ae05956",
   "metadata": {},
   "outputs": [],
   "source": []
  }
 ],
 "metadata": {
  "kernelspec": {
   "display_name": "Python 3 (ipykernel)",
   "language": "python",
   "name": "python3"
  },
  "language_info": {
   "codemirror_mode": {
    "name": "ipython",
    "version": 3
   },
   "file_extension": ".py",
   "mimetype": "text/x-python",
   "name": "python",
   "nbconvert_exporter": "python",
   "pygments_lexer": "ipython3",
   "version": "3.8.7"
  }
 },
 "nbformat": 4,
 "nbformat_minor": 5
}
