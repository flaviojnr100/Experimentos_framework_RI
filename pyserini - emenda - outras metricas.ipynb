{
 "cells": [
  {
   "cell_type": "code",
   "execution_count": 1,
   "id": "b70c18fa",
   "metadata": {
    "scrolled": true
   },
   "outputs": [
    {
     "name": "stderr",
     "output_type": "stream",
     "text": [
      "[nltk_data] Downloading package stopwords to\n",
      "[nltk_data]     C:\\Users\\Flavio\\AppData\\Roaming\\nltk_data...\n",
      "[nltk_data]   Package stopwords is already up-to-date!\n",
      "[nltk_data] Downloading package punkt to\n",
      "[nltk_data]     C:\\Users\\Flavio\\AppData\\Roaming\\nltk_data...\n",
      "[nltk_data]   Package punkt is already up-to-date!\n",
      "[nltk_data] Downloading package rslp to\n",
      "[nltk_data]     C:\\Users\\Flavio\\AppData\\Roaming\\nltk_data...\n",
      "[nltk_data]   Package rslp is already up-to-date!\n"
     ]
    },
    {
     "data": {
      "text/plain": [
       "True"
      ]
     },
     "execution_count": 1,
     "metadata": {},
     "output_type": "execute_result"
    }
   ],
   "source": [
    "import nltk\n",
    "from string import punctuation\n",
    "from nltk.tokenize import RegexpTokenizer,word_tokenize\n",
    "from unicodedata import normalize\n",
    "from nltk.stem import RSLPStemmer\n",
    "from nltk.util import ngrams\n",
    "import pandas as pd\n",
    "\n",
    "nltk.download('stopwords')\n",
    "nltk.download('punkt')\n",
    "nltk.download('rslp')"
   ]
  },
  {
   "cell_type": "code",
   "execution_count": 2,
   "id": "6046358c",
   "metadata": {},
   "outputs": [],
   "source": [
    "import time"
   ]
  },
  {
   "cell_type": "code",
   "execution_count": 3,
   "id": "9c43ec3b",
   "metadata": {},
   "outputs": [],
   "source": [
    "df_assunto= pd.read_table(\"dados-conle-anonimizado-assunto-notnull - dados-conle-anonimizado-assunto-notnull.tsv\",sep=\";\")"
   ]
  },
  {
   "cell_type": "code",
   "execution_count": 4,
   "id": "d4ef5bdd",
   "metadata": {},
   "outputs": [],
   "source": [
    "arr_assunto = df_assunto.to_numpy()\n",
    "y,X = arr_assunto[:,0],arr_assunto[:,1]\n",
    "y = [i.strip() for i in y]"
   ]
  },
  {
   "cell_type": "code",
   "execution_count": 5,
   "id": "a421bdab",
   "metadata": {},
   "outputs": [],
   "source": [
    "base = pd.read_csv(\"base_20230428_douglas.csv\", delimiter=',', encoding=\"utf-8\")"
   ]
  },
  {
   "cell_type": "code",
   "execution_count": 6,
   "id": "55552e04",
   "metadata": {},
   "outputs": [],
   "source": [
    "from pyserini.search import SimpleSearcher"
   ]
  },
  {
   "cell_type": "code",
   "execution_count": 7,
   "id": "01d3602c",
   "metadata": {},
   "outputs": [],
   "source": [
    "def verificar(y,top_n,top_k=20):\n",
    "    for i,n in enumerate(top_n):\n",
    "        id = n.docid\n",
    "        \n",
    "        name = base.loc[int(id),\"txtNome\"]\n",
    "        if str(name).strip()==str(y).strip():\n",
    "            return 1\n",
    "        if i==(top_k-1):\n",
    "            break\n",
    "    return 0"
   ]
  },
  {
   "cell_type": "code",
   "execution_count": 8,
   "id": "6e417702",
   "metadata": {},
   "outputs": [],
   "source": [
    "def avaliacaoRecall(isPreprocess,top_k=20):\n",
    "    quant_encontrado = 0\n",
    "    quant_relevante =0\n",
    "    antes = time.time()\n",
    "    for l,x in zip(y,X):\n",
    "\n",
    "        tokenized_query3 = x\n",
    "        if isPreprocess:\n",
    "            tokenized_query3 = preprocess(x)\n",
    "    \n",
    "\n",
    "        top_n = searcher.search(tokenized_query3)\n",
    "    \n",
    "        quant_relevante+=1\n",
    "        quant_encontrado+=verificar(l,top_n,top_k)\n",
    "    \n",
    "    recall = quant_encontrado / quant_relevante\n",
    "    depois = time.time()\n",
    "    print(\"R@20: \"+str(recall))\n",
    "    print(\"Duração: %f\" %(depois - antes))"
   ]
  },
  {
   "cell_type": "code",
   "execution_count": 9,
   "id": "96186b6a",
   "metadata": {},
   "outputs": [],
   "source": [
    "def avaliacaoRR(isPreprocess,top_k=20):\n",
    "    quant=0\n",
    "    for l,x in zip(y,X):\n",
    "\n",
    "        tokenized_query3 = x\n",
    "        if isPreprocess:\n",
    "            tokenized_query3 = preprocess(x)\n",
    "    \n",
    "        top_n = searcher.search(tokenized_query3)\n",
    "        if len(top_n)>0:\n",
    "            name = base.loc[int(top_n[0].docid),\"txtNome\"]\n",
    "            if str(name).strip()==str(l).strip():\n",
    "                quant+=1\n",
    "        else:\n",
    "            quant+=0\n",
    "    rr = quant/295\n",
    "    print(\"RR: %f\" %(rr))"
   ]
  },
  {
   "cell_type": "code",
   "execution_count": 10,
   "id": "6154cb41",
   "metadata": {},
   "outputs": [],
   "source": [
    "def avaliacaoPrecision(isPreprocess,top_k=20):\n",
    "    soma=0\n",
    "    for l,x in zip(y,X):\n",
    "\n",
    "        tokenized_query3 = x\n",
    "        if isPreprocess:\n",
    "            tokenized_query3 = preprocess(x)\n",
    "    \n",
    "        top_n = searcher.search(tokenized_query3)\n",
    "    \n",
    "        encontrado=verificar(l,top_n,top_k)\n",
    "        soma+= (encontrado / top_k)\n",
    "    precision = soma / 295\n",
    "    print(\"P@ %d: %f \" % (top_k,precision))"
   ]
  },
  {
   "cell_type": "code",
   "execution_count": 11,
   "id": "e918070a",
   "metadata": {},
   "outputs": [],
   "source": [
    "def avaliacaoMAP(isPreprocess,top_k=20):\n",
    "    l_v = list()\n",
    "    labels_nsL = list()\n",
    "    for l,x in zip(y,X):\n",
    "\n",
    "        tokenized_query3 = x\n",
    "        if isPreprocess:\n",
    "            tokenized_query3 = preprocess(x)\n",
    "    \n",
    "        top_n = searcher.search(tokenized_query3)\n",
    "        l_v.append(l)\n",
    "        temp = list()\n",
    "        for i,n in enumerate(top_n):\n",
    "            id = n.docid\n",
    "            name = base.loc[int(id),\"txtNome\"]\n",
    "            temp.append(name)\n",
    "            if i==(top_k-1):\n",
    "                break\n",
    "            \n",
    "        \n",
    "        labels_nsL.append(temp)\n",
    "        \n",
    "    denominador = 0\n",
    "    encontrou=False\n",
    "    soma=0\n",
    "    for Y,x in zip(l_v,labels_nsL):\n",
    "        calc = 0\n",
    "        quant=0\n",
    "        for k in x:\n",
    "            if str(k).strip() == Y.strip():\n",
    "                quant=1\n",
    "                encontrou=True\n",
    "            denominador+=1\n",
    "            calc=quant/denominador\n",
    "            if encontrou:\n",
    "                calc = calc * 1\n",
    "            else:\n",
    "                calc = calc * 0\n",
    "            soma+=calc\n",
    "            encontrou = False\n",
    "    MAP = soma /295\n",
    "    print(\"MAP: %f\" % (MAP))"
   ]
  },
  {
   "cell_type": "code",
   "execution_count": 10,
   "id": "c80d3145",
   "metadata": {},
   "outputs": [],
   "source": [
    "class Savoy:\n",
    "\n",
    "    def __removeAllPTAccent(self, old_word):\n",
    "        word = list(old_word)\n",
    "        len_word = len(word)-1\n",
    "        for i in range(len_word, -1, -1):\n",
    "            if word[i] == 'ä':\n",
    "                word[i] = 'a'\n",
    "            if word[i] == 'â':\n",
    "                word[i] = 'a'\n",
    "            if word[i] == 'à':\n",
    "                word[i] = 'a'\n",
    "            if word[i] == 'á':\n",
    "                word[i] = 'a'\n",
    "            if word[i] == 'ã':\n",
    "                word[i] = 'a'\n",
    "            if word[i] == 'ê':\n",
    "                word[i] = 'e'\n",
    "            if word[i] == 'é':\n",
    "                word[i] = 'e'\n",
    "            if word[i] == 'è':\n",
    "                word[i] = 'e'\n",
    "            if word[i] == 'ë':\n",
    "                word[i] = 'e'\n",
    "            if word[i] == 'ï':\n",
    "                word[i] = 'i'\n",
    "            if word[i] == 'î':\n",
    "                word[i] = 'i'\n",
    "            if word[i] == 'ì':\n",
    "                word[i] = 'i'\n",
    "            if word[i] == 'í':\n",
    "                word[i] = 'i'\n",
    "            if word[i] == 'ü':\n",
    "                word[i] = 'u'\n",
    "            if word[i] == 'ú':\n",
    "                word[i] = 'u'\n",
    "            if word[i] == 'ù':\n",
    "                word[i] = 'u'\n",
    "            if word[i] == 'û':\n",
    "                word[i] = 'u'\n",
    "            if word[i] == 'ô':\n",
    "                word[i] = 'o'\n",
    "            if word[i] == 'ö':\n",
    "                word[i] = 'o'\n",
    "            if word[i] == 'ó':\n",
    "                word[i] = 'o'\n",
    "            if word[i] == 'ò':\n",
    "                word[i] = 'o'\n",
    "            if word[i] == 'õ':\n",
    "                word[i] = 'o'\n",
    "            if word[i] == 'ç':\n",
    "                word[i] = 'c'\n",
    "\n",
    "        new_word = \"\".join(word)\n",
    "        return new_word\n",
    "\n",
    "    def __finalVowelPortuguese(self, word):\n",
    "        len_word = len(word)\n",
    "        if len_word > 3:\n",
    "            if word[-1] == 'e' or word[-1] == 'a' or word[-1] == 'o':\n",
    "                word = word[:-1]\n",
    "\n",
    "        return word\n",
    "\n",
    "    def __remove_PTsuffix(self, word):\n",
    "        len_word = len(word)\n",
    "\n",
    "        if len_word > 3:\n",
    "            if word[-1] == 's' and word[-2] == 'e' and (word[-3] == 'r' or word[-3] == 's' or word[-3] == 'z' or word[-3] == 'l'):\n",
    "                word = word[:-2]\n",
    "                return word\n",
    "        if len_word > 2:\n",
    "            if word[-1] == 's' and word[-2] == 'n':\n",
    "                new_word = list(word)\n",
    "                new_word[-2] = 'm'\n",
    "                sing = \"\".join(new_word)\n",
    "                sing = sing[:-1]\n",
    "                return sing\n",
    "\n",
    "        if len_word > 3:\n",
    "            if (word[-1] == 's' and word[-2] == 'i') and (word[-3] == 'e' or word[-3] == 'é'):\n",
    "                new_word = list(word)\n",
    "                new_word[-3] = 'e'\n",
    "                new_word[-2] = 'l'\n",
    "                sing = \"\".join(new_word)\n",
    "                sing = sing[:-1]\n",
    "                return sing\n",
    "\n",
    "        if len_word > 3:\n",
    "            if word[-1] == 's' and word[-2] == 'i' and word[-3] == 'a':\n",
    "                new_word = list(word)\n",
    "                new_word[-2] = 'l'\n",
    "                sing = \"\".join(new_word)\n",
    "                sing = sing[:-1]\n",
    "                return sing\n",
    "\n",
    "        if len_word > 3:\n",
    "            if word[-1] == 's' and word[-2] == 'i' and word[-3] == 'ó':\n",
    "                new_word = list(word)\n",
    "                new_word[-3] = 'o'\n",
    "                new_word[-2] = 'l'\n",
    "                sing = \"\".join(new_word)\n",
    "                sing = sing[:-1]\n",
    "                return sing\n",
    "\n",
    "        if len_word > 3:\n",
    "            if word[-1] == 's' and word[-2] == 'i':\n",
    "                new_word = list(word)\n",
    "                new_word[-1] = 'l'\n",
    "                sing = \"\".join(new_word)\n",
    "                return sing\n",
    "\n",
    "        if len_word > 2:\n",
    "            if word[-1] == 's' and word[-2] == 'e' and word[-3] == 'õ':\n",
    "                new_word = list(word)\n",
    "                new_word[-3] = 'ã'\n",
    "                new_word[-2] = 'o'\n",
    "                sing = \"\".join(new_word)\n",
    "                sing = sing[:-1]\n",
    "                return sing\n",
    "            if word[-1] == 's' and word[-2] == 'e' and word[-3] == 'ã':\n",
    "                new_word = list(word)\n",
    "                new_word[-2] = 'o'\n",
    "                sing = \"\".join(new_word)\n",
    "                sing = sing[:-1]\n",
    "                return sing\n",
    "\n",
    "        if len_word > 5:\n",
    "            if word[-1] == 'e' and word[-2] == 't' and word[-3] == 'n' and word[-4] == 'e' and word[-5] == 'm':\n",
    "                word = word[:-5]\n",
    "                return word\n",
    "\n",
    "        if len_word > 2:\n",
    "            if word[-1] == 's':\n",
    "                word = word[:-1]\n",
    "\n",
    "        return word\n",
    "\n",
    "    def __normFemininPortuguese(self, word):\n",
    "\n",
    "        len_word = len(word)\n",
    "\n",
    "        if len_word < 3 or word[-1] != 'a':\n",
    "            return word\n",
    "\n",
    "        if len_word > 6:\n",
    "\n",
    "            if word[-2] == 'h' and word[-3] == 'n' and word[-4] == 'i':\n",
    "                new_word = list(word)\n",
    "                new_word[-1] = 'o'\n",
    "                masc = \"\".join(new_word)\n",
    "                return masc\n",
    "\n",
    "            if word[-2] == 'c' and word[-3] == 'a' and word[-4] == 'i':\n",
    "                new_word = list(word)\n",
    "                new_word[-1] = 'o'\n",
    "                masc = \"\".join(new_word)\n",
    "                return masc\n",
    "\n",
    "            if word[-2] == 'r' and word[-3] == 'i' and word[-4] == 'e':\n",
    "                new_word = list(word)\n",
    "                new_word[-1] = 'o'\n",
    "                masc = \"\".join(new_word)\n",
    "                return masc\n",
    "\n",
    "        if len_word > 5:\n",
    "            if word[-2] == 'n' and word[-3] == 'o':\n",
    "                new_word = list(word)\n",
    "                new_word[-3] = 'ã'\n",
    "                new_word[-2] = 'o'\n",
    "                masc = \"\".join(new_word)\n",
    "                masc = masc[:-1]\n",
    "                return masc\n",
    "\n",
    "            if word[-2] == 'r' and word[-3] == 'o':\n",
    "                word = word[:-1]\n",
    "                return word\n",
    "\n",
    "            if word[-2] == 's' and word[-3] == 'o':\n",
    "                new_word = list(word)\n",
    "                new_word[-1] = 'o'\n",
    "                masc = \"\".join(new_word)\n",
    "                return masc\n",
    "\n",
    "            if word[-2] == 's' and word[-3] == 'e':\n",
    "                new_word = list(word)\n",
    "                new_word[-3] = 'ê'\n",
    "                masc = \"\".join(new_word)\n",
    "                masc = masc[:-1]\n",
    "                return masc\n",
    "\n",
    "            if word[-2] == 'c' and word[-3] == 'i':\n",
    "                new_word = list(word)\n",
    "                new_word[-1] = 'o'\n",
    "                masc = \"\".join(new_word)\n",
    "                return masc\n",
    "\n",
    "            if word[-2] == 'd' and word[-3] == 'i':\n",
    "                new_word = list(word)\n",
    "                new_word[-1] = 'o'\n",
    "                masc = \"\".join(new_word)\n",
    "                return masc\n",
    "\n",
    "            if word[-2] == 'd' and word[-3] == 'a':\n",
    "                new_word = list(word)\n",
    "                new_word[-1] = 'o'\n",
    "                masc = \"\".join(new_word)\n",
    "                return masc\n",
    "\n",
    "            if word[-2] == 'v' and word[-3] == 'i':\n",
    "                new_word = list(word)\n",
    "                new_word[-1] = 'o'\n",
    "                masc = \"\".join(new_word)\n",
    "                return masc\n",
    "\n",
    "            if word[-2] == 'm' and word[-3] == 'a':\n",
    "                new_word = list(word)\n",
    "                new_word[-1] = 'o'\n",
    "                masc = \"\".join(new_word)\n",
    "                return masc\n",
    "\n",
    "            if word[-2] == 'n':\n",
    "                new_word = list(word)\n",
    "                new_word[-1] = 'o'\n",
    "                masc = \"\".join(new_word)\n",
    "                return masc\n",
    "\n",
    "        return word\n",
    "\n",
    "    def stem(self, word):\n",
    "        len_word = len(word)\n",
    "        if len_word > 2:\n",
    "            word = self.__remove_PTsuffix(word)\n",
    "            word = self.__normFemininPortuguese(word)\n",
    "            word = self.__finalVowelPortuguese(word)\n",
    "            word = self.__removeAllPTAccent(word)\n",
    "\n",
    "        return word"
   ]
  },
  {
   "cell_type": "code",
   "execution_count": 11,
   "id": "0b3e7116",
   "metadata": {},
   "outputs": [],
   "source": [
    "class RSLP_S:\n",
    "    def __plural_reduction(self, word):\n",
    "        excep = [\"lápis\",\"cais\",\"mais\",\"crúcis\",\"biquínis\",\"pois\",\"depois\",\"dois\",\"leis\" ]\n",
    "        excep_s = [\"aliás\",\"pires\",\"lápis\",\"cais\",\"mais\",\"mas\",\"menos\", \"férias\",\"fezes\",\"pêsames\",\"crúcis\",\"gás\", \"atrás\",\"moisés\",\"através\",\"convés\",\"ês\", \"país\",\"após\",\"ambas\",\"ambos\",\"messias\"]\n",
    "\n",
    "        len_word = len(word)\n",
    "        new_word = list(word)\n",
    "\n",
    "        if len_word >= 3:\n",
    "            if new_word[-1] == 's' and new_word[-2] == 'n':\n",
    "                new_word[-2] = 'm'\n",
    "                sing = \"\".join(new_word)\n",
    "                sing = sing[:-1]\n",
    "                return sing\n",
    "\n",
    "            if new_word[-1] == 's' and new_word[-2] == 'e' and new_word[-3] == 'õ':\n",
    "                new_word[-3] = 'ã'\n",
    "                new_word[-2] = 'o'\n",
    "                sing = \"\".join(new_word)\n",
    "                sing = sing[:-1]\n",
    "                return  sing\n",
    "\n",
    "            if new_word[-1] == 's' and new_word[-2] == 'e' and new_word[-3] == 'ã':\n",
    "                if word == 'mães':\n",
    "                    word = word[:-1]\n",
    "                    return word\n",
    "                else:\n",
    "                    new_word[-2] = 'o'\n",
    "                    sing = \"\".join(new_word)\n",
    "                    sing = sing[:-1]\n",
    "                    return sing\n",
    "\n",
    "            if new_word[-1] == 's' and new_word[-2] == 'i' and new_word[-3] == 'a':\n",
    "                if word != 'cais' and word != 'mais':\n",
    "                    new_word[-2] = 'l'\n",
    "                    sing = \"\".join(new_word)\n",
    "                    sing = sing[:-1]\n",
    "                    return sing\n",
    "\n",
    "            if new_word[-1] == 's' and new_word[-2] == 'i' and new_word[-3] == 'é':\n",
    "                new_word[-3] = 'e'\n",
    "                new_word[-2] = 'l'\n",
    "                sing = \"\".join(new_word)\n",
    "                sing = sing[:-1]\n",
    "                return sing\n",
    "\n",
    "            if new_word[-1] == 's' and new_word[-2] == 'i' and new_word[-3] == 'e':\n",
    "                new_word[-3] = 'e'\n",
    "                new_word[-2] = 'l'\n",
    "                sing = \"\".join(new_word)\n",
    "                sing = sing[:-1]\n",
    "                return sing\n",
    "\n",
    "            if new_word[-1] == 's' and new_word[-2] == 'i' and new_word[-3] == 'ó':\n",
    "                new_word[-3] = 'o'\n",
    "                new_word[-2] = 'l'\n",
    "                sing = \"\".join(new_word)\n",
    "                sing = sing[:-1]\n",
    "                return sing\n",
    "\n",
    "            if new_word[-1] == 's' and new_word[-2] == 'i':\n",
    "                if word not in excep:\n",
    "                    new_word[-1] = 'l'\n",
    "                    sing = \"\".join(new_word)\n",
    "                    return sing\n",
    "\n",
    "            if new_word[-1] == 's' and new_word[-2] == 'e' and new_word[-3] == 'l':\n",
    "                word = word[:-2]\n",
    "                return word\n",
    "\n",
    "            if new_word[-1] == 's' and new_word[-2] == 'e' and new_word[-3] == 'r':\n",
    "                word = word[:-2]\n",
    "                return word\n",
    "\n",
    "            if new_word[-1] == 's':\n",
    "                if word not in excep_s:\n",
    "                    word = word[:-1]\n",
    "\n",
    "        return word\n",
    "\n",
    "    def stem(self, word):\n",
    "        word = self.__plural_reduction(word)\n",
    "\n",
    "        return word"
   ]
  },
  {
   "cell_type": "markdown",
   "id": "61dab6bd",
   "metadata": {},
   "source": [
    "## Config 1"
   ]
  },
  {
   "cell_type": "code",
   "execution_count": 12,
   "id": "2f481347",
   "metadata": {},
   "outputs": [],
   "source": [
    "index_path = 'indexE/sem_pre_processamento'"
   ]
  },
  {
   "cell_type": "code",
   "execution_count": 13,
   "id": "95eeed8e",
   "metadata": {},
   "outputs": [
    {
     "name": "stdout",
     "output_type": "stream",
     "text": [
      "SimpleSearcher class has been deprecated, please use LuceneSearcher from pyserini.search.lucene instead\n"
     ]
    }
   ],
   "source": [
    "searcher = SimpleSearcher(index_path)\n",
    "searcher.set_bm25(k1=1.5,b=0.75)"
   ]
  },
  {
   "cell_type": "code",
   "execution_count": 14,
   "id": "08f377b9",
   "metadata": {},
   "outputs": [],
   "source": [
    "def preprocess(txt):\n",
    "    txt = str(txt)\n",
    "    terms = word_tokenize(txt)\n",
    "    terms = \" \".join(terms)\n",
    "    return terms"
   ]
  },
  {
   "cell_type": "markdown",
   "id": "5c0c9d27",
   "metadata": {},
   "source": [
    "## Avaliação"
   ]
  },
  {
   "cell_type": "markdown",
   "id": "72c59f05",
   "metadata": {},
   "source": [
    "### Recall"
   ]
  },
  {
   "cell_type": "code",
   "execution_count": 17,
   "id": "fe5c8d56",
   "metadata": {},
   "outputs": [
    {
     "name": "stdout",
     "output_type": "stream",
     "text": [
      "R@20: 0.13220338983050847\n",
      "Duração: 1.419490\n"
     ]
    }
   ],
   "source": [
    "avaliacaoRecall(True,5)"
   ]
  },
  {
   "cell_type": "code",
   "execution_count": 18,
   "id": "d816aa17",
   "metadata": {},
   "outputs": [
    {
     "name": "stdout",
     "output_type": "stream",
     "text": [
      "R@20: 0.17966101694915254\n",
      "Duração: 0.747000\n"
     ]
    }
   ],
   "source": [
    "avaliacaoRecall(True,10)"
   ]
  },
  {
   "cell_type": "code",
   "execution_count": 15,
   "id": "68b40493",
   "metadata": {},
   "outputs": [
    {
     "name": "stdout",
     "output_type": "stream",
     "text": [
      "R@20: 0.31864406779661014\n",
      "Duração: 3.140032\n"
     ]
    }
   ],
   "source": [
    "avaliacaoRecall(True,20)"
   ]
  },
  {
   "cell_type": "markdown",
   "id": "3bd5a984",
   "metadata": {},
   "source": [
    "### Precision"
   ]
  },
  {
   "cell_type": "code",
   "execution_count": 20,
   "id": "e75469ea",
   "metadata": {},
   "outputs": [
    {
     "name": "stdout",
     "output_type": "stream",
     "text": [
      "P@ 5: 0.026441 \n"
     ]
    }
   ],
   "source": [
    "avaliacaoPrecision(True,5)"
   ]
  },
  {
   "cell_type": "code",
   "execution_count": 21,
   "id": "0228afdd",
   "metadata": {},
   "outputs": [
    {
     "name": "stdout",
     "output_type": "stream",
     "text": [
      "P@ 10: 0.017966 \n"
     ]
    }
   ],
   "source": [
    "avaliacaoPrecision(True,10)"
   ]
  },
  {
   "cell_type": "code",
   "execution_count": 22,
   "id": "03aa2a5b",
   "metadata": {},
   "outputs": [
    {
     "name": "stdout",
     "output_type": "stream",
     "text": [
      "P@ 20: 0.008983 \n"
     ]
    }
   ],
   "source": [
    "avaliacaoPrecision(True,20)"
   ]
  },
  {
   "cell_type": "markdown",
   "id": "1b160905",
   "metadata": {},
   "source": [
    "### MAP"
   ]
  },
  {
   "cell_type": "code",
   "execution_count": 23,
   "id": "36845a84",
   "metadata": {},
   "outputs": [
    {
     "name": "stdout",
     "output_type": "stream",
     "text": [
      "MAP: 0.000873\n"
     ]
    }
   ],
   "source": [
    "avaliacaoMAP(True,5)"
   ]
  },
  {
   "cell_type": "code",
   "execution_count": 24,
   "id": "c03c3150",
   "metadata": {},
   "outputs": [
    {
     "name": "stdout",
     "output_type": "stream",
     "text": [
      "MAP: 0.000505\n"
     ]
    }
   ],
   "source": [
    "avaliacaoMAP(True,10)"
   ]
  },
  {
   "cell_type": "code",
   "execution_count": 25,
   "id": "37f4985d",
   "metadata": {},
   "outputs": [
    {
     "name": "stdout",
     "output_type": "stream",
     "text": [
      "MAP: 0.000505\n"
     ]
    }
   ],
   "source": [
    "avaliacaoMAP(True,20)"
   ]
  },
  {
   "cell_type": "markdown",
   "id": "dc839023",
   "metadata": {},
   "source": [
    "### RR"
   ]
  },
  {
   "cell_type": "code",
   "execution_count": 26,
   "id": "d98c34ac",
   "metadata": {},
   "outputs": [
    {
     "name": "stdout",
     "output_type": "stream",
     "text": [
      "RR: 0.071186\n"
     ]
    }
   ],
   "source": [
    "avaliacaoRR(True,5)"
   ]
  },
  {
   "cell_type": "markdown",
   "id": "395c6c45",
   "metadata": {},
   "source": [
    "## Config 5"
   ]
  },
  {
   "cell_type": "code",
   "execution_count": 16,
   "id": "6604cbe3",
   "metadata": {},
   "outputs": [],
   "source": [
    "index_path = 'indexE/pre_processamento_lower_remocao_punctuation_acentuacao_stopwords'"
   ]
  },
  {
   "cell_type": "code",
   "execution_count": 17,
   "id": "39066769",
   "metadata": {},
   "outputs": [
    {
     "name": "stdout",
     "output_type": "stream",
     "text": [
      "SimpleSearcher class has been deprecated, please use LuceneSearcher from pyserini.search.lucene instead\n"
     ]
    }
   ],
   "source": [
    "searcher = SimpleSearcher(index_path)\n",
    "searcher.set_bm25(k1=1.5,b=0.75)"
   ]
  },
  {
   "cell_type": "code",
   "execution_count": 18,
   "id": "3f8950a0",
   "metadata": {},
   "outputs": [],
   "source": [
    "def _remove_acentos(txt):\n",
    "    return normalize('NFKD', txt).encode('ASCII', 'ignore').decode('ASCII')\n",
    "\n",
    "def preprocess(txt):\n",
    "    txt = str(txt)\n",
    "    txt = _remove_acentos(txt)\n",
    "    stopwords = nltk.corpus.stopwords.words(\"portuguese\")\n",
    "    stopwords.extend(list(punctuation))\n",
    "    tokenizer = RegexpTokenizer('\\w+')\n",
    "    terms = tokenizer.tokenize(txt.lower())\n",
    "    terms = [word for word in terms if word not in stopwords]\n",
    "    terms = \" \".join(terms)\n",
    "    return terms"
   ]
  },
  {
   "cell_type": "markdown",
   "id": "562b5a75",
   "metadata": {},
   "source": [
    "## Avaliação"
   ]
  },
  {
   "cell_type": "markdown",
   "id": "efb35684",
   "metadata": {},
   "source": [
    "### Recall"
   ]
  },
  {
   "cell_type": "code",
   "execution_count": 30,
   "id": "3f2859f6",
   "metadata": {},
   "outputs": [
    {
     "name": "stdout",
     "output_type": "stream",
     "text": [
      "R@20: 0.2\n",
      "Duração: 0.550018\n"
     ]
    }
   ],
   "source": [
    "avaliacaoRecall(True,5)"
   ]
  },
  {
   "cell_type": "code",
   "execution_count": 31,
   "id": "beaef1f2",
   "metadata": {},
   "outputs": [
    {
     "name": "stdout",
     "output_type": "stream",
     "text": [
      "R@20: 0.2440677966101695\n",
      "Duração: 0.601024\n"
     ]
    }
   ],
   "source": [
    "avaliacaoRecall(True,10)"
   ]
  },
  {
   "cell_type": "code",
   "execution_count": 19,
   "id": "a2bc5501",
   "metadata": {},
   "outputs": [
    {
     "name": "stdout",
     "output_type": "stream",
     "text": [
      "R@20: 0.34576271186440677\n",
      "Duração: 0.744996\n"
     ]
    }
   ],
   "source": [
    "avaliacaoRecall(True,20)"
   ]
  },
  {
   "cell_type": "markdown",
   "id": "394f750d",
   "metadata": {},
   "source": [
    "### Precision"
   ]
  },
  {
   "cell_type": "code",
   "execution_count": 33,
   "id": "061ec141",
   "metadata": {},
   "outputs": [
    {
     "name": "stdout",
     "output_type": "stream",
     "text": [
      "P@ 5: 0.040000 \n"
     ]
    }
   ],
   "source": [
    "avaliacaoPrecision(True,5)"
   ]
  },
  {
   "cell_type": "code",
   "execution_count": 34,
   "id": "0105312a",
   "metadata": {},
   "outputs": [
    {
     "name": "stdout",
     "output_type": "stream",
     "text": [
      "P@ 10: 0.024407 \n"
     ]
    }
   ],
   "source": [
    "avaliacaoPrecision(True,10)"
   ]
  },
  {
   "cell_type": "code",
   "execution_count": 35,
   "id": "5f785d11",
   "metadata": {},
   "outputs": [
    {
     "name": "stdout",
     "output_type": "stream",
     "text": [
      "P@ 20: 0.012203 \n"
     ]
    }
   ],
   "source": [
    "avaliacaoPrecision(True,20)"
   ]
  },
  {
   "cell_type": "markdown",
   "id": "ae4fd14a",
   "metadata": {},
   "source": [
    "### MAP"
   ]
  },
  {
   "cell_type": "code",
   "execution_count": 36,
   "id": "126c4437",
   "metadata": {},
   "outputs": [
    {
     "name": "stdout",
     "output_type": "stream",
     "text": [
      "MAP: 0.001152\n"
     ]
    }
   ],
   "source": [
    "avaliacaoMAP(True,5)"
   ]
  },
  {
   "cell_type": "code",
   "execution_count": 37,
   "id": "33893a2d",
   "metadata": {},
   "outputs": [
    {
     "name": "stdout",
     "output_type": "stream",
     "text": [
      "MAP: 0.000664\n"
     ]
    }
   ],
   "source": [
    "avaliacaoMAP(True,10)"
   ]
  },
  {
   "cell_type": "code",
   "execution_count": 38,
   "id": "b21671a9",
   "metadata": {},
   "outputs": [
    {
     "name": "stdout",
     "output_type": "stream",
     "text": [
      "MAP: 0.000664\n"
     ]
    }
   ],
   "source": [
    "avaliacaoMAP(True,20)"
   ]
  },
  {
   "cell_type": "markdown",
   "id": "a00476df",
   "metadata": {},
   "source": [
    "### RR"
   ]
  },
  {
   "cell_type": "code",
   "execution_count": 39,
   "id": "11997d8e",
   "metadata": {},
   "outputs": [
    {
     "name": "stdout",
     "output_type": "stream",
     "text": [
      "RR: 0.108475\n"
     ]
    }
   ],
   "source": [
    "avaliacaoRR(True,5)"
   ]
  },
  {
   "cell_type": "markdown",
   "id": "4e302b67",
   "metadata": {},
   "source": [
    "## Config 8"
   ]
  },
  {
   "cell_type": "code",
   "execution_count": 20,
   "id": "47a69ab2",
   "metadata": {},
   "outputs": [],
   "source": [
    "index_path = 'indexE/pre_processamento_rslp_full'"
   ]
  },
  {
   "cell_type": "code",
   "execution_count": 21,
   "id": "7f59c608",
   "metadata": {},
   "outputs": [
    {
     "name": "stdout",
     "output_type": "stream",
     "text": [
      "SimpleSearcher class has been deprecated, please use LuceneSearcher from pyserini.search.lucene instead\n"
     ]
    }
   ],
   "source": [
    "searcher = SimpleSearcher(index_path)\n",
    "searcher.set_bm25(k1=1.5,b=0.75)"
   ]
  },
  {
   "cell_type": "code",
   "execution_count": 22,
   "id": "35c469dc",
   "metadata": {},
   "outputs": [],
   "source": [
    "def _remove_acentos(txt):\n",
    "    return normalize('NFKD', txt).encode('ASCII', 'ignore').decode('ASCII')\n",
    "\n",
    "def preprocess(txt):\n",
    "    txt = str(txt)\n",
    "    txt = _remove_acentos(txt)\n",
    "    stopwords = nltk.corpus.stopwords.words(\"portuguese\")\n",
    "    stopwords.extend(list(punctuation))\n",
    "\n",
    "    stemmer = RSLPStemmer()\n",
    "    tokenizer = RegexpTokenizer('\\w+')\n",
    "    terms = tokenizer.tokenize(txt.lower())\n",
    "    terms = [stemmer.stem(word) for word in terms if word not in stopwords]\n",
    "        \n",
    "    return \" \".join(terms)"
   ]
  },
  {
   "cell_type": "markdown",
   "id": "94684d68",
   "metadata": {},
   "source": [
    "## Avaliação"
   ]
  },
  {
   "cell_type": "markdown",
   "id": "41b85d2f",
   "metadata": {},
   "source": [
    "### Recall"
   ]
  },
  {
   "cell_type": "code",
   "execution_count": 43,
   "id": "d0ec2305",
   "metadata": {},
   "outputs": [
    {
     "name": "stdout",
     "output_type": "stream",
     "text": [
      "R@20: 0.38305084745762713\n",
      "Duração: 1.423002\n"
     ]
    }
   ],
   "source": [
    "avaliacaoRecall(True,5)"
   ]
  },
  {
   "cell_type": "code",
   "execution_count": 44,
   "id": "c976a8f6",
   "metadata": {},
   "outputs": [
    {
     "name": "stdout",
     "output_type": "stream",
     "text": [
      "R@20: 0.4406779661016949\n",
      "Duração: 1.422359\n"
     ]
    }
   ],
   "source": [
    "avaliacaoRecall(True,10)"
   ]
  },
  {
   "cell_type": "code",
   "execution_count": 23,
   "id": "8fe6d7dc",
   "metadata": {},
   "outputs": [
    {
     "name": "stdout",
     "output_type": "stream",
     "text": [
      "R@20: 0.4847457627118644\n",
      "Duração: 1.576999\n"
     ]
    }
   ],
   "source": [
    "avaliacaoRecall(True,20)"
   ]
  },
  {
   "cell_type": "markdown",
   "id": "20056df2",
   "metadata": {},
   "source": [
    "### Precision"
   ]
  },
  {
   "cell_type": "code",
   "execution_count": 46,
   "id": "5264387b",
   "metadata": {},
   "outputs": [
    {
     "name": "stdout",
     "output_type": "stream",
     "text": [
      "P@ 5: 0.076610 \n"
     ]
    }
   ],
   "source": [
    "avaliacaoPrecision(True,5)"
   ]
  },
  {
   "cell_type": "code",
   "execution_count": 47,
   "id": "6e99d32b",
   "metadata": {},
   "outputs": [
    {
     "name": "stdout",
     "output_type": "stream",
     "text": [
      "P@ 10: 0.044068 \n"
     ]
    }
   ],
   "source": [
    "avaliacaoPrecision(True,10)"
   ]
  },
  {
   "cell_type": "code",
   "execution_count": 48,
   "id": "6da43024",
   "metadata": {},
   "outputs": [
    {
     "name": "stdout",
     "output_type": "stream",
     "text": [
      "P@ 20: 0.022034 \n"
     ]
    }
   ],
   "source": [
    "avaliacaoPrecision(True,20)"
   ]
  },
  {
   "cell_type": "markdown",
   "id": "996188c6",
   "metadata": {},
   "source": [
    "### MAP"
   ]
  },
  {
   "cell_type": "code",
   "execution_count": 49,
   "id": "c6a60c8b",
   "metadata": {},
   "outputs": [
    {
     "name": "stdout",
     "output_type": "stream",
     "text": [
      "MAP: 0.001850\n"
     ]
    }
   ],
   "source": [
    "avaliacaoMAP(True,5)"
   ]
  },
  {
   "cell_type": "code",
   "execution_count": 50,
   "id": "2dcf9f92",
   "metadata": {},
   "outputs": [
    {
     "name": "stdout",
     "output_type": "stream",
     "text": [
      "MAP: 0.001012\n"
     ]
    }
   ],
   "source": [
    "avaliacaoMAP(True,10)"
   ]
  },
  {
   "cell_type": "code",
   "execution_count": 51,
   "id": "095b62a0",
   "metadata": {},
   "outputs": [
    {
     "name": "stdout",
     "output_type": "stream",
     "text": [
      "MAP: 0.001012\n"
     ]
    }
   ],
   "source": [
    "avaliacaoMAP(True,20)"
   ]
  },
  {
   "cell_type": "markdown",
   "id": "7ddaa662",
   "metadata": {},
   "source": [
    "### RR"
   ]
  },
  {
   "cell_type": "code",
   "execution_count": 52,
   "id": "0e106758",
   "metadata": {},
   "outputs": [
    {
     "name": "stdout",
     "output_type": "stream",
     "text": [
      "RR: 0.233898\n"
     ]
    }
   ],
   "source": [
    "avaliacaoRR(True,5)"
   ]
  },
  {
   "cell_type": "markdown",
   "id": "b793ad01",
   "metadata": {},
   "source": [
    "## Config 9"
   ]
  },
  {
   "cell_type": "code",
   "execution_count": 24,
   "id": "b95b9198",
   "metadata": {},
   "outputs": [],
   "source": [
    "index_path = 'indexE/pre_processamento_savoy_full'"
   ]
  },
  {
   "cell_type": "code",
   "execution_count": 25,
   "id": "d4e16f06",
   "metadata": {},
   "outputs": [
    {
     "name": "stdout",
     "output_type": "stream",
     "text": [
      "SimpleSearcher class has been deprecated, please use LuceneSearcher from pyserini.search.lucene instead\n"
     ]
    }
   ],
   "source": [
    "searcher = SimpleSearcher(index_path)\n",
    "searcher.set_bm25(k1=1.5,b=0.75)"
   ]
  },
  {
   "cell_type": "code",
   "execution_count": 26,
   "id": "1ae28261",
   "metadata": {},
   "outputs": [],
   "source": [
    "def _remove_acentos(txt):\n",
    "    return normalize('NFKD', txt).encode('ASCII', 'ignore').decode('ASCII')\n",
    "\n",
    "def preprocess(txt):\n",
    "    txt = str(txt)\n",
    "    txt = _remove_acentos(txt)\n",
    "    stopwords = nltk.corpus.stopwords.words(\"portuguese\")\n",
    "    stopwords.extend(list(punctuation))\n",
    "\n",
    "    stemmer = Savoy()\n",
    "    tokenizer = RegexpTokenizer('\\w+')\n",
    "    terms = tokenizer.tokenize(txt.lower())\n",
    "    terms = [stemmer.stem(word) for word in terms if word not in stopwords]\n",
    "        \n",
    "    return \" \".join(terms)"
   ]
  },
  {
   "cell_type": "markdown",
   "id": "4f5ca772",
   "metadata": {},
   "source": [
    "## Avaliação"
   ]
  },
  {
   "cell_type": "markdown",
   "id": "47926cc5",
   "metadata": {},
   "source": [
    "### Recall"
   ]
  },
  {
   "cell_type": "code",
   "execution_count": 56,
   "id": "d3fb26bc",
   "metadata": {},
   "outputs": [
    {
     "name": "stdout",
     "output_type": "stream",
     "text": [
      "R@20: 0.3423728813559322\n",
      "Duração: 0.870002\n"
     ]
    }
   ],
   "source": [
    "avaliacaoRecall(True,5)"
   ]
  },
  {
   "cell_type": "code",
   "execution_count": 57,
   "id": "eb3f4810",
   "metadata": {},
   "outputs": [
    {
     "name": "stdout",
     "output_type": "stream",
     "text": [
      "R@20: 0.4101694915254237\n",
      "Duração: 0.858035\n"
     ]
    }
   ],
   "source": [
    "avaliacaoRecall(True,10)"
   ]
  },
  {
   "cell_type": "code",
   "execution_count": 27,
   "id": "a5cdf8e0",
   "metadata": {},
   "outputs": [
    {
     "name": "stdout",
     "output_type": "stream",
     "text": [
      "R@20: 0.4440677966101695\n",
      "Duração: 1.007250\n"
     ]
    }
   ],
   "source": [
    "avaliacaoRecall(True,20)"
   ]
  },
  {
   "cell_type": "markdown",
   "id": "038dd10f",
   "metadata": {},
   "source": [
    "### Precision"
   ]
  },
  {
   "cell_type": "code",
   "execution_count": 59,
   "id": "bb6eefa7",
   "metadata": {},
   "outputs": [
    {
     "name": "stdout",
     "output_type": "stream",
     "text": [
      "P@ 5: 0.068475 \n"
     ]
    }
   ],
   "source": [
    "avaliacaoPrecision(True,5)"
   ]
  },
  {
   "cell_type": "code",
   "execution_count": 60,
   "id": "fec44c5a",
   "metadata": {},
   "outputs": [
    {
     "name": "stdout",
     "output_type": "stream",
     "text": [
      "P@ 10: 0.041017 \n"
     ]
    }
   ],
   "source": [
    "avaliacaoPrecision(True,10)"
   ]
  },
  {
   "cell_type": "code",
   "execution_count": 61,
   "id": "8773952c",
   "metadata": {},
   "outputs": [
    {
     "name": "stdout",
     "output_type": "stream",
     "text": [
      "P@ 20: 0.020508 \n"
     ]
    }
   ],
   "source": [
    "avaliacaoPrecision(True,20)"
   ]
  },
  {
   "cell_type": "markdown",
   "id": "afc6abdd",
   "metadata": {},
   "source": [
    "### MAP"
   ]
  },
  {
   "cell_type": "code",
   "execution_count": 62,
   "id": "ffdbbe57",
   "metadata": {},
   "outputs": [
    {
     "name": "stdout",
     "output_type": "stream",
     "text": [
      "MAP: 0.001775\n"
     ]
    }
   ],
   "source": [
    "avaliacaoMAP(True,5)"
   ]
  },
  {
   "cell_type": "code",
   "execution_count": 63,
   "id": "877dae65",
   "metadata": {},
   "outputs": [
    {
     "name": "stdout",
     "output_type": "stream",
     "text": [
      "MAP: 0.001008\n"
     ]
    }
   ],
   "source": [
    "avaliacaoMAP(True,10)"
   ]
  },
  {
   "cell_type": "code",
   "execution_count": 64,
   "id": "cbb3f563",
   "metadata": {},
   "outputs": [
    {
     "name": "stdout",
     "output_type": "stream",
     "text": [
      "MAP: 0.001008\n"
     ]
    }
   ],
   "source": [
    "avaliacaoMAP(True,20)"
   ]
  },
  {
   "cell_type": "markdown",
   "id": "d2353227",
   "metadata": {},
   "source": [
    "### RR"
   ]
  },
  {
   "cell_type": "code",
   "execution_count": 65,
   "id": "7a528856",
   "metadata": {},
   "outputs": [
    {
     "name": "stdout",
     "output_type": "stream",
     "text": [
      "RR: 0.200000\n"
     ]
    }
   ],
   "source": [
    "avaliacaoRR(True,5)"
   ]
  },
  {
   "cell_type": "markdown",
   "id": "3183ac18",
   "metadata": {},
   "source": [
    "## Config 18"
   ]
  },
  {
   "cell_type": "code",
   "execution_count": 28,
   "id": "961983aa",
   "metadata": {},
   "outputs": [],
   "source": [
    "index_path = 'indexE/pre_processamento_unigram_bigram_rslp_full'"
   ]
  },
  {
   "cell_type": "code",
   "execution_count": 29,
   "id": "42207994",
   "metadata": {},
   "outputs": [
    {
     "name": "stdout",
     "output_type": "stream",
     "text": [
      "SimpleSearcher class has been deprecated, please use LuceneSearcher from pyserini.search.lucene instead\n"
     ]
    }
   ],
   "source": [
    "searcher = SimpleSearcher(index_path)\n",
    "searcher.set_bm25(k1=1.5,b=0.75)"
   ]
  },
  {
   "cell_type": "code",
   "execution_count": 30,
   "id": "52bdaef8",
   "metadata": {},
   "outputs": [],
   "source": [
    "def _remove_acentos(txt):\n",
    "    return normalize('NFKD', txt).encode('ASCII', 'ignore').decode('ASCII')\n",
    "\n",
    "def preprocess(txt):\n",
    "    txt = str(txt)\n",
    "    txt = _remove_acentos(txt)\n",
    "    stopwords = nltk.corpus.stopwords.words(\"portuguese\")\n",
    "    stopwords.extend(list(punctuation))\n",
    "\n",
    "    stemmer = RSLPStemmer()\n",
    "    tokenizer = RegexpTokenizer('\\w+')\n",
    "    terms = tokenizer.tokenize(txt.lower())\n",
    "    terms = [stemmer.stem(word) for word in terms if word not in stopwords]\n",
    "    \n",
    "    ngram = []\n",
    "    ngram_1 = list(ngrams(terms, 1))\n",
    "    ngram_2 = list(ngrams(terms, 2))\n",
    "    for w in ngram_1:\n",
    "        ngram.append(w[0])\n",
    "        \n",
    "    for w in ngram_2:\n",
    "        string = w[0] + \"_\" + w[1]\n",
    "        ngram.append(string)\n",
    "    \n",
    "    return \" \".join(ngram)"
   ]
  },
  {
   "cell_type": "markdown",
   "id": "d28d87f7",
   "metadata": {},
   "source": [
    "## Avaliação"
   ]
  },
  {
   "cell_type": "markdown",
   "id": "f3894b33",
   "metadata": {},
   "source": [
    "### Recall"
   ]
  },
  {
   "cell_type": "code",
   "execution_count": 69,
   "id": "4b822763",
   "metadata": {},
   "outputs": [
    {
     "name": "stdout",
     "output_type": "stream",
     "text": [
      "R@20: 0.423728813559322\n",
      "Duração: 1.604999\n"
     ]
    }
   ],
   "source": [
    "avaliacaoRecall(True,5)"
   ]
  },
  {
   "cell_type": "code",
   "execution_count": 70,
   "id": "eb938be1",
   "metadata": {},
   "outputs": [
    {
     "name": "stdout",
     "output_type": "stream",
     "text": [
      "R@20: 0.46440677966101696\n",
      "Duração: 1.655754\n"
     ]
    }
   ],
   "source": [
    "avaliacaoRecall(True,10)"
   ]
  },
  {
   "cell_type": "code",
   "execution_count": 31,
   "id": "d50864c5",
   "metadata": {},
   "outputs": [
    {
     "name": "stdout",
     "output_type": "stream",
     "text": [
      "R@20: 0.49491525423728816\n",
      "Duração: 1.661852\n"
     ]
    }
   ],
   "source": [
    "avaliacaoRecall(True,20)"
   ]
  },
  {
   "cell_type": "markdown",
   "id": "af9e4f42",
   "metadata": {},
   "source": [
    "### Precision"
   ]
  },
  {
   "cell_type": "code",
   "execution_count": 72,
   "id": "152638b1",
   "metadata": {},
   "outputs": [
    {
     "name": "stdout",
     "output_type": "stream",
     "text": [
      "P@ 5: 0.084746 \n"
     ]
    }
   ],
   "source": [
    "avaliacaoPrecision(True,5)"
   ]
  },
  {
   "cell_type": "code",
   "execution_count": 73,
   "id": "4a85b9fe",
   "metadata": {},
   "outputs": [
    {
     "name": "stdout",
     "output_type": "stream",
     "text": [
      "P@ 10: 0.046441 \n"
     ]
    }
   ],
   "source": [
    "avaliacaoPrecision(True,10)"
   ]
  },
  {
   "cell_type": "code",
   "execution_count": 74,
   "id": "c6f530e1",
   "metadata": {},
   "outputs": [
    {
     "name": "stdout",
     "output_type": "stream",
     "text": [
      "P@ 20: 0.023220 \n"
     ]
    }
   ],
   "source": [
    "avaliacaoPrecision(True,20)"
   ]
  },
  {
   "cell_type": "markdown",
   "id": "f14c7ebd",
   "metadata": {},
   "source": [
    "### MAP"
   ]
  },
  {
   "cell_type": "code",
   "execution_count": 75,
   "id": "6150cac4",
   "metadata": {},
   "outputs": [
    {
     "name": "stdout",
     "output_type": "stream",
     "text": [
      "MAP: 0.001940\n"
     ]
    }
   ],
   "source": [
    "avaliacaoMAP(True,5)"
   ]
  },
  {
   "cell_type": "code",
   "execution_count": 76,
   "id": "9eb03ebd",
   "metadata": {},
   "outputs": [
    {
     "name": "stdout",
     "output_type": "stream",
     "text": [
      "MAP: 0.001062\n"
     ]
    }
   ],
   "source": [
    "avaliacaoMAP(True,10)"
   ]
  },
  {
   "cell_type": "code",
   "execution_count": 77,
   "id": "42b1b661",
   "metadata": {},
   "outputs": [
    {
     "name": "stdout",
     "output_type": "stream",
     "text": [
      "MAP: 0.001062\n"
     ]
    }
   ],
   "source": [
    "avaliacaoMAP(True,20)"
   ]
  },
  {
   "cell_type": "markdown",
   "id": "7485da08",
   "metadata": {},
   "source": [
    "### RR"
   ]
  },
  {
   "cell_type": "code",
   "execution_count": 78,
   "id": "976e2b6b",
   "metadata": {},
   "outputs": [
    {
     "name": "stdout",
     "output_type": "stream",
     "text": [
      "RR: 0.257627\n"
     ]
    }
   ],
   "source": [
    "avaliacaoRR(True,5)"
   ]
  },
  {
   "cell_type": "markdown",
   "id": "9dbfc2be",
   "metadata": {},
   "source": [
    "## Config 21"
   ]
  },
  {
   "cell_type": "code",
   "execution_count": 32,
   "id": "cb2d7478",
   "metadata": {},
   "outputs": [],
   "source": [
    "index_path = 'indexE/pre_processamento_unigram_bigram_savoy_full'"
   ]
  },
  {
   "cell_type": "code",
   "execution_count": 33,
   "id": "6cae88a7",
   "metadata": {},
   "outputs": [
    {
     "name": "stdout",
     "output_type": "stream",
     "text": [
      "SimpleSearcher class has been deprecated, please use LuceneSearcher from pyserini.search.lucene instead\n"
     ]
    }
   ],
   "source": [
    "searcher = SimpleSearcher(index_path)\n",
    "searcher.set_bm25(k1=1.5,b=0.75)"
   ]
  },
  {
   "cell_type": "code",
   "execution_count": 34,
   "id": "0679a54f",
   "metadata": {},
   "outputs": [],
   "source": [
    "def _remove_acentos(txt):\n",
    "    return normalize('NFKD', txt).encode('ASCII', 'ignore').decode('ASCII')\n",
    "\n",
    "def preprocess(txt):\n",
    "    txt = str(txt)\n",
    "    txt = _remove_acentos(txt)\n",
    "    stopwords = nltk.corpus.stopwords.words(\"portuguese\")\n",
    "    stopwords.extend(list(punctuation))\n",
    "\n",
    "    stemmer = Savoy()\n",
    "    tokenizer = RegexpTokenizer('\\w+')\n",
    "    terms = tokenizer.tokenize(txt.lower())\n",
    "    terms = [stemmer.stem(word) for word in terms if word not in stopwords]\n",
    "    \n",
    "    ngram = []\n",
    "    ngram_1 = list(ngrams(terms, 1))\n",
    "    ngram_2 = list(ngrams(terms, 2))\n",
    "    for w in ngram_1:\n",
    "        ngram.append(w[0])\n",
    "        \n",
    "    for w in ngram_2:\n",
    "        string = w[0] + \"_\" + w[1]\n",
    "        ngram.append(string)\n",
    "    \n",
    "    return \" \".join(ngram)"
   ]
  },
  {
   "cell_type": "markdown",
   "id": "11f036b9",
   "metadata": {},
   "source": [
    "## Avaliação"
   ]
  },
  {
   "cell_type": "markdown",
   "id": "4e9a3d8d",
   "metadata": {},
   "source": [
    "### Recall"
   ]
  },
  {
   "cell_type": "code",
   "execution_count": 82,
   "id": "12a17e98",
   "metadata": {},
   "outputs": [
    {
     "name": "stdout",
     "output_type": "stream",
     "text": [
      "R@20: 0.3694915254237288\n",
      "Duração: 0.960965\n"
     ]
    }
   ],
   "source": [
    "avaliacaoRecall(True,5)"
   ]
  },
  {
   "cell_type": "code",
   "execution_count": 83,
   "id": "bb86cd9d",
   "metadata": {},
   "outputs": [
    {
     "name": "stdout",
     "output_type": "stream",
     "text": [
      "R@20: 0.4271186440677966\n",
      "Duração: 0.965000\n"
     ]
    }
   ],
   "source": [
    "avaliacaoRecall(True,10)"
   ]
  },
  {
   "cell_type": "code",
   "execution_count": 35,
   "id": "810982cd",
   "metadata": {},
   "outputs": [
    {
     "name": "stdout",
     "output_type": "stream",
     "text": [
      "R@20: 0.4576271186440678\n",
      "Duração: 1.054125\n"
     ]
    }
   ],
   "source": [
    "avaliacaoRecall(True,20)"
   ]
  },
  {
   "cell_type": "markdown",
   "id": "bffdd4fe",
   "metadata": {},
   "source": [
    "### Precision"
   ]
  },
  {
   "cell_type": "code",
   "execution_count": 85,
   "id": "715cc811",
   "metadata": {},
   "outputs": [
    {
     "name": "stdout",
     "output_type": "stream",
     "text": [
      "P@ 5: 0.073898 \n"
     ]
    }
   ],
   "source": [
    "avaliacaoPrecision(True,5)"
   ]
  },
  {
   "cell_type": "code",
   "execution_count": 86,
   "id": "49728cba",
   "metadata": {},
   "outputs": [
    {
     "name": "stdout",
     "output_type": "stream",
     "text": [
      "P@ 10: 0.042712 \n"
     ]
    }
   ],
   "source": [
    "avaliacaoPrecision(True,10)"
   ]
  },
  {
   "cell_type": "code",
   "execution_count": 87,
   "id": "7418bb1b",
   "metadata": {},
   "outputs": [
    {
     "name": "stdout",
     "output_type": "stream",
     "text": [
      "P@ 20: 0.021356 \n"
     ]
    }
   ],
   "source": [
    "avaliacaoPrecision(True,20)"
   ]
  },
  {
   "cell_type": "markdown",
   "id": "74fca94f",
   "metadata": {},
   "source": [
    "### MAP"
   ]
  },
  {
   "cell_type": "code",
   "execution_count": 88,
   "id": "dd6991ca",
   "metadata": {},
   "outputs": [
    {
     "name": "stdout",
     "output_type": "stream",
     "text": [
      "MAP: 0.001810\n"
     ]
    }
   ],
   "source": [
    "avaliacaoMAP(True,5)"
   ]
  },
  {
   "cell_type": "code",
   "execution_count": 89,
   "id": "6d7656f2",
   "metadata": {},
   "outputs": [
    {
     "name": "stdout",
     "output_type": "stream",
     "text": [
      "MAP: 0.001007\n"
     ]
    }
   ],
   "source": [
    "avaliacaoMAP(True,10)"
   ]
  },
  {
   "cell_type": "code",
   "execution_count": 90,
   "id": "3efe8f10",
   "metadata": {},
   "outputs": [
    {
     "name": "stdout",
     "output_type": "stream",
     "text": [
      "MAP: 0.001007\n"
     ]
    }
   ],
   "source": [
    "avaliacaoMAP(True,20)"
   ]
  },
  {
   "cell_type": "markdown",
   "id": "60810edc",
   "metadata": {},
   "source": [
    "### RR"
   ]
  },
  {
   "cell_type": "code",
   "execution_count": 91,
   "id": "6f0c2b99",
   "metadata": {},
   "outputs": [
    {
     "name": "stdout",
     "output_type": "stream",
     "text": [
      "RR: 0.230508\n"
     ]
    }
   ],
   "source": [
    "avaliacaoRR(True,5)"
   ]
  },
  {
   "cell_type": "markdown",
   "id": "2c235b34",
   "metadata": {},
   "source": [
    "## Config 22"
   ]
  },
  {
   "cell_type": "code",
   "execution_count": 36,
   "id": "abf0d4a1",
   "metadata": {},
   "outputs": [],
   "source": [
    "index_path = 'indexE/pre_processamento_rslps_full'"
   ]
  },
  {
   "cell_type": "code",
   "execution_count": 37,
   "id": "c1fe6ee7",
   "metadata": {},
   "outputs": [
    {
     "name": "stdout",
     "output_type": "stream",
     "text": [
      "SimpleSearcher class has been deprecated, please use LuceneSearcher from pyserini.search.lucene instead\n"
     ]
    }
   ],
   "source": [
    "searcher = SimpleSearcher(index_path)\n",
    "searcher.set_bm25(k1=1.5,b=0.75)"
   ]
  },
  {
   "cell_type": "code",
   "execution_count": 38,
   "id": "ac7e70b5",
   "metadata": {},
   "outputs": [],
   "source": [
    "def _remove_acentos(txt):\n",
    "    return normalize('NFKD', txt).encode('ASCII', 'ignore').decode('ASCII')\n",
    "\n",
    "def preprocess(txt):\n",
    "    txt = str(txt)\n",
    "    txt = _remove_acentos(txt)\n",
    "    stopwords = nltk.corpus.stopwords.words(\"portuguese\")\n",
    "    stopwords.extend(list(punctuation))\n",
    "\n",
    "    stemmer = RSLP_S()\n",
    "    tokenizer = RegexpTokenizer('\\w+')\n",
    "    terms = tokenizer.tokenize(txt.lower())\n",
    "    terms = [stemmer.stem(word) for word in terms if word not in stopwords]\n",
    "    \n",
    "    \n",
    "    return \" \".join(terms)"
   ]
  },
  {
   "cell_type": "markdown",
   "id": "3dda1ec7",
   "metadata": {},
   "source": [
    "## Avaliação"
   ]
  },
  {
   "cell_type": "markdown",
   "id": "9039b11e",
   "metadata": {},
   "source": [
    "### Recall"
   ]
  },
  {
   "cell_type": "code",
   "execution_count": 95,
   "id": "08451524",
   "metadata": {},
   "outputs": [
    {
     "name": "stdout",
     "output_type": "stream",
     "text": [
      "R@20: 0.21016949152542372\n",
      "Duração: 0.564994\n"
     ]
    }
   ],
   "source": [
    "avaliacaoRecall(True,5)"
   ]
  },
  {
   "cell_type": "code",
   "execution_count": 96,
   "id": "c7cc259a",
   "metadata": {},
   "outputs": [
    {
     "name": "stdout",
     "output_type": "stream",
     "text": [
      "R@20: 0.2576271186440678\n",
      "Duração: 0.548001\n"
     ]
    }
   ],
   "source": [
    "avaliacaoRecall(True,10)"
   ]
  },
  {
   "cell_type": "code",
   "execution_count": 39,
   "id": "5be30433",
   "metadata": {},
   "outputs": [
    {
     "name": "stdout",
     "output_type": "stream",
     "text": [
      "R@20: 0.4745762711864407\n",
      "Duração: 0.825439\n"
     ]
    }
   ],
   "source": [
    "avaliacaoRecall(True,20)"
   ]
  },
  {
   "cell_type": "markdown",
   "id": "ca74a4d2",
   "metadata": {},
   "source": [
    "### Precision"
   ]
  },
  {
   "cell_type": "code",
   "execution_count": 98,
   "id": "985bfd65",
   "metadata": {},
   "outputs": [
    {
     "name": "stdout",
     "output_type": "stream",
     "text": [
      "P@ 5: 0.042034 \n"
     ]
    }
   ],
   "source": [
    "avaliacaoPrecision(True,5)"
   ]
  },
  {
   "cell_type": "code",
   "execution_count": 99,
   "id": "32a3becc",
   "metadata": {},
   "outputs": [
    {
     "name": "stdout",
     "output_type": "stream",
     "text": [
      "P@ 10: 0.025763 \n"
     ]
    }
   ],
   "source": [
    "avaliacaoPrecision(True,10)"
   ]
  },
  {
   "cell_type": "code",
   "execution_count": 100,
   "id": "4dff88a2",
   "metadata": {},
   "outputs": [
    {
     "name": "stdout",
     "output_type": "stream",
     "text": [
      "P@ 20: 0.012881 \n"
     ]
    }
   ],
   "source": [
    "avaliacaoPrecision(True,20)"
   ]
  },
  {
   "cell_type": "markdown",
   "id": "29cee7df",
   "metadata": {},
   "source": [
    "### MAP"
   ]
  },
  {
   "cell_type": "code",
   "execution_count": 101,
   "id": "d68c04e4",
   "metadata": {},
   "outputs": [
    {
     "name": "stdout",
     "output_type": "stream",
     "text": [
      "MAP: 0.001163\n"
     ]
    }
   ],
   "source": [
    "avaliacaoMAP(True,5)"
   ]
  },
  {
   "cell_type": "code",
   "execution_count": 102,
   "id": "6db8feee",
   "metadata": {},
   "outputs": [
    {
     "name": "stdout",
     "output_type": "stream",
     "text": [
      "MAP: 0.000674\n"
     ]
    }
   ],
   "source": [
    "avaliacaoMAP(True,10)"
   ]
  },
  {
   "cell_type": "code",
   "execution_count": 103,
   "id": "2fb5871a",
   "metadata": {},
   "outputs": [
    {
     "name": "stdout",
     "output_type": "stream",
     "text": [
      "MAP: 0.000674\n"
     ]
    }
   ],
   "source": [
    "avaliacaoMAP(True,20)"
   ]
  },
  {
   "cell_type": "markdown",
   "id": "303d56a6",
   "metadata": {},
   "source": [
    "### RR"
   ]
  },
  {
   "cell_type": "code",
   "execution_count": 104,
   "id": "8696f339",
   "metadata": {},
   "outputs": [
    {
     "name": "stdout",
     "output_type": "stream",
     "text": [
      "RR: 0.101695\n"
     ]
    }
   ],
   "source": [
    "avaliacaoRR(True,5)"
   ]
  },
  {
   "cell_type": "markdown",
   "id": "30076cb7",
   "metadata": {},
   "source": [
    "## Config 23"
   ]
  },
  {
   "cell_type": "code",
   "execution_count": 40,
   "id": "a529d878",
   "metadata": {},
   "outputs": [],
   "source": [
    "index_path = 'indexE/pre_processamento_unigram_bigram_rslps_full'"
   ]
  },
  {
   "cell_type": "code",
   "execution_count": 41,
   "id": "98e026d5",
   "metadata": {},
   "outputs": [
    {
     "name": "stdout",
     "output_type": "stream",
     "text": [
      "SimpleSearcher class has been deprecated, please use LuceneSearcher from pyserini.search.lucene instead\n"
     ]
    }
   ],
   "source": [
    "searcher = SimpleSearcher(index_path)\n",
    "searcher.set_bm25(k1=1.5,b=0.75)"
   ]
  },
  {
   "cell_type": "code",
   "execution_count": 42,
   "id": "e4ee1977",
   "metadata": {},
   "outputs": [],
   "source": [
    "def _remove_acentos(txt):\n",
    "    return normalize('NFKD', txt).encode('ASCII', 'ignore').decode('ASCII')\n",
    "\n",
    "def preprocess(txt):\n",
    "    txt = str(txt)\n",
    "    txt = _remove_acentos(txt)\n",
    "    stopwords = nltk.corpus.stopwords.words(\"portuguese\")\n",
    "    stopwords.extend(list(punctuation))\n",
    "\n",
    "    stemmer = RSLP_S()\n",
    "    tokenizer = RegexpTokenizer('\\w+')\n",
    "    terms = tokenizer.tokenize(txt.lower())\n",
    "    terms = [stemmer.stem(word) for word in terms if word not in stopwords]\n",
    "    \n",
    "    ngram = []\n",
    "    ngram_1 = list(ngrams(terms, 1))\n",
    "    ngram_2 = list(ngrams(terms, 2))\n",
    "    for w in ngram_1:\n",
    "        ngram.append(w[0])\n",
    "        \n",
    "    for w in ngram_2:\n",
    "        string = w[0] + \"_\" + w[1]\n",
    "        ngram.append(string)\n",
    "    \n",
    "    return \" \".join(ngram)"
   ]
  },
  {
   "cell_type": "markdown",
   "id": "c765a37e",
   "metadata": {},
   "source": [
    "## Avaliação"
   ]
  },
  {
   "cell_type": "markdown",
   "id": "8acff0c3",
   "metadata": {},
   "source": [
    "### Recall"
   ]
  },
  {
   "cell_type": "code",
   "execution_count": 108,
   "id": "4a0dfd0c",
   "metadata": {},
   "outputs": [
    {
     "name": "stdout",
     "output_type": "stream",
     "text": [
      "R@20: 0.26101694915254237\n",
      "Duração: 0.686034\n"
     ]
    }
   ],
   "source": [
    "avaliacaoRecall(True,5)"
   ]
  },
  {
   "cell_type": "code",
   "execution_count": 109,
   "id": "b92a8911",
   "metadata": {},
   "outputs": [
    {
     "name": "stdout",
     "output_type": "stream",
     "text": [
      "R@20: 0.3050847457627119\n",
      "Duração: 0.693036\n"
     ]
    }
   ],
   "source": [
    "avaliacaoRecall(True,10)"
   ]
  },
  {
   "cell_type": "code",
   "execution_count": 43,
   "id": "bc540974",
   "metadata": {},
   "outputs": [
    {
     "name": "stdout",
     "output_type": "stream",
     "text": [
      "R@20: 0.4542372881355932\n",
      "Duração: 0.932535\n"
     ]
    }
   ],
   "source": [
    "avaliacaoRecall(True,20)"
   ]
  },
  {
   "cell_type": "markdown",
   "id": "d08eb779",
   "metadata": {},
   "source": [
    "### Precision"
   ]
  },
  {
   "cell_type": "code",
   "execution_count": 111,
   "id": "fb412597",
   "metadata": {},
   "outputs": [
    {
     "name": "stdout",
     "output_type": "stream",
     "text": [
      "P@ 5: 0.052203 \n"
     ]
    }
   ],
   "source": [
    "avaliacaoPrecision(True,5)"
   ]
  },
  {
   "cell_type": "code",
   "execution_count": 112,
   "id": "4bd6e104",
   "metadata": {},
   "outputs": [
    {
     "name": "stdout",
     "output_type": "stream",
     "text": [
      "P@ 10: 0.030508 \n"
     ]
    }
   ],
   "source": [
    "avaliacaoPrecision(True,10)"
   ]
  },
  {
   "cell_type": "code",
   "execution_count": 113,
   "id": "4df4977c",
   "metadata": {},
   "outputs": [
    {
     "name": "stdout",
     "output_type": "stream",
     "text": [
      "P@ 20: 0.015254 \n"
     ]
    }
   ],
   "source": [
    "avaliacaoPrecision(True,20)"
   ]
  },
  {
   "cell_type": "markdown",
   "id": "c3e6629c",
   "metadata": {},
   "source": [
    "### MAP"
   ]
  },
  {
   "cell_type": "code",
   "execution_count": 114,
   "id": "4d332875",
   "metadata": {},
   "outputs": [
    {
     "name": "stdout",
     "output_type": "stream",
     "text": [
      "MAP: 0.001371\n"
     ]
    }
   ],
   "source": [
    "avaliacaoMAP(True,5)"
   ]
  },
  {
   "cell_type": "code",
   "execution_count": 115,
   "id": "782e47bc",
   "metadata": {},
   "outputs": [
    {
     "name": "stdout",
     "output_type": "stream",
     "text": [
      "MAP: 0.000774\n"
     ]
    }
   ],
   "source": [
    "avaliacaoMAP(True,10)"
   ]
  },
  {
   "cell_type": "code",
   "execution_count": 116,
   "id": "e68a993a",
   "metadata": {},
   "outputs": [
    {
     "name": "stdout",
     "output_type": "stream",
     "text": [
      "MAP: 0.000774\n"
     ]
    }
   ],
   "source": [
    "avaliacaoMAP(True,20)"
   ]
  },
  {
   "cell_type": "markdown",
   "id": "7c4b6d26",
   "metadata": {},
   "source": [
    "### RR"
   ]
  },
  {
   "cell_type": "code",
   "execution_count": 117,
   "id": "7f4f4fcf",
   "metadata": {},
   "outputs": [
    {
     "name": "stdout",
     "output_type": "stream",
     "text": [
      "RR: 0.132203\n"
     ]
    }
   ],
   "source": [
    "avaliacaoRR(True,5)"
   ]
  },
  {
   "cell_type": "code",
   "execution_count": null,
   "id": "f0049e3a",
   "metadata": {},
   "outputs": [],
   "source": []
  }
 ],
 "metadata": {
  "kernelspec": {
   "display_name": "Python 3 (ipykernel)",
   "language": "python",
   "name": "python3"
  },
  "language_info": {
   "codemirror_mode": {
    "name": "ipython",
    "version": 3
   },
   "file_extension": ".py",
   "mimetype": "text/x-python",
   "name": "python",
   "nbconvert_exporter": "python",
   "pygments_lexer": "ipython3",
   "version": "3.8.7"
  }
 },
 "nbformat": 4,
 "nbformat_minor": 5
}
