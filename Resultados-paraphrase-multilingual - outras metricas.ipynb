{
 "cells": [
  {
   "cell_type": "code",
   "execution_count": 6,
   "id": "7f97e041",
   "metadata": {},
   "outputs": [
    {
     "name": "stderr",
     "output_type": "stream",
     "text": [
      "[nltk_data] Downloading package stopwords to\n",
      "[nltk_data]     C:\\Users\\Flavio\\AppData\\Roaming\\nltk_data...\n",
      "[nltk_data]   Package stopwords is already up-to-date!\n",
      "[nltk_data] Downloading package punkt to\n",
      "[nltk_data]     C:\\Users\\Flavio\\AppData\\Roaming\\nltk_data...\n",
      "[nltk_data]   Package punkt is already up-to-date!\n",
      "[nltk_data] Downloading package rslp to\n",
      "[nltk_data]     C:\\Users\\Flavio\\AppData\\Roaming\\nltk_data...\n",
      "[nltk_data]   Package rslp is already up-to-date!\n"
     ]
    }
   ],
   "source": [
    "from sentence_transformers import SentenceTransformer, util\n",
    "from transformers import BertTokenizer\n",
    "import pandas as pd\n",
    "import numpy as np\n",
    "import nltk\n",
    "import math\n",
    "from joblib import Parallel, delayed\n",
    "\n",
    "nltk.download('stopwords')\n",
    "nltk.download('punkt')\n",
    "nltk.download('rslp')\n",
    "\n",
    "from nltk.tokenize import word_tokenize\n",
    "from string import punctuation\n",
    "import nltk\n",
    "from unicodedata import normalize\n",
    "from nltk.stem import RSLPStemmer\n",
    "from nltk.util import ngrams\n",
    "from nltk.tokenize import RegexpTokenizer\n",
    "\n",
    "import torch\n",
    "import time\n"
   ]
  },
  {
   "cell_type": "code",
   "execution_count": 7,
   "id": "c5e0d706",
   "metadata": {},
   "outputs": [],
   "source": [
    "df_assunto= pd.read_table(\"dados-conle-anonimizado-assunto-notnull - dados-conle-anonimizado-assunto-notnull.tsv\",sep=\";\")"
   ]
  },
  {
   "cell_type": "code",
   "execution_count": 8,
   "id": "e63cfc77",
   "metadata": {},
   "outputs": [],
   "source": [
    "base = pd.read_csv(\"base_20230428_douglas.csv\", sep=',')"
   ]
  },
  {
   "cell_type": "code",
   "execution_count": 118,
   "id": "26c3a20a",
   "metadata": {},
   "outputs": [
    {
     "data": {
      "text/html": [
       "<div>\n",
       "<style scoped>\n",
       "    .dataframe tbody tr th:only-of-type {\n",
       "        vertical-align: middle;\n",
       "    }\n",
       "\n",
       "    .dataframe tbody tr th {\n",
       "        vertical-align: top;\n",
       "    }\n",
       "\n",
       "    .dataframe thead th {\n",
       "        text-align: right;\n",
       "    }\n",
       "</style>\n",
       "<table border=\"1\" class=\"dataframe\">\n",
       "  <thead>\n",
       "    <tr style=\"text-align: right;\">\n",
       "      <th></th>\n",
       "      <th>codProposicao</th>\n",
       "      <th>txtSiglaTipo</th>\n",
       "      <th>numAno</th>\n",
       "      <th>numNumero</th>\n",
       "      <th>txtNome</th>\n",
       "      <th>txtEmenta</th>\n",
       "      <th>txtExplicacaoEmenta</th>\n",
       "      <th>txtIndexacao</th>\n",
       "      <th>txtInteiroTeor</th>\n",
       "    </tr>\n",
       "  </thead>\n",
       "  <tbody>\n",
       "    <tr>\n",
       "      <th>0</th>\n",
       "      <td>16357</td>\n",
       "      <td>PL</td>\n",
       "      <td>1999</td>\n",
       "      <td>1165</td>\n",
       "      <td>PL 1165/1999</td>\n",
       "      <td>Altera dispositivo da Lei nº 8.987, de 13 de f...</td>\n",
       "      <td>Estabelece que as concessionárias disponibiliz...</td>\n",
       "      <td>Alteração, Lei das Concessões de Serviços Públ...</td>\n",
       "      <td>Ofício nº 1416  (SF)                          ...</td>\n",
       "    </tr>\n",
       "    <tr>\n",
       "      <th>1</th>\n",
       "      <td>19098</td>\n",
       "      <td>PL</td>\n",
       "      <td>1992</td>\n",
       "      <td>3097</td>\n",
       "      <td>PL 3097/1992</td>\n",
       "      <td>Dispõe sobre a eleição de diretores de fundos ...</td>\n",
       "      <td>NaN</td>\n",
       "      <td>NORMAS, ELEIÇÃO DIRETA, EMPREGADO, APOSENTADO,...</td>\n",
       "      <td>COMISSÃO DE CONSTITUIÇÃO E JUSTIÇA E DE REDAÇÃ...</td>\n",
       "    </tr>\n",
       "    <tr>\n",
       "      <th>2</th>\n",
       "      <td>20464</td>\n",
       "      <td>PL</td>\n",
       "      <td>2000</td>\n",
       "      <td>3927</td>\n",
       "      <td>PL 3927/2000</td>\n",
       "      <td>Altera a composição dos Tribunais Regionais do...</td>\n",
       "      <td>Altera a composição do TRT da 5ª região, 6ª re...</td>\n",
       "      <td>Alteração, Lei Federal, composição, Tribunal R...</td>\n",
       "      <td>COMISSÃO DE TRABALHO, DE ADMINISTRAÇÃO E SERVI...</td>\n",
       "    </tr>\n",
       "    <tr>\n",
       "      <th>3</th>\n",
       "      <td>20683</td>\n",
       "      <td>PL</td>\n",
       "      <td>1998</td>\n",
       "      <td>4117</td>\n",
       "      <td>PL 4117/1998</td>\n",
       "      <td>Dispõe sobre o acesso a ambientes de uso colet...</td>\n",
       "      <td>NaN</td>\n",
       "      <td>Autorização, pessoa portadora de deficiência, ...</td>\n",
       "      <td>Câmara dos Deputados\\n           Departamento ...</td>\n",
       "    </tr>\n",
       "    <tr>\n",
       "      <th>4</th>\n",
       "      <td>20857</td>\n",
       "      <td>PL</td>\n",
       "      <td>1998</td>\n",
       "      <td>4395</td>\n",
       "      <td>PL 4395/1998</td>\n",
       "      <td>Estabelece as Diretrizes Nacionais de Defesa C...</td>\n",
       "      <td>NaN</td>\n",
       "      <td>Fixação, diretrizes, defesa civil, (Sindec), d...</td>\n",
       "      <td>- 1 - \\nCOMISSÃO DE CONSTITUIÇÃO E JUSTIÇA E D...</td>\n",
       "    </tr>\n",
       "    <tr>\n",
       "      <th>...</th>\n",
       "      <td>...</td>\n",
       "      <td>...</td>\n",
       "      <td>...</td>\n",
       "      <td>...</td>\n",
       "      <td>...</td>\n",
       "      <td>...</td>\n",
       "      <td>...</td>\n",
       "      <td>...</td>\n",
       "      <td>...</td>\n",
       "    </tr>\n",
       "    <tr>\n",
       "      <th>57104</th>\n",
       "      <td>2358873</td>\n",
       "      <td>PL</td>\n",
       "      <td>2023</td>\n",
       "      <td>2233</td>\n",
       "      <td>PL 2233/2023</td>\n",
       "      <td>Altera o parágrafo único do art. 71 do Código ...</td>\n",
       "      <td>NaN</td>\n",
       "      <td>NaN</td>\n",
       "      <td>1 \\n  \\n \\n \\n \\nCÂMARA DOS DEPUTADOS \\nPROJET...</td>\n",
       "    </tr>\n",
       "    <tr>\n",
       "      <th>57105</th>\n",
       "      <td>2358874</td>\n",
       "      <td>PL</td>\n",
       "      <td>2019</td>\n",
       "      <td>3616</td>\n",
       "      <td>PL 3616/2019</td>\n",
       "      <td>Altera a Lei nº 9.503, de 23 de setembro de 19...</td>\n",
       "      <td>NaN</td>\n",
       "      <td>NaN</td>\n",
       "      <td>Altera a Lei nº 9.503, de 23 de setembro\\nde 1...</td>\n",
       "    </tr>\n",
       "    <tr>\n",
       "      <th>57106</th>\n",
       "      <td>2358875</td>\n",
       "      <td>PL</td>\n",
       "      <td>2019</td>\n",
       "      <td>1822</td>\n",
       "      <td>PL 1822/2019</td>\n",
       "      <td>Altera a Lei nº 11.340, de 7 de agosto de 2006...</td>\n",
       "      <td>NaN</td>\n",
       "      <td>NaN</td>\n",
       "      <td>Altera a Lei nº 11.340, de 7 de agosto de\\n200...</td>\n",
       "    </tr>\n",
       "    <tr>\n",
       "      <th>57107</th>\n",
       "      <td>2358877</td>\n",
       "      <td>PL</td>\n",
       "      <td>2019</td>\n",
       "      <td>3815</td>\n",
       "      <td>PL 3815/2019</td>\n",
       "      <td>Altera a Lei nº 7.565, de 19 de dezembro de 19...</td>\n",
       "      <td>NaN</td>\n",
       "      <td>NaN</td>\n",
       "      <td>Altera a Lei nº 7.565, de 19 de dezembro\\nde  ...</td>\n",
       "    </tr>\n",
       "    <tr>\n",
       "      <th>57108</th>\n",
       "      <td>2358878</td>\n",
       "      <td>PL</td>\n",
       "      <td>2019</td>\n",
       "      <td>3130</td>\n",
       "      <td>PL 3130/2019</td>\n",
       "      <td>Altera a Lei nº 13.675, de 11 de junho de 2018...</td>\n",
       "      <td>NaN</td>\n",
       "      <td>NaN</td>\n",
       "      <td>Altera a Lei nº 13.675, de 11 de junho de\\n201...</td>\n",
       "    </tr>\n",
       "  </tbody>\n",
       "</table>\n",
       "<p>57109 rows × 9 columns</p>\n",
       "</div>"
      ],
      "text/plain": [
       "       codProposicao txtSiglaTipo  numAno  numNumero       txtNome  \\\n",
       "0              16357   PL            1999       1165  PL 1165/1999   \n",
       "1              19098   PL            1992       3097  PL 3097/1992   \n",
       "2              20464   PL            2000       3927  PL 3927/2000   \n",
       "3              20683   PL            1998       4117  PL 4117/1998   \n",
       "4              20857   PL            1998       4395  PL 4395/1998   \n",
       "...              ...          ...     ...        ...           ...   \n",
       "57104        2358873   PL            2023       2233  PL 2233/2023   \n",
       "57105        2358874   PL            2019       3616  PL 3616/2019   \n",
       "57106        2358875   PL            2019       1822  PL 1822/2019   \n",
       "57107        2358877   PL            2019       3815  PL 3815/2019   \n",
       "57108        2358878   PL            2019       3130  PL 3130/2019   \n",
       "\n",
       "                                               txtEmenta  \\\n",
       "0      Altera dispositivo da Lei nº 8.987, de 13 de f...   \n",
       "1      Dispõe sobre a eleição de diretores de fundos ...   \n",
       "2      Altera a composição dos Tribunais Regionais do...   \n",
       "3      Dispõe sobre o acesso a ambientes de uso colet...   \n",
       "4      Estabelece as Diretrizes Nacionais de Defesa C...   \n",
       "...                                                  ...   \n",
       "57104  Altera o parágrafo único do art. 71 do Código ...   \n",
       "57105  Altera a Lei nº 9.503, de 23 de setembro de 19...   \n",
       "57106  Altera a Lei nº 11.340, de 7 de agosto de 2006...   \n",
       "57107  Altera a Lei nº 7.565, de 19 de dezembro de 19...   \n",
       "57108  Altera a Lei nº 13.675, de 11 de junho de 2018...   \n",
       "\n",
       "                                     txtExplicacaoEmenta  \\\n",
       "0      Estabelece que as concessionárias disponibiliz...   \n",
       "1                                                    NaN   \n",
       "2      Altera a composição do TRT da 5ª região, 6ª re...   \n",
       "3                                                    NaN   \n",
       "4                                                    NaN   \n",
       "...                                                  ...   \n",
       "57104                                                NaN   \n",
       "57105                                                NaN   \n",
       "57106                                                NaN   \n",
       "57107                                                NaN   \n",
       "57108                                                NaN   \n",
       "\n",
       "                                            txtIndexacao  \\\n",
       "0      Alteração, Lei das Concessões de Serviços Públ...   \n",
       "1      NORMAS, ELEIÇÃO DIRETA, EMPREGADO, APOSENTADO,...   \n",
       "2      Alteração, Lei Federal, composição, Tribunal R...   \n",
       "3      Autorização, pessoa portadora de deficiência, ...   \n",
       "4      Fixação, diretrizes, defesa civil, (Sindec), d...   \n",
       "...                                                  ...   \n",
       "57104                                                NaN   \n",
       "57105                                                NaN   \n",
       "57106                                                NaN   \n",
       "57107                                                NaN   \n",
       "57108                                                NaN   \n",
       "\n",
       "                                          txtInteiroTeor  \n",
       "0      Ofício nº 1416  (SF)                          ...  \n",
       "1      COMISSÃO DE CONSTITUIÇÃO E JUSTIÇA E DE REDAÇÃ...  \n",
       "2      COMISSÃO DE TRABALHO, DE ADMINISTRAÇÃO E SERVI...  \n",
       "3      Câmara dos Deputados\\n           Departamento ...  \n",
       "4      - 1 - \\nCOMISSÃO DE CONSTITUIÇÃO E JUSTIÇA E D...  \n",
       "...                                                  ...  \n",
       "57104  1 \\n  \\n \\n \\n \\nCÂMARA DOS DEPUTADOS \\nPROJET...  \n",
       "57105  Altera a Lei nº 9.503, de 23 de setembro\\nde 1...  \n",
       "57106  Altera a Lei nº 11.340, de 7 de agosto de\\n200...  \n",
       "57107  Altera a Lei nº 7.565, de 19 de dezembro\\nde  ...  \n",
       "57108  Altera a Lei nº 13.675, de 11 de junho de\\n201...  \n",
       "\n",
       "[57109 rows x 9 columns]"
      ]
     },
     "execution_count": 118,
     "metadata": {},
     "output_type": "execute_result"
    }
   ],
   "source": [
    "base"
   ]
  },
  {
   "cell_type": "code",
   "execution_count": 119,
   "id": "96fc892c",
   "metadata": {},
   "outputs": [],
   "source": [
    "model = SentenceTransformer('sentence-transformers/paraphrase-multilingual-MiniLM-L12-v2')"
   ]
  },
  {
   "cell_type": "code",
   "execution_count": 120,
   "id": "f74298b6",
   "metadata": {},
   "outputs": [
    {
     "data": {
      "text/plain": [
       "SentenceTransformer(\n",
       "  (0): Transformer({'max_seq_length': 128, 'do_lower_case': False}) with Transformer model: BertModel \n",
       "  (1): Pooling({'word_embedding_dimension': 384, 'pooling_mode_cls_token': False, 'pooling_mode_mean_tokens': True, 'pooling_mode_max_tokens': False, 'pooling_mode_mean_sqrt_len_tokens': False})\n",
       ")"
      ]
     },
     "execution_count": 120,
     "metadata": {},
     "output_type": "execute_result"
    }
   ],
   "source": [
    "model"
   ]
  },
  {
   "cell_type": "code",
   "execution_count": 121,
   "id": "5e567837",
   "metadata": {},
   "outputs": [],
   "source": [
    "arr_assunto = df_assunto.to_numpy()\n",
    "y,X = arr_assunto[:,0],arr_assunto[:,1]\n",
    "y = [i.strip() for i in y]"
   ]
  },
  {
   "cell_type": "code",
   "execution_count": 122,
   "id": "f9912055",
   "metadata": {},
   "outputs": [],
   "source": [
    "device_gpu = torch.device(\"cuda\")"
   ]
  },
  {
   "cell_type": "markdown",
   "id": "e1bfefdc",
   "metadata": {},
   "source": [
    "## Search"
   ]
  },
  {
   "cell_type": "code",
   "execution_count": 124,
   "id": "5742acfd",
   "metadata": {},
   "outputs": [],
   "source": [
    "def search(query, data_emb,base,top_k=20):\n",
    "    #hits = util.semantic_search(query_emb,data,top_k=k)\n",
    "    query_emb = model.encode(query,convert_to_tensor=True,device=device_gpu)\n",
    "    hits = util.cos_sim(query_emb,data_emb)[0]\n",
    "    rank = torch.topk(hits, k=top_k)\n",
    "    \n",
    "    \n",
    "    top_n = list()\n",
    "    for i in range(top_k):\n",
    "        dado = dict()\n",
    "        dado['txtNome'] = base.iloc[rank.indices[i].item(),4]\n",
    "        dado['score'] = rank.values[i].item()\n",
    "        top_n.append(dado)\n",
    "    return top_n\n",
    "    "
   ]
  },
  {
   "cell_type": "markdown",
   "id": "afde7a79",
   "metadata": {},
   "source": [
    "## Recall"
   ]
  },
  {
   "cell_type": "code",
   "execution_count": 125,
   "id": "31624c0a",
   "metadata": {},
   "outputs": [],
   "source": [
    "def verificar(y,top_n):\n",
    "    for d in top_n:\n",
    "        if y == d[\"txtNome\"]:\n",
    "            return 1\n",
    "    return 0"
   ]
  },
  {
   "cell_type": "code",
   "execution_count": 126,
   "id": "a1f4ee94",
   "metadata": {},
   "outputs": [],
   "source": [
    "def avaliacaoRecall(isPre,top_k=20):\n",
    "\n",
    "    quant_encontrado=0\n",
    "    quant_relevante =0\n",
    "    a = time.time()\n",
    "    for l,x in zip(y,X):\n",
    "    \n",
    "        query_tokenized = x\n",
    "        if isPre:\n",
    "            query_tokenized = preprocess(x)\n",
    "            \n",
    "        top_n = search(query_tokenized,data_emb,base,top_k)\n",
    "                \n",
    "        quant_relevante+=1\n",
    "        quant_encontrado+=verificar(l,top_n)\n",
    "    d = time.time()\n",
    "    print(\"Duração: %f\" %(d-a))\n",
    "    recall = quant_encontrado / quant_relevante\n",
    "    print(\"Recall: \"+str(recall))"
   ]
  },
  {
   "cell_type": "code",
   "execution_count": 15,
   "id": "6b3f5db7",
   "metadata": {},
   "outputs": [],
   "source": [
    "def avaliacaoRR(isPre):\n",
    "\n",
    "    quant_encontrado=0\n",
    "    for l,x in zip(y,X):\n",
    "    \n",
    "        query_tokenized = x\n",
    "        if isPre:\n",
    "            query_tokenized = preprocess(x)\n",
    "            \n",
    "        top_n = search(query_tokenized,data_emb,base)\n",
    "        if top_n[0][\"txtNome\"].strip() == l.strip():\n",
    "            quant_encontrado+=1\n",
    "    rr = quant_encontrado / 295\n",
    "    print(\"RR: %f\" % (rr))"
   ]
  },
  {
   "cell_type": "code",
   "execution_count": 16,
   "id": "3741b110",
   "metadata": {},
   "outputs": [],
   "source": [
    "def avaliacaoPrecision(isPre,top_k=20):\n",
    "\n",
    "    soma=0\n",
    "    for l,x in zip(y,X):\n",
    "    \n",
    "        query_tokenized = x\n",
    "        if isPre:\n",
    "            query_tokenized = preprocess(x)\n",
    "            \n",
    "        top_n = search(query_tokenized,data_emb,base,top_k)\n",
    "        encontrado=verificar(l,top_n)\n",
    "        soma+=(encontrado/top_k)\n",
    "    precision = soma / 295\n",
    "    print(\"Precision: \"+str(precision))"
   ]
  },
  {
   "cell_type": "code",
   "execution_count": 17,
   "id": "29b0b410",
   "metadata": {},
   "outputs": [],
   "source": [
    "def avaliacaoMAP(isPre,top_k=20):\n",
    "    l_v = list()\n",
    "    labels_nsL = list()\n",
    "    \n",
    "    for l,x in zip(y,X):\n",
    "    \n",
    "        query_tokenized = x\n",
    "        if isPre:\n",
    "            query_tokenized = preprocess(x)\n",
    "            \n",
    "        top_n = search(query_tokenized,data_emb,base,top_k)\n",
    "        l_v.append(l)\n",
    "        labels_nsL.append([doc[\"txtNome\"] for doc in top_n])\n",
    "        \n",
    "    denominador = 0\n",
    "    encontrou=False\n",
    "    soma=0\n",
    "    for Y,x in zip(l_v,labels_nsL):\n",
    "        calc = 0\n",
    "        quant=0\n",
    "        for k in x:\n",
    "            if str(k).strip() == Y.strip():\n",
    "                quant=1\n",
    "                encontrou=True\n",
    "            denominador+=1\n",
    "            calc=quant/denominador\n",
    "            if encontrou:\n",
    "                calc = calc * 1\n",
    "            else:\n",
    "                calc = calc * 0\n",
    "            soma+=calc\n",
    "            encontrou = False\n",
    "    MAP = soma /295\n",
    "    print(\"MAP@ %d: %f\" % (top_k,MAP))"
   ]
  },
  {
   "cell_type": "code",
   "execution_count": 277,
   "id": "ec6bc94b",
   "metadata": {},
   "outputs": [],
   "source": [
    "data = base.txtInteiroTeor.fillna(\"Em branco\")        # Trocar com nome da coluna desejada"
   ]
  },
  {
   "cell_type": "markdown",
   "id": "eef7cc0e",
   "metadata": {},
   "source": [
    "## Config 1"
   ]
  },
  {
   "cell_type": "code",
   "execution_count": 278,
   "id": "52505068",
   "metadata": {},
   "outputs": [],
   "source": [
    "a = time.time()"
   ]
  },
  {
   "cell_type": "code",
   "execution_count": 279,
   "id": "a03449ff",
   "metadata": {},
   "outputs": [],
   "source": [
    "data_emb = model.encode(data,convert_to_tensor=True,device=device_gpu)"
   ]
  },
  {
   "cell_type": "code",
   "execution_count": 280,
   "id": "52c9485f",
   "metadata": {},
   "outputs": [],
   "source": [
    "d = time.time()"
   ]
  },
  {
   "cell_type": "code",
   "execution_count": 281,
   "id": "cd413241",
   "metadata": {},
   "outputs": [
    {
     "name": "stdout",
     "output_type": "stream",
     "text": [
      "Duração da indexação: 1267.635002\n"
     ]
    }
   ],
   "source": [
    "print(\"Duração da indexação: %f\" % (d-a))"
   ]
  },
  {
   "cell_type": "markdown",
   "id": "4eb40e59",
   "metadata": {},
   "source": [
    "## Avaliação"
   ]
  },
  {
   "cell_type": "markdown",
   "id": "be026553",
   "metadata": {},
   "source": [
    "### Recall"
   ]
  },
  {
   "cell_type": "code",
   "execution_count": 282,
   "id": "c9f02aeb",
   "metadata": {},
   "outputs": [
    {
     "name": "stdout",
     "output_type": "stream",
     "text": [
      "Duração: 25.875997\n",
      "Recall: 0.2576271186440678\n"
     ]
    }
   ],
   "source": [
    "avaliacaoRecall(False,top_k=5)"
   ]
  },
  {
   "cell_type": "code",
   "execution_count": 283,
   "id": "0d0eda4b",
   "metadata": {},
   "outputs": [
    {
     "name": "stdout",
     "output_type": "stream",
     "text": [
      "Duração: 25.996002\n",
      "Recall: 0.30847457627118646\n"
     ]
    }
   ],
   "source": [
    "avaliacaoRecall(False,top_k=10)"
   ]
  },
  {
   "cell_type": "code",
   "execution_count": 284,
   "id": "20fea0ca",
   "metadata": {},
   "outputs": [
    {
     "name": "stdout",
     "output_type": "stream",
     "text": [
      "Duração: 29.375000\n",
      "Recall: 0.3593220338983051\n"
     ]
    }
   ],
   "source": [
    "avaliacaoRecall(False,top_k=20)"
   ]
  },
  {
   "cell_type": "markdown",
   "id": "662f28cb",
   "metadata": {},
   "source": [
    "### MAP"
   ]
  },
  {
   "cell_type": "code",
   "execution_count": 285,
   "id": "f9c9743a",
   "metadata": {},
   "outputs": [
    {
     "name": "stdout",
     "output_type": "stream",
     "text": [
      "MAP@ 5: 0.000887\n"
     ]
    }
   ],
   "source": [
    "avaliacaoMAP(False,top_k=5)"
   ]
  },
  {
   "cell_type": "code",
   "execution_count": 286,
   "id": "3a167ea2",
   "metadata": {},
   "outputs": [
    {
     "name": "stdout",
     "output_type": "stream",
     "text": [
      "MAP@ 10: 0.000516\n"
     ]
    }
   ],
   "source": [
    "avaliacaoMAP(False,top_k=10)"
   ]
  },
  {
   "cell_type": "code",
   "execution_count": 287,
   "id": "f71bfa18",
   "metadata": {},
   "outputs": [
    {
     "name": "stdout",
     "output_type": "stream",
     "text": [
      "MAP@ 20: 0.000288\n"
     ]
    }
   ],
   "source": [
    "avaliacaoMAP(False,top_k=20)"
   ]
  },
  {
   "cell_type": "markdown",
   "id": "2ed26cf7",
   "metadata": {},
   "source": [
    "### Precision"
   ]
  },
  {
   "cell_type": "code",
   "execution_count": 288,
   "id": "661a852c",
   "metadata": {},
   "outputs": [
    {
     "name": "stdout",
     "output_type": "stream",
     "text": [
      "Precision: 0.05152542372881348\n"
     ]
    }
   ],
   "source": [
    "avaliacaoPrecision(False,top_k=5)"
   ]
  },
  {
   "cell_type": "code",
   "execution_count": 289,
   "id": "dd3725fe",
   "metadata": {},
   "outputs": [
    {
     "name": "stdout",
     "output_type": "stream",
     "text": [
      "Precision: 0.030847457627118588\n"
     ]
    }
   ],
   "source": [
    "avaliacaoPrecision(False,top_k=10)"
   ]
  },
  {
   "cell_type": "code",
   "execution_count": 290,
   "id": "0ffd0d77",
   "metadata": {},
   "outputs": [
    {
     "name": "stdout",
     "output_type": "stream",
     "text": [
      "Precision: 0.017966101694915217\n"
     ]
    }
   ],
   "source": [
    "avaliacaoPrecision(False,top_k=20)"
   ]
  },
  {
   "cell_type": "markdown",
   "id": "549af05f",
   "metadata": {},
   "source": [
    "### RR"
   ]
  },
  {
   "cell_type": "code",
   "execution_count": 291,
   "id": "13363d47",
   "metadata": {},
   "outputs": [
    {
     "name": "stdout",
     "output_type": "stream",
     "text": [
      "RR: 0.145763\n"
     ]
    }
   ],
   "source": [
    "avaliacaoRR(False)"
   ]
  },
  {
   "cell_type": "markdown",
   "id": "6ac5a4d3",
   "metadata": {},
   "source": [
    "## Config 5"
   ]
  },
  {
   "cell_type": "code",
   "execution_count": 292,
   "id": "be19b10b",
   "metadata": {},
   "outputs": [],
   "source": [
    "def _remove_acentos(txt):\n",
    "    return normalize('NFKD', txt).encode('ASCII', 'ignore').decode('ASCII')\n",
    "\n",
    "def preprocess(txt):\n",
    "    txt = str(txt)\n",
    "    txt = _remove_acentos(txt)\n",
    "    stopwords = nltk.corpus.stopwords.words(\"portuguese\")\n",
    "    stopwords.extend(list(punctuation))\n",
    "    tokenizer = RegexpTokenizer('\\w+')\n",
    "    terms = tokenizer.tokenize(txt.lower())\n",
    "    terms = [word for word in terms if word not in stopwords]\n",
    "\n",
    "    return \" \".join(terms)"
   ]
  },
  {
   "cell_type": "code",
   "execution_count": 293,
   "id": "aca05c42",
   "metadata": {},
   "outputs": [],
   "source": [
    "data_preprocess = Parallel(n_jobs=4)(delayed(preprocess)(doc) for doc in data)"
   ]
  },
  {
   "cell_type": "code",
   "execution_count": 294,
   "id": "889735f9",
   "metadata": {},
   "outputs": [],
   "source": [
    "a = time.time()"
   ]
  },
  {
   "cell_type": "code",
   "execution_count": 295,
   "id": "bbd3a3af",
   "metadata": {},
   "outputs": [],
   "source": [
    "data_emb = model.encode(data,convert_to_tensor=True,device=device_gpu)"
   ]
  },
  {
   "cell_type": "code",
   "execution_count": 296,
   "id": "edecbb0c",
   "metadata": {},
   "outputs": [],
   "source": [
    "d = time.time()"
   ]
  },
  {
   "cell_type": "code",
   "execution_count": 297,
   "id": "d5662e0e",
   "metadata": {},
   "outputs": [
    {
     "name": "stdout",
     "output_type": "stream",
     "text": [
      "Duração da indexação: 1265.157001\n"
     ]
    }
   ],
   "source": [
    "print(\"Duração da indexação: %f\" % (d-a))"
   ]
  },
  {
   "cell_type": "markdown",
   "id": "5808dbe8",
   "metadata": {},
   "source": [
    "## Avaliação"
   ]
  },
  {
   "cell_type": "markdown",
   "id": "719ac98f",
   "metadata": {},
   "source": [
    "### Recall"
   ]
  },
  {
   "cell_type": "code",
   "execution_count": 298,
   "id": "b7267b6a",
   "metadata": {},
   "outputs": [
    {
     "name": "stdout",
     "output_type": "stream",
     "text": [
      "Duração: 25.439997\n",
      "Recall: 0.2135593220338983\n"
     ]
    }
   ],
   "source": [
    "avaliacaoRecall(True,top_k=5)"
   ]
  },
  {
   "cell_type": "code",
   "execution_count": 299,
   "id": "bd186bdc",
   "metadata": {},
   "outputs": [
    {
     "name": "stdout",
     "output_type": "stream",
     "text": [
      "Duração: 25.954997\n",
      "Recall: 0.2576271186440678\n"
     ]
    }
   ],
   "source": [
    "avaliacaoRecall(True,top_k=10)"
   ]
  },
  {
   "cell_type": "code",
   "execution_count": 300,
   "id": "02170f60",
   "metadata": {},
   "outputs": [
    {
     "name": "stdout",
     "output_type": "stream",
     "text": [
      "Duração: 28.873000\n",
      "Recall: 0.29491525423728815\n"
     ]
    }
   ],
   "source": [
    "avaliacaoRecall(True,top_k=20)"
   ]
  },
  {
   "cell_type": "markdown",
   "id": "bbad95f2",
   "metadata": {},
   "source": [
    "### MAP"
   ]
  },
  {
   "cell_type": "code",
   "execution_count": 301,
   "id": "b9d39c43",
   "metadata": {},
   "outputs": [
    {
     "name": "stdout",
     "output_type": "stream",
     "text": [
      "MAP@ 5: 0.000544\n"
     ]
    }
   ],
   "source": [
    "avaliacaoMAP(True,top_k=5)"
   ]
  },
  {
   "cell_type": "code",
   "execution_count": 302,
   "id": "066d80b3",
   "metadata": {},
   "outputs": [
    {
     "name": "stdout",
     "output_type": "stream",
     "text": [
      "MAP@ 10: 0.000415\n"
     ]
    }
   ],
   "source": [
    "avaliacaoMAP(True,top_k=10)"
   ]
  },
  {
   "cell_type": "code",
   "execution_count": 303,
   "id": "3ee07804",
   "metadata": {},
   "outputs": [
    {
     "name": "stdout",
     "output_type": "stream",
     "text": [
      "MAP@ 20: 0.000279\n"
     ]
    }
   ],
   "source": [
    "avaliacaoMAP(True,top_k=20)"
   ]
  },
  {
   "cell_type": "markdown",
   "id": "9974b790",
   "metadata": {},
   "source": [
    "### Precision"
   ]
  },
  {
   "cell_type": "code",
   "execution_count": 304,
   "id": "ad8b8947",
   "metadata": {},
   "outputs": [
    {
     "name": "stdout",
     "output_type": "stream",
     "text": [
      "Precision: 0.04271186440677962\n"
     ]
    }
   ],
   "source": [
    "avaliacaoPrecision(True,top_k=5)"
   ]
  },
  {
   "cell_type": "code",
   "execution_count": 305,
   "id": "9e05856d",
   "metadata": {},
   "outputs": [
    {
     "name": "stdout",
     "output_type": "stream",
     "text": [
      "Precision: 0.02576271186440674\n"
     ]
    }
   ],
   "source": [
    "avaliacaoPrecision(True,top_k=10)"
   ]
  },
  {
   "cell_type": "code",
   "execution_count": 306,
   "id": "8da3212d",
   "metadata": {},
   "outputs": [
    {
     "name": "stdout",
     "output_type": "stream",
     "text": [
      "Precision: 0.01474576271186438\n"
     ]
    }
   ],
   "source": [
    "avaliacaoPrecision(True,top_k=20)"
   ]
  },
  {
   "cell_type": "markdown",
   "id": "f2e22a90",
   "metadata": {},
   "source": [
    "### RR"
   ]
  },
  {
   "cell_type": "code",
   "execution_count": 307,
   "id": "a144dd2d",
   "metadata": {},
   "outputs": [
    {
     "name": "stdout",
     "output_type": "stream",
     "text": [
      "RR: 0.125424\n"
     ]
    }
   ],
   "source": [
    "avaliacaoRR(True)"
   ]
  },
  {
   "cell_type": "markdown",
   "id": "57912237",
   "metadata": {},
   "source": [
    "## Config 0"
   ]
  },
  {
   "cell_type": "code",
   "execution_count": 308,
   "id": "bb3b955d",
   "metadata": {},
   "outputs": [],
   "source": [
    "def preprocess(txt):\n",
    "    txt = str(txt)\n",
    "    \n",
    "    stopwords = nltk.corpus.stopwords.words(\"portuguese\")\n",
    "   \n",
    "    terms = word_tokenize(txt)\n",
    "    terms = [word for word in terms if word not in stopwords]\n",
    "        \n",
    "    return \" \".join(terms)"
   ]
  },
  {
   "cell_type": "code",
   "execution_count": 309,
   "id": "acda46ee",
   "metadata": {},
   "outputs": [],
   "source": [
    "data_preprocess = Parallel(n_jobs=4)(delayed(preprocess)(doc) for doc in data)"
   ]
  },
  {
   "cell_type": "code",
   "execution_count": 310,
   "id": "ab064f1e",
   "metadata": {},
   "outputs": [],
   "source": [
    "a = time.time()"
   ]
  },
  {
   "cell_type": "code",
   "execution_count": 311,
   "id": "e387a878",
   "metadata": {},
   "outputs": [],
   "source": [
    "data_emb = model.encode(data,convert_to_tensor=True,device=device_gpu)"
   ]
  },
  {
   "cell_type": "code",
   "execution_count": 312,
   "id": "a4343c36",
   "metadata": {},
   "outputs": [],
   "source": [
    "d = time.time()"
   ]
  },
  {
   "cell_type": "code",
   "execution_count": 313,
   "id": "29f406f4",
   "metadata": {},
   "outputs": [
    {
     "name": "stdout",
     "output_type": "stream",
     "text": [
      "Duração da indexação: 882.433486\n"
     ]
    }
   ],
   "source": [
    "print(\"Duração da indexação: %f\" % (d-a))"
   ]
  },
  {
   "cell_type": "markdown",
   "id": "5e4ce02b",
   "metadata": {},
   "source": [
    "## Avaliação"
   ]
  },
  {
   "cell_type": "markdown",
   "id": "afb77082",
   "metadata": {},
   "source": [
    "### Recall"
   ]
  },
  {
   "cell_type": "code",
   "execution_count": 314,
   "id": "7b0cc79e",
   "metadata": {},
   "outputs": [
    {
     "name": "stdout",
     "output_type": "stream",
     "text": [
      "Duração: 15.234998\n",
      "Recall: 0.2542372881355932\n"
     ]
    }
   ],
   "source": [
    "avaliacaoRecall(True,top_k=5)"
   ]
  },
  {
   "cell_type": "code",
   "execution_count": 315,
   "id": "50ca3b4d",
   "metadata": {},
   "outputs": [
    {
     "name": "stdout",
     "output_type": "stream",
     "text": [
      "Duração: 15.474998\n",
      "Recall: 0.31186440677966104\n"
     ]
    }
   ],
   "source": [
    "avaliacaoRecall(True,top_k=10)"
   ]
  },
  {
   "cell_type": "code",
   "execution_count": 316,
   "id": "45e94daf",
   "metadata": {},
   "outputs": [
    {
     "name": "stdout",
     "output_type": "stream",
     "text": [
      "Duração: 16.570065\n",
      "Recall: 0.34576271186440677\n"
     ]
    }
   ],
   "source": [
    "avaliacaoRecall(True,top_k=20)"
   ]
  },
  {
   "cell_type": "markdown",
   "id": "3a854098",
   "metadata": {},
   "source": [
    "### MAP"
   ]
  },
  {
   "cell_type": "code",
   "execution_count": 317,
   "id": "6d0f06e7",
   "metadata": {},
   "outputs": [
    {
     "name": "stdout",
     "output_type": "stream",
     "text": [
      "MAP@ 5: 0.000700\n"
     ]
    }
   ],
   "source": [
    "avaliacaoMAP(True,top_k=5)"
   ]
  },
  {
   "cell_type": "code",
   "execution_count": 318,
   "id": "4af134c5",
   "metadata": {},
   "outputs": [
    {
     "name": "stdout",
     "output_type": "stream",
     "text": [
      "MAP@ 10: 0.000515\n"
     ]
    }
   ],
   "source": [
    "avaliacaoMAP(True,top_k=10)"
   ]
  },
  {
   "cell_type": "code",
   "execution_count": 319,
   "id": "0020fc25",
   "metadata": {},
   "outputs": [
    {
     "name": "stdout",
     "output_type": "stream",
     "text": [
      "MAP@ 20: 0.000280\n"
     ]
    }
   ],
   "source": [
    "avaliacaoMAP(True,top_k=20)"
   ]
  },
  {
   "cell_type": "markdown",
   "id": "288c616d",
   "metadata": {},
   "source": [
    "### Precision"
   ]
  },
  {
   "cell_type": "code",
   "execution_count": 320,
   "id": "997153ea",
   "metadata": {},
   "outputs": [
    {
     "name": "stdout",
     "output_type": "stream",
     "text": [
      "Precision: 0.05084745762711857\n"
     ]
    }
   ],
   "source": [
    "avaliacaoPrecision(True,top_k=5)"
   ]
  },
  {
   "cell_type": "code",
   "execution_count": 321,
   "id": "028a1fe9",
   "metadata": {},
   "outputs": [
    {
     "name": "stdout",
     "output_type": "stream",
     "text": [
      "Precision: 0.031186440677966044\n"
     ]
    }
   ],
   "source": [
    "avaliacaoPrecision(True,top_k=10)"
   ]
  },
  {
   "cell_type": "code",
   "execution_count": 322,
   "id": "6cdedf98",
   "metadata": {},
   "outputs": [
    {
     "name": "stdout",
     "output_type": "stream",
     "text": [
      "Precision: 0.017288135593220306\n"
     ]
    }
   ],
   "source": [
    "avaliacaoPrecision(True,top_k=20)"
   ]
  },
  {
   "cell_type": "markdown",
   "id": "cb8cee36",
   "metadata": {},
   "source": [
    "### RR"
   ]
  },
  {
   "cell_type": "code",
   "execution_count": 323,
   "id": "2155e75d",
   "metadata": {},
   "outputs": [
    {
     "name": "stdout",
     "output_type": "stream",
     "text": [
      "RR: 0.135593\n"
     ]
    }
   ],
   "source": [
    "avaliacaoRR(True)"
   ]
  },
  {
   "cell_type": "markdown",
   "id": "55cd71bb",
   "metadata": {},
   "source": [
    "# TxtEmenta"
   ]
  },
  {
   "cell_type": "code",
   "execution_count": 130,
   "id": "363269ea",
   "metadata": {},
   "outputs": [],
   "source": [
    "data = base.txtEmenta.fillna(\"Em branco\")"
   ]
  },
  {
   "cell_type": "markdown",
   "id": "0e348662",
   "metadata": {},
   "source": [
    "## Config 1"
   ]
  },
  {
   "cell_type": "code",
   "execution_count": 131,
   "id": "db28c0cb",
   "metadata": {},
   "outputs": [],
   "source": [
    "a = time.time()"
   ]
  },
  {
   "cell_type": "code",
   "execution_count": 132,
   "id": "5afb6ae7",
   "metadata": {},
   "outputs": [],
   "source": [
    "data_emb = model.encode(data,convert_to_tensor=True,device=device_gpu)"
   ]
  },
  {
   "cell_type": "code",
   "execution_count": 133,
   "id": "97501ed4",
   "metadata": {},
   "outputs": [],
   "source": [
    "d = time.time()"
   ]
  },
  {
   "cell_type": "code",
   "execution_count": 134,
   "id": "980bc41f",
   "metadata": {},
   "outputs": [
    {
     "name": "stdout",
     "output_type": "stream",
     "text": [
      "Duração da indexação: 276.334136\n"
     ]
    }
   ],
   "source": [
    "print(\"Duração da indexação: %f\" % (d-a))"
   ]
  },
  {
   "cell_type": "markdown",
   "id": "9ba72702",
   "metadata": {},
   "source": [
    "## Avaliação"
   ]
  },
  {
   "cell_type": "markdown",
   "id": "d07196fd",
   "metadata": {},
   "source": [
    "### Recall"
   ]
  },
  {
   "cell_type": "code",
   "execution_count": 135,
   "id": "ae0951e0",
   "metadata": {},
   "outputs": [
    {
     "name": "stdout",
     "output_type": "stream",
     "text": [
      "Duração: 61.823027\n",
      "Recall: 0.20677966101694914\n"
     ]
    }
   ],
   "source": [
    "avaliacaoRecall(False,top_k=5)"
   ]
  },
  {
   "cell_type": "code",
   "execution_count": 136,
   "id": "0cbfe34a",
   "metadata": {},
   "outputs": [
    {
     "name": "stdout",
     "output_type": "stream",
     "text": [
      "Duração: 97.622998\n",
      "Recall: 0.2711864406779661\n"
     ]
    }
   ],
   "source": [
    "avaliacaoRecall(False,top_k=10)"
   ]
  },
  {
   "cell_type": "code",
   "execution_count": 137,
   "id": "f0a50ab2",
   "metadata": {},
   "outputs": [
    {
     "name": "stdout",
     "output_type": "stream",
     "text": [
      "Duração: 98.610999\n",
      "Recall: 0.31186440677966104\n"
     ]
    }
   ],
   "source": [
    "avaliacaoRecall(False,top_k=20)"
   ]
  },
  {
   "cell_type": "markdown",
   "id": "285e5dd3",
   "metadata": {},
   "source": [
    "### MAP"
   ]
  },
  {
   "cell_type": "code",
   "execution_count": 138,
   "id": "55b2c7ac",
   "metadata": {},
   "outputs": [
    {
     "name": "stdout",
     "output_type": "stream",
     "text": [
      "MAP@ 5: 0.000506\n"
     ]
    }
   ],
   "source": [
    "avaliacaoMAP(False,top_k=5)"
   ]
  },
  {
   "cell_type": "code",
   "execution_count": 139,
   "id": "f8b21b78",
   "metadata": {},
   "outputs": [
    {
     "name": "stdout",
     "output_type": "stream",
     "text": [
      "MAP@ 10: 0.000324\n"
     ]
    }
   ],
   "source": [
    "avaliacaoMAP(False,top_k=10)"
   ]
  },
  {
   "cell_type": "code",
   "execution_count": 140,
   "id": "7d2e320e",
   "metadata": {},
   "outputs": [
    {
     "name": "stdout",
     "output_type": "stream",
     "text": [
      "MAP@ 20: 0.000237\n"
     ]
    }
   ],
   "source": [
    "avaliacaoMAP(False,top_k=20)"
   ]
  },
  {
   "cell_type": "markdown",
   "id": "f12118e7",
   "metadata": {},
   "source": [
    "### Precision"
   ]
  },
  {
   "cell_type": "code",
   "execution_count": 141,
   "id": "fe111a85",
   "metadata": {},
   "outputs": [
    {
     "name": "stdout",
     "output_type": "stream",
     "text": [
      "Precision: 0.04135593220338979\n"
     ]
    }
   ],
   "source": [
    "avaliacaoPrecision(False,top_k=5)"
   ]
  },
  {
   "cell_type": "code",
   "execution_count": 142,
   "id": "a9afc040",
   "metadata": {},
   "outputs": [
    {
     "name": "stdout",
     "output_type": "stream",
     "text": [
      "Precision: 0.027118644067796568\n"
     ]
    }
   ],
   "source": [
    "avaliacaoPrecision(False,top_k=10)"
   ]
  },
  {
   "cell_type": "code",
   "execution_count": 143,
   "id": "2b2b628e",
   "metadata": {},
   "outputs": [
    {
     "name": "stdout",
     "output_type": "stream",
     "text": [
      "Precision: 0.015593220338983022\n"
     ]
    }
   ],
   "source": [
    "avaliacaoPrecision(False,top_k=20)"
   ]
  },
  {
   "cell_type": "markdown",
   "id": "5cde0ac0",
   "metadata": {},
   "source": [
    "### RR"
   ]
  },
  {
   "cell_type": "code",
   "execution_count": 144,
   "id": "d64ffd53",
   "metadata": {},
   "outputs": [
    {
     "name": "stdout",
     "output_type": "stream",
     "text": [
      "RR: 0.118644\n"
     ]
    }
   ],
   "source": [
    "avaliacaoRR(False)"
   ]
  },
  {
   "cell_type": "code",
   "execution_count": 145,
   "id": "599cc6c9",
   "metadata": {},
   "outputs": [
    {
     "name": "stdout",
     "output_type": "stream",
     "text": [
      "RR: 0.118644\n"
     ]
    }
   ],
   "source": [
    "avaliacaoRR(False)"
   ]
  },
  {
   "cell_type": "markdown",
   "id": "d73d7c1e",
   "metadata": {},
   "source": [
    "## Config 5"
   ]
  },
  {
   "cell_type": "code",
   "execution_count": 146,
   "id": "20109e20",
   "metadata": {},
   "outputs": [],
   "source": [
    "data = base.txtEmenta.fillna(\"Em branco\")"
   ]
  },
  {
   "cell_type": "code",
   "execution_count": 147,
   "id": "d95c7317",
   "metadata": {},
   "outputs": [],
   "source": [
    "def _remove_acentos(txt):\n",
    "    return normalize('NFKD', txt).encode('ASCII', 'ignore').decode('ASCII')\n",
    "\n",
    "def preprocess(txt):\n",
    "    txt = str(txt)\n",
    "    txt = _remove_acentos(txt)\n",
    "    stopwords = nltk.corpus.stopwords.words(\"portuguese\")\n",
    "    stopwords.extend(list(punctuation))\n",
    "    tokenizer = RegexpTokenizer('\\w+')\n",
    "    terms = tokenizer.tokenize(txt.lower())\n",
    "    terms = [word for word in terms if word not in stopwords]\n",
    "\n",
    "    return \" \".join(terms)"
   ]
  },
  {
   "cell_type": "code",
   "execution_count": 148,
   "id": "fb88f75e",
   "metadata": {},
   "outputs": [],
   "source": [
    "data_preprocess = Parallel(n_jobs=4)(delayed(preprocess)(doc) for doc in data)"
   ]
  },
  {
   "cell_type": "code",
   "execution_count": 149,
   "id": "24afdec7",
   "metadata": {},
   "outputs": [],
   "source": [
    "a = time.time()"
   ]
  },
  {
   "cell_type": "code",
   "execution_count": 150,
   "id": "b20afaa2",
   "metadata": {},
   "outputs": [],
   "source": [
    "data_emb = model.encode(data,convert_to_tensor=True,device=device_gpu)"
   ]
  },
  {
   "cell_type": "code",
   "execution_count": 151,
   "id": "5b0b0c1d",
   "metadata": {},
   "outputs": [],
   "source": [
    "d = time.time()"
   ]
  },
  {
   "cell_type": "code",
   "execution_count": 152,
   "id": "23b53677",
   "metadata": {},
   "outputs": [
    {
     "name": "stdout",
     "output_type": "stream",
     "text": [
      "Duração da indexação: 174.720998\n"
     ]
    }
   ],
   "source": [
    "print(\"Duração da indexação: %f\" % (d-a))"
   ]
  },
  {
   "cell_type": "markdown",
   "id": "74b86f5b",
   "metadata": {},
   "source": [
    "## Avaliação"
   ]
  },
  {
   "cell_type": "markdown",
   "id": "a3ca1125",
   "metadata": {},
   "source": [
    "### Recall"
   ]
  },
  {
   "cell_type": "code",
   "execution_count": 153,
   "id": "96e1e88a",
   "metadata": {},
   "outputs": [
    {
     "name": "stdout",
     "output_type": "stream",
     "text": [
      "Duração: 13.701998\n",
      "Recall: 0.1864406779661017\n"
     ]
    }
   ],
   "source": [
    "avaliacaoRecall(True,top_k=5)"
   ]
  },
  {
   "cell_type": "code",
   "execution_count": 154,
   "id": "bbc15e6a",
   "metadata": {},
   "outputs": [
    {
     "name": "stdout",
     "output_type": "stream",
     "text": [
      "Duração: 15.682001\n",
      "Recall: 0.23389830508474577\n"
     ]
    }
   ],
   "source": [
    "avaliacaoRecall(True,top_k=10)"
   ]
  },
  {
   "cell_type": "code",
   "execution_count": 155,
   "id": "ce107083",
   "metadata": {},
   "outputs": [
    {
     "name": "stdout",
     "output_type": "stream",
     "text": [
      "Duração: 11.026998\n",
      "Recall: 0.288135593220339\n"
     ]
    }
   ],
   "source": [
    "avaliacaoRecall(True,top_k=20)"
   ]
  },
  {
   "cell_type": "markdown",
   "id": "ac838f54",
   "metadata": {},
   "source": [
    "### MAP"
   ]
  },
  {
   "cell_type": "code",
   "execution_count": 156,
   "id": "1a0393ba",
   "metadata": {},
   "outputs": [
    {
     "name": "stdout",
     "output_type": "stream",
     "text": [
      "MAP@ 5: 0.000493\n"
     ]
    }
   ],
   "source": [
    "avaliacaoMAP(True,top_k=5)"
   ]
  },
  {
   "cell_type": "code",
   "execution_count": 157,
   "id": "2249a813",
   "metadata": {},
   "outputs": [
    {
     "name": "stdout",
     "output_type": "stream",
     "text": [
      "MAP@ 10: 0.000285\n"
     ]
    }
   ],
   "source": [
    "avaliacaoMAP(True,top_k=10)"
   ]
  },
  {
   "cell_type": "code",
   "execution_count": 158,
   "id": "044cc187",
   "metadata": {},
   "outputs": [
    {
     "name": "stdout",
     "output_type": "stream",
     "text": [
      "MAP@ 20: 0.000174\n"
     ]
    }
   ],
   "source": [
    "avaliacaoMAP(True,top_k=20)"
   ]
  },
  {
   "cell_type": "markdown",
   "id": "10606094",
   "metadata": {},
   "source": [
    "### Precision"
   ]
  },
  {
   "cell_type": "code",
   "execution_count": 159,
   "id": "fd3668dc",
   "metadata": {},
   "outputs": [
    {
     "name": "stdout",
     "output_type": "stream",
     "text": [
      "Precision: 0.03728813559322031\n"
     ]
    }
   ],
   "source": [
    "avaliacaoPrecision(True,top_k=5)"
   ]
  },
  {
   "cell_type": "code",
   "execution_count": 160,
   "id": "ca814b2a",
   "metadata": {},
   "outputs": [
    {
     "name": "stdout",
     "output_type": "stream",
     "text": [
      "Precision: 0.023389830508474548\n"
     ]
    }
   ],
   "source": [
    "avaliacaoPrecision(True,top_k=10)"
   ]
  },
  {
   "cell_type": "code",
   "execution_count": 161,
   "id": "80ef49cc",
   "metadata": {},
   "outputs": [
    {
     "name": "stdout",
     "output_type": "stream",
     "text": [
      "Precision: 0.014406779661016925\n"
     ]
    }
   ],
   "source": [
    "avaliacaoPrecision(True,top_k=20)"
   ]
  },
  {
   "cell_type": "markdown",
   "id": "3bc34941",
   "metadata": {},
   "source": [
    "### RR"
   ]
  },
  {
   "cell_type": "code",
   "execution_count": 162,
   "id": "0ef5bd72",
   "metadata": {},
   "outputs": [
    {
     "name": "stdout",
     "output_type": "stream",
     "text": [
      "RR: 0.105085\n"
     ]
    }
   ],
   "source": [
    "avaliacaoRR(True)"
   ]
  },
  {
   "cell_type": "markdown",
   "id": "e6ff547a",
   "metadata": {},
   "source": [
    "## Config 0"
   ]
  },
  {
   "cell_type": "code",
   "execution_count": 163,
   "id": "72467749",
   "metadata": {},
   "outputs": [],
   "source": [
    "data = base.txtEmenta.fillna(\"Em branco\")"
   ]
  },
  {
   "cell_type": "code",
   "execution_count": 164,
   "id": "ff9c614e",
   "metadata": {},
   "outputs": [],
   "source": [
    "def preprocess(txt):\n",
    "    txt = str(txt)\n",
    "    \n",
    "    stopwords = nltk.corpus.stopwords.words(\"portuguese\")\n",
    "   \n",
    "    terms = word_tokenize(txt)\n",
    "    terms = [word for word in terms if word not in stopwords]\n",
    "        \n",
    "    return \" \".join(terms)"
   ]
  },
  {
   "cell_type": "code",
   "execution_count": 165,
   "id": "b7415f89",
   "metadata": {},
   "outputs": [],
   "source": [
    "data_preprocess = Parallel(n_jobs=4)(delayed(preprocess)(doc) for doc in data)"
   ]
  },
  {
   "cell_type": "code",
   "execution_count": 166,
   "id": "056f6e32",
   "metadata": {},
   "outputs": [],
   "source": [
    "a = time.time()"
   ]
  },
  {
   "cell_type": "code",
   "execution_count": 167,
   "id": "0c6c4e8d",
   "metadata": {},
   "outputs": [],
   "source": [
    "data_emb = model.encode(data,convert_to_tensor=True,device=device_gpu)"
   ]
  },
  {
   "cell_type": "code",
   "execution_count": 168,
   "id": "757abdfc",
   "metadata": {},
   "outputs": [],
   "source": [
    "d = time.time()"
   ]
  },
  {
   "cell_type": "code",
   "execution_count": 169,
   "id": "d921825d",
   "metadata": {},
   "outputs": [
    {
     "name": "stdout",
     "output_type": "stream",
     "text": [
      "Duração da indexação: 172.484000\n"
     ]
    }
   ],
   "source": [
    "print(\"Duração da indexação: %f\" % (d-a))"
   ]
  },
  {
   "cell_type": "markdown",
   "id": "2e93e51e",
   "metadata": {},
   "source": [
    "## Avaliação"
   ]
  },
  {
   "cell_type": "markdown",
   "id": "8bf44b96",
   "metadata": {},
   "source": [
    "### Recall"
   ]
  },
  {
   "cell_type": "code",
   "execution_count": 170,
   "id": "f295c9b8",
   "metadata": {},
   "outputs": [
    {
     "name": "stdout",
     "output_type": "stream",
     "text": [
      "Duração: 13.852995\n",
      "Recall: 0.2305084745762712\n"
     ]
    }
   ],
   "source": [
    "avaliacaoRecall(True,top_k=5)"
   ]
  },
  {
   "cell_type": "code",
   "execution_count": 171,
   "id": "d095bd8b",
   "metadata": {},
   "outputs": [
    {
     "name": "stdout",
     "output_type": "stream",
     "text": [
      "Duração: 14.968997\n",
      "Recall: 0.2677966101694915\n"
     ]
    }
   ],
   "source": [
    "avaliacaoRecall(True,top_k=10)"
   ]
  },
  {
   "cell_type": "code",
   "execution_count": 172,
   "id": "08514c06",
   "metadata": {},
   "outputs": [
    {
     "name": "stdout",
     "output_type": "stream",
     "text": [
      "Duração: 15.359007\n",
      "Recall: 0.33220338983050846\n"
     ]
    }
   ],
   "source": [
    "avaliacaoRecall(True,top_k=20)"
   ]
  },
  {
   "cell_type": "markdown",
   "id": "378ca3b8",
   "metadata": {},
   "source": [
    "### MAP"
   ]
  },
  {
   "cell_type": "code",
   "execution_count": 173,
   "id": "a828cbb1",
   "metadata": {},
   "outputs": [
    {
     "name": "stdout",
     "output_type": "stream",
     "text": [
      "MAP@ 5: 0.000553\n"
     ]
    }
   ],
   "source": [
    "avaliacaoMAP(True,top_k=5)"
   ]
  },
  {
   "cell_type": "code",
   "execution_count": 174,
   "id": "893f8893",
   "metadata": {},
   "outputs": [
    {
     "name": "stdout",
     "output_type": "stream",
     "text": [
      "MAP@ 10: 0.000308\n"
     ]
    }
   ],
   "source": [
    "avaliacaoMAP(True,top_k=10)"
   ]
  },
  {
   "cell_type": "code",
   "execution_count": 175,
   "id": "ff043bbf",
   "metadata": {},
   "outputs": [
    {
     "name": "stdout",
     "output_type": "stream",
     "text": [
      "MAP@ 20: 0.000288\n"
     ]
    }
   ],
   "source": [
    "avaliacaoMAP(True,top_k=20)"
   ]
  },
  {
   "cell_type": "markdown",
   "id": "0f82169e",
   "metadata": {},
   "source": [
    "### Precision"
   ]
  },
  {
   "cell_type": "code",
   "execution_count": 176,
   "id": "edbbfb27",
   "metadata": {},
   "outputs": [
    {
     "name": "stdout",
     "output_type": "stream",
     "text": [
      "Precision: 0.046101694915254184\n"
     ]
    }
   ],
   "source": [
    "avaliacaoPrecision(True,top_k=5)"
   ]
  },
  {
   "cell_type": "code",
   "execution_count": 177,
   "id": "cb4a21f3",
   "metadata": {},
   "outputs": [
    {
     "name": "stdout",
     "output_type": "stream",
     "text": [
      "Precision: 0.026779661016949112\n"
     ]
    }
   ],
   "source": [
    "avaliacaoPrecision(True,top_k=10)"
   ]
  },
  {
   "cell_type": "code",
   "execution_count": 178,
   "id": "4bb01cc1",
   "metadata": {},
   "outputs": [
    {
     "name": "stdout",
     "output_type": "stream",
     "text": [
      "Precision: 0.01661016949152539\n"
     ]
    }
   ],
   "source": [
    "avaliacaoPrecision(True,top_k=20)"
   ]
  },
  {
   "cell_type": "markdown",
   "id": "ddec0681",
   "metadata": {},
   "source": [
    "### RR"
   ]
  },
  {
   "cell_type": "code",
   "execution_count": 179,
   "id": "520934c4",
   "metadata": {},
   "outputs": [
    {
     "name": "stdout",
     "output_type": "stream",
     "text": [
      "RR: 0.132203\n"
     ]
    }
   ],
   "source": [
    "avaliacaoRR(True)"
   ]
  },
  {
   "cell_type": "markdown",
   "id": "a43bfd6d",
   "metadata": {},
   "source": [
    "# TxtIndexacao"
   ]
  },
  {
   "cell_type": "code",
   "execution_count": 180,
   "id": "58c8851b",
   "metadata": {},
   "outputs": [],
   "source": [
    "data = base.txtIndexacao.fillna(\"Em branco\")"
   ]
  },
  {
   "cell_type": "markdown",
   "id": "c90ab646",
   "metadata": {},
   "source": [
    "## Config 1"
   ]
  },
  {
   "cell_type": "code",
   "execution_count": 181,
   "id": "b346b18f",
   "metadata": {},
   "outputs": [],
   "source": [
    "a = time.time()"
   ]
  },
  {
   "cell_type": "code",
   "execution_count": 182,
   "id": "6e5234a6",
   "metadata": {},
   "outputs": [],
   "source": [
    "data_emb = model.encode(data,convert_to_tensor=True,device=device_gpu)"
   ]
  },
  {
   "cell_type": "code",
   "execution_count": 183,
   "id": "85e816ab",
   "metadata": {},
   "outputs": [],
   "source": [
    "d = time.time()"
   ]
  },
  {
   "cell_type": "code",
   "execution_count": 184,
   "id": "32d2044c",
   "metadata": {},
   "outputs": [
    {
     "name": "stdout",
     "output_type": "stream",
     "text": [
      "Duração da indexação: 383.970001\n"
     ]
    }
   ],
   "source": [
    "print(\"Duração da indexação: %f\" % (d-a))"
   ]
  },
  {
   "cell_type": "markdown",
   "id": "9feb4ada",
   "metadata": {},
   "source": [
    "## Avaliação"
   ]
  },
  {
   "cell_type": "markdown",
   "id": "8ab5b3bf",
   "metadata": {},
   "source": [
    "### Recall"
   ]
  },
  {
   "cell_type": "code",
   "execution_count": 185,
   "id": "fee7f9a5",
   "metadata": {},
   "outputs": [
    {
     "name": "stdout",
     "output_type": "stream",
     "text": [
      "Duração: 23.201962\n",
      "Recall: 0.17627118644067796\n"
     ]
    }
   ],
   "source": [
    "avaliacaoRecall(False,top_k=5)"
   ]
  },
  {
   "cell_type": "code",
   "execution_count": 186,
   "id": "7935b454",
   "metadata": {},
   "outputs": [
    {
     "name": "stdout",
     "output_type": "stream",
     "text": [
      "Duração: 15.532997\n",
      "Recall: 0.23389830508474577\n"
     ]
    }
   ],
   "source": [
    "avaliacaoRecall(False,top_k=10)"
   ]
  },
  {
   "cell_type": "code",
   "execution_count": 187,
   "id": "2750a3f7",
   "metadata": {},
   "outputs": [
    {
     "name": "stdout",
     "output_type": "stream",
     "text": [
      "Duração: 16.543998\n",
      "Recall: 0.2745762711864407\n"
     ]
    }
   ],
   "source": [
    "avaliacaoRecall(False,top_k=20)"
   ]
  },
  {
   "cell_type": "markdown",
   "id": "f4a4f9a1",
   "metadata": {},
   "source": [
    "### MAP"
   ]
  },
  {
   "cell_type": "code",
   "execution_count": 188,
   "id": "dd116850",
   "metadata": {},
   "outputs": [
    {
     "name": "stdout",
     "output_type": "stream",
     "text": [
      "MAP@ 5: 0.000588\n"
     ]
    }
   ],
   "source": [
    "avaliacaoMAP(False,top_k=5)"
   ]
  },
  {
   "cell_type": "code",
   "execution_count": 189,
   "id": "b5d184e9",
   "metadata": {},
   "outputs": [
    {
     "name": "stdout",
     "output_type": "stream",
     "text": [
      "MAP@ 10: 0.000495\n"
     ]
    }
   ],
   "source": [
    "avaliacaoMAP(False,top_k=10)"
   ]
  },
  {
   "cell_type": "code",
   "execution_count": 190,
   "id": "7bc0b08d",
   "metadata": {},
   "outputs": [
    {
     "name": "stdout",
     "output_type": "stream",
     "text": [
      "MAP@ 20: 0.000292\n"
     ]
    }
   ],
   "source": [
    "avaliacaoMAP(False,top_k=20)"
   ]
  },
  {
   "cell_type": "markdown",
   "id": "3f8bdb06",
   "metadata": {},
   "source": [
    "### Precision"
   ]
  },
  {
   "cell_type": "code",
   "execution_count": 191,
   "id": "95021e62",
   "metadata": {},
   "outputs": [
    {
     "name": "stdout",
     "output_type": "stream",
     "text": [
      "Precision: 0.03525423728813558\n"
     ]
    }
   ],
   "source": [
    "avaliacaoPrecision(False,top_k=5)"
   ]
  },
  {
   "cell_type": "code",
   "execution_count": 192,
   "id": "72bb148d",
   "metadata": {},
   "outputs": [
    {
     "name": "stdout",
     "output_type": "stream",
     "text": [
      "Precision: 0.023389830508474548\n"
     ]
    }
   ],
   "source": [
    "avaliacaoPrecision(False,top_k=10)"
   ]
  },
  {
   "cell_type": "code",
   "execution_count": 193,
   "id": "862e1d0a",
   "metadata": {},
   "outputs": [
    {
     "name": "stdout",
     "output_type": "stream",
     "text": [
      "Precision: 0.013728813559322012\n"
     ]
    }
   ],
   "source": [
    "avaliacaoPrecision(False,top_k=20)"
   ]
  },
  {
   "cell_type": "markdown",
   "id": "72a8abb1",
   "metadata": {},
   "source": [
    "### RR"
   ]
  },
  {
   "cell_type": "code",
   "execution_count": 194,
   "id": "ef09983d",
   "metadata": {},
   "outputs": [
    {
     "name": "stdout",
     "output_type": "stream",
     "text": [
      "RR: 0.101695\n"
     ]
    }
   ],
   "source": [
    "avaliacaoRR(False)"
   ]
  },
  {
   "cell_type": "markdown",
   "id": "2431fc34",
   "metadata": {},
   "source": [
    "## Config 5"
   ]
  },
  {
   "cell_type": "code",
   "execution_count": 195,
   "id": "ad4cb00e",
   "metadata": {},
   "outputs": [],
   "source": [
    "data = base.txtIndexacao.fillna(\"Em branco\")"
   ]
  },
  {
   "cell_type": "code",
   "execution_count": 196,
   "id": "6e1a7682",
   "metadata": {},
   "outputs": [],
   "source": [
    "def _remove_acentos(txt):\n",
    "    return normalize('NFKD', txt).encode('ASCII', 'ignore').decode('ASCII')\n",
    "\n",
    "def preprocess(txt):\n",
    "    txt = str(txt)\n",
    "    txt = _remove_acentos(txt)\n",
    "    stopwords = nltk.corpus.stopwords.words(\"portuguese\")\n",
    "    stopwords.extend(list(punctuation))\n",
    "    tokenizer = RegexpTokenizer('\\w+')\n",
    "    terms = tokenizer.tokenize(txt.lower())\n",
    "    terms = [word for word in terms if word not in stopwords]\n",
    "\n",
    "    return \" \".join(terms)"
   ]
  },
  {
   "cell_type": "code",
   "execution_count": 197,
   "id": "2096631d",
   "metadata": {},
   "outputs": [],
   "source": [
    "data_preprocess = Parallel(n_jobs=4)(delayed(preprocess)(doc) for doc in data)"
   ]
  },
  {
   "cell_type": "code",
   "execution_count": 198,
   "id": "c175ffd2",
   "metadata": {},
   "outputs": [],
   "source": [
    "a = time.time()"
   ]
  },
  {
   "cell_type": "code",
   "execution_count": 199,
   "id": "9038bfe3",
   "metadata": {},
   "outputs": [],
   "source": [
    "data_emb = model.encode(data,convert_to_tensor=True,device=device_gpu)"
   ]
  },
  {
   "cell_type": "code",
   "execution_count": 200,
   "id": "432d2063",
   "metadata": {},
   "outputs": [],
   "source": [
    "d = time.time()"
   ]
  },
  {
   "cell_type": "code",
   "execution_count": 201,
   "id": "3d57d637",
   "metadata": {},
   "outputs": [
    {
     "name": "stdout",
     "output_type": "stream",
     "text": [
      "Duração da indexação: 427.946000\n"
     ]
    }
   ],
   "source": [
    "print(\"Duração da indexação: %f\" % (d-a))"
   ]
  },
  {
   "cell_type": "markdown",
   "id": "b30539ed",
   "metadata": {},
   "source": [
    "## Avaliação"
   ]
  },
  {
   "cell_type": "markdown",
   "id": "34c65182",
   "metadata": {},
   "source": [
    "### Recall"
   ]
  },
  {
   "cell_type": "code",
   "execution_count": 202,
   "id": "9533398e",
   "metadata": {},
   "outputs": [
    {
     "name": "stdout",
     "output_type": "stream",
     "text": [
      "Duração: 61.922999\n",
      "Recall: 0.13898305084745763\n"
     ]
    }
   ],
   "source": [
    "avaliacaoRecall(True,top_k=5)"
   ]
  },
  {
   "cell_type": "code",
   "execution_count": 203,
   "id": "a7132d33",
   "metadata": {},
   "outputs": [
    {
     "name": "stdout",
     "output_type": "stream",
     "text": [
      "Duração: 94.694038\n",
      "Recall: 0.19661016949152543\n"
     ]
    }
   ],
   "source": [
    "avaliacaoRecall(True,top_k=10)"
   ]
  },
  {
   "cell_type": "code",
   "execution_count": 204,
   "id": "b2d01d70",
   "metadata": {},
   "outputs": [
    {
     "name": "stdout",
     "output_type": "stream",
     "text": [
      "Duração: 95.274000\n",
      "Recall: 0.24067796610169492\n"
     ]
    }
   ],
   "source": [
    "avaliacaoRecall(True,top_k=20)"
   ]
  },
  {
   "cell_type": "markdown",
   "id": "5286cc0d",
   "metadata": {},
   "source": [
    "### MAP"
   ]
  },
  {
   "cell_type": "code",
   "execution_count": 205,
   "id": "5e1b3916",
   "metadata": {},
   "outputs": [
    {
     "name": "stdout",
     "output_type": "stream",
     "text": [
      "MAP@ 5: 0.000523\n"
     ]
    }
   ],
   "source": [
    "avaliacaoMAP(True,top_k=5)"
   ]
  },
  {
   "cell_type": "code",
   "execution_count": 206,
   "id": "5fc56162",
   "metadata": {},
   "outputs": [
    {
     "name": "stdout",
     "output_type": "stream",
     "text": [
      "MAP@ 10: 0.000442\n"
     ]
    }
   ],
   "source": [
    "avaliacaoMAP(True,top_k=10)"
   ]
  },
  {
   "cell_type": "code",
   "execution_count": 207,
   "id": "9dc669c0",
   "metadata": {},
   "outputs": [
    {
     "name": "stdout",
     "output_type": "stream",
     "text": [
      "MAP@ 20: 0.000294\n"
     ]
    }
   ],
   "source": [
    "avaliacaoMAP(True,top_k=20)"
   ]
  },
  {
   "cell_type": "markdown",
   "id": "e10186bc",
   "metadata": {},
   "source": [
    "### Precision"
   ]
  },
  {
   "cell_type": "code",
   "execution_count": 208,
   "id": "44d7d359",
   "metadata": {},
   "outputs": [
    {
     "name": "stdout",
     "output_type": "stream",
     "text": [
      "Precision: 0.027796610169491535\n"
     ]
    }
   ],
   "source": [
    "avaliacaoPrecision(True,top_k=5)"
   ]
  },
  {
   "cell_type": "code",
   "execution_count": 209,
   "id": "2d2c3be2",
   "metadata": {},
   "outputs": [
    {
     "name": "stdout",
     "output_type": "stream",
     "text": [
      "Precision: 0.019661016949152527\n"
     ]
    }
   ],
   "source": [
    "avaliacaoPrecision(True,top_k=10)"
   ]
  },
  {
   "cell_type": "code",
   "execution_count": 210,
   "id": "da1b897d",
   "metadata": {},
   "outputs": [
    {
     "name": "stdout",
     "output_type": "stream",
     "text": [
      "Precision: 0.01203389830508473\n"
     ]
    }
   ],
   "source": [
    "avaliacaoPrecision(True,top_k=20)"
   ]
  },
  {
   "cell_type": "markdown",
   "id": "a297f8bc",
   "metadata": {},
   "source": [
    "### RR"
   ]
  },
  {
   "cell_type": "code",
   "execution_count": 211,
   "id": "f491f304",
   "metadata": {},
   "outputs": [
    {
     "name": "stdout",
     "output_type": "stream",
     "text": [
      "RR: 0.067797\n"
     ]
    }
   ],
   "source": [
    "avaliacaoRR(True)"
   ]
  },
  {
   "cell_type": "markdown",
   "id": "fa4cfe78",
   "metadata": {},
   "source": [
    "## Config 0"
   ]
  },
  {
   "cell_type": "code",
   "execution_count": 212,
   "id": "c257188a",
   "metadata": {},
   "outputs": [],
   "source": [
    "data = base.txtIndexacao.fillna(\"Em branco\")"
   ]
  },
  {
   "cell_type": "code",
   "execution_count": 213,
   "id": "78b930fc",
   "metadata": {},
   "outputs": [],
   "source": [
    "def preprocess(txt):\n",
    "    txt = str(txt)\n",
    "    \n",
    "    stopwords = nltk.corpus.stopwords.words(\"portuguese\")\n",
    "   \n",
    "    terms = word_tokenize(txt)\n",
    "    terms = [word for word in terms if word not in stopwords]\n",
    "        \n",
    "    return \" \".join(terms)"
   ]
  },
  {
   "cell_type": "code",
   "execution_count": 214,
   "id": "c890169f",
   "metadata": {},
   "outputs": [],
   "source": [
    "data_preprocess = Parallel(n_jobs=4)(delayed(preprocess)(doc) for doc in data)"
   ]
  },
  {
   "cell_type": "code",
   "execution_count": 215,
   "id": "0ec5db81",
   "metadata": {},
   "outputs": [],
   "source": [
    "a = time.time()"
   ]
  },
  {
   "cell_type": "code",
   "execution_count": 216,
   "id": "2bab4a06",
   "metadata": {},
   "outputs": [],
   "source": [
    "data_emb = model.encode(data,convert_to_tensor=True,device=device_gpu)"
   ]
  },
  {
   "cell_type": "code",
   "execution_count": 217,
   "id": "97419b87",
   "metadata": {},
   "outputs": [],
   "source": [
    "d = time.time()"
   ]
  },
  {
   "cell_type": "code",
   "execution_count": 218,
   "id": "dc47b1bf",
   "metadata": {},
   "outputs": [
    {
     "name": "stdout",
     "output_type": "stream",
     "text": [
      "Duração da indexação: 186.232000\n"
     ]
    }
   ],
   "source": [
    "print(\"Duração da indexação: %f\" % (d-a))"
   ]
  },
  {
   "cell_type": "markdown",
   "id": "dc17d244",
   "metadata": {},
   "source": [
    "## Avaliação"
   ]
  },
  {
   "cell_type": "markdown",
   "id": "ea17bdbf",
   "metadata": {},
   "source": [
    "### Recall"
   ]
  },
  {
   "cell_type": "code",
   "execution_count": 219,
   "id": "f0b4d6fe",
   "metadata": {},
   "outputs": [
    {
     "name": "stdout",
     "output_type": "stream",
     "text": [
      "Duração: 14.097000\n",
      "Recall: 0.2\n"
     ]
    }
   ],
   "source": [
    "avaliacaoRecall(True,top_k=5)"
   ]
  },
  {
   "cell_type": "code",
   "execution_count": 220,
   "id": "f714b66d",
   "metadata": {},
   "outputs": [
    {
     "name": "stdout",
     "output_type": "stream",
     "text": [
      "Duração: 10.370000\n",
      "Recall: 0.24067796610169492\n"
     ]
    }
   ],
   "source": [
    "avaliacaoRecall(True,top_k=10)"
   ]
  },
  {
   "cell_type": "code",
   "execution_count": 221,
   "id": "c050f5fc",
   "metadata": {},
   "outputs": [
    {
     "name": "stdout",
     "output_type": "stream",
     "text": [
      "Duração: 125.233998\n",
      "Recall: 0.3016949152542373\n"
     ]
    }
   ],
   "source": [
    "avaliacaoRecall(True,top_k=20)"
   ]
  },
  {
   "cell_type": "markdown",
   "id": "315aedea",
   "metadata": {},
   "source": [
    "### MAP"
   ]
  },
  {
   "cell_type": "code",
   "execution_count": 222,
   "id": "ad70396a",
   "metadata": {},
   "outputs": [
    {
     "name": "stdout",
     "output_type": "stream",
     "text": [
      "MAP@ 5: 0.000778\n"
     ]
    }
   ],
   "source": [
    "avaliacaoMAP(True,top_k=5)"
   ]
  },
  {
   "cell_type": "code",
   "execution_count": 223,
   "id": "ad56976b",
   "metadata": {},
   "outputs": [
    {
     "name": "stdout",
     "output_type": "stream",
     "text": [
      "MAP@ 10: 0.000476\n"
     ]
    }
   ],
   "source": [
    "avaliacaoMAP(True,top_k=10)"
   ]
  },
  {
   "cell_type": "code",
   "execution_count": 224,
   "id": "136e20b7",
   "metadata": {},
   "outputs": [
    {
     "name": "stdout",
     "output_type": "stream",
     "text": [
      "MAP@ 20: 0.000309\n"
     ]
    }
   ],
   "source": [
    "avaliacaoMAP(True,top_k=20)"
   ]
  },
  {
   "cell_type": "markdown",
   "id": "58860a2a",
   "metadata": {},
   "source": [
    "### Precision"
   ]
  },
  {
   "cell_type": "code",
   "execution_count": 225,
   "id": "58789055",
   "metadata": {},
   "outputs": [
    {
     "name": "stdout",
     "output_type": "stream",
     "text": [
      "Precision: 0.039999999999999966\n"
     ]
    }
   ],
   "source": [
    "avaliacaoPrecision(True,top_k=5)"
   ]
  },
  {
   "cell_type": "code",
   "execution_count": 226,
   "id": "6d7acf8b",
   "metadata": {},
   "outputs": [
    {
     "name": "stdout",
     "output_type": "stream",
     "text": [
      "Precision: 0.02406779661016946\n"
     ]
    }
   ],
   "source": [
    "avaliacaoPrecision(True,top_k=10)"
   ]
  },
  {
   "cell_type": "code",
   "execution_count": 227,
   "id": "5888c31d",
   "metadata": {},
   "outputs": [
    {
     "name": "stdout",
     "output_type": "stream",
     "text": [
      "Precision: 0.015084745762711838\n"
     ]
    }
   ],
   "source": [
    "avaliacaoPrecision(True,top_k=20)"
   ]
  },
  {
   "cell_type": "markdown",
   "id": "108522b3",
   "metadata": {},
   "source": [
    "### RR"
   ]
  },
  {
   "cell_type": "code",
   "execution_count": 228,
   "id": "cc360baf",
   "metadata": {},
   "outputs": [
    {
     "name": "stdout",
     "output_type": "stream",
     "text": [
      "RR: 0.101695\n"
     ]
    }
   ],
   "source": [
    "avaliacaoRR(True)"
   ]
  },
  {
   "cell_type": "markdown",
   "id": "bbcd642d",
   "metadata": {},
   "source": [
    "# Emenda + Indexacao"
   ]
  },
  {
   "cell_type": "code",
   "execution_count": 229,
   "id": "f0d35ea0",
   "metadata": {},
   "outputs": [],
   "source": [
    "base['txtIndexacao'] = base['txtEmenta'] + base['txtIndexacao']"
   ]
  },
  {
   "cell_type": "code",
   "execution_count": 230,
   "id": "61242d22",
   "metadata": {},
   "outputs": [],
   "source": [
    "data = base.txtIndexacao.fillna(\"Em branco\")"
   ]
  },
  {
   "cell_type": "markdown",
   "id": "eacc977c",
   "metadata": {},
   "source": [
    "## Config 1"
   ]
  },
  {
   "cell_type": "code",
   "execution_count": 231,
   "id": "3cd8b9a7",
   "metadata": {},
   "outputs": [],
   "source": [
    "a = time.time()"
   ]
  },
  {
   "cell_type": "code",
   "execution_count": 232,
   "id": "fe0d7341",
   "metadata": {},
   "outputs": [],
   "source": [
    "data_emb = model.encode(data,convert_to_tensor=True,device=device_gpu)"
   ]
  },
  {
   "cell_type": "code",
   "execution_count": 233,
   "id": "90aea00e",
   "metadata": {},
   "outputs": [],
   "source": [
    "d = time.time()"
   ]
  },
  {
   "cell_type": "code",
   "execution_count": 234,
   "id": "aa1b3040",
   "metadata": {},
   "outputs": [
    {
     "name": "stdout",
     "output_type": "stream",
     "text": [
      "Duração da indexação: 777.088994\n"
     ]
    }
   ],
   "source": [
    "print(\"Duração da indexação: %f\" % (d-a))"
   ]
  },
  {
   "cell_type": "markdown",
   "id": "365a72b9",
   "metadata": {},
   "source": [
    "## Avaliação"
   ]
  },
  {
   "cell_type": "markdown",
   "id": "740267aa",
   "metadata": {},
   "source": [
    "### Recall"
   ]
  },
  {
   "cell_type": "code",
   "execution_count": 235,
   "id": "17632d2d",
   "metadata": {},
   "outputs": [
    {
     "name": "stdout",
     "output_type": "stream",
     "text": [
      "Duração: 26.311000\n",
      "Recall: 0.25084745762711863\n"
     ]
    }
   ],
   "source": [
    "avaliacaoRecall(False,top_k=5)"
   ]
  },
  {
   "cell_type": "code",
   "execution_count": 236,
   "id": "1b1e2513",
   "metadata": {},
   "outputs": [
    {
     "name": "stdout",
     "output_type": "stream",
     "text": [
      "Duração: 23.441997\n",
      "Recall: 0.29152542372881357\n"
     ]
    }
   ],
   "source": [
    "avaliacaoRecall(False,top_k=10)"
   ]
  },
  {
   "cell_type": "code",
   "execution_count": 237,
   "id": "c6bde079",
   "metadata": {},
   "outputs": [
    {
     "name": "stdout",
     "output_type": "stream",
     "text": [
      "Duração: 28.678998\n",
      "Recall: 0.34576271186440677\n"
     ]
    }
   ],
   "source": [
    "avaliacaoRecall(False,top_k=20)"
   ]
  },
  {
   "cell_type": "markdown",
   "id": "cc2142c3",
   "metadata": {},
   "source": [
    "### MAP"
   ]
  },
  {
   "cell_type": "code",
   "execution_count": 238,
   "id": "0cf19904",
   "metadata": {},
   "outputs": [
    {
     "name": "stdout",
     "output_type": "stream",
     "text": [
      "MAP@ 5: 0.000642\n"
     ]
    }
   ],
   "source": [
    "avaliacaoMAP(False,top_k=5)"
   ]
  },
  {
   "cell_type": "code",
   "execution_count": 239,
   "id": "ff4d4d0d",
   "metadata": {},
   "outputs": [
    {
     "name": "stdout",
     "output_type": "stream",
     "text": [
      "MAP@ 10: 0.000360\n"
     ]
    }
   ],
   "source": [
    "avaliacaoMAP(False,top_k=10)"
   ]
  },
  {
   "cell_type": "code",
   "execution_count": 240,
   "id": "f4413c0c",
   "metadata": {},
   "outputs": [
    {
     "name": "stdout",
     "output_type": "stream",
     "text": [
      "MAP@ 20: 0.000267\n"
     ]
    }
   ],
   "source": [
    "avaliacaoMAP(False,top_k=20)"
   ]
  },
  {
   "cell_type": "markdown",
   "id": "fbbc0eb2",
   "metadata": {},
   "source": [
    "### Precision"
   ]
  },
  {
   "cell_type": "code",
   "execution_count": 241,
   "id": "1dddf7bf",
   "metadata": {},
   "outputs": [
    {
     "name": "stdout",
     "output_type": "stream",
     "text": [
      "Precision: 0.05016949152542366\n"
     ]
    }
   ],
   "source": [
    "avaliacaoPrecision(False,top_k=5)"
   ]
  },
  {
   "cell_type": "code",
   "execution_count": 242,
   "id": "70a6c17d",
   "metadata": {},
   "outputs": [
    {
     "name": "stdout",
     "output_type": "stream",
     "text": [
      "Precision: 0.029152542372881306\n"
     ]
    }
   ],
   "source": [
    "avaliacaoPrecision(False,top_k=10)"
   ]
  },
  {
   "cell_type": "code",
   "execution_count": 243,
   "id": "08d28865",
   "metadata": {},
   "outputs": [
    {
     "name": "stdout",
     "output_type": "stream",
     "text": [
      "Precision: 0.017288135593220306\n"
     ]
    }
   ],
   "source": [
    "avaliacaoPrecision(False,top_k=20)"
   ]
  },
  {
   "cell_type": "markdown",
   "id": "a10dac20",
   "metadata": {},
   "source": [
    "### RR"
   ]
  },
  {
   "cell_type": "code",
   "execution_count": 244,
   "id": "e2e47e2d",
   "metadata": {},
   "outputs": [
    {
     "name": "stdout",
     "output_type": "stream",
     "text": [
      "RR: 0.162712\n"
     ]
    }
   ],
   "source": [
    "avaliacaoRR(False)"
   ]
  },
  {
   "cell_type": "markdown",
   "id": "be3a1d23",
   "metadata": {},
   "source": [
    "## Config 5"
   ]
  },
  {
   "cell_type": "code",
   "execution_count": 245,
   "id": "9c23c55c",
   "metadata": {},
   "outputs": [],
   "source": [
    "def _remove_acentos(txt):\n",
    "    return normalize('NFKD', txt).encode('ASCII', 'ignore').decode('ASCII')\n",
    "\n",
    "def preprocess(txt):\n",
    "    txt = str(txt)\n",
    "    txt = _remove_acentos(txt)\n",
    "    stopwords = nltk.corpus.stopwords.words(\"portuguese\")\n",
    "    stopwords.extend(list(punctuation))\n",
    "    tokenizer = RegexpTokenizer('\\w+')\n",
    "    terms = tokenizer.tokenize(txt.lower())\n",
    "    terms = [word for word in terms if word not in stopwords]\n",
    "\n",
    "    return \" \".join(terms)"
   ]
  },
  {
   "cell_type": "code",
   "execution_count": 246,
   "id": "d43b9408",
   "metadata": {},
   "outputs": [],
   "source": [
    "data_preprocess = Parallel(n_jobs=4)(delayed(preprocess)(doc) for doc in data)"
   ]
  },
  {
   "cell_type": "code",
   "execution_count": 247,
   "id": "69395878",
   "metadata": {},
   "outputs": [],
   "source": [
    "a = time.time()"
   ]
  },
  {
   "cell_type": "code",
   "execution_count": 248,
   "id": "a9160763",
   "metadata": {},
   "outputs": [],
   "source": [
    "data_emb = model.encode(data,convert_to_tensor=True,device=device_gpu)"
   ]
  },
  {
   "cell_type": "code",
   "execution_count": 249,
   "id": "3c1de0a4",
   "metadata": {},
   "outputs": [],
   "source": [
    "d = time.time()"
   ]
  },
  {
   "cell_type": "code",
   "execution_count": 250,
   "id": "2740df71",
   "metadata": {},
   "outputs": [
    {
     "name": "stdout",
     "output_type": "stream",
     "text": [
      "Duração da indexação: 894.737002\n"
     ]
    }
   ],
   "source": [
    "print(\"Duração da indexação: %f\" % (d-a))"
   ]
  },
  {
   "cell_type": "markdown",
   "id": "0e20d374",
   "metadata": {},
   "source": [
    "## Avaliação"
   ]
  },
  {
   "cell_type": "markdown",
   "id": "f143b5b7",
   "metadata": {},
   "source": [
    "### Recall"
   ]
  },
  {
   "cell_type": "code",
   "execution_count": 251,
   "id": "297e8b57",
   "metadata": {},
   "outputs": [
    {
     "name": "stdout",
     "output_type": "stream",
     "text": [
      "Duração: 28.082002\n",
      "Recall: 0.2135593220338983\n"
     ]
    }
   ],
   "source": [
    "avaliacaoRecall(True,top_k=5)"
   ]
  },
  {
   "cell_type": "code",
   "execution_count": 252,
   "id": "1cc2e2d4",
   "metadata": {},
   "outputs": [
    {
     "name": "stdout",
     "output_type": "stream",
     "text": [
      "Duração: 25.989999\n",
      "Recall: 0.2677966101694915\n"
     ]
    }
   ],
   "source": [
    "avaliacaoRecall(True,top_k=10)"
   ]
  },
  {
   "cell_type": "code",
   "execution_count": 253,
   "id": "78c7bede",
   "metadata": {},
   "outputs": [
    {
     "name": "stdout",
     "output_type": "stream",
     "text": [
      "Duração: 29.313998\n",
      "Recall: 0.3220338983050847\n"
     ]
    }
   ],
   "source": [
    "avaliacaoRecall(True,top_k=20)"
   ]
  },
  {
   "cell_type": "markdown",
   "id": "3c80a973",
   "metadata": {},
   "source": [
    "### MAP"
   ]
  },
  {
   "cell_type": "code",
   "execution_count": 254,
   "id": "ca987c0f",
   "metadata": {},
   "outputs": [
    {
     "name": "stdout",
     "output_type": "stream",
     "text": [
      "MAP@ 5: 0.000630\n"
     ]
    }
   ],
   "source": [
    "avaliacaoMAP(True,top_k=5)"
   ]
  },
  {
   "cell_type": "code",
   "execution_count": 255,
   "id": "74853cb2",
   "metadata": {},
   "outputs": [
    {
     "name": "stdout",
     "output_type": "stream",
     "text": [
      "MAP@ 10: 0.000381\n"
     ]
    }
   ],
   "source": [
    "avaliacaoMAP(True,top_k=10)"
   ]
  },
  {
   "cell_type": "code",
   "execution_count": 256,
   "id": "81dd81d6",
   "metadata": {},
   "outputs": [
    {
     "name": "stdout",
     "output_type": "stream",
     "text": [
      "MAP@ 20: 0.000300\n"
     ]
    }
   ],
   "source": [
    "avaliacaoMAP(True,top_k=20)"
   ]
  },
  {
   "cell_type": "markdown",
   "id": "c71eb13c",
   "metadata": {},
   "source": [
    "### Precision"
   ]
  },
  {
   "cell_type": "code",
   "execution_count": 257,
   "id": "aa8a810c",
   "metadata": {},
   "outputs": [
    {
     "name": "stdout",
     "output_type": "stream",
     "text": [
      "Precision: 0.04271186440677962\n"
     ]
    }
   ],
   "source": [
    "avaliacaoPrecision(True,top_k=5)"
   ]
  },
  {
   "cell_type": "code",
   "execution_count": 258,
   "id": "4872bf71",
   "metadata": {},
   "outputs": [
    {
     "name": "stdout",
     "output_type": "stream",
     "text": [
      "Precision: 0.026779661016949112\n"
     ]
    }
   ],
   "source": [
    "avaliacaoPrecision(True,top_k=10)"
   ]
  },
  {
   "cell_type": "code",
   "execution_count": 259,
   "id": "96b6a0fd",
   "metadata": {},
   "outputs": [
    {
     "name": "stdout",
     "output_type": "stream",
     "text": [
      "Precision: 0.016101694915254205\n"
     ]
    }
   ],
   "source": [
    "avaliacaoPrecision(True,top_k=20)"
   ]
  },
  {
   "cell_type": "markdown",
   "id": "4023d58e",
   "metadata": {},
   "source": [
    "### RR"
   ]
  },
  {
   "cell_type": "code",
   "execution_count": 260,
   "id": "64a19bb2",
   "metadata": {},
   "outputs": [
    {
     "name": "stdout",
     "output_type": "stream",
     "text": [
      "RR: 0.118644\n"
     ]
    }
   ],
   "source": [
    "avaliacaoRR(True)"
   ]
  },
  {
   "cell_type": "markdown",
   "id": "b10bd869",
   "metadata": {},
   "source": [
    "## Config 0"
   ]
  },
  {
   "cell_type": "code",
   "execution_count": 261,
   "id": "e1e0f322",
   "metadata": {},
   "outputs": [],
   "source": [
    "def preprocess(txt):\n",
    "    txt = str(txt)\n",
    "    \n",
    "    stopwords = nltk.corpus.stopwords.words(\"portuguese\")\n",
    "   \n",
    "    terms = word_tokenize(txt)\n",
    "    terms = [word for word in terms if word not in stopwords]\n",
    "        \n",
    "    return \" \".join(terms)"
   ]
  },
  {
   "cell_type": "code",
   "execution_count": 262,
   "id": "b23b2c2a",
   "metadata": {},
   "outputs": [],
   "source": [
    "data_preprocess = Parallel(n_jobs=4)(delayed(preprocess)(doc) for doc in data)"
   ]
  },
  {
   "cell_type": "code",
   "execution_count": 263,
   "id": "624c8ead",
   "metadata": {},
   "outputs": [],
   "source": [
    "a = time.time()"
   ]
  },
  {
   "cell_type": "code",
   "execution_count": 264,
   "id": "f831bbca",
   "metadata": {},
   "outputs": [],
   "source": [
    "data_emb = model.encode(data,convert_to_tensor=True,device=device_gpu)"
   ]
  },
  {
   "cell_type": "code",
   "execution_count": 265,
   "id": "326c4c3c",
   "metadata": {},
   "outputs": [],
   "source": [
    "d = time.time()"
   ]
  },
  {
   "cell_type": "code",
   "execution_count": 266,
   "id": "f18172a5",
   "metadata": {},
   "outputs": [
    {
     "name": "stdout",
     "output_type": "stream",
     "text": [
      "Duração da indexação: 899.935999\n"
     ]
    }
   ],
   "source": [
    "print(\"Duração da indexação: %f\" % (d-a))"
   ]
  },
  {
   "cell_type": "markdown",
   "id": "948052ec",
   "metadata": {},
   "source": [
    "## Avaliação"
   ]
  },
  {
   "cell_type": "markdown",
   "id": "3c1ac6a2",
   "metadata": {},
   "source": [
    "### Recall"
   ]
  },
  {
   "cell_type": "code",
   "execution_count": 267,
   "id": "2ce282a3",
   "metadata": {},
   "outputs": [
    {
     "name": "stdout",
     "output_type": "stream",
     "text": [
      "Duração: 25.925002\n",
      "Recall: 0.2576271186440678\n"
     ]
    }
   ],
   "source": [
    "avaliacaoRecall(True,top_k=5)"
   ]
  },
  {
   "cell_type": "code",
   "execution_count": 268,
   "id": "96270c6a",
   "metadata": {},
   "outputs": [
    {
     "name": "stdout",
     "output_type": "stream",
     "text": [
      "Duração: 29.060002\n",
      "Recall: 0.30847457627118646\n"
     ]
    }
   ],
   "source": [
    "avaliacaoRecall(True,top_k=10)"
   ]
  },
  {
   "cell_type": "code",
   "execution_count": 269,
   "id": "59fa020f",
   "metadata": {},
   "outputs": [
    {
     "name": "stdout",
     "output_type": "stream",
     "text": [
      "Duração: 26.565998\n",
      "Recall: 0.34576271186440677\n"
     ]
    }
   ],
   "source": [
    "avaliacaoRecall(True,top_k=20)"
   ]
  },
  {
   "cell_type": "markdown",
   "id": "cadf6eb4",
   "metadata": {},
   "source": [
    "### MAP"
   ]
  },
  {
   "cell_type": "code",
   "execution_count": 270,
   "id": "2135868d",
   "metadata": {},
   "outputs": [
    {
     "name": "stdout",
     "output_type": "stream",
     "text": [
      "MAP@ 5: 0.000612\n"
     ]
    }
   ],
   "source": [
    "avaliacaoMAP(True,top_k=5)"
   ]
  },
  {
   "cell_type": "code",
   "execution_count": 271,
   "id": "8468b902",
   "metadata": {},
   "outputs": [
    {
     "name": "stdout",
     "output_type": "stream",
     "text": [
      "MAP@ 10: 0.000362\n"
     ]
    }
   ],
   "source": [
    "avaliacaoMAP(True,top_k=10)"
   ]
  },
  {
   "cell_type": "code",
   "execution_count": 272,
   "id": "0631ce9e",
   "metadata": {},
   "outputs": [
    {
     "name": "stdout",
     "output_type": "stream",
     "text": [
      "MAP@ 20: 0.000257\n"
     ]
    }
   ],
   "source": [
    "avaliacaoMAP(True,top_k=20)"
   ]
  },
  {
   "cell_type": "markdown",
   "id": "d5e4b630",
   "metadata": {},
   "source": [
    "### Precision"
   ]
  },
  {
   "cell_type": "code",
   "execution_count": 273,
   "id": "594704e9",
   "metadata": {},
   "outputs": [
    {
     "name": "stdout",
     "output_type": "stream",
     "text": [
      "Precision: 0.05152542372881348\n"
     ]
    }
   ],
   "source": [
    "avaliacaoPrecision(True,top_k=5)"
   ]
  },
  {
   "cell_type": "code",
   "execution_count": 274,
   "id": "19e38a95",
   "metadata": {},
   "outputs": [
    {
     "name": "stdout",
     "output_type": "stream",
     "text": [
      "Precision: 0.030847457627118588\n"
     ]
    }
   ],
   "source": [
    "avaliacaoPrecision(True,top_k=10)"
   ]
  },
  {
   "cell_type": "code",
   "execution_count": 275,
   "id": "20718cd9",
   "metadata": {},
   "outputs": [
    {
     "name": "stdout",
     "output_type": "stream",
     "text": [
      "Precision: 0.017288135593220306\n"
     ]
    }
   ],
   "source": [
    "avaliacaoPrecision(True,top_k=20)"
   ]
  },
  {
   "cell_type": "markdown",
   "id": "6b0c6978",
   "metadata": {},
   "source": [
    "### RR"
   ]
  },
  {
   "cell_type": "code",
   "execution_count": 276,
   "id": "02cd0ae0",
   "metadata": {},
   "outputs": [
    {
     "name": "stdout",
     "output_type": "stream",
     "text": [
      "RR: 0.152542\n"
     ]
    }
   ],
   "source": [
    "avaliacaoRR(True)"
   ]
  }
 ],
 "metadata": {
  "kernelspec": {
   "display_name": "Python 3 (ipykernel)",
   "language": "python",
   "name": "python3"
  },
  "language_info": {
   "codemirror_mode": {
    "name": "ipython",
    "version": 3
   },
   "file_extension": ".py",
   "mimetype": "text/x-python",
   "name": "python",
   "nbconvert_exporter": "python",
   "pygments_lexer": "ipython3",
   "version": "3.8.7"
  }
 },
 "nbformat": 4,
 "nbformat_minor": 5
}
