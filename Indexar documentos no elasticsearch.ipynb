{
 "cells": [
  {
   "cell_type": "code",
   "execution_count": 7,
   "id": "76898d48",
   "metadata": {},
   "outputs": [],
   "source": [
    "from haystack.document_stores import ElasticsearchDocumentStore\n",
    "import pandas as pd\n",
    "import time"
   ]
  },
  {
   "cell_type": "markdown",
   "id": "ddabad7a",
   "metadata": {},
   "source": [
    "# ImgTeorPDF"
   ]
  },
  {
   "cell_type": "markdown",
   "id": "36876368",
   "metadata": {},
   "source": [
    "## config 1"
   ]
  },
  {
   "cell_type": "code",
   "execution_count": 8,
   "id": "6dc6c14b",
   "metadata": {},
   "outputs": [
    {
     "name": "stderr",
     "output_type": "stream",
     "text": [
      "This ElasticsearchDocumentStore has been built for Elasticsearch 7, but the detected version of the Elasticsearch server is 8.8.2. Unexpected behaviors or errors may occur due to version incompatibility.\n"
     ]
    }
   ],
   "source": [
    "document_store = ElasticsearchDocumentStore(host='localhost', port=9200, username='elastic', password='TlHbFKwz9YMAprROSrgA', index='sem_preprocessamento_img',search_fields=[\"content\",\"name\"])"
   ]
  },
  {
   "cell_type": "code",
   "execution_count": 9,
   "id": "5d5b432a",
   "metadata": {},
   "outputs": [
    {
     "name": "stdout",
     "output_type": "stream",
     "text": [
      "Carragou dataframe\n"
     ]
    }
   ],
   "source": [
    "dados = pd.read_json(r\"E:\\Corpora_em_json\\sem_pre_processamento\\sem_pre_processamento.json\")\n",
    "dados.update(dados['contents'].fillna(\"Nenhum\"))\n",
    "\n",
    "print(\"Carragou dataframe\")\n"
   ]
  },
  {
   "cell_type": "code",
   "execution_count": 10,
   "id": "101669f0",
   "metadata": {},
   "outputs": [
    {
     "name": "stdout",
     "output_type": "stream",
     "text": [
      "Já processou, vai indexar..\n"
     ]
    }
   ],
   "source": [
    "dados = [\n",
    "    {\n",
    "            \"content\": dados.loc[i,\"contents\"],\n",
    "            \"name\":dados.loc[i,\"txtNome\"]\n",
    "\n",
    "    }\n",
    "   for i in range(len(dados))\n",
    "    ]\n",
    "print(\"Já processou, vai indexar..\")\n"
   ]
  },
  {
   "cell_type": "code",
   "execution_count": 11,
   "id": "5a50f8a3",
   "metadata": {},
   "outputs": [],
   "source": [
    "a = time.time()"
   ]
  },
  {
   "cell_type": "code",
   "execution_count": 12,
   "id": "378f9233",
   "metadata": {},
   "outputs": [],
   "source": [
    "document_store.write_documents(dados,batch_size=9000)"
   ]
  },
  {
   "cell_type": "code",
   "execution_count": 13,
   "id": "309e0bfd",
   "metadata": {},
   "outputs": [],
   "source": [
    "d = time.time()"
   ]
  },
  {
   "cell_type": "code",
   "execution_count": 14,
   "id": "799d02f8",
   "metadata": {},
   "outputs": [
    {
     "name": "stdout",
     "output_type": "stream",
     "text": [
      "Duração indexação: 221.955654\n"
     ]
    }
   ],
   "source": [
    "print(\"Duração indexação: %f\" %(d-a))"
   ]
  },
  {
   "cell_type": "markdown",
   "id": "1f4bee34",
   "metadata": {},
   "source": [
    "## config 5"
   ]
  },
  {
   "cell_type": "code",
   "execution_count": 15,
   "id": "0f78fa6b",
   "metadata": {},
   "outputs": [
    {
     "name": "stderr",
     "output_type": "stream",
     "text": [
      "This ElasticsearchDocumentStore has been built for Elasticsearch 7, but the detected version of the Elasticsearch server is 8.8.2. Unexpected behaviors or errors may occur due to version incompatibility.\n"
     ]
    }
   ],
   "source": [
    "document_store = ElasticsearchDocumentStore(host='localhost', port=9200, username='elastic', password='TlHbFKwz9YMAprROSrgA', index='preprocessamento_5_img',search_fields=[\"content\",\"name\"])"
   ]
  },
  {
   "cell_type": "code",
   "execution_count": 16,
   "id": "3b70a007",
   "metadata": {},
   "outputs": [
    {
     "name": "stdout",
     "output_type": "stream",
     "text": [
      "Carragou dataframe\n"
     ]
    }
   ],
   "source": [
    "dados = pd.read_json(r\"E:\\Corpora_em_json\\lower_remocao_punctuation_acentuacao_stopwords\\pre_processamento_lower_remocao_punctuation_acentuacao_stopwords.json\")\n",
    "dados.update(dados['contents'].fillna(\"Nenhum\"))\n",
    "\n",
    "print(\"Carragou dataframe\")\n"
   ]
  },
  {
   "cell_type": "code",
   "execution_count": 17,
   "id": "3b1e11ed",
   "metadata": {},
   "outputs": [
    {
     "name": "stdout",
     "output_type": "stream",
     "text": [
      "Já processou, vai indexar..\n"
     ]
    }
   ],
   "source": [
    "dados = [\n",
    "    {\n",
    "            \"content\": dados.loc[i,\"contents\"],\n",
    "            \"name\":dados.loc[i,\"txtNome\"]\n",
    "\n",
    "    }\n",
    "   for i in range(len(dados))\n",
    "    ]\n",
    "print(\"Já processou, vai indexar..\")\n"
   ]
  },
  {
   "cell_type": "code",
   "execution_count": 18,
   "id": "50fec6b5",
   "metadata": {},
   "outputs": [],
   "source": [
    "a = time.time()"
   ]
  },
  {
   "cell_type": "code",
   "execution_count": 19,
   "id": "7ee46fec",
   "metadata": {},
   "outputs": [],
   "source": [
    "document_store.write_documents(dados,batch_size=9000)"
   ]
  },
  {
   "cell_type": "code",
   "execution_count": 20,
   "id": "94219779",
   "metadata": {},
   "outputs": [],
   "source": [
    "d = time.time()"
   ]
  },
  {
   "cell_type": "code",
   "execution_count": 21,
   "id": "8b7e8a40",
   "metadata": {},
   "outputs": [
    {
     "name": "stdout",
     "output_type": "stream",
     "text": [
      "Duração indexação: 197.912580\n"
     ]
    }
   ],
   "source": [
    "print(\"Duração indexação: %f\" %(d-a))"
   ]
  },
  {
   "cell_type": "markdown",
   "id": "901f4aef",
   "metadata": {},
   "source": [
    "## config 8"
   ]
  },
  {
   "cell_type": "code",
   "execution_count": 22,
   "id": "e4c33fe0",
   "metadata": {},
   "outputs": [
    {
     "name": "stderr",
     "output_type": "stream",
     "text": [
      "This ElasticsearchDocumentStore has been built for Elasticsearch 7, but the detected version of the Elasticsearch server is 8.8.2. Unexpected behaviors or errors may occur due to version incompatibility.\n"
     ]
    }
   ],
   "source": [
    "document_store = ElasticsearchDocumentStore(host='localhost', port=9200, username='elastic', password='TlHbFKwz9YMAprROSrgA', index='preprocessamento_8_img',search_fields=[\"content\",\"name\"])"
   ]
  },
  {
   "cell_type": "code",
   "execution_count": 23,
   "id": "5edcb0f3",
   "metadata": {},
   "outputs": [
    {
     "name": "stdout",
     "output_type": "stream",
     "text": [
      "Carragou dataframe\n"
     ]
    }
   ],
   "source": [
    "dados = pd.read_json(r\"E:\\Corpora_em_json\\rslp_full\\pre_processamento_rslp_full.json\")\n",
    "dados.update(dados['contents'].fillna(\"Nenhum\"))\n",
    "\n",
    "print(\"Carragou dataframe\")\n"
   ]
  },
  {
   "cell_type": "code",
   "execution_count": 24,
   "id": "6b3f9660",
   "metadata": {},
   "outputs": [
    {
     "name": "stdout",
     "output_type": "stream",
     "text": [
      "Já processou, vai indexar..\n"
     ]
    }
   ],
   "source": [
    "dados = [\n",
    "    {\n",
    "            \"content\": dados.loc[i,\"contents\"],\n",
    "            \"name\":dados.loc[i,\"txtNome\"]\n",
    "\n",
    "    }\n",
    "   for i in range(len(dados))\n",
    "    ]\n",
    "print(\"Já processou, vai indexar..\")\n"
   ]
  },
  {
   "cell_type": "code",
   "execution_count": 25,
   "id": "d92ead01",
   "metadata": {},
   "outputs": [],
   "source": [
    "a = time.time()"
   ]
  },
  {
   "cell_type": "code",
   "execution_count": 26,
   "id": "14fabf81",
   "metadata": {},
   "outputs": [],
   "source": [
    "document_store.write_documents(dados,batch_size=9000)"
   ]
  },
  {
   "cell_type": "code",
   "execution_count": 27,
   "id": "633b5e68",
   "metadata": {},
   "outputs": [],
   "source": [
    "d = time.time()"
   ]
  },
  {
   "cell_type": "code",
   "execution_count": 28,
   "id": "2d036339",
   "metadata": {},
   "outputs": [
    {
     "name": "stdout",
     "output_type": "stream",
     "text": [
      "Duração indexação: 181.572082\n"
     ]
    }
   ],
   "source": [
    "print(\"Duração indexação: %f\" %(d-a))"
   ]
  },
  {
   "cell_type": "markdown",
   "id": "f90bb96a",
   "metadata": {},
   "source": [
    "## config 9"
   ]
  },
  {
   "cell_type": "code",
   "execution_count": 29,
   "id": "c35eff00",
   "metadata": {},
   "outputs": [
    {
     "name": "stderr",
     "output_type": "stream",
     "text": [
      "This ElasticsearchDocumentStore has been built for Elasticsearch 7, but the detected version of the Elasticsearch server is 8.8.2. Unexpected behaviors or errors may occur due to version incompatibility.\n"
     ]
    }
   ],
   "source": [
    "document_store = ElasticsearchDocumentStore(host='localhost', port=9200, username='elastic', password='TlHbFKwz9YMAprROSrgA', index='preprocessamento_9_img',search_fields=[\"content\",\"name\"])"
   ]
  },
  {
   "cell_type": "code",
   "execution_count": 30,
   "id": "dc6e2d25",
   "metadata": {},
   "outputs": [
    {
     "name": "stdout",
     "output_type": "stream",
     "text": [
      "Carragou dataframe\n"
     ]
    }
   ],
   "source": [
    "dados = pd.read_json(r\"E:\\Corpora_em_json\\savoy_full\\pre_processamento_savoy_full.json\")\n",
    "dados.update(dados['contents'].fillna(\"Nenhum\"))\n",
    "\n",
    "print(\"Carragou dataframe\")\n"
   ]
  },
  {
   "cell_type": "code",
   "execution_count": 31,
   "id": "bf5a44c3",
   "metadata": {},
   "outputs": [
    {
     "name": "stdout",
     "output_type": "stream",
     "text": [
      "Já processou, vai indexar..\n"
     ]
    }
   ],
   "source": [
    "dados = [\n",
    "    {\n",
    "            \"content\": dados.loc[i,\"contents\"],\n",
    "            \"name\":dados.loc[i,\"txtNome\"]\n",
    "\n",
    "    }\n",
    "   for i in range(len(dados))\n",
    "    ]\n",
    "print(\"Já processou, vai indexar..\")\n"
   ]
  },
  {
   "cell_type": "code",
   "execution_count": 32,
   "id": "2fad207e",
   "metadata": {},
   "outputs": [],
   "source": [
    "a = time.time()"
   ]
  },
  {
   "cell_type": "code",
   "execution_count": 33,
   "id": "2107b619",
   "metadata": {},
   "outputs": [],
   "source": [
    "document_store.write_documents(dados,batch_size=9000)"
   ]
  },
  {
   "cell_type": "code",
   "execution_count": 34,
   "id": "bdad2eef",
   "metadata": {},
   "outputs": [],
   "source": [
    "d = time.time()"
   ]
  },
  {
   "cell_type": "code",
   "execution_count": 35,
   "id": "5351072f",
   "metadata": {},
   "outputs": [
    {
     "name": "stdout",
     "output_type": "stream",
     "text": [
      "Duração indexação: 190.544920\n"
     ]
    }
   ],
   "source": [
    "print(\"Duração indexação: %f\" %(d-a))"
   ]
  },
  {
   "cell_type": "markdown",
   "id": "121851ed",
   "metadata": {},
   "source": [
    "## config 18"
   ]
  },
  {
   "cell_type": "code",
   "execution_count": 268,
   "id": "4eae350c",
   "metadata": {},
   "outputs": [
    {
     "name": "stderr",
     "output_type": "stream",
     "text": [
      "This ElasticsearchDocumentStore has been built for Elasticsearch 7, but the detected version of the Elasticsearch server is 8.8.2. Unexpected behaviors or errors may occur due to version incompatibility.\n"
     ]
    }
   ],
   "source": [
    "document_store = ElasticsearchDocumentStore(host='localhost', port=9200, username='elastic', password='TlHbFKwz9YMAprROSrgA', index='preprocessamento_18_img',search_fields=[\"content\",\"name\"])"
   ]
  },
  {
   "cell_type": "code",
   "execution_count": 269,
   "id": "a06f06a5",
   "metadata": {},
   "outputs": [
    {
     "name": "stdout",
     "output_type": "stream",
     "text": [
      "Carragou dataframe\n"
     ]
    }
   ],
   "source": [
    "dados = pd.read_json(r\"E:\\Corpora_em_json\\unigram_bigram_rslp_full\\pre_processamento_unigram_bigram_rslp_full1.json\")\n",
    "dados.update(dados['contents'].fillna(\"Nenhum\"))\n",
    "\n",
    "print(\"Carragou dataframe\")\n"
   ]
  },
  {
   "cell_type": "code",
   "execution_count": 270,
   "id": "72835eba",
   "metadata": {},
   "outputs": [
    {
     "data": {
      "text/html": [
       "<div>\n",
       "<style scoped>\n",
       "    .dataframe tbody tr th:only-of-type {\n",
       "        vertical-align: middle;\n",
       "    }\n",
       "\n",
       "    .dataframe tbody tr th {\n",
       "        vertical-align: top;\n",
       "    }\n",
       "\n",
       "    .dataframe thead th {\n",
       "        text-align: right;\n",
       "    }\n",
       "</style>\n",
       "<table border=\"1\" class=\"dataframe\">\n",
       "  <thead>\n",
       "    <tr style=\"text-align: right;\">\n",
       "      <th></th>\n",
       "      <th>txtNome</th>\n",
       "      <th>contents</th>\n",
       "      <th>id</th>\n",
       "    </tr>\n",
       "  </thead>\n",
       "  <tbody>\n",
       "    <tr>\n",
       "      <th>0</th>\n",
       "      <td>PL 1165/1999</td>\n",
       "      <td>ofici 1416 sf brasil 17 julh 2009 excelenc sen...</td>\n",
       "      <td>0</td>\n",
       "    </tr>\n",
       "    <tr>\n",
       "      <th>1</th>\n",
       "      <td>PL 3097/1992</td>\n",
       "      <td>comissa constituica jus redaca projet lei 3 09...</td>\n",
       "      <td>1</td>\n",
       "    </tr>\n",
       "    <tr>\n",
       "      <th>2</th>\n",
       "      <td>PL 3927/2000</td>\n",
       "      <td>comissa trabalh administraca serv publ projet ...</td>\n",
       "      <td>2</td>\n",
       "    </tr>\n",
       "    <tr>\n",
       "      <th>3</th>\n",
       "      <td>PL 4117/1998</td>\n",
       "      <td>cam deput departament comisso coordenaca comis...</td>\n",
       "      <td>3</td>\n",
       "    </tr>\n",
       "    <tr>\n",
       "      <th>4</th>\n",
       "      <td>PL 4395/1998</td>\n",
       "      <td>1 comissa constituica jus redaca projet lei 4 ...</td>\n",
       "      <td>4</td>\n",
       "    </tr>\n",
       "    <tr>\n",
       "      <th>...</th>\n",
       "      <td>...</td>\n",
       "      <td>...</td>\n",
       "      <td>...</td>\n",
       "    </tr>\n",
       "    <tr>\n",
       "      <th>57104</th>\n",
       "      <td>PL 2233/2023</td>\n",
       "      <td>1 cam deput projet lei 2023 sr alfred gasp alt...</td>\n",
       "      <td>57104</td>\n",
       "    </tr>\n",
       "    <tr>\n",
       "      <th>57105</th>\n",
       "      <td>PL 3616/2019</td>\n",
       "      <td>alt lei 9 503 23 setembr 1997 codig transit br...</td>\n",
       "      <td>57105</td>\n",
       "    </tr>\n",
       "    <tr>\n",
       "      <th>57106</th>\n",
       "      <td>PL 1822/2019</td>\n",
       "      <td>alt lei 11 340 7 agost 2006 lei mar penh deter...</td>\n",
       "      <td>57106</td>\n",
       "    </tr>\n",
       "    <tr>\n",
       "      <th>57107</th>\n",
       "      <td>PL 3815/2019</td>\n",
       "      <td>alt lei 7 565 19 dezembr 1986 codig brasil aer...</td>\n",
       "      <td>57107</td>\n",
       "    </tr>\n",
       "    <tr>\n",
       "      <th>57108</th>\n",
       "      <td>PL 3130/2019</td>\n",
       "      <td>alt lei 13 675 11 junh 2018 prev obje red naci...</td>\n",
       "      <td>57108</td>\n",
       "    </tr>\n",
       "  </tbody>\n",
       "</table>\n",
       "<p>57109 rows × 3 columns</p>\n",
       "</div>"
      ],
      "text/plain": [
       "            txtNome                                           contents     id\n",
       "0      PL 1165/1999  ofici 1416 sf brasil 17 julh 2009 excelenc sen...      0\n",
       "1      PL 3097/1992  comissa constituica jus redaca projet lei 3 09...      1\n",
       "2      PL 3927/2000  comissa trabalh administraca serv publ projet ...      2\n",
       "3      PL 4117/1998  cam deput departament comisso coordenaca comis...      3\n",
       "4      PL 4395/1998  1 comissa constituica jus redaca projet lei 4 ...      4\n",
       "...             ...                                                ...    ...\n",
       "57104  PL 2233/2023  1 cam deput projet lei 2023 sr alfred gasp alt...  57104\n",
       "57105  PL 3616/2019  alt lei 9 503 23 setembr 1997 codig transit br...  57105\n",
       "57106  PL 1822/2019  alt lei 11 340 7 agost 2006 lei mar penh deter...  57106\n",
       "57107  PL 3815/2019  alt lei 7 565 19 dezembr 1986 codig brasil aer...  57107\n",
       "57108  PL 3130/2019  alt lei 13 675 11 junh 2018 prev obje red naci...  57108\n",
       "\n",
       "[57109 rows x 3 columns]"
      ]
     },
     "execution_count": 270,
     "metadata": {},
     "output_type": "execute_result"
    }
   ],
   "source": [
    "dados"
   ]
  },
  {
   "cell_type": "code",
   "execution_count": 241,
   "id": "b31c2931",
   "metadata": {},
   "outputs": [
    {
     "name": "stdout",
     "output_type": "stream",
     "text": [
      "Já processou, vai indexar..\n"
     ]
    }
   ],
   "source": [
    "dados = [\n",
    "    {\n",
    "            \"content\": dados.loc[i,\"contents\"],\n",
    "            \"name\":dados.loc[i,\"txtNome\"]\n",
    "\n",
    "    }\n",
    "   for i in range(len(dados))\n",
    "    ]\n",
    "print(\"Já processou, vai indexar..\")\n"
   ]
  },
  {
   "cell_type": "code",
   "execution_count": 242,
   "id": "558f6a38",
   "metadata": {},
   "outputs": [],
   "source": [
    "a = time.time()"
   ]
  },
  {
   "cell_type": "code",
   "execution_count": 243,
   "id": "0f6b52ee",
   "metadata": {},
   "outputs": [],
   "source": [
    "document_store.write_documents(dados,batch_size=9000)"
   ]
  },
  {
   "cell_type": "code",
   "execution_count": 244,
   "id": "6418f819",
   "metadata": {},
   "outputs": [],
   "source": [
    "d = time.time()"
   ]
  },
  {
   "cell_type": "code",
   "execution_count": 245,
   "id": "96c76538",
   "metadata": {},
   "outputs": [
    {
     "name": "stdout",
     "output_type": "stream",
     "text": [
      "Duração indexação: 297.254138\n"
     ]
    }
   ],
   "source": [
    "print(\"Duração indexação: %f\" %(d-a))"
   ]
  },
  {
   "cell_type": "markdown",
   "id": "e9f8823e",
   "metadata": {},
   "source": [
    "## config 21"
   ]
  },
  {
   "cell_type": "code",
   "execution_count": 246,
   "id": "38d8db90",
   "metadata": {},
   "outputs": [
    {
     "name": "stderr",
     "output_type": "stream",
     "text": [
      "This ElasticsearchDocumentStore has been built for Elasticsearch 7, but the detected version of the Elasticsearch server is 8.8.2. Unexpected behaviors or errors may occur due to version incompatibility.\n"
     ]
    }
   ],
   "source": [
    "document_store = ElasticsearchDocumentStore(host='localhost', port=9200, username='elastic', password='TlHbFKwz9YMAprROSrgA', index='preprocessamento_21_img',search_fields=[\"content\",\"name\"])"
   ]
  },
  {
   "cell_type": "code",
   "execution_count": 247,
   "id": "bc1d57f5",
   "metadata": {},
   "outputs": [
    {
     "name": "stdout",
     "output_type": "stream",
     "text": [
      "Carragou dataframe\n"
     ]
    }
   ],
   "source": [
    "dados = pd.read_json(r\"E:\\Corpora_em_json\\unigram_bigram_savoy_full\\pre_processamento_unigram_bigram_savoy_full.json\")\n",
    "dados.update(dados['contents'].fillna(\"Nenhum\"))\n",
    "\n",
    "print(\"Carragou dataframe\")\n"
   ]
  },
  {
   "cell_type": "code",
   "execution_count": 248,
   "id": "eeaa6e21",
   "metadata": {},
   "outputs": [
    {
     "name": "stdout",
     "output_type": "stream",
     "text": [
      "Já processou, vai indexar..\n"
     ]
    }
   ],
   "source": [
    "dados = [\n",
    "    {\n",
    "            \"content\": dados.loc[i,\"contents\"],\n",
    "            \"name\":dados.loc[i,\"txtNome\"]\n",
    "\n",
    "    }\n",
    "   for i in range(len(dados))\n",
    "    ]\n",
    "print(\"Já processou, vai indexar..\")\n"
   ]
  },
  {
   "cell_type": "code",
   "execution_count": 249,
   "id": "68bf7aab",
   "metadata": {},
   "outputs": [],
   "source": [
    "a = time.time()"
   ]
  },
  {
   "cell_type": "code",
   "execution_count": 250,
   "id": "57ff749f",
   "metadata": {},
   "outputs": [],
   "source": [
    "document_store.write_documents(dados,batch_size=9000)"
   ]
  },
  {
   "cell_type": "code",
   "execution_count": 251,
   "id": "ae5b4ab4",
   "metadata": {},
   "outputs": [],
   "source": [
    "d = time.time()"
   ]
  },
  {
   "cell_type": "code",
   "execution_count": 252,
   "id": "79dd3351",
   "metadata": {},
   "outputs": [
    {
     "name": "stdout",
     "output_type": "stream",
     "text": [
      "Duração indexação: 320.583776\n"
     ]
    }
   ],
   "source": [
    "print(\"Duração indexação: %f\" %(d-a))"
   ]
  },
  {
   "cell_type": "markdown",
   "id": "dfc43efe",
   "metadata": {},
   "source": [
    "## config 22"
   ]
  },
  {
   "cell_type": "code",
   "execution_count": 253,
   "id": "4c5ba2b5",
   "metadata": {},
   "outputs": [
    {
     "name": "stderr",
     "output_type": "stream",
     "text": [
      "This ElasticsearchDocumentStore has been built for Elasticsearch 7, but the detected version of the Elasticsearch server is 8.8.2. Unexpected behaviors or errors may occur due to version incompatibility.\n"
     ]
    }
   ],
   "source": [
    "document_store = ElasticsearchDocumentStore(host='localhost', port=9200, username='elastic', password='TlHbFKwz9YMAprROSrgA', index='preprocessamento_22_img',search_fields=[\"content\",\"name\"])"
   ]
  },
  {
   "cell_type": "code",
   "execution_count": 254,
   "id": "395b83c1",
   "metadata": {},
   "outputs": [],
   "source": [
    "dados = pd.read_json(r\"E:\\Corpora_em_json\\rslps_full\\pre_processamento_rslps_full.json\")\n",
    "dados =dados.rename(columns={\"txtInteiroTeor\":\"contents\"})\n"
   ]
  },
  {
   "cell_type": "code",
   "execution_count": 255,
   "id": "ac0d288c",
   "metadata": {},
   "outputs": [
    {
     "name": "stdout",
     "output_type": "stream",
     "text": [
      "Carragou dataframe\n"
     ]
    }
   ],
   "source": [
    "dados.update(dados['contents'].fillna(\"Nenhum\"))\n",
    "\n",
    "print(\"Carragou dataframe\")"
   ]
  },
  {
   "cell_type": "code",
   "execution_count": 256,
   "id": "b45df51c",
   "metadata": {},
   "outputs": [
    {
     "name": "stdout",
     "output_type": "stream",
     "text": [
      "Já processou, vai indexar..\n"
     ]
    }
   ],
   "source": [
    "dados = [\n",
    "    {\n",
    "            \"content\": dados.loc[i,\"contents\"],\n",
    "            \"name\":dados.loc[i,\"txtNome\"]\n",
    "\n",
    "    }\n",
    "   for i in range(len(dados))\n",
    "    ]\n",
    "print(\"Já processou, vai indexar..\")"
   ]
  },
  {
   "cell_type": "code",
   "execution_count": 257,
   "id": "c9706c92",
   "metadata": {},
   "outputs": [],
   "source": [
    "a = time.time()"
   ]
  },
  {
   "cell_type": "code",
   "execution_count": 258,
   "id": "3620df02",
   "metadata": {},
   "outputs": [],
   "source": [
    "document_store.write_documents(dados,batch_size=9000)"
   ]
  },
  {
   "cell_type": "code",
   "execution_count": 259,
   "id": "e112ba27",
   "metadata": {},
   "outputs": [],
   "source": [
    "d = time.time()"
   ]
  },
  {
   "cell_type": "code",
   "execution_count": 260,
   "id": "4f172ce1",
   "metadata": {},
   "outputs": [
    {
     "name": "stdout",
     "output_type": "stream",
     "text": [
      "Duração indexação: 193.929212\n"
     ]
    }
   ],
   "source": [
    "print(\"Duração indexação: %f\" %(d-a))"
   ]
  },
  {
   "cell_type": "markdown",
   "id": "ac3932a5",
   "metadata": {},
   "source": [
    "## config 23"
   ]
  },
  {
   "cell_type": "code",
   "execution_count": 261,
   "id": "169c34eb",
   "metadata": {},
   "outputs": [
    {
     "name": "stderr",
     "output_type": "stream",
     "text": [
      "This ElasticsearchDocumentStore has been built for Elasticsearch 7, but the detected version of the Elasticsearch server is 8.8.2. Unexpected behaviors or errors may occur due to version incompatibility.\n"
     ]
    }
   ],
   "source": [
    "document_store = ElasticsearchDocumentStore(host='localhost', port=9200, username='elastic', password='TlHbFKwz9YMAprROSrgA', index='preprocessamento_23_img',search_fields=[\"content\",\"name\"])"
   ]
  },
  {
   "cell_type": "code",
   "execution_count": 262,
   "id": "c79c5a65",
   "metadata": {},
   "outputs": [
    {
     "name": "stdout",
     "output_type": "stream",
     "text": [
      "Carragou dataframe\n"
     ]
    }
   ],
   "source": [
    "dados = pd.read_json(r\"E:\\Corpora_em_json\\unigram_bigram_rslps_full\\pre_processamento_unigram_bigram_rslps_full.json\")\n",
    "dados.update(dados['contents'].fillna(\"Nenhum\"))\n",
    "\n",
    "print(\"Carragou dataframe\")\n"
   ]
  },
  {
   "cell_type": "code",
   "execution_count": 263,
   "id": "6a4cb354",
   "metadata": {},
   "outputs": [
    {
     "name": "stdout",
     "output_type": "stream",
     "text": [
      "Já processou, vai indexar..\n"
     ]
    }
   ],
   "source": [
    "dados = [\n",
    "    {\n",
    "            \"content\": dados.loc[i,\"contents\"],\n",
    "            \"name\":dados.loc[i,\"txtNome\"]\n",
    "\n",
    "    }\n",
    "   for i in range(len(dados))\n",
    "    ]\n",
    "print(\"Já processou, vai indexar..\")"
   ]
  },
  {
   "cell_type": "code",
   "execution_count": 264,
   "id": "3ec1953d",
   "metadata": {},
   "outputs": [],
   "source": [
    "a = time.time()"
   ]
  },
  {
   "cell_type": "code",
   "execution_count": 265,
   "id": "3b8d64fc",
   "metadata": {},
   "outputs": [],
   "source": [
    "document_store.write_documents(dados,batch_size=9000)"
   ]
  },
  {
   "cell_type": "code",
   "execution_count": 266,
   "id": "bc4ded98",
   "metadata": {},
   "outputs": [],
   "source": [
    "d = time.time()"
   ]
  },
  {
   "cell_type": "code",
   "execution_count": 267,
   "id": "6cb15164",
   "metadata": {},
   "outputs": [
    {
     "name": "stdout",
     "output_type": "stream",
     "text": [
      "Duração indexação: 330.911978\n"
     ]
    }
   ],
   "source": [
    "print(\"Duração indexação: %f\" %(d-a))"
   ]
  },
  {
   "cell_type": "markdown",
   "id": "75082b8e",
   "metadata": {},
   "source": [
    "# Emenda"
   ]
  },
  {
   "cell_type": "markdown",
   "id": "6f0e7e6d",
   "metadata": {},
   "source": [
    "## config 1"
   ]
  },
  {
   "cell_type": "code",
   "execution_count": 71,
   "id": "4fc941de",
   "metadata": {},
   "outputs": [
    {
     "name": "stderr",
     "output_type": "stream",
     "text": [
      "This ElasticsearchDocumentStore has been built for Elasticsearch 7, but the detected version of the Elasticsearch server is 8.8.2. Unexpected behaviors or errors may occur due to version incompatibility.\n"
     ]
    }
   ],
   "source": [
    "document_store = ElasticsearchDocumentStore(host='localhost', port=9200, username='elastic', password='TlHbFKwz9YMAprROSrgA', index='sem_preprocessamento_emenda',search_fields=[\"content\",\"name\"])"
   ]
  },
  {
   "cell_type": "code",
   "execution_count": 72,
   "id": "d7d6ef34",
   "metadata": {},
   "outputs": [
    {
     "name": "stdout",
     "output_type": "stream",
     "text": [
      "Carragou dataframe\n"
     ]
    }
   ],
   "source": [
    "dados = pd.read_json(r\"E:\\Corpora_em_json\\sem_pre_processamento_emenda\\sem_pre_processamento.json\")\n",
    "dados.update(dados['contents'].fillna(\"Nenhum\"))\n",
    "\n",
    "print(\"Carragou dataframe\")\n"
   ]
  },
  {
   "cell_type": "code",
   "execution_count": 73,
   "id": "6f546d34",
   "metadata": {},
   "outputs": [
    {
     "name": "stdout",
     "output_type": "stream",
     "text": [
      "Já processou, vai indexar..\n"
     ]
    }
   ],
   "source": [
    "dados = [\n",
    "    {\n",
    "            \"content\": dados.loc[i,\"contents\"],\n",
    "            \"name\":dados.loc[i,\"txtNome\"]\n",
    "\n",
    "    }\n",
    "   for i in range(len(dados))\n",
    "    ]\n",
    "print(\"Já processou, vai indexar..\")\n"
   ]
  },
  {
   "cell_type": "code",
   "execution_count": 74,
   "id": "80e910b1",
   "metadata": {},
   "outputs": [],
   "source": [
    "a = time.time()"
   ]
  },
  {
   "cell_type": "code",
   "execution_count": 75,
   "id": "742282f2",
   "metadata": {},
   "outputs": [],
   "source": [
    "document_store.write_documents(dados,batch_size=9000)"
   ]
  },
  {
   "cell_type": "code",
   "execution_count": 76,
   "id": "aca82e54",
   "metadata": {},
   "outputs": [],
   "source": [
    "d = time.time()"
   ]
  },
  {
   "cell_type": "code",
   "execution_count": 77,
   "id": "4e251396",
   "metadata": {},
   "outputs": [
    {
     "name": "stdout",
     "output_type": "stream",
     "text": [
      "Duração indexação: 162.982943\n"
     ]
    }
   ],
   "source": [
    "print(\"Duração indexação: %f\" %(d-a))"
   ]
  },
  {
   "cell_type": "markdown",
   "id": "f782ed26",
   "metadata": {},
   "source": [
    "## config 5"
   ]
  },
  {
   "cell_type": "code",
   "execution_count": 78,
   "id": "a2abefb0",
   "metadata": {},
   "outputs": [
    {
     "name": "stderr",
     "output_type": "stream",
     "text": [
      "This ElasticsearchDocumentStore has been built for Elasticsearch 7, but the detected version of the Elasticsearch server is 8.8.2. Unexpected behaviors or errors may occur due to version incompatibility.\n"
     ]
    }
   ],
   "source": [
    "document_store = ElasticsearchDocumentStore(host='localhost', port=9200, username='elastic', password='TlHbFKwz9YMAprROSrgA', index='preprocessamento_5_emenda',search_fields=[\"content\",\"name\"])"
   ]
  },
  {
   "cell_type": "code",
   "execution_count": 79,
   "id": "88899f92",
   "metadata": {},
   "outputs": [
    {
     "name": "stdout",
     "output_type": "stream",
     "text": [
      "Carragou dataframe\n"
     ]
    }
   ],
   "source": [
    "dados = pd.read_json(r\"E:\\Corpora_em_json\\lower_remocao_punctuation_acentuacao_stopwords_emenda\\pre_processamento_lower_remocao_punctuation_acentuacao_stopwords.json\")\n",
    "dados.update(dados['contents'].fillna(\"Nenhum\"))\n",
    "\n",
    "print(\"Carragou dataframe\")\n"
   ]
  },
  {
   "cell_type": "code",
   "execution_count": 80,
   "id": "e4931a19",
   "metadata": {},
   "outputs": [
    {
     "name": "stdout",
     "output_type": "stream",
     "text": [
      "Já processou, vai indexar..\n"
     ]
    }
   ],
   "source": [
    "dados = [\n",
    "    {\n",
    "            \"content\": dados.loc[i,\"contents\"],\n",
    "            \"name\":dados.loc[i,\"txtNome\"]\n",
    "\n",
    "    }\n",
    "   for i in range(len(dados))\n",
    "    ]\n",
    "print(\"Já processou, vai indexar..\")\n"
   ]
  },
  {
   "cell_type": "code",
   "execution_count": 81,
   "id": "ee042441",
   "metadata": {},
   "outputs": [],
   "source": [
    "a = time.time()"
   ]
  },
  {
   "cell_type": "code",
   "execution_count": 82,
   "id": "f8c7da11",
   "metadata": {},
   "outputs": [],
   "source": [
    "document_store.write_documents(dados,batch_size=9000)"
   ]
  },
  {
   "cell_type": "code",
   "execution_count": 83,
   "id": "fe181abc",
   "metadata": {},
   "outputs": [],
   "source": [
    "d = time.time()"
   ]
  },
  {
   "cell_type": "code",
   "execution_count": 84,
   "id": "9082da3e",
   "metadata": {},
   "outputs": [
    {
     "name": "stdout",
     "output_type": "stream",
     "text": [
      "Duração indexação: 165.867322\n"
     ]
    }
   ],
   "source": [
    "print(\"Duração indexação: %f\" %(d-a))"
   ]
  },
  {
   "cell_type": "markdown",
   "id": "87eb1a36",
   "metadata": {},
   "source": [
    "## config 8"
   ]
  },
  {
   "cell_type": "code",
   "execution_count": 85,
   "id": "e62d6557",
   "metadata": {},
   "outputs": [
    {
     "name": "stderr",
     "output_type": "stream",
     "text": [
      "This ElasticsearchDocumentStore has been built for Elasticsearch 7, but the detected version of the Elasticsearch server is 8.8.2. Unexpected behaviors or errors may occur due to version incompatibility.\n"
     ]
    }
   ],
   "source": [
    "document_store = ElasticsearchDocumentStore(host='localhost', port=9200, username='elastic', password='TlHbFKwz9YMAprROSrgA', index='preprocessamento_8_emenda',search_fields=[\"content\",\"name\"])"
   ]
  },
  {
   "cell_type": "code",
   "execution_count": 86,
   "id": "c1ffd302",
   "metadata": {},
   "outputs": [
    {
     "name": "stdout",
     "output_type": "stream",
     "text": [
      "Carragou dataframe\n"
     ]
    }
   ],
   "source": [
    "dados = pd.read_json(r\"E:\\Corpora_em_json\\rslp_full_emenda\\pre_processamento_rslp_full.json\")\n",
    "dados.update(dados['contents'].fillna(\"Nenhum\"))\n",
    "\n",
    "print(\"Carragou dataframe\")\n"
   ]
  },
  {
   "cell_type": "code",
   "execution_count": 87,
   "id": "2a787b4d",
   "metadata": {},
   "outputs": [
    {
     "name": "stdout",
     "output_type": "stream",
     "text": [
      "Já processou, vai indexar..\n"
     ]
    }
   ],
   "source": [
    "dados = [\n",
    "    {\n",
    "            \"content\": dados.loc[i,\"contents\"],\n",
    "            \"name\":dados.loc[i,\"txtNome\"]\n",
    "\n",
    "    }\n",
    "   for i in range(len(dados))\n",
    "    ]\n",
    "print(\"Já processou, vai indexar..\")"
   ]
  },
  {
   "cell_type": "code",
   "execution_count": 88,
   "id": "c5191582",
   "metadata": {},
   "outputs": [],
   "source": [
    "a = time.time()"
   ]
  },
  {
   "cell_type": "code",
   "execution_count": 89,
   "id": "a04dbef1",
   "metadata": {},
   "outputs": [],
   "source": [
    "document_store.write_documents(dados,batch_size=9000)"
   ]
  },
  {
   "cell_type": "code",
   "execution_count": 90,
   "id": "9842aef0",
   "metadata": {},
   "outputs": [],
   "source": [
    "d = time.time()"
   ]
  },
  {
   "cell_type": "code",
   "execution_count": 91,
   "id": "84e194bd",
   "metadata": {},
   "outputs": [
    {
     "name": "stdout",
     "output_type": "stream",
     "text": [
      "Duração indexação: 163.279982\n"
     ]
    }
   ],
   "source": [
    "print(\"Duração indexação: %f\" %(d-a))"
   ]
  },
  {
   "cell_type": "markdown",
   "id": "8eabe214",
   "metadata": {},
   "source": [
    "## config 9"
   ]
  },
  {
   "cell_type": "code",
   "execution_count": 92,
   "id": "22a46e3b",
   "metadata": {},
   "outputs": [
    {
     "name": "stderr",
     "output_type": "stream",
     "text": [
      "This ElasticsearchDocumentStore has been built for Elasticsearch 7, but the detected version of the Elasticsearch server is 8.8.2. Unexpected behaviors or errors may occur due to version incompatibility.\n"
     ]
    }
   ],
   "source": [
    "document_store = ElasticsearchDocumentStore(host='localhost', port=9200, username='elastic', password='TlHbFKwz9YMAprROSrgA', index='preprocessamento_9_emenda',search_fields=[\"content\",\"name\"])"
   ]
  },
  {
   "cell_type": "code",
   "execution_count": 93,
   "id": "244b79e4",
   "metadata": {},
   "outputs": [
    {
     "name": "stdout",
     "output_type": "stream",
     "text": [
      "Carragou dataframe\n"
     ]
    }
   ],
   "source": [
    "dados = pd.read_json(r\"E:\\Corpora_em_json\\savoy_full_emenda\\pre_processamento_savoy_full.json\")\n",
    "dados.update(dados['contents'].fillna(\"Nenhum\"))\n",
    "\n",
    "print(\"Carragou dataframe\")\n"
   ]
  },
  {
   "cell_type": "code",
   "execution_count": 94,
   "id": "fd2639c3",
   "metadata": {},
   "outputs": [
    {
     "name": "stdout",
     "output_type": "stream",
     "text": [
      "Já processou, vai indexar..\n"
     ]
    }
   ],
   "source": [
    "dados = [\n",
    "    {\n",
    "            \"content\": dados.loc[i,\"contents\"],\n",
    "            \"name\":dados.loc[i,\"txtNome\"]\n",
    "\n",
    "    }\n",
    "   for i in range(len(dados))\n",
    "    ]\n",
    "print(\"Já processou, vai indexar..\")\n"
   ]
  },
  {
   "cell_type": "code",
   "execution_count": 95,
   "id": "dd28632f",
   "metadata": {},
   "outputs": [],
   "source": [
    "a = time.time()"
   ]
  },
  {
   "cell_type": "code",
   "execution_count": 96,
   "id": "8df76762",
   "metadata": {},
   "outputs": [],
   "source": [
    "document_store.write_documents(dados,batch_size=9000)"
   ]
  },
  {
   "cell_type": "code",
   "execution_count": 97,
   "id": "74a08ecb",
   "metadata": {},
   "outputs": [],
   "source": [
    "d = time.time()"
   ]
  },
  {
   "cell_type": "code",
   "execution_count": 98,
   "id": "4107c363",
   "metadata": {},
   "outputs": [
    {
     "name": "stdout",
     "output_type": "stream",
     "text": [
      "Duração indexação: 163.348895\n"
     ]
    }
   ],
   "source": [
    "print(\"Duração indexação: %f\" %(d-a))"
   ]
  },
  {
   "cell_type": "markdown",
   "id": "4339f3cf",
   "metadata": {},
   "source": [
    "## config 18"
   ]
  },
  {
   "cell_type": "code",
   "execution_count": 99,
   "id": "d69b8944",
   "metadata": {},
   "outputs": [
    {
     "name": "stderr",
     "output_type": "stream",
     "text": [
      "This ElasticsearchDocumentStore has been built for Elasticsearch 7, but the detected version of the Elasticsearch server is 8.8.2. Unexpected behaviors or errors may occur due to version incompatibility.\n"
     ]
    }
   ],
   "source": [
    "document_store = ElasticsearchDocumentStore(host='localhost', port=9200, username='elastic', password='TlHbFKwz9YMAprROSrgA', index='preprocessamento_18_emenda',search_fields=[\"content\",\"name\"])"
   ]
  },
  {
   "cell_type": "code",
   "execution_count": 100,
   "id": "bbf68822",
   "metadata": {},
   "outputs": [
    {
     "name": "stdout",
     "output_type": "stream",
     "text": [
      "Carragou dataframe\n"
     ]
    }
   ],
   "source": [
    "dados = pd.read_json(r\"E:\\Corpora_em_json\\unigram_bigram_rslp_full_emenda\\pre_processamento_unigram_bigram_rslp_full.json\")\n",
    "dados.update(dados['contents'].fillna(\"Nenhum\"))\n",
    "\n",
    "print(\"Carragou dataframe\")\n"
   ]
  },
  {
   "cell_type": "code",
   "execution_count": 101,
   "id": "d2e49245",
   "metadata": {},
   "outputs": [
    {
     "name": "stdout",
     "output_type": "stream",
     "text": [
      "Já processou, vai indexar..\n"
     ]
    }
   ],
   "source": [
    "dados = [\n",
    "    {\n",
    "            \"content\": dados.loc[i,\"contents\"],\n",
    "            \"name\":dados.loc[i,\"txtNome\"]\n",
    "\n",
    "    }\n",
    "   for i in range(len(dados))\n",
    "    ]\n",
    "print(\"Já processou, vai indexar..\")"
   ]
  },
  {
   "cell_type": "code",
   "execution_count": 102,
   "id": "6b01d9d7",
   "metadata": {},
   "outputs": [],
   "source": [
    "a = time.time()"
   ]
  },
  {
   "cell_type": "code",
   "execution_count": 103,
   "id": "4ab639ad",
   "metadata": {},
   "outputs": [],
   "source": [
    "document_store.write_documents(dados,batch_size=9000)"
   ]
  },
  {
   "cell_type": "code",
   "execution_count": 104,
   "id": "86152cd3",
   "metadata": {},
   "outputs": [],
   "source": [
    "d = time.time()"
   ]
  },
  {
   "cell_type": "code",
   "execution_count": 105,
   "id": "4434accd",
   "metadata": {},
   "outputs": [
    {
     "name": "stdout",
     "output_type": "stream",
     "text": [
      "Duração indexação: 160.653503\n"
     ]
    }
   ],
   "source": [
    "print(\"Duração indexação: %f\" %(d-a))"
   ]
  },
  {
   "cell_type": "markdown",
   "id": "4f3c36d5",
   "metadata": {},
   "source": [
    "## config 21"
   ]
  },
  {
   "cell_type": "code",
   "execution_count": 106,
   "id": "3d42c724",
   "metadata": {},
   "outputs": [
    {
     "name": "stderr",
     "output_type": "stream",
     "text": [
      "This ElasticsearchDocumentStore has been built for Elasticsearch 7, but the detected version of the Elasticsearch server is 8.8.2. Unexpected behaviors or errors may occur due to version incompatibility.\n"
     ]
    }
   ],
   "source": [
    "document_store = ElasticsearchDocumentStore(host='localhost', port=9200, username='elastic', password='TlHbFKwz9YMAprROSrgA', index='preprocessamento_21_emenda',search_fields=[\"content\",\"name\"])"
   ]
  },
  {
   "cell_type": "code",
   "execution_count": 107,
   "id": "da9804d2",
   "metadata": {},
   "outputs": [
    {
     "name": "stdout",
     "output_type": "stream",
     "text": [
      "Carragou dataframe\n"
     ]
    }
   ],
   "source": [
    "dados = pd.read_json(r\"E:\\Corpora_em_json\\unigram_bigram_savoy_full_emenda\\pre_processamento_unigram_bigram_savoy_full.json\")\n",
    "dados.update(dados['contents'].fillna(\"Nenhum\"))\n",
    "\n",
    "print(\"Carragou dataframe\")\n"
   ]
  },
  {
   "cell_type": "code",
   "execution_count": 108,
   "id": "7b3798ff",
   "metadata": {},
   "outputs": [
    {
     "name": "stdout",
     "output_type": "stream",
     "text": [
      "Já processou, vai indexar..\n"
     ]
    }
   ],
   "source": [
    "dados = [\n",
    "    {\n",
    "            \"content\": dados.loc[i,\"contents\"],\n",
    "            \"name\":dados.loc[i,\"txtNome\"]\n",
    "\n",
    "    }\n",
    "   for i in range(len(dados))\n",
    "    ]\n",
    "print(\"Já processou, vai indexar..\")\n"
   ]
  },
  {
   "cell_type": "code",
   "execution_count": 109,
   "id": "ad8f9e20",
   "metadata": {},
   "outputs": [],
   "source": [
    "a = time.time()"
   ]
  },
  {
   "cell_type": "code",
   "execution_count": 110,
   "id": "396c0321",
   "metadata": {},
   "outputs": [],
   "source": [
    "document_store.write_documents(dados,batch_size=9000)"
   ]
  },
  {
   "cell_type": "code",
   "execution_count": 111,
   "id": "01d5f375",
   "metadata": {},
   "outputs": [],
   "source": [
    "d = time.time()"
   ]
  },
  {
   "cell_type": "code",
   "execution_count": 112,
   "id": "185ffef1",
   "metadata": {},
   "outputs": [
    {
     "name": "stdout",
     "output_type": "stream",
     "text": [
      "Duração indexação: 165.481789\n"
     ]
    }
   ],
   "source": [
    "print(\"Duração indexação: %f\" %(d-a))"
   ]
  },
  {
   "cell_type": "markdown",
   "id": "18bd9828",
   "metadata": {},
   "source": [
    "## config 22"
   ]
  },
  {
   "cell_type": "code",
   "execution_count": 113,
   "id": "bc25433a",
   "metadata": {},
   "outputs": [
    {
     "name": "stderr",
     "output_type": "stream",
     "text": [
      "This ElasticsearchDocumentStore has been built for Elasticsearch 7, but the detected version of the Elasticsearch server is 8.8.2. Unexpected behaviors or errors may occur due to version incompatibility.\n"
     ]
    }
   ],
   "source": [
    "document_store = ElasticsearchDocumentStore(host='localhost', port=9200, username='elastic', password='TlHbFKwz9YMAprROSrgA', index='preprocessamento_22_emenda',search_fields=[\"content\",\"name\"])"
   ]
  },
  {
   "cell_type": "code",
   "execution_count": 114,
   "id": "9acc454a",
   "metadata": {},
   "outputs": [
    {
     "name": "stdout",
     "output_type": "stream",
     "text": [
      "Carragou dataframe\n"
     ]
    }
   ],
   "source": [
    "dados = pd.read_json(r\"E:\\Corpora_em_json\\rslps_full_emenda\\pre_processamento_rslps_full.json\")\n",
    "dados.update(dados['contents'].fillna(\"Nenhum\"))\n",
    "\n",
    "print(\"Carragou dataframe\")\n"
   ]
  },
  {
   "cell_type": "code",
   "execution_count": 115,
   "id": "432c75fd",
   "metadata": {},
   "outputs": [
    {
     "name": "stdout",
     "output_type": "stream",
     "text": [
      "Já processou, vai indexar..\n"
     ]
    }
   ],
   "source": [
    "dados = [\n",
    "    {\n",
    "            \"content\": dados.loc[i,\"contents\"],\n",
    "            \"name\":dados.loc[i,\"txtNome\"]\n",
    "\n",
    "    }\n",
    "   for i in range(len(dados))\n",
    "    ]\n",
    "print(\"Já processou, vai indexar..\")"
   ]
  },
  {
   "cell_type": "code",
   "execution_count": 116,
   "id": "9e9b1838",
   "metadata": {},
   "outputs": [],
   "source": [
    "a = time.time()"
   ]
  },
  {
   "cell_type": "code",
   "execution_count": 117,
   "id": "6b39a10e",
   "metadata": {},
   "outputs": [],
   "source": [
    "document_store.write_documents(dados,batch_size=9000)"
   ]
  },
  {
   "cell_type": "code",
   "execution_count": 118,
   "id": "1663c867",
   "metadata": {},
   "outputs": [],
   "source": [
    "d = time.time()"
   ]
  },
  {
   "cell_type": "code",
   "execution_count": 119,
   "id": "79864e89",
   "metadata": {},
   "outputs": [
    {
     "name": "stdout",
     "output_type": "stream",
     "text": [
      "Duração indexação: 147.866232\n"
     ]
    }
   ],
   "source": [
    "print(\"Duração indexação: %f\" %(d-a))"
   ]
  },
  {
   "cell_type": "markdown",
   "id": "0d6abc51",
   "metadata": {},
   "source": [
    "## config 23"
   ]
  },
  {
   "cell_type": "code",
   "execution_count": 120,
   "id": "5d269194",
   "metadata": {},
   "outputs": [
    {
     "name": "stderr",
     "output_type": "stream",
     "text": [
      "This ElasticsearchDocumentStore has been built for Elasticsearch 7, but the detected version of the Elasticsearch server is 8.8.2. Unexpected behaviors or errors may occur due to version incompatibility.\n"
     ]
    }
   ],
   "source": [
    "document_store = ElasticsearchDocumentStore(host='localhost', port=9200, username='elastic', password='TlHbFKwz9YMAprROSrgA', index='preprocessamento_23_emenda',search_fields=[\"content\",\"name\"])"
   ]
  },
  {
   "cell_type": "code",
   "execution_count": 121,
   "id": "dea35067",
   "metadata": {},
   "outputs": [
    {
     "name": "stdout",
     "output_type": "stream",
     "text": [
      "Carragou dataframe\n"
     ]
    }
   ],
   "source": [
    "dados = pd.read_json(r\"E:\\Corpora_em_json\\unigram_bigram_rslps_full_emenda\\pre_processamento_unigram_bigram_rslps_full.json\")\n",
    "dados.update(dados['contents'].fillna(\"Nenhum\"))\n",
    "\n",
    "print(\"Carragou dataframe\")\n"
   ]
  },
  {
   "cell_type": "code",
   "execution_count": 122,
   "id": "83045605",
   "metadata": {},
   "outputs": [
    {
     "name": "stdout",
     "output_type": "stream",
     "text": [
      "Já processou, vai indexar..\n"
     ]
    }
   ],
   "source": [
    "dados = [\n",
    "    {\n",
    "            \"content\": dados.loc[i,\"contents\"],\n",
    "            \"name\":dados.loc[i,\"txtNome\"]\n",
    "\n",
    "    }\n",
    "   for i in range(len(dados))\n",
    "    ]\n",
    "print(\"Já processou, vai indexar..\")"
   ]
  },
  {
   "cell_type": "code",
   "execution_count": 123,
   "id": "41ebf0d4",
   "metadata": {},
   "outputs": [],
   "source": [
    "a = time.time()"
   ]
  },
  {
   "cell_type": "code",
   "execution_count": 124,
   "id": "de586251",
   "metadata": {},
   "outputs": [],
   "source": [
    "document_store.write_documents(dados,batch_size=9000)"
   ]
  },
  {
   "cell_type": "code",
   "execution_count": 125,
   "id": "0b9b1a92",
   "metadata": {},
   "outputs": [],
   "source": [
    "d = time.time()"
   ]
  },
  {
   "cell_type": "code",
   "execution_count": 126,
   "id": "0b34011e",
   "metadata": {},
   "outputs": [
    {
     "name": "stdout",
     "output_type": "stream",
     "text": [
      "Duração indexação: 150.202971\n"
     ]
    }
   ],
   "source": [
    "print(\"Duração indexação: %f\" %(d-a))"
   ]
  },
  {
   "cell_type": "markdown",
   "id": "254adf4a",
   "metadata": {},
   "source": [
    "# Indexacao"
   ]
  },
  {
   "cell_type": "markdown",
   "id": "4b4db3af",
   "metadata": {},
   "source": [
    "## config 1"
   ]
  },
  {
   "cell_type": "code",
   "execution_count": 127,
   "id": "ce1f8e04",
   "metadata": {},
   "outputs": [
    {
     "name": "stderr",
     "output_type": "stream",
     "text": [
      "This ElasticsearchDocumentStore has been built for Elasticsearch 7, but the detected version of the Elasticsearch server is 8.8.2. Unexpected behaviors or errors may occur due to version incompatibility.\n"
     ]
    }
   ],
   "source": [
    "document_store = ElasticsearchDocumentStore(host='localhost', port=9200, username='elastic', password='TlHbFKwz9YMAprROSrgA', index='sem_preprocessamento_indexacao',search_fields=[\"content\",\"name\"])"
   ]
  },
  {
   "cell_type": "code",
   "execution_count": 128,
   "id": "9be706e4",
   "metadata": {},
   "outputs": [
    {
     "name": "stdout",
     "output_type": "stream",
     "text": [
      "Carragou dataframe\n"
     ]
    }
   ],
   "source": [
    "dados = pd.read_json(r\"E:\\Corpora_em_json\\sem_pre_processamento_indexacao\\sem_pre_processamento.json\")\n",
    "dados.update(dados['contents'].fillna(\"Nenhum\"))\n",
    "\n",
    "print(\"Carragou dataframe\")\n"
   ]
  },
  {
   "cell_type": "code",
   "execution_count": 129,
   "id": "2fc35131",
   "metadata": {},
   "outputs": [
    {
     "name": "stdout",
     "output_type": "stream",
     "text": [
      "Já processou, vai indexar..\n"
     ]
    }
   ],
   "source": [
    "dados = [\n",
    "    {\n",
    "            \"content\": dados.loc[i,\"contents\"],\n",
    "            \"name\":dados.loc[i,\"txtNome\"]\n",
    "\n",
    "    }\n",
    "   for i in range(len(dados))\n",
    "    ]\n",
    "print(\"Já processou, vai indexar..\")\n"
   ]
  },
  {
   "cell_type": "code",
   "execution_count": 130,
   "id": "34ec3824",
   "metadata": {},
   "outputs": [],
   "source": [
    "a = time.time()"
   ]
  },
  {
   "cell_type": "code",
   "execution_count": 131,
   "id": "23899930",
   "metadata": {},
   "outputs": [],
   "source": [
    "document_store.write_documents(dados,batch_size=9000)"
   ]
  },
  {
   "cell_type": "code",
   "execution_count": 132,
   "id": "1d3c701a",
   "metadata": {},
   "outputs": [],
   "source": [
    "d = time.time()"
   ]
  },
  {
   "cell_type": "code",
   "execution_count": 133,
   "id": "84989789",
   "metadata": {},
   "outputs": [
    {
     "name": "stdout",
     "output_type": "stream",
     "text": [
      "Duração indexação: 142.000751\n"
     ]
    }
   ],
   "source": [
    "print(\"Duração indexação: %f\" %(d-a))"
   ]
  },
  {
   "cell_type": "markdown",
   "id": "9a631343",
   "metadata": {},
   "source": [
    "## config 5"
   ]
  },
  {
   "cell_type": "code",
   "execution_count": 134,
   "id": "f0c3a135",
   "metadata": {},
   "outputs": [
    {
     "name": "stderr",
     "output_type": "stream",
     "text": [
      "This ElasticsearchDocumentStore has been built for Elasticsearch 7, but the detected version of the Elasticsearch server is 8.8.2. Unexpected behaviors or errors may occur due to version incompatibility.\n"
     ]
    }
   ],
   "source": [
    "document_store = ElasticsearchDocumentStore(host='localhost', port=9200, username='elastic', password='TlHbFKwz9YMAprROSrgA', index='preprocessamento_5_indexacao',search_fields=[\"content\",\"name\"])"
   ]
  },
  {
   "cell_type": "code",
   "execution_count": 135,
   "id": "4180a00c",
   "metadata": {},
   "outputs": [
    {
     "name": "stdout",
     "output_type": "stream",
     "text": [
      "Carragou dataframe\n"
     ]
    }
   ],
   "source": [
    "dados = pd.read_json(r\"E:\\Corpora_em_json\\lower_remocao_punctuation_acentuacao_stopwords_indexacao\\pre_processamento_lower_remocao_punctuation_acentuacao_stopwords.json\")\n",
    "dados.update(dados['contents'].fillna(\"Nenhum\"))\n",
    "\n",
    "print(\"Carragou dataframe\")\n"
   ]
  },
  {
   "cell_type": "code",
   "execution_count": 136,
   "id": "26e3c7e1",
   "metadata": {},
   "outputs": [
    {
     "name": "stdout",
     "output_type": "stream",
     "text": [
      "Já processou, vai indexar..\n"
     ]
    }
   ],
   "source": [
    "dados = [\n",
    "    {\n",
    "            \"content\": dados.loc[i,\"contents\"],\n",
    "            \"name\":dados.loc[i,\"txtNome\"]\n",
    "\n",
    "    }\n",
    "   for i in range(len(dados))\n",
    "    ]\n",
    "print(\"Já processou, vai indexar..\")\n"
   ]
  },
  {
   "cell_type": "code",
   "execution_count": 137,
   "id": "75290709",
   "metadata": {},
   "outputs": [],
   "source": [
    "a = time.time()"
   ]
  },
  {
   "cell_type": "code",
   "execution_count": 138,
   "id": "2f818055",
   "metadata": {},
   "outputs": [],
   "source": [
    "document_store.write_documents(dados,batch_size=9000)"
   ]
  },
  {
   "cell_type": "code",
   "execution_count": 139,
   "id": "b20b5145",
   "metadata": {},
   "outputs": [],
   "source": [
    "d = time.time()"
   ]
  },
  {
   "cell_type": "code",
   "execution_count": 140,
   "id": "767029b2",
   "metadata": {},
   "outputs": [
    {
     "name": "stdout",
     "output_type": "stream",
     "text": [
      "Duração indexação: 144.438197\n"
     ]
    }
   ],
   "source": [
    "print(\"Duração indexação: %f\" %(d-a))"
   ]
  },
  {
   "cell_type": "markdown",
   "id": "59b5ce50",
   "metadata": {},
   "source": [
    "## config 8"
   ]
  },
  {
   "cell_type": "code",
   "execution_count": 141,
   "id": "5103f2ed",
   "metadata": {},
   "outputs": [
    {
     "name": "stderr",
     "output_type": "stream",
     "text": [
      "This ElasticsearchDocumentStore has been built for Elasticsearch 7, but the detected version of the Elasticsearch server is 8.8.2. Unexpected behaviors or errors may occur due to version incompatibility.\n"
     ]
    }
   ],
   "source": [
    "document_store = ElasticsearchDocumentStore(host='localhost', port=9200, username='elastic', password='TlHbFKwz9YMAprROSrgA', index='preprocessamento_8_indexacao',search_fields=[\"content\",\"name\"])"
   ]
  },
  {
   "cell_type": "code",
   "execution_count": 142,
   "id": "f546d217",
   "metadata": {},
   "outputs": [
    {
     "name": "stdout",
     "output_type": "stream",
     "text": [
      "Carragou dataframe\n"
     ]
    }
   ],
   "source": [
    "dados = pd.read_json(r\"E:\\Corpora_em_json\\rslp_full_indexacao\\pre_processamento_rslp_full.json\")\n",
    "dados.update(dados['contents'].fillna(\"Nenhum\"))\n",
    "\n",
    "print(\"Carragou dataframe\")\n"
   ]
  },
  {
   "cell_type": "code",
   "execution_count": 143,
   "id": "0891fd61",
   "metadata": {},
   "outputs": [
    {
     "name": "stdout",
     "output_type": "stream",
     "text": [
      "Já processou, vai indexar..\n"
     ]
    }
   ],
   "source": [
    "dados = [\n",
    "    {\n",
    "            \"content\": dados.loc[i,\"contents\"],\n",
    "            \"name\":dados.loc[i,\"txtNome\"]\n",
    "\n",
    "    }\n",
    "   for i in range(len(dados))\n",
    "    ]\n",
    "print(\"Já processou, vai indexar..\")\n"
   ]
  },
  {
   "cell_type": "code",
   "execution_count": 144,
   "id": "c0c723cc",
   "metadata": {},
   "outputs": [],
   "source": [
    "a = time.time()"
   ]
  },
  {
   "cell_type": "code",
   "execution_count": 145,
   "id": "0d9e9230",
   "metadata": {},
   "outputs": [],
   "source": [
    "document_store.write_documents(dados,batch_size=9000)"
   ]
  },
  {
   "cell_type": "code",
   "execution_count": 146,
   "id": "6550be93",
   "metadata": {},
   "outputs": [],
   "source": [
    "d = time.time()"
   ]
  },
  {
   "cell_type": "code",
   "execution_count": 147,
   "id": "ec12ba94",
   "metadata": {},
   "outputs": [
    {
     "name": "stdout",
     "output_type": "stream",
     "text": [
      "Duração indexação: 142.811738\n"
     ]
    }
   ],
   "source": [
    "print(\"Duração indexação: %f\" %(d-a))"
   ]
  },
  {
   "cell_type": "markdown",
   "id": "8a6cb19f",
   "metadata": {},
   "source": [
    "## config 9"
   ]
  },
  {
   "cell_type": "code",
   "execution_count": 148,
   "id": "d51a6a9a",
   "metadata": {},
   "outputs": [
    {
     "name": "stderr",
     "output_type": "stream",
     "text": [
      "This ElasticsearchDocumentStore has been built for Elasticsearch 7, but the detected version of the Elasticsearch server is 8.8.2. Unexpected behaviors or errors may occur due to version incompatibility.\n"
     ]
    }
   ],
   "source": [
    "document_store = ElasticsearchDocumentStore(host='localhost', port=9200, username='elastic', password='TlHbFKwz9YMAprROSrgA', index='preprocessamento_9_indexacao',search_fields=[\"content\",\"name\"])"
   ]
  },
  {
   "cell_type": "code",
   "execution_count": 149,
   "id": "4900e6e1",
   "metadata": {},
   "outputs": [
    {
     "name": "stdout",
     "output_type": "stream",
     "text": [
      "Carragou dataframe\n"
     ]
    }
   ],
   "source": [
    "dados = pd.read_json(r\"E:\\Corpora_em_json\\savoy_full_indexacao\\pre_processamento_savoy_full.json\")\n",
    "dados.update(dados['contents'].fillna(\"Nenhum\"))\n",
    "\n",
    "print(\"Carragou dataframe\")\n"
   ]
  },
  {
   "cell_type": "code",
   "execution_count": 150,
   "id": "a148d3a9",
   "metadata": {},
   "outputs": [
    {
     "name": "stdout",
     "output_type": "stream",
     "text": [
      "Já processou, vai indexar..\n"
     ]
    }
   ],
   "source": [
    "dados = [\n",
    "    {\n",
    "            \"content\": dados.loc[i,\"contents\"],\n",
    "            \"name\":dados.loc[i,\"txtNome\"]\n",
    "\n",
    "    }\n",
    "   for i in range(len(dados))\n",
    "    ]\n",
    "print(\"Já processou, vai indexar..\")\n"
   ]
  },
  {
   "cell_type": "code",
   "execution_count": 151,
   "id": "57da807f",
   "metadata": {},
   "outputs": [],
   "source": [
    "a = time.time()"
   ]
  },
  {
   "cell_type": "code",
   "execution_count": 152,
   "id": "e030c27b",
   "metadata": {},
   "outputs": [],
   "source": [
    "document_store.write_documents(dados,batch_size=9000)"
   ]
  },
  {
   "cell_type": "code",
   "execution_count": 153,
   "id": "7b4b1180",
   "metadata": {},
   "outputs": [],
   "source": [
    "d = time.time()"
   ]
  },
  {
   "cell_type": "code",
   "execution_count": 154,
   "id": "3a0202f4",
   "metadata": {},
   "outputs": [
    {
     "name": "stdout",
     "output_type": "stream",
     "text": [
      "Duração indexação: 142.712270\n"
     ]
    }
   ],
   "source": [
    "print(\"Duração indexação: %f\" %(d-a))"
   ]
  },
  {
   "cell_type": "markdown",
   "id": "2a3f2d2e",
   "metadata": {},
   "source": [
    "## config 18"
   ]
  },
  {
   "cell_type": "code",
   "execution_count": 155,
   "id": "fec61b8b",
   "metadata": {},
   "outputs": [
    {
     "name": "stderr",
     "output_type": "stream",
     "text": [
      "This ElasticsearchDocumentStore has been built for Elasticsearch 7, but the detected version of the Elasticsearch server is 8.8.2. Unexpected behaviors or errors may occur due to version incompatibility.\n"
     ]
    }
   ],
   "source": [
    "document_store = ElasticsearchDocumentStore(host='localhost', port=9200, username='elastic', password='TlHbFKwz9YMAprROSrgA', index='preprocessamento_18_indexacao',search_fields=[\"content\",\"name\"])"
   ]
  },
  {
   "cell_type": "code",
   "execution_count": 156,
   "id": "186d099d",
   "metadata": {},
   "outputs": [
    {
     "name": "stdout",
     "output_type": "stream",
     "text": [
      "Carragou dataframe\n"
     ]
    }
   ],
   "source": [
    "dados = pd.read_json(r\"E:\\Corpora_em_json\\unigram_bigram_rslp_full_indexacao\\pre_processamento_unigram_bigram_rslp_full.json\")\n",
    "dados.update(dados['contents'].fillna(\"Nenhum\"))\n",
    "\n",
    "print(\"Carragou dataframe\")\n"
   ]
  },
  {
   "cell_type": "code",
   "execution_count": 157,
   "id": "ffb1517f",
   "metadata": {},
   "outputs": [
    {
     "name": "stdout",
     "output_type": "stream",
     "text": [
      "Já processou, vai indexar..\n"
     ]
    }
   ],
   "source": [
    "dados = [\n",
    "    {\n",
    "            \"content\": dados.loc[i,\"contents\"],\n",
    "            \"name\":dados.loc[i,\"txtNome\"]\n",
    "\n",
    "    }\n",
    "   for i in range(len(dados))\n",
    "    ]\n",
    "print(\"Já processou, vai indexar..\")\n"
   ]
  },
  {
   "cell_type": "code",
   "execution_count": 158,
   "id": "b32e9bc6",
   "metadata": {},
   "outputs": [],
   "source": [
    "a = time.time()"
   ]
  },
  {
   "cell_type": "code",
   "execution_count": 159,
   "id": "ed88192d",
   "metadata": {},
   "outputs": [],
   "source": [
    "document_store.write_documents(dados,batch_size=9000)"
   ]
  },
  {
   "cell_type": "code",
   "execution_count": 160,
   "id": "2652ae8d",
   "metadata": {},
   "outputs": [],
   "source": [
    "d = time.time()"
   ]
  },
  {
   "cell_type": "code",
   "execution_count": 161,
   "id": "d68ceff3",
   "metadata": {},
   "outputs": [
    {
     "name": "stdout",
     "output_type": "stream",
     "text": [
      "Duração indexação: 147.255004\n"
     ]
    }
   ],
   "source": [
    "print(\"Duração indexação: %f\" %(d-a))"
   ]
  },
  {
   "cell_type": "markdown",
   "id": "ef629748",
   "metadata": {},
   "source": [
    "## config 21"
   ]
  },
  {
   "cell_type": "code",
   "execution_count": 162,
   "id": "d3df0290",
   "metadata": {},
   "outputs": [
    {
     "name": "stderr",
     "output_type": "stream",
     "text": [
      "This ElasticsearchDocumentStore has been built for Elasticsearch 7, but the detected version of the Elasticsearch server is 8.8.2. Unexpected behaviors or errors may occur due to version incompatibility.\n"
     ]
    }
   ],
   "source": [
    "document_store = ElasticsearchDocumentStore(host='localhost', port=9200, username='elastic', password='TlHbFKwz9YMAprROSrgA', index='preprocessamento_21_indexacao',search_fields=[\"content\",\"name\"])"
   ]
  },
  {
   "cell_type": "code",
   "execution_count": 163,
   "id": "7dc2ebf8",
   "metadata": {},
   "outputs": [
    {
     "name": "stdout",
     "output_type": "stream",
     "text": [
      "Carragou dataframe\n"
     ]
    }
   ],
   "source": [
    "dados = pd.read_json(r\"E:\\Corpora_em_json\\unigram_bigram_savoy_full_indexacao\\pre_processamento_unigram_bigram_savoy_full.json\")\n",
    "dados.update(dados['contents'].fillna(\"Nenhum\"))\n",
    "\n",
    "print(\"Carragou dataframe\")\n"
   ]
  },
  {
   "cell_type": "code",
   "execution_count": 164,
   "id": "9cea8304",
   "metadata": {},
   "outputs": [
    {
     "name": "stdout",
     "output_type": "stream",
     "text": [
      "Já processou, vai indexar..\n"
     ]
    }
   ],
   "source": [
    "dados = [\n",
    "    {\n",
    "            \"content\": dados.loc[i,\"contents\"],\n",
    "            \"name\":dados.loc[i,\"txtNome\"]\n",
    "\n",
    "    }\n",
    "   for i in range(len(dados))\n",
    "    ]\n",
    "print(\"Já processou, vai indexar..\")"
   ]
  },
  {
   "cell_type": "code",
   "execution_count": 165,
   "id": "4003e778",
   "metadata": {},
   "outputs": [],
   "source": [
    "a = time.time()"
   ]
  },
  {
   "cell_type": "code",
   "execution_count": 166,
   "id": "bb89f897",
   "metadata": {},
   "outputs": [],
   "source": [
    "document_store.write_documents(dados,batch_size=9000)"
   ]
  },
  {
   "cell_type": "code",
   "execution_count": 167,
   "id": "3ff88c9f",
   "metadata": {},
   "outputs": [],
   "source": [
    "d = time.time()"
   ]
  },
  {
   "cell_type": "code",
   "execution_count": 168,
   "id": "81903a6d",
   "metadata": {},
   "outputs": [
    {
     "name": "stdout",
     "output_type": "stream",
     "text": [
      "Duração indexação: 148.079291\n"
     ]
    }
   ],
   "source": [
    "print(\"Duração indexação: %f\" %(d-a))"
   ]
  },
  {
   "cell_type": "markdown",
   "id": "6e682c21",
   "metadata": {},
   "source": [
    "## config 22"
   ]
  },
  {
   "cell_type": "code",
   "execution_count": 169,
   "id": "b36addc4",
   "metadata": {},
   "outputs": [
    {
     "name": "stderr",
     "output_type": "stream",
     "text": [
      "This ElasticsearchDocumentStore has been built for Elasticsearch 7, but the detected version of the Elasticsearch server is 8.8.2. Unexpected behaviors or errors may occur due to version incompatibility.\n"
     ]
    }
   ],
   "source": [
    "document_store = ElasticsearchDocumentStore(host='localhost', port=9200, username='elastic', password='TlHbFKwz9YMAprROSrgA', index='preprocessamento_22_indexacao',search_fields=[\"content\",\"name\"])"
   ]
  },
  {
   "cell_type": "code",
   "execution_count": 170,
   "id": "391c2ccc",
   "metadata": {},
   "outputs": [
    {
     "name": "stdout",
     "output_type": "stream",
     "text": [
      "Carragou dataframe\n"
     ]
    }
   ],
   "source": [
    "dados = pd.read_json(r\"E:\\Corpora_em_json\\rslps_full_indexacao\\pre_processamento_rslps_full.json\")\n",
    "dados.update(dados['contents'].fillna(\"Nenhum\"))\n",
    "\n",
    "print(\"Carragou dataframe\")\n"
   ]
  },
  {
   "cell_type": "code",
   "execution_count": 171,
   "id": "7bfb9fab",
   "metadata": {},
   "outputs": [
    {
     "name": "stdout",
     "output_type": "stream",
     "text": [
      "Já processou, vai indexar..\n"
     ]
    }
   ],
   "source": [
    "dados = [\n",
    "    {\n",
    "            \"content\": dados.loc[i,\"contents\"],\n",
    "            \"name\":dados.loc[i,\"txtNome\"]\n",
    "\n",
    "    }\n",
    "   for i in range(len(dados))\n",
    "    ]\n",
    "print(\"Já processou, vai indexar..\")"
   ]
  },
  {
   "cell_type": "code",
   "execution_count": 172,
   "id": "1812f7d6",
   "metadata": {},
   "outputs": [],
   "source": [
    "a = time.time()"
   ]
  },
  {
   "cell_type": "code",
   "execution_count": 173,
   "id": "935218c9",
   "metadata": {},
   "outputs": [],
   "source": [
    "document_store.write_documents(dados,batch_size=9000)"
   ]
  },
  {
   "cell_type": "code",
   "execution_count": 174,
   "id": "e09ca1f0",
   "metadata": {},
   "outputs": [],
   "source": [
    "d = time.time()"
   ]
  },
  {
   "cell_type": "code",
   "execution_count": 175,
   "id": "f53948bb",
   "metadata": {},
   "outputs": [
    {
     "name": "stdout",
     "output_type": "stream",
     "text": [
      "Duração indexação: 143.452410\n"
     ]
    }
   ],
   "source": [
    "print(\"Duração indexação: %f\" %(d-a))"
   ]
  },
  {
   "cell_type": "markdown",
   "id": "ea5d9326",
   "metadata": {},
   "source": [
    "## config 23"
   ]
  },
  {
   "cell_type": "code",
   "execution_count": 176,
   "id": "1f90b3fa",
   "metadata": {},
   "outputs": [
    {
     "name": "stderr",
     "output_type": "stream",
     "text": [
      "This ElasticsearchDocumentStore has been built for Elasticsearch 7, but the detected version of the Elasticsearch server is 8.8.2. Unexpected behaviors or errors may occur due to version incompatibility.\n"
     ]
    }
   ],
   "source": [
    "document_store = ElasticsearchDocumentStore(host='localhost', port=9200, username='elastic', password='TlHbFKwz9YMAprROSrgA', index='preprocessamento_23_indexacao',search_fields=[\"content\",\"name\"])"
   ]
  },
  {
   "cell_type": "code",
   "execution_count": 177,
   "id": "4284e1a1",
   "metadata": {},
   "outputs": [
    {
     "name": "stdout",
     "output_type": "stream",
     "text": [
      "Carragou dataframe\n"
     ]
    }
   ],
   "source": [
    "dados = pd.read_json(r\"E:\\Corpora_em_json\\unigram_bigram_rslps_full_indexacao\\pre_processamento_unigram_bigram_rslps_full.json\")\n",
    "dados.update(dados['contents'].fillna(\"Nenhum\"))\n",
    "\n",
    "print(\"Carragou dataframe\")\n"
   ]
  },
  {
   "cell_type": "code",
   "execution_count": 178,
   "id": "365a8866",
   "metadata": {},
   "outputs": [
    {
     "name": "stdout",
     "output_type": "stream",
     "text": [
      "Já processou, vai indexar..\n"
     ]
    }
   ],
   "source": [
    "dados = [\n",
    "    {\n",
    "            \"content\": dados.loc[i,\"contents\"],\n",
    "            \"name\":dados.loc[i,\"txtNome\"]\n",
    "\n",
    "    }\n",
    "   for i in range(len(dados))\n",
    "    ]\n",
    "print(\"Já processou, vai indexar..\")"
   ]
  },
  {
   "cell_type": "code",
   "execution_count": 179,
   "id": "59b0d94b",
   "metadata": {},
   "outputs": [],
   "source": [
    "a = time.time()"
   ]
  },
  {
   "cell_type": "code",
   "execution_count": 180,
   "id": "e08b2add",
   "metadata": {},
   "outputs": [],
   "source": [
    "document_store.write_documents(dados,batch_size=9000)"
   ]
  },
  {
   "cell_type": "code",
   "execution_count": 181,
   "id": "b9468580",
   "metadata": {},
   "outputs": [],
   "source": [
    "d = time.time()"
   ]
  },
  {
   "cell_type": "code",
   "execution_count": 182,
   "id": "565d53ff",
   "metadata": {},
   "outputs": [
    {
     "name": "stdout",
     "output_type": "stream",
     "text": [
      "Duração indexação: 149.486029\n"
     ]
    }
   ],
   "source": [
    "print(\"Duração indexação: %f\" %(d-a))"
   ]
  },
  {
   "cell_type": "markdown",
   "id": "56803c74",
   "metadata": {},
   "source": [
    "# Emenda + Indexacao"
   ]
  },
  {
   "cell_type": "markdown",
   "id": "3352a71a",
   "metadata": {},
   "source": [
    "## config 1"
   ]
  },
  {
   "cell_type": "code",
   "execution_count": 183,
   "id": "f03257f3",
   "metadata": {},
   "outputs": [
    {
     "name": "stderr",
     "output_type": "stream",
     "text": [
      "This ElasticsearchDocumentStore has been built for Elasticsearch 7, but the detected version of the Elasticsearch server is 8.8.2. Unexpected behaviors or errors may occur due to version incompatibility.\n"
     ]
    }
   ],
   "source": [
    "document_store = ElasticsearchDocumentStore(host='localhost', port=9200, username='elastic', password='TlHbFKwz9YMAprROSrgA', index='sem_preprocessamento_emenda_indexacao',search_fields=[\"content\",\"name\"])"
   ]
  },
  {
   "cell_type": "code",
   "execution_count": 184,
   "id": "6aabf332",
   "metadata": {},
   "outputs": [
    {
     "name": "stdout",
     "output_type": "stream",
     "text": [
      "Carragou dataframe\n"
     ]
    }
   ],
   "source": [
    "dados = pd.read_json(r\"E:\\Corpora_em_json\\sem_pre_processamento_emenda_indexacao\\sem_pre_processamento.json\")\n",
    "dados.update(dados['contents'].fillna(\"Nenhum\"))\n",
    "\n",
    "print(\"Carragou dataframe\")\n"
   ]
  },
  {
   "cell_type": "code",
   "execution_count": 185,
   "id": "35509f04",
   "metadata": {},
   "outputs": [
    {
     "name": "stdout",
     "output_type": "stream",
     "text": [
      "Já processou, vai indexar..\n"
     ]
    }
   ],
   "source": [
    "dados = [\n",
    "    {\n",
    "            \"content\": dados.loc[i,\"contents\"],\n",
    "            \"name\":dados.loc[i,\"txtNome\"]\n",
    "\n",
    "    }\n",
    "   for i in range(len(dados))\n",
    "    ]\n",
    "print(\"Já processou, vai indexar..\")\n"
   ]
  },
  {
   "cell_type": "code",
   "execution_count": 186,
   "id": "0ad1362c",
   "metadata": {},
   "outputs": [],
   "source": [
    "a = time.time()"
   ]
  },
  {
   "cell_type": "code",
   "execution_count": 187,
   "id": "35499a67",
   "metadata": {},
   "outputs": [],
   "source": [
    "document_store.write_documents(dados,batch_size=9000)"
   ]
  },
  {
   "cell_type": "code",
   "execution_count": 188,
   "id": "2cca231d",
   "metadata": {},
   "outputs": [],
   "source": [
    "d = time.time()"
   ]
  },
  {
   "cell_type": "code",
   "execution_count": 189,
   "id": "ec2fe550",
   "metadata": {},
   "outputs": [
    {
     "name": "stdout",
     "output_type": "stream",
     "text": [
      "Duração indexação: 157.451544\n"
     ]
    }
   ],
   "source": [
    "print(\"Duração indexação: %f\" %(d-a))"
   ]
  },
  {
   "cell_type": "markdown",
   "id": "c067159d",
   "metadata": {},
   "source": [
    "## config 5"
   ]
  },
  {
   "cell_type": "code",
   "execution_count": 190,
   "id": "2d758cfe",
   "metadata": {},
   "outputs": [
    {
     "name": "stderr",
     "output_type": "stream",
     "text": [
      "This ElasticsearchDocumentStore has been built for Elasticsearch 7, but the detected version of the Elasticsearch server is 8.8.2. Unexpected behaviors or errors may occur due to version incompatibility.\n"
     ]
    }
   ],
   "source": [
    "document_store = ElasticsearchDocumentStore(host='localhost', port=9200, username='elastic', password='TlHbFKwz9YMAprROSrgA', index='preprocessamento_5_emenda_indexacao',search_fields=[\"content\",\"name\"])"
   ]
  },
  {
   "cell_type": "code",
   "execution_count": 191,
   "id": "1d58456d",
   "metadata": {},
   "outputs": [
    {
     "name": "stdout",
     "output_type": "stream",
     "text": [
      "Carragou dataframe\n"
     ]
    }
   ],
   "source": [
    "dados = pd.read_json(r\"E:\\Corpora_em_json\\lower_remocao_punctuation_acentuacao_stopwords_emenda_indexacao\\pre_processamento_lower_remocao_punctuation_acentuacao_stopwords.json\")\n",
    "dados.update(dados['contents'].fillna(\"Nenhum\"))\n",
    "\n",
    "print(\"Carragou dataframe\")\n"
   ]
  },
  {
   "cell_type": "code",
   "execution_count": 192,
   "id": "242f49f0",
   "metadata": {},
   "outputs": [
    {
     "name": "stdout",
     "output_type": "stream",
     "text": [
      "Já processou, vai indexar..\n"
     ]
    }
   ],
   "source": [
    "dados = [\n",
    "    {\n",
    "            \"content\": dados.loc[i,\"contents\"],\n",
    "            \"name\":dados.loc[i,\"txtNome\"]\n",
    "\n",
    "    }\n",
    "   for i in range(len(dados))\n",
    "    ]\n",
    "print(\"Já processou, vai indexar..\")\n"
   ]
  },
  {
   "cell_type": "code",
   "execution_count": 193,
   "id": "20a06c64",
   "metadata": {},
   "outputs": [],
   "source": [
    "a = time.time()"
   ]
  },
  {
   "cell_type": "code",
   "execution_count": 194,
   "id": "06311347",
   "metadata": {},
   "outputs": [],
   "source": [
    "document_store.write_documents(dados,batch_size=9000)"
   ]
  },
  {
   "cell_type": "code",
   "execution_count": 195,
   "id": "9bc4aac4",
   "metadata": {},
   "outputs": [],
   "source": [
    "d = time.time()"
   ]
  },
  {
   "cell_type": "code",
   "execution_count": 196,
   "id": "b822ec9c",
   "metadata": {},
   "outputs": [
    {
     "name": "stdout",
     "output_type": "stream",
     "text": [
      "Duração indexação: 164.612145\n"
     ]
    }
   ],
   "source": [
    "print(\"Duração indexação: %f\" %(d-a))"
   ]
  },
  {
   "cell_type": "markdown",
   "id": "9a7c7aa5",
   "metadata": {},
   "source": [
    "## config 8"
   ]
  },
  {
   "cell_type": "code",
   "execution_count": 197,
   "id": "578ad60e",
   "metadata": {},
   "outputs": [
    {
     "name": "stderr",
     "output_type": "stream",
     "text": [
      "This ElasticsearchDocumentStore has been built for Elasticsearch 7, but the detected version of the Elasticsearch server is 8.8.2. Unexpected behaviors or errors may occur due to version incompatibility.\n"
     ]
    }
   ],
   "source": [
    "document_store = ElasticsearchDocumentStore(host='localhost', port=9200, username='elastic', password='TlHbFKwz9YMAprROSrgA', index='preprocessamento_8_emenda_indexacao',search_fields=[\"content\",\"name\"])"
   ]
  },
  {
   "cell_type": "code",
   "execution_count": 198,
   "id": "190f4f3d",
   "metadata": {},
   "outputs": [
    {
     "name": "stdout",
     "output_type": "stream",
     "text": [
      "Carragou dataframe\n"
     ]
    }
   ],
   "source": [
    "dados = pd.read_json(r\"E:\\Corpora_em_json\\rslp_full_emenda_indexacao\\pre_processamento_rslp_full.json\")\n",
    "dados.update(dados['contents'].fillna(\"Nenhum\"))\n",
    "\n",
    "print(\"Carragou dataframe\")\n"
   ]
  },
  {
   "cell_type": "code",
   "execution_count": 199,
   "id": "fc569350",
   "metadata": {},
   "outputs": [
    {
     "name": "stdout",
     "output_type": "stream",
     "text": [
      "Já processou, vai indexar..\n"
     ]
    }
   ],
   "source": [
    "dados = [\n",
    "    {\n",
    "            \"content\": dados.loc[i,\"contents\"],\n",
    "            \"name\":dados.loc[i,\"txtNome\"]\n",
    "\n",
    "    }\n",
    "   for i in range(len(dados))\n",
    "    ]\n",
    "print(\"Já processou, vai indexar..\")\n"
   ]
  },
  {
   "cell_type": "code",
   "execution_count": 200,
   "id": "c180c126",
   "metadata": {},
   "outputs": [],
   "source": [
    "a = time.time()"
   ]
  },
  {
   "cell_type": "code",
   "execution_count": 201,
   "id": "a7ffa4d8",
   "metadata": {},
   "outputs": [],
   "source": [
    "document_store.write_documents(dados,batch_size=9000)"
   ]
  },
  {
   "cell_type": "code",
   "execution_count": 202,
   "id": "0be84e34",
   "metadata": {},
   "outputs": [],
   "source": [
    "d = time.time()"
   ]
  },
  {
   "cell_type": "code",
   "execution_count": 203,
   "id": "9b13337b",
   "metadata": {},
   "outputs": [
    {
     "name": "stdout",
     "output_type": "stream",
     "text": [
      "Duração indexação: 161.926297\n"
     ]
    }
   ],
   "source": [
    "print(\"Duração indexação: %f\" %(d-a))"
   ]
  },
  {
   "cell_type": "markdown",
   "id": "841db6d1",
   "metadata": {},
   "source": [
    "## config 9"
   ]
  },
  {
   "cell_type": "code",
   "execution_count": 204,
   "id": "66852c9e",
   "metadata": {},
   "outputs": [
    {
     "name": "stderr",
     "output_type": "stream",
     "text": [
      "This ElasticsearchDocumentStore has been built for Elasticsearch 7, but the detected version of the Elasticsearch server is 8.8.2. Unexpected behaviors or errors may occur due to version incompatibility.\n"
     ]
    }
   ],
   "source": [
    "document_store = ElasticsearchDocumentStore(host='localhost', port=9200, username='elastic', password='TlHbFKwz9YMAprROSrgA', index='preprocessamento_9_emenda_indexacao',search_fields=[\"content\",\"name\"])"
   ]
  },
  {
   "cell_type": "code",
   "execution_count": 205,
   "id": "bc47a5d5",
   "metadata": {},
   "outputs": [
    {
     "name": "stdout",
     "output_type": "stream",
     "text": [
      "Carragou dataframe\n"
     ]
    }
   ],
   "source": [
    "dados = pd.read_json(r\"E:\\Corpora_em_json\\savoy_full_emenda_indexacao\\pre_processamento_savoy_full.json\")\n",
    "dados.update(dados['contents'].fillna(\"Nenhum\"))\n",
    "\n",
    "print(\"Carragou dataframe\")\n"
   ]
  },
  {
   "cell_type": "code",
   "execution_count": 206,
   "id": "de0a2a2e",
   "metadata": {},
   "outputs": [
    {
     "name": "stdout",
     "output_type": "stream",
     "text": [
      "Já processou, vai indexar..\n"
     ]
    }
   ],
   "source": [
    "dados = [\n",
    "    {\n",
    "            \"content\": dados.loc[i,\"contents\"],\n",
    "            \"name\":dados.loc[i,\"txtNome\"]\n",
    "\n",
    "    }\n",
    "   for i in range(len(dados))\n",
    "    ]\n",
    "print(\"Já processou, vai indexar..\")"
   ]
  },
  {
   "cell_type": "code",
   "execution_count": 207,
   "id": "ef7550cc",
   "metadata": {},
   "outputs": [],
   "source": [
    "a = time.time()"
   ]
  },
  {
   "cell_type": "code",
   "execution_count": 208,
   "id": "6688e721",
   "metadata": {},
   "outputs": [],
   "source": [
    "document_store.write_documents(dados,batch_size=9000)"
   ]
  },
  {
   "cell_type": "code",
   "execution_count": 209,
   "id": "9806e429",
   "metadata": {},
   "outputs": [],
   "source": [
    "d = time.time()"
   ]
  },
  {
   "cell_type": "code",
   "execution_count": 210,
   "id": "82ff0f79",
   "metadata": {},
   "outputs": [
    {
     "name": "stdout",
     "output_type": "stream",
     "text": [
      "Duração indexação: 147.762824\n"
     ]
    }
   ],
   "source": [
    "print(\"Duração indexação: %f\" %(d-a))"
   ]
  },
  {
   "cell_type": "markdown",
   "id": "f36964a2",
   "metadata": {},
   "source": [
    "## config 18"
   ]
  },
  {
   "cell_type": "code",
   "execution_count": 211,
   "id": "efd94130",
   "metadata": {},
   "outputs": [
    {
     "name": "stderr",
     "output_type": "stream",
     "text": [
      "This ElasticsearchDocumentStore has been built for Elasticsearch 7, but the detected version of the Elasticsearch server is 8.8.2. Unexpected behaviors or errors may occur due to version incompatibility.\n"
     ]
    }
   ],
   "source": [
    "document_store = ElasticsearchDocumentStore(host='localhost', port=9200, username='elastic', password='TlHbFKwz9YMAprROSrgA', index='preprocessamento_18_emenda_indexacao',search_fields=[\"content\",\"name\"])"
   ]
  },
  {
   "cell_type": "code",
   "execution_count": 212,
   "id": "db991455",
   "metadata": {},
   "outputs": [
    {
     "name": "stdout",
     "output_type": "stream",
     "text": [
      "Carragou dataframe\n"
     ]
    }
   ],
   "source": [
    "dados = pd.read_json(r\"E:\\Corpora_em_json\\unigram_bigram_rslp_full_emenda_indexacao\\pre_processamento_unigram_bigram_rslp_full.json\")\n",
    "dados.update(dados['contents'].fillna(\"Nenhum\"))\n",
    "\n",
    "print(\"Carragou dataframe\")\n"
   ]
  },
  {
   "cell_type": "code",
   "execution_count": 213,
   "id": "e6d9cb16",
   "metadata": {},
   "outputs": [
    {
     "name": "stdout",
     "output_type": "stream",
     "text": [
      "Já processou, vai indexar..\n"
     ]
    }
   ],
   "source": [
    "dados = [\n",
    "    {\n",
    "            \"content\": dados.loc[i,\"contents\"],\n",
    "            \"name\":dados.loc[i,\"txtNome\"]\n",
    "\n",
    "    }\n",
    "   for i in range(len(dados))\n",
    "    ]\n",
    "print(\"Já processou, vai indexar..\")\n"
   ]
  },
  {
   "cell_type": "code",
   "execution_count": 214,
   "id": "ade644ed",
   "metadata": {},
   "outputs": [],
   "source": [
    "a = time.time()"
   ]
  },
  {
   "cell_type": "code",
   "execution_count": 215,
   "id": "c307b9e6",
   "metadata": {},
   "outputs": [],
   "source": [
    "document_store.write_documents(dados,batch_size=9000)"
   ]
  },
  {
   "cell_type": "code",
   "execution_count": 216,
   "id": "b8648464",
   "metadata": {},
   "outputs": [],
   "source": [
    "d = time.time()"
   ]
  },
  {
   "cell_type": "code",
   "execution_count": 217,
   "id": "24902b20",
   "metadata": {},
   "outputs": [
    {
     "name": "stdout",
     "output_type": "stream",
     "text": [
      "Duração indexação: 156.026983\n"
     ]
    }
   ],
   "source": [
    "print(\"Duração indexação: %f\" %(d-a))"
   ]
  },
  {
   "cell_type": "markdown",
   "id": "5eaaa730",
   "metadata": {},
   "source": [
    "## config 21"
   ]
  },
  {
   "cell_type": "code",
   "execution_count": 218,
   "id": "cc31588f",
   "metadata": {},
   "outputs": [
    {
     "name": "stderr",
     "output_type": "stream",
     "text": [
      "This ElasticsearchDocumentStore has been built for Elasticsearch 7, but the detected version of the Elasticsearch server is 8.8.2. Unexpected behaviors or errors may occur due to version incompatibility.\n"
     ]
    }
   ],
   "source": [
    "document_store = ElasticsearchDocumentStore(host='localhost', port=9200, username='elastic', password='TlHbFKwz9YMAprROSrgA', index='preprocessamento_21_emenda_indexacao',search_fields=[\"content\",\"name\"])"
   ]
  },
  {
   "cell_type": "code",
   "execution_count": 219,
   "id": "8684b8f8",
   "metadata": {},
   "outputs": [
    {
     "name": "stdout",
     "output_type": "stream",
     "text": [
      "Carragou dataframe\n"
     ]
    }
   ],
   "source": [
    "dados = pd.read_json(r\"E:\\Corpora_em_json\\unigram_bigram_savoy_full_emenda_indexacao\\pre_processamento_unigram_bigram_savoy_full.json\")\n",
    "dados.update(dados['contents'].fillna(\"Nenhum\"))\n",
    "\n",
    "print(\"Carragou dataframe\")\n"
   ]
  },
  {
   "cell_type": "code",
   "execution_count": 220,
   "id": "9b60bee1",
   "metadata": {},
   "outputs": [
    {
     "name": "stdout",
     "output_type": "stream",
     "text": [
      "Já processou, vai indexar..\n"
     ]
    }
   ],
   "source": [
    "dados = [\n",
    "    {\n",
    "            \"content\": dados.loc[i,\"contents\"],\n",
    "            \"name\":dados.loc[i,\"txtNome\"]\n",
    "\n",
    "    }\n",
    "   for i in range(len(dados))\n",
    "    ]\n",
    "print(\"Já processou, vai indexar..\")\n"
   ]
  },
  {
   "cell_type": "code",
   "execution_count": 221,
   "id": "80e5b3a6",
   "metadata": {},
   "outputs": [],
   "source": [
    "a = time.time()"
   ]
  },
  {
   "cell_type": "code",
   "execution_count": 222,
   "id": "9dc6da02",
   "metadata": {},
   "outputs": [],
   "source": [
    "document_store.write_documents(dados,batch_size=9000)"
   ]
  },
  {
   "cell_type": "code",
   "execution_count": 223,
   "id": "653e3d9f",
   "metadata": {},
   "outputs": [],
   "source": [
    "d = time.time()"
   ]
  },
  {
   "cell_type": "code",
   "execution_count": 224,
   "id": "2c1b5cf5",
   "metadata": {},
   "outputs": [
    {
     "name": "stdout",
     "output_type": "stream",
     "text": [
      "Duração indexação: 153.297558\n"
     ]
    }
   ],
   "source": [
    "print(\"Duração indexação: %f\" %(d-a))"
   ]
  },
  {
   "cell_type": "markdown",
   "id": "6c535a8c",
   "metadata": {},
   "source": [
    "## config 22"
   ]
  },
  {
   "cell_type": "code",
   "execution_count": 225,
   "id": "b39dd802",
   "metadata": {},
   "outputs": [
    {
     "name": "stderr",
     "output_type": "stream",
     "text": [
      "This ElasticsearchDocumentStore has been built for Elasticsearch 7, but the detected version of the Elasticsearch server is 8.8.2. Unexpected behaviors or errors may occur due to version incompatibility.\n"
     ]
    }
   ],
   "source": [
    "document_store = ElasticsearchDocumentStore(host='localhost', port=9200, username='elastic', password='TlHbFKwz9YMAprROSrgA', index='preprocessamento_22_emenda_indexacao',search_fields=[\"content\",\"name\"])"
   ]
  },
  {
   "cell_type": "code",
   "execution_count": 226,
   "id": "37f2f360",
   "metadata": {},
   "outputs": [
    {
     "name": "stdout",
     "output_type": "stream",
     "text": [
      "Carragou dataframe\n"
     ]
    }
   ],
   "source": [
    "dados = pd.read_json(r\"E:\\Corpora_em_json\\rslps_full_emenda_indexacao\\pre_processamento_rslps_full.json\")\n",
    "dados.update(dados['contents'].fillna(\"Nenhum\"))\n",
    "\n",
    "print(\"Carragou dataframe\")\n"
   ]
  },
  {
   "cell_type": "code",
   "execution_count": 227,
   "id": "b9127361",
   "metadata": {},
   "outputs": [
    {
     "name": "stdout",
     "output_type": "stream",
     "text": [
      "Já processou, vai indexar..\n"
     ]
    }
   ],
   "source": [
    "dados = [\n",
    "    {\n",
    "            \"content\": dados.loc[i,\"contents\"],\n",
    "            \"name\":dados.loc[i,\"txtNome\"]\n",
    "\n",
    "    }\n",
    "   for i in range(len(dados))\n",
    "    ]\n",
    "print(\"Já processou, vai indexar..\")"
   ]
  },
  {
   "cell_type": "code",
   "execution_count": 228,
   "id": "3e23ff66",
   "metadata": {},
   "outputs": [],
   "source": [
    "a = time.time()"
   ]
  },
  {
   "cell_type": "code",
   "execution_count": 229,
   "id": "6119b741",
   "metadata": {},
   "outputs": [],
   "source": [
    "document_store.write_documents(dados,batch_size=9000)"
   ]
  },
  {
   "cell_type": "code",
   "execution_count": 230,
   "id": "d524e3f8",
   "metadata": {},
   "outputs": [],
   "source": [
    "d = time.time()"
   ]
  },
  {
   "cell_type": "code",
   "execution_count": 231,
   "id": "cb7d8e59",
   "metadata": {},
   "outputs": [
    {
     "name": "stdout",
     "output_type": "stream",
     "text": [
      "Duração indexação: 144.583400\n"
     ]
    }
   ],
   "source": [
    "print(\"Duração indexação: %f\" %(d-a))"
   ]
  },
  {
   "cell_type": "markdown",
   "id": "fa485c3c",
   "metadata": {},
   "source": [
    "## config 23"
   ]
  },
  {
   "cell_type": "code",
   "execution_count": 232,
   "id": "72df87f9",
   "metadata": {},
   "outputs": [
    {
     "name": "stderr",
     "output_type": "stream",
     "text": [
      "This ElasticsearchDocumentStore has been built for Elasticsearch 7, but the detected version of the Elasticsearch server is 8.8.2. Unexpected behaviors or errors may occur due to version incompatibility.\n"
     ]
    }
   ],
   "source": [
    "document_store = ElasticsearchDocumentStore(host='localhost', port=9200, username='elastic', password='TlHbFKwz9YMAprROSrgA', index='preprocessamento_23_emenda_indexacao',search_fields=[\"content\",\"name\"])"
   ]
  },
  {
   "cell_type": "code",
   "execution_count": 233,
   "id": "d661f94e",
   "metadata": {},
   "outputs": [
    {
     "name": "stdout",
     "output_type": "stream",
     "text": [
      "Carragou dataframe\n"
     ]
    }
   ],
   "source": [
    "dados = pd.read_json(r\"E:\\Corpora_em_json\\unigram_bigram_rslps_full_emenda_indexacao\\pre_processamento_unigram_bigram_rslps_full.json\")\n",
    "dados.update(dados['contents'].fillna(\"Nenhum\"))\n",
    "\n",
    "print(\"Carragou dataframe\")\n"
   ]
  },
  {
   "cell_type": "code",
   "execution_count": 234,
   "id": "83f805ad",
   "metadata": {},
   "outputs": [
    {
     "name": "stdout",
     "output_type": "stream",
     "text": [
      "Já processou, vai indexar..\n"
     ]
    }
   ],
   "source": [
    "dados = [\n",
    "    {\n",
    "            \"content\": dados.loc[i,\"contents\"],\n",
    "            \"name\":dados.loc[i,\"txtNome\"]\n",
    "\n",
    "    }\n",
    "   for i in range(len(dados))\n",
    "    ]\n",
    "print(\"Já processou, vai indexar..\")"
   ]
  },
  {
   "cell_type": "code",
   "execution_count": 235,
   "id": "efa29aeb",
   "metadata": {},
   "outputs": [],
   "source": [
    "a = time.time()"
   ]
  },
  {
   "cell_type": "code",
   "execution_count": 236,
   "id": "aa256025",
   "metadata": {},
   "outputs": [],
   "source": [
    "document_store.write_documents(dados,batch_size=9000)"
   ]
  },
  {
   "cell_type": "code",
   "execution_count": 237,
   "id": "733ac7c8",
   "metadata": {},
   "outputs": [],
   "source": [
    "d = time.time()"
   ]
  },
  {
   "cell_type": "code",
   "execution_count": 238,
   "id": "2757538e",
   "metadata": {},
   "outputs": [
    {
     "name": "stdout",
     "output_type": "stream",
     "text": [
      "Duração indexação: 155.795280\n"
     ]
    }
   ],
   "source": [
    "print(\"Duração indexação: %f\" %(d-a))"
   ]
  },
  {
   "cell_type": "code",
   "execution_count": null,
   "id": "3f9db538",
   "metadata": {},
   "outputs": [],
   "source": []
  }
 ],
 "metadata": {
  "kernelspec": {
   "display_name": "Python 3 (ipykernel)",
   "language": "python",
   "name": "python3"
  },
  "language_info": {
   "codemirror_mode": {
    "name": "ipython",
    "version": 3
   },
   "file_extension": ".py",
   "mimetype": "text/x-python",
   "name": "python",
   "nbconvert_exporter": "python",
   "pygments_lexer": "ipython3",
   "version": "3.8.7"
  }
 },
 "nbformat": 4,
 "nbformat_minor": 5
}
