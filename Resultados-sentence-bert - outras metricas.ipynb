{
 "cells": [
  {
   "cell_type": "code",
   "execution_count": 2,
   "id": "7f97e041",
   "metadata": {},
   "outputs": [
    {
     "name": "stderr",
     "output_type": "stream",
     "text": [
      "[nltk_data] Downloading package stopwords to\n",
      "[nltk_data]     C:\\Users\\Flavio\\AppData\\Roaming\\nltk_data...\n",
      "[nltk_data]   Package stopwords is already up-to-date!\n",
      "[nltk_data] Downloading package punkt to\n",
      "[nltk_data]     C:\\Users\\Flavio\\AppData\\Roaming\\nltk_data...\n",
      "[nltk_data]   Package punkt is already up-to-date!\n",
      "[nltk_data] Downloading package rslp to\n",
      "[nltk_data]     C:\\Users\\Flavio\\AppData\\Roaming\\nltk_data...\n",
      "[nltk_data]   Package rslp is already up-to-date!\n"
     ]
    }
   ],
   "source": [
    "from sentence_transformers import SentenceTransformer, util\n",
    "from transformers import BertTokenizer\n",
    "import pandas as pd\n",
    "import numpy as np\n",
    "import nltk\n",
    "import math\n",
    "from joblib import Parallel, delayed\n",
    "\n",
    "nltk.download('stopwords')\n",
    "nltk.download('punkt')\n",
    "nltk.download('rslp')\n",
    "\n",
    "from nltk.tokenize import word_tokenize\n",
    "from string import punctuation\n",
    "import nltk\n",
    "from unicodedata import normalize\n",
    "from nltk.stem import RSLPStemmer\n",
    "from nltk.util import ngrams\n",
    "from nltk.tokenize import RegexpTokenizer\n",
    "\n",
    "import torch\n",
    "import time\n"
   ]
  },
  {
   "cell_type": "code",
   "execution_count": 3,
   "id": "c5e0d706",
   "metadata": {},
   "outputs": [],
   "source": [
    "df_assunto= pd.read_table(\"dados-conle-anonimizado-assunto-notnull - dados-conle-anonimizado-assunto-notnull.tsv\",sep=\";\")"
   ]
  },
  {
   "cell_type": "code",
   "execution_count": 4,
   "id": "e63cfc77",
   "metadata": {},
   "outputs": [],
   "source": [
    "base = pd.read_csv(\"base_20230428_douglas.csv\", sep=',')"
   ]
  },
  {
   "cell_type": "code",
   "execution_count": 5,
   "id": "26c3a20a",
   "metadata": {},
   "outputs": [
    {
     "data": {
      "text/html": [
       "<div>\n",
       "<style scoped>\n",
       "    .dataframe tbody tr th:only-of-type {\n",
       "        vertical-align: middle;\n",
       "    }\n",
       "\n",
       "    .dataframe tbody tr th {\n",
       "        vertical-align: top;\n",
       "    }\n",
       "\n",
       "    .dataframe thead th {\n",
       "        text-align: right;\n",
       "    }\n",
       "</style>\n",
       "<table border=\"1\" class=\"dataframe\">\n",
       "  <thead>\n",
       "    <tr style=\"text-align: right;\">\n",
       "      <th></th>\n",
       "      <th>codProposicao</th>\n",
       "      <th>txtSiglaTipo</th>\n",
       "      <th>numAno</th>\n",
       "      <th>numNumero</th>\n",
       "      <th>txtNome</th>\n",
       "      <th>txtEmenta</th>\n",
       "      <th>txtExplicacaoEmenta</th>\n",
       "      <th>txtIndexacao</th>\n",
       "      <th>txtInteiroTeor</th>\n",
       "    </tr>\n",
       "  </thead>\n",
       "  <tbody>\n",
       "    <tr>\n",
       "      <th>0</th>\n",
       "      <td>16357</td>\n",
       "      <td>PL</td>\n",
       "      <td>1999</td>\n",
       "      <td>1165</td>\n",
       "      <td>PL 1165/1999</td>\n",
       "      <td>Altera dispositivo da Lei nº 8.987, de 13 de f...</td>\n",
       "      <td>Estabelece que as concessionárias disponibiliz...</td>\n",
       "      <td>Alteração, Lei das Concessões de Serviços Públ...</td>\n",
       "      <td>Ofício nº 1416  (SF)                          ...</td>\n",
       "    </tr>\n",
       "    <tr>\n",
       "      <th>1</th>\n",
       "      <td>19098</td>\n",
       "      <td>PL</td>\n",
       "      <td>1992</td>\n",
       "      <td>3097</td>\n",
       "      <td>PL 3097/1992</td>\n",
       "      <td>Dispõe sobre a eleição de diretores de fundos ...</td>\n",
       "      <td>NaN</td>\n",
       "      <td>NORMAS, ELEIÇÃO DIRETA, EMPREGADO, APOSENTADO,...</td>\n",
       "      <td>COMISSÃO DE CONSTITUIÇÃO E JUSTIÇA E DE REDAÇÃ...</td>\n",
       "    </tr>\n",
       "    <tr>\n",
       "      <th>2</th>\n",
       "      <td>20464</td>\n",
       "      <td>PL</td>\n",
       "      <td>2000</td>\n",
       "      <td>3927</td>\n",
       "      <td>PL 3927/2000</td>\n",
       "      <td>Altera a composição dos Tribunais Regionais do...</td>\n",
       "      <td>Altera a composição do TRT da 5ª região, 6ª re...</td>\n",
       "      <td>Alteração, Lei Federal, composição, Tribunal R...</td>\n",
       "      <td>COMISSÃO DE TRABALHO, DE ADMINISTRAÇÃO E SERVI...</td>\n",
       "    </tr>\n",
       "    <tr>\n",
       "      <th>3</th>\n",
       "      <td>20683</td>\n",
       "      <td>PL</td>\n",
       "      <td>1998</td>\n",
       "      <td>4117</td>\n",
       "      <td>PL 4117/1998</td>\n",
       "      <td>Dispõe sobre o acesso a ambientes de uso colet...</td>\n",
       "      <td>NaN</td>\n",
       "      <td>Autorização, pessoa portadora de deficiência, ...</td>\n",
       "      <td>Câmara dos Deputados\\n           Departamento ...</td>\n",
       "    </tr>\n",
       "    <tr>\n",
       "      <th>4</th>\n",
       "      <td>20857</td>\n",
       "      <td>PL</td>\n",
       "      <td>1998</td>\n",
       "      <td>4395</td>\n",
       "      <td>PL 4395/1998</td>\n",
       "      <td>Estabelece as Diretrizes Nacionais de Defesa C...</td>\n",
       "      <td>NaN</td>\n",
       "      <td>Fixação, diretrizes, defesa civil, (Sindec), d...</td>\n",
       "      <td>- 1 - \\nCOMISSÃO DE CONSTITUIÇÃO E JUSTIÇA E D...</td>\n",
       "    </tr>\n",
       "    <tr>\n",
       "      <th>...</th>\n",
       "      <td>...</td>\n",
       "      <td>...</td>\n",
       "      <td>...</td>\n",
       "      <td>...</td>\n",
       "      <td>...</td>\n",
       "      <td>...</td>\n",
       "      <td>...</td>\n",
       "      <td>...</td>\n",
       "      <td>...</td>\n",
       "    </tr>\n",
       "    <tr>\n",
       "      <th>57104</th>\n",
       "      <td>2358873</td>\n",
       "      <td>PL</td>\n",
       "      <td>2023</td>\n",
       "      <td>2233</td>\n",
       "      <td>PL 2233/2023</td>\n",
       "      <td>Altera o parágrafo único do art. 71 do Código ...</td>\n",
       "      <td>NaN</td>\n",
       "      <td>NaN</td>\n",
       "      <td>1 \\n  \\n \\n \\n \\nCÂMARA DOS DEPUTADOS \\nPROJET...</td>\n",
       "    </tr>\n",
       "    <tr>\n",
       "      <th>57105</th>\n",
       "      <td>2358874</td>\n",
       "      <td>PL</td>\n",
       "      <td>2019</td>\n",
       "      <td>3616</td>\n",
       "      <td>PL 3616/2019</td>\n",
       "      <td>Altera a Lei nº 9.503, de 23 de setembro de 19...</td>\n",
       "      <td>NaN</td>\n",
       "      <td>NaN</td>\n",
       "      <td>Altera a Lei nº 9.503, de 23 de setembro\\nde 1...</td>\n",
       "    </tr>\n",
       "    <tr>\n",
       "      <th>57106</th>\n",
       "      <td>2358875</td>\n",
       "      <td>PL</td>\n",
       "      <td>2019</td>\n",
       "      <td>1822</td>\n",
       "      <td>PL 1822/2019</td>\n",
       "      <td>Altera a Lei nº 11.340, de 7 de agosto de 2006...</td>\n",
       "      <td>NaN</td>\n",
       "      <td>NaN</td>\n",
       "      <td>Altera a Lei nº 11.340, de 7 de agosto de\\n200...</td>\n",
       "    </tr>\n",
       "    <tr>\n",
       "      <th>57107</th>\n",
       "      <td>2358877</td>\n",
       "      <td>PL</td>\n",
       "      <td>2019</td>\n",
       "      <td>3815</td>\n",
       "      <td>PL 3815/2019</td>\n",
       "      <td>Altera a Lei nº 7.565, de 19 de dezembro de 19...</td>\n",
       "      <td>NaN</td>\n",
       "      <td>NaN</td>\n",
       "      <td>Altera a Lei nº 7.565, de 19 de dezembro\\nde  ...</td>\n",
       "    </tr>\n",
       "    <tr>\n",
       "      <th>57108</th>\n",
       "      <td>2358878</td>\n",
       "      <td>PL</td>\n",
       "      <td>2019</td>\n",
       "      <td>3130</td>\n",
       "      <td>PL 3130/2019</td>\n",
       "      <td>Altera a Lei nº 13.675, de 11 de junho de 2018...</td>\n",
       "      <td>NaN</td>\n",
       "      <td>NaN</td>\n",
       "      <td>Altera a Lei nº 13.675, de 11 de junho de\\n201...</td>\n",
       "    </tr>\n",
       "  </tbody>\n",
       "</table>\n",
       "<p>57109 rows × 9 columns</p>\n",
       "</div>"
      ],
      "text/plain": [
       "       codProposicao txtSiglaTipo  numAno  numNumero       txtNome  \\\n",
       "0              16357   PL            1999       1165  PL 1165/1999   \n",
       "1              19098   PL            1992       3097  PL 3097/1992   \n",
       "2              20464   PL            2000       3927  PL 3927/2000   \n",
       "3              20683   PL            1998       4117  PL 4117/1998   \n",
       "4              20857   PL            1998       4395  PL 4395/1998   \n",
       "...              ...          ...     ...        ...           ...   \n",
       "57104        2358873   PL            2023       2233  PL 2233/2023   \n",
       "57105        2358874   PL            2019       3616  PL 3616/2019   \n",
       "57106        2358875   PL            2019       1822  PL 1822/2019   \n",
       "57107        2358877   PL            2019       3815  PL 3815/2019   \n",
       "57108        2358878   PL            2019       3130  PL 3130/2019   \n",
       "\n",
       "                                               txtEmenta  \\\n",
       "0      Altera dispositivo da Lei nº 8.987, de 13 de f...   \n",
       "1      Dispõe sobre a eleição de diretores de fundos ...   \n",
       "2      Altera a composição dos Tribunais Regionais do...   \n",
       "3      Dispõe sobre o acesso a ambientes de uso colet...   \n",
       "4      Estabelece as Diretrizes Nacionais de Defesa C...   \n",
       "...                                                  ...   \n",
       "57104  Altera o parágrafo único do art. 71 do Código ...   \n",
       "57105  Altera a Lei nº 9.503, de 23 de setembro de 19...   \n",
       "57106  Altera a Lei nº 11.340, de 7 de agosto de 2006...   \n",
       "57107  Altera a Lei nº 7.565, de 19 de dezembro de 19...   \n",
       "57108  Altera a Lei nº 13.675, de 11 de junho de 2018...   \n",
       "\n",
       "                                     txtExplicacaoEmenta  \\\n",
       "0      Estabelece que as concessionárias disponibiliz...   \n",
       "1                                                    NaN   \n",
       "2      Altera a composição do TRT da 5ª região, 6ª re...   \n",
       "3                                                    NaN   \n",
       "4                                                    NaN   \n",
       "...                                                  ...   \n",
       "57104                                                NaN   \n",
       "57105                                                NaN   \n",
       "57106                                                NaN   \n",
       "57107                                                NaN   \n",
       "57108                                                NaN   \n",
       "\n",
       "                                            txtIndexacao  \\\n",
       "0      Alteração, Lei das Concessões de Serviços Públ...   \n",
       "1      NORMAS, ELEIÇÃO DIRETA, EMPREGADO, APOSENTADO,...   \n",
       "2      Alteração, Lei Federal, composição, Tribunal R...   \n",
       "3      Autorização, pessoa portadora de deficiência, ...   \n",
       "4      Fixação, diretrizes, defesa civil, (Sindec), d...   \n",
       "...                                                  ...   \n",
       "57104                                                NaN   \n",
       "57105                                                NaN   \n",
       "57106                                                NaN   \n",
       "57107                                                NaN   \n",
       "57108                                                NaN   \n",
       "\n",
       "                                          txtInteiroTeor  \n",
       "0      Ofício nº 1416  (SF)                          ...  \n",
       "1      COMISSÃO DE CONSTITUIÇÃO E JUSTIÇA E DE REDAÇÃ...  \n",
       "2      COMISSÃO DE TRABALHO, DE ADMINISTRAÇÃO E SERVI...  \n",
       "3      Câmara dos Deputados\\n           Departamento ...  \n",
       "4      - 1 - \\nCOMISSÃO DE CONSTITUIÇÃO E JUSTIÇA E D...  \n",
       "...                                                  ...  \n",
       "57104  1 \\n  \\n \\n \\n \\nCÂMARA DOS DEPUTADOS \\nPROJET...  \n",
       "57105  Altera a Lei nº 9.503, de 23 de setembro\\nde 1...  \n",
       "57106  Altera a Lei nº 11.340, de 7 de agosto de\\n200...  \n",
       "57107  Altera a Lei nº 7.565, de 19 de dezembro\\nde  ...  \n",
       "57108  Altera a Lei nº 13.675, de 11 de junho de\\n201...  \n",
       "\n",
       "[57109 rows x 9 columns]"
      ]
     },
     "execution_count": 5,
     "metadata": {},
     "output_type": "execute_result"
    }
   ],
   "source": [
    "base"
   ]
  },
  {
   "cell_type": "code",
   "execution_count": 6,
   "id": "96fc892c",
   "metadata": {},
   "outputs": [
    {
     "data": {
      "application/vnd.jupyter.widget-view+json": {
       "model_id": "2802179936a8473e8dff2752fcaa3e60",
       "version_major": 2,
       "version_minor": 0
      },
      "text/plain": [
       "Downloading (…)53a76/.gitattributes:   0%|          | 0.00/690 [00:00<?, ?B/s]"
      ]
     },
     "metadata": {},
     "output_type": "display_data"
    },
    {
     "data": {
      "application/vnd.jupyter.widget-view+json": {
       "model_id": "67fa1a1287074f16afe631bb5d39e8d7",
       "version_major": 2,
       "version_minor": 0
      },
      "text/plain": [
       "Downloading (…)_Pooling/config.json:   0%|          | 0.00/190 [00:00<?, ?B/s]"
      ]
     },
     "metadata": {},
     "output_type": "display_data"
    },
    {
     "data": {
      "application/vnd.jupyter.widget-view+json": {
       "model_id": "35d664bd68824468a7c6c4d1312a6227",
       "version_major": 2,
       "version_minor": 0
      },
      "text/plain": [
       "Downloading (…)6dae053a76/README.md:   0%|          | 0.00/3.89k [00:00<?, ?B/s]"
      ]
     },
     "metadata": {},
     "output_type": "display_data"
    },
    {
     "data": {
      "application/vnd.jupyter.widget-view+json": {
       "model_id": "aaf99c39787646fbbafe3c48b522a957",
       "version_major": 2,
       "version_minor": 0
      },
      "text/plain": [
       "Downloading (…)ae053a76/config.json:   0%|          | 0.00/613 [00:00<?, ?B/s]"
      ]
     },
     "metadata": {},
     "output_type": "display_data"
    },
    {
     "data": {
      "application/vnd.jupyter.widget-view+json": {
       "model_id": "6c793a3cab2844a3bf0b32677b4249a6",
       "version_major": 2,
       "version_minor": 0
      },
      "text/plain": [
       "Downloading (…)ce_transformers.json:   0%|          | 0.00/122 [00:00<?, ?B/s]"
      ]
     },
     "metadata": {},
     "output_type": "display_data"
    },
    {
     "data": {
      "application/vnd.jupyter.widget-view+json": {
       "model_id": "8b1ed0e5300b45b8849bbd3bd4d26216",
       "version_major": 2,
       "version_minor": 0
      },
      "text/plain": [
       "Downloading pytorch_model.bin:   0%|          | 0.00/438M [00:00<?, ?B/s]"
      ]
     },
     "metadata": {},
     "output_type": "display_data"
    },
    {
     "data": {
      "application/vnd.jupyter.widget-view+json": {
       "model_id": "4032f5eb73bf4f03a777dd55c9456aae",
       "version_major": 2,
       "version_minor": 0
      },
      "text/plain": [
       "Downloading (…)nce_bert_config.json:   0%|          | 0.00/53.0 [00:00<?, ?B/s]"
      ]
     },
     "metadata": {},
     "output_type": "display_data"
    },
    {
     "data": {
      "application/vnd.jupyter.widget-view+json": {
       "model_id": "e8ce9fb7e5e348959d9a85e534a161e8",
       "version_major": 2,
       "version_minor": 0
      },
      "text/plain": [
       "Downloading (…)cial_tokens_map.json:   0%|          | 0.00/112 [00:00<?, ?B/s]"
      ]
     },
     "metadata": {},
     "output_type": "display_data"
    },
    {
     "data": {
      "application/vnd.jupyter.widget-view+json": {
       "model_id": "7824b79e44cb442ebf2c77d914a4d805",
       "version_major": 2,
       "version_minor": 0
      },
      "text/plain": [
       "Downloading (…)53a76/tokenizer.json:   0%|          | 0.00/466k [00:00<?, ?B/s]"
      ]
     },
     "metadata": {},
     "output_type": "display_data"
    },
    {
     "data": {
      "application/vnd.jupyter.widget-view+json": {
       "model_id": "5d2f755d0ae44891b0ca33edc285eb7f",
       "version_major": 2,
       "version_minor": 0
      },
      "text/plain": [
       "Downloading (…)okenizer_config.json:   0%|          | 0.00/375 [00:00<?, ?B/s]"
      ]
     },
     "metadata": {},
     "output_type": "display_data"
    },
    {
     "data": {
      "application/vnd.jupyter.widget-view+json": {
       "model_id": "c091f45c07684d3ba5ccb18e1a3a773b",
       "version_major": 2,
       "version_minor": 0
      },
      "text/plain": [
       "Downloading (…)6dae053a76/vocab.txt:   0%|          | 0.00/232k [00:00<?, ?B/s]"
      ]
     },
     "metadata": {},
     "output_type": "display_data"
    },
    {
     "data": {
      "application/vnd.jupyter.widget-view+json": {
       "model_id": "8b699eccdd9546c2a51da88276bc01dd",
       "version_major": 2,
       "version_minor": 0
      },
      "text/plain": [
       "Downloading (…)e053a76/modules.json:   0%|          | 0.00/229 [00:00<?, ?B/s]"
      ]
     },
     "metadata": {},
     "output_type": "display_data"
    }
   ],
   "source": [
    "model = SentenceTransformer(\"sentence-transformers/nli-bert-base\")"
   ]
  },
  {
   "cell_type": "code",
   "execution_count": 7,
   "id": "f74298b6",
   "metadata": {},
   "outputs": [
    {
     "data": {
      "text/plain": [
       "SentenceTransformer(\n",
       "  (0): Transformer({'max_seq_length': 128, 'do_lower_case': False}) with Transformer model: BertModel \n",
       "  (1): Pooling({'word_embedding_dimension': 768, 'pooling_mode_cls_token': False, 'pooling_mode_mean_tokens': True, 'pooling_mode_max_tokens': False, 'pooling_mode_mean_sqrt_len_tokens': False})\n",
       ")"
      ]
     },
     "execution_count": 7,
     "metadata": {},
     "output_type": "execute_result"
    }
   ],
   "source": [
    "model"
   ]
  },
  {
   "cell_type": "code",
   "execution_count": 8,
   "id": "5e567837",
   "metadata": {},
   "outputs": [],
   "source": [
    "arr_assunto = df_assunto.to_numpy()\n",
    "y,X = arr_assunto[:,0],arr_assunto[:,1]\n",
    "y = [i.strip() for i in y]"
   ]
  },
  {
   "cell_type": "code",
   "execution_count": 9,
   "id": "f9912055",
   "metadata": {},
   "outputs": [],
   "source": [
    "device_gpu = torch.device(\"cuda\")"
   ]
  },
  {
   "cell_type": "markdown",
   "id": "e1bfefdc",
   "metadata": {},
   "source": [
    "## Search"
   ]
  },
  {
   "cell_type": "code",
   "execution_count": 10,
   "id": "5742acfd",
   "metadata": {},
   "outputs": [],
   "source": [
    "def search(query, data_emb,base,top_k=20):\n",
    "    #hits = util.semantic_search(query_emb,data,top_k=k)\n",
    "    query_emb = model.encode(query,convert_to_tensor=True,device=device_gpu)\n",
    "    hits = util.cos_sim(query_emb,data_emb)[0]\n",
    "    rank = torch.topk(hits, k=top_k)\n",
    "    \n",
    "    \n",
    "    top_n = list()\n",
    "    for i in range(top_k):\n",
    "        dado = dict()\n",
    "        dado['txtNome'] = base.iloc[rank.indices[i].item(),4]\n",
    "        dado['score'] = rank.values[i].item()\n",
    "        top_n.append(dado)\n",
    "    return top_n\n",
    "    "
   ]
  },
  {
   "cell_type": "markdown",
   "id": "afde7a79",
   "metadata": {},
   "source": [
    "## Recall"
   ]
  },
  {
   "cell_type": "code",
   "execution_count": 11,
   "id": "31624c0a",
   "metadata": {},
   "outputs": [],
   "source": [
    "def verificar(y,top_n):\n",
    "    for d in top_n:\n",
    "        if y == d[\"txtNome\"]:\n",
    "            return 1\n",
    "    return 0"
   ]
  },
  {
   "cell_type": "code",
   "execution_count": 12,
   "id": "a1f4ee94",
   "metadata": {},
   "outputs": [],
   "source": [
    "def avaliacaoRecall(isPre,top_k=20):\n",
    "\n",
    "    quant_encontrado=0\n",
    "    quant_relevante =0\n",
    "    a = time.time()\n",
    "    for l,x in zip(y,X):\n",
    "    \n",
    "        query_tokenized = x\n",
    "        if isPre:\n",
    "            query_tokenized = preprocess(x)\n",
    "            \n",
    "        top_n = search(query_tokenized,data_emb,base,top_k)\n",
    "                \n",
    "        quant_relevante+=1\n",
    "        quant_encontrado+=verificar(l,top_n)\n",
    "    d = time.time()\n",
    "    print(\"Duração: %f\" %(d-a))\n",
    "    recall = quant_encontrado / quant_relevante\n",
    "    print(\"Recall: \"+str(recall))"
   ]
  },
  {
   "cell_type": "code",
   "execution_count": 13,
   "id": "6b3f5db7",
   "metadata": {},
   "outputs": [],
   "source": [
    "def avaliacaoRR(isPre):\n",
    "\n",
    "    quant_encontrado=0\n",
    "    for l,x in zip(y,X):\n",
    "    \n",
    "        query_tokenized = x\n",
    "        if isPre:\n",
    "            query_tokenized = preprocess(x)\n",
    "            \n",
    "        top_n = search(query_tokenized,data_emb,base)\n",
    "        if top_n[0][\"txtNome\"].strip() == l.strip():\n",
    "            quant_encontrado+=1\n",
    "    rr = quant_encontrado / 295\n",
    "    print(\"RR: %f\" % (rr))"
   ]
  },
  {
   "cell_type": "code",
   "execution_count": 14,
   "id": "3741b110",
   "metadata": {},
   "outputs": [],
   "source": [
    "def avaliacaoPrecision(isPre,top_k=20):\n",
    "\n",
    "    soma=0\n",
    "    for l,x in zip(y,X):\n",
    "    \n",
    "        query_tokenized = x\n",
    "        if isPre:\n",
    "            query_tokenized = preprocess(x)\n",
    "            \n",
    "        top_n = search(query_tokenized,data_emb,base,top_k)\n",
    "        encontrado=verificar(l,top_n)\n",
    "        soma+=(encontrado/top_k)\n",
    "    precision = soma / 295\n",
    "    print(\"Precision: \"+str(precision))"
   ]
  },
  {
   "cell_type": "code",
   "execution_count": 15,
   "id": "29b0b410",
   "metadata": {},
   "outputs": [],
   "source": [
    "def avaliacaoMAP(isPre,top_k=20):\n",
    "    l_v = list()\n",
    "    labels_nsL = list()\n",
    "    \n",
    "    for l,x in zip(y,X):\n",
    "    \n",
    "        query_tokenized = x\n",
    "        if isPre:\n",
    "            query_tokenized = preprocess(x)\n",
    "            \n",
    "        top_n = search(query_tokenized,data_emb,base,top_k)\n",
    "        l_v.append(l)\n",
    "        labels_nsL.append([doc[\"txtNome\"] for doc in top_n])\n",
    "        \n",
    "    denominador = 0\n",
    "    encontrou=False\n",
    "    soma=0\n",
    "    for Y,x in zip(l_v,labels_nsL):\n",
    "        calc = 0\n",
    "        quant=0\n",
    "        for k in x:\n",
    "            if str(k).strip() == Y.strip():\n",
    "                quant=1\n",
    "                encontrou=True\n",
    "            denominador+=1\n",
    "            calc=quant/denominador\n",
    "            if encontrou:\n",
    "                calc = calc * 1\n",
    "            else:\n",
    "                calc = calc * 0\n",
    "            soma+=calc\n",
    "            encontrou = False\n",
    "    MAP = soma /295\n",
    "    print(\"MAP@ %d: %f\" % (top_k,MAP))"
   ]
  },
  {
   "cell_type": "code",
   "execution_count": 163,
   "id": "ec6bc94b",
   "metadata": {},
   "outputs": [],
   "source": [
    "data = base.txtInteiroTeor.fillna(\"Em branco\")        # Trocar com nome da coluna desejada"
   ]
  },
  {
   "cell_type": "markdown",
   "id": "eef7cc0e",
   "metadata": {},
   "source": [
    "## Config 1"
   ]
  },
  {
   "cell_type": "code",
   "execution_count": 164,
   "id": "52505068",
   "metadata": {},
   "outputs": [],
   "source": [
    "a = time.time()"
   ]
  },
  {
   "cell_type": "code",
   "execution_count": 165,
   "id": "a03449ff",
   "metadata": {},
   "outputs": [],
   "source": [
    "data_emb = model.encode(data,convert_to_tensor=True,device=device_gpu)"
   ]
  },
  {
   "cell_type": "code",
   "execution_count": 166,
   "id": "52c9485f",
   "metadata": {},
   "outputs": [],
   "source": [
    "d = time.time()"
   ]
  },
  {
   "cell_type": "code",
   "execution_count": 167,
   "id": "cd413241",
   "metadata": {},
   "outputs": [
    {
     "name": "stdout",
     "output_type": "stream",
     "text": [
      "Duração da indexação: 2156.972861\n"
     ]
    }
   ],
   "source": [
    "print(\"Duração da indexação: %f\" % (d-a))"
   ]
  },
  {
   "cell_type": "markdown",
   "id": "4eb40e59",
   "metadata": {},
   "source": [
    "## Avaliação"
   ]
  },
  {
   "cell_type": "markdown",
   "id": "be026553",
   "metadata": {},
   "source": [
    "### Recall"
   ]
  },
  {
   "cell_type": "code",
   "execution_count": 168,
   "id": "c9f02aeb",
   "metadata": {},
   "outputs": [
    {
     "name": "stdout",
     "output_type": "stream",
     "text": [
      "Duração: 21.865000\n",
      "Recall: 0.020338983050847456\n"
     ]
    }
   ],
   "source": [
    "avaliacaoRecall(False,top_k=5)"
   ]
  },
  {
   "cell_type": "code",
   "execution_count": 169,
   "id": "0d0eda4b",
   "metadata": {},
   "outputs": [
    {
     "name": "stdout",
     "output_type": "stream",
     "text": [
      "Duração: 22.396000\n",
      "Recall: 0.02711864406779661\n"
     ]
    }
   ],
   "source": [
    "avaliacaoRecall(False,top_k=10)"
   ]
  },
  {
   "cell_type": "code",
   "execution_count": 170,
   "id": "20fea0ca",
   "metadata": {},
   "outputs": [
    {
     "name": "stdout",
     "output_type": "stream",
     "text": [
      "Duração: 22.964996\n",
      "Recall: 0.03389830508474576\n"
     ]
    }
   ],
   "source": [
    "avaliacaoRecall(False,top_k=20)"
   ]
  },
  {
   "cell_type": "markdown",
   "id": "662f28cb",
   "metadata": {},
   "source": [
    "### MAP"
   ]
  },
  {
   "cell_type": "code",
   "execution_count": 171,
   "id": "f9c9743a",
   "metadata": {},
   "outputs": [
    {
     "name": "stdout",
     "output_type": "stream",
     "text": [
      "MAP@ 5: 0.000095\n"
     ]
    }
   ],
   "source": [
    "avaliacaoMAP(False,top_k=5)"
   ]
  },
  {
   "cell_type": "code",
   "execution_count": 172,
   "id": "3a167ea2",
   "metadata": {},
   "outputs": [
    {
     "name": "stdout",
     "output_type": "stream",
     "text": [
      "MAP@ 10: 0.000054\n"
     ]
    }
   ],
   "source": [
    "avaliacaoMAP(False,top_k=10)"
   ]
  },
  {
   "cell_type": "code",
   "execution_count": 173,
   "id": "f71bfa18",
   "metadata": {},
   "outputs": [
    {
     "name": "stdout",
     "output_type": "stream",
     "text": [
      "MAP@ 20: 0.000029\n"
     ]
    }
   ],
   "source": [
    "avaliacaoMAP(False,top_k=20)"
   ]
  },
  {
   "cell_type": "markdown",
   "id": "2ed26cf7",
   "metadata": {},
   "source": [
    "### Precision"
   ]
  },
  {
   "cell_type": "code",
   "execution_count": 174,
   "id": "661a852c",
   "metadata": {},
   "outputs": [
    {
     "name": "stdout",
     "output_type": "stream",
     "text": [
      "Precision: 0.004067796610169492\n"
     ]
    }
   ],
   "source": [
    "avaliacaoPrecision(False,top_k=5)"
   ]
  },
  {
   "cell_type": "code",
   "execution_count": 175,
   "id": "dd3725fe",
   "metadata": {},
   "outputs": [
    {
     "name": "stdout",
     "output_type": "stream",
     "text": [
      "Precision: 0.0027118644067796608\n"
     ]
    }
   ],
   "source": [
    "avaliacaoPrecision(False,top_k=10)"
   ]
  },
  {
   "cell_type": "code",
   "execution_count": 176,
   "id": "0ffd0d77",
   "metadata": {},
   "outputs": [
    {
     "name": "stdout",
     "output_type": "stream",
     "text": [
      "Precision: 0.0016949152542372879\n"
     ]
    }
   ],
   "source": [
    "avaliacaoPrecision(False,top_k=20)"
   ]
  },
  {
   "cell_type": "markdown",
   "id": "549af05f",
   "metadata": {},
   "source": [
    "### RR"
   ]
  },
  {
   "cell_type": "code",
   "execution_count": 177,
   "id": "13363d47",
   "metadata": {},
   "outputs": [
    {
     "name": "stdout",
     "output_type": "stream",
     "text": [
      "RR: 0.010169\n"
     ]
    }
   ],
   "source": [
    "avaliacaoRR(False)"
   ]
  },
  {
   "cell_type": "markdown",
   "id": "6ac5a4d3",
   "metadata": {},
   "source": [
    "## Config 5"
   ]
  },
  {
   "cell_type": "code",
   "execution_count": 178,
   "id": "be19b10b",
   "metadata": {},
   "outputs": [],
   "source": [
    "def _remove_acentos(txt):\n",
    "    return normalize('NFKD', txt).encode('ASCII', 'ignore').decode('ASCII')\n",
    "\n",
    "def preprocess(txt):\n",
    "    txt = str(txt)\n",
    "    txt = _remove_acentos(txt)\n",
    "    stopwords = nltk.corpus.stopwords.words(\"portuguese\")\n",
    "    stopwords.extend(list(punctuation))\n",
    "    tokenizer = RegexpTokenizer('\\w+')\n",
    "    terms = tokenizer.tokenize(txt.lower())\n",
    "    terms = [word for word in terms if word not in stopwords]\n",
    "\n",
    "    return \" \".join(terms)"
   ]
  },
  {
   "cell_type": "code",
   "execution_count": 179,
   "id": "aca05c42",
   "metadata": {},
   "outputs": [],
   "source": [
    "data_preprocess = Parallel(n_jobs=4)(delayed(preprocess)(doc) for doc in data)"
   ]
  },
  {
   "cell_type": "code",
   "execution_count": 180,
   "id": "889735f9",
   "metadata": {},
   "outputs": [],
   "source": [
    "a = time.time()"
   ]
  },
  {
   "cell_type": "code",
   "execution_count": 181,
   "id": "bbd3a3af",
   "metadata": {},
   "outputs": [],
   "source": [
    "data_emb = model.encode(data,convert_to_tensor=True,device=device_gpu)"
   ]
  },
  {
   "cell_type": "code",
   "execution_count": 182,
   "id": "edecbb0c",
   "metadata": {},
   "outputs": [],
   "source": [
    "d = time.time()"
   ]
  },
  {
   "cell_type": "code",
   "execution_count": 183,
   "id": "d5662e0e",
   "metadata": {},
   "outputs": [
    {
     "name": "stdout",
     "output_type": "stream",
     "text": [
      "Duração da indexação: 2144.586112\n"
     ]
    }
   ],
   "source": [
    "print(\"Duração da indexação: %f\" % (d-a))"
   ]
  },
  {
   "cell_type": "markdown",
   "id": "5808dbe8",
   "metadata": {},
   "source": [
    "## Avaliação"
   ]
  },
  {
   "cell_type": "markdown",
   "id": "719ac98f",
   "metadata": {},
   "source": [
    "### Recall"
   ]
  },
  {
   "cell_type": "code",
   "execution_count": 184,
   "id": "b7267b6a",
   "metadata": {},
   "outputs": [
    {
     "name": "stdout",
     "output_type": "stream",
     "text": [
      "Duração: 20.787000\n",
      "Recall: 0.01694915254237288\n"
     ]
    }
   ],
   "source": [
    "avaliacaoRecall(True,top_k=5)"
   ]
  },
  {
   "cell_type": "code",
   "execution_count": 185,
   "id": "bd186bdc",
   "metadata": {},
   "outputs": [
    {
     "name": "stdout",
     "output_type": "stream",
     "text": [
      "Duração: 21.974998\n",
      "Recall: 0.020338983050847456\n"
     ]
    }
   ],
   "source": [
    "avaliacaoRecall(True,top_k=10)"
   ]
  },
  {
   "cell_type": "code",
   "execution_count": 186,
   "id": "02170f60",
   "metadata": {},
   "outputs": [
    {
     "name": "stdout",
     "output_type": "stream",
     "text": [
      "Duração: 22.474994\n",
      "Recall: 0.03389830508474576\n"
     ]
    }
   ],
   "source": [
    "avaliacaoRecall(True,top_k=20)"
   ]
  },
  {
   "cell_type": "markdown",
   "id": "bbad95f2",
   "metadata": {},
   "source": [
    "### MAP"
   ]
  },
  {
   "cell_type": "code",
   "execution_count": 187,
   "id": "b9d39c43",
   "metadata": {},
   "outputs": [
    {
     "name": "stdout",
     "output_type": "stream",
     "text": [
      "MAP@ 5: 0.000022\n"
     ]
    }
   ],
   "source": [
    "avaliacaoMAP(True,top_k=5)"
   ]
  },
  {
   "cell_type": "code",
   "execution_count": 188,
   "id": "066d80b3",
   "metadata": {},
   "outputs": [
    {
     "name": "stdout",
     "output_type": "stream",
     "text": [
      "MAP@ 10: 0.000022\n"
     ]
    }
   ],
   "source": [
    "avaliacaoMAP(True,top_k=10)"
   ]
  },
  {
   "cell_type": "code",
   "execution_count": 189,
   "id": "3ee07804",
   "metadata": {},
   "outputs": [
    {
     "name": "stdout",
     "output_type": "stream",
     "text": [
      "MAP@ 20: 0.000033\n"
     ]
    }
   ],
   "source": [
    "avaliacaoMAP(True,top_k=20)"
   ]
  },
  {
   "cell_type": "markdown",
   "id": "9974b790",
   "metadata": {},
   "source": [
    "### Precision"
   ]
  },
  {
   "cell_type": "code",
   "execution_count": 190,
   "id": "ad8b8947",
   "metadata": {},
   "outputs": [
    {
     "name": "stdout",
     "output_type": "stream",
     "text": [
      "Precision: 0.003389830508474576\n"
     ]
    }
   ],
   "source": [
    "avaliacaoPrecision(True,top_k=5)"
   ]
  },
  {
   "cell_type": "code",
   "execution_count": 191,
   "id": "9e05856d",
   "metadata": {},
   "outputs": [
    {
     "name": "stdout",
     "output_type": "stream",
     "text": [
      "Precision: 0.002033898305084746\n"
     ]
    }
   ],
   "source": [
    "avaliacaoPrecision(True,top_k=10)"
   ]
  },
  {
   "cell_type": "code",
   "execution_count": 192,
   "id": "8da3212d",
   "metadata": {},
   "outputs": [
    {
     "name": "stdout",
     "output_type": "stream",
     "text": [
      "Precision: 0.0016949152542372879\n"
     ]
    }
   ],
   "source": [
    "avaliacaoPrecision(True,top_k=20)"
   ]
  },
  {
   "cell_type": "markdown",
   "id": "f2e22a90",
   "metadata": {},
   "source": [
    "### RR"
   ]
  },
  {
   "cell_type": "code",
   "execution_count": 193,
   "id": "a144dd2d",
   "metadata": {},
   "outputs": [
    {
     "name": "stdout",
     "output_type": "stream",
     "text": [
      "RR: 0.003390\n"
     ]
    }
   ],
   "source": [
    "avaliacaoRR(True)"
   ]
  },
  {
   "cell_type": "markdown",
   "id": "57912237",
   "metadata": {},
   "source": [
    "## Config 0"
   ]
  },
  {
   "cell_type": "code",
   "execution_count": 194,
   "id": "bb3b955d",
   "metadata": {},
   "outputs": [],
   "source": [
    "def preprocess(txt):\n",
    "    txt = str(txt)\n",
    "    \n",
    "    stopwords = nltk.corpus.stopwords.words(\"portuguese\")\n",
    "   \n",
    "    terms = word_tokenize(txt)\n",
    "    terms = [word for word in terms if word not in stopwords]\n",
    "        \n",
    "    return \" \".join(terms)"
   ]
  },
  {
   "cell_type": "code",
   "execution_count": 195,
   "id": "acda46ee",
   "metadata": {},
   "outputs": [],
   "source": [
    "data_preprocess = Parallel(n_jobs=4)(delayed(preprocess)(doc) for doc in data)"
   ]
  },
  {
   "cell_type": "code",
   "execution_count": 196,
   "id": "ab064f1e",
   "metadata": {},
   "outputs": [],
   "source": [
    "a = time.time()"
   ]
  },
  {
   "cell_type": "code",
   "execution_count": 197,
   "id": "e387a878",
   "metadata": {},
   "outputs": [],
   "source": [
    "data_emb = model.encode(data,convert_to_tensor=True,device=device_gpu)"
   ]
  },
  {
   "cell_type": "code",
   "execution_count": 198,
   "id": "a4343c36",
   "metadata": {},
   "outputs": [],
   "source": [
    "d = time.time()"
   ]
  },
  {
   "cell_type": "code",
   "execution_count": 199,
   "id": "29f406f4",
   "metadata": {},
   "outputs": [
    {
     "name": "stdout",
     "output_type": "stream",
     "text": [
      "Duração da indexação: 2187.252002\n"
     ]
    }
   ],
   "source": [
    "print(\"Duração da indexação: %f\" % (d-a))"
   ]
  },
  {
   "cell_type": "markdown",
   "id": "5e4ce02b",
   "metadata": {},
   "source": [
    "## Avaliação"
   ]
  },
  {
   "cell_type": "markdown",
   "id": "afb77082",
   "metadata": {},
   "source": [
    "### Recall"
   ]
  },
  {
   "cell_type": "code",
   "execution_count": 200,
   "id": "7b0cc79e",
   "metadata": {},
   "outputs": [
    {
     "name": "stdout",
     "output_type": "stream",
     "text": [
      "Duração: 23.678994\n",
      "Recall: 0.023728813559322035\n"
     ]
    }
   ],
   "source": [
    "avaliacaoRecall(True,top_k=5)"
   ]
  },
  {
   "cell_type": "code",
   "execution_count": 201,
   "id": "50ca3b4d",
   "metadata": {},
   "outputs": [
    {
     "name": "stdout",
     "output_type": "stream",
     "text": [
      "Duração: 22.563998\n",
      "Recall: 0.03389830508474576\n"
     ]
    }
   ],
   "source": [
    "avaliacaoRecall(True,top_k=10)"
   ]
  },
  {
   "cell_type": "code",
   "execution_count": 202,
   "id": "45e94daf",
   "metadata": {},
   "outputs": [
    {
     "name": "stdout",
     "output_type": "stream",
     "text": [
      "Duração: 23.186998\n",
      "Recall: 0.04067796610169491\n"
     ]
    }
   ],
   "source": [
    "avaliacaoRecall(True,top_k=20)"
   ]
  },
  {
   "cell_type": "markdown",
   "id": "3a854098",
   "metadata": {},
   "source": [
    "### MAP"
   ]
  },
  {
   "cell_type": "code",
   "execution_count": 203,
   "id": "6d0f06e7",
   "metadata": {},
   "outputs": [
    {
     "name": "stdout",
     "output_type": "stream",
     "text": [
      "MAP@ 5: 0.000101\n"
     ]
    }
   ],
   "source": [
    "avaliacaoMAP(True,top_k=5)"
   ]
  },
  {
   "cell_type": "code",
   "execution_count": 204,
   "id": "4af134c5",
   "metadata": {},
   "outputs": [
    {
     "name": "stdout",
     "output_type": "stream",
     "text": [
      "MAP@ 10: 0.000060\n"
     ]
    }
   ],
   "source": [
    "avaliacaoMAP(True,top_k=10)"
   ]
  },
  {
   "cell_type": "code",
   "execution_count": 205,
   "id": "0020fc25",
   "metadata": {},
   "outputs": [
    {
     "name": "stdout",
     "output_type": "stream",
     "text": [
      "MAP@ 20: 0.000034\n"
     ]
    }
   ],
   "source": [
    "avaliacaoMAP(True,top_k=20)"
   ]
  },
  {
   "cell_type": "markdown",
   "id": "288c616d",
   "metadata": {},
   "source": [
    "### Precision"
   ]
  },
  {
   "cell_type": "code",
   "execution_count": 206,
   "id": "997153ea",
   "metadata": {},
   "outputs": [
    {
     "name": "stdout",
     "output_type": "stream",
     "text": [
      "Precision: 0.0047457627118644066\n"
     ]
    }
   ],
   "source": [
    "avaliacaoPrecision(True,top_k=5)"
   ]
  },
  {
   "cell_type": "code",
   "execution_count": 207,
   "id": "028a1fe9",
   "metadata": {},
   "outputs": [
    {
     "name": "stdout",
     "output_type": "stream",
     "text": [
      "Precision: 0.0033898305084745757\n"
     ]
    }
   ],
   "source": [
    "avaliacaoPrecision(True,top_k=10)"
   ]
  },
  {
   "cell_type": "code",
   "execution_count": 208,
   "id": "6cdedf98",
   "metadata": {},
   "outputs": [
    {
     "name": "stdout",
     "output_type": "stream",
     "text": [
      "Precision: 0.002033898305084746\n"
     ]
    }
   ],
   "source": [
    "avaliacaoPrecision(True,top_k=20)"
   ]
  },
  {
   "cell_type": "markdown",
   "id": "cb8cee36",
   "metadata": {},
   "source": [
    "### RR"
   ]
  },
  {
   "cell_type": "code",
   "execution_count": 209,
   "id": "2155e75d",
   "metadata": {},
   "outputs": [
    {
     "name": "stdout",
     "output_type": "stream",
     "text": [
      "RR: 0.006780\n"
     ]
    }
   ],
   "source": [
    "avaliacaoRR(True)"
   ]
  },
  {
   "cell_type": "markdown",
   "id": "55cd71bb",
   "metadata": {},
   "source": [
    "# TxtEmenta"
   ]
  },
  {
   "cell_type": "code",
   "execution_count": 16,
   "id": "363269ea",
   "metadata": {},
   "outputs": [],
   "source": [
    "data = base.txtEmenta.fillna(\"Em branco\")"
   ]
  },
  {
   "cell_type": "markdown",
   "id": "0e348662",
   "metadata": {},
   "source": [
    "## Config 1"
   ]
  },
  {
   "cell_type": "code",
   "execution_count": 17,
   "id": "db28c0cb",
   "metadata": {},
   "outputs": [],
   "source": [
    "a = time.time()"
   ]
  },
  {
   "cell_type": "code",
   "execution_count": 18,
   "id": "5afb6ae7",
   "metadata": {},
   "outputs": [],
   "source": [
    "data_emb = model.encode(data,convert_to_tensor=True,device=device_gpu)"
   ]
  },
  {
   "cell_type": "code",
   "execution_count": 19,
   "id": "97501ed4",
   "metadata": {},
   "outputs": [],
   "source": [
    "d = time.time()"
   ]
  },
  {
   "cell_type": "code",
   "execution_count": 20,
   "id": "980bc41f",
   "metadata": {},
   "outputs": [
    {
     "name": "stdout",
     "output_type": "stream",
     "text": [
      "Duração da indexação: 506.237767\n"
     ]
    }
   ],
   "source": [
    "print(\"Duração da indexação: %f\" % (d-a))"
   ]
  },
  {
   "cell_type": "markdown",
   "id": "9ba72702",
   "metadata": {},
   "source": [
    "## Avaliação"
   ]
  },
  {
   "cell_type": "markdown",
   "id": "d07196fd",
   "metadata": {},
   "source": [
    "### Recall"
   ]
  },
  {
   "cell_type": "code",
   "execution_count": 21,
   "id": "ae0951e0",
   "metadata": {},
   "outputs": [
    {
     "name": "stdout",
     "output_type": "stream",
     "text": [
      "Duração: 9.413576\n",
      "Recall: 0.09152542372881356\n"
     ]
    }
   ],
   "source": [
    "avaliacaoRecall(False,top_k=5)"
   ]
  },
  {
   "cell_type": "code",
   "execution_count": 22,
   "id": "0cbfe34a",
   "metadata": {},
   "outputs": [
    {
     "name": "stdout",
     "output_type": "stream",
     "text": [
      "Duração: 9.636001\n",
      "Recall: 0.09830508474576272\n"
     ]
    }
   ],
   "source": [
    "avaliacaoRecall(False,top_k=10)"
   ]
  },
  {
   "cell_type": "code",
   "execution_count": 23,
   "id": "f0a50ab2",
   "metadata": {},
   "outputs": [
    {
     "name": "stdout",
     "output_type": "stream",
     "text": [
      "Duração: 11.634689\n",
      "Recall: 0.11186440677966102\n"
     ]
    }
   ],
   "source": [
    "avaliacaoRecall(False,top_k=20)"
   ]
  },
  {
   "cell_type": "markdown",
   "id": "285e5dd3",
   "metadata": {},
   "source": [
    "### MAP"
   ]
  },
  {
   "cell_type": "code",
   "execution_count": 24,
   "id": "55b2c7ac",
   "metadata": {},
   "outputs": [
    {
     "name": "stdout",
     "output_type": "stream",
     "text": [
      "MAP@ 5: 0.001100\n"
     ]
    }
   ],
   "source": [
    "avaliacaoMAP(False,top_k=5)"
   ]
  },
  {
   "cell_type": "code",
   "execution_count": 25,
   "id": "f8b21b78",
   "metadata": {},
   "outputs": [
    {
     "name": "stdout",
     "output_type": "stream",
     "text": [
      "MAP@ 10: 0.000586\n"
     ]
    }
   ],
   "source": [
    "avaliacaoMAP(False,top_k=10)"
   ]
  },
  {
   "cell_type": "code",
   "execution_count": 26,
   "id": "7d2e320e",
   "metadata": {},
   "outputs": [
    {
     "name": "stdout",
     "output_type": "stream",
     "text": [
      "MAP@ 20: 0.000311\n"
     ]
    }
   ],
   "source": [
    "avaliacaoMAP(False,top_k=20)"
   ]
  },
  {
   "cell_type": "markdown",
   "id": "f12118e7",
   "metadata": {},
   "source": [
    "### Precision"
   ]
  },
  {
   "cell_type": "code",
   "execution_count": 27,
   "id": "fe111a85",
   "metadata": {},
   "outputs": [
    {
     "name": "stdout",
     "output_type": "stream",
     "text": [
      "Precision: 0.018305084745762718\n"
     ]
    }
   ],
   "source": [
    "avaliacaoPrecision(False,top_k=5)"
   ]
  },
  {
   "cell_type": "code",
   "execution_count": 28,
   "id": "a9afc040",
   "metadata": {},
   "outputs": [
    {
     "name": "stdout",
     "output_type": "stream",
     "text": [
      "Precision: 0.009830508474576276\n"
     ]
    }
   ],
   "source": [
    "avaliacaoPrecision(False,top_k=10)"
   ]
  },
  {
   "cell_type": "code",
   "execution_count": 29,
   "id": "2b2b628e",
   "metadata": {},
   "outputs": [
    {
     "name": "stdout",
     "output_type": "stream",
     "text": [
      "Precision: 0.005593220338983054\n"
     ]
    }
   ],
   "source": [
    "avaliacaoPrecision(False,top_k=20)"
   ]
  },
  {
   "cell_type": "markdown",
   "id": "5cde0ac0",
   "metadata": {},
   "source": [
    "### RR"
   ]
  },
  {
   "cell_type": "code",
   "execution_count": 30,
   "id": "d64ffd53",
   "metadata": {},
   "outputs": [
    {
     "name": "stdout",
     "output_type": "stream",
     "text": [
      "RR: 0.050847\n"
     ]
    }
   ],
   "source": [
    "avaliacaoRR(False)"
   ]
  },
  {
   "cell_type": "code",
   "execution_count": 31,
   "id": "599cc6c9",
   "metadata": {},
   "outputs": [
    {
     "name": "stdout",
     "output_type": "stream",
     "text": [
      "RR: 0.050847\n"
     ]
    }
   ],
   "source": [
    "avaliacaoRR(False)"
   ]
  },
  {
   "cell_type": "markdown",
   "id": "d73d7c1e",
   "metadata": {},
   "source": [
    "## Config 5"
   ]
  },
  {
   "cell_type": "code",
   "execution_count": 32,
   "id": "20109e20",
   "metadata": {},
   "outputs": [],
   "source": [
    "data = base.txtEmenta.fillna(\"Em branco\")"
   ]
  },
  {
   "cell_type": "code",
   "execution_count": 33,
   "id": "d95c7317",
   "metadata": {},
   "outputs": [],
   "source": [
    "def _remove_acentos(txt):\n",
    "    return normalize('NFKD', txt).encode('ASCII', 'ignore').decode('ASCII')\n",
    "\n",
    "def preprocess(txt):\n",
    "    txt = str(txt)\n",
    "    txt = _remove_acentos(txt)\n",
    "    stopwords = nltk.corpus.stopwords.words(\"portuguese\")\n",
    "    stopwords.extend(list(punctuation))\n",
    "    tokenizer = RegexpTokenizer('\\w+')\n",
    "    terms = tokenizer.tokenize(txt.lower())\n",
    "    terms = [word for word in terms if word not in stopwords]\n",
    "\n",
    "    return \" \".join(terms)"
   ]
  },
  {
   "cell_type": "code",
   "execution_count": 34,
   "id": "fb88f75e",
   "metadata": {},
   "outputs": [],
   "source": [
    "data_preprocess = Parallel(n_jobs=4)(delayed(preprocess)(doc) for doc in data)"
   ]
  },
  {
   "cell_type": "code",
   "execution_count": 35,
   "id": "24afdec7",
   "metadata": {},
   "outputs": [],
   "source": [
    "a = time.time()"
   ]
  },
  {
   "cell_type": "code",
   "execution_count": 36,
   "id": "b20afaa2",
   "metadata": {},
   "outputs": [],
   "source": [
    "data_emb = model.encode(data,convert_to_tensor=True,device=device_gpu)"
   ]
  },
  {
   "cell_type": "code",
   "execution_count": 37,
   "id": "5b0b0c1d",
   "metadata": {},
   "outputs": [],
   "source": [
    "d = time.time()"
   ]
  },
  {
   "cell_type": "code",
   "execution_count": 38,
   "id": "23b53677",
   "metadata": {},
   "outputs": [
    {
     "name": "stdout",
     "output_type": "stream",
     "text": [
      "Duração da indexação: 507.365143\n"
     ]
    }
   ],
   "source": [
    "print(\"Duração da indexação: %f\" % (d-a))"
   ]
  },
  {
   "cell_type": "markdown",
   "id": "74b86f5b",
   "metadata": {},
   "source": [
    "## Avaliação"
   ]
  },
  {
   "cell_type": "markdown",
   "id": "a3ca1125",
   "metadata": {},
   "source": [
    "### Recall"
   ]
  },
  {
   "cell_type": "code",
   "execution_count": 39,
   "id": "96e1e88a",
   "metadata": {},
   "outputs": [
    {
     "name": "stdout",
     "output_type": "stream",
     "text": [
      "Duração: 11.432000\n",
      "Recall: 0.08135593220338982\n"
     ]
    }
   ],
   "source": [
    "avaliacaoRecall(True,top_k=5)"
   ]
  },
  {
   "cell_type": "code",
   "execution_count": 40,
   "id": "bbc15e6a",
   "metadata": {},
   "outputs": [
    {
     "name": "stdout",
     "output_type": "stream",
     "text": [
      "Duração: 11.752998\n",
      "Recall: 0.10508474576271186\n"
     ]
    }
   ],
   "source": [
    "avaliacaoRecall(True,top_k=10)"
   ]
  },
  {
   "cell_type": "code",
   "execution_count": 41,
   "id": "ce107083",
   "metadata": {},
   "outputs": [
    {
     "name": "stdout",
     "output_type": "stream",
     "text": [
      "Duração: 11.372882\n",
      "Recall: 0.12542372881355932\n"
     ]
    }
   ],
   "source": [
    "avaliacaoRecall(True,top_k=20)"
   ]
  },
  {
   "cell_type": "markdown",
   "id": "ac838f54",
   "metadata": {},
   "source": [
    "### MAP"
   ]
  },
  {
   "cell_type": "code",
   "execution_count": 42,
   "id": "1a0393ba",
   "metadata": {},
   "outputs": [
    {
     "name": "stdout",
     "output_type": "stream",
     "text": [
      "MAP@ 5: 0.000939\n"
     ]
    }
   ],
   "source": [
    "avaliacaoMAP(True,top_k=5)"
   ]
  },
  {
   "cell_type": "code",
   "execution_count": 43,
   "id": "2249a813",
   "metadata": {},
   "outputs": [
    {
     "name": "stdout",
     "output_type": "stream",
     "text": [
      "MAP@ 10: 0.000553\n"
     ]
    }
   ],
   "source": [
    "avaliacaoMAP(True,top_k=10)"
   ]
  },
  {
   "cell_type": "code",
   "execution_count": 44,
   "id": "044cc187",
   "metadata": {},
   "outputs": [
    {
     "name": "stdout",
     "output_type": "stream",
     "text": [
      "MAP@ 20: 0.000303\n"
     ]
    }
   ],
   "source": [
    "avaliacaoMAP(True,top_k=20)"
   ]
  },
  {
   "cell_type": "markdown",
   "id": "10606094",
   "metadata": {},
   "source": [
    "### Precision"
   ]
  },
  {
   "cell_type": "code",
   "execution_count": 45,
   "id": "fd3668dc",
   "metadata": {},
   "outputs": [
    {
     "name": "stdout",
     "output_type": "stream",
     "text": [
      "Precision: 0.01627118644067797\n"
     ]
    }
   ],
   "source": [
    "avaliacaoPrecision(True,top_k=5)"
   ]
  },
  {
   "cell_type": "code",
   "execution_count": 46,
   "id": "ca814b2a",
   "metadata": {},
   "outputs": [
    {
     "name": "stdout",
     "output_type": "stream",
     "text": [
      "Precision: 0.01050847457627119\n"
     ]
    }
   ],
   "source": [
    "avaliacaoPrecision(True,top_k=10)"
   ]
  },
  {
   "cell_type": "code",
   "execution_count": 47,
   "id": "80ef49cc",
   "metadata": {},
   "outputs": [
    {
     "name": "stdout",
     "output_type": "stream",
     "text": [
      "Precision: 0.00627118644067797\n"
     ]
    }
   ],
   "source": [
    "avaliacaoPrecision(True,top_k=20)"
   ]
  },
  {
   "cell_type": "markdown",
   "id": "3bc34941",
   "metadata": {},
   "source": [
    "### RR"
   ]
  },
  {
   "cell_type": "code",
   "execution_count": 48,
   "id": "0ef5bd72",
   "metadata": {},
   "outputs": [
    {
     "name": "stdout",
     "output_type": "stream",
     "text": [
      "RR: 0.030508\n"
     ]
    }
   ],
   "source": [
    "avaliacaoRR(True)"
   ]
  },
  {
   "cell_type": "markdown",
   "id": "e6ff547a",
   "metadata": {},
   "source": [
    "## Config 0"
   ]
  },
  {
   "cell_type": "code",
   "execution_count": 49,
   "id": "72467749",
   "metadata": {},
   "outputs": [],
   "source": [
    "data = base.txtEmenta.fillna(\"Em branco\")"
   ]
  },
  {
   "cell_type": "code",
   "execution_count": 50,
   "id": "ff9c614e",
   "metadata": {},
   "outputs": [],
   "source": [
    "def preprocess(txt):\n",
    "    txt = str(txt)\n",
    "    \n",
    "    stopwords = nltk.corpus.stopwords.words(\"portuguese\")\n",
    "   \n",
    "    terms = word_tokenize(txt)\n",
    "    terms = [word for word in terms if word not in stopwords]\n",
    "        \n",
    "    return \" \".join(terms)"
   ]
  },
  {
   "cell_type": "code",
   "execution_count": 51,
   "id": "b7415f89",
   "metadata": {},
   "outputs": [],
   "source": [
    "data_preprocess = Parallel(n_jobs=4)(delayed(preprocess)(doc) for doc in data)"
   ]
  },
  {
   "cell_type": "code",
   "execution_count": 52,
   "id": "056f6e32",
   "metadata": {},
   "outputs": [],
   "source": [
    "a = time.time()"
   ]
  },
  {
   "cell_type": "code",
   "execution_count": 53,
   "id": "0c6c4e8d",
   "metadata": {},
   "outputs": [],
   "source": [
    "data_emb = model.encode(data,convert_to_tensor=True,device=device_gpu)"
   ]
  },
  {
   "cell_type": "code",
   "execution_count": 54,
   "id": "757abdfc",
   "metadata": {},
   "outputs": [],
   "source": [
    "d = time.time()"
   ]
  },
  {
   "cell_type": "code",
   "execution_count": 55,
   "id": "d921825d",
   "metadata": {},
   "outputs": [
    {
     "name": "stdout",
     "output_type": "stream",
     "text": [
      "Duração da indexação: 606.064136\n"
     ]
    }
   ],
   "source": [
    "print(\"Duração da indexação: %f\" % (d-a))"
   ]
  },
  {
   "cell_type": "markdown",
   "id": "2e93e51e",
   "metadata": {},
   "source": [
    "## Avaliação"
   ]
  },
  {
   "cell_type": "markdown",
   "id": "8bf44b96",
   "metadata": {},
   "source": [
    "### Recall"
   ]
  },
  {
   "cell_type": "code",
   "execution_count": 56,
   "id": "f295c9b8",
   "metadata": {},
   "outputs": [
    {
     "name": "stdout",
     "output_type": "stream",
     "text": [
      "Duração: 78.287998\n",
      "Recall: 0.09152542372881356\n"
     ]
    }
   ],
   "source": [
    "avaliacaoRecall(True,top_k=5)"
   ]
  },
  {
   "cell_type": "code",
   "execution_count": 57,
   "id": "d095bd8b",
   "metadata": {},
   "outputs": [
    {
     "name": "stdout",
     "output_type": "stream",
     "text": [
      "Duração: 98.992996\n",
      "Recall: 0.09491525423728814\n"
     ]
    }
   ],
   "source": [
    "avaliacaoRecall(True,top_k=10)"
   ]
  },
  {
   "cell_type": "code",
   "execution_count": 58,
   "id": "08514c06",
   "metadata": {},
   "outputs": [
    {
     "name": "stdout",
     "output_type": "stream",
     "text": [
      "Duração: 119.728519\n",
      "Recall: 0.1152542372881356\n"
     ]
    }
   ],
   "source": [
    "avaliacaoRecall(True,top_k=20)"
   ]
  },
  {
   "cell_type": "markdown",
   "id": "378ca3b8",
   "metadata": {},
   "source": [
    "### MAP"
   ]
  },
  {
   "cell_type": "code",
   "execution_count": 59,
   "id": "a828cbb1",
   "metadata": {},
   "outputs": [
    {
     "name": "stdout",
     "output_type": "stream",
     "text": [
      "MAP@ 5: 0.000993\n"
     ]
    }
   ],
   "source": [
    "avaliacaoMAP(True,top_k=5)"
   ]
  },
  {
   "cell_type": "code",
   "execution_count": 60,
   "id": "893f8893",
   "metadata": {},
   "outputs": [
    {
     "name": "stdout",
     "output_type": "stream",
     "text": [
      "MAP@ 10: 0.000548\n"
     ]
    }
   ],
   "source": [
    "avaliacaoMAP(True,top_k=10)"
   ]
  },
  {
   "cell_type": "code",
   "execution_count": 61,
   "id": "ff043bbf",
   "metadata": {},
   "outputs": [
    {
     "name": "stdout",
     "output_type": "stream",
     "text": [
      "MAP@ 20: 0.000297\n"
     ]
    }
   ],
   "source": [
    "avaliacaoMAP(True,top_k=20)"
   ]
  },
  {
   "cell_type": "markdown",
   "id": "0f82169e",
   "metadata": {},
   "source": [
    "### Precision"
   ]
  },
  {
   "cell_type": "code",
   "execution_count": 62,
   "id": "edbbfb27",
   "metadata": {},
   "outputs": [
    {
     "name": "stdout",
     "output_type": "stream",
     "text": [
      "Precision: 0.018305084745762718\n"
     ]
    }
   ],
   "source": [
    "avaliacaoPrecision(True,top_k=5)"
   ]
  },
  {
   "cell_type": "code",
   "execution_count": 63,
   "id": "cb4a21f3",
   "metadata": {},
   "outputs": [
    {
     "name": "stdout",
     "output_type": "stream",
     "text": [
      "Precision: 0.009491525423728818\n"
     ]
    }
   ],
   "source": [
    "avaliacaoPrecision(True,top_k=10)"
   ]
  },
  {
   "cell_type": "code",
   "execution_count": 64,
   "id": "4bb01cc1",
   "metadata": {},
   "outputs": [
    {
     "name": "stdout",
     "output_type": "stream",
     "text": [
      "Precision: 0.0057627118644067825\n"
     ]
    }
   ],
   "source": [
    "avaliacaoPrecision(True,top_k=20)"
   ]
  },
  {
   "cell_type": "markdown",
   "id": "ddec0681",
   "metadata": {},
   "source": [
    "### RR"
   ]
  },
  {
   "cell_type": "code",
   "execution_count": 65,
   "id": "520934c4",
   "metadata": {},
   "outputs": [
    {
     "name": "stdout",
     "output_type": "stream",
     "text": [
      "RR: 0.047458\n"
     ]
    }
   ],
   "source": [
    "avaliacaoRR(True)"
   ]
  },
  {
   "cell_type": "markdown",
   "id": "a43bfd6d",
   "metadata": {},
   "source": [
    "# TxtIndexacao"
   ]
  },
  {
   "cell_type": "code",
   "execution_count": 66,
   "id": "58c8851b",
   "metadata": {},
   "outputs": [],
   "source": [
    "data = base.txtIndexacao.fillna(\"Em branco\")"
   ]
  },
  {
   "cell_type": "markdown",
   "id": "c90ab646",
   "metadata": {},
   "source": [
    "## Config 1"
   ]
  },
  {
   "cell_type": "code",
   "execution_count": 67,
   "id": "b346b18f",
   "metadata": {},
   "outputs": [],
   "source": [
    "a = time.time()"
   ]
  },
  {
   "cell_type": "code",
   "execution_count": 68,
   "id": "6e5234a6",
   "metadata": {},
   "outputs": [],
   "source": [
    "data_emb = model.encode(data,convert_to_tensor=True,device=device_gpu)"
   ]
  },
  {
   "cell_type": "code",
   "execution_count": 69,
   "id": "85e816ab",
   "metadata": {},
   "outputs": [],
   "source": [
    "d = time.time()"
   ]
  },
  {
   "cell_type": "code",
   "execution_count": 70,
   "id": "32d2044c",
   "metadata": {},
   "outputs": [
    {
     "name": "stdout",
     "output_type": "stream",
     "text": [
      "Duração da indexação: 2052.435001\n"
     ]
    }
   ],
   "source": [
    "print(\"Duração da indexação: %f\" % (d-a))"
   ]
  },
  {
   "cell_type": "markdown",
   "id": "9feb4ada",
   "metadata": {},
   "source": [
    "## Avaliação"
   ]
  },
  {
   "cell_type": "markdown",
   "id": "8ab5b3bf",
   "metadata": {},
   "source": [
    "### Recall"
   ]
  },
  {
   "cell_type": "code",
   "execution_count": 71,
   "id": "fee7f9a5",
   "metadata": {},
   "outputs": [
    {
     "name": "stdout",
     "output_type": "stream",
     "text": [
      "Duração: 71.077000\n",
      "Recall: 0.04067796610169491\n"
     ]
    }
   ],
   "source": [
    "avaliacaoRecall(False,top_k=5)"
   ]
  },
  {
   "cell_type": "code",
   "execution_count": 72,
   "id": "7935b454",
   "metadata": {},
   "outputs": [
    {
     "name": "stdout",
     "output_type": "stream",
     "text": [
      "Duração: 59.080999\n",
      "Recall: 0.05423728813559322\n"
     ]
    }
   ],
   "source": [
    "avaliacaoRecall(False,top_k=10)"
   ]
  },
  {
   "cell_type": "code",
   "execution_count": 73,
   "id": "2750a3f7",
   "metadata": {},
   "outputs": [
    {
     "name": "stdout",
     "output_type": "stream",
     "text": [
      "Duração: 52.959999\n",
      "Recall: 0.07457627118644068\n"
     ]
    }
   ],
   "source": [
    "avaliacaoRecall(False,top_k=20)"
   ]
  },
  {
   "cell_type": "markdown",
   "id": "f4a4f9a1",
   "metadata": {},
   "source": [
    "### MAP"
   ]
  },
  {
   "cell_type": "code",
   "execution_count": 74,
   "id": "dd116850",
   "metadata": {},
   "outputs": [
    {
     "name": "stdout",
     "output_type": "stream",
     "text": [
      "MAP@ 5: 0.000069\n"
     ]
    }
   ],
   "source": [
    "avaliacaoMAP(False,top_k=5)"
   ]
  },
  {
   "cell_type": "code",
   "execution_count": 75,
   "id": "b5d184e9",
   "metadata": {},
   "outputs": [
    {
     "name": "stdout",
     "output_type": "stream",
     "text": [
      "MAP@ 10: 0.000046\n"
     ]
    }
   ],
   "source": [
    "avaliacaoMAP(False,top_k=10)"
   ]
  },
  {
   "cell_type": "code",
   "execution_count": 76,
   "id": "7bc0b08d",
   "metadata": {},
   "outputs": [
    {
     "name": "stdout",
     "output_type": "stream",
     "text": [
      "MAP@ 20: 0.000046\n"
     ]
    }
   ],
   "source": [
    "avaliacaoMAP(False,top_k=20)"
   ]
  },
  {
   "cell_type": "markdown",
   "id": "3f8bdb06",
   "metadata": {},
   "source": [
    "### Precision"
   ]
  },
  {
   "cell_type": "code",
   "execution_count": 77,
   "id": "95021e62",
   "metadata": {},
   "outputs": [
    {
     "name": "stdout",
     "output_type": "stream",
     "text": [
      "Precision: 0.008135593220338983\n"
     ]
    }
   ],
   "source": [
    "avaliacaoPrecision(False,top_k=5)"
   ]
  },
  {
   "cell_type": "code",
   "execution_count": 78,
   "id": "72bb148d",
   "metadata": {},
   "outputs": [
    {
     "name": "stdout",
     "output_type": "stream",
     "text": [
      "Precision: 0.005423728813559323\n"
     ]
    }
   ],
   "source": [
    "avaliacaoPrecision(False,top_k=10)"
   ]
  },
  {
   "cell_type": "code",
   "execution_count": 79,
   "id": "862e1d0a",
   "metadata": {},
   "outputs": [
    {
     "name": "stdout",
     "output_type": "stream",
     "text": [
      "Precision: 0.003728813559322035\n"
     ]
    }
   ],
   "source": [
    "avaliacaoPrecision(False,top_k=20)"
   ]
  },
  {
   "cell_type": "markdown",
   "id": "72a8abb1",
   "metadata": {},
   "source": [
    "### RR"
   ]
  },
  {
   "cell_type": "code",
   "execution_count": 80,
   "id": "ef09983d",
   "metadata": {},
   "outputs": [
    {
     "name": "stdout",
     "output_type": "stream",
     "text": [
      "RR: 0.020339\n"
     ]
    }
   ],
   "source": [
    "avaliacaoRR(False)"
   ]
  },
  {
   "cell_type": "markdown",
   "id": "2431fc34",
   "metadata": {},
   "source": [
    "## Config 5"
   ]
  },
  {
   "cell_type": "code",
   "execution_count": 81,
   "id": "ad4cb00e",
   "metadata": {},
   "outputs": [],
   "source": [
    "data = base.txtIndexacao.fillna(\"Em branco\")"
   ]
  },
  {
   "cell_type": "code",
   "execution_count": 82,
   "id": "6e1a7682",
   "metadata": {},
   "outputs": [],
   "source": [
    "def _remove_acentos(txt):\n",
    "    return normalize('NFKD', txt).encode('ASCII', 'ignore').decode('ASCII')\n",
    "\n",
    "def preprocess(txt):\n",
    "    txt = str(txt)\n",
    "    txt = _remove_acentos(txt)\n",
    "    stopwords = nltk.corpus.stopwords.words(\"portuguese\")\n",
    "    stopwords.extend(list(punctuation))\n",
    "    tokenizer = RegexpTokenizer('\\w+')\n",
    "    terms = tokenizer.tokenize(txt.lower())\n",
    "    terms = [word for word in terms if word not in stopwords]\n",
    "\n",
    "    return \" \".join(terms)"
   ]
  },
  {
   "cell_type": "code",
   "execution_count": 83,
   "id": "2096631d",
   "metadata": {},
   "outputs": [],
   "source": [
    "data_preprocess = Parallel(n_jobs=4)(delayed(preprocess)(doc) for doc in data)"
   ]
  },
  {
   "cell_type": "code",
   "execution_count": 84,
   "id": "c175ffd2",
   "metadata": {},
   "outputs": [],
   "source": [
    "a = time.time()"
   ]
  },
  {
   "cell_type": "code",
   "execution_count": 85,
   "id": "9038bfe3",
   "metadata": {},
   "outputs": [],
   "source": [
    "data_emb = model.encode(data,convert_to_tensor=True,device=device_gpu)"
   ]
  },
  {
   "cell_type": "code",
   "execution_count": 86,
   "id": "432d2063",
   "metadata": {},
   "outputs": [],
   "source": [
    "d = time.time()"
   ]
  },
  {
   "cell_type": "code",
   "execution_count": 87,
   "id": "3d57d637",
   "metadata": {},
   "outputs": [
    {
     "name": "stdout",
     "output_type": "stream",
     "text": [
      "Duração da indexação: 1840.177679\n"
     ]
    }
   ],
   "source": [
    "print(\"Duração da indexação: %f\" % (d-a))"
   ]
  },
  {
   "cell_type": "markdown",
   "id": "b30539ed",
   "metadata": {},
   "source": [
    "## Avaliação"
   ]
  },
  {
   "cell_type": "markdown",
   "id": "34c65182",
   "metadata": {},
   "source": [
    "### Recall"
   ]
  },
  {
   "cell_type": "code",
   "execution_count": 88,
   "id": "9533398e",
   "metadata": {},
   "outputs": [
    {
     "name": "stdout",
     "output_type": "stream",
     "text": [
      "Duração: 21.955994\n",
      "Recall: 0.04406779661016949\n"
     ]
    }
   ],
   "source": [
    "avaliacaoRecall(True,top_k=5)"
   ]
  },
  {
   "cell_type": "code",
   "execution_count": 89,
   "id": "a7132d33",
   "metadata": {},
   "outputs": [
    {
     "name": "stdout",
     "output_type": "stream",
     "text": [
      "Duração: 20.845002\n",
      "Recall: 0.05084745762711865\n"
     ]
    }
   ],
   "source": [
    "avaliacaoRecall(True,top_k=10)"
   ]
  },
  {
   "cell_type": "code",
   "execution_count": 90,
   "id": "b2d01d70",
   "metadata": {},
   "outputs": [
    {
     "name": "stdout",
     "output_type": "stream",
     "text": [
      "Duração: 24.479996\n",
      "Recall: 0.07796610169491526\n"
     ]
    }
   ],
   "source": [
    "avaliacaoRecall(True,top_k=20)"
   ]
  },
  {
   "cell_type": "markdown",
   "id": "5286cc0d",
   "metadata": {},
   "source": [
    "### MAP"
   ]
  },
  {
   "cell_type": "code",
   "execution_count": 91,
   "id": "5e1b3916",
   "metadata": {},
   "outputs": [
    {
     "name": "stdout",
     "output_type": "stream",
     "text": [
      "MAP@ 5: 0.000077\n"
     ]
    }
   ],
   "source": [
    "avaliacaoMAP(True,top_k=5)"
   ]
  },
  {
   "cell_type": "code",
   "execution_count": 92,
   "id": "5fc56162",
   "metadata": {},
   "outputs": [
    {
     "name": "stdout",
     "output_type": "stream",
     "text": [
      "MAP@ 10: 0.000043\n"
     ]
    }
   ],
   "source": [
    "avaliacaoMAP(True,top_k=10)"
   ]
  },
  {
   "cell_type": "code",
   "execution_count": 93,
   "id": "9dc669c0",
   "metadata": {},
   "outputs": [
    {
     "name": "stdout",
     "output_type": "stream",
     "text": [
      "MAP@ 20: 0.000039\n"
     ]
    }
   ],
   "source": [
    "avaliacaoMAP(True,top_k=20)"
   ]
  },
  {
   "cell_type": "markdown",
   "id": "e10186bc",
   "metadata": {},
   "source": [
    "### Precision"
   ]
  },
  {
   "cell_type": "code",
   "execution_count": 94,
   "id": "44d7d359",
   "metadata": {},
   "outputs": [
    {
     "name": "stdout",
     "output_type": "stream",
     "text": [
      "Precision: 0.008813559322033898\n"
     ]
    }
   ],
   "source": [
    "avaliacaoPrecision(True,top_k=5)"
   ]
  },
  {
   "cell_type": "code",
   "execution_count": 95,
   "id": "2d2c3be2",
   "metadata": {},
   "outputs": [
    {
     "name": "stdout",
     "output_type": "stream",
     "text": [
      "Precision: 0.005084745762711865\n"
     ]
    }
   ],
   "source": [
    "avaliacaoPrecision(True,top_k=10)"
   ]
  },
  {
   "cell_type": "code",
   "execution_count": 96,
   "id": "da1b897d",
   "metadata": {},
   "outputs": [
    {
     "name": "stdout",
     "output_type": "stream",
     "text": [
      "Precision: 0.0038983050847457637\n"
     ]
    }
   ],
   "source": [
    "avaliacaoPrecision(True,top_k=20)"
   ]
  },
  {
   "cell_type": "markdown",
   "id": "a297f8bc",
   "metadata": {},
   "source": [
    "### RR"
   ]
  },
  {
   "cell_type": "code",
   "execution_count": 97,
   "id": "f491f304",
   "metadata": {},
   "outputs": [
    {
     "name": "stdout",
     "output_type": "stream",
     "text": [
      "RR: 0.027119\n"
     ]
    }
   ],
   "source": [
    "avaliacaoRR(True)"
   ]
  },
  {
   "cell_type": "markdown",
   "id": "fa4cfe78",
   "metadata": {},
   "source": [
    "## Config 0"
   ]
  },
  {
   "cell_type": "code",
   "execution_count": 98,
   "id": "c257188a",
   "metadata": {},
   "outputs": [],
   "source": [
    "data = base.txtIndexacao.fillna(\"Em branco\")"
   ]
  },
  {
   "cell_type": "code",
   "execution_count": 99,
   "id": "78b930fc",
   "metadata": {},
   "outputs": [],
   "source": [
    "def preprocess(txt):\n",
    "    txt = str(txt)\n",
    "    \n",
    "    stopwords = nltk.corpus.stopwords.words(\"portuguese\")\n",
    "   \n",
    "    terms = word_tokenize(txt)\n",
    "    terms = [word for word in terms if word not in stopwords]\n",
    "        \n",
    "    return \" \".join(terms)"
   ]
  },
  {
   "cell_type": "code",
   "execution_count": 100,
   "id": "c890169f",
   "metadata": {},
   "outputs": [],
   "source": [
    "data_preprocess = Parallel(n_jobs=4)(delayed(preprocess)(doc) for doc in data)"
   ]
  },
  {
   "cell_type": "code",
   "execution_count": 101,
   "id": "0ec5db81",
   "metadata": {},
   "outputs": [],
   "source": [
    "a = time.time()"
   ]
  },
  {
   "cell_type": "code",
   "execution_count": 102,
   "id": "2bab4a06",
   "metadata": {},
   "outputs": [],
   "source": [
    "data_emb = model.encode(data,convert_to_tensor=True,device=device_gpu)"
   ]
  },
  {
   "cell_type": "code",
   "execution_count": 103,
   "id": "97419b87",
   "metadata": {},
   "outputs": [],
   "source": [
    "d = time.time()"
   ]
  },
  {
   "cell_type": "code",
   "execution_count": 104,
   "id": "dc47b1bf",
   "metadata": {},
   "outputs": [
    {
     "name": "stdout",
     "output_type": "stream",
     "text": [
      "Duração da indexação: 1266.961002\n"
     ]
    }
   ],
   "source": [
    "print(\"Duração da indexação: %f\" % (d-a))"
   ]
  },
  {
   "cell_type": "markdown",
   "id": "dc17d244",
   "metadata": {},
   "source": [
    "## Avaliação"
   ]
  },
  {
   "cell_type": "markdown",
   "id": "ea17bdbf",
   "metadata": {},
   "source": [
    "### Recall"
   ]
  },
  {
   "cell_type": "code",
   "execution_count": 105,
   "id": "f0b4d6fe",
   "metadata": {},
   "outputs": [
    {
     "name": "stdout",
     "output_type": "stream",
     "text": [
      "Duração: 22.195046\n",
      "Recall: 0.04745762711864407\n"
     ]
    }
   ],
   "source": [
    "avaliacaoRecall(True,top_k=5)"
   ]
  },
  {
   "cell_type": "code",
   "execution_count": 106,
   "id": "f714b66d",
   "metadata": {},
   "outputs": [
    {
     "name": "stdout",
     "output_type": "stream",
     "text": [
      "Duração: 23.435001\n",
      "Recall: 0.06440677966101695\n"
     ]
    }
   ],
   "source": [
    "avaliacaoRecall(True,top_k=10)"
   ]
  },
  {
   "cell_type": "code",
   "execution_count": 107,
   "id": "c050f5fc",
   "metadata": {},
   "outputs": [
    {
     "name": "stdout",
     "output_type": "stream",
     "text": [
      "Duração: 22.897965\n",
      "Recall: 0.07796610169491526\n"
     ]
    }
   ],
   "source": [
    "avaliacaoRecall(True,top_k=20)"
   ]
  },
  {
   "cell_type": "markdown",
   "id": "315aedea",
   "metadata": {},
   "source": [
    "### MAP"
   ]
  },
  {
   "cell_type": "code",
   "execution_count": 108,
   "id": "ad70396a",
   "metadata": {},
   "outputs": [
    {
     "name": "stdout",
     "output_type": "stream",
     "text": [
      "MAP@ 5: 0.000080\n"
     ]
    }
   ],
   "source": [
    "avaliacaoMAP(True,top_k=5)"
   ]
  },
  {
   "cell_type": "code",
   "execution_count": 109,
   "id": "ad56976b",
   "metadata": {},
   "outputs": [
    {
     "name": "stdout",
     "output_type": "stream",
     "text": [
      "MAP@ 10: 0.000052\n"
     ]
    }
   ],
   "source": [
    "avaliacaoMAP(True,top_k=10)"
   ]
  },
  {
   "cell_type": "code",
   "execution_count": 110,
   "id": "136e20b7",
   "metadata": {},
   "outputs": [
    {
     "name": "stdout",
     "output_type": "stream",
     "text": [
      "MAP@ 20: 0.000040\n"
     ]
    }
   ],
   "source": [
    "avaliacaoMAP(True,top_k=20)"
   ]
  },
  {
   "cell_type": "markdown",
   "id": "58860a2a",
   "metadata": {},
   "source": [
    "### Precision"
   ]
  },
  {
   "cell_type": "code",
   "execution_count": 111,
   "id": "58789055",
   "metadata": {},
   "outputs": [
    {
     "name": "stdout",
     "output_type": "stream",
     "text": [
      "Precision: 0.009491525423728815\n"
     ]
    }
   ],
   "source": [
    "avaliacaoPrecision(True,top_k=5)"
   ]
  },
  {
   "cell_type": "code",
   "execution_count": 112,
   "id": "6d7acf8b",
   "metadata": {},
   "outputs": [
    {
     "name": "stdout",
     "output_type": "stream",
     "text": [
      "Precision: 0.006440677966101697\n"
     ]
    }
   ],
   "source": [
    "avaliacaoPrecision(True,top_k=10)"
   ]
  },
  {
   "cell_type": "code",
   "execution_count": 113,
   "id": "5888c31d",
   "metadata": {},
   "outputs": [
    {
     "name": "stdout",
     "output_type": "stream",
     "text": [
      "Precision: 0.0038983050847457637\n"
     ]
    }
   ],
   "source": [
    "avaliacaoPrecision(True,top_k=20)"
   ]
  },
  {
   "cell_type": "markdown",
   "id": "108522b3",
   "metadata": {},
   "source": [
    "### RR"
   ]
  },
  {
   "cell_type": "code",
   "execution_count": 114,
   "id": "cc360baf",
   "metadata": {},
   "outputs": [
    {
     "name": "stdout",
     "output_type": "stream",
     "text": [
      "RR: 0.023729\n"
     ]
    }
   ],
   "source": [
    "avaliacaoRR(True)"
   ]
  },
  {
   "cell_type": "markdown",
   "id": "bbcd642d",
   "metadata": {},
   "source": [
    "# Emenda + Indexacao"
   ]
  },
  {
   "cell_type": "code",
   "execution_count": 115,
   "id": "f0d35ea0",
   "metadata": {},
   "outputs": [],
   "source": [
    "base['txtIndexacao'] = base['txtEmenta'] + base['txtIndexacao']"
   ]
  },
  {
   "cell_type": "code",
   "execution_count": 116,
   "id": "61242d22",
   "metadata": {},
   "outputs": [],
   "source": [
    "data = base.txtIndexacao.fillna(\"Em branco\")"
   ]
  },
  {
   "cell_type": "markdown",
   "id": "eacc977c",
   "metadata": {},
   "source": [
    "## Config 1"
   ]
  },
  {
   "cell_type": "code",
   "execution_count": 117,
   "id": "3cd8b9a7",
   "metadata": {},
   "outputs": [],
   "source": [
    "a = time.time()"
   ]
  },
  {
   "cell_type": "code",
   "execution_count": 118,
   "id": "fe0d7341",
   "metadata": {},
   "outputs": [],
   "source": [
    "data_emb = model.encode(data,convert_to_tensor=True,device=device_gpu)"
   ]
  },
  {
   "cell_type": "code",
   "execution_count": 119,
   "id": "90aea00e",
   "metadata": {},
   "outputs": [],
   "source": [
    "d = time.time()"
   ]
  },
  {
   "cell_type": "code",
   "execution_count": 120,
   "id": "aa1b3040",
   "metadata": {},
   "outputs": [
    {
     "name": "stdout",
     "output_type": "stream",
     "text": [
      "Duração da indexação: 1872.611599\n"
     ]
    }
   ],
   "source": [
    "print(\"Duração da indexação: %f\" % (d-a))"
   ]
  },
  {
   "cell_type": "markdown",
   "id": "365a72b9",
   "metadata": {},
   "source": [
    "## Avaliação"
   ]
  },
  {
   "cell_type": "markdown",
   "id": "740267aa",
   "metadata": {},
   "source": [
    "### Recall"
   ]
  },
  {
   "cell_type": "code",
   "execution_count": 121,
   "id": "17632d2d",
   "metadata": {},
   "outputs": [
    {
     "name": "stdout",
     "output_type": "stream",
     "text": [
      "Duração: 22.220999\n",
      "Recall: 0.0711864406779661\n"
     ]
    }
   ],
   "source": [
    "avaliacaoRecall(False,top_k=5)"
   ]
  },
  {
   "cell_type": "code",
   "execution_count": 122,
   "id": "1b1e2513",
   "metadata": {},
   "outputs": [
    {
     "name": "stdout",
     "output_type": "stream",
     "text": [
      "Duração: 21.160986\n",
      "Recall: 0.07796610169491526\n"
     ]
    }
   ],
   "source": [
    "avaliacaoRecall(False,top_k=10)"
   ]
  },
  {
   "cell_type": "code",
   "execution_count": 123,
   "id": "c6bde079",
   "metadata": {},
   "outputs": [
    {
     "name": "stdout",
     "output_type": "stream",
     "text": [
      "Duração: 24.855001\n",
      "Recall: 0.09152542372881356\n"
     ]
    }
   ],
   "source": [
    "avaliacaoRecall(False,top_k=20)"
   ]
  },
  {
   "cell_type": "markdown",
   "id": "cc2142c3",
   "metadata": {},
   "source": [
    "### MAP"
   ]
  },
  {
   "cell_type": "code",
   "execution_count": 124,
   "id": "0cf19904",
   "metadata": {},
   "outputs": [
    {
     "name": "stdout",
     "output_type": "stream",
     "text": [
      "MAP@ 5: 0.000992\n"
     ]
    }
   ],
   "source": [
    "avaliacaoMAP(False,top_k=5)"
   ]
  },
  {
   "cell_type": "code",
   "execution_count": 125,
   "id": "ff4d4d0d",
   "metadata": {},
   "outputs": [
    {
     "name": "stdout",
     "output_type": "stream",
     "text": [
      "MAP@ 10: 0.000550\n"
     ]
    }
   ],
   "source": [
    "avaliacaoMAP(False,top_k=10)"
   ]
  },
  {
   "cell_type": "code",
   "execution_count": 126,
   "id": "f4413c0c",
   "metadata": {},
   "outputs": [
    {
     "name": "stdout",
     "output_type": "stream",
     "text": [
      "MAP@ 20: 0.000295\n"
     ]
    }
   ],
   "source": [
    "avaliacaoMAP(False,top_k=20)"
   ]
  },
  {
   "cell_type": "markdown",
   "id": "fbbc0eb2",
   "metadata": {},
   "source": [
    "### Precision"
   ]
  },
  {
   "cell_type": "code",
   "execution_count": 127,
   "id": "1dddf7bf",
   "metadata": {},
   "outputs": [
    {
     "name": "stdout",
     "output_type": "stream",
     "text": [
      "Precision: 0.014237288135593223\n"
     ]
    }
   ],
   "source": [
    "avaliacaoPrecision(False,top_k=5)"
   ]
  },
  {
   "cell_type": "code",
   "execution_count": 128,
   "id": "70a6c17d",
   "metadata": {},
   "outputs": [
    {
     "name": "stdout",
     "output_type": "stream",
     "text": [
      "Precision: 0.007796610169491527\n"
     ]
    }
   ],
   "source": [
    "avaliacaoPrecision(False,top_k=10)"
   ]
  },
  {
   "cell_type": "code",
   "execution_count": 129,
   "id": "08d28865",
   "metadata": {},
   "outputs": [
    {
     "name": "stdout",
     "output_type": "stream",
     "text": [
      "Precision: 0.0045762711864406795\n"
     ]
    }
   ],
   "source": [
    "avaliacaoPrecision(False,top_k=20)"
   ]
  },
  {
   "cell_type": "markdown",
   "id": "a10dac20",
   "metadata": {},
   "source": [
    "### RR"
   ]
  },
  {
   "cell_type": "code",
   "execution_count": 130,
   "id": "e2e47e2d",
   "metadata": {},
   "outputs": [
    {
     "name": "stdout",
     "output_type": "stream",
     "text": [
      "RR: 0.027119\n"
     ]
    }
   ],
   "source": [
    "avaliacaoRR(False)"
   ]
  },
  {
   "cell_type": "markdown",
   "id": "be3a1d23",
   "metadata": {},
   "source": [
    "## Config 5"
   ]
  },
  {
   "cell_type": "code",
   "execution_count": 131,
   "id": "9c23c55c",
   "metadata": {},
   "outputs": [],
   "source": [
    "def _remove_acentos(txt):\n",
    "    return normalize('NFKD', txt).encode('ASCII', 'ignore').decode('ASCII')\n",
    "\n",
    "def preprocess(txt):\n",
    "    txt = str(txt)\n",
    "    txt = _remove_acentos(txt)\n",
    "    stopwords = nltk.corpus.stopwords.words(\"portuguese\")\n",
    "    stopwords.extend(list(punctuation))\n",
    "    tokenizer = RegexpTokenizer('\\w+')\n",
    "    terms = tokenizer.tokenize(txt.lower())\n",
    "    terms = [word for word in terms if word not in stopwords]\n",
    "\n",
    "    return \" \".join(terms)"
   ]
  },
  {
   "cell_type": "code",
   "execution_count": 132,
   "id": "d43b9408",
   "metadata": {},
   "outputs": [],
   "source": [
    "data_preprocess = Parallel(n_jobs=4)(delayed(preprocess)(doc) for doc in data)"
   ]
  },
  {
   "cell_type": "code",
   "execution_count": 133,
   "id": "69395878",
   "metadata": {},
   "outputs": [],
   "source": [
    "a = time.time()"
   ]
  },
  {
   "cell_type": "code",
   "execution_count": 134,
   "id": "a9160763",
   "metadata": {},
   "outputs": [],
   "source": [
    "data_emb = model.encode(data,convert_to_tensor=True,device=device_gpu)"
   ]
  },
  {
   "cell_type": "code",
   "execution_count": 135,
   "id": "3c1de0a4",
   "metadata": {},
   "outputs": [],
   "source": [
    "d = time.time()"
   ]
  },
  {
   "cell_type": "code",
   "execution_count": 136,
   "id": "2740df71",
   "metadata": {},
   "outputs": [
    {
     "name": "stdout",
     "output_type": "stream",
     "text": [
      "Duração da indexação: 1890.772318\n"
     ]
    }
   ],
   "source": [
    "print(\"Duração da indexação: %f\" % (d-a))"
   ]
  },
  {
   "cell_type": "markdown",
   "id": "0e20d374",
   "metadata": {},
   "source": [
    "## Avaliação"
   ]
  },
  {
   "cell_type": "markdown",
   "id": "f143b5b7",
   "metadata": {},
   "source": [
    "### Recall"
   ]
  },
  {
   "cell_type": "code",
   "execution_count": 137,
   "id": "297e8b57",
   "metadata": {},
   "outputs": [
    {
     "name": "stdout",
     "output_type": "stream",
     "text": [
      "Duração: 21.685998\n",
      "Recall: 0.06779661016949153\n"
     ]
    }
   ],
   "source": [
    "avaliacaoRecall(True,top_k=5)"
   ]
  },
  {
   "cell_type": "code",
   "execution_count": 138,
   "id": "1cc2e2d4",
   "metadata": {},
   "outputs": [
    {
     "name": "stdout",
     "output_type": "stream",
     "text": [
      "Duração: 20.893996\n",
      "Recall: 0.09152542372881356\n"
     ]
    }
   ],
   "source": [
    "avaliacaoRecall(True,top_k=10)"
   ]
  },
  {
   "cell_type": "code",
   "execution_count": 139,
   "id": "78c7bede",
   "metadata": {},
   "outputs": [
    {
     "name": "stdout",
     "output_type": "stream",
     "text": [
      "Duração: 22.497998\n",
      "Recall: 0.10847457627118644\n"
     ]
    }
   ],
   "source": [
    "avaliacaoRecall(True,top_k=20)"
   ]
  },
  {
   "cell_type": "markdown",
   "id": "3c80a973",
   "metadata": {},
   "source": [
    "### MAP"
   ]
  },
  {
   "cell_type": "code",
   "execution_count": 140,
   "id": "ca987c0f",
   "metadata": {},
   "outputs": [
    {
     "name": "stdout",
     "output_type": "stream",
     "text": [
      "MAP@ 5: 0.001025\n"
     ]
    }
   ],
   "source": [
    "avaliacaoMAP(True,top_k=5)"
   ]
  },
  {
   "cell_type": "code",
   "execution_count": 141,
   "id": "74853cb2",
   "metadata": {},
   "outputs": [
    {
     "name": "stdout",
     "output_type": "stream",
     "text": [
      "MAP@ 10: 0.000563\n"
     ]
    }
   ],
   "source": [
    "avaliacaoMAP(True,top_k=10)"
   ]
  },
  {
   "cell_type": "code",
   "execution_count": 142,
   "id": "81dd81d6",
   "metadata": {},
   "outputs": [
    {
     "name": "stdout",
     "output_type": "stream",
     "text": [
      "MAP@ 20: 0.000305\n"
     ]
    }
   ],
   "source": [
    "avaliacaoMAP(True,top_k=20)"
   ]
  },
  {
   "cell_type": "markdown",
   "id": "c71eb13c",
   "metadata": {},
   "source": [
    "### Precision"
   ]
  },
  {
   "cell_type": "code",
   "execution_count": 143,
   "id": "aa8a810c",
   "metadata": {},
   "outputs": [
    {
     "name": "stdout",
     "output_type": "stream",
     "text": [
      "Precision: 0.013559322033898308\n"
     ]
    }
   ],
   "source": [
    "avaliacaoPrecision(True,top_k=5)"
   ]
  },
  {
   "cell_type": "code",
   "execution_count": 144,
   "id": "4872bf71",
   "metadata": {},
   "outputs": [
    {
     "name": "stdout",
     "output_type": "stream",
     "text": [
      "Precision: 0.009152542372881359\n"
     ]
    }
   ],
   "source": [
    "avaliacaoPrecision(True,top_k=10)"
   ]
  },
  {
   "cell_type": "code",
   "execution_count": 145,
   "id": "96b6a0fd",
   "metadata": {},
   "outputs": [
    {
     "name": "stdout",
     "output_type": "stream",
     "text": [
      "Precision: 0.005423728813559325\n"
     ]
    }
   ],
   "source": [
    "avaliacaoPrecision(True,top_k=20)"
   ]
  },
  {
   "cell_type": "markdown",
   "id": "4023d58e",
   "metadata": {},
   "source": [
    "### RR"
   ]
  },
  {
   "cell_type": "code",
   "execution_count": 146,
   "id": "64a19bb2",
   "metadata": {},
   "outputs": [
    {
     "name": "stdout",
     "output_type": "stream",
     "text": [
      "RR: 0.020339\n"
     ]
    }
   ],
   "source": [
    "avaliacaoRR(True)"
   ]
  },
  {
   "cell_type": "markdown",
   "id": "b10bd869",
   "metadata": {},
   "source": [
    "## Config 0"
   ]
  },
  {
   "cell_type": "code",
   "execution_count": 147,
   "id": "e1e0f322",
   "metadata": {},
   "outputs": [],
   "source": [
    "def preprocess(txt):\n",
    "    txt = str(txt)\n",
    "    \n",
    "    stopwords = nltk.corpus.stopwords.words(\"portuguese\")\n",
    "   \n",
    "    terms = word_tokenize(txt)\n",
    "    terms = [word for word in terms if word not in stopwords]\n",
    "        \n",
    "    return \" \".join(terms)"
   ]
  },
  {
   "cell_type": "code",
   "execution_count": 148,
   "id": "b23b2c2a",
   "metadata": {},
   "outputs": [],
   "source": [
    "data_preprocess = Parallel(n_jobs=4)(delayed(preprocess)(doc) for doc in data)"
   ]
  },
  {
   "cell_type": "code",
   "execution_count": 149,
   "id": "624c8ead",
   "metadata": {},
   "outputs": [],
   "source": [
    "a = time.time()"
   ]
  },
  {
   "cell_type": "code",
   "execution_count": 150,
   "id": "f831bbca",
   "metadata": {},
   "outputs": [],
   "source": [
    "data_emb = model.encode(data,convert_to_tensor=True,device=device_gpu)"
   ]
  },
  {
   "cell_type": "code",
   "execution_count": 151,
   "id": "326c4c3c",
   "metadata": {},
   "outputs": [],
   "source": [
    "d = time.time()"
   ]
  },
  {
   "cell_type": "code",
   "execution_count": 152,
   "id": "f18172a5",
   "metadata": {},
   "outputs": [
    {
     "name": "stdout",
     "output_type": "stream",
     "text": [
      "Duração da indexação: 1878.885997\n"
     ]
    }
   ],
   "source": [
    "print(\"Duração da indexação: %f\" % (d-a))"
   ]
  },
  {
   "cell_type": "markdown",
   "id": "948052ec",
   "metadata": {},
   "source": [
    "## Avaliação"
   ]
  },
  {
   "cell_type": "markdown",
   "id": "3c1ac6a2",
   "metadata": {},
   "source": [
    "### Recall"
   ]
  },
  {
   "cell_type": "code",
   "execution_count": 153,
   "id": "2ce282a3",
   "metadata": {},
   "outputs": [
    {
     "name": "stdout",
     "output_type": "stream",
     "text": [
      "Duração: 22.370999\n",
      "Recall: 0.06779661016949153\n"
     ]
    }
   ],
   "source": [
    "avaliacaoRecall(True,top_k=5)"
   ]
  },
  {
   "cell_type": "code",
   "execution_count": 154,
   "id": "96270c6a",
   "metadata": {},
   "outputs": [
    {
     "name": "stdout",
     "output_type": "stream",
     "text": [
      "Duração: 23.418993\n",
      "Recall: 0.08813559322033898\n"
     ]
    }
   ],
   "source": [
    "avaliacaoRecall(True,top_k=10)"
   ]
  },
  {
   "cell_type": "code",
   "execution_count": 155,
   "id": "59fa020f",
   "metadata": {},
   "outputs": [
    {
     "name": "stdout",
     "output_type": "stream",
     "text": [
      "Duração: 24.793999\n",
      "Recall: 0.1016949152542373\n"
     ]
    }
   ],
   "source": [
    "avaliacaoRecall(True,top_k=20)"
   ]
  },
  {
   "cell_type": "markdown",
   "id": "cadf6eb4",
   "metadata": {},
   "source": [
    "### MAP"
   ]
  },
  {
   "cell_type": "code",
   "execution_count": 156,
   "id": "2135868d",
   "metadata": {},
   "outputs": [
    {
     "name": "stdout",
     "output_type": "stream",
     "text": [
      "MAP@ 5: 0.001002\n"
     ]
    }
   ],
   "source": [
    "avaliacaoMAP(True,top_k=5)"
   ]
  },
  {
   "cell_type": "code",
   "execution_count": 157,
   "id": "8468b902",
   "metadata": {},
   "outputs": [
    {
     "name": "stdout",
     "output_type": "stream",
     "text": [
      "MAP@ 10: 0.000556\n"
     ]
    }
   ],
   "source": [
    "avaliacaoMAP(True,top_k=10)"
   ]
  },
  {
   "cell_type": "code",
   "execution_count": 158,
   "id": "0631ce9e",
   "metadata": {},
   "outputs": [
    {
     "name": "stdout",
     "output_type": "stream",
     "text": [
      "MAP@ 20: 0.000296\n"
     ]
    }
   ],
   "source": [
    "avaliacaoMAP(True,top_k=20)"
   ]
  },
  {
   "cell_type": "markdown",
   "id": "d5e4b630",
   "metadata": {},
   "source": [
    "### Precision"
   ]
  },
  {
   "cell_type": "code",
   "execution_count": 159,
   "id": "594704e9",
   "metadata": {},
   "outputs": [
    {
     "name": "stdout",
     "output_type": "stream",
     "text": [
      "Precision: 0.013559322033898308\n"
     ]
    }
   ],
   "source": [
    "avaliacaoPrecision(True,top_k=5)"
   ]
  },
  {
   "cell_type": "code",
   "execution_count": 160,
   "id": "19e38a95",
   "metadata": {},
   "outputs": [
    {
     "name": "stdout",
     "output_type": "stream",
     "text": [
      "Precision: 0.008813559322033902\n"
     ]
    }
   ],
   "source": [
    "avaliacaoPrecision(True,top_k=10)"
   ]
  },
  {
   "cell_type": "code",
   "execution_count": 161,
   "id": "20718cd9",
   "metadata": {},
   "outputs": [
    {
     "name": "stdout",
     "output_type": "stream",
     "text": [
      "Precision: 0.005084745762711867\n"
     ]
    }
   ],
   "source": [
    "avaliacaoPrecision(True,top_k=20)"
   ]
  },
  {
   "cell_type": "markdown",
   "id": "6b0c6978",
   "metadata": {},
   "source": [
    "### RR"
   ]
  },
  {
   "cell_type": "code",
   "execution_count": 162,
   "id": "02cd0ae0",
   "metadata": {},
   "outputs": [
    {
     "name": "stdout",
     "output_type": "stream",
     "text": [
      "RR: 0.023729\n"
     ]
    }
   ],
   "source": [
    "avaliacaoRR(True)"
   ]
  }
 ],
 "metadata": {
  "kernelspec": {
   "display_name": "Python 3 (ipykernel)",
   "language": "python",
   "name": "python3"
  },
  "language_info": {
   "codemirror_mode": {
    "name": "ipython",
    "version": 3
   },
   "file_extension": ".py",
   "mimetype": "text/x-python",
   "name": "python",
   "nbconvert_exporter": "python",
   "pygments_lexer": "ipython3",
   "version": "3.8.7"
  }
 },
 "nbformat": 4,
 "nbformat_minor": 5
}
