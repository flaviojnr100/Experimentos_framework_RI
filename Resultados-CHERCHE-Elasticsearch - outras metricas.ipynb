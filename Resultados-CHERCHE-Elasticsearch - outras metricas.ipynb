{
 "cells": [
  {
   "cell_type": "code",
   "execution_count": 1,
   "id": "790501b1",
   "metadata": {},
   "outputs": [],
   "source": [
    "from cherche import data, retrieve\n",
    "from transformers import pipeline\n",
    "import pandas as pd\n",
    "from elasticsearch import Elasticsearch\n",
    "from nltk.tokenize import word_tokenize\n",
    "from string import punctuation\n",
    "import nltk\n",
    "from unicodedata import normalize\n",
    "from nltk.stem import RSLPStemmer\n",
    "from nltk.util import ngrams\n",
    "from nltk.tokenize import RegexpTokenizer\n",
    "import time"
   ]
  },
  {
   "cell_type": "code",
   "execution_count": 2,
   "id": "5ce8c7ac",
   "metadata": {},
   "outputs": [],
   "source": [
    "caminho_query = \"dados-conle-anonimizado-assunto-notnull - dados-conle-anonimizado-assunto-notnull.tsv\""
   ]
  },
  {
   "cell_type": "markdown",
   "id": "bc1da4b4",
   "metadata": {},
   "source": [
    "# Base de dados câmara dos deputados"
   ]
  },
  {
   "cell_type": "code",
   "execution_count": 3,
   "id": "80c647da",
   "metadata": {},
   "outputs": [],
   "source": [
    "df_assunto= pd.read_table(caminho_query, delimiter=\";\")"
   ]
  },
  {
   "cell_type": "code",
   "execution_count": 4,
   "id": "43732db4",
   "metadata": {},
   "outputs": [],
   "source": [
    "arr_assunto = df_assunto.to_numpy()\n",
    "y,X = arr_assunto[:,0],arr_assunto[:,1]\n",
    "y = [i.strip() for i in y]"
   ]
  },
  {
   "cell_type": "code",
   "execution_count": 5,
   "id": "0a5d49f0",
   "metadata": {},
   "outputs": [],
   "source": [
    "def verificar(y,top_n):\n",
    "    for d in top_n:\n",
    "        if y == d:\n",
    "            return 1\n",
    "    return 0"
   ]
  },
  {
   "cell_type": "code",
   "execution_count": 6,
   "id": "c25bca8b",
   "metadata": {},
   "outputs": [],
   "source": [
    "def avaliacaoRecall(isPreprocess):\n",
    "\n",
    "    quant_encontrado=0\n",
    "    quant_relevante =0\n",
    "    antes = time.time()\n",
    "    for l,x in zip(y,X):\n",
    "\n",
    "        tokenized_query3 = x                   \n",
    "        if isPreprocess:\n",
    "            tokenized_query3 = preprocess(x)\n",
    "    \n",
    "        scores = retriever(tokenized_query3)\n",
    "        top_n = [d[\"name\"] for d in scores]  \n",
    "\n",
    "        \n",
    "        quant_relevante+=1\n",
    "        quant_encontrado+=verificar(l,top_n)\n",
    "    \n",
    "    recall = quant_encontrado / quant_relevante\n",
    "    depois = time.time()\n",
    "    duracao = depois - antes\n",
    "    print(\"Duração: %f\" %(duracao))\n",
    "    print(\"Recall: \"+str(recall))"
   ]
  },
  {
   "cell_type": "code",
   "execution_count": 7,
   "id": "0d572908",
   "metadata": {},
   "outputs": [],
   "source": [
    "def avaliacaoRR(isPreprocess):\n",
    "\n",
    "    quant_encontrado=0\n",
    "    for l,x in zip(y,X):\n",
    "\n",
    "        tokenized_query3 = x                   \n",
    "        if isPreprocess:\n",
    "            tokenized_query3 = preprocess(x)\n",
    "    \n",
    "        scores = retriever(tokenized_query3)\n",
    "        top_n = scores[0][\"name\"]\n",
    "        if top_n.strip() == l.strip():\n",
    "            quant_encontrado+=1\n",
    "\n",
    "    \n",
    "    rr = quant_encontrado / 295\n",
    "    print(\"RR: %f\" % (rr))"
   ]
  },
  {
   "cell_type": "code",
   "execution_count": 8,
   "id": "fb01c708",
   "metadata": {},
   "outputs": [],
   "source": [
    "def avaliacaoPrecision(isPreprocess,top_k=20):\n",
    "    soma=0\n",
    "    for l,x in zip(y,X):\n",
    "\n",
    "        tokenized_query3 = x\n",
    "        if isPreprocess:\n",
    "            tokenized_query3 = preprocess(x)\n",
    "    \n",
    "        scores = retriever(tokenized_query3)\n",
    "        top_n = [d[\"name\"] for d in scores] \n",
    "    \n",
    "        encontrado=verificar(l,top_n)\n",
    "        soma+= (encontrado / top_k)\n",
    "    precision = soma / 295\n",
    "    print(\"P@ %d: %f \" % (top_k,precision))"
   ]
  },
  {
   "cell_type": "code",
   "execution_count": 9,
   "id": "4bd84f9e",
   "metadata": {},
   "outputs": [],
   "source": [
    "def avaliacaoMAP(isPreprocess,top_k=20):\n",
    "    l_v = list()\n",
    "    labels_nsL = list()\n",
    "    for l,x in zip(y,X):\n",
    "\n",
    "        tokenized_query3 = x\n",
    "        if isPreprocess:\n",
    "            tokenized_query3 = preprocess(x)\n",
    "    \n",
    "        scores = retriever(tokenized_query3)\n",
    "        top_n = [d[\"name\"] for d in scores]\n",
    "        l_v.append(l)\n",
    "        labels_nsL.append(top_n)\n",
    "        \n",
    "    denominador = 0\n",
    "    encontrou=False\n",
    "    soma=0\n",
    "    for Y,x in zip(l_v,labels_nsL):\n",
    "        calc = 0\n",
    "        quant=0\n",
    "        for k in x:\n",
    "            if str(k).strip() == Y.strip():\n",
    "                quant=1\n",
    "                encontrou=True\n",
    "            denominador+=1\n",
    "            calc=quant/denominador\n",
    "            if encontrou:\n",
    "                calc = calc * 1\n",
    "            else:\n",
    "                calc = calc * 0\n",
    "            soma+=calc\n",
    "            encontrou = False\n",
    "    MAP = soma /295\n",
    "    print(\"MAP@ %d: %f\" % (top_k,MAP))"
   ]
  },
  {
   "cell_type": "code",
   "execution_count": 10,
   "id": "6429d010",
   "metadata": {},
   "outputs": [],
   "source": [
    "class Savoy:\n",
    "\n",
    "    def __removeAllPTAccent(self, old_word):\n",
    "        word = list(old_word)\n",
    "        len_word = len(word)-1\n",
    "        for i in range(len_word, -1, -1):\n",
    "            if word[i] == 'ä':\n",
    "                word[i] = 'a'\n",
    "            if word[i] == 'â':\n",
    "                word[i] = 'a'\n",
    "            if word[i] == 'à':\n",
    "                word[i] = 'a'\n",
    "            if word[i] == 'á':\n",
    "                word[i] = 'a'\n",
    "            if word[i] == 'ã':\n",
    "                word[i] = 'a'\n",
    "            if word[i] == 'ê':\n",
    "                word[i] = 'e'\n",
    "            if word[i] == 'é':\n",
    "                word[i] = 'e'\n",
    "            if word[i] == 'è':\n",
    "                word[i] = 'e'\n",
    "            if word[i] == 'ë':\n",
    "                word[i] = 'e'\n",
    "            if word[i] == 'ï':\n",
    "                word[i] = 'i'\n",
    "            if word[i] == 'î':\n",
    "                word[i] = 'i'\n",
    "            if word[i] == 'ì':\n",
    "                word[i] = 'i'\n",
    "            if word[i] == 'í':\n",
    "                word[i] = 'i'\n",
    "            if word[i] == 'ü':\n",
    "                word[i] = 'u'\n",
    "            if word[i] == 'ú':\n",
    "                word[i] = 'u'\n",
    "            if word[i] == 'ù':\n",
    "                word[i] = 'u'\n",
    "            if word[i] == 'û':\n",
    "                word[i] = 'u'\n",
    "            if word[i] == 'ô':\n",
    "                word[i] = 'o'\n",
    "            if word[i] == 'ö':\n",
    "                word[i] = 'o'\n",
    "            if word[i] == 'ó':\n",
    "                word[i] = 'o'\n",
    "            if word[i] == 'ò':\n",
    "                word[i] = 'o'\n",
    "            if word[i] == 'õ':\n",
    "                word[i] = 'o'\n",
    "            if word[i] == 'ç':\n",
    "                word[i] = 'c'\n",
    "\n",
    "        new_word = \"\".join(word)\n",
    "        return new_word\n",
    "\n",
    "    def __finalVowelPortuguese(self, word):\n",
    "        len_word = len(word)\n",
    "        if len_word > 3:\n",
    "            if word[-1] == 'e' or word[-1] == 'a' or word[-1] == 'o':\n",
    "                word = word[:-1]\n",
    "\n",
    "        return word\n",
    "\n",
    "    def __remove_PTsuffix(self, word):\n",
    "        len_word = len(word)\n",
    "\n",
    "        if len_word > 3:\n",
    "            if word[-1] == 's' and word[-2] == 'e' and (word[-3] == 'r' or word[-3] == 's' or word[-3] == 'z' or word[-3] == 'l'):\n",
    "                word = word[:-2]\n",
    "                return word\n",
    "        if len_word > 2:\n",
    "            if word[-1] == 's' and word[-2] == 'n':\n",
    "                new_word = list(word)\n",
    "                new_word[-2] = 'm'\n",
    "                sing = \"\".join(new_word)\n",
    "                sing = sing[:-1]\n",
    "                return sing\n",
    "\n",
    "        if len_word > 3:\n",
    "            if (word[-1] == 's' and word[-2] == 'i') and (word[-3] == 'e' or word[-3] == 'é'):\n",
    "                new_word = list(word)\n",
    "                new_word[-3] = 'e'\n",
    "                new_word[-2] = 'l'\n",
    "                sing = \"\".join(new_word)\n",
    "                sing = sing[:-1]\n",
    "                return sing\n",
    "\n",
    "        if len_word > 3:\n",
    "            if word[-1] == 's' and word[-2] == 'i' and word[-3] == 'a':\n",
    "                new_word = list(word)\n",
    "                new_word[-2] = 'l'\n",
    "                sing = \"\".join(new_word)\n",
    "                sing = sing[:-1]\n",
    "                return sing\n",
    "\n",
    "        if len_word > 3:\n",
    "            if word[-1] == 's' and word[-2] == 'i' and word[-3] == 'ó':\n",
    "                new_word = list(word)\n",
    "                new_word[-3] = 'o'\n",
    "                new_word[-2] = 'l'\n",
    "                sing = \"\".join(new_word)\n",
    "                sing = sing[:-1]\n",
    "                return sing\n",
    "\n",
    "        if len_word > 3:\n",
    "            if word[-1] == 's' and word[-2] == 'i':\n",
    "                new_word = list(word)\n",
    "                new_word[-1] = 'l'\n",
    "                sing = \"\".join(new_word)\n",
    "                return sing\n",
    "\n",
    "        if len_word > 2:\n",
    "            if word[-1] == 's' and word[-2] == 'e' and word[-3] == 'õ':\n",
    "                new_word = list(word)\n",
    "                new_word[-3] = 'ã'\n",
    "                new_word[-2] = 'o'\n",
    "                sing = \"\".join(new_word)\n",
    "                sing = sing[:-1]\n",
    "                return sing\n",
    "            if word[-1] == 's' and word[-2] == 'e' and word[-3] == 'ã':\n",
    "                new_word = list(word)\n",
    "                new_word[-2] = 'o'\n",
    "                sing = \"\".join(new_word)\n",
    "                sing = sing[:-1]\n",
    "                return sing\n",
    "\n",
    "        if len_word > 5:\n",
    "            if word[-1] == 'e' and word[-2] == 't' and word[-3] == 'n' and word[-4] == 'e' and word[-5] == 'm':\n",
    "                word = word[:-5]\n",
    "                return word\n",
    "\n",
    "        if len_word > 2:\n",
    "            if word[-1] == 's':\n",
    "                word = word[:-1]\n",
    "\n",
    "        return word\n",
    "\n",
    "    def __normFemininPortuguese(self, word):\n",
    "\n",
    "        len_word = len(word)\n",
    "\n",
    "        if len_word < 3 or word[-1] != 'a':\n",
    "            return word\n",
    "\n",
    "        if len_word > 6:\n",
    "\n",
    "            if word[-2] == 'h' and word[-3] == 'n' and word[-4] == 'i':\n",
    "                new_word = list(word)\n",
    "                new_word[-1] = 'o'\n",
    "                masc = \"\".join(new_word)\n",
    "                return masc\n",
    "\n",
    "            if word[-2] == 'c' and word[-3] == 'a' and word[-4] == 'i':\n",
    "                new_word = list(word)\n",
    "                new_word[-1] = 'o'\n",
    "                masc = \"\".join(new_word)\n",
    "                return masc\n",
    "\n",
    "            if word[-2] == 'r' and word[-3] == 'i' and word[-4] == 'e':\n",
    "                new_word = list(word)\n",
    "                new_word[-1] = 'o'\n",
    "                masc = \"\".join(new_word)\n",
    "                return masc\n",
    "\n",
    "        if len_word > 5:\n",
    "            if word[-2] == 'n' and word[-3] == 'o':\n",
    "                new_word = list(word)\n",
    "                new_word[-3] = 'ã'\n",
    "                new_word[-2] = 'o'\n",
    "                masc = \"\".join(new_word)\n",
    "                masc = masc[:-1]\n",
    "                return masc\n",
    "\n",
    "            if word[-2] == 'r' and word[-3] == 'o':\n",
    "                word = word[:-1]\n",
    "                return word\n",
    "\n",
    "            if word[-2] == 's' and word[-3] == 'o':\n",
    "                new_word = list(word)\n",
    "                new_word[-1] = 'o'\n",
    "                masc = \"\".join(new_word)\n",
    "                return masc\n",
    "\n",
    "            if word[-2] == 's' and word[-3] == 'e':\n",
    "                new_word = list(word)\n",
    "                new_word[-3] = 'ê'\n",
    "                masc = \"\".join(new_word)\n",
    "                masc = masc[:-1]\n",
    "                return masc\n",
    "\n",
    "            if word[-2] == 'c' and word[-3] == 'i':\n",
    "                new_word = list(word)\n",
    "                new_word[-1] = 'o'\n",
    "                masc = \"\".join(new_word)\n",
    "                return masc\n",
    "\n",
    "            if word[-2] == 'd' and word[-3] == 'i':\n",
    "                new_word = list(word)\n",
    "                new_word[-1] = 'o'\n",
    "                masc = \"\".join(new_word)\n",
    "                return masc\n",
    "\n",
    "            if word[-2] == 'd' and word[-3] == 'a':\n",
    "                new_word = list(word)\n",
    "                new_word[-1] = 'o'\n",
    "                masc = \"\".join(new_word)\n",
    "                return masc\n",
    "\n",
    "            if word[-2] == 'v' and word[-3] == 'i':\n",
    "                new_word = list(word)\n",
    "                new_word[-1] = 'o'\n",
    "                masc = \"\".join(new_word)\n",
    "                return masc\n",
    "\n",
    "            if word[-2] == 'm' and word[-3] == 'a':\n",
    "                new_word = list(word)\n",
    "                new_word[-1] = 'o'\n",
    "                masc = \"\".join(new_word)\n",
    "                return masc\n",
    "\n",
    "            if word[-2] == 'n':\n",
    "                new_word = list(word)\n",
    "                new_word[-1] = 'o'\n",
    "                masc = \"\".join(new_word)\n",
    "                return masc\n",
    "\n",
    "        return word\n",
    "\n",
    "    def stem(self, word):\n",
    "        len_word = len(word)\n",
    "        if len_word > 2:\n",
    "            word = self.__remove_PTsuffix(word)\n",
    "            word = self.__normFemininPortuguese(word)\n",
    "            word = self.__finalVowelPortuguese(word)\n",
    "            word = self.__removeAllPTAccent(word)\n",
    "\n",
    "        return word"
   ]
  },
  {
   "cell_type": "code",
   "execution_count": 11,
   "id": "9e1b73cb",
   "metadata": {},
   "outputs": [],
   "source": [
    "class RSLP_S:\n",
    "    def __plural_reduction(self, word):\n",
    "        excep = [\"lápis\",\"cais\",\"mais\",\"crúcis\",\"biquínis\",\"pois\",\"depois\",\"dois\",\"leis\" ]\n",
    "        excep_s = [\"aliás\",\"pires\",\"lápis\",\"cais\",\"mais\",\"mas\",\"menos\", \"férias\",\"fezes\",\"pêsames\",\"crúcis\",\"gás\", \"atrás\",\"moisés\",\"através\",\"convés\",\"ês\", \"país\",\"após\",\"ambas\",\"ambos\",\"messias\"]\n",
    "\n",
    "        len_word = len(word)\n",
    "        new_word = list(word)\n",
    "\n",
    "        if len_word >= 3:\n",
    "            if new_word[-1] == 's' and new_word[-2] == 'n':\n",
    "                new_word[-2] = 'm'\n",
    "                sing = \"\".join(new_word)\n",
    "                sing = sing[:-1]\n",
    "                return sing\n",
    "\n",
    "            if new_word[-1] == 's' and new_word[-2] == 'e' and new_word[-3] == 'õ':\n",
    "                new_word[-3] = 'ã'\n",
    "                new_word[-2] = 'o'\n",
    "                sing = \"\".join(new_word)\n",
    "                sing = sing[:-1]\n",
    "                return  sing\n",
    "\n",
    "            if new_word[-1] == 's' and new_word[-2] == 'e' and new_word[-3] == 'ã':\n",
    "                if word == 'mães':\n",
    "                    word = word[:-1]\n",
    "                    return word\n",
    "                else:\n",
    "                    new_word[-2] = 'o'\n",
    "                    sing = \"\".join(new_word)\n",
    "                    sing = sing[:-1]\n",
    "                    return sing\n",
    "\n",
    "            if new_word[-1] == 's' and new_word[-2] == 'i' and new_word[-3] == 'a':\n",
    "                if word != 'cais' and word != 'mais':\n",
    "                    new_word[-2] = 'l'\n",
    "                    sing = \"\".join(new_word)\n",
    "                    sing = sing[:-1]\n",
    "                    return sing\n",
    "\n",
    "            if new_word[-1] == 's' and new_word[-2] == 'i' and new_word[-3] == 'é':\n",
    "                new_word[-3] = 'e'\n",
    "                new_word[-2] = 'l'\n",
    "                sing = \"\".join(new_word)\n",
    "                sing = sing[:-1]\n",
    "                return sing\n",
    "\n",
    "            if new_word[-1] == 's' and new_word[-2] == 'i' and new_word[-3] == 'e':\n",
    "                new_word[-3] = 'e'\n",
    "                new_word[-2] = 'l'\n",
    "                sing = \"\".join(new_word)\n",
    "                sing = sing[:-1]\n",
    "                return sing\n",
    "\n",
    "            if new_word[-1] == 's' and new_word[-2] == 'i' and new_word[-3] == 'ó':\n",
    "                new_word[-3] = 'o'\n",
    "                new_word[-2] = 'l'\n",
    "                sing = \"\".join(new_word)\n",
    "                sing = sing[:-1]\n",
    "                return sing\n",
    "\n",
    "            if new_word[-1] == 's' and new_word[-2] == 'i':\n",
    "                if word not in excep:\n",
    "                    new_word[-1] = 'l'\n",
    "                    sing = \"\".join(new_word)\n",
    "                    return sing\n",
    "\n",
    "            if new_word[-1] == 's' and new_word[-2] == 'e' and new_word[-3] == 'l':\n",
    "                word = word[:-2]\n",
    "                return word\n",
    "\n",
    "            if new_word[-1] == 's' and new_word[-2] == 'e' and new_word[-3] == 'r':\n",
    "                word = word[:-2]\n",
    "                return word\n",
    "\n",
    "            if new_word[-1] == 's':\n",
    "                if word not in excep_s:\n",
    "                    word = word[:-1]\n",
    "\n",
    "        return word\n",
    "\n",
    "    def stem(self, word):\n",
    "        word = self.__plural_reduction(word)\n",
    "\n",
    "        return word"
   ]
  },
  {
   "cell_type": "code",
   "execution_count": 12,
   "id": "a60034c2",
   "metadata": {},
   "outputs": [],
   "source": [
    "es = Elasticsearch(hosts=\"http://localhost:9200\", http_auth=('elastic', 'TlHbFKwz9YMAprROSrgA'),timeout=30)"
   ]
  },
  {
   "cell_type": "markdown",
   "id": "cb58d951",
   "metadata": {},
   "source": [
    "# Pré processamento"
   ]
  },
  {
   "cell_type": "markdown",
   "id": "c997a618",
   "metadata": {},
   "source": [
    "## 1- Sem pré processamento"
   ]
  },
  {
   "cell_type": "code",
   "execution_count": 13,
   "id": "9a28d020",
   "metadata": {},
   "outputs": [],
   "source": [
    "indice = \"sem_preprocessamento_img\""
   ]
  },
  {
   "cell_type": "markdown",
   "id": "04611475",
   "metadata": {},
   "source": [
    "## Avaliação"
   ]
  },
  {
   "cell_type": "markdown",
   "id": "b9e6e487",
   "metadata": {},
   "source": [
    "#### TOP K 5"
   ]
  },
  {
   "cell_type": "code",
   "execution_count": 14,
   "id": "bd1d5c24",
   "metadata": {},
   "outputs": [],
   "source": [
    "retriever = retrieve.Elastic(es=es,on=[\"content\"],index=indice,key=\"name\",k=5)"
   ]
  },
  {
   "cell_type": "code",
   "execution_count": 15,
   "id": "74f500a5",
   "metadata": {},
   "outputs": [
    {
     "name": "stdout",
     "output_type": "stream",
     "text": [
      "Duração: 29.567302\n",
      "Recall: 0.6101694915254238\n"
     ]
    }
   ],
   "source": [
    "avaliacaoRecall(False)"
   ]
  },
  {
   "cell_type": "code",
   "execution_count": 16,
   "id": "068bcceb",
   "metadata": {},
   "outputs": [
    {
     "name": "stdout",
     "output_type": "stream",
     "text": [
      "P@ 5: 0.122034 \n"
     ]
    }
   ],
   "source": [
    "avaliacaoPrecision(False,5)"
   ]
  },
  {
   "cell_type": "code",
   "execution_count": 17,
   "id": "9256fd43",
   "metadata": {},
   "outputs": [
    {
     "name": "stdout",
     "output_type": "stream",
     "text": [
      "MAP@ 5: 0.004146\n"
     ]
    }
   ],
   "source": [
    "avaliacaoMAP(False,5)"
   ]
  },
  {
   "cell_type": "code",
   "execution_count": 18,
   "id": "ca4f8a27",
   "metadata": {},
   "outputs": [
    {
     "name": "stdout",
     "output_type": "stream",
     "text": [
      "RR: 0.389831\n"
     ]
    }
   ],
   "source": [
    "avaliacaoRR(False)"
   ]
  },
  {
   "cell_type": "markdown",
   "id": "3fbf4b45",
   "metadata": {},
   "source": [
    "#### TOP K 10"
   ]
  },
  {
   "cell_type": "code",
   "execution_count": 19,
   "id": "4dcd9ff8",
   "metadata": {},
   "outputs": [],
   "source": [
    "retriever = retrieve.Elastic(es=es,on=[\"content\"],index=indice,key=\"name\",k=10)"
   ]
  },
  {
   "cell_type": "code",
   "execution_count": 20,
   "id": "766a990b",
   "metadata": {},
   "outputs": [
    {
     "name": "stdout",
     "output_type": "stream",
     "text": [
      "Duração: 24.584935\n",
      "Recall: 0.6677966101694915\n"
     ]
    }
   ],
   "source": [
    "avaliacaoRecall(False)"
   ]
  },
  {
   "cell_type": "code",
   "execution_count": 21,
   "id": "68149ac4",
   "metadata": {},
   "outputs": [
    {
     "name": "stdout",
     "output_type": "stream",
     "text": [
      "P@ 10: 0.066780 \n"
     ]
    }
   ],
   "source": [
    "avaliacaoPrecision(False,10)"
   ]
  },
  {
   "cell_type": "code",
   "execution_count": 22,
   "id": "a6f0c0a5",
   "metadata": {},
   "outputs": [
    {
     "name": "stdout",
     "output_type": "stream",
     "text": [
      "MAP@ 10: 0.003050\n"
     ]
    }
   ],
   "source": [
    "avaliacaoMAP(False,10)"
   ]
  },
  {
   "cell_type": "code",
   "execution_count": 23,
   "id": "8171d0cf",
   "metadata": {},
   "outputs": [
    {
     "name": "stdout",
     "output_type": "stream",
     "text": [
      "RR: 0.389831\n"
     ]
    }
   ],
   "source": [
    "avaliacaoRR(False)"
   ]
  },
  {
   "cell_type": "markdown",
   "id": "69aa85dd",
   "metadata": {},
   "source": [
    "#### TOP K 20"
   ]
  },
  {
   "cell_type": "code",
   "execution_count": 24,
   "id": "794d78a7",
   "metadata": {},
   "outputs": [],
   "source": [
    "retriever = retrieve.Elastic(es=es,on=[\"content\"],index=indice,key=\"name\",k=20)"
   ]
  },
  {
   "cell_type": "code",
   "execution_count": 25,
   "id": "7e3b999f",
   "metadata": {},
   "outputs": [
    {
     "name": "stdout",
     "output_type": "stream",
     "text": [
      "Duração: 33.020497\n",
      "Recall: 0.7016949152542373\n"
     ]
    }
   ],
   "source": [
    "avaliacaoRecall(False)"
   ]
  },
  {
   "cell_type": "code",
   "execution_count": 26,
   "id": "7881ee5a",
   "metadata": {},
   "outputs": [
    {
     "name": "stdout",
     "output_type": "stream",
     "text": [
      "P@ 20: 0.035085 \n"
     ]
    }
   ],
   "source": [
    "avaliacaoPrecision(False,20)"
   ]
  },
  {
   "cell_type": "code",
   "execution_count": 27,
   "id": "948ad4d3",
   "metadata": {},
   "outputs": [
    {
     "name": "stdout",
     "output_type": "stream",
     "text": [
      "MAP@ 20: 0.002415\n"
     ]
    }
   ],
   "source": [
    "avaliacaoMAP(False,20)"
   ]
  },
  {
   "cell_type": "code",
   "execution_count": 28,
   "id": "39490678",
   "metadata": {},
   "outputs": [
    {
     "name": "stdout",
     "output_type": "stream",
     "text": [
      "RR: 0.389831\n"
     ]
    }
   ],
   "source": [
    "avaliacaoRR(False)"
   ]
  },
  {
   "cell_type": "markdown",
   "id": "a3a6bd63",
   "metadata": {},
   "source": [
    "## 5- Letra mínuscula + remoção de pontuação + remoção de acentuação e remoção de stopword\n"
   ]
  },
  {
   "cell_type": "code",
   "execution_count": 29,
   "id": "f1bef925",
   "metadata": {},
   "outputs": [],
   "source": [
    "def _remove_acentos(txt):\n",
    "    return normalize('NFKD', txt).encode('ASCII', 'ignore').decode('ASCII')\n",
    "\n",
    "def preprocess(txt):\n",
    "    txt = _remove_acentos(txt)\n",
    "    stopwords = nltk.corpus.stopwords.words(\"portuguese\")\n",
    "    stopwords.extend(list(punctuation))\n",
    "    tokenizer = RegexpTokenizer('\\w+')\n",
    "    terms = tokenizer.tokenize(txt.lower())\n",
    "    terms = [word for word in terms if word not in stopwords]\n",
    "    terms = \" \".join(terms)\n",
    "    return terms"
   ]
  },
  {
   "cell_type": "code",
   "execution_count": 30,
   "id": "3f640366",
   "metadata": {},
   "outputs": [],
   "source": [
    "indice = \"preprocessamento_5_img\""
   ]
  },
  {
   "cell_type": "markdown",
   "id": "5ccfa9ee",
   "metadata": {},
   "source": [
    "## Avaliação"
   ]
  },
  {
   "cell_type": "markdown",
   "id": "477c5806",
   "metadata": {},
   "source": [
    "#### TOP K 5"
   ]
  },
  {
   "cell_type": "code",
   "execution_count": 31,
   "id": "895ce411",
   "metadata": {},
   "outputs": [],
   "source": [
    "retriever = retrieve.Elastic(es=es,on=[\"content\"],index=indice,key=\"name\",k=5)"
   ]
  },
  {
   "cell_type": "code",
   "execution_count": 33,
   "id": "792dee8e",
   "metadata": {},
   "outputs": [
    {
     "name": "stdout",
     "output_type": "stream",
     "text": [
      "Duração: 19.522175\n",
      "Recall: 0.6135593220338983\n"
     ]
    }
   ],
   "source": [
    "avaliacaoRecall(True)"
   ]
  },
  {
   "cell_type": "code",
   "execution_count": 34,
   "id": "fdff9106",
   "metadata": {},
   "outputs": [
    {
     "name": "stdout",
     "output_type": "stream",
     "text": [
      "P@ 5: 0.122712 \n"
     ]
    }
   ],
   "source": [
    "avaliacaoPrecision(True,5)"
   ]
  },
  {
   "cell_type": "code",
   "execution_count": 35,
   "id": "f06354f7",
   "metadata": {},
   "outputs": [
    {
     "name": "stdout",
     "output_type": "stream",
     "text": [
      "MAP@ 5: 0.003567\n"
     ]
    }
   ],
   "source": [
    "avaliacaoMAP(True,5)"
   ]
  },
  {
   "cell_type": "code",
   "execution_count": 36,
   "id": "70b97e07",
   "metadata": {},
   "outputs": [
    {
     "name": "stdout",
     "output_type": "stream",
     "text": [
      "RR: 0.379661\n"
     ]
    }
   ],
   "source": [
    "avaliacaoRR(True)"
   ]
  },
  {
   "cell_type": "markdown",
   "id": "2ae056e6",
   "metadata": {},
   "source": [
    "#### TOP K 10"
   ]
  },
  {
   "cell_type": "code",
   "execution_count": 37,
   "id": "e1de7878",
   "metadata": {},
   "outputs": [],
   "source": [
    "retriever = retrieve.Elastic(es=es,on=[\"content\"],index=indice,key=\"name\",k=10)"
   ]
  },
  {
   "cell_type": "code",
   "execution_count": 38,
   "id": "02e2623a",
   "metadata": {},
   "outputs": [
    {
     "name": "stdout",
     "output_type": "stream",
     "text": [
      "Duração: 14.222872\n",
      "Recall: 0.6644067796610169\n"
     ]
    }
   ],
   "source": [
    "avaliacaoRecall(True)"
   ]
  },
  {
   "cell_type": "code",
   "execution_count": 39,
   "id": "ac8165f5",
   "metadata": {},
   "outputs": [
    {
     "name": "stdout",
     "output_type": "stream",
     "text": [
      "P@ 10: 0.066441 \n"
     ]
    }
   ],
   "source": [
    "avaliacaoPrecision(True,10)"
   ]
  },
  {
   "cell_type": "code",
   "execution_count": 40,
   "id": "4b2117e8",
   "metadata": {},
   "outputs": [
    {
     "name": "stdout",
     "output_type": "stream",
     "text": [
      "MAP@ 10: 0.002488\n"
     ]
    }
   ],
   "source": [
    "avaliacaoMAP(True,10)"
   ]
  },
  {
   "cell_type": "code",
   "execution_count": 41,
   "id": "cb146527",
   "metadata": {},
   "outputs": [
    {
     "name": "stdout",
     "output_type": "stream",
     "text": [
      "RR: 0.379661\n"
     ]
    }
   ],
   "source": [
    "avaliacaoRR(True)"
   ]
  },
  {
   "cell_type": "markdown",
   "id": "373a1470",
   "metadata": {},
   "source": [
    "#### TOP K 20"
   ]
  },
  {
   "cell_type": "code",
   "execution_count": 42,
   "id": "1c92efec",
   "metadata": {},
   "outputs": [],
   "source": [
    "retriever = retrieve.Elastic(es=es,on=[\"content\"],index=indice,key=\"name\",k=20)"
   ]
  },
  {
   "cell_type": "code",
   "execution_count": 43,
   "id": "491b21fe",
   "metadata": {},
   "outputs": [
    {
     "name": "stdout",
     "output_type": "stream",
     "text": [
      "Duração: 16.391733\n",
      "Recall: 0.7050847457627119\n"
     ]
    }
   ],
   "source": [
    "avaliacaoRecall(True)"
   ]
  },
  {
   "cell_type": "code",
   "execution_count": 44,
   "id": "c4c5ed4d",
   "metadata": {},
   "outputs": [
    {
     "name": "stdout",
     "output_type": "stream",
     "text": [
      "P@ 20: 0.035254 \n"
     ]
    }
   ],
   "source": [
    "avaliacaoPrecision(True,20)"
   ]
  },
  {
   "cell_type": "code",
   "execution_count": 45,
   "id": "1181d971",
   "metadata": {},
   "outputs": [
    {
     "name": "stdout",
     "output_type": "stream",
     "text": [
      "MAP@ 20: 0.001845\n"
     ]
    }
   ],
   "source": [
    "avaliacaoMAP(True,20)"
   ]
  },
  {
   "cell_type": "code",
   "execution_count": 46,
   "id": "4c740a86",
   "metadata": {},
   "outputs": [
    {
     "name": "stdout",
     "output_type": "stream",
     "text": [
      "RR: 0.379661\n"
     ]
    }
   ],
   "source": [
    "avaliacaoRR(True)"
   ]
  },
  {
   "cell_type": "markdown",
   "id": "f5d105a0",
   "metadata": {},
   "source": [
    "## 9- Letra mínuscula + remoção de pontuação + remoção de acentuação e remoção de stopword + stemming (RSLP)"
   ]
  },
  {
   "cell_type": "code",
   "execution_count": 47,
   "id": "9b8ff101",
   "metadata": {},
   "outputs": [],
   "source": [
    "def _remove_acentos(txt):\n",
    "    return normalize('NFKD', txt).encode('ASCII', 'ignore').decode('ASCII')\n",
    "\n",
    "def preprocess(txt):\n",
    "    txt = _remove_acentos(txt)\n",
    "    stopwords = nltk.corpus.stopwords.words(\"portuguese\")\n",
    "    stopwords.extend(list(punctuation))\n",
    "\n",
    "    stemmer = RSLPStemmer()\n",
    "    tokenizer = RegexpTokenizer('\\w+')\n",
    "    terms = tokenizer.tokenize(txt.lower())\n",
    "    terms = [stemmer.stem(word) for word in terms if word not in stopwords]\n",
    "        \n",
    "    return \" \".join(terms)"
   ]
  },
  {
   "cell_type": "code",
   "execution_count": 48,
   "id": "00f33f71",
   "metadata": {},
   "outputs": [],
   "source": [
    "indice = \"preprocessamento_8_img\""
   ]
  },
  {
   "cell_type": "markdown",
   "id": "880aa38c",
   "metadata": {},
   "source": [
    "## Avaliação"
   ]
  },
  {
   "cell_type": "markdown",
   "id": "ad6fe40f",
   "metadata": {},
   "source": [
    "#### TOP K 5"
   ]
  },
  {
   "cell_type": "code",
   "execution_count": 49,
   "id": "159ce0b9",
   "metadata": {},
   "outputs": [],
   "source": [
    "retriever = retrieve.Elastic(es=es,on=[\"content\"],index=indice,key=\"name\",k=5)"
   ]
  },
  {
   "cell_type": "code",
   "execution_count": 50,
   "id": "bd3af538",
   "metadata": {},
   "outputs": [
    {
     "name": "stdout",
     "output_type": "stream",
     "text": [
      "Duração: 21.799000\n",
      "Recall: 0.6101694915254238\n"
     ]
    }
   ],
   "source": [
    "avaliacaoRecall(True)"
   ]
  },
  {
   "cell_type": "code",
   "execution_count": 51,
   "id": "da3bee0c",
   "metadata": {},
   "outputs": [
    {
     "name": "stdout",
     "output_type": "stream",
     "text": [
      "P@ 5: 0.122034 \n"
     ]
    }
   ],
   "source": [
    "avaliacaoPrecision(True,5)"
   ]
  },
  {
   "cell_type": "code",
   "execution_count": 52,
   "id": "0cfc91ac",
   "metadata": {},
   "outputs": [
    {
     "name": "stdout",
     "output_type": "stream",
     "text": [
      "MAP@ 5: 0.003631\n"
     ]
    }
   ],
   "source": [
    "avaliacaoMAP(True,5)"
   ]
  },
  {
   "cell_type": "code",
   "execution_count": 53,
   "id": "c7e48552",
   "metadata": {},
   "outputs": [
    {
     "name": "stdout",
     "output_type": "stream",
     "text": [
      "RR: 0.396610\n"
     ]
    }
   ],
   "source": [
    "avaliacaoRR(True)"
   ]
  },
  {
   "cell_type": "markdown",
   "id": "1d15c16d",
   "metadata": {},
   "source": [
    "#### TOP K 10"
   ]
  },
  {
   "cell_type": "code",
   "execution_count": 54,
   "id": "c38a3d7e",
   "metadata": {},
   "outputs": [],
   "source": [
    "retriever = retrieve.Elastic(es=es,on=[\"content\"],index=indice,key=\"name\",k=10)"
   ]
  },
  {
   "cell_type": "code",
   "execution_count": 55,
   "id": "d732e793",
   "metadata": {},
   "outputs": [
    {
     "name": "stdout",
     "output_type": "stream",
     "text": [
      "Duração: 14.311227\n",
      "Recall: 0.6644067796610169\n"
     ]
    }
   ],
   "source": [
    "avaliacaoRecall(True)"
   ]
  },
  {
   "cell_type": "code",
   "execution_count": 56,
   "id": "d749428d",
   "metadata": {},
   "outputs": [
    {
     "name": "stdout",
     "output_type": "stream",
     "text": [
      "P@ 10: 0.066441 \n"
     ]
    }
   ],
   "source": [
    "avaliacaoPrecision(True,10)"
   ]
  },
  {
   "cell_type": "code",
   "execution_count": 57,
   "id": "61006a67",
   "metadata": {},
   "outputs": [
    {
     "name": "stdout",
     "output_type": "stream",
     "text": [
      "MAP@ 10: 0.003004\n"
     ]
    }
   ],
   "source": [
    "avaliacaoMAP(True,10)"
   ]
  },
  {
   "cell_type": "code",
   "execution_count": 58,
   "id": "1a58e272",
   "metadata": {},
   "outputs": [
    {
     "name": "stdout",
     "output_type": "stream",
     "text": [
      "RR: 0.396610\n"
     ]
    }
   ],
   "source": [
    "avaliacaoRR(True)"
   ]
  },
  {
   "cell_type": "markdown",
   "id": "5170a701",
   "metadata": {},
   "source": [
    "#### TOP K 20"
   ]
  },
  {
   "cell_type": "code",
   "execution_count": 59,
   "id": "c74ed217",
   "metadata": {},
   "outputs": [],
   "source": [
    "retriever = retrieve.Elastic(es=es,on=[\"content\"],index=indice,key=\"name\",k=20)"
   ]
  },
  {
   "cell_type": "code",
   "execution_count": 60,
   "id": "88ac32db",
   "metadata": {},
   "outputs": [
    {
     "name": "stdout",
     "output_type": "stream",
     "text": [
      "Duração: 15.532029\n",
      "Recall: 0.7152542372881356\n"
     ]
    }
   ],
   "source": [
    "avaliacaoRecall(True)"
   ]
  },
  {
   "cell_type": "code",
   "execution_count": 61,
   "id": "7f98f15b",
   "metadata": {},
   "outputs": [
    {
     "name": "stdout",
     "output_type": "stream",
     "text": [
      "P@ 20: 0.035763 \n"
     ]
    }
   ],
   "source": [
    "avaliacaoPrecision(True,20)"
   ]
  },
  {
   "cell_type": "code",
   "execution_count": 62,
   "id": "71605239",
   "metadata": {},
   "outputs": [
    {
     "name": "stdout",
     "output_type": "stream",
     "text": [
      "MAP@ 20: 0.002419\n"
     ]
    }
   ],
   "source": [
    "avaliacaoMAP(True,20)"
   ]
  },
  {
   "cell_type": "code",
   "execution_count": 63,
   "id": "3bea26b2",
   "metadata": {},
   "outputs": [
    {
     "name": "stdout",
     "output_type": "stream",
     "text": [
      "RR: 0.396610\n"
     ]
    }
   ],
   "source": [
    "avaliacaoRR(True)"
   ]
  },
  {
   "cell_type": "markdown",
   "id": "81868d81",
   "metadata": {},
   "source": [
    "## 11- Letra mínuscula + remoção de pontuação + remoção de acentuação e remoção de stopword + stemming (Savoy)"
   ]
  },
  {
   "cell_type": "code",
   "execution_count": 64,
   "id": "3b7f4e13",
   "metadata": {},
   "outputs": [],
   "source": [
    "def _remove_acentos(txt):\n",
    "    return normalize('NFKD', txt).encode('ASCII', 'ignore').decode('ASCII')\n",
    "\n",
    "def preprocess(txt):\n",
    "    txt = _remove_acentos(txt)\n",
    "    stopwords = nltk.corpus.stopwords.words(\"portuguese\")\n",
    "    stopwords.extend(list(punctuation))\n",
    "\n",
    "    stemmer = Savoy()\n",
    "    tokenizer = RegexpTokenizer('\\w+')\n",
    "    terms = tokenizer.tokenize(txt.lower())\n",
    "    terms = [stemmer.stem(word) for word in terms if word not in stopwords]\n",
    "        \n",
    "    return \" \".join(terms)"
   ]
  },
  {
   "cell_type": "code",
   "execution_count": 65,
   "id": "816ba85b",
   "metadata": {},
   "outputs": [],
   "source": [
    "indice = \"preprocessamento_9_img\""
   ]
  },
  {
   "cell_type": "markdown",
   "id": "1948ce5c",
   "metadata": {},
   "source": [
    "## Avaliação"
   ]
  },
  {
   "cell_type": "markdown",
   "id": "d224af05",
   "metadata": {},
   "source": [
    "#### TOP K 5"
   ]
  },
  {
   "cell_type": "code",
   "execution_count": 66,
   "id": "a942c452",
   "metadata": {},
   "outputs": [],
   "source": [
    "retriever = retrieve.Elastic(es=es,on=[\"content\"],index=indice,key=\"name\",k=5)"
   ]
  },
  {
   "cell_type": "code",
   "execution_count": 67,
   "id": "e0cb5bbc",
   "metadata": {},
   "outputs": [
    {
     "name": "stdout",
     "output_type": "stream",
     "text": [
      "Duração: 15.325752\n",
      "Recall: 0.6101694915254238\n"
     ]
    }
   ],
   "source": [
    "avaliacaoRecall(True)"
   ]
  },
  {
   "cell_type": "code",
   "execution_count": 68,
   "id": "9576c8a7",
   "metadata": {},
   "outputs": [
    {
     "name": "stdout",
     "output_type": "stream",
     "text": [
      "P@ 5: 0.122034 \n"
     ]
    }
   ],
   "source": [
    "avaliacaoPrecision(True,5)"
   ]
  },
  {
   "cell_type": "code",
   "execution_count": 69,
   "id": "9bdf8abf",
   "metadata": {},
   "outputs": [
    {
     "name": "stdout",
     "output_type": "stream",
     "text": [
      "MAP@ 5: 0.003485\n"
     ]
    }
   ],
   "source": [
    "avaliacaoMAP(True,5)"
   ]
  },
  {
   "cell_type": "code",
   "execution_count": 70,
   "id": "8925f8f6",
   "metadata": {},
   "outputs": [
    {
     "name": "stdout",
     "output_type": "stream",
     "text": [
      "RR: 0.389831\n"
     ]
    }
   ],
   "source": [
    "avaliacaoRR(True)"
   ]
  },
  {
   "cell_type": "markdown",
   "id": "5f91a3f3",
   "metadata": {},
   "source": [
    "#### TOP K 10"
   ]
  },
  {
   "cell_type": "code",
   "execution_count": 71,
   "id": "2d30fac2",
   "metadata": {},
   "outputs": [],
   "source": [
    "retriever = retrieve.Elastic(es=es,on=[\"content\"],index=indice,key=\"name\",k=10)"
   ]
  },
  {
   "cell_type": "code",
   "execution_count": 72,
   "id": "2f5104e6",
   "metadata": {},
   "outputs": [
    {
     "name": "stdout",
     "output_type": "stream",
     "text": [
      "Duração: 11.046416\n",
      "Recall: 0.6440677966101694\n"
     ]
    }
   ],
   "source": [
    "avaliacaoRecall(True)"
   ]
  },
  {
   "cell_type": "code",
   "execution_count": 73,
   "id": "2c555240",
   "metadata": {},
   "outputs": [
    {
     "name": "stdout",
     "output_type": "stream",
     "text": [
      "P@ 10: 0.064407 \n"
     ]
    }
   ],
   "source": [
    "avaliacaoPrecision(True,10)"
   ]
  },
  {
   "cell_type": "code",
   "execution_count": 74,
   "id": "cb42f68f",
   "metadata": {},
   "outputs": [
    {
     "name": "stdout",
     "output_type": "stream",
     "text": [
      "MAP@ 10: 0.002437\n"
     ]
    }
   ],
   "source": [
    "avaliacaoMAP(True,10)"
   ]
  },
  {
   "cell_type": "code",
   "execution_count": 75,
   "id": "fa247a33",
   "metadata": {},
   "outputs": [
    {
     "name": "stdout",
     "output_type": "stream",
     "text": [
      "RR: 0.389831\n"
     ]
    }
   ],
   "source": [
    "avaliacaoRR(True)"
   ]
  },
  {
   "cell_type": "markdown",
   "id": "ff35dfa8",
   "metadata": {},
   "source": [
    "#### TOP K 20"
   ]
  },
  {
   "cell_type": "code",
   "execution_count": 76,
   "id": "9e48dda4",
   "metadata": {},
   "outputs": [],
   "source": [
    "retriever = retrieve.Elastic(es=es,on=[\"content\"],index=indice,key=\"name\",k=20)"
   ]
  },
  {
   "cell_type": "code",
   "execution_count": 77,
   "id": "6d1094ce",
   "metadata": {},
   "outputs": [
    {
     "name": "stdout",
     "output_type": "stream",
     "text": [
      "Duração: 12.330267\n",
      "Recall: 0.711864406779661\n"
     ]
    }
   ],
   "source": [
    "avaliacaoRecall(True)"
   ]
  },
  {
   "cell_type": "code",
   "execution_count": 78,
   "id": "499ed1b1",
   "metadata": {},
   "outputs": [
    {
     "name": "stdout",
     "output_type": "stream",
     "text": [
      "P@ 20: 0.035593 \n"
     ]
    }
   ],
   "source": [
    "avaliacaoPrecision(True,20)"
   ]
  },
  {
   "cell_type": "code",
   "execution_count": 79,
   "id": "0b003bb7",
   "metadata": {},
   "outputs": [
    {
     "name": "stdout",
     "output_type": "stream",
     "text": [
      "MAP@ 20: 0.001872\n"
     ]
    }
   ],
   "source": [
    "avaliacaoMAP(True,20)"
   ]
  },
  {
   "cell_type": "code",
   "execution_count": 80,
   "id": "756765ab",
   "metadata": {},
   "outputs": [
    {
     "name": "stdout",
     "output_type": "stream",
     "text": [
      "RR: 0.389831\n"
     ]
    }
   ],
   "source": [
    "avaliacaoRR(True)"
   ]
  },
  {
   "cell_type": "markdown",
   "id": "4a4bb334",
   "metadata": {},
   "source": [
    "# Word n-gram + pré processamento básico + RSLP"
   ]
  },
  {
   "cell_type": "markdown",
   "id": "3641092e",
   "metadata": {},
   "source": [
    "## 20- Letra mínuscula + remoção de pontuação, acentuação e stopword + stemming (RSLP) + unigram + bigram"
   ]
  },
  {
   "cell_type": "code",
   "execution_count": 93,
   "id": "c4062176",
   "metadata": {},
   "outputs": [],
   "source": [
    "def _remove_acentos(txt):\n",
    "    return normalize('NFKD', txt).encode('ASCII', 'ignore').decode('ASCII')\n",
    "\n",
    "def preprocess(txt):\n",
    "    txt = _remove_acentos(txt)\n",
    "    stopwords = nltk.corpus.stopwords.words(\"portuguese\")\n",
    "    stopwords.extend(list(punctuation))\n",
    "\n",
    "    stemmer = RSLPStemmer()\n",
    "    tokenizer = RegexpTokenizer('\\w+')\n",
    "    terms = tokenizer.tokenize(txt.lower())\n",
    "    terms = [stemmer.stem(word) for word in terms if word not in stopwords]\n",
    "    \n",
    "    ngram = []\n",
    "    ngram_1 = list(ngrams(terms, 1))\n",
    "    ngram_2 = list(ngrams(terms, 2))\n",
    "    for w in ngram_1:\n",
    "        ngram.append(w[0])\n",
    "        \n",
    "    for w in ngram_2:\n",
    "        string = w[0] + \"_\" + w[1]\n",
    "        ngram.append(string)\n",
    "    \n",
    "    return \" \".join(ngram)\n"
   ]
  },
  {
   "cell_type": "code",
   "execution_count": 94,
   "id": "79d40f87",
   "metadata": {},
   "outputs": [],
   "source": [
    "indice = \"preprocessamento_18_img\""
   ]
  },
  {
   "cell_type": "markdown",
   "id": "904d606c",
   "metadata": {},
   "source": [
    "## Avaliação"
   ]
  },
  {
   "cell_type": "markdown",
   "id": "f6595002",
   "metadata": {},
   "source": [
    "#### TOP K 5"
   ]
  },
  {
   "cell_type": "code",
   "execution_count": 95,
   "id": "01b62696",
   "metadata": {},
   "outputs": [],
   "source": [
    "retriever = retrieve.Elastic(es=es,on=[\"content\"],index=indice,key=\"name\",k=5)"
   ]
  },
  {
   "cell_type": "code",
   "execution_count": 96,
   "id": "91744e27",
   "metadata": {},
   "outputs": [
    {
     "name": "stdout",
     "output_type": "stream",
     "text": [
      "Duração: 8.331251\n",
      "Recall: 0.6169491525423729\n"
     ]
    }
   ],
   "source": [
    "avaliacaoRecall(True)"
   ]
  },
  {
   "cell_type": "code",
   "execution_count": 97,
   "id": "c38ac585",
   "metadata": {},
   "outputs": [
    {
     "name": "stdout",
     "output_type": "stream",
     "text": [
      "P@ 5: 0.123390 \n"
     ]
    }
   ],
   "source": [
    "avaliacaoPrecision(True,5)"
   ]
  },
  {
   "cell_type": "code",
   "execution_count": 98,
   "id": "1818a69a",
   "metadata": {},
   "outputs": [
    {
     "name": "stdout",
     "output_type": "stream",
     "text": [
      "MAP@ 5: 0.002270\n"
     ]
    }
   ],
   "source": [
    "avaliacaoMAP(True,5)"
   ]
  },
  {
   "cell_type": "code",
   "execution_count": 99,
   "id": "56a440d9",
   "metadata": {},
   "outputs": [
    {
     "name": "stdout",
     "output_type": "stream",
     "text": [
      "RR: 0.410169\n"
     ]
    }
   ],
   "source": [
    "avaliacaoRR(True)"
   ]
  },
  {
   "cell_type": "markdown",
   "id": "67ec6520",
   "metadata": {},
   "source": [
    "#### TOP K 10"
   ]
  },
  {
   "cell_type": "code",
   "execution_count": 100,
   "id": "65602375",
   "metadata": {},
   "outputs": [],
   "source": [
    "retriever = retrieve.Elastic(es=es,on=[\"content\"],index=indice,key=\"name\",k=10)"
   ]
  },
  {
   "cell_type": "code",
   "execution_count": 101,
   "id": "4cd929f5",
   "metadata": {},
   "outputs": [
    {
     "name": "stdout",
     "output_type": "stream",
     "text": [
      "Duração: 9.031117\n",
      "Recall: 0.6711864406779661\n"
     ]
    }
   ],
   "source": [
    "avaliacaoRecall(True)"
   ]
  },
  {
   "cell_type": "code",
   "execution_count": 102,
   "id": "4171c8cf",
   "metadata": {},
   "outputs": [
    {
     "name": "stdout",
     "output_type": "stream",
     "text": [
      "P@ 10: 0.067119 \n"
     ]
    }
   ],
   "source": [
    "avaliacaoPrecision(True,10)"
   ]
  },
  {
   "cell_type": "code",
   "execution_count": 103,
   "id": "65505edc",
   "metadata": {},
   "outputs": [
    {
     "name": "stdout",
     "output_type": "stream",
     "text": [
      "MAP@ 10: 0.001442\n"
     ]
    }
   ],
   "source": [
    "avaliacaoMAP(True,10)"
   ]
  },
  {
   "cell_type": "code",
   "execution_count": 104,
   "id": "54db8087",
   "metadata": {},
   "outputs": [
    {
     "name": "stdout",
     "output_type": "stream",
     "text": [
      "RR: 0.410169\n"
     ]
    }
   ],
   "source": [
    "avaliacaoRR(True)"
   ]
  },
  {
   "cell_type": "markdown",
   "id": "130e5427",
   "metadata": {},
   "source": [
    "#### TOP K 20"
   ]
  },
  {
   "cell_type": "code",
   "execution_count": 105,
   "id": "351cee23",
   "metadata": {},
   "outputs": [],
   "source": [
    "retriever = retrieve.Elastic(es=es,on=[\"content\"],index=indice,key=\"name\",k=20)"
   ]
  },
  {
   "cell_type": "code",
   "execution_count": 106,
   "id": "87005e1d",
   "metadata": {},
   "outputs": [
    {
     "name": "stdout",
     "output_type": "stream",
     "text": [
      "Duração: 11.210618\n",
      "Recall: 0.7220338983050848\n"
     ]
    }
   ],
   "source": [
    "avaliacaoRecall(True)"
   ]
  },
  {
   "cell_type": "code",
   "execution_count": 107,
   "id": "e383cb4a",
   "metadata": {},
   "outputs": [
    {
     "name": "stdout",
     "output_type": "stream",
     "text": [
      "P@ 20: 0.036102 \n"
     ]
    }
   ],
   "source": [
    "avaliacaoPrecision(True,20)"
   ]
  },
  {
   "cell_type": "code",
   "execution_count": 108,
   "id": "65a992c8",
   "metadata": {},
   "outputs": [
    {
     "name": "stdout",
     "output_type": "stream",
     "text": [
      "MAP@ 20: 0.001006\n"
     ]
    }
   ],
   "source": [
    "avaliacaoMAP(True,20)"
   ]
  },
  {
   "cell_type": "code",
   "execution_count": 109,
   "id": "4e9c4271",
   "metadata": {},
   "outputs": [
    {
     "name": "stdout",
     "output_type": "stream",
     "text": [
      "RR: 0.410169\n"
     ]
    }
   ],
   "source": [
    "avaliacaoRR(True)"
   ]
  },
  {
   "cell_type": "markdown",
   "id": "0197bc01",
   "metadata": {},
   "source": [
    "# Word n-gram + pré processamento básico + Savoy"
   ]
  },
  {
   "cell_type": "markdown",
   "id": "e76a92de",
   "metadata": {},
   "source": [
    "## 26- Letra mínuscula + remoção de pontuação, acentuação e stopword + stemming (Savoy) + unigram + bigram"
   ]
  },
  {
   "cell_type": "code",
   "execution_count": 110,
   "id": "1235c518",
   "metadata": {},
   "outputs": [],
   "source": [
    "def _remove_acentos(txt):\n",
    "    return normalize('NFKD', txt).encode('ASCII', 'ignore').decode('ASCII')\n",
    "\n",
    "def preprocess(txt):\n",
    "    txt = _remove_acentos(txt)\n",
    "    stopwords = nltk.corpus.stopwords.words(\"portuguese\")\n",
    "    stopwords.extend(list(punctuation))\n",
    "\n",
    "    stemmer = Savoy()\n",
    "    tokenizer = RegexpTokenizer('\\w+')\n",
    "    terms = tokenizer.tokenize(txt.lower())\n",
    "    terms = [stemmer.stem(word) for word in terms if word not in stopwords]\n",
    "    \n",
    "    ngram = []\n",
    "    ngram_1 = list(ngrams(terms, 1))\n",
    "    ngram_2 = list(ngrams(terms, 2))\n",
    "    for w in ngram_1:\n",
    "        ngram.append(w[0])\n",
    "        \n",
    "    for w in ngram_2:\n",
    "        string = w[0] + \"_\" + w[1]\n",
    "        ngram.append(string)\n",
    "    \n",
    "    return \" \".join(ngram)\n"
   ]
  },
  {
   "cell_type": "code",
   "execution_count": 111,
   "id": "a7a91e0d",
   "metadata": {},
   "outputs": [],
   "source": [
    "indice = \"preprocessamento_21_img\""
   ]
  },
  {
   "cell_type": "markdown",
   "id": "f5a1ccc2",
   "metadata": {},
   "source": [
    "## Avaliação"
   ]
  },
  {
   "cell_type": "markdown",
   "id": "eca4e1c6",
   "metadata": {},
   "source": [
    "#### TOP K 5"
   ]
  },
  {
   "cell_type": "code",
   "execution_count": 112,
   "id": "8879b629",
   "metadata": {},
   "outputs": [],
   "source": [
    "retriever = retrieve.Elastic(es=es,on=[\"content\"],index=indice,key=\"name\",k=5)"
   ]
  },
  {
   "cell_type": "code",
   "execution_count": 113,
   "id": "210c8ac7",
   "metadata": {},
   "outputs": [
    {
     "name": "stdout",
     "output_type": "stream",
     "text": [
      "Duração: 7.200141\n",
      "Recall: 0.6135593220338983\n"
     ]
    }
   ],
   "source": [
    "avaliacaoRecall(True)"
   ]
  },
  {
   "cell_type": "code",
   "execution_count": 114,
   "id": "c097aa8f",
   "metadata": {},
   "outputs": [
    {
     "name": "stdout",
     "output_type": "stream",
     "text": [
      "P@ 5: 0.122712 \n"
     ]
    }
   ],
   "source": [
    "avaliacaoPrecision(True,5)"
   ]
  },
  {
   "cell_type": "code",
   "execution_count": 115,
   "id": "9efd8cbe",
   "metadata": {},
   "outputs": [
    {
     "name": "stdout",
     "output_type": "stream",
     "text": [
      "MAP@ 5: 0.002393\n"
     ]
    }
   ],
   "source": [
    "avaliacaoMAP(True,5)"
   ]
  },
  {
   "cell_type": "code",
   "execution_count": 116,
   "id": "d20c4cbf",
   "metadata": {},
   "outputs": [
    {
     "name": "stdout",
     "output_type": "stream",
     "text": [
      "RR: 0.406780\n"
     ]
    }
   ],
   "source": [
    "avaliacaoRR(True)"
   ]
  },
  {
   "cell_type": "markdown",
   "id": "628a105d",
   "metadata": {},
   "source": [
    "#### TOP K 10"
   ]
  },
  {
   "cell_type": "code",
   "execution_count": 117,
   "id": "857680f0",
   "metadata": {},
   "outputs": [],
   "source": [
    "retriever = retrieve.Elastic(es=es,on=[\"content\"],index=indice,key=\"name\",k=10)"
   ]
  },
  {
   "cell_type": "code",
   "execution_count": 118,
   "id": "5d402f2a",
   "metadata": {},
   "outputs": [
    {
     "name": "stdout",
     "output_type": "stream",
     "text": [
      "Duração: 7.314510\n",
      "Recall: 0.6711864406779661\n"
     ]
    }
   ],
   "source": [
    "avaliacaoRecall(True)"
   ]
  },
  {
   "cell_type": "code",
   "execution_count": 119,
   "id": "18926faf",
   "metadata": {},
   "outputs": [
    {
     "name": "stdout",
     "output_type": "stream",
     "text": [
      "P@ 10: 0.067119 \n"
     ]
    }
   ],
   "source": [
    "avaliacaoPrecision(True,10)"
   ]
  },
  {
   "cell_type": "code",
   "execution_count": 120,
   "id": "64e625f8",
   "metadata": {},
   "outputs": [
    {
     "name": "stdout",
     "output_type": "stream",
     "text": [
      "MAP@ 10: 0.001433\n"
     ]
    }
   ],
   "source": [
    "avaliacaoMAP(True,10)"
   ]
  },
  {
   "cell_type": "code",
   "execution_count": 121,
   "id": "bc3c4df1",
   "metadata": {},
   "outputs": [
    {
     "name": "stdout",
     "output_type": "stream",
     "text": [
      "RR: 0.406780\n"
     ]
    }
   ],
   "source": [
    "avaliacaoRR(True)"
   ]
  },
  {
   "cell_type": "markdown",
   "id": "dffebadc",
   "metadata": {},
   "source": [
    "#### TOP K 20"
   ]
  },
  {
   "cell_type": "code",
   "execution_count": 122,
   "id": "3c0210ee",
   "metadata": {},
   "outputs": [],
   "source": [
    "retriever = retrieve.Elastic(es=es,on=[\"content\"],index=indice,key=\"name\",k=20)"
   ]
  },
  {
   "cell_type": "code",
   "execution_count": 123,
   "id": "36519364",
   "metadata": {},
   "outputs": [
    {
     "name": "stdout",
     "output_type": "stream",
     "text": [
      "Duração: 9.858643\n",
      "Recall: 0.7220338983050848\n"
     ]
    }
   ],
   "source": [
    "avaliacaoRecall(True)"
   ]
  },
  {
   "cell_type": "code",
   "execution_count": 124,
   "id": "6d6a09f6",
   "metadata": {},
   "outputs": [
    {
     "name": "stdout",
     "output_type": "stream",
     "text": [
      "P@ 20: 0.036102 \n"
     ]
    }
   ],
   "source": [
    "avaliacaoPrecision(True,20)"
   ]
  },
  {
   "cell_type": "code",
   "execution_count": 125,
   "id": "bf10e638",
   "metadata": {},
   "outputs": [
    {
     "name": "stdout",
     "output_type": "stream",
     "text": [
      "MAP@ 20: 0.001074\n"
     ]
    }
   ],
   "source": [
    "avaliacaoMAP(True,20)"
   ]
  },
  {
   "cell_type": "code",
   "execution_count": 126,
   "id": "87479b03",
   "metadata": {},
   "outputs": [
    {
     "name": "stdout",
     "output_type": "stream",
     "text": [
      "RR: 0.406780\n"
     ]
    }
   ],
   "source": [
    "avaliacaoRR(True)"
   ]
  },
  {
   "cell_type": "markdown",
   "id": "49f4abf6",
   "metadata": {},
   "source": [
    "## 22- Letra mínuscula + remoção de pontuação + remoção de acentuação e remoção de stopword + stemming (RSLP-S)"
   ]
  },
  {
   "cell_type": "code",
   "execution_count": 127,
   "id": "de5abb30",
   "metadata": {},
   "outputs": [],
   "source": [
    "def _remove_acentos(txt):\n",
    "    return normalize('NFKD', txt).encode('ASCII', 'ignore').decode('ASCII')\n",
    "\n",
    "def preprocess(txt):\n",
    "    txt = _remove_acentos(txt)\n",
    "    stopwords = nltk.corpus.stopwords.words(\"portuguese\")\n",
    "    stopwords.extend(list(punctuation))\n",
    "\n",
    "    stemmer = RSLP_S()\n",
    "    tokenizer = RegexpTokenizer('\\w+')\n",
    "    terms = tokenizer.tokenize(txt.lower())\n",
    "    terms = [stemmer.stem(word) for word in terms if word not in stopwords]\n",
    "        \n",
    "    return \" \".join(terms)"
   ]
  },
  {
   "cell_type": "code",
   "execution_count": 128,
   "id": "f952c269",
   "metadata": {},
   "outputs": [],
   "source": [
    "indice = \"preprocessamento_22_img\""
   ]
  },
  {
   "cell_type": "markdown",
   "id": "1385dd58",
   "metadata": {},
   "source": [
    "## Avaliação"
   ]
  },
  {
   "cell_type": "markdown",
   "id": "7f4ea236",
   "metadata": {},
   "source": [
    "#### TOP K 5"
   ]
  },
  {
   "cell_type": "code",
   "execution_count": 129,
   "id": "9908ebad",
   "metadata": {},
   "outputs": [],
   "source": [
    "retriever = retrieve.Elastic(es=es,on=[\"content\"],index=indice,key=\"name\",k=5)"
   ]
  },
  {
   "cell_type": "code",
   "execution_count": 130,
   "id": "6d43a252",
   "metadata": {},
   "outputs": [
    {
     "name": "stdout",
     "output_type": "stream",
     "text": [
      "Duração: 5.925020\n",
      "Recall: 0.6169491525423729\n"
     ]
    }
   ],
   "source": [
    "avaliacaoRecall(True)"
   ]
  },
  {
   "cell_type": "code",
   "execution_count": 131,
   "id": "1a9e9415",
   "metadata": {},
   "outputs": [
    {
     "name": "stdout",
     "output_type": "stream",
     "text": [
      "P@ 5: 0.123390 \n"
     ]
    }
   ],
   "source": [
    "avaliacaoPrecision(True,5)"
   ]
  },
  {
   "cell_type": "code",
   "execution_count": 132,
   "id": "451c5e2a",
   "metadata": {},
   "outputs": [
    {
     "name": "stdout",
     "output_type": "stream",
     "text": [
      "MAP@ 5: 0.003034\n"
     ]
    }
   ],
   "source": [
    "avaliacaoMAP(True,5)"
   ]
  },
  {
   "cell_type": "code",
   "execution_count": 133,
   "id": "a741d743",
   "metadata": {},
   "outputs": [
    {
     "name": "stdout",
     "output_type": "stream",
     "text": [
      "RR: 0.372881\n"
     ]
    }
   ],
   "source": [
    "avaliacaoRR(True)"
   ]
  },
  {
   "cell_type": "markdown",
   "id": "53c70212",
   "metadata": {},
   "source": [
    "#### TOP K 10"
   ]
  },
  {
   "cell_type": "code",
   "execution_count": 134,
   "id": "87984e60",
   "metadata": {},
   "outputs": [],
   "source": [
    "retriever = retrieve.Elastic(es=es,on=[\"content\"],index=indice,key=\"name\",k=10)"
   ]
  },
  {
   "cell_type": "code",
   "execution_count": 135,
   "id": "6d420607",
   "metadata": {},
   "outputs": [
    {
     "name": "stdout",
     "output_type": "stream",
     "text": [
      "Duração: 6.366754\n",
      "Recall: 0.6508474576271186\n"
     ]
    }
   ],
   "source": [
    "avaliacaoRecall(True)"
   ]
  },
  {
   "cell_type": "code",
   "execution_count": 136,
   "id": "cc96b4e8",
   "metadata": {},
   "outputs": [
    {
     "name": "stdout",
     "output_type": "stream",
     "text": [
      "P@ 10: 0.065085 \n"
     ]
    }
   ],
   "source": [
    "avaliacaoPrecision(True,10)"
   ]
  },
  {
   "cell_type": "code",
   "execution_count": 137,
   "id": "e826ba43",
   "metadata": {},
   "outputs": [
    {
     "name": "stdout",
     "output_type": "stream",
     "text": [
      "MAP@ 10: 0.001988\n"
     ]
    }
   ],
   "source": [
    "avaliacaoMAP(True,10)"
   ]
  },
  {
   "cell_type": "code",
   "execution_count": 138,
   "id": "500b1c06",
   "metadata": {},
   "outputs": [
    {
     "name": "stdout",
     "output_type": "stream",
     "text": [
      "RR: 0.372881\n"
     ]
    }
   ],
   "source": [
    "avaliacaoRR(True)"
   ]
  },
  {
   "cell_type": "markdown",
   "id": "34bf93ae",
   "metadata": {},
   "source": [
    "#### TOP K 20"
   ]
  },
  {
   "cell_type": "code",
   "execution_count": 139,
   "id": "97249760",
   "metadata": {},
   "outputs": [],
   "source": [
    "retriever = retrieve.Elastic(es=es,on=[\"content\"],index=indice,key=\"name\",k=20)"
   ]
  },
  {
   "cell_type": "code",
   "execution_count": 140,
   "id": "ae88d0d2",
   "metadata": {},
   "outputs": [
    {
     "name": "stdout",
     "output_type": "stream",
     "text": [
      "Duração: 6.244180\n",
      "Recall: 0.7050847457627119\n"
     ]
    }
   ],
   "source": [
    "avaliacaoRecall(True)"
   ]
  },
  {
   "cell_type": "code",
   "execution_count": 141,
   "id": "e6c33acb",
   "metadata": {},
   "outputs": [
    {
     "name": "stdout",
     "output_type": "stream",
     "text": [
      "P@ 20: 0.035254 \n"
     ]
    }
   ],
   "source": [
    "avaliacaoPrecision(True,20)"
   ]
  },
  {
   "cell_type": "code",
   "execution_count": 142,
   "id": "566cc94a",
   "metadata": {},
   "outputs": [
    {
     "name": "stdout",
     "output_type": "stream",
     "text": [
      "MAP@ 20: 0.001387\n"
     ]
    }
   ],
   "source": [
    "avaliacaoMAP(True,20)"
   ]
  },
  {
   "cell_type": "code",
   "execution_count": 143,
   "id": "77223e8c",
   "metadata": {},
   "outputs": [
    {
     "name": "stdout",
     "output_type": "stream",
     "text": [
      "RR: 0.372881\n"
     ]
    }
   ],
   "source": [
    "avaliacaoRR(True)"
   ]
  },
  {
   "cell_type": "markdown",
   "id": "2dde1ef9",
   "metadata": {},
   "source": [
    "## 23- Letra mínuscula + remoção de pontuação, acentuação e stopword + stemming (RSLP-S) + unigram + bigram"
   ]
  },
  {
   "cell_type": "code",
   "execution_count": 144,
   "id": "170d6eca",
   "metadata": {},
   "outputs": [],
   "source": [
    "def _remove_acentos(txt):\n",
    "    return normalize('NFKD', txt).encode('ASCII', 'ignore').decode('ASCII')\n",
    "\n",
    "def preprocess(txt):\n",
    "    txt = _remove_acentos(txt)\n",
    "    stopwords = nltk.corpus.stopwords.words(\"portuguese\")\n",
    "    stopwords.extend(list(punctuation))\n",
    "\n",
    "    stemmer = RSLP_S()\n",
    "    tokenizer = RegexpTokenizer('\\w+')\n",
    "    terms = tokenizer.tokenize(txt.lower())\n",
    "    terms = [stemmer.stem(word) for word in terms if word not in stopwords]\n",
    "    \n",
    "    ngram = []\n",
    "    ngram_1 = list(ngrams(terms, 1))\n",
    "    ngram_2 = list(ngrams(terms, 2))\n",
    "    for w in ngram_1:\n",
    "        ngram.append(w[0])\n",
    "        \n",
    "    for w in ngram_2:\n",
    "        string = w[0] + \"_\" + w[1]\n",
    "        ngram.append(string)\n",
    "    \n",
    "    return \" \".join(ngram)\n"
   ]
  },
  {
   "cell_type": "code",
   "execution_count": 145,
   "id": "31681d3b",
   "metadata": {},
   "outputs": [],
   "source": [
    "indice = \"preprocessamento_23_img\""
   ]
  },
  {
   "cell_type": "markdown",
   "id": "f01ac34c",
   "metadata": {},
   "source": [
    "## Avaliação"
   ]
  },
  {
   "cell_type": "markdown",
   "id": "171fab39",
   "metadata": {},
   "source": [
    "#### TOP K 5"
   ]
  },
  {
   "cell_type": "code",
   "execution_count": 146,
   "id": "6100c0ed",
   "metadata": {},
   "outputs": [],
   "source": [
    "retriever = retrieve.Elastic(es=es,on=[\"content\"],index=indice,key=\"name\",k=5)"
   ]
  },
  {
   "cell_type": "code",
   "execution_count": 147,
   "id": "8edddf38",
   "metadata": {},
   "outputs": [
    {
     "name": "stdout",
     "output_type": "stream",
     "text": [
      "Duração: 6.661061\n",
      "Recall: 0.6067796610169491\n"
     ]
    }
   ],
   "source": [
    "avaliacaoRecall(True)"
   ]
  },
  {
   "cell_type": "code",
   "execution_count": 148,
   "id": "772c5464",
   "metadata": {},
   "outputs": [
    {
     "name": "stdout",
     "output_type": "stream",
     "text": [
      "P@ 5: 0.121356 \n"
     ]
    }
   ],
   "source": [
    "avaliacaoPrecision(True,5)"
   ]
  },
  {
   "cell_type": "code",
   "execution_count": 149,
   "id": "278c12da",
   "metadata": {},
   "outputs": [
    {
     "name": "stdout",
     "output_type": "stream",
     "text": [
      "MAP@ 5: 0.002423\n"
     ]
    }
   ],
   "source": [
    "avaliacaoMAP(True,5)"
   ]
  },
  {
   "cell_type": "code",
   "execution_count": 150,
   "id": "9a701a80",
   "metadata": {},
   "outputs": [
    {
     "name": "stdout",
     "output_type": "stream",
     "text": [
      "RR: 0.410169\n"
     ]
    }
   ],
   "source": [
    "avaliacaoRR(True)"
   ]
  },
  {
   "cell_type": "markdown",
   "id": "21051faa",
   "metadata": {},
   "source": [
    "#### TOP K 10"
   ]
  },
  {
   "cell_type": "code",
   "execution_count": 151,
   "id": "b14cf3ec",
   "metadata": {},
   "outputs": [],
   "source": [
    "retriever = retrieve.Elastic(es=es,on=[\"content\"],index=indice,key=\"name\",k=10)"
   ]
  },
  {
   "cell_type": "code",
   "execution_count": 152,
   "id": "0d9f3731",
   "metadata": {},
   "outputs": [
    {
     "name": "stdout",
     "output_type": "stream",
     "text": [
      "Duração: 6.990102\n",
      "Recall: 0.6576271186440678\n"
     ]
    }
   ],
   "source": [
    "avaliacaoRecall(True)"
   ]
  },
  {
   "cell_type": "code",
   "execution_count": 153,
   "id": "e59e6eec",
   "metadata": {},
   "outputs": [
    {
     "name": "stdout",
     "output_type": "stream",
     "text": [
      "P@ 10: 0.065763 \n"
     ]
    }
   ],
   "source": [
    "avaliacaoPrecision(True,10)"
   ]
  },
  {
   "cell_type": "code",
   "execution_count": 154,
   "id": "db07ebf8",
   "metadata": {},
   "outputs": [
    {
     "name": "stdout",
     "output_type": "stream",
     "text": [
      "MAP@ 10: 0.001344\n"
     ]
    }
   ],
   "source": [
    "avaliacaoMAP(True,10)"
   ]
  },
  {
   "cell_type": "code",
   "execution_count": 155,
   "id": "c96390d8",
   "metadata": {},
   "outputs": [
    {
     "name": "stdout",
     "output_type": "stream",
     "text": [
      "RR: 0.410169\n"
     ]
    }
   ],
   "source": [
    "avaliacaoRR(True)"
   ]
  },
  {
   "cell_type": "markdown",
   "id": "807f29d1",
   "metadata": {},
   "source": [
    "#### TOP K 20"
   ]
  },
  {
   "cell_type": "code",
   "execution_count": 156,
   "id": "9ecc8a70",
   "metadata": {},
   "outputs": [],
   "source": [
    "retriever = retrieve.Elastic(es=es,on=[\"content\"],index=indice,key=\"name\",k=20)"
   ]
  },
  {
   "cell_type": "code",
   "execution_count": 157,
   "id": "ffbee476",
   "metadata": {},
   "outputs": [
    {
     "name": "stdout",
     "output_type": "stream",
     "text": [
      "Duração: 7.762531\n",
      "Recall: 0.711864406779661\n"
     ]
    }
   ],
   "source": [
    "avaliacaoRecall(True)"
   ]
  },
  {
   "cell_type": "code",
   "execution_count": 158,
   "id": "8dc525d5",
   "metadata": {},
   "outputs": [
    {
     "name": "stdout",
     "output_type": "stream",
     "text": [
      "P@ 20: 0.035593 \n"
     ]
    }
   ],
   "source": [
    "avaliacaoPrecision(True,20)"
   ]
  },
  {
   "cell_type": "code",
   "execution_count": 159,
   "id": "c4d58b0c",
   "metadata": {},
   "outputs": [
    {
     "name": "stdout",
     "output_type": "stream",
     "text": [
      "MAP@ 20: 0.000961\n"
     ]
    }
   ],
   "source": [
    "avaliacaoMAP(True,20)"
   ]
  },
  {
   "cell_type": "code",
   "execution_count": 160,
   "id": "7435da24",
   "metadata": {},
   "outputs": [
    {
     "name": "stdout",
     "output_type": "stream",
     "text": [
      "RR: 0.410169\n"
     ]
    }
   ],
   "source": [
    "avaliacaoRR(True)"
   ]
  },
  {
   "cell_type": "markdown",
   "id": "94932849",
   "metadata": {},
   "source": [
    "# Indexacao"
   ]
  },
  {
   "cell_type": "markdown",
   "id": "51625940",
   "metadata": {},
   "source": [
    "## 1- Sem pré processamento"
   ]
  },
  {
   "cell_type": "code",
   "execution_count": 161,
   "id": "b188cd9b",
   "metadata": {},
   "outputs": [],
   "source": [
    "indice = \"sem_preprocessamento_indexacao\""
   ]
  },
  {
   "cell_type": "markdown",
   "id": "35d56a97",
   "metadata": {},
   "source": [
    "## Avaliação"
   ]
  },
  {
   "cell_type": "markdown",
   "id": "be33eed4",
   "metadata": {},
   "source": [
    "#### TOP K 5"
   ]
  },
  {
   "cell_type": "code",
   "execution_count": 162,
   "id": "7ffcb74b",
   "metadata": {},
   "outputs": [],
   "source": [
    "retriever = retrieve.Elastic(es=es,on=[\"content\"],index=indice,key=\"name\",k=5)"
   ]
  },
  {
   "cell_type": "code",
   "execution_count": 163,
   "id": "d285e6e0",
   "metadata": {},
   "outputs": [
    {
     "name": "stdout",
     "output_type": "stream",
     "text": [
      "Duração: 3.402009\n",
      "Recall: 0.2135593220338983\n"
     ]
    }
   ],
   "source": [
    "avaliacaoRecall(False)"
   ]
  },
  {
   "cell_type": "code",
   "execution_count": 164,
   "id": "bc53dc87",
   "metadata": {},
   "outputs": [
    {
     "name": "stdout",
     "output_type": "stream",
     "text": [
      "P@ 5: 0.042712 \n"
     ]
    }
   ],
   "source": [
    "avaliacaoPrecision(False,5)"
   ]
  },
  {
   "cell_type": "code",
   "execution_count": 165,
   "id": "d8380c44",
   "metadata": {},
   "outputs": [
    {
     "name": "stdout",
     "output_type": "stream",
     "text": [
      "MAP@ 5: 0.000430\n"
     ]
    }
   ],
   "source": [
    "avaliacaoMAP(False,5)"
   ]
  },
  {
   "cell_type": "code",
   "execution_count": 166,
   "id": "a511c15c",
   "metadata": {},
   "outputs": [
    {
     "name": "stdout",
     "output_type": "stream",
     "text": [
      "RR: 0.111864\n"
     ]
    }
   ],
   "source": [
    "avaliacaoRR(False)"
   ]
  },
  {
   "cell_type": "markdown",
   "id": "5c028895",
   "metadata": {},
   "source": [
    "#### TOP K 10"
   ]
  },
  {
   "cell_type": "code",
   "execution_count": 167,
   "id": "48f557d8",
   "metadata": {},
   "outputs": [],
   "source": [
    "retriever = retrieve.Elastic(es=es,on=[\"content\"],index=indice,key=\"name\",k=10)"
   ]
  },
  {
   "cell_type": "code",
   "execution_count": 168,
   "id": "22d6347c",
   "metadata": {},
   "outputs": [
    {
     "name": "stdout",
     "output_type": "stream",
     "text": [
      "Duração: 2.333836\n",
      "Recall: 0.2677966101694915\n"
     ]
    }
   ],
   "source": [
    "avaliacaoRecall(False)"
   ]
  },
  {
   "cell_type": "code",
   "execution_count": 169,
   "id": "eebe491f",
   "metadata": {},
   "outputs": [
    {
     "name": "stdout",
     "output_type": "stream",
     "text": [
      "P@ 10: 0.026780 \n"
     ]
    }
   ],
   "source": [
    "avaliacaoPrecision(False,10)"
   ]
  },
  {
   "cell_type": "code",
   "execution_count": 170,
   "id": "bb6a955b",
   "metadata": {},
   "outputs": [
    {
     "name": "stdout",
     "output_type": "stream",
     "text": [
      "MAP@ 10: 0.000404\n"
     ]
    }
   ],
   "source": [
    "avaliacaoMAP(False,10)"
   ]
  },
  {
   "cell_type": "code",
   "execution_count": 171,
   "id": "5fa52872",
   "metadata": {},
   "outputs": [
    {
     "name": "stdout",
     "output_type": "stream",
     "text": [
      "RR: 0.111864\n"
     ]
    }
   ],
   "source": [
    "avaliacaoRR(False)"
   ]
  },
  {
   "cell_type": "markdown",
   "id": "cb51e105",
   "metadata": {},
   "source": [
    "#### TOP K 20"
   ]
  },
  {
   "cell_type": "code",
   "execution_count": 172,
   "id": "91ea637a",
   "metadata": {},
   "outputs": [],
   "source": [
    "retriever = retrieve.Elastic(es=es,on=[\"content\"],index=indice,key=\"name\",k=20)"
   ]
  },
  {
   "cell_type": "code",
   "execution_count": 173,
   "id": "675eb556",
   "metadata": {},
   "outputs": [
    {
     "name": "stdout",
     "output_type": "stream",
     "text": [
      "Duração: 2.393322\n",
      "Recall: 0.30847457627118646\n"
     ]
    }
   ],
   "source": [
    "avaliacaoRecall(False)"
   ]
  },
  {
   "cell_type": "code",
   "execution_count": 174,
   "id": "440cce1d",
   "metadata": {},
   "outputs": [
    {
     "name": "stdout",
     "output_type": "stream",
     "text": [
      "P@ 20: 0.015424 \n"
     ]
    }
   ],
   "source": [
    "avaliacaoPrecision(False,20)"
   ]
  },
  {
   "cell_type": "code",
   "execution_count": 175,
   "id": "8815acc2",
   "metadata": {},
   "outputs": [
    {
     "name": "stdout",
     "output_type": "stream",
     "text": [
      "MAP@ 20: 0.000252\n"
     ]
    }
   ],
   "source": [
    "avaliacaoMAP(False,20)"
   ]
  },
  {
   "cell_type": "code",
   "execution_count": 176,
   "id": "261d35ae",
   "metadata": {},
   "outputs": [
    {
     "name": "stdout",
     "output_type": "stream",
     "text": [
      "RR: 0.111864\n"
     ]
    }
   ],
   "source": [
    "avaliacaoRR(False)"
   ]
  },
  {
   "cell_type": "markdown",
   "id": "8115b8db",
   "metadata": {},
   "source": [
    "## 5- Letra mínuscula + remoção de pontuação + remoção de acentuação e remoção de stopword\n"
   ]
  },
  {
   "cell_type": "code",
   "execution_count": 177,
   "id": "71f62236",
   "metadata": {},
   "outputs": [],
   "source": [
    "def _remove_acentos(txt):\n",
    "    return normalize('NFKD', txt).encode('ASCII', 'ignore').decode('ASCII')\n",
    "\n",
    "def preprocess(txt):\n",
    "    txt = _remove_acentos(txt)\n",
    "    stopwords = nltk.corpus.stopwords.words(\"portuguese\")\n",
    "    stopwords.extend(list(punctuation))\n",
    "    tokenizer = RegexpTokenizer('\\w+')\n",
    "    terms = tokenizer.tokenize(txt.lower())\n",
    "    terms = [word for word in terms if word not in stopwords]\n",
    "    terms = \" \".join(terms)\n",
    "    return terms"
   ]
  },
  {
   "cell_type": "code",
   "execution_count": 178,
   "id": "bc30eeda",
   "metadata": {},
   "outputs": [],
   "source": [
    "indice = \"preprocessamento_5_indexacao\""
   ]
  },
  {
   "cell_type": "markdown",
   "id": "dcdb57aa",
   "metadata": {},
   "source": [
    "## Avaliação"
   ]
  },
  {
   "cell_type": "markdown",
   "id": "7b4bdce4",
   "metadata": {},
   "source": [
    "#### TOP K 5"
   ]
  },
  {
   "cell_type": "code",
   "execution_count": 179,
   "id": "ed36d96a",
   "metadata": {},
   "outputs": [],
   "source": [
    "retriever = retrieve.Elastic(es=es,on=[\"content\"],index=indice,key=\"name\",k=5)"
   ]
  },
  {
   "cell_type": "code",
   "execution_count": 180,
   "id": "da3a09e2",
   "metadata": {},
   "outputs": [
    {
     "name": "stdout",
     "output_type": "stream",
     "text": [
      "Duração: 2.153448\n",
      "Recall: 0.31864406779661014\n"
     ]
    }
   ],
   "source": [
    "avaliacaoRecall(True)"
   ]
  },
  {
   "cell_type": "code",
   "execution_count": 181,
   "id": "2a255162",
   "metadata": {},
   "outputs": [
    {
     "name": "stdout",
     "output_type": "stream",
     "text": [
      "P@ 5: 0.063729 \n"
     ]
    }
   ],
   "source": [
    "avaliacaoPrecision(True,5)"
   ]
  },
  {
   "cell_type": "code",
   "execution_count": 182,
   "id": "14ef68a4",
   "metadata": {},
   "outputs": [
    {
     "name": "stdout",
     "output_type": "stream",
     "text": [
      "MAP@ 5: 0.001034\n"
     ]
    }
   ],
   "source": [
    "avaliacaoMAP(True,5)"
   ]
  },
  {
   "cell_type": "code",
   "execution_count": 183,
   "id": "4aa3005a",
   "metadata": {},
   "outputs": [
    {
     "name": "stdout",
     "output_type": "stream",
     "text": [
      "RR: 0.169492\n"
     ]
    }
   ],
   "source": [
    "avaliacaoRR(True)"
   ]
  },
  {
   "cell_type": "markdown",
   "id": "a4cdbe80",
   "metadata": {},
   "source": [
    "#### TOP K 10"
   ]
  },
  {
   "cell_type": "code",
   "execution_count": 184,
   "id": "9df202a3",
   "metadata": {},
   "outputs": [],
   "source": [
    "retriever = retrieve.Elastic(es=es,on=[\"content\"],index=indice,key=\"name\",k=10)"
   ]
  },
  {
   "cell_type": "code",
   "execution_count": 185,
   "id": "01a2b4f1",
   "metadata": {},
   "outputs": [
    {
     "name": "stdout",
     "output_type": "stream",
     "text": [
      "Duração: 1.412678\n",
      "Recall: 0.3525423728813559\n"
     ]
    }
   ],
   "source": [
    "avaliacaoRecall(True)"
   ]
  },
  {
   "cell_type": "code",
   "execution_count": 186,
   "id": "a7bbf432",
   "metadata": {},
   "outputs": [
    {
     "name": "stdout",
     "output_type": "stream",
     "text": [
      "P@ 10: 0.035254 \n"
     ]
    }
   ],
   "source": [
    "avaliacaoPrecision(True,10)"
   ]
  },
  {
   "cell_type": "code",
   "execution_count": 187,
   "id": "60ed9f0c",
   "metadata": {},
   "outputs": [
    {
     "name": "stdout",
     "output_type": "stream",
     "text": [
      "MAP@ 10: 0.000687\n"
     ]
    }
   ],
   "source": [
    "avaliacaoMAP(True,10)"
   ]
  },
  {
   "cell_type": "code",
   "execution_count": 188,
   "id": "72b4d3dd",
   "metadata": {},
   "outputs": [
    {
     "name": "stdout",
     "output_type": "stream",
     "text": [
      "RR: 0.169492\n"
     ]
    }
   ],
   "source": [
    "avaliacaoRR(True)"
   ]
  },
  {
   "cell_type": "markdown",
   "id": "49b6f8c5",
   "metadata": {},
   "source": [
    "#### TOP K 20"
   ]
  },
  {
   "cell_type": "code",
   "execution_count": 189,
   "id": "a01b8db5",
   "metadata": {},
   "outputs": [],
   "source": [
    "retriever = retrieve.Elastic(es=es,on=[\"content\"],index=indice,key=\"name\",k=20)"
   ]
  },
  {
   "cell_type": "code",
   "execution_count": 190,
   "id": "4e63a336",
   "metadata": {},
   "outputs": [
    {
     "name": "stdout",
     "output_type": "stream",
     "text": [
      "Duração: 1.358128\n",
      "Recall: 0.42033898305084744\n"
     ]
    }
   ],
   "source": [
    "avaliacaoRecall(True)"
   ]
  },
  {
   "cell_type": "code",
   "execution_count": 191,
   "id": "edf11402",
   "metadata": {},
   "outputs": [
    {
     "name": "stdout",
     "output_type": "stream",
     "text": [
      "P@ 20: 0.021017 \n"
     ]
    }
   ],
   "source": [
    "avaliacaoPrecision(True,20)"
   ]
  },
  {
   "cell_type": "code",
   "execution_count": 192,
   "id": "bd19318a",
   "metadata": {},
   "outputs": [
    {
     "name": "stdout",
     "output_type": "stream",
     "text": [
      "MAP@ 20: 0.000406\n"
     ]
    }
   ],
   "source": [
    "avaliacaoMAP(True,20)"
   ]
  },
  {
   "cell_type": "code",
   "execution_count": 193,
   "id": "c177fc4e",
   "metadata": {},
   "outputs": [
    {
     "name": "stdout",
     "output_type": "stream",
     "text": [
      "RR: 0.169492\n"
     ]
    }
   ],
   "source": [
    "avaliacaoRR(True)"
   ]
  },
  {
   "cell_type": "markdown",
   "id": "d56d4324",
   "metadata": {},
   "source": [
    "## 9- Letra mínuscula + remoção de pontuação + remoção de acentuação e remoção de stopword + stemming (RSLP)"
   ]
  },
  {
   "cell_type": "code",
   "execution_count": 194,
   "id": "f597efb4",
   "metadata": {},
   "outputs": [],
   "source": [
    "def _remove_acentos(txt):\n",
    "    return normalize('NFKD', txt).encode('ASCII', 'ignore').decode('ASCII')\n",
    "\n",
    "def preprocess(txt):\n",
    "    txt = _remove_acentos(txt)\n",
    "    stopwords = nltk.corpus.stopwords.words(\"portuguese\")\n",
    "    stopwords.extend(list(punctuation))\n",
    "\n",
    "    stemmer = RSLPStemmer()\n",
    "    tokenizer = RegexpTokenizer('\\w+')\n",
    "    terms = tokenizer.tokenize(txt.lower())\n",
    "    terms = [stemmer.stem(word) for word in terms if word not in stopwords]\n",
    "        \n",
    "    return \" \".join(terms)"
   ]
  },
  {
   "cell_type": "code",
   "execution_count": 195,
   "id": "8e9af6fa",
   "metadata": {},
   "outputs": [],
   "source": [
    "indice = \"preprocessamento_8_indexacao\""
   ]
  },
  {
   "cell_type": "markdown",
   "id": "4d39d1e0",
   "metadata": {},
   "source": [
    "## Avaliação"
   ]
  },
  {
   "cell_type": "markdown",
   "id": "c1080eb9",
   "metadata": {},
   "source": [
    "#### TOP K 5"
   ]
  },
  {
   "cell_type": "code",
   "execution_count": 196,
   "id": "118f44c7",
   "metadata": {},
   "outputs": [],
   "source": [
    "retriever = retrieve.Elastic(es=es,on=[\"content\"],index=indice,key=\"name\",k=5)"
   ]
  },
  {
   "cell_type": "code",
   "execution_count": 197,
   "id": "0fb1e9a1",
   "metadata": {},
   "outputs": [
    {
     "name": "stdout",
     "output_type": "stream",
     "text": [
      "Duração: 3.365621\n",
      "Recall: 0.4033898305084746\n"
     ]
    }
   ],
   "source": [
    "avaliacaoRecall(True)"
   ]
  },
  {
   "cell_type": "code",
   "execution_count": 198,
   "id": "ceb72546",
   "metadata": {},
   "outputs": [
    {
     "name": "stdout",
     "output_type": "stream",
     "text": [
      "P@ 5: 0.080678 \n"
     ]
    }
   ],
   "source": [
    "avaliacaoPrecision(True,5)"
   ]
  },
  {
   "cell_type": "code",
   "execution_count": 199,
   "id": "82f08e34",
   "metadata": {},
   "outputs": [
    {
     "name": "stdout",
     "output_type": "stream",
     "text": [
      "MAP@ 5: 0.001494\n"
     ]
    }
   ],
   "source": [
    "avaliacaoMAP(True,5)"
   ]
  },
  {
   "cell_type": "code",
   "execution_count": 200,
   "id": "40096775",
   "metadata": {},
   "outputs": [
    {
     "name": "stdout",
     "output_type": "stream",
     "text": [
      "RR: 0.230508\n"
     ]
    }
   ],
   "source": [
    "avaliacaoRR(True)"
   ]
  },
  {
   "cell_type": "markdown",
   "id": "f065cccf",
   "metadata": {},
   "source": [
    "#### TOP K 10"
   ]
  },
  {
   "cell_type": "code",
   "execution_count": 201,
   "id": "c81848c6",
   "metadata": {},
   "outputs": [],
   "source": [
    "retriever = retrieve.Elastic(es=es,on=[\"content\"],index=indice,key=\"name\",k=10)"
   ]
  },
  {
   "cell_type": "code",
   "execution_count": 202,
   "id": "796d3274",
   "metadata": {},
   "outputs": [
    {
     "name": "stdout",
     "output_type": "stream",
     "text": [
      "Duração: 3.564423\n",
      "Recall: 0.4576271186440678\n"
     ]
    }
   ],
   "source": [
    "avaliacaoRecall(True)"
   ]
  },
  {
   "cell_type": "code",
   "execution_count": 203,
   "id": "d956cff1",
   "metadata": {},
   "outputs": [
    {
     "name": "stdout",
     "output_type": "stream",
     "text": [
      "P@ 10: 0.045763 \n"
     ]
    }
   ],
   "source": [
    "avaliacaoPrecision(True,10)"
   ]
  },
  {
   "cell_type": "code",
   "execution_count": 204,
   "id": "721c3c7c",
   "metadata": {},
   "outputs": [
    {
     "name": "stdout",
     "output_type": "stream",
     "text": [
      "MAP@ 10: 0.000855\n"
     ]
    }
   ],
   "source": [
    "avaliacaoMAP(True,10)"
   ]
  },
  {
   "cell_type": "code",
   "execution_count": 205,
   "id": "8703902b",
   "metadata": {},
   "outputs": [
    {
     "name": "stdout",
     "output_type": "stream",
     "text": [
      "RR: 0.230508\n"
     ]
    }
   ],
   "source": [
    "avaliacaoRR(True)"
   ]
  },
  {
   "cell_type": "markdown",
   "id": "13791a8c",
   "metadata": {},
   "source": [
    "#### TOP K 20"
   ]
  },
  {
   "cell_type": "code",
   "execution_count": 206,
   "id": "cd4c05e2",
   "metadata": {},
   "outputs": [],
   "source": [
    "retriever = retrieve.Elastic(es=es,on=[\"content\"],index=indice,key=\"name\",k=20)"
   ]
  },
  {
   "cell_type": "code",
   "execution_count": 207,
   "id": "22cb44c6",
   "metadata": {},
   "outputs": [
    {
     "name": "stdout",
     "output_type": "stream",
     "text": [
      "Duração: 2.120884\n",
      "Recall: 0.5050847457627119\n"
     ]
    }
   ],
   "source": [
    "avaliacaoRecall(True)"
   ]
  },
  {
   "cell_type": "code",
   "execution_count": 208,
   "id": "1d5ef6e6",
   "metadata": {},
   "outputs": [
    {
     "name": "stdout",
     "output_type": "stream",
     "text": [
      "P@ 20: 0.025254 \n"
     ]
    }
   ],
   "source": [
    "avaliacaoPrecision(True,20)"
   ]
  },
  {
   "cell_type": "code",
   "execution_count": 209,
   "id": "a57ed58c",
   "metadata": {},
   "outputs": [
    {
     "name": "stdout",
     "output_type": "stream",
     "text": [
      "MAP@ 20: 0.000489\n"
     ]
    }
   ],
   "source": [
    "avaliacaoMAP(True,20)"
   ]
  },
  {
   "cell_type": "code",
   "execution_count": 210,
   "id": "80cd111d",
   "metadata": {},
   "outputs": [
    {
     "name": "stdout",
     "output_type": "stream",
     "text": [
      "RR: 0.230508\n"
     ]
    }
   ],
   "source": [
    "avaliacaoRR(True)"
   ]
  },
  {
   "cell_type": "markdown",
   "id": "86323efe",
   "metadata": {},
   "source": [
    "## 11- Letra mínuscula + remoção de pontuação + remoção de acentuação e remoção de stopword + stemming (Savoy)"
   ]
  },
  {
   "cell_type": "code",
   "execution_count": 211,
   "id": "1825d310",
   "metadata": {},
   "outputs": [],
   "source": [
    "def _remove_acentos(txt):\n",
    "    return normalize('NFKD', txt).encode('ASCII', 'ignore').decode('ASCII')\n",
    "\n",
    "def preprocess(txt):\n",
    "    txt = _remove_acentos(txt)\n",
    "    stopwords = nltk.corpus.stopwords.words(\"portuguese\")\n",
    "    stopwords.extend(list(punctuation))\n",
    "\n",
    "    stemmer = Savoy()\n",
    "    tokenizer = RegexpTokenizer('\\w+')\n",
    "    terms = tokenizer.tokenize(txt.lower())\n",
    "    terms = [stemmer.stem(word) for word in terms if word not in stopwords]\n",
    "        \n",
    "    return \" \".join(terms)"
   ]
  },
  {
   "cell_type": "code",
   "execution_count": 212,
   "id": "a6182c99",
   "metadata": {},
   "outputs": [],
   "source": [
    "indice = \"preprocessamento_9_indexacao\""
   ]
  },
  {
   "cell_type": "markdown",
   "id": "5e2a19df",
   "metadata": {},
   "source": [
    "## Avaliação"
   ]
  },
  {
   "cell_type": "markdown",
   "id": "a1cb8eac",
   "metadata": {},
   "source": [
    "#### TOP K 5"
   ]
  },
  {
   "cell_type": "code",
   "execution_count": 213,
   "id": "51f35334",
   "metadata": {},
   "outputs": [],
   "source": [
    "retriever = retrieve.Elastic(es=es,on=[\"content\"],index=indice,key=\"name\",k=5)"
   ]
  },
  {
   "cell_type": "code",
   "execution_count": 214,
   "id": "437d2cfb",
   "metadata": {},
   "outputs": [
    {
     "name": "stdout",
     "output_type": "stream",
     "text": [
      "Duração: 2.364712\n",
      "Recall: 0.42033898305084744\n"
     ]
    }
   ],
   "source": [
    "avaliacaoRecall(True)"
   ]
  },
  {
   "cell_type": "code",
   "execution_count": 215,
   "id": "847a93ad",
   "metadata": {},
   "outputs": [
    {
     "name": "stdout",
     "output_type": "stream",
     "text": [
      "P@ 5: 0.084068 \n"
     ]
    }
   ],
   "source": [
    "avaliacaoPrecision(True,5)"
   ]
  },
  {
   "cell_type": "code",
   "execution_count": 216,
   "id": "180a82d9",
   "metadata": {},
   "outputs": [
    {
     "name": "stdout",
     "output_type": "stream",
     "text": [
      "MAP@ 5: 0.001295\n"
     ]
    }
   ],
   "source": [
    "avaliacaoMAP(True,5)"
   ]
  },
  {
   "cell_type": "code",
   "execution_count": 217,
   "id": "fab9b994",
   "metadata": {},
   "outputs": [
    {
     "name": "stdout",
     "output_type": "stream",
     "text": [
      "RR: 0.240678\n"
     ]
    }
   ],
   "source": [
    "avaliacaoRR(True)"
   ]
  },
  {
   "cell_type": "markdown",
   "id": "0cf79fdf",
   "metadata": {},
   "source": [
    "#### TOP K 10"
   ]
  },
  {
   "cell_type": "code",
   "execution_count": 218,
   "id": "b1af7b70",
   "metadata": {},
   "outputs": [],
   "source": [
    "retriever = retrieve.Elastic(es=es,on=[\"content\"],index=indice,key=\"name\",k=10)"
   ]
  },
  {
   "cell_type": "code",
   "execution_count": 219,
   "id": "69b33aaa",
   "metadata": {},
   "outputs": [
    {
     "name": "stdout",
     "output_type": "stream",
     "text": [
      "Duração: 1.567612\n",
      "Recall: 0.4542372881355932\n"
     ]
    }
   ],
   "source": [
    "avaliacaoRecall(True)"
   ]
  },
  {
   "cell_type": "code",
   "execution_count": 220,
   "id": "4d0d00e6",
   "metadata": {},
   "outputs": [
    {
     "name": "stdout",
     "output_type": "stream",
     "text": [
      "P@ 10: 0.045424 \n"
     ]
    }
   ],
   "source": [
    "avaliacaoPrecision(True,10)"
   ]
  },
  {
   "cell_type": "code",
   "execution_count": 221,
   "id": "acebaffe",
   "metadata": {},
   "outputs": [
    {
     "name": "stdout",
     "output_type": "stream",
     "text": [
      "MAP@ 10: 0.000897\n"
     ]
    }
   ],
   "source": [
    "avaliacaoMAP(True,10)"
   ]
  },
  {
   "cell_type": "code",
   "execution_count": 222,
   "id": "962f5ad4",
   "metadata": {},
   "outputs": [
    {
     "name": "stdout",
     "output_type": "stream",
     "text": [
      "RR: 0.240678\n"
     ]
    }
   ],
   "source": [
    "avaliacaoRR(True)"
   ]
  },
  {
   "cell_type": "markdown",
   "id": "3884fdb6",
   "metadata": {},
   "source": [
    "#### TOP K 20"
   ]
  },
  {
   "cell_type": "code",
   "execution_count": 223,
   "id": "7cff277a",
   "metadata": {},
   "outputs": [],
   "source": [
    "retriever = retrieve.Elastic(es=es,on=[\"content\"],index=indice,key=\"name\",k=20)"
   ]
  },
  {
   "cell_type": "code",
   "execution_count": 224,
   "id": "d514280a",
   "metadata": {},
   "outputs": [
    {
     "name": "stdout",
     "output_type": "stream",
     "text": [
      "Duração: 1.612820\n",
      "Recall: 0.511864406779661\n"
     ]
    }
   ],
   "source": [
    "avaliacaoRecall(True)"
   ]
  },
  {
   "cell_type": "code",
   "execution_count": 225,
   "id": "9ac34348",
   "metadata": {},
   "outputs": [
    {
     "name": "stdout",
     "output_type": "stream",
     "text": [
      "P@ 20: 0.025593 \n"
     ]
    }
   ],
   "source": [
    "avaliacaoPrecision(True,20)"
   ]
  },
  {
   "cell_type": "code",
   "execution_count": 226,
   "id": "b042efdc",
   "metadata": {},
   "outputs": [
    {
     "name": "stdout",
     "output_type": "stream",
     "text": [
      "MAP@ 20: 0.000493\n"
     ]
    }
   ],
   "source": [
    "avaliacaoMAP(True,20)"
   ]
  },
  {
   "cell_type": "code",
   "execution_count": 227,
   "id": "e029fb5d",
   "metadata": {},
   "outputs": [
    {
     "name": "stdout",
     "output_type": "stream",
     "text": [
      "RR: 0.240678\n"
     ]
    }
   ],
   "source": [
    "avaliacaoRR(True)"
   ]
  },
  {
   "cell_type": "markdown",
   "id": "7506793e",
   "metadata": {},
   "source": [
    "# Word n-gram + pré processamento básico + RSLP"
   ]
  },
  {
   "cell_type": "markdown",
   "id": "fba64687",
   "metadata": {},
   "source": [
    "## 20- Letra mínuscula + remoção de pontuação, acentuação e stopword + stemming (RSLP) + unigram + bigram"
   ]
  },
  {
   "cell_type": "code",
   "execution_count": 228,
   "id": "2bb0a77a",
   "metadata": {},
   "outputs": [],
   "source": [
    "def _remove_acentos(txt):\n",
    "    return normalize('NFKD', txt).encode('ASCII', 'ignore').decode('ASCII')\n",
    "\n",
    "def preprocess(txt):\n",
    "    txt = _remove_acentos(txt)\n",
    "    stopwords = nltk.corpus.stopwords.words(\"portuguese\")\n",
    "    stopwords.extend(list(punctuation))\n",
    "\n",
    "    stemmer = RSLPStemmer()\n",
    "    tokenizer = RegexpTokenizer('\\w+')\n",
    "    terms = tokenizer.tokenize(txt.lower())\n",
    "    terms = [stemmer.stem(word) for word in terms if word not in stopwords]\n",
    "    \n",
    "    ngram = []\n",
    "    ngram_1 = list(ngrams(terms, 1))\n",
    "    ngram_2 = list(ngrams(terms, 2))\n",
    "    for w in ngram_1:\n",
    "        ngram.append(w[0])\n",
    "        \n",
    "    for w in ngram_2:\n",
    "        string = w[0] + \"_\" + w[1]\n",
    "        ngram.append(string)\n",
    "    \n",
    "    return \" \".join(ngram)\n"
   ]
  },
  {
   "cell_type": "code",
   "execution_count": 229,
   "id": "b9fbab94",
   "metadata": {},
   "outputs": [],
   "source": [
    "indice = \"preprocessamento_18_indexacao\""
   ]
  },
  {
   "cell_type": "markdown",
   "id": "b34c67dc",
   "metadata": {},
   "source": [
    "## Avaliação"
   ]
  },
  {
   "cell_type": "markdown",
   "id": "13bbf18a",
   "metadata": {},
   "source": [
    "#### TOP K 5"
   ]
  },
  {
   "cell_type": "code",
   "execution_count": 230,
   "id": "133ff91d",
   "metadata": {},
   "outputs": [],
   "source": [
    "retriever = retrieve.Elastic(es=es,on=[\"content\"],index=indice,key=\"name\",k=5)"
   ]
  },
  {
   "cell_type": "code",
   "execution_count": 231,
   "id": "c9cb63ea",
   "metadata": {},
   "outputs": [
    {
     "name": "stdout",
     "output_type": "stream",
     "text": [
      "Duração: 3.931814\n",
      "Recall: 0.3864406779661017\n"
     ]
    }
   ],
   "source": [
    "avaliacaoRecall(True)"
   ]
  },
  {
   "cell_type": "code",
   "execution_count": 232,
   "id": "e936329c",
   "metadata": {},
   "outputs": [
    {
     "name": "stdout",
     "output_type": "stream",
     "text": [
      "P@ 5: 0.077288 \n"
     ]
    }
   ],
   "source": [
    "avaliacaoPrecision(True,5)"
   ]
  },
  {
   "cell_type": "code",
   "execution_count": 233,
   "id": "9c74ed7a",
   "metadata": {},
   "outputs": [
    {
     "name": "stdout",
     "output_type": "stream",
     "text": [
      "MAP@ 5: 0.001236\n"
     ]
    }
   ],
   "source": [
    "avaliacaoMAP(True,5)"
   ]
  },
  {
   "cell_type": "code",
   "execution_count": 234,
   "id": "ac0debc5",
   "metadata": {},
   "outputs": [
    {
     "name": "stdout",
     "output_type": "stream",
     "text": [
      "RR: 0.220339\n"
     ]
    }
   ],
   "source": [
    "avaliacaoRR(True)"
   ]
  },
  {
   "cell_type": "markdown",
   "id": "cc33609e",
   "metadata": {},
   "source": [
    "#### TOP K 10"
   ]
  },
  {
   "cell_type": "code",
   "execution_count": 235,
   "id": "e5368a28",
   "metadata": {},
   "outputs": [],
   "source": [
    "retriever = retrieve.Elastic(es=es,on=[\"content\"],index=indice,key=\"name\",k=10)"
   ]
  },
  {
   "cell_type": "code",
   "execution_count": 236,
   "id": "7ad28fc2",
   "metadata": {},
   "outputs": [
    {
     "name": "stdout",
     "output_type": "stream",
     "text": [
      "Duração: 2.368580\n",
      "Recall: 0.4406779661016949\n"
     ]
    }
   ],
   "source": [
    "avaliacaoRecall(True)"
   ]
  },
  {
   "cell_type": "code",
   "execution_count": 237,
   "id": "a53123b6",
   "metadata": {},
   "outputs": [
    {
     "name": "stdout",
     "output_type": "stream",
     "text": [
      "P@ 10: 0.044068 \n"
     ]
    }
   ],
   "source": [
    "avaliacaoPrecision(True,10)"
   ]
  },
  {
   "cell_type": "code",
   "execution_count": 238,
   "id": "87ed114b",
   "metadata": {},
   "outputs": [
    {
     "name": "stdout",
     "output_type": "stream",
     "text": [
      "MAP@ 10: 0.000795\n"
     ]
    }
   ],
   "source": [
    "avaliacaoMAP(True,10)"
   ]
  },
  {
   "cell_type": "code",
   "execution_count": 239,
   "id": "ccfbd53b",
   "metadata": {},
   "outputs": [
    {
     "name": "stdout",
     "output_type": "stream",
     "text": [
      "RR: 0.220339\n"
     ]
    }
   ],
   "source": [
    "avaliacaoRR(True)"
   ]
  },
  {
   "cell_type": "markdown",
   "id": "a0687b3d",
   "metadata": {},
   "source": [
    "#### TOP K 20"
   ]
  },
  {
   "cell_type": "code",
   "execution_count": 240,
   "id": "eff6ce85",
   "metadata": {},
   "outputs": [],
   "source": [
    "retriever = retrieve.Elastic(es=es,on=[\"content\"],index=indice,key=\"name\",k=20)"
   ]
  },
  {
   "cell_type": "code",
   "execution_count": 241,
   "id": "467f4138",
   "metadata": {},
   "outputs": [
    {
     "name": "stdout",
     "output_type": "stream",
     "text": [
      "Duração: 2.468899\n",
      "Recall: 0.4847457627118644\n"
     ]
    }
   ],
   "source": [
    "avaliacaoRecall(True)"
   ]
  },
  {
   "cell_type": "code",
   "execution_count": 242,
   "id": "af5ce763",
   "metadata": {},
   "outputs": [
    {
     "name": "stdout",
     "output_type": "stream",
     "text": [
      "P@ 20: 0.024237 \n"
     ]
    }
   ],
   "source": [
    "avaliacaoPrecision(True,20)"
   ]
  },
  {
   "cell_type": "code",
   "execution_count": 243,
   "id": "cebb9ba2",
   "metadata": {},
   "outputs": [
    {
     "name": "stdout",
     "output_type": "stream",
     "text": [
      "MAP@ 20: 0.000466\n"
     ]
    }
   ],
   "source": [
    "avaliacaoMAP(True,20)"
   ]
  },
  {
   "cell_type": "code",
   "execution_count": 244,
   "id": "ed05b9bc",
   "metadata": {},
   "outputs": [
    {
     "name": "stdout",
     "output_type": "stream",
     "text": [
      "RR: 0.220339\n"
     ]
    }
   ],
   "source": [
    "avaliacaoRR(True)"
   ]
  },
  {
   "cell_type": "markdown",
   "id": "a709cb4e",
   "metadata": {},
   "source": [
    "# Word n-gram + pré processamento básico + Savoy"
   ]
  },
  {
   "cell_type": "markdown",
   "id": "bf91c73d",
   "metadata": {},
   "source": [
    "## 26- Letra mínuscula + remoção de pontuação, acentuação e stopword + stemming (Savoy) + unigram + bigram"
   ]
  },
  {
   "cell_type": "code",
   "execution_count": 245,
   "id": "636bc737",
   "metadata": {},
   "outputs": [],
   "source": [
    "def _remove_acentos(txt):\n",
    "    return normalize('NFKD', txt).encode('ASCII', 'ignore').decode('ASCII')\n",
    "\n",
    "def preprocess(txt):\n",
    "    txt = _remove_acentos(txt)\n",
    "    stopwords = nltk.corpus.stopwords.words(\"portuguese\")\n",
    "    stopwords.extend(list(punctuation))\n",
    "\n",
    "    stemmer = Savoy()\n",
    "    tokenizer = RegexpTokenizer('\\w+')\n",
    "    terms = tokenizer.tokenize(txt.lower())\n",
    "    terms = [stemmer.stem(word) for word in terms if word not in stopwords]\n",
    "    \n",
    "    ngram = []\n",
    "    ngram_1 = list(ngrams(terms, 1))\n",
    "    ngram_2 = list(ngrams(terms, 2))\n",
    "    for w in ngram_1:\n",
    "        ngram.append(w[0])\n",
    "        \n",
    "    for w in ngram_2:\n",
    "        string = w[0] + \"_\" + w[1]\n",
    "        ngram.append(string)\n",
    "    \n",
    "    return \" \".join(ngram)\n"
   ]
  },
  {
   "cell_type": "code",
   "execution_count": 246,
   "id": "7471c046",
   "metadata": {},
   "outputs": [],
   "source": [
    "indice = \"preprocessamento_21_indexacao\""
   ]
  },
  {
   "cell_type": "markdown",
   "id": "43be5ab7",
   "metadata": {},
   "source": [
    "## Avaliação"
   ]
  },
  {
   "cell_type": "markdown",
   "id": "5932a46d",
   "metadata": {},
   "source": [
    "#### TOP K 5"
   ]
  },
  {
   "cell_type": "code",
   "execution_count": 247,
   "id": "95fccd7f",
   "metadata": {},
   "outputs": [],
   "source": [
    "retriever = retrieve.Elastic(es=es,on=[\"content\"],index=indice,key=\"name\",k=5)"
   ]
  },
  {
   "cell_type": "code",
   "execution_count": 248,
   "id": "69bb855a",
   "metadata": {},
   "outputs": [
    {
     "name": "stdout",
     "output_type": "stream",
     "text": [
      "Duração: 3.296456\n",
      "Recall: 0.38305084745762713\n"
     ]
    }
   ],
   "source": [
    "avaliacaoRecall(True)"
   ]
  },
  {
   "cell_type": "code",
   "execution_count": 249,
   "id": "0ab519b1",
   "metadata": {},
   "outputs": [
    {
     "name": "stdout",
     "output_type": "stream",
     "text": [
      "P@ 5: 0.076610 \n"
     ]
    }
   ],
   "source": [
    "avaliacaoPrecision(True,5)"
   ]
  },
  {
   "cell_type": "code",
   "execution_count": 250,
   "id": "b2c7fbd8",
   "metadata": {},
   "outputs": [
    {
     "name": "stdout",
     "output_type": "stream",
     "text": [
      "MAP@ 5: 0.001144\n"
     ]
    }
   ],
   "source": [
    "avaliacaoMAP(True,5)"
   ]
  },
  {
   "cell_type": "code",
   "execution_count": 251,
   "id": "bdad6345",
   "metadata": {},
   "outputs": [
    {
     "name": "stdout",
     "output_type": "stream",
     "text": [
      "RR: 0.210169\n"
     ]
    }
   ],
   "source": [
    "avaliacaoRR(True)"
   ]
  },
  {
   "cell_type": "markdown",
   "id": "5cc69479",
   "metadata": {},
   "source": [
    "#### TOP K 10"
   ]
  },
  {
   "cell_type": "code",
   "execution_count": 252,
   "id": "5808fdc2",
   "metadata": {},
   "outputs": [],
   "source": [
    "retriever = retrieve.Elastic(es=es,on=[\"content\"],index=indice,key=\"name\",k=10)"
   ]
  },
  {
   "cell_type": "code",
   "execution_count": 253,
   "id": "7ca4fe17",
   "metadata": {},
   "outputs": [
    {
     "name": "stdout",
     "output_type": "stream",
     "text": [
      "Duração: 2.248507\n",
      "Recall: 0.43728813559322033\n"
     ]
    }
   ],
   "source": [
    "avaliacaoRecall(True)"
   ]
  },
  {
   "cell_type": "code",
   "execution_count": 254,
   "id": "a7dca5f8",
   "metadata": {},
   "outputs": [
    {
     "name": "stdout",
     "output_type": "stream",
     "text": [
      "P@ 10: 0.043729 \n"
     ]
    }
   ],
   "source": [
    "avaliacaoPrecision(True,10)"
   ]
  },
  {
   "cell_type": "code",
   "execution_count": 255,
   "id": "f8611268",
   "metadata": {},
   "outputs": [
    {
     "name": "stdout",
     "output_type": "stream",
     "text": [
      "MAP@ 10: 0.000783\n"
     ]
    }
   ],
   "source": [
    "avaliacaoMAP(True,10)"
   ]
  },
  {
   "cell_type": "code",
   "execution_count": 256,
   "id": "252c3fbd",
   "metadata": {},
   "outputs": [
    {
     "name": "stdout",
     "output_type": "stream",
     "text": [
      "RR: 0.210169\n"
     ]
    }
   ],
   "source": [
    "avaliacaoRR(True)"
   ]
  },
  {
   "cell_type": "markdown",
   "id": "1282d4a7",
   "metadata": {},
   "source": [
    "#### TOP K 20"
   ]
  },
  {
   "cell_type": "code",
   "execution_count": 257,
   "id": "f1e67d6d",
   "metadata": {},
   "outputs": [],
   "source": [
    "retriever = retrieve.Elastic(es=es,on=[\"content\"],index=indice,key=\"name\",k=20)"
   ]
  },
  {
   "cell_type": "code",
   "execution_count": 258,
   "id": "4a403fb3",
   "metadata": {},
   "outputs": [
    {
     "name": "stdout",
     "output_type": "stream",
     "text": [
      "Duração: 2.011024\n",
      "Recall: 0.4847457627118644\n"
     ]
    }
   ],
   "source": [
    "avaliacaoRecall(True)"
   ]
  },
  {
   "cell_type": "code",
   "execution_count": 259,
   "id": "3af23184",
   "metadata": {},
   "outputs": [
    {
     "name": "stdout",
     "output_type": "stream",
     "text": [
      "P@ 20: 0.024237 \n"
     ]
    }
   ],
   "source": [
    "avaliacaoPrecision(True,20)"
   ]
  },
  {
   "cell_type": "code",
   "execution_count": 260,
   "id": "a823985a",
   "metadata": {},
   "outputs": [
    {
     "name": "stdout",
     "output_type": "stream",
     "text": [
      "MAP@ 20: 0.000462\n"
     ]
    }
   ],
   "source": [
    "avaliacaoMAP(True,20)"
   ]
  },
  {
   "cell_type": "code",
   "execution_count": 261,
   "id": "fcfe6336",
   "metadata": {},
   "outputs": [
    {
     "name": "stdout",
     "output_type": "stream",
     "text": [
      "RR: 0.210169\n"
     ]
    }
   ],
   "source": [
    "avaliacaoRR(True)"
   ]
  },
  {
   "cell_type": "markdown",
   "id": "784e6eaa",
   "metadata": {},
   "source": [
    "## 22- Letra mínuscula + remoção de pontuação + remoção de acentuação e remoção de stopword + stemming (RSLP-S)"
   ]
  },
  {
   "cell_type": "code",
   "execution_count": 262,
   "id": "bcde12d7",
   "metadata": {},
   "outputs": [],
   "source": [
    "def _remove_acentos(txt):\n",
    "    return normalize('NFKD', txt).encode('ASCII', 'ignore').decode('ASCII')\n",
    "\n",
    "def preprocess(txt):\n",
    "    txt = _remove_acentos(txt)\n",
    "    stopwords = nltk.corpus.stopwords.words(\"portuguese\")\n",
    "    stopwords.extend(list(punctuation))\n",
    "\n",
    "    stemmer = RSLP_S()\n",
    "    tokenizer = RegexpTokenizer('\\w+')\n",
    "    terms = tokenizer.tokenize(txt.lower())\n",
    "    terms = [stemmer.stem(word) for word in terms if word not in stopwords]\n",
    "        \n",
    "    return \" \".join(terms)"
   ]
  },
  {
   "cell_type": "code",
   "execution_count": 263,
   "id": "5c9af4ef",
   "metadata": {},
   "outputs": [],
   "source": [
    "indice = \"preprocessamento_22_indexacao\""
   ]
  },
  {
   "cell_type": "markdown",
   "id": "085626be",
   "metadata": {},
   "source": [
    "## Avaliação"
   ]
  },
  {
   "cell_type": "markdown",
   "id": "1cde0ac4",
   "metadata": {},
   "source": [
    "#### TOP K 5"
   ]
  },
  {
   "cell_type": "code",
   "execution_count": 264,
   "id": "7e4d8a9d",
   "metadata": {},
   "outputs": [],
   "source": [
    "retriever = retrieve.Elastic(es=es,on=[\"content\"],index=indice,key=\"name\",k=5)"
   ]
  },
  {
   "cell_type": "code",
   "execution_count": 265,
   "id": "95e093c1",
   "metadata": {},
   "outputs": [
    {
     "name": "stdout",
     "output_type": "stream",
     "text": [
      "Duração: 2.270353\n",
      "Recall: 0.4\n"
     ]
    }
   ],
   "source": [
    "avaliacaoRecall(True)"
   ]
  },
  {
   "cell_type": "code",
   "execution_count": 266,
   "id": "e66c80b0",
   "metadata": {},
   "outputs": [
    {
     "name": "stdout",
     "output_type": "stream",
     "text": [
      "P@ 5: 0.080000 \n"
     ]
    }
   ],
   "source": [
    "avaliacaoPrecision(True,5)"
   ]
  },
  {
   "cell_type": "code",
   "execution_count": 267,
   "id": "56dcf90e",
   "metadata": {},
   "outputs": [
    {
     "name": "stdout",
     "output_type": "stream",
     "text": [
      "MAP@ 5: 0.001214\n"
     ]
    }
   ],
   "source": [
    "avaliacaoMAP(True,5)"
   ]
  },
  {
   "cell_type": "code",
   "execution_count": 268,
   "id": "31a3a389",
   "metadata": {},
   "outputs": [
    {
     "name": "stdout",
     "output_type": "stream",
     "text": [
      "RR: 0.230508\n"
     ]
    }
   ],
   "source": [
    "avaliacaoRR(True)"
   ]
  },
  {
   "cell_type": "markdown",
   "id": "1052c94c",
   "metadata": {},
   "source": [
    "#### TOP K 10"
   ]
  },
  {
   "cell_type": "code",
   "execution_count": 269,
   "id": "76ae8916",
   "metadata": {},
   "outputs": [],
   "source": [
    "retriever = retrieve.Elastic(es=es,on=[\"content\"],index=indice,key=\"name\",k=10)"
   ]
  },
  {
   "cell_type": "code",
   "execution_count": 270,
   "id": "2137026f",
   "metadata": {},
   "outputs": [
    {
     "name": "stdout",
     "output_type": "stream",
     "text": [
      "Duração: 1.603706\n",
      "Recall: 0.4406779661016949\n"
     ]
    }
   ],
   "source": [
    "avaliacaoRecall(True)"
   ]
  },
  {
   "cell_type": "code",
   "execution_count": 271,
   "id": "fe9b7a39",
   "metadata": {},
   "outputs": [
    {
     "name": "stdout",
     "output_type": "stream",
     "text": [
      "P@ 10: 0.044068 \n"
     ]
    }
   ],
   "source": [
    "avaliacaoPrecision(True,10)"
   ]
  },
  {
   "cell_type": "code",
   "execution_count": 272,
   "id": "16515924",
   "metadata": {},
   "outputs": [
    {
     "name": "stdout",
     "output_type": "stream",
     "text": [
      "MAP@ 10: 0.000858\n"
     ]
    }
   ],
   "source": [
    "avaliacaoMAP(True,10)"
   ]
  },
  {
   "cell_type": "code",
   "execution_count": 273,
   "id": "58473531",
   "metadata": {},
   "outputs": [
    {
     "name": "stdout",
     "output_type": "stream",
     "text": [
      "RR: 0.230508\n"
     ]
    }
   ],
   "source": [
    "avaliacaoRR(True)"
   ]
  },
  {
   "cell_type": "markdown",
   "id": "42090feb",
   "metadata": {},
   "source": [
    "#### TOP K 20"
   ]
  },
  {
   "cell_type": "code",
   "execution_count": 274,
   "id": "fa2b7424",
   "metadata": {},
   "outputs": [],
   "source": [
    "retriever = retrieve.Elastic(es=es,on=[\"content\"],index=indice,key=\"name\",k=20)"
   ]
  },
  {
   "cell_type": "code",
   "execution_count": 275,
   "id": "4c671d71",
   "metadata": {},
   "outputs": [
    {
     "name": "stdout",
     "output_type": "stream",
     "text": [
      "Duração: 1.541616\n",
      "Recall: 0.5050847457627119\n"
     ]
    }
   ],
   "source": [
    "avaliacaoRecall(True)"
   ]
  },
  {
   "cell_type": "code",
   "execution_count": 276,
   "id": "2a178d7e",
   "metadata": {},
   "outputs": [
    {
     "name": "stdout",
     "output_type": "stream",
     "text": [
      "P@ 20: 0.025254 \n"
     ]
    }
   ],
   "source": [
    "avaliacaoPrecision(True,20)"
   ]
  },
  {
   "cell_type": "code",
   "execution_count": 277,
   "id": "0b2de574",
   "metadata": {},
   "outputs": [
    {
     "name": "stdout",
     "output_type": "stream",
     "text": [
      "MAP@ 20: 0.000481\n"
     ]
    }
   ],
   "source": [
    "avaliacaoMAP(True,20)"
   ]
  },
  {
   "cell_type": "code",
   "execution_count": 278,
   "id": "d7775cb5",
   "metadata": {},
   "outputs": [
    {
     "name": "stdout",
     "output_type": "stream",
     "text": [
      "RR: 0.230508\n"
     ]
    }
   ],
   "source": [
    "avaliacaoRR(True)"
   ]
  },
  {
   "cell_type": "markdown",
   "id": "152618a4",
   "metadata": {},
   "source": [
    "## 23- Letra mínuscula + remoção de pontuação, acentuação e stopword + stemming (RSLP-S) + unigram + bigram"
   ]
  },
  {
   "cell_type": "code",
   "execution_count": 279,
   "id": "271be4f5",
   "metadata": {},
   "outputs": [],
   "source": [
    "def _remove_acentos(txt):\n",
    "    return normalize('NFKD', txt).encode('ASCII', 'ignore').decode('ASCII')\n",
    "\n",
    "def preprocess(txt):\n",
    "    txt = _remove_acentos(txt)\n",
    "    stopwords = nltk.corpus.stopwords.words(\"portuguese\")\n",
    "    stopwords.extend(list(punctuation))\n",
    "\n",
    "    stemmer = RSLP_S()\n",
    "    tokenizer = RegexpTokenizer('\\w+')\n",
    "    terms = tokenizer.tokenize(txt.lower())\n",
    "    terms = [stemmer.stem(word) for word in terms if word not in stopwords]\n",
    "    \n",
    "    ngram = []\n",
    "    ngram_1 = list(ngrams(terms, 1))\n",
    "    ngram_2 = list(ngrams(terms, 2))\n",
    "    for w in ngram_1:\n",
    "        ngram.append(w[0])\n",
    "        \n",
    "    for w in ngram_2:\n",
    "        string = w[0] + \"_\" + w[1]\n",
    "        ngram.append(string)\n",
    "    \n",
    "    return \" \".join(ngram)\n"
   ]
  },
  {
   "cell_type": "code",
   "execution_count": 280,
   "id": "7dc9a7e1",
   "metadata": {},
   "outputs": [],
   "source": [
    "indice = \"preprocessamento_23_indexacao\""
   ]
  },
  {
   "cell_type": "markdown",
   "id": "15231703",
   "metadata": {},
   "source": [
    "## Avaliação"
   ]
  },
  {
   "cell_type": "markdown",
   "id": "7e8f60ad",
   "metadata": {},
   "source": [
    "#### TOP K 5"
   ]
  },
  {
   "cell_type": "code",
   "execution_count": 281,
   "id": "2cf58f6a",
   "metadata": {},
   "outputs": [],
   "source": [
    "retriever = retrieve.Elastic(es=es,on=[\"content\"],index=indice,key=\"name\",k=5)"
   ]
  },
  {
   "cell_type": "code",
   "execution_count": 282,
   "id": "4d4045b9",
   "metadata": {},
   "outputs": [
    {
     "name": "stdout",
     "output_type": "stream",
     "text": [
      "Duração: 3.219137\n",
      "Recall: 0.376271186440678\n"
     ]
    }
   ],
   "source": [
    "avaliacaoRecall(True)"
   ]
  },
  {
   "cell_type": "code",
   "execution_count": 283,
   "id": "d0827d8e",
   "metadata": {},
   "outputs": [
    {
     "name": "stdout",
     "output_type": "stream",
     "text": [
      "P@ 5: 0.075254 \n"
     ]
    }
   ],
   "source": [
    "avaliacaoPrecision(True,5)"
   ]
  },
  {
   "cell_type": "code",
   "execution_count": 284,
   "id": "074ededa",
   "metadata": {},
   "outputs": [
    {
     "name": "stdout",
     "output_type": "stream",
     "text": [
      "MAP@ 5: 0.001367\n"
     ]
    }
   ],
   "source": [
    "avaliacaoMAP(True,5)"
   ]
  },
  {
   "cell_type": "code",
   "execution_count": 285,
   "id": "502eeb29",
   "metadata": {},
   "outputs": [
    {
     "name": "stdout",
     "output_type": "stream",
     "text": [
      "RR: 0.210169\n"
     ]
    }
   ],
   "source": [
    "avaliacaoRR(True)"
   ]
  },
  {
   "cell_type": "markdown",
   "id": "a0cff730",
   "metadata": {},
   "source": [
    "#### TOP K 10"
   ]
  },
  {
   "cell_type": "code",
   "execution_count": 286,
   "id": "e026dd78",
   "metadata": {},
   "outputs": [],
   "source": [
    "retriever = retrieve.Elastic(es=es,on=[\"content\"],index=indice,key=\"name\",k=10)"
   ]
  },
  {
   "cell_type": "code",
   "execution_count": 287,
   "id": "c4e0b34a",
   "metadata": {},
   "outputs": [
    {
     "name": "stdout",
     "output_type": "stream",
     "text": [
      "Duração: 1.935063\n",
      "Recall: 0.4271186440677966\n"
     ]
    }
   ],
   "source": [
    "avaliacaoRecall(True)"
   ]
  },
  {
   "cell_type": "code",
   "execution_count": 288,
   "id": "a2cc5e60",
   "metadata": {},
   "outputs": [
    {
     "name": "stdout",
     "output_type": "stream",
     "text": [
      "P@ 10: 0.042712 \n"
     ]
    }
   ],
   "source": [
    "avaliacaoPrecision(True,10)"
   ]
  },
  {
   "cell_type": "code",
   "execution_count": 289,
   "id": "f8109cdd",
   "metadata": {},
   "outputs": [
    {
     "name": "stdout",
     "output_type": "stream",
     "text": [
      "MAP@ 10: 0.000791\n"
     ]
    }
   ],
   "source": [
    "avaliacaoMAP(True,10)"
   ]
  },
  {
   "cell_type": "code",
   "execution_count": 290,
   "id": "770ed9d0",
   "metadata": {},
   "outputs": [
    {
     "name": "stdout",
     "output_type": "stream",
     "text": [
      "RR: 0.210169\n"
     ]
    }
   ],
   "source": [
    "avaliacaoRR(True)"
   ]
  },
  {
   "cell_type": "markdown",
   "id": "d3403a36",
   "metadata": {},
   "source": [
    "#### TOP K 20"
   ]
  },
  {
   "cell_type": "code",
   "execution_count": 291,
   "id": "766c2762",
   "metadata": {},
   "outputs": [],
   "source": [
    "retriever = retrieve.Elastic(es=es,on=[\"content\"],index=indice,key=\"name\",k=20)"
   ]
  },
  {
   "cell_type": "code",
   "execution_count": 292,
   "id": "4d44864b",
   "metadata": {},
   "outputs": [
    {
     "name": "stdout",
     "output_type": "stream",
     "text": [
      "Duração: 1.847997\n",
      "Recall: 0.4847457627118644\n"
     ]
    }
   ],
   "source": [
    "avaliacaoRecall(True)"
   ]
  },
  {
   "cell_type": "code",
   "execution_count": 293,
   "id": "5fde9a54",
   "metadata": {},
   "outputs": [
    {
     "name": "stdout",
     "output_type": "stream",
     "text": [
      "P@ 20: 0.024237 \n"
     ]
    }
   ],
   "source": [
    "avaliacaoPrecision(True,20)"
   ]
  },
  {
   "cell_type": "code",
   "execution_count": 294,
   "id": "401903ab",
   "metadata": {},
   "outputs": [
    {
     "name": "stdout",
     "output_type": "stream",
     "text": [
      "MAP@ 20: 0.000469\n"
     ]
    }
   ],
   "source": [
    "avaliacaoMAP(True,20)"
   ]
  },
  {
   "cell_type": "code",
   "execution_count": 295,
   "id": "81656364",
   "metadata": {},
   "outputs": [
    {
     "name": "stdout",
     "output_type": "stream",
     "text": [
      "RR: 0.210169\n"
     ]
    }
   ],
   "source": [
    "avaliacaoRR(True)"
   ]
  },
  {
   "cell_type": "markdown",
   "id": "8f0d179c",
   "metadata": {},
   "source": [
    "# Emenda"
   ]
  },
  {
   "cell_type": "markdown",
   "id": "7e673e69",
   "metadata": {},
   "source": [
    "## 1- Sem pré processamento"
   ]
  },
  {
   "cell_type": "code",
   "execution_count": 296,
   "id": "75c675dd",
   "metadata": {},
   "outputs": [],
   "source": [
    "indice = \"sem_preprocessamento_emenda\""
   ]
  },
  {
   "cell_type": "markdown",
   "id": "622af059",
   "metadata": {},
   "source": [
    "## Avaliação"
   ]
  },
  {
   "cell_type": "markdown",
   "id": "e5b3d906",
   "metadata": {},
   "source": [
    "#### TOP K 5"
   ]
  },
  {
   "cell_type": "code",
   "execution_count": 297,
   "id": "8d7d699e",
   "metadata": {},
   "outputs": [],
   "source": [
    "retriever = retrieve.Elastic(es=es,on=[\"content\"],index=indice,key=\"name\",k=5)"
   ]
  },
  {
   "cell_type": "code",
   "execution_count": 298,
   "id": "0fa06210",
   "metadata": {},
   "outputs": [
    {
     "name": "stdout",
     "output_type": "stream",
     "text": [
      "Duração: 4.898598\n",
      "Recall: 0.3864406779661017\n"
     ]
    }
   ],
   "source": [
    "avaliacaoRecall(False)"
   ]
  },
  {
   "cell_type": "code",
   "execution_count": 299,
   "id": "7ae58c8b",
   "metadata": {},
   "outputs": [
    {
     "name": "stdout",
     "output_type": "stream",
     "text": [
      "P@ 5: 0.077288 \n"
     ]
    }
   ],
   "source": [
    "avaliacaoPrecision(False,5)"
   ]
  },
  {
   "cell_type": "code",
   "execution_count": 300,
   "id": "a0350305",
   "metadata": {},
   "outputs": [
    {
     "name": "stdout",
     "output_type": "stream",
     "text": [
      "MAP@ 5: 0.001689\n"
     ]
    }
   ],
   "source": [
    "avaliacaoMAP(False,5)"
   ]
  },
  {
   "cell_type": "code",
   "execution_count": 301,
   "id": "33541fdc",
   "metadata": {},
   "outputs": [
    {
     "name": "stdout",
     "output_type": "stream",
     "text": [
      "RR: 0.244068\n"
     ]
    }
   ],
   "source": [
    "avaliacaoRR(False)"
   ]
  },
  {
   "cell_type": "markdown",
   "id": "72fa236d",
   "metadata": {},
   "source": [
    "#### TOP K 10"
   ]
  },
  {
   "cell_type": "code",
   "execution_count": 302,
   "id": "3de23564",
   "metadata": {},
   "outputs": [],
   "source": [
    "retriever = retrieve.Elastic(es=es,on=[\"content\"],index=indice,key=\"name\",k=10)"
   ]
  },
  {
   "cell_type": "code",
   "execution_count": 303,
   "id": "b3cf9522",
   "metadata": {},
   "outputs": [
    {
     "name": "stdout",
     "output_type": "stream",
     "text": [
      "Duração: 3.709680\n",
      "Recall: 0.43728813559322033\n"
     ]
    }
   ],
   "source": [
    "avaliacaoRecall(False)"
   ]
  },
  {
   "cell_type": "code",
   "execution_count": 304,
   "id": "3b950d8a",
   "metadata": {},
   "outputs": [
    {
     "name": "stdout",
     "output_type": "stream",
     "text": [
      "P@ 10: 0.043729 \n"
     ]
    }
   ],
   "source": [
    "avaliacaoPrecision(False,10)"
   ]
  },
  {
   "cell_type": "code",
   "execution_count": 305,
   "id": "f2a9219b",
   "metadata": {},
   "outputs": [
    {
     "name": "stdout",
     "output_type": "stream",
     "text": [
      "MAP@ 10: 0.000939\n"
     ]
    }
   ],
   "source": [
    "avaliacaoMAP(False,10)"
   ]
  },
  {
   "cell_type": "code",
   "execution_count": 306,
   "id": "d1bd0ba5",
   "metadata": {},
   "outputs": [
    {
     "name": "stdout",
     "output_type": "stream",
     "text": [
      "RR: 0.244068\n"
     ]
    }
   ],
   "source": [
    "avaliacaoRR(False)"
   ]
  },
  {
   "cell_type": "markdown",
   "id": "9759d176",
   "metadata": {},
   "source": [
    "#### TOP K 20"
   ]
  },
  {
   "cell_type": "code",
   "execution_count": 307,
   "id": "6d859d67",
   "metadata": {},
   "outputs": [],
   "source": [
    "retriever = retrieve.Elastic(es=es,on=[\"content\"],index=indice,key=\"name\",k=20)"
   ]
  },
  {
   "cell_type": "code",
   "execution_count": 308,
   "id": "f249fde2",
   "metadata": {},
   "outputs": [
    {
     "name": "stdout",
     "output_type": "stream",
     "text": [
      "Duração: 3.897678\n",
      "Recall: 0.4711864406779661\n"
     ]
    }
   ],
   "source": [
    "avaliacaoRecall(False)"
   ]
  },
  {
   "cell_type": "code",
   "execution_count": 309,
   "id": "a158f959",
   "metadata": {},
   "outputs": [
    {
     "name": "stdout",
     "output_type": "stream",
     "text": [
      "P@ 20: 0.023559 \n"
     ]
    }
   ],
   "source": [
    "avaliacaoPrecision(False,20)"
   ]
  },
  {
   "cell_type": "code",
   "execution_count": 310,
   "id": "c979bdd9",
   "metadata": {},
   "outputs": [
    {
     "name": "stdout",
     "output_type": "stream",
     "text": [
      "MAP@ 20: 0.000493\n"
     ]
    }
   ],
   "source": [
    "avaliacaoMAP(False,20)"
   ]
  },
  {
   "cell_type": "code",
   "execution_count": 311,
   "id": "45802730",
   "metadata": {},
   "outputs": [
    {
     "name": "stdout",
     "output_type": "stream",
     "text": [
      "RR: 0.244068\n"
     ]
    }
   ],
   "source": [
    "avaliacaoRR(False)"
   ]
  },
  {
   "cell_type": "markdown",
   "id": "6d9616cd",
   "metadata": {},
   "source": [
    "## 5- Letra mínuscula + remoção de pontuação + remoção de acentuação e remoção de stopword\n"
   ]
  },
  {
   "cell_type": "code",
   "execution_count": 312,
   "id": "4a106b79",
   "metadata": {},
   "outputs": [],
   "source": [
    "def _remove_acentos(txt):\n",
    "    return normalize('NFKD', txt).encode('ASCII', 'ignore').decode('ASCII')\n",
    "\n",
    "def preprocess(txt):\n",
    "    txt = _remove_acentos(txt)\n",
    "    stopwords = nltk.corpus.stopwords.words(\"portuguese\")\n",
    "    stopwords.extend(list(punctuation))\n",
    "    tokenizer = RegexpTokenizer('\\w+')\n",
    "    terms = tokenizer.tokenize(txt.lower())\n",
    "    terms = [word for word in terms if word not in stopwords]\n",
    "    terms = \" \".join(terms)\n",
    "    return terms"
   ]
  },
  {
   "cell_type": "code",
   "execution_count": 313,
   "id": "5a9e68d9",
   "metadata": {},
   "outputs": [],
   "source": [
    "indice = \"preprocessamento_5_emenda\""
   ]
  },
  {
   "cell_type": "markdown",
   "id": "1c78a8da",
   "metadata": {},
   "source": [
    "## Avaliação"
   ]
  },
  {
   "cell_type": "markdown",
   "id": "0caa7fee",
   "metadata": {},
   "source": [
    "#### TOP K 5"
   ]
  },
  {
   "cell_type": "code",
   "execution_count": 314,
   "id": "a7f875ba",
   "metadata": {},
   "outputs": [],
   "source": [
    "retriever = retrieve.Elastic(es=es,on=[\"content\"],index=indice,key=\"name\",k=5)"
   ]
  },
  {
   "cell_type": "code",
   "execution_count": 315,
   "id": "c6d3d5d8",
   "metadata": {},
   "outputs": [
    {
     "name": "stdout",
     "output_type": "stream",
     "text": [
      "Duração: 2.249341\n",
      "Recall: 0.4\n"
     ]
    }
   ],
   "source": [
    "avaliacaoRecall(True)"
   ]
  },
  {
   "cell_type": "code",
   "execution_count": 316,
   "id": "2c3bc11e",
   "metadata": {},
   "outputs": [
    {
     "name": "stdout",
     "output_type": "stream",
     "text": [
      "P@ 5: 0.080000 \n"
     ]
    }
   ],
   "source": [
    "avaliacaoPrecision(True,5)"
   ]
  },
  {
   "cell_type": "code",
   "execution_count": 317,
   "id": "c95587cb",
   "metadata": {},
   "outputs": [
    {
     "name": "stdout",
     "output_type": "stream",
     "text": [
      "MAP@ 5: 0.001732\n"
     ]
    }
   ],
   "source": [
    "avaliacaoMAP(True,5)"
   ]
  },
  {
   "cell_type": "code",
   "execution_count": 318,
   "id": "1deea16b",
   "metadata": {},
   "outputs": [
    {
     "name": "stdout",
     "output_type": "stream",
     "text": [
      "RR: 0.267797\n"
     ]
    }
   ],
   "source": [
    "avaliacaoRR(True)"
   ]
  },
  {
   "cell_type": "markdown",
   "id": "085beb4e",
   "metadata": {},
   "source": [
    "#### TOP K 10"
   ]
  },
  {
   "cell_type": "code",
   "execution_count": 319,
   "id": "3935e96b",
   "metadata": {},
   "outputs": [],
   "source": [
    "retriever = retrieve.Elastic(es=es,on=[\"content\"],index=indice,key=\"name\",k=10)"
   ]
  },
  {
   "cell_type": "code",
   "execution_count": 320,
   "id": "f01ce394",
   "metadata": {},
   "outputs": [
    {
     "name": "stdout",
     "output_type": "stream",
     "text": [
      "Duração: 1.512552\n",
      "Recall: 0.4406779661016949\n"
     ]
    }
   ],
   "source": [
    "avaliacaoRecall(True)"
   ]
  },
  {
   "cell_type": "code",
   "execution_count": 321,
   "id": "b1f52694",
   "metadata": {},
   "outputs": [
    {
     "name": "stdout",
     "output_type": "stream",
     "text": [
      "P@ 10: 0.044068 \n"
     ]
    }
   ],
   "source": [
    "avaliacaoPrecision(True,10)"
   ]
  },
  {
   "cell_type": "code",
   "execution_count": 322,
   "id": "66ac3d85",
   "metadata": {},
   "outputs": [
    {
     "name": "stdout",
     "output_type": "stream",
     "text": [
      "MAP@ 10: 0.000951\n"
     ]
    }
   ],
   "source": [
    "avaliacaoMAP(True,10)"
   ]
  },
  {
   "cell_type": "code",
   "execution_count": 323,
   "id": "50311ac0",
   "metadata": {},
   "outputs": [
    {
     "name": "stdout",
     "output_type": "stream",
     "text": [
      "RR: 0.267797\n"
     ]
    }
   ],
   "source": [
    "avaliacaoRR(True)"
   ]
  },
  {
   "cell_type": "markdown",
   "id": "6a490e6f",
   "metadata": {},
   "source": [
    "#### TOP K 20"
   ]
  },
  {
   "cell_type": "code",
   "execution_count": 324,
   "id": "b4d74fa6",
   "metadata": {},
   "outputs": [],
   "source": [
    "retriever = retrieve.Elastic(es=es,on=[\"content\"],index=indice,key=\"name\",k=20)"
   ]
  },
  {
   "cell_type": "code",
   "execution_count": 325,
   "id": "aa812771",
   "metadata": {},
   "outputs": [
    {
     "name": "stdout",
     "output_type": "stream",
     "text": [
      "Duração: 1.445605\n",
      "Recall: 0.488135593220339\n"
     ]
    }
   ],
   "source": [
    "avaliacaoRecall(True)"
   ]
  },
  {
   "cell_type": "code",
   "execution_count": 326,
   "id": "179f788e",
   "metadata": {},
   "outputs": [
    {
     "name": "stdout",
     "output_type": "stream",
     "text": [
      "P@ 20: 0.024407 \n"
     ]
    }
   ],
   "source": [
    "avaliacaoPrecision(True,20)"
   ]
  },
  {
   "cell_type": "code",
   "execution_count": 327,
   "id": "0f913e4f",
   "metadata": {},
   "outputs": [
    {
     "name": "stdout",
     "output_type": "stream",
     "text": [
      "MAP@ 20: 0.000500\n"
     ]
    }
   ],
   "source": [
    "avaliacaoMAP(True,20)"
   ]
  },
  {
   "cell_type": "code",
   "execution_count": 328,
   "id": "f3475433",
   "metadata": {},
   "outputs": [
    {
     "name": "stdout",
     "output_type": "stream",
     "text": [
      "RR: 0.267797\n"
     ]
    }
   ],
   "source": [
    "avaliacaoRR(True)"
   ]
  },
  {
   "cell_type": "markdown",
   "id": "997144ae",
   "metadata": {},
   "source": [
    "## 9- Letra mínuscula + remoção de pontuação + remoção de acentuação e remoção de stopword + stemming (RSLP)"
   ]
  },
  {
   "cell_type": "code",
   "execution_count": 329,
   "id": "82478c74",
   "metadata": {},
   "outputs": [],
   "source": [
    "def _remove_acentos(txt):\n",
    "    return normalize('NFKD', txt).encode('ASCII', 'ignore').decode('ASCII')\n",
    "\n",
    "def preprocess(txt):\n",
    "    txt = _remove_acentos(txt)\n",
    "    stopwords = nltk.corpus.stopwords.words(\"portuguese\")\n",
    "    stopwords.extend(list(punctuation))\n",
    "\n",
    "    stemmer = RSLPStemmer()\n",
    "    tokenizer = RegexpTokenizer('\\w+')\n",
    "    terms = tokenizer.tokenize(txt.lower())\n",
    "    terms = [stemmer.stem(word) for word in terms if word not in stopwords]\n",
    "        \n",
    "    return \" \".join(terms)"
   ]
  },
  {
   "cell_type": "code",
   "execution_count": 330,
   "id": "54fed19b",
   "metadata": {},
   "outputs": [],
   "source": [
    "indice = \"preprocessamento_8_emenda\""
   ]
  },
  {
   "cell_type": "markdown",
   "id": "fe73931d",
   "metadata": {},
   "source": [
    "## Avaliação"
   ]
  },
  {
   "cell_type": "markdown",
   "id": "045af3ab",
   "metadata": {},
   "source": [
    "#### TOP K 5"
   ]
  },
  {
   "cell_type": "code",
   "execution_count": 331,
   "id": "fe8cee3a",
   "metadata": {},
   "outputs": [],
   "source": [
    "retriever = retrieve.Elastic(es=es,on=[\"content\"],index=indice,key=\"name\",k=5)"
   ]
  },
  {
   "cell_type": "code",
   "execution_count": 332,
   "id": "55ea2886",
   "metadata": {},
   "outputs": [
    {
     "name": "stdout",
     "output_type": "stream",
     "text": [
      "Duração: 3.274497\n",
      "Recall: 0.4576271186440678\n"
     ]
    }
   ],
   "source": [
    "avaliacaoRecall(True)"
   ]
  },
  {
   "cell_type": "code",
   "execution_count": 333,
   "id": "7f0caf8e",
   "metadata": {},
   "outputs": [
    {
     "name": "stdout",
     "output_type": "stream",
     "text": [
      "P@ 5: 0.091525 \n"
     ]
    }
   ],
   "source": [
    "avaliacaoPrecision(True,5)"
   ]
  },
  {
   "cell_type": "code",
   "execution_count": 334,
   "id": "e3b5ac87",
   "metadata": {},
   "outputs": [
    {
     "name": "stdout",
     "output_type": "stream",
     "text": [
      "MAP@ 5: 0.001991\n"
     ]
    }
   ],
   "source": [
    "avaliacaoMAP(True,5)"
   ]
  },
  {
   "cell_type": "code",
   "execution_count": 335,
   "id": "62a0e8e4",
   "metadata": {},
   "outputs": [
    {
     "name": "stdout",
     "output_type": "stream",
     "text": [
      "RR: 0.277966\n"
     ]
    }
   ],
   "source": [
    "avaliacaoRR(True)"
   ]
  },
  {
   "cell_type": "markdown",
   "id": "ccb5e154",
   "metadata": {},
   "source": [
    "#### TOP K 10"
   ]
  },
  {
   "cell_type": "code",
   "execution_count": 336,
   "id": "29858d67",
   "metadata": {},
   "outputs": [],
   "source": [
    "retriever = retrieve.Elastic(es=es,on=[\"content\"],index=indice,key=\"name\",k=10)"
   ]
  },
  {
   "cell_type": "code",
   "execution_count": 337,
   "id": "c7c351c3",
   "metadata": {},
   "outputs": [
    {
     "name": "stdout",
     "output_type": "stream",
     "text": [
      "Duração: 2.149607\n",
      "Recall: 0.5050847457627119\n"
     ]
    }
   ],
   "source": [
    "avaliacaoRecall(True)"
   ]
  },
  {
   "cell_type": "code",
   "execution_count": 338,
   "id": "21a7b56f",
   "metadata": {},
   "outputs": [
    {
     "name": "stdout",
     "output_type": "stream",
     "text": [
      "P@ 10: 0.050508 \n"
     ]
    }
   ],
   "source": [
    "avaliacaoPrecision(True,10)"
   ]
  },
  {
   "cell_type": "code",
   "execution_count": 339,
   "id": "7986c7a4",
   "metadata": {},
   "outputs": [
    {
     "name": "stdout",
     "output_type": "stream",
     "text": [
      "MAP@ 10: 0.001080\n"
     ]
    }
   ],
   "source": [
    "avaliacaoMAP(True,10)"
   ]
  },
  {
   "cell_type": "code",
   "execution_count": 340,
   "id": "b7e47cc1",
   "metadata": {},
   "outputs": [
    {
     "name": "stdout",
     "output_type": "stream",
     "text": [
      "RR: 0.277966\n"
     ]
    }
   ],
   "source": [
    "avaliacaoRR(True)"
   ]
  },
  {
   "cell_type": "markdown",
   "id": "5e73117c",
   "metadata": {},
   "source": [
    "#### TOP K 20"
   ]
  },
  {
   "cell_type": "code",
   "execution_count": 341,
   "id": "ed44f62a",
   "metadata": {},
   "outputs": [],
   "source": [
    "retriever = retrieve.Elastic(es=es,on=[\"content\"],index=indice,key=\"name\",k=20)"
   ]
  },
  {
   "cell_type": "code",
   "execution_count": 342,
   "id": "a56adfc8",
   "metadata": {},
   "outputs": [
    {
     "name": "stdout",
     "output_type": "stream",
     "text": [
      "Duração: 2.299304\n",
      "Recall: 0.5457627118644067\n"
     ]
    }
   ],
   "source": [
    "avaliacaoRecall(True)"
   ]
  },
  {
   "cell_type": "code",
   "execution_count": 343,
   "id": "ad0cc39c",
   "metadata": {},
   "outputs": [
    {
     "name": "stdout",
     "output_type": "stream",
     "text": [
      "P@ 20: 0.027288 \n"
     ]
    }
   ],
   "source": [
    "avaliacaoPrecision(True,20)"
   ]
  },
  {
   "cell_type": "code",
   "execution_count": 344,
   "id": "c207e5b6",
   "metadata": {},
   "outputs": [
    {
     "name": "stdout",
     "output_type": "stream",
     "text": [
      "MAP@ 20: 0.000572\n"
     ]
    }
   ],
   "source": [
    "avaliacaoMAP(True,20)"
   ]
  },
  {
   "cell_type": "code",
   "execution_count": 345,
   "id": "5cd6c973",
   "metadata": {},
   "outputs": [
    {
     "name": "stdout",
     "output_type": "stream",
     "text": [
      "RR: 0.277966\n"
     ]
    }
   ],
   "source": [
    "avaliacaoRR(True)"
   ]
  },
  {
   "cell_type": "markdown",
   "id": "4d81e325",
   "metadata": {},
   "source": [
    "## 11- Letra mínuscula + remoção de pontuação + remoção de acentuação e remoção de stopword + stemming (Savoy)"
   ]
  },
  {
   "cell_type": "code",
   "execution_count": 346,
   "id": "a2ed0f7d",
   "metadata": {},
   "outputs": [],
   "source": [
    "def _remove_acentos(txt):\n",
    "    return normalize('NFKD', txt).encode('ASCII', 'ignore').decode('ASCII')\n",
    "\n",
    "def preprocess(txt):\n",
    "    txt = _remove_acentos(txt)\n",
    "    stopwords = nltk.corpus.stopwords.words(\"portuguese\")\n",
    "    stopwords.extend(list(punctuation))\n",
    "\n",
    "    stemmer = Savoy()\n",
    "    tokenizer = RegexpTokenizer('\\w+')\n",
    "    terms = tokenizer.tokenize(txt.lower())\n",
    "    terms = [stemmer.stem(word) for word in terms if word not in stopwords]\n",
    "        \n",
    "    return \" \".join(terms)"
   ]
  },
  {
   "cell_type": "code",
   "execution_count": 347,
   "id": "fdc9285d",
   "metadata": {},
   "outputs": [],
   "source": [
    "indice = \"preprocessamento_9_emenda\""
   ]
  },
  {
   "cell_type": "markdown",
   "id": "e99e144b",
   "metadata": {},
   "source": [
    "## Avaliação"
   ]
  },
  {
   "cell_type": "markdown",
   "id": "9d5e4444",
   "metadata": {},
   "source": [
    "#### TOP K 5"
   ]
  },
  {
   "cell_type": "code",
   "execution_count": 348,
   "id": "021fe8b5",
   "metadata": {},
   "outputs": [],
   "source": [
    "retriever = retrieve.Elastic(es=es,on=[\"content\"],index=indice,key=\"name\",k=5)"
   ]
  },
  {
   "cell_type": "code",
   "execution_count": 349,
   "id": "794a2c20",
   "metadata": {},
   "outputs": [
    {
     "name": "stdout",
     "output_type": "stream",
     "text": [
      "Duração: 2.664680\n",
      "Recall: 0.45084745762711864\n"
     ]
    }
   ],
   "source": [
    "avaliacaoRecall(True)"
   ]
  },
  {
   "cell_type": "code",
   "execution_count": 350,
   "id": "2dfa3906",
   "metadata": {},
   "outputs": [
    {
     "name": "stdout",
     "output_type": "stream",
     "text": [
      "P@ 5: 0.090169 \n"
     ]
    }
   ],
   "source": [
    "avaliacaoPrecision(True,5)"
   ]
  },
  {
   "cell_type": "code",
   "execution_count": 351,
   "id": "98f8e021",
   "metadata": {},
   "outputs": [
    {
     "name": "stdout",
     "output_type": "stream",
     "text": [
      "MAP@ 5: 0.001937\n"
     ]
    }
   ],
   "source": [
    "avaliacaoMAP(True,5)"
   ]
  },
  {
   "cell_type": "code",
   "execution_count": 352,
   "id": "0d1f6b45",
   "metadata": {},
   "outputs": [
    {
     "name": "stdout",
     "output_type": "stream",
     "text": [
      "RR: 0.288136\n"
     ]
    }
   ],
   "source": [
    "avaliacaoRR(True)"
   ]
  },
  {
   "cell_type": "markdown",
   "id": "e4cf06bf",
   "metadata": {},
   "source": [
    "#### TOP K 10"
   ]
  },
  {
   "cell_type": "code",
   "execution_count": 353,
   "id": "89108336",
   "metadata": {},
   "outputs": [],
   "source": [
    "retriever = retrieve.Elastic(es=es,on=[\"content\"],index=indice,key=\"name\",k=10)"
   ]
  },
  {
   "cell_type": "code",
   "execution_count": 354,
   "id": "aeb6d437",
   "metadata": {},
   "outputs": [
    {
     "name": "stdout",
     "output_type": "stream",
     "text": [
      "Duração: 1.693492\n",
      "Recall: 0.5016949152542373\n"
     ]
    }
   ],
   "source": [
    "avaliacaoRecall(True)"
   ]
  },
  {
   "cell_type": "code",
   "execution_count": 355,
   "id": "7baec5f6",
   "metadata": {},
   "outputs": [
    {
     "name": "stdout",
     "output_type": "stream",
     "text": [
      "P@ 10: 0.050169 \n"
     ]
    }
   ],
   "source": [
    "avaliacaoPrecision(True,10)"
   ]
  },
  {
   "cell_type": "code",
   "execution_count": 356,
   "id": "9b3b2825",
   "metadata": {},
   "outputs": [
    {
     "name": "stdout",
     "output_type": "stream",
     "text": [
      "MAP@ 10: 0.001075\n"
     ]
    }
   ],
   "source": [
    "avaliacaoMAP(True,10)"
   ]
  },
  {
   "cell_type": "code",
   "execution_count": 357,
   "id": "dcb42850",
   "metadata": {},
   "outputs": [
    {
     "name": "stdout",
     "output_type": "stream",
     "text": [
      "RR: 0.288136\n"
     ]
    }
   ],
   "source": [
    "avaliacaoRR(True)"
   ]
  },
  {
   "cell_type": "markdown",
   "id": "6825d8b5",
   "metadata": {},
   "source": [
    "#### TOP K 20"
   ]
  },
  {
   "cell_type": "code",
   "execution_count": 358,
   "id": "35bd7cf0",
   "metadata": {},
   "outputs": [],
   "source": [
    "retriever = retrieve.Elastic(es=es,on=[\"content\"],index=indice,key=\"name\",k=20)"
   ]
  },
  {
   "cell_type": "code",
   "execution_count": 359,
   "id": "9c2fd158",
   "metadata": {},
   "outputs": [
    {
     "name": "stdout",
     "output_type": "stream",
     "text": [
      "Duração: 1.716918\n",
      "Recall: 0.5457627118644067\n"
     ]
    }
   ],
   "source": [
    "avaliacaoRecall(True)"
   ]
  },
  {
   "cell_type": "code",
   "execution_count": 360,
   "id": "40b9a360",
   "metadata": {},
   "outputs": [
    {
     "name": "stdout",
     "output_type": "stream",
     "text": [
      "P@ 20: 0.027288 \n"
     ]
    }
   ],
   "source": [
    "avaliacaoPrecision(True,20)"
   ]
  },
  {
   "cell_type": "code",
   "execution_count": 361,
   "id": "ef2e0419",
   "metadata": {},
   "outputs": [
    {
     "name": "stdout",
     "output_type": "stream",
     "text": [
      "MAP@ 20: 0.000569\n"
     ]
    }
   ],
   "source": [
    "avaliacaoMAP(True,20)"
   ]
  },
  {
   "cell_type": "code",
   "execution_count": 362,
   "id": "ad2e3bb0",
   "metadata": {},
   "outputs": [
    {
     "name": "stdout",
     "output_type": "stream",
     "text": [
      "RR: 0.288136\n"
     ]
    }
   ],
   "source": [
    "avaliacaoRR(True)"
   ]
  },
  {
   "cell_type": "markdown",
   "id": "bc2bd899",
   "metadata": {},
   "source": [
    "# Word n-gram + pré processamento básico + RSLP"
   ]
  },
  {
   "cell_type": "markdown",
   "id": "5111ba55",
   "metadata": {},
   "source": [
    "## 20- Letra mínuscula + remoção de pontuação, acentuação e stopword + stemming (RSLP) + unigram + bigram"
   ]
  },
  {
   "cell_type": "code",
   "execution_count": 363,
   "id": "8ed8ad46",
   "metadata": {},
   "outputs": [],
   "source": [
    "def _remove_acentos(txt):\n",
    "    return normalize('NFKD', txt).encode('ASCII', 'ignore').decode('ASCII')\n",
    "\n",
    "def preprocess(txt):\n",
    "    txt = _remove_acentos(txt)\n",
    "    stopwords = nltk.corpus.stopwords.words(\"portuguese\")\n",
    "    stopwords.extend(list(punctuation))\n",
    "\n",
    "    stemmer = RSLPStemmer()\n",
    "    tokenizer = RegexpTokenizer('\\w+')\n",
    "    terms = tokenizer.tokenize(txt.lower())\n",
    "    terms = [stemmer.stem(word) for word in terms if word not in stopwords]\n",
    "    \n",
    "    ngram = []\n",
    "    ngram_1 = list(ngrams(terms, 1))\n",
    "    ngram_2 = list(ngrams(terms, 2))\n",
    "    for w in ngram_1:\n",
    "        ngram.append(w[0])\n",
    "        \n",
    "    for w in ngram_2:\n",
    "        string = w[0] + \"_\" + w[1]\n",
    "        ngram.append(string)\n",
    "    \n",
    "    return \" \".join(ngram)\n"
   ]
  },
  {
   "cell_type": "code",
   "execution_count": 364,
   "id": "1c052759",
   "metadata": {},
   "outputs": [],
   "source": [
    "indice = \"preprocessamento_18_emenda\""
   ]
  },
  {
   "cell_type": "markdown",
   "id": "166a7c04",
   "metadata": {},
   "source": [
    "## Avaliação"
   ]
  },
  {
   "cell_type": "markdown",
   "id": "f524c0d7",
   "metadata": {},
   "source": [
    "#### TOP K 5"
   ]
  },
  {
   "cell_type": "code",
   "execution_count": 365,
   "id": "cac27a64",
   "metadata": {},
   "outputs": [],
   "source": [
    "retriever = retrieve.Elastic(es=es,on=[\"content\"],index=indice,key=\"name\",k=5)"
   ]
  },
  {
   "cell_type": "code",
   "execution_count": 366,
   "id": "3ce771d8",
   "metadata": {},
   "outputs": [
    {
     "name": "stdout",
     "output_type": "stream",
     "text": [
      "Duração: 3.705877\n",
      "Recall: 0.4542372881355932\n"
     ]
    }
   ],
   "source": [
    "avaliacaoRecall(True)"
   ]
  },
  {
   "cell_type": "code",
   "execution_count": 367,
   "id": "fd22ac9a",
   "metadata": {},
   "outputs": [
    {
     "name": "stdout",
     "output_type": "stream",
     "text": [
      "P@ 5: 0.090847 \n"
     ]
    }
   ],
   "source": [
    "avaliacaoPrecision(True,5)"
   ]
  },
  {
   "cell_type": "code",
   "execution_count": 368,
   "id": "225b54ec",
   "metadata": {},
   "outputs": [
    {
     "name": "stdout",
     "output_type": "stream",
     "text": [
      "MAP@ 5: 0.001966\n"
     ]
    }
   ],
   "source": [
    "avaliacaoMAP(True,5)"
   ]
  },
  {
   "cell_type": "code",
   "execution_count": 369,
   "id": "c7828135",
   "metadata": {},
   "outputs": [
    {
     "name": "stdout",
     "output_type": "stream",
     "text": [
      "RR: 0.301695\n"
     ]
    }
   ],
   "source": [
    "avaliacaoRR(True)"
   ]
  },
  {
   "cell_type": "markdown",
   "id": "8b73dc0d",
   "metadata": {},
   "source": [
    "#### TOP K 10"
   ]
  },
  {
   "cell_type": "code",
   "execution_count": 370,
   "id": "6daeb5d9",
   "metadata": {},
   "outputs": [],
   "source": [
    "retriever = retrieve.Elastic(es=es,on=[\"content\"],index=indice,key=\"name\",k=10)"
   ]
  },
  {
   "cell_type": "code",
   "execution_count": 371,
   "id": "7d951d15",
   "metadata": {},
   "outputs": [
    {
     "name": "stdout",
     "output_type": "stream",
     "text": [
      "Duração: 2.452944\n",
      "Recall: 0.49830508474576274\n"
     ]
    }
   ],
   "source": [
    "avaliacaoRecall(True)"
   ]
  },
  {
   "cell_type": "code",
   "execution_count": 372,
   "id": "ba1b5af1",
   "metadata": {},
   "outputs": [
    {
     "name": "stdout",
     "output_type": "stream",
     "text": [
      "P@ 10: 0.049831 \n"
     ]
    }
   ],
   "source": [
    "avaliacaoPrecision(True,10)"
   ]
  },
  {
   "cell_type": "code",
   "execution_count": 373,
   "id": "39254461",
   "metadata": {},
   "outputs": [
    {
     "name": "stdout",
     "output_type": "stream",
     "text": [
      "MAP@ 10: 0.001059\n"
     ]
    }
   ],
   "source": [
    "avaliacaoMAP(True,10)"
   ]
  },
  {
   "cell_type": "code",
   "execution_count": 374,
   "id": "4a1767e2",
   "metadata": {},
   "outputs": [
    {
     "name": "stdout",
     "output_type": "stream",
     "text": [
      "RR: 0.301695\n"
     ]
    }
   ],
   "source": [
    "avaliacaoRR(True)"
   ]
  },
  {
   "cell_type": "markdown",
   "id": "cd6c8ac1",
   "metadata": {},
   "source": [
    "#### TOP K 20"
   ]
  },
  {
   "cell_type": "code",
   "execution_count": 375,
   "id": "042e9506",
   "metadata": {},
   "outputs": [],
   "source": [
    "retriever = retrieve.Elastic(es=es,on=[\"content\"],index=indice,key=\"name\",k=20)"
   ]
  },
  {
   "cell_type": "code",
   "execution_count": 376,
   "id": "6ccafc4f",
   "metadata": {},
   "outputs": [
    {
     "name": "stdout",
     "output_type": "stream",
     "text": [
      "Duração: 2.616044\n",
      "Recall: 0.5322033898305085\n"
     ]
    }
   ],
   "source": [
    "avaliacaoRecall(True)"
   ]
  },
  {
   "cell_type": "code",
   "execution_count": 377,
   "id": "1ccbed87",
   "metadata": {},
   "outputs": [
    {
     "name": "stdout",
     "output_type": "stream",
     "text": [
      "P@ 20: 0.026610 \n"
     ]
    }
   ],
   "source": [
    "avaliacaoPrecision(True,20)"
   ]
  },
  {
   "cell_type": "code",
   "execution_count": 378,
   "id": "31cbc34d",
   "metadata": {},
   "outputs": [
    {
     "name": "stdout",
     "output_type": "stream",
     "text": [
      "MAP@ 20: 0.000562\n"
     ]
    }
   ],
   "source": [
    "avaliacaoMAP(True,20)"
   ]
  },
  {
   "cell_type": "code",
   "execution_count": 379,
   "id": "6c57181d",
   "metadata": {},
   "outputs": [
    {
     "name": "stdout",
     "output_type": "stream",
     "text": [
      "RR: 0.301695\n"
     ]
    }
   ],
   "source": [
    "avaliacaoRR(True)"
   ]
  },
  {
   "cell_type": "markdown",
   "id": "9d3d63b2",
   "metadata": {},
   "source": [
    "# Word n-gram + pré processamento básico + Savoy"
   ]
  },
  {
   "cell_type": "markdown",
   "id": "055bf66b",
   "metadata": {},
   "source": [
    "## 26- Letra mínuscula + remoção de pontuação, acentuação e stopword + stemming (Savoy) + unigram + bigram"
   ]
  },
  {
   "cell_type": "code",
   "execution_count": 380,
   "id": "1861f9cc",
   "metadata": {},
   "outputs": [],
   "source": [
    "def _remove_acentos(txt):\n",
    "    return normalize('NFKD', txt).encode('ASCII', 'ignore').decode('ASCII')\n",
    "\n",
    "def preprocess(txt):\n",
    "    txt = _remove_acentos(txt)\n",
    "    stopwords = nltk.corpus.stopwords.words(\"portuguese\")\n",
    "    stopwords.extend(list(punctuation))\n",
    "\n",
    "    stemmer = Savoy()\n",
    "    tokenizer = RegexpTokenizer('\\w+')\n",
    "    terms = tokenizer.tokenize(txt.lower())\n",
    "    terms = [stemmer.stem(word) for word in terms if word not in stopwords]\n",
    "    \n",
    "    ngram = []\n",
    "    ngram_1 = list(ngrams(terms, 1))\n",
    "    ngram_2 = list(ngrams(terms, 2))\n",
    "    for w in ngram_1:\n",
    "        ngram.append(w[0])\n",
    "        \n",
    "    for w in ngram_2:\n",
    "        string = w[0] + \"_\" + w[1]\n",
    "        ngram.append(string)\n",
    "    \n",
    "    return \" \".join(ngram)\n"
   ]
  },
  {
   "cell_type": "code",
   "execution_count": 381,
   "id": "d88b5ceb",
   "metadata": {},
   "outputs": [],
   "source": [
    "indice = \"preprocessamento_21_emenda\""
   ]
  },
  {
   "cell_type": "markdown",
   "id": "a7be11c8",
   "metadata": {},
   "source": [
    "## Avaliação"
   ]
  },
  {
   "cell_type": "markdown",
   "id": "5b8748df",
   "metadata": {},
   "source": [
    "#### TOP K 5"
   ]
  },
  {
   "cell_type": "code",
   "execution_count": 382,
   "id": "83f799f1",
   "metadata": {},
   "outputs": [],
   "source": [
    "retriever = retrieve.Elastic(es=es,on=[\"content\"],index=indice,key=\"name\",k=5)"
   ]
  },
  {
   "cell_type": "code",
   "execution_count": 383,
   "id": "01cd6ebd",
   "metadata": {},
   "outputs": [
    {
     "name": "stdout",
     "output_type": "stream",
     "text": [
      "Duração: 3.712846\n",
      "Recall: 0.4576271186440678\n"
     ]
    }
   ],
   "source": [
    "avaliacaoRecall(True)"
   ]
  },
  {
   "cell_type": "code",
   "execution_count": 384,
   "id": "b3a8d4a5",
   "metadata": {},
   "outputs": [
    {
     "name": "stdout",
     "output_type": "stream",
     "text": [
      "P@ 5: 0.091525 \n"
     ]
    }
   ],
   "source": [
    "avaliacaoPrecision(True,5)"
   ]
  },
  {
   "cell_type": "code",
   "execution_count": 385,
   "id": "a67edb30",
   "metadata": {},
   "outputs": [
    {
     "name": "stdout",
     "output_type": "stream",
     "text": [
      "MAP@ 5: 0.001965\n"
     ]
    }
   ],
   "source": [
    "avaliacaoMAP(True,5)"
   ]
  },
  {
   "cell_type": "code",
   "execution_count": 386,
   "id": "288ada7b",
   "metadata": {},
   "outputs": [
    {
     "name": "stdout",
     "output_type": "stream",
     "text": [
      "RR: 0.301695\n"
     ]
    }
   ],
   "source": [
    "avaliacaoRR(True)"
   ]
  },
  {
   "cell_type": "markdown",
   "id": "c21a104c",
   "metadata": {},
   "source": [
    "#### TOP K 10"
   ]
  },
  {
   "cell_type": "code",
   "execution_count": 387,
   "id": "27ce97d2",
   "metadata": {},
   "outputs": [],
   "source": [
    "retriever = retrieve.Elastic(es=es,on=[\"content\"],index=indice,key=\"name\",k=10)"
   ]
  },
  {
   "cell_type": "code",
   "execution_count": 388,
   "id": "68dfe888",
   "metadata": {},
   "outputs": [
    {
     "name": "stdout",
     "output_type": "stream",
     "text": [
      "Duração: 2.279651\n",
      "Recall: 0.5050847457627119\n"
     ]
    }
   ],
   "source": [
    "avaliacaoRecall(True)"
   ]
  },
  {
   "cell_type": "code",
   "execution_count": 389,
   "id": "64d787c6",
   "metadata": {},
   "outputs": [
    {
     "name": "stdout",
     "output_type": "stream",
     "text": [
      "P@ 10: 0.050508 \n"
     ]
    }
   ],
   "source": [
    "avaliacaoPrecision(True,10)"
   ]
  },
  {
   "cell_type": "code",
   "execution_count": 390,
   "id": "c49e1ee9",
   "metadata": {},
   "outputs": [
    {
     "name": "stdout",
     "output_type": "stream",
     "text": [
      "MAP@ 10: 0.001074\n"
     ]
    }
   ],
   "source": [
    "avaliacaoMAP(True,10)"
   ]
  },
  {
   "cell_type": "code",
   "execution_count": 391,
   "id": "0d7bb25c",
   "metadata": {},
   "outputs": [
    {
     "name": "stdout",
     "output_type": "stream",
     "text": [
      "RR: 0.301695\n"
     ]
    }
   ],
   "source": [
    "avaliacaoRR(True)"
   ]
  },
  {
   "cell_type": "markdown",
   "id": "e6f898dd",
   "metadata": {},
   "source": [
    "#### TOP K 20"
   ]
  },
  {
   "cell_type": "code",
   "execution_count": 392,
   "id": "87b86f6f",
   "metadata": {},
   "outputs": [],
   "source": [
    "retriever = retrieve.Elastic(es=es,on=[\"content\"],index=indice,key=\"name\",k=20)"
   ]
  },
  {
   "cell_type": "code",
   "execution_count": 393,
   "id": "9a1cbd8c",
   "metadata": {},
   "outputs": [
    {
     "name": "stdout",
     "output_type": "stream",
     "text": [
      "Duração: 2.182982\n",
      "Recall: 0.5220338983050847\n"
     ]
    }
   ],
   "source": [
    "avaliacaoRecall(True)"
   ]
  },
  {
   "cell_type": "code",
   "execution_count": 394,
   "id": "b5fd178a",
   "metadata": {},
   "outputs": [
    {
     "name": "stdout",
     "output_type": "stream",
     "text": [
      "P@ 20: 0.026102 \n"
     ]
    }
   ],
   "source": [
    "avaliacaoPrecision(True,20)"
   ]
  },
  {
   "cell_type": "code",
   "execution_count": 395,
   "id": "49bd0426",
   "metadata": {},
   "outputs": [
    {
     "name": "stdout",
     "output_type": "stream",
     "text": [
      "MAP@ 20: 0.000559\n"
     ]
    }
   ],
   "source": [
    "avaliacaoMAP(True,20)"
   ]
  },
  {
   "cell_type": "code",
   "execution_count": 396,
   "id": "126198f2",
   "metadata": {},
   "outputs": [
    {
     "name": "stdout",
     "output_type": "stream",
     "text": [
      "RR: 0.301695\n"
     ]
    }
   ],
   "source": [
    "avaliacaoRR(True)"
   ]
  },
  {
   "cell_type": "markdown",
   "id": "bb155dc9",
   "metadata": {},
   "source": [
    "## 22- Letra mínuscula + remoção de pontuação + remoção de acentuação e remoção de stopword + stemming (RSLP-S)"
   ]
  },
  {
   "cell_type": "code",
   "execution_count": 397,
   "id": "45a00f66",
   "metadata": {},
   "outputs": [],
   "source": [
    "def _remove_acentos(txt):\n",
    "    return normalize('NFKD', txt).encode('ASCII', 'ignore').decode('ASCII')\n",
    "\n",
    "def preprocess(txt):\n",
    "    txt = _remove_acentos(txt)\n",
    "    stopwords = nltk.corpus.stopwords.words(\"portuguese\")\n",
    "    stopwords.extend(list(punctuation))\n",
    "\n",
    "    stemmer = RSLP_S()\n",
    "    tokenizer = RegexpTokenizer('\\w+')\n",
    "    terms = tokenizer.tokenize(txt.lower())\n",
    "    terms = [stemmer.stem(word) for word in terms if word not in stopwords]\n",
    "        \n",
    "    return \" \".join(terms)"
   ]
  },
  {
   "cell_type": "code",
   "execution_count": 398,
   "id": "ae04434b",
   "metadata": {},
   "outputs": [],
   "source": [
    "indice = \"preprocessamento_22_emenda\""
   ]
  },
  {
   "cell_type": "markdown",
   "id": "7fb54515",
   "metadata": {},
   "source": [
    "## Avaliação"
   ]
  },
  {
   "cell_type": "markdown",
   "id": "16a9efdd",
   "metadata": {},
   "source": [
    "#### TOP K 5"
   ]
  },
  {
   "cell_type": "code",
   "execution_count": 399,
   "id": "50bacf13",
   "metadata": {},
   "outputs": [],
   "source": [
    "retriever = retrieve.Elastic(es=es,on=[\"content\"],index=indice,key=\"name\",k=5)"
   ]
  },
  {
   "cell_type": "code",
   "execution_count": 400,
   "id": "19452339",
   "metadata": {},
   "outputs": [
    {
     "name": "stdout",
     "output_type": "stream",
     "text": [
      "Duração: 2.315923\n",
      "Recall: 0.4271186440677966\n"
     ]
    }
   ],
   "source": [
    "avaliacaoRecall(True)"
   ]
  },
  {
   "cell_type": "code",
   "execution_count": 401,
   "id": "8668dd5c",
   "metadata": {},
   "outputs": [
    {
     "name": "stdout",
     "output_type": "stream",
     "text": [
      "P@ 5: 0.085424 \n"
     ]
    }
   ],
   "source": [
    "avaliacaoPrecision(True,5)"
   ]
  },
  {
   "cell_type": "code",
   "execution_count": 402,
   "id": "f57bca1f",
   "metadata": {},
   "outputs": [
    {
     "name": "stdout",
     "output_type": "stream",
     "text": [
      "MAP@ 5: 0.001772\n"
     ]
    }
   ],
   "source": [
    "avaliacaoMAP(True,5)"
   ]
  },
  {
   "cell_type": "code",
   "execution_count": 403,
   "id": "0e7e4206",
   "metadata": {},
   "outputs": [
    {
     "name": "stdout",
     "output_type": "stream",
     "text": [
      "RR: 0.281356\n"
     ]
    }
   ],
   "source": [
    "avaliacaoRR(True)"
   ]
  },
  {
   "cell_type": "markdown",
   "id": "713766f9",
   "metadata": {},
   "source": [
    "#### TOP K 10"
   ]
  },
  {
   "cell_type": "code",
   "execution_count": 404,
   "id": "12e49fd3",
   "metadata": {},
   "outputs": [],
   "source": [
    "retriever = retrieve.Elastic(es=es,on=[\"content\"],index=indice,key=\"name\",k=10)"
   ]
  },
  {
   "cell_type": "code",
   "execution_count": 405,
   "id": "993fbf18",
   "metadata": {},
   "outputs": [
    {
     "name": "stdout",
     "output_type": "stream",
     "text": [
      "Duração: 1.521955\n",
      "Recall: 0.488135593220339\n"
     ]
    }
   ],
   "source": [
    "avaliacaoRecall(True)"
   ]
  },
  {
   "cell_type": "code",
   "execution_count": 406,
   "id": "252d9f95",
   "metadata": {},
   "outputs": [
    {
     "name": "stdout",
     "output_type": "stream",
     "text": [
      "P@ 10: 0.048814 \n"
     ]
    }
   ],
   "source": [
    "avaliacaoPrecision(True,10)"
   ]
  },
  {
   "cell_type": "code",
   "execution_count": 407,
   "id": "80f5487e",
   "metadata": {},
   "outputs": [
    {
     "name": "stdout",
     "output_type": "stream",
     "text": [
      "MAP@ 10: 0.001055\n"
     ]
    }
   ],
   "source": [
    "avaliacaoMAP(True,10)"
   ]
  },
  {
   "cell_type": "code",
   "execution_count": 408,
   "id": "9b1f0b77",
   "metadata": {},
   "outputs": [
    {
     "name": "stdout",
     "output_type": "stream",
     "text": [
      "RR: 0.281356\n"
     ]
    }
   ],
   "source": [
    "avaliacaoRR(True)"
   ]
  },
  {
   "cell_type": "markdown",
   "id": "99834da3",
   "metadata": {},
   "source": [
    "#### TOP K 20"
   ]
  },
  {
   "cell_type": "code",
   "execution_count": 409,
   "id": "3eaddefe",
   "metadata": {},
   "outputs": [],
   "source": [
    "retriever = retrieve.Elastic(es=es,on=[\"content\"],index=indice,key=\"name\",k=20)"
   ]
  },
  {
   "cell_type": "code",
   "execution_count": 410,
   "id": "5ab85b0e",
   "metadata": {},
   "outputs": [
    {
     "name": "stdout",
     "output_type": "stream",
     "text": [
      "Duração: 1.577729\n",
      "Recall: 0.5186440677966102\n"
     ]
    }
   ],
   "source": [
    "avaliacaoRecall(True)"
   ]
  },
  {
   "cell_type": "code",
   "execution_count": 411,
   "id": "f721a8be",
   "metadata": {},
   "outputs": [
    {
     "name": "stdout",
     "output_type": "stream",
     "text": [
      "P@ 20: 0.025932 \n"
     ]
    }
   ],
   "source": [
    "avaliacaoPrecision(True,20)"
   ]
  },
  {
   "cell_type": "code",
   "execution_count": 412,
   "id": "a922c8bb",
   "metadata": {},
   "outputs": [
    {
     "name": "stdout",
     "output_type": "stream",
     "text": [
      "MAP@ 20: 0.000554\n"
     ]
    }
   ],
   "source": [
    "avaliacaoMAP(True,20)"
   ]
  },
  {
   "cell_type": "code",
   "execution_count": 413,
   "id": "3773247f",
   "metadata": {},
   "outputs": [
    {
     "name": "stdout",
     "output_type": "stream",
     "text": [
      "RR: 0.281356\n"
     ]
    }
   ],
   "source": [
    "avaliacaoRR(True)"
   ]
  },
  {
   "cell_type": "markdown",
   "id": "b3f08229",
   "metadata": {},
   "source": [
    "## 23- Letra mínuscula + remoção de pontuação, acentuação e stopword + stemming (RSLP-S) + unigram + bigram"
   ]
  },
  {
   "cell_type": "code",
   "execution_count": 414,
   "id": "5b7a5687",
   "metadata": {},
   "outputs": [],
   "source": [
    "def _remove_acentos(txt):\n",
    "    return normalize('NFKD', txt).encode('ASCII', 'ignore').decode('ASCII')\n",
    "\n",
    "def preprocess(txt):\n",
    "    txt = _remove_acentos(txt)\n",
    "    stopwords = nltk.corpus.stopwords.words(\"portuguese\")\n",
    "    stopwords.extend(list(punctuation))\n",
    "\n",
    "    stemmer = RSLP_S()\n",
    "    tokenizer = RegexpTokenizer('\\w+')\n",
    "    terms = tokenizer.tokenize(txt.lower())\n",
    "    terms = [stemmer.stem(word) for word in terms if word not in stopwords]\n",
    "    \n",
    "    ngram = []\n",
    "    ngram_1 = list(ngrams(terms, 1))\n",
    "    ngram_2 = list(ngrams(terms, 2))\n",
    "    for w in ngram_1:\n",
    "        ngram.append(w[0])\n",
    "        \n",
    "    for w in ngram_2:\n",
    "        string = w[0] + \"_\" + w[1]\n",
    "        ngram.append(string)\n",
    "    \n",
    "    return \" \".join(ngram)\n"
   ]
  },
  {
   "cell_type": "code",
   "execution_count": 415,
   "id": "bb040d4e",
   "metadata": {},
   "outputs": [],
   "source": [
    "indice = \"preprocessamento_23_emenda\""
   ]
  },
  {
   "cell_type": "markdown",
   "id": "7d7b3445",
   "metadata": {},
   "source": [
    "## Avaliação"
   ]
  },
  {
   "cell_type": "markdown",
   "id": "328f9b7c",
   "metadata": {},
   "source": [
    "#### TOP K 5"
   ]
  },
  {
   "cell_type": "code",
   "execution_count": 416,
   "id": "9bdad9b9",
   "metadata": {},
   "outputs": [],
   "source": [
    "retriever = retrieve.Elastic(es=es,on=[\"content\"],index=indice,key=\"name\",k=5)"
   ]
  },
  {
   "cell_type": "code",
   "execution_count": 417,
   "id": "5220b478",
   "metadata": {},
   "outputs": [
    {
     "name": "stdout",
     "output_type": "stream",
     "text": [
      "Duração: 3.965345\n",
      "Recall: 0.45084745762711864\n"
     ]
    }
   ],
   "source": [
    "avaliacaoRecall(True)"
   ]
  },
  {
   "cell_type": "code",
   "execution_count": 418,
   "id": "67331600",
   "metadata": {},
   "outputs": [
    {
     "name": "stdout",
     "output_type": "stream",
     "text": [
      "P@ 5: 0.090169 \n"
     ]
    }
   ],
   "source": [
    "avaliacaoPrecision(True,5)"
   ]
  },
  {
   "cell_type": "code",
   "execution_count": 419,
   "id": "2846caf7",
   "metadata": {},
   "outputs": [
    {
     "name": "stdout",
     "output_type": "stream",
     "text": [
      "MAP@ 5: 0.001821\n"
     ]
    }
   ],
   "source": [
    "avaliacaoMAP(True,5)"
   ]
  },
  {
   "cell_type": "code",
   "execution_count": 420,
   "id": "0ffeb386",
   "metadata": {},
   "outputs": [
    {
     "name": "stdout",
     "output_type": "stream",
     "text": [
      "RR: 0.294915\n"
     ]
    }
   ],
   "source": [
    "avaliacaoRR(True)"
   ]
  },
  {
   "cell_type": "markdown",
   "id": "ea3f20dc",
   "metadata": {},
   "source": [
    "#### TOP K 10"
   ]
  },
  {
   "cell_type": "code",
   "execution_count": 421,
   "id": "30db6edb",
   "metadata": {},
   "outputs": [],
   "source": [
    "retriever = retrieve.Elastic(es=es,on=[\"content\"],index=indice,key=\"name\",k=10)"
   ]
  },
  {
   "cell_type": "code",
   "execution_count": 422,
   "id": "672943fe",
   "metadata": {},
   "outputs": [
    {
     "name": "stdout",
     "output_type": "stream",
     "text": [
      "Duração: 2.030308\n",
      "Recall: 0.49491525423728816\n"
     ]
    }
   ],
   "source": [
    "avaliacaoRecall(True)"
   ]
  },
  {
   "cell_type": "code",
   "execution_count": 423,
   "id": "b4ca952e",
   "metadata": {},
   "outputs": [
    {
     "name": "stdout",
     "output_type": "stream",
     "text": [
      "P@ 10: 0.049492 \n"
     ]
    }
   ],
   "source": [
    "avaliacaoPrecision(True,10)"
   ]
  },
  {
   "cell_type": "code",
   "execution_count": 424,
   "id": "fa5a5b0d",
   "metadata": {},
   "outputs": [
    {
     "name": "stdout",
     "output_type": "stream",
     "text": [
      "MAP@ 10: 0.001057\n"
     ]
    }
   ],
   "source": [
    "avaliacaoMAP(True,10)"
   ]
  },
  {
   "cell_type": "code",
   "execution_count": 425,
   "id": "c339422b",
   "metadata": {},
   "outputs": [
    {
     "name": "stdout",
     "output_type": "stream",
     "text": [
      "RR: 0.294915\n"
     ]
    }
   ],
   "source": [
    "avaliacaoRR(True)"
   ]
  },
  {
   "cell_type": "markdown",
   "id": "f8c138d7",
   "metadata": {},
   "source": [
    "#### TOP K 20"
   ]
  },
  {
   "cell_type": "code",
   "execution_count": 426,
   "id": "f76f54b2",
   "metadata": {},
   "outputs": [],
   "source": [
    "retriever = retrieve.Elastic(es=es,on=[\"content\"],index=indice,key=\"name\",k=20)"
   ]
  },
  {
   "cell_type": "code",
   "execution_count": 427,
   "id": "896b7e19",
   "metadata": {},
   "outputs": [
    {
     "name": "stdout",
     "output_type": "stream",
     "text": [
      "Duração: 2.029329\n",
      "Recall: 0.5084745762711864\n"
     ]
    }
   ],
   "source": [
    "avaliacaoRecall(True)"
   ]
  },
  {
   "cell_type": "code",
   "execution_count": 428,
   "id": "087bcf73",
   "metadata": {},
   "outputs": [
    {
     "name": "stdout",
     "output_type": "stream",
     "text": [
      "P@ 20: 0.025424 \n"
     ]
    }
   ],
   "source": [
    "avaliacaoPrecision(True,20)"
   ]
  },
  {
   "cell_type": "code",
   "execution_count": 429,
   "id": "20618a95",
   "metadata": {},
   "outputs": [
    {
     "name": "stdout",
     "output_type": "stream",
     "text": [
      "MAP@ 20: 0.000550\n"
     ]
    }
   ],
   "source": [
    "avaliacaoMAP(True,20)"
   ]
  },
  {
   "cell_type": "code",
   "execution_count": 430,
   "id": "5d20c971",
   "metadata": {},
   "outputs": [
    {
     "name": "stdout",
     "output_type": "stream",
     "text": [
      "RR: 0.294915\n"
     ]
    }
   ],
   "source": [
    "avaliacaoRR(True)"
   ]
  },
  {
   "cell_type": "markdown",
   "id": "a1113f1c",
   "metadata": {},
   "source": [
    "# Emenda + Indexacao"
   ]
  },
  {
   "cell_type": "markdown",
   "id": "2f2aab68",
   "metadata": {},
   "source": [
    "## 1- Sem pré processamento"
   ]
  },
  {
   "cell_type": "code",
   "execution_count": 431,
   "id": "5b1fb2d5",
   "metadata": {},
   "outputs": [],
   "source": [
    "indice = \"sem_preprocessamento_emenda_indexacao\""
   ]
  },
  {
   "cell_type": "markdown",
   "id": "1306cccc",
   "metadata": {},
   "source": [
    "## Avaliação"
   ]
  },
  {
   "cell_type": "markdown",
   "id": "56fce8d4",
   "metadata": {},
   "source": [
    "#### TOP K 5"
   ]
  },
  {
   "cell_type": "code",
   "execution_count": 432,
   "id": "e50cb6f9",
   "metadata": {},
   "outputs": [],
   "source": [
    "retriever = retrieve.Elastic(es=es,on=[\"content\"],index=indice,key=\"name\",k=5)"
   ]
  },
  {
   "cell_type": "code",
   "execution_count": 433,
   "id": "08a3315f",
   "metadata": {},
   "outputs": [
    {
     "name": "stdout",
     "output_type": "stream",
     "text": [
      "Duração: 5.003151\n",
      "Recall: 0.43050847457627117\n"
     ]
    }
   ],
   "source": [
    "avaliacaoRecall(False)"
   ]
  },
  {
   "cell_type": "code",
   "execution_count": 434,
   "id": "7784ae36",
   "metadata": {},
   "outputs": [
    {
     "name": "stdout",
     "output_type": "stream",
     "text": [
      "P@ 5: 0.086102 \n"
     ]
    }
   ],
   "source": [
    "avaliacaoPrecision(False,5)"
   ]
  },
  {
   "cell_type": "code",
   "execution_count": 435,
   "id": "46c1e345",
   "metadata": {},
   "outputs": [
    {
     "name": "stdout",
     "output_type": "stream",
     "text": [
      "MAP@ 5: 0.001758\n"
     ]
    }
   ],
   "source": [
    "avaliacaoMAP(False,5)"
   ]
  },
  {
   "cell_type": "code",
   "execution_count": 436,
   "id": "b7c249e4",
   "metadata": {},
   "outputs": [
    {
     "name": "stdout",
     "output_type": "stream",
     "text": [
      "RR: 0.244068\n"
     ]
    }
   ],
   "source": [
    "avaliacaoRR(False)"
   ]
  },
  {
   "cell_type": "markdown",
   "id": "103befa9",
   "metadata": {},
   "source": [
    "#### TOP K 10"
   ]
  },
  {
   "cell_type": "code",
   "execution_count": 437,
   "id": "07135bff",
   "metadata": {},
   "outputs": [],
   "source": [
    "retriever = retrieve.Elastic(es=es,on=[\"content\"],index=indice,key=\"name\",k=10)"
   ]
  },
  {
   "cell_type": "code",
   "execution_count": 438,
   "id": "da321aba",
   "metadata": {},
   "outputs": [
    {
     "name": "stdout",
     "output_type": "stream",
     "text": [
      "Duração: 4.319819\n",
      "Recall: 0.5016949152542373\n"
     ]
    }
   ],
   "source": [
    "avaliacaoRecall(False)"
   ]
  },
  {
   "cell_type": "code",
   "execution_count": 439,
   "id": "e34cbca8",
   "metadata": {},
   "outputs": [
    {
     "name": "stdout",
     "output_type": "stream",
     "text": [
      "P@ 10: 0.050169 \n"
     ]
    }
   ],
   "source": [
    "avaliacaoPrecision(False,10)"
   ]
  },
  {
   "cell_type": "code",
   "execution_count": 440,
   "id": "37b6fc6e",
   "metadata": {},
   "outputs": [
    {
     "name": "stdout",
     "output_type": "stream",
     "text": [
      "MAP@ 10: 0.001104\n"
     ]
    }
   ],
   "source": [
    "avaliacaoMAP(False,10)"
   ]
  },
  {
   "cell_type": "code",
   "execution_count": 441,
   "id": "3360f2e6",
   "metadata": {},
   "outputs": [
    {
     "name": "stdout",
     "output_type": "stream",
     "text": [
      "RR: 0.244068\n"
     ]
    }
   ],
   "source": [
    "avaliacaoRR(False)"
   ]
  },
  {
   "cell_type": "markdown",
   "id": "18d40955",
   "metadata": {},
   "source": [
    "#### TOP K 20"
   ]
  },
  {
   "cell_type": "code",
   "execution_count": 442,
   "id": "a3c78565",
   "metadata": {},
   "outputs": [],
   "source": [
    "retriever = retrieve.Elastic(es=es,on=[\"content\"],index=indice,key=\"name\",k=20)"
   ]
  },
  {
   "cell_type": "code",
   "execution_count": 443,
   "id": "fdf9e8f1",
   "metadata": {},
   "outputs": [
    {
     "name": "stdout",
     "output_type": "stream",
     "text": [
      "Duração: 4.459987\n",
      "Recall: 0.5491525423728814\n"
     ]
    }
   ],
   "source": [
    "avaliacaoRecall(False)"
   ]
  },
  {
   "cell_type": "code",
   "execution_count": 444,
   "id": "342710e7",
   "metadata": {},
   "outputs": [
    {
     "name": "stdout",
     "output_type": "stream",
     "text": [
      "P@ 20: 0.027458 \n"
     ]
    }
   ],
   "source": [
    "avaliacaoPrecision(False,20)"
   ]
  },
  {
   "cell_type": "code",
   "execution_count": 445,
   "id": "91e69b97",
   "metadata": {},
   "outputs": [
    {
     "name": "stdout",
     "output_type": "stream",
     "text": [
      "MAP@ 20: 0.000621\n"
     ]
    }
   ],
   "source": [
    "avaliacaoMAP(False,20)"
   ]
  },
  {
   "cell_type": "code",
   "execution_count": 446,
   "id": "cf499f11",
   "metadata": {},
   "outputs": [
    {
     "name": "stdout",
     "output_type": "stream",
     "text": [
      "RR: 0.244068\n"
     ]
    }
   ],
   "source": [
    "avaliacaoRR(False)"
   ]
  },
  {
   "cell_type": "markdown",
   "id": "f44e8e2d",
   "metadata": {},
   "source": [
    "## 5- Letra mínuscula + remoção de pontuação + remoção de acentuação e remoção de stopword\n"
   ]
  },
  {
   "cell_type": "code",
   "execution_count": 447,
   "id": "70b3ebfb",
   "metadata": {},
   "outputs": [],
   "source": [
    "def _remove_acentos(txt):\n",
    "    return normalize('NFKD', txt).encode('ASCII', 'ignore').decode('ASCII')\n",
    "\n",
    "def preprocess(txt):\n",
    "    txt = _remove_acentos(txt)\n",
    "    stopwords = nltk.corpus.stopwords.words(\"portuguese\")\n",
    "    stopwords.extend(list(punctuation))\n",
    "    tokenizer = RegexpTokenizer('\\w+')\n",
    "    terms = tokenizer.tokenize(txt.lower())\n",
    "    terms = [word for word in terms if word not in stopwords]\n",
    "    terms = \" \".join(terms)\n",
    "    return terms"
   ]
  },
  {
   "cell_type": "code",
   "execution_count": 448,
   "id": "02b1aa2d",
   "metadata": {},
   "outputs": [],
   "source": [
    "indice = \"preprocessamento_5_emenda_indexacao\""
   ]
  },
  {
   "cell_type": "markdown",
   "id": "350326c0",
   "metadata": {},
   "source": [
    "## Avaliação"
   ]
  },
  {
   "cell_type": "markdown",
   "id": "6bcb1bab",
   "metadata": {},
   "source": [
    "#### TOP K 5"
   ]
  },
  {
   "cell_type": "code",
   "execution_count": 449,
   "id": "8bb61fb3",
   "metadata": {},
   "outputs": [],
   "source": [
    "retriever = retrieve.Elastic(es=es,on=[\"content\"],index=indice,key=\"name\",k=5)"
   ]
  },
  {
   "cell_type": "code",
   "execution_count": 450,
   "id": "16f74c21",
   "metadata": {},
   "outputs": [
    {
     "name": "stdout",
     "output_type": "stream",
     "text": [
      "Duração: 2.754207\n",
      "Recall: 0.4406779661016949\n"
     ]
    }
   ],
   "source": [
    "avaliacaoRecall(True)"
   ]
  },
  {
   "cell_type": "code",
   "execution_count": 451,
   "id": "5493a299",
   "metadata": {},
   "outputs": [
    {
     "name": "stdout",
     "output_type": "stream",
     "text": [
      "P@ 5: 0.088136 \n"
     ]
    }
   ],
   "source": [
    "avaliacaoPrecision(True,5)"
   ]
  },
  {
   "cell_type": "code",
   "execution_count": 452,
   "id": "e16f6e7c",
   "metadata": {},
   "outputs": [
    {
     "name": "stdout",
     "output_type": "stream",
     "text": [
      "MAP@ 5: 0.001782\n"
     ]
    }
   ],
   "source": [
    "avaliacaoMAP(True,5)"
   ]
  },
  {
   "cell_type": "code",
   "execution_count": 453,
   "id": "7dbdd567",
   "metadata": {},
   "outputs": [
    {
     "name": "stdout",
     "output_type": "stream",
     "text": [
      "RR: 0.261017\n"
     ]
    }
   ],
   "source": [
    "avaliacaoRR(True)"
   ]
  },
  {
   "cell_type": "markdown",
   "id": "594289f7",
   "metadata": {},
   "source": [
    "#### TOP K 10"
   ]
  },
  {
   "cell_type": "code",
   "execution_count": 454,
   "id": "8eb0c216",
   "metadata": {},
   "outputs": [],
   "source": [
    "retriever = retrieve.Elastic(es=es,on=[\"content\"],index=indice,key=\"name\",k=10)"
   ]
  },
  {
   "cell_type": "code",
   "execution_count": 455,
   "id": "73095c18",
   "metadata": {},
   "outputs": [
    {
     "name": "stdout",
     "output_type": "stream",
     "text": [
      "Duração: 1.674593\n",
      "Recall: 0.5220338983050847\n"
     ]
    }
   ],
   "source": [
    "avaliacaoRecall(True)"
   ]
  },
  {
   "cell_type": "code",
   "execution_count": 456,
   "id": "dc7876fc",
   "metadata": {},
   "outputs": [
    {
     "name": "stdout",
     "output_type": "stream",
     "text": [
      "P@ 10: 0.052203 \n"
     ]
    }
   ],
   "source": [
    "avaliacaoPrecision(True,10)"
   ]
  },
  {
   "cell_type": "code",
   "execution_count": 457,
   "id": "0b626fac",
   "metadata": {},
   "outputs": [
    {
     "name": "stdout",
     "output_type": "stream",
     "text": [
      "MAP@ 10: 0.001042\n"
     ]
    }
   ],
   "source": [
    "avaliacaoMAP(True,10)"
   ]
  },
  {
   "cell_type": "code",
   "execution_count": 458,
   "id": "c4ff1bde",
   "metadata": {},
   "outputs": [
    {
     "name": "stdout",
     "output_type": "stream",
     "text": [
      "RR: 0.261017\n"
     ]
    }
   ],
   "source": [
    "avaliacaoRR(True)"
   ]
  },
  {
   "cell_type": "markdown",
   "id": "20ac5e99",
   "metadata": {},
   "source": [
    "#### TOP K 20"
   ]
  },
  {
   "cell_type": "code",
   "execution_count": 459,
   "id": "90a82a24",
   "metadata": {},
   "outputs": [],
   "source": [
    "retriever = retrieve.Elastic(es=es,on=[\"content\"],index=indice,key=\"name\",k=20)"
   ]
  },
  {
   "cell_type": "code",
   "execution_count": 460,
   "id": "86f0d738",
   "metadata": {},
   "outputs": [
    {
     "name": "stdout",
     "output_type": "stream",
     "text": [
      "Duração: 1.803471\n",
      "Recall: 0.5898305084745763\n"
     ]
    }
   ],
   "source": [
    "avaliacaoRecall(True)"
   ]
  },
  {
   "cell_type": "code",
   "execution_count": 461,
   "id": "2b00923a",
   "metadata": {},
   "outputs": [
    {
     "name": "stdout",
     "output_type": "stream",
     "text": [
      "P@ 20: 0.029492 \n"
     ]
    }
   ],
   "source": [
    "avaliacaoPrecision(True,20)"
   ]
  },
  {
   "cell_type": "code",
   "execution_count": 462,
   "id": "b0012bf1",
   "metadata": {},
   "outputs": [
    {
     "name": "stdout",
     "output_type": "stream",
     "text": [
      "MAP@ 20: 0.000659\n"
     ]
    }
   ],
   "source": [
    "avaliacaoMAP(True,20)"
   ]
  },
  {
   "cell_type": "code",
   "execution_count": 463,
   "id": "33e108ac",
   "metadata": {},
   "outputs": [
    {
     "name": "stdout",
     "output_type": "stream",
     "text": [
      "RR: 0.261017\n"
     ]
    }
   ],
   "source": [
    "avaliacaoRR(True)"
   ]
  },
  {
   "cell_type": "markdown",
   "id": "4d401742",
   "metadata": {},
   "source": [
    "## 9- Letra mínuscula + remoção de pontuação + remoção de acentuação e remoção de stopword + stemming (RSLP)"
   ]
  },
  {
   "cell_type": "code",
   "execution_count": 464,
   "id": "062d8875",
   "metadata": {},
   "outputs": [],
   "source": [
    "def _remove_acentos(txt):\n",
    "    return normalize('NFKD', txt).encode('ASCII', 'ignore').decode('ASCII')\n",
    "\n",
    "def preprocess(txt):\n",
    "    txt = _remove_acentos(txt)\n",
    "    stopwords = nltk.corpus.stopwords.words(\"portuguese\")\n",
    "    stopwords.extend(list(punctuation))\n",
    "\n",
    "    stemmer = RSLPStemmer()\n",
    "    tokenizer = RegexpTokenizer('\\w+')\n",
    "    terms = tokenizer.tokenize(txt.lower())\n",
    "    terms = [stemmer.stem(word) for word in terms if word not in stopwords]\n",
    "        \n",
    "    return \" \".join(terms)"
   ]
  },
  {
   "cell_type": "code",
   "execution_count": 465,
   "id": "91178deb",
   "metadata": {},
   "outputs": [],
   "source": [
    "indice = \"preprocessamento_8_emenda_indexacao\""
   ]
  },
  {
   "cell_type": "markdown",
   "id": "fdc21631",
   "metadata": {},
   "source": [
    "## Avaliação"
   ]
  },
  {
   "cell_type": "markdown",
   "id": "9cd43caf",
   "metadata": {},
   "source": [
    "#### TOP K 5"
   ]
  },
  {
   "cell_type": "code",
   "execution_count": 466,
   "id": "3d31f37c",
   "metadata": {},
   "outputs": [],
   "source": [
    "retriever = retrieve.Elastic(es=es,on=[\"content\"],index=indice,key=\"name\",k=5)"
   ]
  },
  {
   "cell_type": "code",
   "execution_count": 467,
   "id": "cf8ce1ca",
   "metadata": {},
   "outputs": [
    {
     "name": "stdout",
     "output_type": "stream",
     "text": [
      "Duração: 3.631899\n",
      "Recall: 0.46779661016949153\n"
     ]
    }
   ],
   "source": [
    "avaliacaoRecall(True)"
   ]
  },
  {
   "cell_type": "code",
   "execution_count": 468,
   "id": "83e41adf",
   "metadata": {},
   "outputs": [
    {
     "name": "stdout",
     "output_type": "stream",
     "text": [
      "P@ 5: 0.093559 \n"
     ]
    }
   ],
   "source": [
    "avaliacaoPrecision(True,5)"
   ]
  },
  {
   "cell_type": "code",
   "execution_count": 469,
   "id": "e4f92039",
   "metadata": {},
   "outputs": [
    {
     "name": "stdout",
     "output_type": "stream",
     "text": [
      "MAP@ 5: 0.001999\n"
     ]
    }
   ],
   "source": [
    "avaliacaoMAP(True,5)"
   ]
  },
  {
   "cell_type": "code",
   "execution_count": 470,
   "id": "8e414058",
   "metadata": {},
   "outputs": [
    {
     "name": "stdout",
     "output_type": "stream",
     "text": [
      "RR: 0.305085\n"
     ]
    }
   ],
   "source": [
    "avaliacaoRR(True)"
   ]
  },
  {
   "cell_type": "markdown",
   "id": "9b673522",
   "metadata": {},
   "source": [
    "#### TOP K 10"
   ]
  },
  {
   "cell_type": "code",
   "execution_count": 471,
   "id": "77fcd900",
   "metadata": {},
   "outputs": [],
   "source": [
    "retriever = retrieve.Elastic(es=es,on=[\"content\"],index=indice,key=\"name\",k=10)"
   ]
  },
  {
   "cell_type": "code",
   "execution_count": 472,
   "id": "016a1502",
   "metadata": {},
   "outputs": [
    {
     "name": "stdout",
     "output_type": "stream",
     "text": [
      "Duração: 2.524845\n",
      "Recall: 0.5559322033898305\n"
     ]
    }
   ],
   "source": [
    "avaliacaoRecall(True)"
   ]
  },
  {
   "cell_type": "code",
   "execution_count": 473,
   "id": "4a53a528",
   "metadata": {},
   "outputs": [
    {
     "name": "stdout",
     "output_type": "stream",
     "text": [
      "P@ 10: 0.055593 \n"
     ]
    }
   ],
   "source": [
    "avaliacaoPrecision(True,10)"
   ]
  },
  {
   "cell_type": "code",
   "execution_count": 474,
   "id": "75905913",
   "metadata": {},
   "outputs": [
    {
     "name": "stdout",
     "output_type": "stream",
     "text": [
      "MAP@ 10: 0.001300\n"
     ]
    }
   ],
   "source": [
    "avaliacaoMAP(True,10)"
   ]
  },
  {
   "cell_type": "code",
   "execution_count": 475,
   "id": "54a6bdee",
   "metadata": {},
   "outputs": [
    {
     "name": "stdout",
     "output_type": "stream",
     "text": [
      "RR: 0.305085\n"
     ]
    }
   ],
   "source": [
    "avaliacaoRR(True)"
   ]
  },
  {
   "cell_type": "markdown",
   "id": "9aefd225",
   "metadata": {},
   "source": [
    "#### TOP K 20"
   ]
  },
  {
   "cell_type": "code",
   "execution_count": 476,
   "id": "6c97953d",
   "metadata": {},
   "outputs": [],
   "source": [
    "retriever = retrieve.Elastic(es=es,on=[\"content\"],index=indice,key=\"name\",k=20)"
   ]
  },
  {
   "cell_type": "code",
   "execution_count": 477,
   "id": "55c01348",
   "metadata": {},
   "outputs": [
    {
     "name": "stdout",
     "output_type": "stream",
     "text": [
      "Duração: 2.801239\n",
      "Recall: 0.6\n"
     ]
    }
   ],
   "source": [
    "avaliacaoRecall(True)"
   ]
  },
  {
   "cell_type": "code",
   "execution_count": 478,
   "id": "5299ced1",
   "metadata": {},
   "outputs": [
    {
     "name": "stdout",
     "output_type": "stream",
     "text": [
      "P@ 20: 0.030000 \n"
     ]
    }
   ],
   "source": [
    "avaliacaoPrecision(True,20)"
   ]
  },
  {
   "cell_type": "code",
   "execution_count": 479,
   "id": "1770b748",
   "metadata": {},
   "outputs": [
    {
     "name": "stdout",
     "output_type": "stream",
     "text": [
      "MAP@ 20: 0.000715\n"
     ]
    }
   ],
   "source": [
    "avaliacaoMAP(True,20)"
   ]
  },
  {
   "cell_type": "code",
   "execution_count": 480,
   "id": "c5e2636d",
   "metadata": {},
   "outputs": [
    {
     "name": "stdout",
     "output_type": "stream",
     "text": [
      "RR: 0.305085\n"
     ]
    }
   ],
   "source": [
    "avaliacaoRR(True)"
   ]
  },
  {
   "cell_type": "markdown",
   "id": "cca9316f",
   "metadata": {},
   "source": [
    "## 11- Letra mínuscula + remoção de pontuação + remoção de acentuação e remoção de stopword + stemming (Savoy)"
   ]
  },
  {
   "cell_type": "code",
   "execution_count": 481,
   "id": "ecc48c24",
   "metadata": {},
   "outputs": [],
   "source": [
    "def _remove_acentos(txt):\n",
    "    return normalize('NFKD', txt).encode('ASCII', 'ignore').decode('ASCII')\n",
    "\n",
    "def preprocess(txt):\n",
    "    txt = _remove_acentos(txt)\n",
    "    stopwords = nltk.corpus.stopwords.words(\"portuguese\")\n",
    "    stopwords.extend(list(punctuation))\n",
    "\n",
    "    stemmer = Savoy()\n",
    "    tokenizer = RegexpTokenizer('\\w+')\n",
    "    terms = tokenizer.tokenize(txt.lower())\n",
    "    terms = [stemmer.stem(word) for word in terms if word not in stopwords]\n",
    "        \n",
    "    return \" \".join(terms)"
   ]
  },
  {
   "cell_type": "code",
   "execution_count": 482,
   "id": "ac4f71be",
   "metadata": {},
   "outputs": [],
   "source": [
    "indice = \"preprocessamento_9_emenda_indexacao\""
   ]
  },
  {
   "cell_type": "markdown",
   "id": "afbb62fb",
   "metadata": {},
   "source": [
    "## Avaliação"
   ]
  },
  {
   "cell_type": "markdown",
   "id": "0d4e6f87",
   "metadata": {},
   "source": [
    "#### TOP K 5"
   ]
  },
  {
   "cell_type": "code",
   "execution_count": 483,
   "id": "77103a30",
   "metadata": {},
   "outputs": [],
   "source": [
    "retriever = retrieve.Elastic(es=es,on=[\"content\"],index=indice,key=\"name\",k=5)"
   ]
  },
  {
   "cell_type": "code",
   "execution_count": 484,
   "id": "bde40fc7",
   "metadata": {},
   "outputs": [
    {
     "name": "stdout",
     "output_type": "stream",
     "text": [
      "Duração: 2.881931\n",
      "Recall: 0.47796610169491527\n"
     ]
    }
   ],
   "source": [
    "avaliacaoRecall(True)"
   ]
  },
  {
   "cell_type": "code",
   "execution_count": 485,
   "id": "3ef55b4a",
   "metadata": {},
   "outputs": [
    {
     "name": "stdout",
     "output_type": "stream",
     "text": [
      "P@ 5: 0.095593 \n"
     ]
    }
   ],
   "source": [
    "avaliacaoPrecision(True,5)"
   ]
  },
  {
   "cell_type": "code",
   "execution_count": 486,
   "id": "1d0b2232",
   "metadata": {},
   "outputs": [
    {
     "name": "stdout",
     "output_type": "stream",
     "text": [
      "MAP@ 5: 0.002015\n"
     ]
    }
   ],
   "source": [
    "avaliacaoMAP(True,5)"
   ]
  },
  {
   "cell_type": "code",
   "execution_count": 487,
   "id": "f7d40803",
   "metadata": {},
   "outputs": [
    {
     "name": "stdout",
     "output_type": "stream",
     "text": [
      "RR: 0.294915\n"
     ]
    }
   ],
   "source": [
    "avaliacaoRR(True)"
   ]
  },
  {
   "cell_type": "markdown",
   "id": "6a6ad6a8",
   "metadata": {},
   "source": [
    "#### TOP K 10"
   ]
  },
  {
   "cell_type": "code",
   "execution_count": 488,
   "id": "3a3dade4",
   "metadata": {},
   "outputs": [],
   "source": [
    "retriever = retrieve.Elastic(es=es,on=[\"content\"],index=indice,key=\"name\",k=10)"
   ]
  },
  {
   "cell_type": "code",
   "execution_count": 489,
   "id": "7545b20a",
   "metadata": {},
   "outputs": [
    {
     "name": "stdout",
     "output_type": "stream",
     "text": [
      "Duração: 2.064242\n",
      "Recall: 0.5457627118644067\n"
     ]
    }
   ],
   "source": [
    "avaliacaoRecall(True)"
   ]
  },
  {
   "cell_type": "code",
   "execution_count": 490,
   "id": "075537ac",
   "metadata": {},
   "outputs": [
    {
     "name": "stdout",
     "output_type": "stream",
     "text": [
      "P@ 10: 0.054576 \n"
     ]
    }
   ],
   "source": [
    "avaliacaoPrecision(True,10)"
   ]
  },
  {
   "cell_type": "code",
   "execution_count": 491,
   "id": "a5028680",
   "metadata": {},
   "outputs": [
    {
     "name": "stdout",
     "output_type": "stream",
     "text": [
      "MAP@ 10: 0.001145\n"
     ]
    }
   ],
   "source": [
    "avaliacaoMAP(True,10)"
   ]
  },
  {
   "cell_type": "code",
   "execution_count": 492,
   "id": "f50c3d5d",
   "metadata": {},
   "outputs": [
    {
     "name": "stdout",
     "output_type": "stream",
     "text": [
      "RR: 0.294915\n"
     ]
    }
   ],
   "source": [
    "avaliacaoRR(True)"
   ]
  },
  {
   "cell_type": "markdown",
   "id": "7a6fb722",
   "metadata": {},
   "source": [
    "#### TOP K 20"
   ]
  },
  {
   "cell_type": "code",
   "execution_count": 493,
   "id": "eaecb83b",
   "metadata": {},
   "outputs": [],
   "source": [
    "retriever = retrieve.Elastic(es=es,on=[\"content\"],index=indice,key=\"name\",k=20)"
   ]
  },
  {
   "cell_type": "code",
   "execution_count": 494,
   "id": "d81a03dd",
   "metadata": {},
   "outputs": [
    {
     "name": "stdout",
     "output_type": "stream",
     "text": [
      "Duração: 2.096312\n",
      "Recall: 0.6\n"
     ]
    }
   ],
   "source": [
    "avaliacaoRecall(True)"
   ]
  },
  {
   "cell_type": "code",
   "execution_count": 495,
   "id": "1c41618d",
   "metadata": {},
   "outputs": [
    {
     "name": "stdout",
     "output_type": "stream",
     "text": [
      "P@ 20: 0.030000 \n"
     ]
    }
   ],
   "source": [
    "avaliacaoPrecision(True,20)"
   ]
  },
  {
   "cell_type": "code",
   "execution_count": 496,
   "id": "6995f861",
   "metadata": {},
   "outputs": [
    {
     "name": "stdout",
     "output_type": "stream",
     "text": [
      "MAP@ 20: 0.000698\n"
     ]
    }
   ],
   "source": [
    "avaliacaoMAP(True,20)"
   ]
  },
  {
   "cell_type": "code",
   "execution_count": 497,
   "id": "d1c11d1e",
   "metadata": {},
   "outputs": [
    {
     "name": "stdout",
     "output_type": "stream",
     "text": [
      "RR: 0.294915\n"
     ]
    }
   ],
   "source": [
    "avaliacaoRR(True)"
   ]
  },
  {
   "cell_type": "markdown",
   "id": "ee888138",
   "metadata": {},
   "source": [
    "# Word n-gram + pré processamento básico + RSLP"
   ]
  },
  {
   "cell_type": "markdown",
   "id": "6d43bf8f",
   "metadata": {},
   "source": [
    "## 20- Letra mínuscula + remoção de pontuação, acentuação e stopword + stemming (RSLP) + unigram + bigram"
   ]
  },
  {
   "cell_type": "code",
   "execution_count": 498,
   "id": "552f902c",
   "metadata": {},
   "outputs": [],
   "source": [
    "def _remove_acentos(txt):\n",
    "    return normalize('NFKD', txt).encode('ASCII', 'ignore').decode('ASCII')\n",
    "\n",
    "def preprocess(txt):\n",
    "    txt = _remove_acentos(txt)\n",
    "    stopwords = nltk.corpus.stopwords.words(\"portuguese\")\n",
    "    stopwords.extend(list(punctuation))\n",
    "\n",
    "    stemmer = RSLPStemmer()\n",
    "    tokenizer = RegexpTokenizer('\\w+')\n",
    "    terms = tokenizer.tokenize(txt.lower())\n",
    "    terms = [stemmer.stem(word) for word in terms if word not in stopwords]\n",
    "    \n",
    "    ngram = []\n",
    "    ngram_1 = list(ngrams(terms, 1))\n",
    "    ngram_2 = list(ngrams(terms, 2))\n",
    "    for w in ngram_1:\n",
    "        ngram.append(w[0])\n",
    "        \n",
    "    for w in ngram_2:\n",
    "        string = w[0] + \"_\" + w[1]\n",
    "        ngram.append(string)\n",
    "    \n",
    "    return \" \".join(ngram)\n"
   ]
  },
  {
   "cell_type": "code",
   "execution_count": 499,
   "id": "bc3531e9",
   "metadata": {},
   "outputs": [],
   "source": [
    "indice = \"preprocessamento_18_emenda_indexacao\""
   ]
  },
  {
   "cell_type": "markdown",
   "id": "758e6fcf",
   "metadata": {},
   "source": [
    "## Avaliação"
   ]
  },
  {
   "cell_type": "markdown",
   "id": "4a6966be",
   "metadata": {},
   "source": [
    "#### TOP K 5"
   ]
  },
  {
   "cell_type": "code",
   "execution_count": 500,
   "id": "0e26a64b",
   "metadata": {},
   "outputs": [],
   "source": [
    "retriever = retrieve.Elastic(es=es,on=[\"content\"],index=indice,key=\"name\",k=5)"
   ]
  },
  {
   "cell_type": "code",
   "execution_count": 501,
   "id": "159542fb",
   "metadata": {},
   "outputs": [
    {
     "name": "stdout",
     "output_type": "stream",
     "text": [
      "Duração: 2.687335\n",
      "Recall: 0.49491525423728816\n"
     ]
    }
   ],
   "source": [
    "avaliacaoRecall(True)"
   ]
  },
  {
   "cell_type": "code",
   "execution_count": 502,
   "id": "c5be6c1c",
   "metadata": {},
   "outputs": [
    {
     "name": "stdout",
     "output_type": "stream",
     "text": [
      "P@ 5: 0.098983 \n"
     ]
    }
   ],
   "source": [
    "avaliacaoPrecision(True,5)"
   ]
  },
  {
   "cell_type": "code",
   "execution_count": 503,
   "id": "bc7ef7c1",
   "metadata": {},
   "outputs": [
    {
     "name": "stdout",
     "output_type": "stream",
     "text": [
      "MAP@ 5: 0.002056\n"
     ]
    }
   ],
   "source": [
    "avaliacaoMAP(True,5)"
   ]
  },
  {
   "cell_type": "code",
   "execution_count": 504,
   "id": "c696cc2f",
   "metadata": {},
   "outputs": [
    {
     "name": "stdout",
     "output_type": "stream",
     "text": [
      "RR: 0.308475\n"
     ]
    }
   ],
   "source": [
    "avaliacaoRR(True)"
   ]
  },
  {
   "cell_type": "markdown",
   "id": "b52e6b26",
   "metadata": {},
   "source": [
    "#### TOP K 10"
   ]
  },
  {
   "cell_type": "code",
   "execution_count": 505,
   "id": "e360b96e",
   "metadata": {},
   "outputs": [],
   "source": [
    "retriever = retrieve.Elastic(es=es,on=[\"content\"],index=indice,key=\"name\",k=10)"
   ]
  },
  {
   "cell_type": "code",
   "execution_count": 506,
   "id": "83dd7446",
   "metadata": {},
   "outputs": [
    {
     "name": "stdout",
     "output_type": "stream",
     "text": [
      "Duração: 3.352003\n",
      "Recall: 0.535593220338983\n"
     ]
    }
   ],
   "source": [
    "avaliacaoRecall(True)"
   ]
  },
  {
   "cell_type": "code",
   "execution_count": 507,
   "id": "5ca259c3",
   "metadata": {},
   "outputs": [
    {
     "name": "stdout",
     "output_type": "stream",
     "text": [
      "P@ 10: 0.053559 \n"
     ]
    }
   ],
   "source": [
    "avaliacaoPrecision(True,10)"
   ]
  },
  {
   "cell_type": "code",
   "execution_count": 508,
   "id": "cd099d5f",
   "metadata": {},
   "outputs": [
    {
     "name": "stdout",
     "output_type": "stream",
     "text": [
      "MAP@ 10: 0.001138\n"
     ]
    }
   ],
   "source": [
    "avaliacaoMAP(True,10)"
   ]
  },
  {
   "cell_type": "code",
   "execution_count": 509,
   "id": "eaa3e5bb",
   "metadata": {},
   "outputs": [
    {
     "name": "stdout",
     "output_type": "stream",
     "text": [
      "RR: 0.308475\n"
     ]
    }
   ],
   "source": [
    "avaliacaoRR(True)"
   ]
  },
  {
   "cell_type": "markdown",
   "id": "920e18e8",
   "metadata": {},
   "source": [
    "#### TOP K 20"
   ]
  },
  {
   "cell_type": "code",
   "execution_count": 510,
   "id": "05a7ee38",
   "metadata": {},
   "outputs": [],
   "source": [
    "retriever = retrieve.Elastic(es=es,on=[\"content\"],index=indice,key=\"name\",k=20)"
   ]
  },
  {
   "cell_type": "code",
   "execution_count": 511,
   "id": "ac93619f",
   "metadata": {},
   "outputs": [
    {
     "name": "stdout",
     "output_type": "stream",
     "text": [
      "Duração: 3.399030\n",
      "Recall: 0.5830508474576271\n"
     ]
    }
   ],
   "source": [
    "avaliacaoRecall(True)"
   ]
  },
  {
   "cell_type": "code",
   "execution_count": 512,
   "id": "6d37d5d3",
   "metadata": {},
   "outputs": [
    {
     "name": "stdout",
     "output_type": "stream",
     "text": [
      "P@ 20: 0.029153 \n"
     ]
    }
   ],
   "source": [
    "avaliacaoPrecision(True,20)"
   ]
  },
  {
   "cell_type": "code",
   "execution_count": 513,
   "id": "de51b080",
   "metadata": {},
   "outputs": [
    {
     "name": "stdout",
     "output_type": "stream",
     "text": [
      "MAP@ 20: 0.000694\n"
     ]
    }
   ],
   "source": [
    "avaliacaoMAP(True,20)"
   ]
  },
  {
   "cell_type": "code",
   "execution_count": 514,
   "id": "5ea5f9ba",
   "metadata": {},
   "outputs": [
    {
     "name": "stdout",
     "output_type": "stream",
     "text": [
      "RR: 0.308475\n"
     ]
    }
   ],
   "source": [
    "avaliacaoRR(True)"
   ]
  },
  {
   "cell_type": "markdown",
   "id": "15d5359d",
   "metadata": {},
   "source": [
    "# Word n-gram + pré processamento básico + Savoy"
   ]
  },
  {
   "cell_type": "markdown",
   "id": "4d8cdc70",
   "metadata": {},
   "source": [
    "## 26- Letra mínuscula + remoção de pontuação, acentuação e stopword + stemming (Savoy) + unigram + bigram"
   ]
  },
  {
   "cell_type": "code",
   "execution_count": 515,
   "id": "551073d0",
   "metadata": {},
   "outputs": [],
   "source": [
    "def _remove_acentos(txt):\n",
    "    return normalize('NFKD', txt).encode('ASCII', 'ignore').decode('ASCII')\n",
    "\n",
    "def preprocess(txt):\n",
    "    txt = _remove_acentos(txt)\n",
    "    stopwords = nltk.corpus.stopwords.words(\"portuguese\")\n",
    "    stopwords.extend(list(punctuation))\n",
    "\n",
    "    stemmer = Savoy()\n",
    "    tokenizer = RegexpTokenizer('\\w+')\n",
    "    terms = tokenizer.tokenize(txt.lower())\n",
    "    terms = [stemmer.stem(word) for word in terms if word not in stopwords]\n",
    "    \n",
    "    ngram = []\n",
    "    ngram_1 = list(ngrams(terms, 1))\n",
    "    ngram_2 = list(ngrams(terms, 2))\n",
    "    for w in ngram_1:\n",
    "        ngram.append(w[0])\n",
    "        \n",
    "    for w in ngram_2:\n",
    "        string = w[0] + \"_\" + w[1]\n",
    "        ngram.append(string)\n",
    "    \n",
    "    return \" \".join(ngram)\n"
   ]
  },
  {
   "cell_type": "code",
   "execution_count": 516,
   "id": "02a816e5",
   "metadata": {},
   "outputs": [],
   "source": [
    "indice = \"preprocessamento_21_emenda_indexacao\""
   ]
  },
  {
   "cell_type": "markdown",
   "id": "e03c1a24",
   "metadata": {},
   "source": [
    "## Avaliação"
   ]
  },
  {
   "cell_type": "markdown",
   "id": "bae2afff",
   "metadata": {},
   "source": [
    "#### TOP K 5"
   ]
  },
  {
   "cell_type": "code",
   "execution_count": 517,
   "id": "26aca80f",
   "metadata": {},
   "outputs": [],
   "source": [
    "retriever = retrieve.Elastic(es=es,on=[\"content\"],index=indice,key=\"name\",k=5)"
   ]
  },
  {
   "cell_type": "code",
   "execution_count": 518,
   "id": "7654c2b1",
   "metadata": {},
   "outputs": [
    {
     "name": "stdout",
     "output_type": "stream",
     "text": [
      "Duração: 2.174809\n",
      "Recall: 0.48135593220338985\n"
     ]
    }
   ],
   "source": [
    "avaliacaoRecall(True)"
   ]
  },
  {
   "cell_type": "code",
   "execution_count": 519,
   "id": "b8080cc0",
   "metadata": {},
   "outputs": [
    {
     "name": "stdout",
     "output_type": "stream",
     "text": [
      "P@ 5: 0.096271 \n"
     ]
    }
   ],
   "source": [
    "avaliacaoPrecision(True,5)"
   ]
  },
  {
   "cell_type": "code",
   "execution_count": 520,
   "id": "39fa6378",
   "metadata": {},
   "outputs": [
    {
     "name": "stdout",
     "output_type": "stream",
     "text": [
      "MAP@ 5: 0.002031\n"
     ]
    }
   ],
   "source": [
    "avaliacaoMAP(True,5)"
   ]
  },
  {
   "cell_type": "code",
   "execution_count": 521,
   "id": "fd9b96a4",
   "metadata": {},
   "outputs": [
    {
     "name": "stdout",
     "output_type": "stream",
     "text": [
      "RR: 0.308475\n"
     ]
    }
   ],
   "source": [
    "avaliacaoRR(True)"
   ]
  },
  {
   "cell_type": "markdown",
   "id": "ecfaebfb",
   "metadata": {},
   "source": [
    "#### TOP K 10"
   ]
  },
  {
   "cell_type": "code",
   "execution_count": 522,
   "id": "fd6d2fa6",
   "metadata": {},
   "outputs": [],
   "source": [
    "retriever = retrieve.Elastic(es=es,on=[\"content\"],index=indice,key=\"name\",k=10)"
   ]
  },
  {
   "cell_type": "code",
   "execution_count": 523,
   "id": "d5ab9bbf",
   "metadata": {},
   "outputs": [
    {
     "name": "stdout",
     "output_type": "stream",
     "text": [
      "Duração: 2.279386\n",
      "Recall: 0.5322033898305085\n"
     ]
    }
   ],
   "source": [
    "avaliacaoRecall(True)"
   ]
  },
  {
   "cell_type": "code",
   "execution_count": 524,
   "id": "084b69dd",
   "metadata": {},
   "outputs": [
    {
     "name": "stdout",
     "output_type": "stream",
     "text": [
      "P@ 10: 0.053220 \n"
     ]
    }
   ],
   "source": [
    "avaliacaoPrecision(True,10)"
   ]
  },
  {
   "cell_type": "code",
   "execution_count": 525,
   "id": "35529172",
   "metadata": {},
   "outputs": [
    {
     "name": "stdout",
     "output_type": "stream",
     "text": [
      "MAP@ 10: 0.001116\n"
     ]
    }
   ],
   "source": [
    "avaliacaoMAP(True,10)"
   ]
  },
  {
   "cell_type": "code",
   "execution_count": 526,
   "id": "f7646c29",
   "metadata": {},
   "outputs": [
    {
     "name": "stdout",
     "output_type": "stream",
     "text": [
      "RR: 0.308475\n"
     ]
    }
   ],
   "source": [
    "avaliacaoRR(True)"
   ]
  },
  {
   "cell_type": "markdown",
   "id": "1e2131f9",
   "metadata": {},
   "source": [
    "#### TOP K 20"
   ]
  },
  {
   "cell_type": "code",
   "execution_count": 527,
   "id": "44f6fb74",
   "metadata": {},
   "outputs": [],
   "source": [
    "retriever = retrieve.Elastic(es=es,on=[\"content\"],index=indice,key=\"name\",k=20)"
   ]
  },
  {
   "cell_type": "code",
   "execution_count": 528,
   "id": "dbb66ce7",
   "metadata": {},
   "outputs": [
    {
     "name": "stdout",
     "output_type": "stream",
     "text": [
      "Duração: 2.430792\n",
      "Recall: 0.5830508474576271\n"
     ]
    }
   ],
   "source": [
    "avaliacaoRecall(True)"
   ]
  },
  {
   "cell_type": "code",
   "execution_count": 529,
   "id": "6ccc4d61",
   "metadata": {},
   "outputs": [
    {
     "name": "stdout",
     "output_type": "stream",
     "text": [
      "P@ 20: 0.029153 \n"
     ]
    }
   ],
   "source": [
    "avaliacaoPrecision(True,20)"
   ]
  },
  {
   "cell_type": "code",
   "execution_count": 530,
   "id": "463a10c8",
   "metadata": {},
   "outputs": [
    {
     "name": "stdout",
     "output_type": "stream",
     "text": [
      "MAP@ 20: 0.000671\n"
     ]
    }
   ],
   "source": [
    "avaliacaoMAP(True,20)"
   ]
  },
  {
   "cell_type": "code",
   "execution_count": 531,
   "id": "97d54613",
   "metadata": {},
   "outputs": [
    {
     "name": "stdout",
     "output_type": "stream",
     "text": [
      "RR: 0.308475\n"
     ]
    }
   ],
   "source": [
    "avaliacaoRR(True)"
   ]
  },
  {
   "cell_type": "markdown",
   "id": "8dff001e",
   "metadata": {},
   "source": [
    "## 22- Letra mínuscula + remoção de pontuação + remoção de acentuação e remoção de stopword + stemming (RSLP-S)"
   ]
  },
  {
   "cell_type": "code",
   "execution_count": 532,
   "id": "8fb298d7",
   "metadata": {},
   "outputs": [],
   "source": [
    "def _remove_acentos(txt):\n",
    "    return normalize('NFKD', txt).encode('ASCII', 'ignore').decode('ASCII')\n",
    "\n",
    "def preprocess(txt):\n",
    "    txt = _remove_acentos(txt)\n",
    "    stopwords = nltk.corpus.stopwords.words(\"portuguese\")\n",
    "    stopwords.extend(list(punctuation))\n",
    "\n",
    "    stemmer = RSLP_S()\n",
    "    tokenizer = RegexpTokenizer('\\w+')\n",
    "    terms = tokenizer.tokenize(txt.lower())\n",
    "    terms = [stemmer.stem(word) for word in terms if word not in stopwords]\n",
    "        \n",
    "    return \" \".join(terms)"
   ]
  },
  {
   "cell_type": "code",
   "execution_count": 533,
   "id": "2e31c5c8",
   "metadata": {},
   "outputs": [],
   "source": [
    "indice = \"preprocessamento_22_emenda_indexacao\""
   ]
  },
  {
   "cell_type": "markdown",
   "id": "4215ba11",
   "metadata": {},
   "source": [
    "## Avaliação"
   ]
  },
  {
   "cell_type": "markdown",
   "id": "29412466",
   "metadata": {},
   "source": [
    "#### TOP K 5"
   ]
  },
  {
   "cell_type": "code",
   "execution_count": 534,
   "id": "183d8bcb",
   "metadata": {},
   "outputs": [],
   "source": [
    "retriever = retrieve.Elastic(es=es,on=[\"content\"],index=indice,key=\"name\",k=5)"
   ]
  },
  {
   "cell_type": "code",
   "execution_count": 535,
   "id": "fd9b9fdd",
   "metadata": {},
   "outputs": [
    {
     "name": "stdout",
     "output_type": "stream",
     "text": [
      "Duração: 1.670764\n",
      "Recall: 0.488135593220339\n"
     ]
    }
   ],
   "source": [
    "avaliacaoRecall(True)"
   ]
  },
  {
   "cell_type": "code",
   "execution_count": 536,
   "id": "8534135b",
   "metadata": {},
   "outputs": [
    {
     "name": "stdout",
     "output_type": "stream",
     "text": [
      "P@ 5: 0.097627 \n"
     ]
    }
   ],
   "source": [
    "avaliacaoPrecision(True,5)"
   ]
  },
  {
   "cell_type": "code",
   "execution_count": 537,
   "id": "07045d8d",
   "metadata": {},
   "outputs": [
    {
     "name": "stdout",
     "output_type": "stream",
     "text": [
      "MAP@ 5: 0.002071\n"
     ]
    }
   ],
   "source": [
    "avaliacaoMAP(True,5)"
   ]
  },
  {
   "cell_type": "code",
   "execution_count": 538,
   "id": "bcf91d95",
   "metadata": {},
   "outputs": [
    {
     "name": "stdout",
     "output_type": "stream",
     "text": [
      "RR: 0.288136\n"
     ]
    }
   ],
   "source": [
    "avaliacaoRR(True)"
   ]
  },
  {
   "cell_type": "markdown",
   "id": "97a8ce20",
   "metadata": {},
   "source": [
    "#### TOP K 10"
   ]
  },
  {
   "cell_type": "code",
   "execution_count": 539,
   "id": "a5ddf239",
   "metadata": {},
   "outputs": [],
   "source": [
    "retriever = retrieve.Elastic(es=es,on=[\"content\"],index=indice,key=\"name\",k=10)"
   ]
  },
  {
   "cell_type": "code",
   "execution_count": 540,
   "id": "8b15f825",
   "metadata": {},
   "outputs": [
    {
     "name": "stdout",
     "output_type": "stream",
     "text": [
      "Duração: 1.747652\n",
      "Recall: 0.5627118644067797\n"
     ]
    }
   ],
   "source": [
    "avaliacaoRecall(True)"
   ]
  },
  {
   "cell_type": "code",
   "execution_count": 541,
   "id": "b50f00d8",
   "metadata": {},
   "outputs": [
    {
     "name": "stdout",
     "output_type": "stream",
     "text": [
      "P@ 10: 0.056271 \n"
     ]
    }
   ],
   "source": [
    "avaliacaoPrecision(True,10)"
   ]
  },
  {
   "cell_type": "code",
   "execution_count": 542,
   "id": "018f3fc7",
   "metadata": {},
   "outputs": [
    {
     "name": "stdout",
     "output_type": "stream",
     "text": [
      "MAP@ 10: 0.001163\n"
     ]
    }
   ],
   "source": [
    "avaliacaoMAP(True,10)"
   ]
  },
  {
   "cell_type": "code",
   "execution_count": 543,
   "id": "8ddd42be",
   "metadata": {},
   "outputs": [
    {
     "name": "stdout",
     "output_type": "stream",
     "text": [
      "RR: 0.288136\n"
     ]
    }
   ],
   "source": [
    "avaliacaoRR(True)"
   ]
  },
  {
   "cell_type": "markdown",
   "id": "257a7553",
   "metadata": {},
   "source": [
    "#### TOP K 20"
   ]
  },
  {
   "cell_type": "code",
   "execution_count": 544,
   "id": "a4566996",
   "metadata": {},
   "outputs": [],
   "source": [
    "retriever = retrieve.Elastic(es=es,on=[\"content\"],index=indice,key=\"name\",k=20)"
   ]
  },
  {
   "cell_type": "code",
   "execution_count": 545,
   "id": "6959f218",
   "metadata": {},
   "outputs": [
    {
     "name": "stdout",
     "output_type": "stream",
     "text": [
      "Duração: 1.920639\n",
      "Recall: 0.5932203389830508\n"
     ]
    }
   ],
   "source": [
    "avaliacaoRecall(True)"
   ]
  },
  {
   "cell_type": "code",
   "execution_count": 546,
   "id": "31617c3a",
   "metadata": {},
   "outputs": [
    {
     "name": "stdout",
     "output_type": "stream",
     "text": [
      "P@ 20: 0.029661 \n"
     ]
    }
   ],
   "source": [
    "avaliacaoPrecision(True,20)"
   ]
  },
  {
   "cell_type": "code",
   "execution_count": 547,
   "id": "a016177b",
   "metadata": {},
   "outputs": [
    {
     "name": "stdout",
     "output_type": "stream",
     "text": [
      "MAP@ 20: 0.000691\n"
     ]
    }
   ],
   "source": [
    "avaliacaoMAP(True,20)"
   ]
  },
  {
   "cell_type": "code",
   "execution_count": 548,
   "id": "64a3b3b2",
   "metadata": {},
   "outputs": [
    {
     "name": "stdout",
     "output_type": "stream",
     "text": [
      "RR: 0.288136\n"
     ]
    }
   ],
   "source": [
    "avaliacaoRR(True)"
   ]
  },
  {
   "cell_type": "markdown",
   "id": "3aa84982",
   "metadata": {},
   "source": [
    "## 23- Letra mínuscula + remoção de pontuação, acentuação e stopword + stemming (RSLP-S) + unigram + bigram"
   ]
  },
  {
   "cell_type": "code",
   "execution_count": 549,
   "id": "99261cee",
   "metadata": {},
   "outputs": [],
   "source": [
    "def _remove_acentos(txt):\n",
    "    return normalize('NFKD', txt).encode('ASCII', 'ignore').decode('ASCII')\n",
    "\n",
    "def preprocess(txt):\n",
    "    txt = _remove_acentos(txt)\n",
    "    stopwords = nltk.corpus.stopwords.words(\"portuguese\")\n",
    "    stopwords.extend(list(punctuation))\n",
    "\n",
    "    stemmer = RSLP_S()\n",
    "    tokenizer = RegexpTokenizer('\\w+')\n",
    "    terms = tokenizer.tokenize(txt.lower())\n",
    "    terms = [stemmer.stem(word) for word in terms if word not in stopwords]\n",
    "    \n",
    "    ngram = []\n",
    "    ngram_1 = list(ngrams(terms, 1))\n",
    "    ngram_2 = list(ngrams(terms, 2))\n",
    "    for w in ngram_1:\n",
    "        ngram.append(w[0])\n",
    "        \n",
    "    for w in ngram_2:\n",
    "        string = w[0] + \"_\" + w[1]\n",
    "        ngram.append(string)\n",
    "    \n",
    "    return \" \".join(ngram)\n"
   ]
  },
  {
   "cell_type": "code",
   "execution_count": 550,
   "id": "ef473341",
   "metadata": {},
   "outputs": [],
   "source": [
    "indice = \"preprocessamento_23_emenda_indexacao\""
   ]
  },
  {
   "cell_type": "markdown",
   "id": "28db8e98",
   "metadata": {},
   "source": [
    "## Avaliação"
   ]
  },
  {
   "cell_type": "markdown",
   "id": "bed7a095",
   "metadata": {},
   "source": [
    "#### TOP K 5"
   ]
  },
  {
   "cell_type": "code",
   "execution_count": 551,
   "id": "8bae37b6",
   "metadata": {},
   "outputs": [],
   "source": [
    "retriever = retrieve.Elastic(es=es,on=[\"content\"],index=indice,key=\"name\",k=5)"
   ]
  },
  {
   "cell_type": "code",
   "execution_count": 552,
   "id": "7718154f",
   "metadata": {},
   "outputs": [
    {
     "name": "stdout",
     "output_type": "stream",
     "text": [
      "Duração: 2.305203\n",
      "Recall: 0.47796610169491527\n"
     ]
    }
   ],
   "source": [
    "avaliacaoRecall(True)"
   ]
  },
  {
   "cell_type": "code",
   "execution_count": 553,
   "id": "ff9b0ce8",
   "metadata": {},
   "outputs": [
    {
     "name": "stdout",
     "output_type": "stream",
     "text": [
      "P@ 5: 0.095593 \n"
     ]
    }
   ],
   "source": [
    "avaliacaoPrecision(True,5)"
   ]
  },
  {
   "cell_type": "code",
   "execution_count": 554,
   "id": "ff05cc30",
   "metadata": {},
   "outputs": [
    {
     "name": "stdout",
     "output_type": "stream",
     "text": [
      "MAP@ 5: 0.001901\n"
     ]
    }
   ],
   "source": [
    "avaliacaoMAP(True,5)"
   ]
  },
  {
   "cell_type": "code",
   "execution_count": 555,
   "id": "38389d0d",
   "metadata": {},
   "outputs": [
    {
     "name": "stdout",
     "output_type": "stream",
     "text": [
      "RR: 0.308475\n"
     ]
    }
   ],
   "source": [
    "avaliacaoRR(True)"
   ]
  },
  {
   "cell_type": "markdown",
   "id": "a4c2b13c",
   "metadata": {},
   "source": [
    "#### TOP K 10"
   ]
  },
  {
   "cell_type": "code",
   "execution_count": 556,
   "id": "51d894cd",
   "metadata": {},
   "outputs": [],
   "source": [
    "retriever = retrieve.Elastic(es=es,on=[\"content\"],index=indice,key=\"name\",k=10)"
   ]
  },
  {
   "cell_type": "code",
   "execution_count": 557,
   "id": "5eb92ea3",
   "metadata": {},
   "outputs": [
    {
     "name": "stdout",
     "output_type": "stream",
     "text": [
      "Duração: 2.172427\n",
      "Recall: 0.5288135593220339\n"
     ]
    }
   ],
   "source": [
    "avaliacaoRecall(True)"
   ]
  },
  {
   "cell_type": "code",
   "execution_count": 558,
   "id": "c834c993",
   "metadata": {},
   "outputs": [
    {
     "name": "stdout",
     "output_type": "stream",
     "text": [
      "P@ 10: 0.052881 \n"
     ]
    }
   ],
   "source": [
    "avaliacaoPrecision(True,10)"
   ]
  },
  {
   "cell_type": "code",
   "execution_count": 559,
   "id": "24bc7d75",
   "metadata": {},
   "outputs": [
    {
     "name": "stdout",
     "output_type": "stream",
     "text": [
      "MAP@ 10: 0.001115\n"
     ]
    }
   ],
   "source": [
    "avaliacaoMAP(True,10)"
   ]
  },
  {
   "cell_type": "code",
   "execution_count": 560,
   "id": "4a5909a3",
   "metadata": {},
   "outputs": [
    {
     "name": "stdout",
     "output_type": "stream",
     "text": [
      "RR: 0.308475\n"
     ]
    }
   ],
   "source": [
    "avaliacaoRR(True)"
   ]
  },
  {
   "cell_type": "markdown",
   "id": "787a2ae2",
   "metadata": {},
   "source": [
    "#### TOP K 20"
   ]
  },
  {
   "cell_type": "code",
   "execution_count": 561,
   "id": "457e4eda",
   "metadata": {},
   "outputs": [],
   "source": [
    "retriever = retrieve.Elastic(es=es,on=[\"content\"],index=indice,key=\"name\",k=20)"
   ]
  },
  {
   "cell_type": "code",
   "execution_count": 562,
   "id": "6247c39b",
   "metadata": {},
   "outputs": [
    {
     "name": "stdout",
     "output_type": "stream",
     "text": [
      "Duração: 2.377127\n",
      "Recall: 0.5796610169491525\n"
     ]
    }
   ],
   "source": [
    "avaliacaoRecall(True)"
   ]
  },
  {
   "cell_type": "code",
   "execution_count": 563,
   "id": "b9d6b7c3",
   "metadata": {},
   "outputs": [
    {
     "name": "stdout",
     "output_type": "stream",
     "text": [
      "P@ 20: 0.028983 \n"
     ]
    }
   ],
   "source": [
    "avaliacaoPrecision(True,20)"
   ]
  },
  {
   "cell_type": "code",
   "execution_count": 564,
   "id": "f07b580c",
   "metadata": {},
   "outputs": [
    {
     "name": "stdout",
     "output_type": "stream",
     "text": [
      "MAP@ 20: 0.000671\n"
     ]
    }
   ],
   "source": [
    "avaliacaoMAP(True,20)"
   ]
  },
  {
   "cell_type": "code",
   "execution_count": 565,
   "id": "7ecd4575",
   "metadata": {},
   "outputs": [
    {
     "name": "stdout",
     "output_type": "stream",
     "text": [
      "RR: 0.308475\n"
     ]
    }
   ],
   "source": [
    "avaliacaoRR(True)"
   ]
  }
 ],
 "metadata": {
  "kernelspec": {
   "display_name": "Python 3 (ipykernel)",
   "language": "python",
   "name": "python3"
  },
  "language_info": {
   "codemirror_mode": {
    "name": "ipython",
    "version": 3
   },
   "file_extension": ".py",
   "mimetype": "text/x-python",
   "name": "python",
   "nbconvert_exporter": "python",
   "pygments_lexer": "ipython3",
   "version": "3.8.7"
  }
 },
 "nbformat": 4,
 "nbformat_minor": 5
}
